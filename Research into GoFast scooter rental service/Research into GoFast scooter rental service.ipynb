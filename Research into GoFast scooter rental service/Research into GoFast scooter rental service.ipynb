{
 "cells": [
  {
   "cell_type": "markdown",
   "id": "68bfef83",
   "metadata": {},
   "source": [
    "# Исследование сервиса аренды самокатов GoFast"
   ]
  },
  {
   "cell_type": "markdown",
   "id": "90775a4e",
   "metadata": {},
   "source": [
    "Вы аналитик популярного сервиса аренды самокатов GoFast. Вам передали данные о некоторых пользователях из нескольких городов, а также об их поездках. Проанализируйте данные и проверьте некоторые гипотезы, которые могут помочь бизнесу вырасти.\n",
    "Чтобы совершать поездки по городу, пользователи сервиса GoFast пользуются мобильным приложением. Сервисом можно пользоваться:"
   ]
  },
  {
   "cell_type": "markdown",
   "id": "69312ca3",
   "metadata": {},
   "source": [
    "**Тарифы:**"
   ]
  },
  {
   "cell_type": "markdown",
   "id": "51b86d6d",
   "metadata": {},
   "source": [
    "**без подписки**\n",
    "- абонентская плата отсутствует;\n",
    "- стоимость одной минуты поездки — 8 рублей;\n",
    "- стоимость старта (начала поездки) — 50 рублей;\n",
    "\n",
    "**с подпиской Ultra**\n",
    "- абонентская плата — 199 рублей в месяц;\n",
    "- стоимость одной минуты поездки — 6 рублей;\n",
    "- стоимость старта — бесплатно."
   ]
  },
  {
   "cell_type": "markdown",
   "id": "472ac0c0",
   "metadata": {},
   "source": [
    "**Задачи:**\n",
    "\n",
    "**1. Загрузка данных.**\n",
    "\n",
    "   1.1 Считайте CSV-файлы с данными.\n",
    "   \n",
    "   1.2 Выведите первые строки каждого набора данных. Изучите общую информацию о каждом датафрейме.\n",
    "\n",
    "**2. Предобработка данных**\n",
    "\n",
    "   2.1 Привеcти столбец date к типу даты pandas.\n",
    "    \n",
    "   2.2 Создайте новый столбец с номером месяца на основе столбца date.\n",
    "    \n",
    "   2.3 Проверьте наличие пропущенных значений и дубликатов в датафреймах. Обработайте их, если такие значения присутствуют.\n",
    "\n",
    "**3. Исследовательский анализ данных.** Опишите и визуализируйте общую информацию о пользователях и поездках:\n",
    "    \n",
    "   3.1 частота встречаемости городов;\n",
    "    \n",
    "   3.2 соотношение пользователей с подпиской и без подписки;\n",
    "    \n",
    "   3.3 возраст пользователей;\n",
    "    \n",
    "   3.4 расстояние, которое пользователь преодолел за одну поездку;\n",
    "    \n",
    "   3.5 продолжительность поездок.\n",
    "\n",
    "**4. Объединение данных.**\n",
    "\n",
    "   4.1 Объедините данные о пользователях, поездках и подписках в один датафрейм. Для этого воспользуйтесь методом merge().\n",
    "    \n",
    "   4.2 Создайте ещё два датафрейма из датафрейма, созданного на этапе 4.1:\n",
    "   \n",
    "   - c данными о пользователях без подписки;\n",
    "   - с данными о пользователях с подпиской.\n",
    "    \n",
    "   4.3 Визуализируйте информацию о расстоянии и времени поездок для пользователей обеих категорий.\n",
    "\n",
    "**5. Подсчёт выручки.**\n",
    "\n",
    "   5.1 Создайте датафрейм с агрегированными данными о поездках на основе датафрейма с объединёнными данными из шага 4: найдите суммарное расстояние, количество поездок и суммарное время для каждого пользователя за каждый месяц.\n",
    "    \n",
    "   5.2 В этот же датафрейм добавьте столбец с помесячной выручкой, которую принёс каждый пользователь. Для этого обратитесь к информации об условиях оплаты для подписчиков и тех, у кого нет подписки. Продолжительность каждой поездки в каждой строке исходного датафрейма для подсчёта стоимости округляется до следующего целого числа: например, значения 25.3, 25.5 и 26.0 должны быть преобразованы к 26.\n",
    "\n",
    "**6. Проверка гипотез.**\n",
    "\n",
    "   6.1 Важно понять, тратят ли пользователи с подпиской больше времени на поездки? Если да, то пользователи с подпиской могут быть «выгоднее» для компании. Проверьте гипотезу. Используйте исходные данные о продолжительности каждой сессии — отдельно для подписчиков и тех, у кого нет подписки.\n",
    "   \n",
    "   6.2 Расстояние одной поездки в 3130 метров — оптимальное с точки зрения износа самоката. Можно ли сказать, что среднее расстояние, которое проезжают пользователи с подпиской за одну поездку, не превышает 3130 метров? Проверьте гипотезу и сделайте выводы.\n",
    "\n",
    "   6.3 Проверьте гипотезу о том, будет ли помесячная выручка от пользователей с подпиской по месяцам выше, чем выручка от пользователей без подписки. Сделайте вывод.\n",
    "   \n",
    "   6.4 Представьте такую ситуацию: техническая команда сервиса обновила сервера, с которыми взаимодействует мобильное приложение. Она надеется, что из-за этого количество обращений в техподдержку значимо снизилось. Некоторый файл содержит для каждого пользователя данные о количестве обращений до обновления и после него. Какой тест вам понадобился бы для проверки этой гипотезы?"
   ]
  },
  {
   "cell_type": "markdown",
   "id": "36c54506",
   "metadata": {},
   "source": [
    "**Описание данных**"
   ]
  },
  {
   "cell_type": "markdown",
   "id": "fe04f40c",
   "metadata": {},
   "source": [
    "**Пользователи — users_go.csv**\n",
    "\n",
    "user_id\t- уникальный идентификатор пользователя\n",
    "\n",
    "name - имя пользователя\n",
    "\n",
    "age - возраст\n",
    "\n",
    "city - город\n",
    "\n",
    "subscription_type - тип подписки (free, ultra)"
   ]
  },
  {
   "cell_type": "markdown",
   "id": "8ccc9d6f",
   "metadata": {},
   "source": [
    "**Поездки — rides_go.csv**\n",
    "\n",
    "user_id\t- уникальный идентификатор пользователя\n",
    "\n",
    "distance - расстояние, которое пользователь проехал в текущей сессии (в метрах)\n",
    "\n",
    "duration - продолжительность сессии (в минутах) — время с того момента, как пользователь нажал кнопку «Начать поездку» до момента, как он нажал кнопку «Завершить поездку»\n",
    "\n",
    "date - дата совершения поездки"
   ]
  },
  {
   "cell_type": "markdown",
   "id": "18bd5166",
   "metadata": {},
   "source": [
    "**Подписки — subscriptions_go.csv**\n",
    "\n",
    "subscription_type - тип подписки\n",
    "\n",
    "minute_price - стоимость одной минуты поездки по данной подписке\n",
    "\n",
    "start_ride_price - стоимость начала поездки\n",
    "\n",
    "subscription_fee - стоимость ежемесячного платежа"
   ]
  },
  {
   "cell_type": "markdown",
   "id": "c42cbe00",
   "metadata": {},
   "source": [
    "#### Шаг 1. Загрузка данных"
   ]
  },
  {
   "cell_type": "markdown",
   "id": "2abc2740",
   "metadata": {},
   "source": [
    "**Импортируем необходимые библиотеки**"
   ]
  },
  {
   "cell_type": "code",
   "execution_count": 1,
   "id": "eff9f206",
   "metadata": {},
   "outputs": [],
   "source": [
    "import pandas as pd\n",
    "import matplotlib.pyplot as plt\n",
    "import seaborn as sns\n",
    "from scipy import stats as st\n",
    "import numpy as np"
   ]
  },
  {
   "cell_type": "markdown",
   "id": "547453c5",
   "metadata": {},
   "source": [
    "Считывам CSV-файлы с данными:"
   ]
  },
  {
   "cell_type": "code",
   "execution_count": 2,
   "id": "5f549686",
   "metadata": {},
   "outputs": [],
   "source": [
    "users = pd.read_csv('/datasets/users_go.csv')\n",
    "rides = pd.read_csv('/datasets/rides_go.csv')\n",
    "subscriptions = pd.read_csv('/datasets/subscriptions_go.csv')"
   ]
  },
  {
   "cell_type": "markdown",
   "id": "fc75c996",
   "metadata": {},
   "source": [
    "Проверим данные на пропущенные значения:"
   ]
  },
  {
   "cell_type": "code",
   "execution_count": 3,
   "id": "49838cea",
   "metadata": {},
   "outputs": [
    {
     "name": "stdout",
     "output_type": "stream",
     "text": [
      "<class 'pandas.core.frame.DataFrame'>\n",
      "RangeIndex: 1565 entries, 0 to 1564\n",
      "Data columns (total 5 columns):\n",
      " #   Column             Non-Null Count  Dtype \n",
      "---  ------             --------------  ----- \n",
      " 0   user_id            1565 non-null   int64 \n",
      " 1   name               1565 non-null   object\n",
      " 2   age                1565 non-null   int64 \n",
      " 3   city               1565 non-null   object\n",
      " 4   subscription_type  1565 non-null   object\n",
      "dtypes: int64(2), object(3)\n",
      "memory usage: 61.3+ KB\n",
      "<class 'pandas.core.frame.DataFrame'>\n",
      "RangeIndex: 18068 entries, 0 to 18067\n",
      "Data columns (total 4 columns):\n",
      " #   Column    Non-Null Count  Dtype  \n",
      "---  ------    --------------  -----  \n",
      " 0   user_id   18068 non-null  int64  \n",
      " 1   distance  18068 non-null  float64\n",
      " 2   duration  18068 non-null  float64\n",
      " 3   date      18068 non-null  object \n",
      "dtypes: float64(2), int64(1), object(1)\n",
      "memory usage: 564.8+ KB\n",
      "<class 'pandas.core.frame.DataFrame'>\n",
      "RangeIndex: 2 entries, 0 to 1\n",
      "Data columns (total 4 columns):\n",
      " #   Column             Non-Null Count  Dtype \n",
      "---  ------             --------------  ----- \n",
      " 0   subscription_type  2 non-null      object\n",
      " 1   minute_price       2 non-null      int64 \n",
      " 2   start_ride_price   2 non-null      int64 \n",
      " 3   subscription_fee   2 non-null      int64 \n",
      "dtypes: int64(3), object(1)\n",
      "memory usage: 192.0+ bytes\n"
     ]
    }
   ],
   "source": [
    "users.info()\n",
    "rides.info()\n",
    "subscriptions.info()"
   ]
  },
  {
   "cell_type": "markdown",
   "id": "20611733",
   "metadata": {},
   "source": [
    "Посмотрим на каждую таблицу:"
   ]
  },
  {
   "cell_type": "code",
   "execution_count": 4,
   "id": "228bfe43",
   "metadata": {},
   "outputs": [
    {
     "data": {
      "text/html": [
       "<div>\n",
       "<style scoped>\n",
       "    .dataframe tbody tr th:only-of-type {\n",
       "        vertical-align: middle;\n",
       "    }\n",
       "\n",
       "    .dataframe tbody tr th {\n",
       "        vertical-align: top;\n",
       "    }\n",
       "\n",
       "    .dataframe thead th {\n",
       "        text-align: right;\n",
       "    }\n",
       "</style>\n",
       "<table border=\"1\" class=\"dataframe\">\n",
       "  <thead>\n",
       "    <tr style=\"text-align: right;\">\n",
       "      <th></th>\n",
       "      <th>user_id</th>\n",
       "      <th>name</th>\n",
       "      <th>age</th>\n",
       "      <th>city</th>\n",
       "      <th>subscription_type</th>\n",
       "    </tr>\n",
       "  </thead>\n",
       "  <tbody>\n",
       "    <tr>\n",
       "      <th>0</th>\n",
       "      <td>1</td>\n",
       "      <td>Кира</td>\n",
       "      <td>22</td>\n",
       "      <td>Тюмень</td>\n",
       "      <td>ultra</td>\n",
       "    </tr>\n",
       "    <tr>\n",
       "      <th>1</th>\n",
       "      <td>2</td>\n",
       "      <td>Станислав</td>\n",
       "      <td>31</td>\n",
       "      <td>Омск</td>\n",
       "      <td>ultra</td>\n",
       "    </tr>\n",
       "    <tr>\n",
       "      <th>2</th>\n",
       "      <td>3</td>\n",
       "      <td>Алексей</td>\n",
       "      <td>20</td>\n",
       "      <td>Москва</td>\n",
       "      <td>ultra</td>\n",
       "    </tr>\n",
       "    <tr>\n",
       "      <th>3</th>\n",
       "      <td>4</td>\n",
       "      <td>Константин</td>\n",
       "      <td>26</td>\n",
       "      <td>Ростов-на-Дону</td>\n",
       "      <td>ultra</td>\n",
       "    </tr>\n",
       "    <tr>\n",
       "      <th>4</th>\n",
       "      <td>5</td>\n",
       "      <td>Адель</td>\n",
       "      <td>28</td>\n",
       "      <td>Омск</td>\n",
       "      <td>ultra</td>\n",
       "    </tr>\n",
       "  </tbody>\n",
       "</table>\n",
       "</div>"
      ],
      "text/plain": [
       "   user_id        name  age            city subscription_type\n",
       "0        1        Кира   22          Тюмень             ultra\n",
       "1        2   Станислав   31            Омск             ultra\n",
       "2        3     Алексей   20          Москва             ultra\n",
       "3        4  Константин   26  Ростов-на-Дону             ultra\n",
       "4        5       Адель   28            Омск             ultra"
      ]
     },
     "execution_count": 4,
     "metadata": {},
     "output_type": "execute_result"
    }
   ],
   "source": [
    "users.head()"
   ]
  },
  {
   "cell_type": "code",
   "execution_count": 5,
   "id": "4e4fd8fd",
   "metadata": {},
   "outputs": [
    {
     "data": {
      "text/html": [
       "<div>\n",
       "<style scoped>\n",
       "    .dataframe tbody tr th:only-of-type {\n",
       "        vertical-align: middle;\n",
       "    }\n",
       "\n",
       "    .dataframe tbody tr th {\n",
       "        vertical-align: top;\n",
       "    }\n",
       "\n",
       "    .dataframe thead th {\n",
       "        text-align: right;\n",
       "    }\n",
       "</style>\n",
       "<table border=\"1\" class=\"dataframe\">\n",
       "  <thead>\n",
       "    <tr style=\"text-align: right;\">\n",
       "      <th></th>\n",
       "      <th>user_id</th>\n",
       "      <th>distance</th>\n",
       "      <th>duration</th>\n",
       "      <th>date</th>\n",
       "    </tr>\n",
       "  </thead>\n",
       "  <tbody>\n",
       "    <tr>\n",
       "      <th>0</th>\n",
       "      <td>1</td>\n",
       "      <td>4409.919140</td>\n",
       "      <td>25.599769</td>\n",
       "      <td>2021-01-01</td>\n",
       "    </tr>\n",
       "    <tr>\n",
       "      <th>1</th>\n",
       "      <td>1</td>\n",
       "      <td>2617.592153</td>\n",
       "      <td>15.816871</td>\n",
       "      <td>2021-01-18</td>\n",
       "    </tr>\n",
       "    <tr>\n",
       "      <th>2</th>\n",
       "      <td>1</td>\n",
       "      <td>754.159807</td>\n",
       "      <td>6.232113</td>\n",
       "      <td>2021-04-20</td>\n",
       "    </tr>\n",
       "    <tr>\n",
       "      <th>3</th>\n",
       "      <td>1</td>\n",
       "      <td>2694.783254</td>\n",
       "      <td>18.511000</td>\n",
       "      <td>2021-08-11</td>\n",
       "    </tr>\n",
       "    <tr>\n",
       "      <th>4</th>\n",
       "      <td>1</td>\n",
       "      <td>4028.687306</td>\n",
       "      <td>26.265803</td>\n",
       "      <td>2021-08-28</td>\n",
       "    </tr>\n",
       "  </tbody>\n",
       "</table>\n",
       "</div>"
      ],
      "text/plain": [
       "   user_id     distance   duration        date\n",
       "0        1  4409.919140  25.599769  2021-01-01\n",
       "1        1  2617.592153  15.816871  2021-01-18\n",
       "2        1   754.159807   6.232113  2021-04-20\n",
       "3        1  2694.783254  18.511000  2021-08-11\n",
       "4        1  4028.687306  26.265803  2021-08-28"
      ]
     },
     "execution_count": 5,
     "metadata": {},
     "output_type": "execute_result"
    }
   ],
   "source": [
    "rides.head()"
   ]
  },
  {
   "cell_type": "code",
   "execution_count": 6,
   "id": "bc8c64ec",
   "metadata": {},
   "outputs": [
    {
     "data": {
      "text/html": [
       "<div>\n",
       "<style scoped>\n",
       "    .dataframe tbody tr th:only-of-type {\n",
       "        vertical-align: middle;\n",
       "    }\n",
       "\n",
       "    .dataframe tbody tr th {\n",
       "        vertical-align: top;\n",
       "    }\n",
       "\n",
       "    .dataframe thead th {\n",
       "        text-align: right;\n",
       "    }\n",
       "</style>\n",
       "<table border=\"1\" class=\"dataframe\">\n",
       "  <thead>\n",
       "    <tr style=\"text-align: right;\">\n",
       "      <th></th>\n",
       "      <th>subscription_type</th>\n",
       "      <th>minute_price</th>\n",
       "      <th>start_ride_price</th>\n",
       "      <th>subscription_fee</th>\n",
       "    </tr>\n",
       "  </thead>\n",
       "  <tbody>\n",
       "    <tr>\n",
       "      <th>0</th>\n",
       "      <td>free</td>\n",
       "      <td>8</td>\n",
       "      <td>50</td>\n",
       "      <td>0</td>\n",
       "    </tr>\n",
       "    <tr>\n",
       "      <th>1</th>\n",
       "      <td>ultra</td>\n",
       "      <td>6</td>\n",
       "      <td>0</td>\n",
       "      <td>199</td>\n",
       "    </tr>\n",
       "  </tbody>\n",
       "</table>\n",
       "</div>"
      ],
      "text/plain": [
       "  subscription_type  minute_price  start_ride_price  subscription_fee\n",
       "0              free             8                50                 0\n",
       "1             ultra             6                 0               199"
      ]
     },
     "execution_count": 6,
     "metadata": {},
     "output_type": "execute_result"
    }
   ],
   "source": [
    "subscriptions.head()"
   ]
  },
  {
   "cell_type": "markdown",
   "id": "766d3615",
   "metadata": {},
   "source": [
    "**Выводы:** На первый взгляд пропуски в данных отсутствуют. Также из данных видно что в датафрейме rides столбец \"date\" типа object нужно привести к типу данных datetime."
   ]
  },
  {
   "cell_type": "markdown",
   "id": "e95ebca7",
   "metadata": {},
   "source": [
    "#### Шаг 2. Предобработка данных"
   ]
  },
  {
   "cell_type": "markdown",
   "id": "ae8363b7",
   "metadata": {},
   "source": [
    "**Приведем столбец date к типу даты pandas.**"
   ]
  },
  {
   "cell_type": "code",
   "execution_count": 7,
   "id": "172924ec",
   "metadata": {},
   "outputs": [
    {
     "name": "stdout",
     "output_type": "stream",
     "text": [
      "<class 'pandas.core.frame.DataFrame'>\n",
      "RangeIndex: 18068 entries, 0 to 18067\n",
      "Data columns (total 4 columns):\n",
      " #   Column    Non-Null Count  Dtype         \n",
      "---  ------    --------------  -----         \n",
      " 0   user_id   18068 non-null  int64         \n",
      " 1   distance  18068 non-null  float64       \n",
      " 2   duration  18068 non-null  float64       \n",
      " 3   date      18068 non-null  datetime64[ns]\n",
      "dtypes: datetime64[ns](1), float64(2), int64(1)\n",
      "memory usage: 564.8 KB\n"
     ]
    }
   ],
   "source": [
    "rides['date'] = pd.to_datetime(rides['date'], format='%Y-%m-%d')\n",
    "\n",
    "rides.info()"
   ]
  },
  {
   "cell_type": "markdown",
   "id": "7cda91dc",
   "metadata": {},
   "source": [
    "Данные соответствуют нужному типу, можно двигаться дальше"
   ]
  },
  {
   "cell_type": "markdown",
   "id": "1b732321",
   "metadata": {},
   "source": [
    "**Создадим новый столбец с номером месяца на основе столбца date.**"
   ]
  },
  {
   "cell_type": "code",
   "execution_count": 8,
   "id": "e34fc0b4",
   "metadata": {},
   "outputs": [
    {
     "data": {
      "text/html": [
       "<div>\n",
       "<style scoped>\n",
       "    .dataframe tbody tr th:only-of-type {\n",
       "        vertical-align: middle;\n",
       "    }\n",
       "\n",
       "    .dataframe tbody tr th {\n",
       "        vertical-align: top;\n",
       "    }\n",
       "\n",
       "    .dataframe thead th {\n",
       "        text-align: right;\n",
       "    }\n",
       "</style>\n",
       "<table border=\"1\" class=\"dataframe\">\n",
       "  <thead>\n",
       "    <tr style=\"text-align: right;\">\n",
       "      <th></th>\n",
       "      <th>user_id</th>\n",
       "      <th>distance</th>\n",
       "      <th>duration</th>\n",
       "      <th>date</th>\n",
       "      <th>month</th>\n",
       "    </tr>\n",
       "  </thead>\n",
       "  <tbody>\n",
       "    <tr>\n",
       "      <th>0</th>\n",
       "      <td>1</td>\n",
       "      <td>4409.919140</td>\n",
       "      <td>25.599769</td>\n",
       "      <td>2021-01-01</td>\n",
       "      <td>1</td>\n",
       "    </tr>\n",
       "    <tr>\n",
       "      <th>1</th>\n",
       "      <td>1</td>\n",
       "      <td>2617.592153</td>\n",
       "      <td>15.816871</td>\n",
       "      <td>2021-01-18</td>\n",
       "      <td>1</td>\n",
       "    </tr>\n",
       "    <tr>\n",
       "      <th>2</th>\n",
       "      <td>1</td>\n",
       "      <td>754.159807</td>\n",
       "      <td>6.232113</td>\n",
       "      <td>2021-04-20</td>\n",
       "      <td>4</td>\n",
       "    </tr>\n",
       "    <tr>\n",
       "      <th>3</th>\n",
       "      <td>1</td>\n",
       "      <td>2694.783254</td>\n",
       "      <td>18.511000</td>\n",
       "      <td>2021-08-11</td>\n",
       "      <td>8</td>\n",
       "    </tr>\n",
       "    <tr>\n",
       "      <th>4</th>\n",
       "      <td>1</td>\n",
       "      <td>4028.687306</td>\n",
       "      <td>26.265803</td>\n",
       "      <td>2021-08-28</td>\n",
       "      <td>8</td>\n",
       "    </tr>\n",
       "    <tr>\n",
       "      <th>...</th>\n",
       "      <td>...</td>\n",
       "      <td>...</td>\n",
       "      <td>...</td>\n",
       "      <td>...</td>\n",
       "      <td>...</td>\n",
       "    </tr>\n",
       "    <tr>\n",
       "      <th>18063</th>\n",
       "      <td>1534</td>\n",
       "      <td>3781.098080</td>\n",
       "      <td>19.822962</td>\n",
       "      <td>2021-11-04</td>\n",
       "      <td>11</td>\n",
       "    </tr>\n",
       "    <tr>\n",
       "      <th>18064</th>\n",
       "      <td>1534</td>\n",
       "      <td>2840.423057</td>\n",
       "      <td>21.409799</td>\n",
       "      <td>2021-11-16</td>\n",
       "      <td>11</td>\n",
       "    </tr>\n",
       "    <tr>\n",
       "      <th>18065</th>\n",
       "      <td>1534</td>\n",
       "      <td>3826.185507</td>\n",
       "      <td>18.435051</td>\n",
       "      <td>2021-11-18</td>\n",
       "      <td>11</td>\n",
       "    </tr>\n",
       "    <tr>\n",
       "      <th>18066</th>\n",
       "      <td>1534</td>\n",
       "      <td>2902.308661</td>\n",
       "      <td>16.674362</td>\n",
       "      <td>2021-11-27</td>\n",
       "      <td>11</td>\n",
       "    </tr>\n",
       "    <tr>\n",
       "      <th>18067</th>\n",
       "      <td>1534</td>\n",
       "      <td>2371.711192</td>\n",
       "      <td>15.893917</td>\n",
       "      <td>2021-12-29</td>\n",
       "      <td>12</td>\n",
       "    </tr>\n",
       "  </tbody>\n",
       "</table>\n",
       "<p>18068 rows × 5 columns</p>\n",
       "</div>"
      ],
      "text/plain": [
       "       user_id     distance   duration       date  month\n",
       "0            1  4409.919140  25.599769 2021-01-01      1\n",
       "1            1  2617.592153  15.816871 2021-01-18      1\n",
       "2            1   754.159807   6.232113 2021-04-20      4\n",
       "3            1  2694.783254  18.511000 2021-08-11      8\n",
       "4            1  4028.687306  26.265803 2021-08-28      8\n",
       "...        ...          ...        ...        ...    ...\n",
       "18063     1534  3781.098080  19.822962 2021-11-04     11\n",
       "18064     1534  2840.423057  21.409799 2021-11-16     11\n",
       "18065     1534  3826.185507  18.435051 2021-11-18     11\n",
       "18066     1534  2902.308661  16.674362 2021-11-27     11\n",
       "18067     1534  2371.711192  15.893917 2021-12-29     12\n",
       "\n",
       "[18068 rows x 5 columns]"
      ]
     },
     "execution_count": 8,
     "metadata": {},
     "output_type": "execute_result"
    }
   ],
   "source": [
    "rides['month'] = rides['date'].dt.month\n",
    "rides"
   ]
  },
  {
   "cell_type": "markdown",
   "id": "91f61860",
   "metadata": {},
   "source": [
    "**Проверьте наличие пропущенных значений и дубликатов в датафреймах. Обработайте их, если такие значения присутствуют.**"
   ]
  },
  {
   "cell_type": "markdown",
   "id": "685adba4",
   "metadata": {},
   "source": [
    "Проверим пропущенные значения в датафреймах:"
   ]
  },
  {
   "cell_type": "code",
   "execution_count": 9,
   "id": "b1408ef6",
   "metadata": {},
   "outputs": [
    {
     "data": {
      "text/plain": [
       "user_id              0\n",
       "name                 0\n",
       "age                  0\n",
       "city                 0\n",
       "subscription_type    0\n",
       "dtype: int64"
      ]
     },
     "execution_count": 9,
     "metadata": {},
     "output_type": "execute_result"
    }
   ],
   "source": [
    "users.isna().sum()"
   ]
  },
  {
   "cell_type": "code",
   "execution_count": 10,
   "id": "44ed79a8",
   "metadata": {},
   "outputs": [
    {
     "data": {
      "text/plain": [
       "user_id     0\n",
       "distance    0\n",
       "duration    0\n",
       "date        0\n",
       "month       0\n",
       "dtype: int64"
      ]
     },
     "execution_count": 10,
     "metadata": {},
     "output_type": "execute_result"
    }
   ],
   "source": [
    "rides.isna().sum()"
   ]
  },
  {
   "cell_type": "code",
   "execution_count": 11,
   "id": "569e40dc",
   "metadata": {},
   "outputs": [
    {
     "data": {
      "text/plain": [
       "subscription_type    0\n",
       "minute_price         0\n",
       "start_ride_price     0\n",
       "subscription_fee     0\n",
       "dtype: int64"
      ]
     },
     "execution_count": 11,
     "metadata": {},
     "output_type": "execute_result"
    }
   ],
   "source": [
    "subscriptions.isna().sum()"
   ]
  },
  {
   "cell_type": "markdown",
   "id": "8e04a897",
   "metadata": {},
   "source": [
    "Проверим дубликаты в датафреймах:"
   ]
  },
  {
   "cell_type": "code",
   "execution_count": 12,
   "id": "bb30fe53",
   "metadata": {},
   "outputs": [
    {
     "data": {
      "text/plain": [
       "0       False\n",
       "1       False\n",
       "2       False\n",
       "3       False\n",
       "4       False\n",
       "        ...  \n",
       "1560     True\n",
       "1561     True\n",
       "1562     True\n",
       "1563     True\n",
       "1564     True\n",
       "Length: 1565, dtype: bool"
      ]
     },
     "execution_count": 12,
     "metadata": {},
     "output_type": "execute_result"
    }
   ],
   "source": [
    "users.duplicated()"
   ]
  },
  {
   "cell_type": "code",
   "execution_count": 13,
   "id": "21fbfa0e",
   "metadata": {},
   "outputs": [
    {
     "data": {
      "text/plain": [
       "31"
      ]
     },
     "execution_count": 13,
     "metadata": {},
     "output_type": "execute_result"
    }
   ],
   "source": [
    "users.duplicated().sum()"
   ]
  },
  {
   "cell_type": "markdown",
   "id": "8389786b",
   "metadata": {},
   "source": [
    "Уберем явные дубликаты"
   ]
  },
  {
   "cell_type": "code",
   "execution_count": 14,
   "id": "d41f025a",
   "metadata": {},
   "outputs": [],
   "source": [
    "users = users.drop_duplicates()"
   ]
  },
  {
   "cell_type": "code",
   "execution_count": 15,
   "id": "300583f8",
   "metadata": {},
   "outputs": [
    {
     "data": {
      "text/plain": [
       "0"
      ]
     },
     "execution_count": 15,
     "metadata": {},
     "output_type": "execute_result"
    }
   ],
   "source": [
    "users.duplicated().sum()"
   ]
  },
  {
   "cell_type": "code",
   "execution_count": 16,
   "id": "c9279b16",
   "metadata": {},
   "outputs": [
    {
     "data": {
      "text/plain": [
       "0"
      ]
     },
     "execution_count": 16,
     "metadata": {},
     "output_type": "execute_result"
    }
   ],
   "source": [
    "rides.duplicated().sum()"
   ]
  },
  {
   "cell_type": "code",
   "execution_count": 17,
   "id": "322736a0",
   "metadata": {},
   "outputs": [
    {
     "data": {
      "text/plain": [
       "0"
      ]
     },
     "execution_count": 17,
     "metadata": {},
     "output_type": "execute_result"
    }
   ],
   "source": [
    "subscriptions.duplicated().sum()"
   ]
  },
  {
   "cell_type": "code",
   "execution_count": 18,
   "id": "c1c6701d",
   "metadata": {},
   "outputs": [
    {
     "data": {
      "text/plain": [
       "0"
      ]
     },
     "execution_count": 18,
     "metadata": {},
     "output_type": "execute_result"
    }
   ],
   "source": [
    "# Код ревьюера\n",
    "\n",
    "users.duplicated().sum()"
   ]
  },
  {
   "cell_type": "code",
   "execution_count": 19,
   "id": "6cb1ca80",
   "metadata": {},
   "outputs": [
    {
     "data": {
      "text/plain": [
       "array(['Тюмень', 'Омск', 'Москва', 'Ростов-на-Дону', 'Краснодар',\n",
       "       'Пятигорск', 'Екатеринбург', 'Сочи'], dtype=object)"
      ]
     },
     "execution_count": 19,
     "metadata": {},
     "output_type": "execute_result"
    }
   ],
   "source": [
    "users['city'].unique()"
   ]
  },
  {
   "cell_type": "markdown",
   "id": "eb1e29ba",
   "metadata": {},
   "source": [
    "С городами также все хорошо. Неявные дубликаты отсутствуют"
   ]
  },
  {
   "cell_type": "code",
   "execution_count": 20,
   "id": "ce052fdf",
   "metadata": {},
   "outputs": [
    {
     "data": {
      "text/plain": [
       "array(['Кира', 'Станислав', 'Алексей', 'Константин', 'Адель', 'Регина',\n",
       "       'Игорь', 'Юрий', 'Ян', 'Валерий', 'Агата', 'Марк', 'Ева',\n",
       "       'Антонина', 'Валерия', 'Амалия', 'Даниил', 'Аделина', 'Святогор',\n",
       "       'Борис', 'Вероника', 'Ростислав', 'Назар', 'Эдуард', 'Василий',\n",
       "       'Денис', 'Тамара', 'Николай', 'Эвелина', 'Федор', 'Руслан', 'Иван',\n",
       "       'Любовь', 'Ярослава', 'Майя', 'Ильдар', 'Данила', 'Нина',\n",
       "       'Стефания', 'Ясмина', 'Дмитрий', 'Александр', 'Одиссей', 'Арсений',\n",
       "       'Алла', 'Таисия', 'Максим', 'Юлиана', 'Павел', 'Карина', 'Алиса',\n",
       "       'Лидия', 'Рамиль', 'Родион', 'Ника', 'Оксана', 'Анастасия',\n",
       "       'Маргарита', 'Вера', 'Тимур', 'Никита', 'Лев', 'Влад', 'Артур',\n",
       "       'Анна', 'Ольга', 'Вячеслав', 'Ксения', 'Виталина', 'Владислав',\n",
       "       'Тамерлан', 'Амина', 'Вадим', 'Олеся', 'Зарина', 'Егор', 'Гордей',\n",
       "       'Лилия', 'Святослав', 'Роберт', 'Амир', 'Влада', 'Богдан',\n",
       "       'Полина', 'Марат', 'Елисей', 'Макар', 'Алина', 'Глеб', 'Андрей',\n",
       "       'Альбина', 'Людмила', 'Марсель', 'Милена', 'Диана', 'Дарина',\n",
       "       'Данил', 'Артемий', 'Лиана', 'Альберт', 'Герман', 'Жанна', 'Нелли',\n",
       "       'Евгения', 'Ариана', 'Самира', 'Захар', 'Эльвира', 'Екатерина',\n",
       "       'Инна', 'Демид', 'Яна', 'Михаил', 'Татьяна', 'Степан', 'Мелания',\n",
       "       'Тимофей', 'Ирина', 'Анжелика', 'Владислава', 'Елизавета',\n",
       "       'Мадина', 'Снежана', 'Даниэль', 'Рустам', 'Каролина', 'Ангелина',\n",
       "       'Владимир', 'Виктория', 'Валентина', 'Семен', 'Арина', 'Лариса',\n",
       "       'Есения', 'Галина', 'Кирилл', 'Игнат', 'Виталий', 'Эмилия',\n",
       "       'Виолетта', 'Яромир', 'Софья', 'Мирослава', 'Евгений', 'Варвара',\n",
       "       'Платон', 'Наталия', 'Анатолий', 'Кристина', 'Всеволод', 'Дарья',\n",
       "       'Наташа', 'Мария', 'Марина', 'Василиса', 'Юлия', 'Илья', 'Злата',\n",
       "       'Роман', 'Наталья', 'Элина', 'Арсен', 'Айдар', 'Алия', 'Виктор',\n",
       "       'Мирон', 'Ульяна', 'Георгий', 'Петр', 'Эльмира', 'Олег', 'Дамир',\n",
       "       'Самир', 'Ярослав', 'Камилла', 'Сергей', 'Эмиль', 'Радмир',\n",
       "       'Савелий', 'Елена', 'Антон', 'Мирослав', 'София', 'Тихон', 'Артём',\n",
       "       'Давид', 'Григорий', 'Алёна', 'Светлана', 'Леонид', 'Александра',\n",
       "       'Василина', 'Милана', 'Матвей'], dtype=object)"
      ]
     },
     "execution_count": 20,
     "metadata": {},
     "output_type": "execute_result"
    }
   ],
   "source": [
    "users['name'].unique()"
   ]
  },
  {
   "cell_type": "markdown",
   "id": "fe7c9621",
   "metadata": {},
   "source": [
    "С именами тоже все в порядке"
   ]
  },
  {
   "cell_type": "code",
   "execution_count": 21,
   "id": "db51aa3b",
   "metadata": {},
   "outputs": [
    {
     "data": {
      "image/png": "[encoded data removed]",
      "text/plain": [
       "<Figure size 432x288 with 1 Axes>"
      ]
     },
     "metadata": {
      "needs_background": "light"
     },
     "output_type": "display_data"
    },
    {
     "data": {
      "text/html": [
       "<div>\n",
       "<style scoped>\n",
       "    .dataframe tbody tr th:only-of-type {\n",
       "        vertical-align: middle;\n",
       "    }\n",
       "\n",
       "    .dataframe tbody tr th {\n",
       "        vertical-align: top;\n",
       "    }\n",
       "\n",
       "    .dataframe thead th {\n",
       "        text-align: right;\n",
       "    }\n",
       "</style>\n",
       "<table border=\"1\" class=\"dataframe\">\n",
       "  <thead>\n",
       "    <tr style=\"text-align: right;\">\n",
       "      <th></th>\n",
       "      <th>user_id</th>\n",
       "      <th>age</th>\n",
       "    </tr>\n",
       "  </thead>\n",
       "  <tbody>\n",
       "    <tr>\n",
       "      <th>count</th>\n",
       "      <td>1534.000000</td>\n",
       "      <td>1534.000000</td>\n",
       "    </tr>\n",
       "    <tr>\n",
       "      <th>mean</th>\n",
       "      <td>767.500000</td>\n",
       "      <td>24.903520</td>\n",
       "    </tr>\n",
       "    <tr>\n",
       "      <th>std</th>\n",
       "      <td>442.971971</td>\n",
       "      <td>4.572367</td>\n",
       "    </tr>\n",
       "    <tr>\n",
       "      <th>min</th>\n",
       "      <td>1.000000</td>\n",
       "      <td>12.000000</td>\n",
       "    </tr>\n",
       "    <tr>\n",
       "      <th>25%</th>\n",
       "      <td>384.250000</td>\n",
       "      <td>22.000000</td>\n",
       "    </tr>\n",
       "    <tr>\n",
       "      <th>50%</th>\n",
       "      <td>767.500000</td>\n",
       "      <td>25.000000</td>\n",
       "    </tr>\n",
       "    <tr>\n",
       "      <th>75%</th>\n",
       "      <td>1150.750000</td>\n",
       "      <td>28.000000</td>\n",
       "    </tr>\n",
       "    <tr>\n",
       "      <th>max</th>\n",
       "      <td>1534.000000</td>\n",
       "      <td>43.000000</td>\n",
       "    </tr>\n",
       "  </tbody>\n",
       "</table>\n",
       "</div>"
      ],
      "text/plain": [
       "           user_id          age\n",
       "count  1534.000000  1534.000000\n",
       "mean    767.500000    24.903520\n",
       "std     442.971971     4.572367\n",
       "min       1.000000    12.000000\n",
       "25%     384.250000    22.000000\n",
       "50%     767.500000    25.000000\n",
       "75%    1150.750000    28.000000\n",
       "max    1534.000000    43.000000"
      ]
     },
     "execution_count": 21,
     "metadata": {},
     "output_type": "execute_result"
    }
   ],
   "source": [
    "plt.boxplot(users['age'])\n",
    "plt.title(\"Boxplot для определения возраста\")\n",
    "plt.ylabel(\"Возраст\")\n",
    "plt.show()\n",
    "users.describe()"
   ]
  },
  {
   "cell_type": "markdown",
   "id": "10adbcd2",
   "metadata": {},
   "source": [
    "В возрасте аномалий не найдено."
   ]
  },
  {
   "cell_type": "markdown",
   "id": "8d90a8ed",
   "metadata": {},
   "source": [
    "**Вывод:** осуществлена предобработка данных. Столбец \"date\" приведен к нужному типу. Добавлены номера месяцев. Удалены явные дубликаты. Осуществлена проверка на неявные дубликаты."
   ]
  },
  {
   "cell_type": "markdown",
   "id": "212593c7",
   "metadata": {},
   "source": [
    "#### Шаг 3. Исследовательский анализ данных"
   ]
  },
  {
   "cell_type": "markdown",
   "id": "a50a2017",
   "metadata": {},
   "source": [
    "Опишите и визуализируйте общую информацию о пользователях и поездках:\n",
    "    \n",
    "   3.1 частота встречаемости городов;\n",
    "    \n",
    "   3.2 соотношение пользователей с подпиской и без подписки;\n",
    "    \n",
    "   3.3 возраст пользователей;\n",
    "    \n",
    "   3.4 расстояние, которое пользователь преодолел за одну поездку;\n",
    "    \n",
    "   3.5 продолжительность поездок."
   ]
  },
  {
   "cell_type": "markdown",
   "id": "f4b5327c",
   "metadata": {},
   "source": [
    "**3.1. Изучим частоту встречаемости городов.**"
   ]
  },
  {
   "cell_type": "code",
   "execution_count": 22,
   "id": "cbf71060",
   "metadata": {},
   "outputs": [
    {
     "data": {
      "image/png": "[encoded data removed]",
      "text/plain": [
       "<Figure size 432x288 with 1 Axes>"
      ]
     },
     "metadata": {
      "needs_background": "light"
     },
     "output_type": "display_data"
    },
    {
     "data": {
      "text/plain": [
       "Пятигорск         219\n",
       "Екатеринбург      204\n",
       "Ростов-на-Дону    198\n",
       "Краснодар         193\n",
       "Сочи              189\n",
       "Омск              183\n",
       "Тюмень            180\n",
       "Москва            168\n",
       "Name: city, dtype: int64"
      ]
     },
     "execution_count": 22,
     "metadata": {},
     "output_type": "execute_result"
    }
   ],
   "source": [
    "city_counts = users['city'].value_counts()\n",
    "city_counts.plot(x='city', kind='bar')\n",
    "\n",
    "plt.title('Частота встречаемости городов')\n",
    "plt.xlabel('Город')\n",
    "plt.ylabel('Количество пользователей')\n",
    "plt.show()\n",
    "city_counts"
   ]
  },
  {
   "cell_type": "markdown",
   "id": "4a990897",
   "metadata": {},
   "source": [
    "Исходя из диаграммы сервис представлен в основном в областных центрах. Больше всего пользователей из Пятигорска. Это достаточно большой процент, учитывая, что Пятигорск сравнительно небольшой город в сравнении с другими находящимися в топе. Меньше всего пользователей в Москве."
   ]
  },
  {
   "cell_type": "markdown",
   "id": "4233bab9",
   "metadata": {},
   "source": [
    "**Изучим соотношение пользователей с подпиской и без подписки.**"
   ]
  },
  {
   "cell_type": "code",
   "execution_count": 23,
   "id": "5c10c5f8",
   "metadata": {},
   "outputs": [
    {
     "data": {
      "image/png": "[encoded data removed]",
      "text/plain": [
       "<Figure size 432x288 with 1 Axes>"
      ]
     },
     "metadata": {
      "needs_background": "light"
     },
     "output_type": "display_data"
    },
    {
     "data": {
      "text/plain": [
       "free     835\n",
       "ultra    699\n",
       "Name: subscription_type, dtype: int64"
      ]
     },
     "execution_count": 23,
     "metadata": {},
     "output_type": "execute_result"
    }
   ],
   "source": [
    "subscriptions_counts = users['subscription_type'].value_counts()\n",
    "subscriptions_counts.sort_values(ascending=True).plot(kind='barh')\n",
    "\n",
    "plt.title('Соотношение типов подписки')\n",
    "plt.xlabel('Тип подписки')\n",
    "plt.ylabel('Количество пользователей')\n",
    "plt.show()\n",
    "subscriptions_counts"
   ]
  },
  {
   "cell_type": "code",
   "execution_count": 24,
   "id": "44c59a22",
   "metadata": {},
   "outputs": [
    {
     "data": {
      "text/plain": [
       "Text(0.5, 1.0, 'Процентное соотношение типов подписки')"
      ]
     },
     "execution_count": 24,
     "metadata": {},
     "output_type": "execute_result"
    },
    {
     "data": {
      "image/png": "[encoded data removed]",
      "text/plain": [
       "<Figure size 576x576 with 1 Axes>"
      ]
     },
     "metadata": {},
     "output_type": "display_data"
    }
   ],
   "source": [
    "plt.figure(figsize=(8,8))\n",
    "subscriptions_counts.plot(kind='pie', autopct='%1.1f%%')\n",
    "plt.title('Процентное соотношение типов подписки')"
   ]
  },
  {
   "cell_type": "markdown",
   "id": "53c69686",
   "metadata": {},
   "source": [
    "Как и ожидалось пользователей без подпиcки больше, 54%. Однако обычно количество пользователей с подпиской гораздо больше чем в обычном сервисе самокатов и составляет практически половину, а именно 46%"
   ]
  },
  {
   "cell_type": "markdown",
   "id": "deb36501",
   "metadata": {},
   "source": [
    "**Изучим возраст пользователей.**"
   ]
  },
  {
   "cell_type": "code",
   "execution_count": 25,
   "id": "b28183a7",
   "metadata": {},
   "outputs": [
    {
     "data": {
      "image/png": "[encoded data removed]",
      "text/plain": [
       "<Figure size 720x432 with 1 Axes>"
      ]
     },
     "metadata": {
      "needs_background": "light"
     },
     "output_type": "display_data"
    }
   ],
   "source": [
    "plt.figure(figsize=(10, 6))\n",
    "plt.hist(users['age'], bins=50, range=(12, 43))\n",
    "plt.title('Гистограмма распределения возраста пользователей')\n",
    "plt.xlabel('Возраст')\n",
    "plt.ylabel('Распределение')\n",
    "plt.grid(axis='y', alpha=0.75)\n",
    "plt.show()"
   ]
  },
  {
   "cell_type": "code",
   "execution_count": 26,
   "id": "2fd423c3",
   "metadata": {},
   "outputs": [
    {
     "data": {
      "text/plain": [
       "count    1534.000000\n",
       "mean       24.903520\n",
       "std         4.572367\n",
       "min        12.000000\n",
       "25%        22.000000\n",
       "50%        25.000000\n",
       "75%        28.000000\n",
       "max        43.000000\n",
       "Name: age, dtype: float64"
      ]
     },
     "execution_count": 26,
     "metadata": {},
     "output_type": "execute_result"
    }
   ],
   "source": [
    "users['age'].describe()"
   ]
  },
  {
   "cell_type": "markdown",
   "id": "e91ae68b",
   "metadata": {},
   "source": [
    "Средний возраст пользователя 24 года. Минимальный возраст 12 лет, видимо это ограничение сервиса. Максимальный возраст 43 года."
   ]
  },
  {
   "cell_type": "markdown",
   "id": "1cd2f652",
   "metadata": {},
   "source": [
    "**Изучим расстояние, которое пользователь преодолел за одну поездку.**"
   ]
  },
  {
   "cell_type": "code",
   "execution_count": 27,
   "id": "85c8284f",
   "metadata": {},
   "outputs": [
    {
     "data": {
      "image/png": "[encoded data removed]",
      "text/plain": [
       "<Figure size 720x432 with 1 Axes>"
      ]
     },
     "metadata": {
      "needs_background": "light"
     },
     "output_type": "display_data"
    },
    {
     "data": {
      "text/plain": [
       "count    18068.000000\n",
       "mean      3070.659976\n",
       "std       1116.831209\n",
       "min          0.855683\n",
       "25%       2543.226360\n",
       "50%       3133.609994\n",
       "75%       3776.222735\n",
       "max       7211.007745\n",
       "Name: distance, dtype: float64"
      ]
     },
     "execution_count": 27,
     "metadata": {},
     "output_type": "execute_result"
    }
   ],
   "source": [
    "plt.figure(figsize=(10, 6))\n",
    "plt.hist(rides['distance'], bins=100, range=(rides['distance'].min(), rides['distance'].max()))\n",
    "plt.title('Гистограмма распределения расстояние за одну поездку')\n",
    "plt.xlabel('Расстояние')\n",
    "plt.ylabel('Колиество значений')\n",
    "plt.grid(axis='y', alpha=0.75)\n",
    "plt.show()\n",
    "rides['distance'].describe()"
   ]
  },
  {
   "cell_type": "markdown",
   "id": "e9d9962b",
   "metadata": {},
   "source": [
    "График выглядит необычно. Его можно условно разделить на два типа поездок, короткие и длинные. Короткие допустим от дома до метро. Длинные это уже от точки А в точку Б. В среднем поездка составяет 3 км. Но не более 7.2 км. Возможно если бы сервис был представлен более широко в крупных городах типа Санкт-Петербурга и Москвы, то цифры были бы другие."
   ]
  },
  {
   "cell_type": "markdown",
   "id": "e258af7f",
   "metadata": {},
   "source": [
    "**Изучим продолжительность поездок.**"
   ]
  },
  {
   "cell_type": "code",
   "execution_count": 28,
   "id": "085feee1",
   "metadata": {},
   "outputs": [
    {
     "data": {
      "image/png": "[encoded data removed]",
      "text/plain": [
       "<Figure size 432x288 with 1 Axes>"
      ]
     },
     "metadata": {
      "needs_background": "light"
     },
     "output_type": "display_data"
    }
   ],
   "source": [
    "plt.boxplot(rides['duration'])\n",
    "plt.title(\"Boxplot для продлжительности поездок\")\n",
    "plt.ylabel(\"Продолжительность\")\n",
    "plt.show()"
   ]
  },
  {
   "cell_type": "code",
   "execution_count": 29,
   "id": "9f6b1bd6",
   "metadata": {},
   "outputs": [
    {
     "data": {
      "image/png": "[encoded data removed]",
      "text/plain": [
       "<Figure size 720x432 with 1 Axes>"
      ]
     },
     "metadata": {
      "needs_background": "light"
     },
     "output_type": "display_data"
    },
    {
     "data": {
      "text/plain": [
       "count    18068.000000\n",
       "mean        17.805011\n",
       "std          6.091051\n",
       "min          0.500000\n",
       "25%         13.597563\n",
       "50%         17.678395\n",
       "75%         21.724800\n",
       "max         40.823963\n",
       "Name: duration, dtype: float64"
      ]
     },
     "execution_count": 29,
     "metadata": {},
     "output_type": "execute_result"
    }
   ],
   "source": [
    "plt.figure(figsize=(10, 6))\n",
    "plt.hist(rides['duration'], bins=200, range=(3, rides['duration'].max()))\n",
    "plt.title('Гистограмма распределения продолжительности поездок')\n",
    "plt.xlabel('Продолжительность')\n",
    "plt.ylabel('Расрпделение')\n",
    "plt.grid(axis='y', alpha=0.75)\n",
    "plt.show()\n",
    "rides['duration'].describe()"
   ]
  },
  {
   "cell_type": "markdown",
   "id": "df7b0fe9",
   "metadata": {},
   "source": [
    "В среднем поездка занимает 17 минут. Минимальное значение 0, скорей всего связано с тем, что пользователь взял самокат и понял, что он неисправен или низкий заряд аккумулятора. Смотря на Усы можно сказать что большинство поездок ранжируются от 10 до 20 минут"
   ]
  },
  {
   "cell_type": "markdown",
   "id": "3458ea37",
   "metadata": {},
   "source": [
    "**Вывод:** Были проанализированы и визуализированы данные. А именно:\n",
    "\n",
    "- частота встречаемости городов;\n",
    "- соотношение пользователей с подпиской и без подписки;\n",
    "- возраст пользователей;\n",
    "- расстояние, которое пользователь преодолел за одну поездку;\n",
    "- продолжительность поездок."
   ]
  },
  {
   "cell_type": "markdown",
   "id": "4ef51331",
   "metadata": {},
   "source": [
    "#### Шаг 4. Объединение данных"
   ]
  },
  {
   "cell_type": "markdown",
   "id": "c4736c77",
   "metadata": {},
   "source": [
    "4.1 Объединим данные о пользователях, поездках и подписках в один датафрейм. Для этого воспользуемся методом merge().\n",
    "    \n",
    "4.2 Создадим два датафрейма из датафрейма на основе общего датафрейма:\n",
    "   \n",
    "   - c данными о пользователях без подписки;\n",
    "   - с данными о пользователях с подпиской.\n",
    "   \n",
    "4.3 Визуализируем информацию о расстоянии и времени поездок для пользователей обеих категорий."
   ]
  },
  {
   "cell_type": "markdown",
   "id": "f8185e30",
   "metadata": {},
   "source": [
    "**4.1 Объединим данные о пользователях, поездках и подписках в один датафрейм. Для этого воспользуемся методом merge().**"
   ]
  },
  {
   "cell_type": "code",
   "execution_count": 30,
   "id": "14e7af64",
   "metadata": {},
   "outputs": [
    {
     "data": {
      "text/html": [
       "<div>\n",
       "<style scoped>\n",
       "    .dataframe tbody tr th:only-of-type {\n",
       "        vertical-align: middle;\n",
       "    }\n",
       "\n",
       "    .dataframe tbody tr th {\n",
       "        vertical-align: top;\n",
       "    }\n",
       "\n",
       "    .dataframe thead th {\n",
       "        text-align: right;\n",
       "    }\n",
       "</style>\n",
       "<table border=\"1\" class=\"dataframe\">\n",
       "  <thead>\n",
       "    <tr style=\"text-align: right;\">\n",
       "      <th></th>\n",
       "      <th>user_id</th>\n",
       "      <th>name</th>\n",
       "      <th>age</th>\n",
       "      <th>city</th>\n",
       "      <th>subscription_type</th>\n",
       "      <th>distance</th>\n",
       "      <th>duration</th>\n",
       "      <th>date</th>\n",
       "      <th>month</th>\n",
       "      <th>minute_price</th>\n",
       "      <th>start_ride_price</th>\n",
       "      <th>subscription_fee</th>\n",
       "    </tr>\n",
       "  </thead>\n",
       "  <tbody>\n",
       "    <tr>\n",
       "      <th>0</th>\n",
       "      <td>1</td>\n",
       "      <td>Кира</td>\n",
       "      <td>22</td>\n",
       "      <td>Тюмень</td>\n",
       "      <td>ultra</td>\n",
       "      <td>4409.919140</td>\n",
       "      <td>25.599769</td>\n",
       "      <td>2021-01-01</td>\n",
       "      <td>1</td>\n",
       "      <td>6</td>\n",
       "      <td>0</td>\n",
       "      <td>199</td>\n",
       "    </tr>\n",
       "    <tr>\n",
       "      <th>1</th>\n",
       "      <td>1</td>\n",
       "      <td>Кира</td>\n",
       "      <td>22</td>\n",
       "      <td>Тюмень</td>\n",
       "      <td>ultra</td>\n",
       "      <td>2617.592153</td>\n",
       "      <td>15.816871</td>\n",
       "      <td>2021-01-18</td>\n",
       "      <td>1</td>\n",
       "      <td>6</td>\n",
       "      <td>0</td>\n",
       "      <td>199</td>\n",
       "    </tr>\n",
       "    <tr>\n",
       "      <th>2</th>\n",
       "      <td>1</td>\n",
       "      <td>Кира</td>\n",
       "      <td>22</td>\n",
       "      <td>Тюмень</td>\n",
       "      <td>ultra</td>\n",
       "      <td>754.159807</td>\n",
       "      <td>6.232113</td>\n",
       "      <td>2021-04-20</td>\n",
       "      <td>4</td>\n",
       "      <td>6</td>\n",
       "      <td>0</td>\n",
       "      <td>199</td>\n",
       "    </tr>\n",
       "    <tr>\n",
       "      <th>3</th>\n",
       "      <td>1</td>\n",
       "      <td>Кира</td>\n",
       "      <td>22</td>\n",
       "      <td>Тюмень</td>\n",
       "      <td>ultra</td>\n",
       "      <td>2694.783254</td>\n",
       "      <td>18.511000</td>\n",
       "      <td>2021-08-11</td>\n",
       "      <td>8</td>\n",
       "      <td>6</td>\n",
       "      <td>0</td>\n",
       "      <td>199</td>\n",
       "    </tr>\n",
       "    <tr>\n",
       "      <th>4</th>\n",
       "      <td>1</td>\n",
       "      <td>Кира</td>\n",
       "      <td>22</td>\n",
       "      <td>Тюмень</td>\n",
       "      <td>ultra</td>\n",
       "      <td>4028.687306</td>\n",
       "      <td>26.265803</td>\n",
       "      <td>2021-08-28</td>\n",
       "      <td>8</td>\n",
       "      <td>6</td>\n",
       "      <td>0</td>\n",
       "      <td>199</td>\n",
       "    </tr>\n",
       "    <tr>\n",
       "      <th>...</th>\n",
       "      <td>...</td>\n",
       "      <td>...</td>\n",
       "      <td>...</td>\n",
       "      <td>...</td>\n",
       "      <td>...</td>\n",
       "      <td>...</td>\n",
       "      <td>...</td>\n",
       "      <td>...</td>\n",
       "      <td>...</td>\n",
       "      <td>...</td>\n",
       "      <td>...</td>\n",
       "      <td>...</td>\n",
       "    </tr>\n",
       "    <tr>\n",
       "      <th>18063</th>\n",
       "      <td>1534</td>\n",
       "      <td>Альберт</td>\n",
       "      <td>25</td>\n",
       "      <td>Краснодар</td>\n",
       "      <td>free</td>\n",
       "      <td>3781.098080</td>\n",
       "      <td>19.822962</td>\n",
       "      <td>2021-11-04</td>\n",
       "      <td>11</td>\n",
       "      <td>8</td>\n",
       "      <td>50</td>\n",
       "      <td>0</td>\n",
       "    </tr>\n",
       "    <tr>\n",
       "      <th>18064</th>\n",
       "      <td>1534</td>\n",
       "      <td>Альберт</td>\n",
       "      <td>25</td>\n",
       "      <td>Краснодар</td>\n",
       "      <td>free</td>\n",
       "      <td>2840.423057</td>\n",
       "      <td>21.409799</td>\n",
       "      <td>2021-11-16</td>\n",
       "      <td>11</td>\n",
       "      <td>8</td>\n",
       "      <td>50</td>\n",
       "      <td>0</td>\n",
       "    </tr>\n",
       "    <tr>\n",
       "      <th>18065</th>\n",
       "      <td>1534</td>\n",
       "      <td>Альберт</td>\n",
       "      <td>25</td>\n",
       "      <td>Краснодар</td>\n",
       "      <td>free</td>\n",
       "      <td>3826.185507</td>\n",
       "      <td>18.435051</td>\n",
       "      <td>2021-11-18</td>\n",
       "      <td>11</td>\n",
       "      <td>8</td>\n",
       "      <td>50</td>\n",
       "      <td>0</td>\n",
       "    </tr>\n",
       "    <tr>\n",
       "      <th>18066</th>\n",
       "      <td>1534</td>\n",
       "      <td>Альберт</td>\n",
       "      <td>25</td>\n",
       "      <td>Краснодар</td>\n",
       "      <td>free</td>\n",
       "      <td>2902.308661</td>\n",
       "      <td>16.674362</td>\n",
       "      <td>2021-11-27</td>\n",
       "      <td>11</td>\n",
       "      <td>8</td>\n",
       "      <td>50</td>\n",
       "      <td>0</td>\n",
       "    </tr>\n",
       "    <tr>\n",
       "      <th>18067</th>\n",
       "      <td>1534</td>\n",
       "      <td>Альберт</td>\n",
       "      <td>25</td>\n",
       "      <td>Краснодар</td>\n",
       "      <td>free</td>\n",
       "      <td>2371.711192</td>\n",
       "      <td>15.893917</td>\n",
       "      <td>2021-12-29</td>\n",
       "      <td>12</td>\n",
       "      <td>8</td>\n",
       "      <td>50</td>\n",
       "      <td>0</td>\n",
       "    </tr>\n",
       "  </tbody>\n",
       "</table>\n",
       "<p>18068 rows × 12 columns</p>\n",
       "</div>"
      ],
      "text/plain": [
       "       user_id     name  age       city subscription_type     distance  \\\n",
       "0            1     Кира   22     Тюмень             ultra  4409.919140   \n",
       "1            1     Кира   22     Тюмень             ultra  2617.592153   \n",
       "2            1     Кира   22     Тюмень             ultra   754.159807   \n",
       "3            1     Кира   22     Тюмень             ultra  2694.783254   \n",
       "4            1     Кира   22     Тюмень             ultra  4028.687306   \n",
       "...        ...      ...  ...        ...               ...          ...   \n",
       "18063     1534  Альберт   25  Краснодар              free  3781.098080   \n",
       "18064     1534  Альберт   25  Краснодар              free  2840.423057   \n",
       "18065     1534  Альберт   25  Краснодар              free  3826.185507   \n",
       "18066     1534  Альберт   25  Краснодар              free  2902.308661   \n",
       "18067     1534  Альберт   25  Краснодар              free  2371.711192   \n",
       "\n",
       "        duration       date  month  minute_price  start_ride_price  \\\n",
       "0      25.599769 2021-01-01      1             6                 0   \n",
       "1      15.816871 2021-01-18      1             6                 0   \n",
       "2       6.232113 2021-04-20      4             6                 0   \n",
       "3      18.511000 2021-08-11      8             6                 0   \n",
       "4      26.265803 2021-08-28      8             6                 0   \n",
       "...          ...        ...    ...           ...               ...   \n",
       "18063  19.822962 2021-11-04     11             8                50   \n",
       "18064  21.409799 2021-11-16     11             8                50   \n",
       "18065  18.435051 2021-11-18     11             8                50   \n",
       "18066  16.674362 2021-11-27     11             8                50   \n",
       "18067  15.893917 2021-12-29     12             8                50   \n",
       "\n",
       "       subscription_fee  \n",
       "0                   199  \n",
       "1                   199  \n",
       "2                   199  \n",
       "3                   199  \n",
       "4                   199  \n",
       "...                 ...  \n",
       "18063                 0  \n",
       "18064                 0  \n",
       "18065                 0  \n",
       "18066                 0  \n",
       "18067                 0  \n",
       "\n",
       "[18068 rows x 12 columns]"
      ]
     },
     "execution_count": 30,
     "metadata": {},
     "output_type": "execute_result"
    }
   ],
   "source": [
    "data = users.merge(rides).merge(subscriptions)\n",
    "data"
   ]
  },
  {
   "cell_type": "code",
   "execution_count": 31,
   "id": "a4640ae6",
   "metadata": {},
   "outputs": [
    {
     "data": {
      "text/plain": [
       "user_id              0\n",
       "name                 0\n",
       "age                  0\n",
       "city                 0\n",
       "subscription_type    0\n",
       "distance             0\n",
       "duration             0\n",
       "date                 0\n",
       "month                0\n",
       "minute_price         0\n",
       "start_ride_price     0\n",
       "subscription_fee     0\n",
       "dtype: int64"
      ]
     },
     "execution_count": 31,
     "metadata": {},
     "output_type": "execute_result"
    }
   ],
   "source": [
    "data.isna().sum()"
   ]
  },
  {
   "cell_type": "markdown",
   "id": "dcd00917",
   "metadata": {},
   "source": [
    "**4.2 Создадим два датафрейма на основе общего:**"
   ]
  },
  {
   "cell_type": "markdown",
   "id": "4268d224",
   "metadata": {},
   "source": [
    "- C данными о пользователях без подписки."
   ]
  },
  {
   "cell_type": "code",
   "execution_count": 32,
   "id": "ff51bf22",
   "metadata": {},
   "outputs": [
    {
     "data": {
      "text/html": [
       "<div>\n",
       "<style scoped>\n",
       "    .dataframe tbody tr th:only-of-type {\n",
       "        vertical-align: middle;\n",
       "    }\n",
       "\n",
       "    .dataframe tbody tr th {\n",
       "        vertical-align: top;\n",
       "    }\n",
       "\n",
       "    .dataframe thead th {\n",
       "        text-align: right;\n",
       "    }\n",
       "</style>\n",
       "<table border=\"1\" class=\"dataframe\">\n",
       "  <thead>\n",
       "    <tr style=\"text-align: right;\">\n",
       "      <th></th>\n",
       "      <th>user_id</th>\n",
       "      <th>name</th>\n",
       "      <th>age</th>\n",
       "      <th>city</th>\n",
       "      <th>subscription_type</th>\n",
       "      <th>distance</th>\n",
       "      <th>duration</th>\n",
       "      <th>date</th>\n",
       "      <th>month</th>\n",
       "      <th>minute_price</th>\n",
       "      <th>start_ride_price</th>\n",
       "      <th>subscription_fee</th>\n",
       "    </tr>\n",
       "  </thead>\n",
       "  <tbody>\n",
       "    <tr>\n",
       "      <th>6500</th>\n",
       "      <td>700</td>\n",
       "      <td>Айдар</td>\n",
       "      <td>22</td>\n",
       "      <td>Омск</td>\n",
       "      <td>free</td>\n",
       "      <td>2515.690719</td>\n",
       "      <td>14.944286</td>\n",
       "      <td>2021-01-02</td>\n",
       "      <td>1</td>\n",
       "      <td>8</td>\n",
       "      <td>50</td>\n",
       "      <td>0</td>\n",
       "    </tr>\n",
       "    <tr>\n",
       "      <th>6501</th>\n",
       "      <td>700</td>\n",
       "      <td>Айдар</td>\n",
       "      <td>22</td>\n",
       "      <td>Омск</td>\n",
       "      <td>free</td>\n",
       "      <td>846.932642</td>\n",
       "      <td>16.234663</td>\n",
       "      <td>2021-02-01</td>\n",
       "      <td>2</td>\n",
       "      <td>8</td>\n",
       "      <td>50</td>\n",
       "      <td>0</td>\n",
       "    </tr>\n",
       "    <tr>\n",
       "      <th>6502</th>\n",
       "      <td>700</td>\n",
       "      <td>Айдар</td>\n",
       "      <td>22</td>\n",
       "      <td>Омск</td>\n",
       "      <td>free</td>\n",
       "      <td>4004.434142</td>\n",
       "      <td>20.016628</td>\n",
       "      <td>2021-02-04</td>\n",
       "      <td>2</td>\n",
       "      <td>8</td>\n",
       "      <td>50</td>\n",
       "      <td>0</td>\n",
       "    </tr>\n",
       "    <tr>\n",
       "      <th>6503</th>\n",
       "      <td>700</td>\n",
       "      <td>Айдар</td>\n",
       "      <td>22</td>\n",
       "      <td>Омск</td>\n",
       "      <td>free</td>\n",
       "      <td>1205.911290</td>\n",
       "      <td>9.782872</td>\n",
       "      <td>2021-02-10</td>\n",
       "      <td>2</td>\n",
       "      <td>8</td>\n",
       "      <td>50</td>\n",
       "      <td>0</td>\n",
       "    </tr>\n",
       "    <tr>\n",
       "      <th>6504</th>\n",
       "      <td>700</td>\n",
       "      <td>Айдар</td>\n",
       "      <td>22</td>\n",
       "      <td>Омск</td>\n",
       "      <td>free</td>\n",
       "      <td>3047.379435</td>\n",
       "      <td>17.427673</td>\n",
       "      <td>2021-02-14</td>\n",
       "      <td>2</td>\n",
       "      <td>8</td>\n",
       "      <td>50</td>\n",
       "      <td>0</td>\n",
       "    </tr>\n",
       "    <tr>\n",
       "      <th>...</th>\n",
       "      <td>...</td>\n",
       "      <td>...</td>\n",
       "      <td>...</td>\n",
       "      <td>...</td>\n",
       "      <td>...</td>\n",
       "      <td>...</td>\n",
       "      <td>...</td>\n",
       "      <td>...</td>\n",
       "      <td>...</td>\n",
       "      <td>...</td>\n",
       "      <td>...</td>\n",
       "      <td>...</td>\n",
       "    </tr>\n",
       "    <tr>\n",
       "      <th>18063</th>\n",
       "      <td>1534</td>\n",
       "      <td>Альберт</td>\n",
       "      <td>25</td>\n",
       "      <td>Краснодар</td>\n",
       "      <td>free</td>\n",
       "      <td>3781.098080</td>\n",
       "      <td>19.822962</td>\n",
       "      <td>2021-11-04</td>\n",
       "      <td>11</td>\n",
       "      <td>8</td>\n",
       "      <td>50</td>\n",
       "      <td>0</td>\n",
       "    </tr>\n",
       "    <tr>\n",
       "      <th>18064</th>\n",
       "      <td>1534</td>\n",
       "      <td>Альберт</td>\n",
       "      <td>25</td>\n",
       "      <td>Краснодар</td>\n",
       "      <td>free</td>\n",
       "      <td>2840.423057</td>\n",
       "      <td>21.409799</td>\n",
       "      <td>2021-11-16</td>\n",
       "      <td>11</td>\n",
       "      <td>8</td>\n",
       "      <td>50</td>\n",
       "      <td>0</td>\n",
       "    </tr>\n",
       "    <tr>\n",
       "      <th>18065</th>\n",
       "      <td>1534</td>\n",
       "      <td>Альберт</td>\n",
       "      <td>25</td>\n",
       "      <td>Краснодар</td>\n",
       "      <td>free</td>\n",
       "      <td>3826.185507</td>\n",
       "      <td>18.435051</td>\n",
       "      <td>2021-11-18</td>\n",
       "      <td>11</td>\n",
       "      <td>8</td>\n",
       "      <td>50</td>\n",
       "      <td>0</td>\n",
       "    </tr>\n",
       "    <tr>\n",
       "      <th>18066</th>\n",
       "      <td>1534</td>\n",
       "      <td>Альберт</td>\n",
       "      <td>25</td>\n",
       "      <td>Краснодар</td>\n",
       "      <td>free</td>\n",
       "      <td>2902.308661</td>\n",
       "      <td>16.674362</td>\n",
       "      <td>2021-11-27</td>\n",
       "      <td>11</td>\n",
       "      <td>8</td>\n",
       "      <td>50</td>\n",
       "      <td>0</td>\n",
       "    </tr>\n",
       "    <tr>\n",
       "      <th>18067</th>\n",
       "      <td>1534</td>\n",
       "      <td>Альберт</td>\n",
       "      <td>25</td>\n",
       "      <td>Краснодар</td>\n",
       "      <td>free</td>\n",
       "      <td>2371.711192</td>\n",
       "      <td>15.893917</td>\n",
       "      <td>2021-12-29</td>\n",
       "      <td>12</td>\n",
       "      <td>8</td>\n",
       "      <td>50</td>\n",
       "      <td>0</td>\n",
       "    </tr>\n",
       "  </tbody>\n",
       "</table>\n",
       "<p>11568 rows × 12 columns</p>\n",
       "</div>"
      ],
      "text/plain": [
       "       user_id     name  age       city subscription_type     distance  \\\n",
       "6500       700    Айдар   22       Омск              free  2515.690719   \n",
       "6501       700    Айдар   22       Омск              free   846.932642   \n",
       "6502       700    Айдар   22       Омск              free  4004.434142   \n",
       "6503       700    Айдар   22       Омск              free  1205.911290   \n",
       "6504       700    Айдар   22       Омск              free  3047.379435   \n",
       "...        ...      ...  ...        ...               ...          ...   \n",
       "18063     1534  Альберт   25  Краснодар              free  3781.098080   \n",
       "18064     1534  Альберт   25  Краснодар              free  2840.423057   \n",
       "18065     1534  Альберт   25  Краснодар              free  3826.185507   \n",
       "18066     1534  Альберт   25  Краснодар              free  2902.308661   \n",
       "18067     1534  Альберт   25  Краснодар              free  2371.711192   \n",
       "\n",
       "        duration       date  month  minute_price  start_ride_price  \\\n",
       "6500   14.944286 2021-01-02      1             8                50   \n",
       "6501   16.234663 2021-02-01      2             8                50   \n",
       "6502   20.016628 2021-02-04      2             8                50   \n",
       "6503    9.782872 2021-02-10      2             8                50   \n",
       "6504   17.427673 2021-02-14      2             8                50   \n",
       "...          ...        ...    ...           ...               ...   \n",
       "18063  19.822962 2021-11-04     11             8                50   \n",
       "18064  21.409799 2021-11-16     11             8                50   \n",
       "18065  18.435051 2021-11-18     11             8                50   \n",
       "18066  16.674362 2021-11-27     11             8                50   \n",
       "18067  15.893917 2021-12-29     12             8                50   \n",
       "\n",
       "       subscription_fee  \n",
       "6500                  0  \n",
       "6501                  0  \n",
       "6502                  0  \n",
       "6503                  0  \n",
       "6504                  0  \n",
       "...                 ...  \n",
       "18063                 0  \n",
       "18064                 0  \n",
       "18065                 0  \n",
       "18066                 0  \n",
       "18067                 0  \n",
       "\n",
       "[11568 rows x 12 columns]"
      ]
     },
     "execution_count": 32,
     "metadata": {},
     "output_type": "execute_result"
    }
   ],
   "source": [
    "data_free = data.query(\"subscription_type == 'free'\")\n",
    "data_free"
   ]
  },
  {
   "cell_type": "markdown",
   "id": "6ce6c15f",
   "metadata": {},
   "source": [
    "- C данными о пользователях c подпиской."
   ]
  },
  {
   "cell_type": "code",
   "execution_count": 33,
   "id": "140a334f",
   "metadata": {},
   "outputs": [
    {
     "data": {
      "text/html": [
       "<div>\n",
       "<style scoped>\n",
       "    .dataframe tbody tr th:only-of-type {\n",
       "        vertical-align: middle;\n",
       "    }\n",
       "\n",
       "    .dataframe tbody tr th {\n",
       "        vertical-align: top;\n",
       "    }\n",
       "\n",
       "    .dataframe thead th {\n",
       "        text-align: right;\n",
       "    }\n",
       "</style>\n",
       "<table border=\"1\" class=\"dataframe\">\n",
       "  <thead>\n",
       "    <tr style=\"text-align: right;\">\n",
       "      <th></th>\n",
       "      <th>user_id</th>\n",
       "      <th>name</th>\n",
       "      <th>age</th>\n",
       "      <th>city</th>\n",
       "      <th>subscription_type</th>\n",
       "      <th>distance</th>\n",
       "      <th>duration</th>\n",
       "      <th>date</th>\n",
       "      <th>month</th>\n",
       "      <th>minute_price</th>\n",
       "      <th>start_ride_price</th>\n",
       "      <th>subscription_fee</th>\n",
       "    </tr>\n",
       "  </thead>\n",
       "  <tbody>\n",
       "    <tr>\n",
       "      <th>0</th>\n",
       "      <td>1</td>\n",
       "      <td>Кира</td>\n",
       "      <td>22</td>\n",
       "      <td>Тюмень</td>\n",
       "      <td>ultra</td>\n",
       "      <td>4409.919140</td>\n",
       "      <td>25.599769</td>\n",
       "      <td>2021-01-01</td>\n",
       "      <td>1</td>\n",
       "      <td>6</td>\n",
       "      <td>0</td>\n",
       "      <td>199</td>\n",
       "    </tr>\n",
       "    <tr>\n",
       "      <th>1</th>\n",
       "      <td>1</td>\n",
       "      <td>Кира</td>\n",
       "      <td>22</td>\n",
       "      <td>Тюмень</td>\n",
       "      <td>ultra</td>\n",
       "      <td>2617.592153</td>\n",
       "      <td>15.816871</td>\n",
       "      <td>2021-01-18</td>\n",
       "      <td>1</td>\n",
       "      <td>6</td>\n",
       "      <td>0</td>\n",
       "      <td>199</td>\n",
       "    </tr>\n",
       "    <tr>\n",
       "      <th>2</th>\n",
       "      <td>1</td>\n",
       "      <td>Кира</td>\n",
       "      <td>22</td>\n",
       "      <td>Тюмень</td>\n",
       "      <td>ultra</td>\n",
       "      <td>754.159807</td>\n",
       "      <td>6.232113</td>\n",
       "      <td>2021-04-20</td>\n",
       "      <td>4</td>\n",
       "      <td>6</td>\n",
       "      <td>0</td>\n",
       "      <td>199</td>\n",
       "    </tr>\n",
       "    <tr>\n",
       "      <th>3</th>\n",
       "      <td>1</td>\n",
       "      <td>Кира</td>\n",
       "      <td>22</td>\n",
       "      <td>Тюмень</td>\n",
       "      <td>ultra</td>\n",
       "      <td>2694.783254</td>\n",
       "      <td>18.511000</td>\n",
       "      <td>2021-08-11</td>\n",
       "      <td>8</td>\n",
       "      <td>6</td>\n",
       "      <td>0</td>\n",
       "      <td>199</td>\n",
       "    </tr>\n",
       "    <tr>\n",
       "      <th>4</th>\n",
       "      <td>1</td>\n",
       "      <td>Кира</td>\n",
       "      <td>22</td>\n",
       "      <td>Тюмень</td>\n",
       "      <td>ultra</td>\n",
       "      <td>4028.687306</td>\n",
       "      <td>26.265803</td>\n",
       "      <td>2021-08-28</td>\n",
       "      <td>8</td>\n",
       "      <td>6</td>\n",
       "      <td>0</td>\n",
       "      <td>199</td>\n",
       "    </tr>\n",
       "    <tr>\n",
       "      <th>...</th>\n",
       "      <td>...</td>\n",
       "      <td>...</td>\n",
       "      <td>...</td>\n",
       "      <td>...</td>\n",
       "      <td>...</td>\n",
       "      <td>...</td>\n",
       "      <td>...</td>\n",
       "      <td>...</td>\n",
       "      <td>...</td>\n",
       "      <td>...</td>\n",
       "      <td>...</td>\n",
       "      <td>...</td>\n",
       "    </tr>\n",
       "    <tr>\n",
       "      <th>6495</th>\n",
       "      <td>699</td>\n",
       "      <td>Оксана</td>\n",
       "      <td>22</td>\n",
       "      <td>Москва</td>\n",
       "      <td>ultra</td>\n",
       "      <td>3973.046497</td>\n",
       "      <td>24.671163</td>\n",
       "      <td>2021-08-29</td>\n",
       "      <td>8</td>\n",
       "      <td>6</td>\n",
       "      <td>0</td>\n",
       "      <td>199</td>\n",
       "    </tr>\n",
       "    <tr>\n",
       "      <th>6496</th>\n",
       "      <td>699</td>\n",
       "      <td>Оксана</td>\n",
       "      <td>22</td>\n",
       "      <td>Москва</td>\n",
       "      <td>ultra</td>\n",
       "      <td>3288.702563</td>\n",
       "      <td>15.892886</td>\n",
       "      <td>2021-09-12</td>\n",
       "      <td>9</td>\n",
       "      <td>6</td>\n",
       "      <td>0</td>\n",
       "      <td>199</td>\n",
       "    </tr>\n",
       "    <tr>\n",
       "      <th>6497</th>\n",
       "      <td>699</td>\n",
       "      <td>Оксана</td>\n",
       "      <td>22</td>\n",
       "      <td>Москва</td>\n",
       "      <td>ultra</td>\n",
       "      <td>3076.159348</td>\n",
       "      <td>14.389525</td>\n",
       "      <td>2021-09-26</td>\n",
       "      <td>9</td>\n",
       "      <td>6</td>\n",
       "      <td>0</td>\n",
       "      <td>199</td>\n",
       "    </tr>\n",
       "    <tr>\n",
       "      <th>6498</th>\n",
       "      <td>699</td>\n",
       "      <td>Оксана</td>\n",
       "      <td>22</td>\n",
       "      <td>Москва</td>\n",
       "      <td>ultra</td>\n",
       "      <td>4707.845501</td>\n",
       "      <td>15.839579</td>\n",
       "      <td>2021-10-17</td>\n",
       "      <td>10</td>\n",
       "      <td>6</td>\n",
       "      <td>0</td>\n",
       "      <td>199</td>\n",
       "    </tr>\n",
       "    <tr>\n",
       "      <th>6499</th>\n",
       "      <td>699</td>\n",
       "      <td>Оксана</td>\n",
       "      <td>22</td>\n",
       "      <td>Москва</td>\n",
       "      <td>ultra</td>\n",
       "      <td>3202.890770</td>\n",
       "      <td>25.217345</td>\n",
       "      <td>2021-12-03</td>\n",
       "      <td>12</td>\n",
       "      <td>6</td>\n",
       "      <td>0</td>\n",
       "      <td>199</td>\n",
       "    </tr>\n",
       "  </tbody>\n",
       "</table>\n",
       "<p>6500 rows × 12 columns</p>\n",
       "</div>"
      ],
      "text/plain": [
       "      user_id    name  age    city subscription_type     distance   duration  \\\n",
       "0           1    Кира   22  Тюмень             ultra  4409.919140  25.599769   \n",
       "1           1    Кира   22  Тюмень             ultra  2617.592153  15.816871   \n",
       "2           1    Кира   22  Тюмень             ultra   754.159807   6.232113   \n",
       "3           1    Кира   22  Тюмень             ultra  2694.783254  18.511000   \n",
       "4           1    Кира   22  Тюмень             ultra  4028.687306  26.265803   \n",
       "...       ...     ...  ...     ...               ...          ...        ...   \n",
       "6495      699  Оксана   22  Москва             ultra  3973.046497  24.671163   \n",
       "6496      699  Оксана   22  Москва             ultra  3288.702563  15.892886   \n",
       "6497      699  Оксана   22  Москва             ultra  3076.159348  14.389525   \n",
       "6498      699  Оксана   22  Москва             ultra  4707.845501  15.839579   \n",
       "6499      699  Оксана   22  Москва             ultra  3202.890770  25.217345   \n",
       "\n",
       "           date  month  minute_price  start_ride_price  subscription_fee  \n",
       "0    2021-01-01      1             6                 0               199  \n",
       "1    2021-01-18      1             6                 0               199  \n",
       "2    2021-04-20      4             6                 0               199  \n",
       "3    2021-08-11      8             6                 0               199  \n",
       "4    2021-08-28      8             6                 0               199  \n",
       "...         ...    ...           ...               ...               ...  \n",
       "6495 2021-08-29      8             6                 0               199  \n",
       "6496 2021-09-12      9             6                 0               199  \n",
       "6497 2021-09-26      9             6                 0               199  \n",
       "6498 2021-10-17     10             6                 0               199  \n",
       "6499 2021-12-03     12             6                 0               199  \n",
       "\n",
       "[6500 rows x 12 columns]"
      ]
     },
     "execution_count": 33,
     "metadata": {},
     "output_type": "execute_result"
    }
   ],
   "source": [
    "data_ultra = data.query(\"subscription_type == 'ultra'\")\n",
    "data_ultra"
   ]
  },
  {
   "cell_type": "markdown",
   "id": "cb36a73c",
   "metadata": {},
   "source": [
    "**4.3 Визуализируем информацию о расстоянии и времени поездок для пользователей обеих категорий.**"
   ]
  },
  {
   "cell_type": "markdown",
   "id": "d41c7252",
   "metadata": {},
   "source": [
    "Визуализируем информацию о расстоянии для двух датафреймов:"
   ]
  },
  {
   "cell_type": "code",
   "execution_count": 34,
   "id": "e2de7f81",
   "metadata": {},
   "outputs": [
    {
     "data": {
      "image/png": "[encoded data removed]",
      "text/plain": [
       "<Figure size 720x432 with 1 Axes>"
      ]
     },
     "metadata": {
      "needs_background": "light"
     },
     "output_type": "display_data"
    }
   ],
   "source": [
    "plt.figure(figsize=(10, 6))\n",
    "\n",
    "# Построим гистограмму без подписки\n",
    "plt.hist(data_free['distance'], bins=50, alpha=0.5, label='Free', color='blue')\n",
    "# Построим гистограмму для подписки Ultra\n",
    "plt.hist(data_ultra['distance'], bins=50, alpha=0.5, label='Ultra', color='yellow')\n",
    "\n",
    "plt.title('Распределение расстояний по типа подписок')\n",
    "plt.xlabel('Расстояние')\n",
    "plt.ylabel('Распределение')\n",
    "plt.legend()\n",
    "plt.show()"
   ]
  },
  {
   "cell_type": "code",
   "execution_count": 35,
   "id": "0ccb19a7",
   "metadata": {},
   "outputs": [
    {
     "name": "stdout",
     "output_type": "stream",
     "text": [
      "count    11568.000000\n",
      "mean      3045.495282\n",
      "std       1246.173806\n",
      "min          0.855683\n",
      "25%       2366.562689\n",
      "50%       3114.648465\n",
      "75%       3905.697894\n",
      "max       7211.007745\n",
      "Name: distance, dtype: float64\n"
     ]
    },
    {
     "data": {
      "text/plain": [
       "count    6500.000000\n",
       "mean     3115.445388\n",
       "std       836.895330\n",
       "min       244.210438\n",
       "25%      2785.444017\n",
       "50%      3148.637229\n",
       "75%      3560.574425\n",
       "max      5699.769662\n",
       "Name: distance, dtype: float64"
      ]
     },
     "execution_count": 35,
     "metadata": {},
     "output_type": "execute_result"
    }
   ],
   "source": [
    "print(data_free['distance'].describe())\n",
    "data_ultra['distance'].describe()"
   ]
  },
  {
   "cell_type": "markdown",
   "id": "6364b3fc",
   "metadata": {},
   "source": [
    "Исходя из графиков можно сделать вывод, что в среднем расстояние поездки для пользователей без подписки больше."
   ]
  },
  {
   "cell_type": "markdown",
   "id": "73f4bd3c",
   "metadata": {},
   "source": [
    "Визуализируем информацию о времени поездки для двух датафреймов:"
   ]
  },
  {
   "cell_type": "code",
   "execution_count": 36,
   "id": "2b820615",
   "metadata": {},
   "outputs": [
    {
     "data": {
      "image/png": "[encoded data removed]",
      "text/plain": [
       "<Figure size 720x432 with 1 Axes>"
      ]
     },
     "metadata": {
      "needs_background": "light"
     },
     "output_type": "display_data"
    }
   ],
   "source": [
    "plt.figure(figsize=(10, 6))\n",
    "\n",
    "# Построим гистограмму без подписки\n",
    "plt.hist(data_free['duration'], bins=50, alpha=0.5, label='Free', color='blue')\n",
    "# Построим гистограмму для подписки Ultra\n",
    "plt.hist(data_ultra['duration'], bins=50, alpha=0.5, label='Ultra', color='yellow')\n",
    "\n",
    "plt.title('Распределение расстояний по типа подписок')\n",
    "plt.xlabel('Расстояние')\n",
    "plt.ylabel('Распределение')\n",
    "plt.legend()\n",
    "plt.show()"
   ]
  },
  {
   "cell_type": "code",
   "execution_count": 37,
   "id": "8c34d476",
   "metadata": {
    "scrolled": true
   },
   "outputs": [
    {
     "name": "stdout",
     "output_type": "stream",
     "text": [
      "count    11568.000000\n",
      "mean        17.390909\n",
      "std          6.326803\n",
      "min          0.500000\n",
      "25%         12.958437\n",
      "50%         17.326890\n",
      "75%         21.594071\n",
      "max         34.948498\n",
      "Name: duration, dtype: float64\n"
     ]
    },
    {
     "data": {
      "text/plain": [
       "count    6500.000000\n",
       "mean       18.541985\n",
       "std         5.572048\n",
       "min         3.760353\n",
       "25%        14.524654\n",
       "50%        18.178153\n",
       "75%        21.884129\n",
       "max        40.823963\n",
       "Name: duration, dtype: float64"
      ]
     },
     "execution_count": 37,
     "metadata": {},
     "output_type": "execute_result"
    }
   ],
   "source": [
    "print(data_free['duration'].describe())\n",
    "data_ultra['duration'].describe()"
   ]
  },
  {
   "cell_type": "markdown",
   "id": "482802fd",
   "metadata": {},
   "source": [
    "Исходя из графиков можно сделать вывод, что у людей с подпиской время поездок в среднем меньше."
   ]
  },
  {
   "cell_type": "markdown",
   "id": "c3fe248e",
   "metadata": {},
   "source": [
    "**Вывод:** Данные были объединены в общий dataframe. Отдельно были созданы два датафрейма с пользователями без подписки и с подпиской. Проведена визуализация данных из которой можно сделать следующие выводы:\n",
    "\n",
    " - в среднем расстояние поездки для пользователей без подписки больше.\n",
    " \n",
    " - в среднем расстояние у людей с подпиской время поездок в меньше."
   ]
  },
  {
   "cell_type": "markdown",
   "id": "402d620f",
   "metadata": {},
   "source": [
    "#### Шаг 5. Подсчёт выручки"
   ]
  },
  {
   "cell_type": "markdown",
   "id": "75a02cff",
   "metadata": {},
   "source": [
    "**5.1 Создадим датафрейм с агрегированными данными о поездках на основе датафрейма с объединёнными данными из шага 4: найдите суммарное расстояние, количество поездок и суммарное время для каждого пользователя за каждый месяц.**"
   ]
  },
  {
   "cell_type": "markdown",
   "id": "787c6168",
   "metadata": {},
   "source": [
    "Округлим значения:"
   ]
  },
  {
   "cell_type": "code",
   "execution_count": 38,
   "id": "cfd8378d",
   "metadata": {},
   "outputs": [],
   "source": [
    "data['duration'] = np.ceil(data['duration']) "
   ]
  },
  {
   "cell_type": "code",
   "execution_count": 39,
   "id": "ec55943a",
   "metadata": {},
   "outputs": [
    {
     "data": {
      "text/html": [
       "<div>\n",
       "<style scoped>\n",
       "    .dataframe tbody tr th:only-of-type {\n",
       "        vertical-align: middle;\n",
       "    }\n",
       "\n",
       "    .dataframe tbody tr th {\n",
       "        vertical-align: top;\n",
       "    }\n",
       "\n",
       "    .dataframe thead tr th {\n",
       "        text-align: left;\n",
       "    }\n",
       "</style>\n",
       "<table border=\"1\" class=\"dataframe\">\n",
       "  <thead>\n",
       "    <tr>\n",
       "      <th></th>\n",
       "      <th>user_id</th>\n",
       "      <th>month</th>\n",
       "      <th>distance</th>\n",
       "      <th colspan=\"2\" halign=\"left\">duration</th>\n",
       "      <th>subscription_type</th>\n",
       "      <th>minute_price</th>\n",
       "      <th>start_ride_price</th>\n",
       "      <th>subscription_fee</th>\n",
       "    </tr>\n",
       "    <tr>\n",
       "      <th></th>\n",
       "      <th></th>\n",
       "      <th></th>\n",
       "      <th>sum</th>\n",
       "      <th>sum</th>\n",
       "      <th>count</th>\n",
       "      <th>first</th>\n",
       "      <th>first</th>\n",
       "      <th>first</th>\n",
       "      <th>first</th>\n",
       "    </tr>\n",
       "  </thead>\n",
       "  <tbody>\n",
       "    <tr>\n",
       "      <th>0</th>\n",
       "      <td>1</td>\n",
       "      <td>1</td>\n",
       "      <td>7027.511294</td>\n",
       "      <td>42.0</td>\n",
       "      <td>2</td>\n",
       "      <td>ultra</td>\n",
       "      <td>6</td>\n",
       "      <td>0</td>\n",
       "      <td>199</td>\n",
       "    </tr>\n",
       "    <tr>\n",
       "      <th>1</th>\n",
       "      <td>1</td>\n",
       "      <td>4</td>\n",
       "      <td>754.159807</td>\n",
       "      <td>7.0</td>\n",
       "      <td>1</td>\n",
       "      <td>ultra</td>\n",
       "      <td>6</td>\n",
       "      <td>0</td>\n",
       "      <td>199</td>\n",
       "    </tr>\n",
       "    <tr>\n",
       "      <th>2</th>\n",
       "      <td>1</td>\n",
       "      <td>8</td>\n",
       "      <td>6723.470560</td>\n",
       "      <td>46.0</td>\n",
       "      <td>2</td>\n",
       "      <td>ultra</td>\n",
       "      <td>6</td>\n",
       "      <td>0</td>\n",
       "      <td>199</td>\n",
       "    </tr>\n",
       "    <tr>\n",
       "      <th>3</th>\n",
       "      <td>1</td>\n",
       "      <td>10</td>\n",
       "      <td>5809.911100</td>\n",
       "      <td>32.0</td>\n",
       "      <td>2</td>\n",
       "      <td>ultra</td>\n",
       "      <td>6</td>\n",
       "      <td>0</td>\n",
       "      <td>199</td>\n",
       "    </tr>\n",
       "    <tr>\n",
       "      <th>4</th>\n",
       "      <td>1</td>\n",
       "      <td>11</td>\n",
       "      <td>7003.499363</td>\n",
       "      <td>56.0</td>\n",
       "      <td>3</td>\n",
       "      <td>ultra</td>\n",
       "      <td>6</td>\n",
       "      <td>0</td>\n",
       "      <td>199</td>\n",
       "    </tr>\n",
       "    <tr>\n",
       "      <th>...</th>\n",
       "      <td>...</td>\n",
       "      <td>...</td>\n",
       "      <td>...</td>\n",
       "      <td>...</td>\n",
       "      <td>...</td>\n",
       "      <td>...</td>\n",
       "      <td>...</td>\n",
       "      <td>...</td>\n",
       "      <td>...</td>\n",
       "    </tr>\n",
       "    <tr>\n",
       "      <th>11326</th>\n",
       "      <td>1534</td>\n",
       "      <td>6</td>\n",
       "      <td>3409.468534</td>\n",
       "      <td>26.0</td>\n",
       "      <td>2</td>\n",
       "      <td>free</td>\n",
       "      <td>8</td>\n",
       "      <td>50</td>\n",
       "      <td>0</td>\n",
       "    </tr>\n",
       "    <tr>\n",
       "      <th>11327</th>\n",
       "      <td>1534</td>\n",
       "      <td>8</td>\n",
       "      <td>7622.453034</td>\n",
       "      <td>48.0</td>\n",
       "      <td>2</td>\n",
       "      <td>free</td>\n",
       "      <td>8</td>\n",
       "      <td>50</td>\n",
       "      <td>0</td>\n",
       "    </tr>\n",
       "    <tr>\n",
       "      <th>11328</th>\n",
       "      <td>1534</td>\n",
       "      <td>9</td>\n",
       "      <td>4928.173852</td>\n",
       "      <td>23.0</td>\n",
       "      <td>1</td>\n",
       "      <td>free</td>\n",
       "      <td>8</td>\n",
       "      <td>50</td>\n",
       "      <td>0</td>\n",
       "    </tr>\n",
       "    <tr>\n",
       "      <th>11329</th>\n",
       "      <td>1534</td>\n",
       "      <td>11</td>\n",
       "      <td>13350.015305</td>\n",
       "      <td>78.0</td>\n",
       "      <td>4</td>\n",
       "      <td>free</td>\n",
       "      <td>8</td>\n",
       "      <td>50</td>\n",
       "      <td>0</td>\n",
       "    </tr>\n",
       "    <tr>\n",
       "      <th>11330</th>\n",
       "      <td>1534</td>\n",
       "      <td>12</td>\n",
       "      <td>2371.711192</td>\n",
       "      <td>16.0</td>\n",
       "      <td>1</td>\n",
       "      <td>free</td>\n",
       "      <td>8</td>\n",
       "      <td>50</td>\n",
       "      <td>0</td>\n",
       "    </tr>\n",
       "  </tbody>\n",
       "</table>\n",
       "<p>11331 rows × 9 columns</p>\n",
       "</div>"
      ],
      "text/plain": [
       "      user_id month      distance duration       subscription_type  \\\n",
       "                              sum      sum count             first   \n",
       "0           1     1   7027.511294     42.0     2             ultra   \n",
       "1           1     4    754.159807      7.0     1             ultra   \n",
       "2           1     8   6723.470560     46.0     2             ultra   \n",
       "3           1    10   5809.911100     32.0     2             ultra   \n",
       "4           1    11   7003.499363     56.0     3             ultra   \n",
       "...       ...   ...           ...      ...   ...               ...   \n",
       "11326    1534     6   3409.468534     26.0     2              free   \n",
       "11327    1534     8   7622.453034     48.0     2              free   \n",
       "11328    1534     9   4928.173852     23.0     1              free   \n",
       "11329    1534    11  13350.015305     78.0     4              free   \n",
       "11330    1534    12   2371.711192     16.0     1              free   \n",
       "\n",
       "      minute_price start_ride_price subscription_fee  \n",
       "             first            first            first  \n",
       "0                6                0              199  \n",
       "1                6                0              199  \n",
       "2                6                0              199  \n",
       "3                6                0              199  \n",
       "4                6                0              199  \n",
       "...            ...              ...              ...  \n",
       "11326            8               50                0  \n",
       "11327            8               50                0  \n",
       "11328            8               50                0  \n",
       "11329            8               50                0  \n",
       "11330            8               50                0  \n",
       "\n",
       "[11331 rows x 9 columns]"
      ]
     },
     "execution_count": 39,
     "metadata": {},
     "output_type": "execute_result"
    }
   ],
   "source": [
    "data_aggregated = data.groupby(['user_id', 'month']\n",
    "                           ).agg({'distance':'sum', 'duration':['sum', 'count'],\n",
    "                                  'subscription_type':'first',\n",
    "                                  'minute_price':'first',\n",
    "                                  'start_ride_price':'first',\n",
    "                                  'subscription_fee':'first'}).reset_index()\n",
    "data_aggregated"
   ]
  },
  {
   "cell_type": "markdown",
   "id": "fe91e31e",
   "metadata": {},
   "source": [
    "**5.2 В этот же датафрейм добавьте столбец с помесячной выручкой, которую принёс каждый пользователь. Для этого обратитесь к информации об условиях оплаты для подписчиков и тех, у кого нет подписки. Продолжительность каждой поездки в каждой строке исходного датафрейма для подсчёта стоимости округляется до следующего целого числа: например, значения 25.3, 25.5 и 26.0 должны быть преобразованы к 26.**"
   ]
  },
  {
   "cell_type": "code",
   "execution_count": 40,
   "id": "968ecacf",
   "metadata": {},
   "outputs": [
    {
     "data": {
      "text/html": [
       "<div>\n",
       "<style scoped>\n",
       "    .dataframe tbody tr th:only-of-type {\n",
       "        vertical-align: middle;\n",
       "    }\n",
       "\n",
       "    .dataframe tbody tr th {\n",
       "        vertical-align: top;\n",
       "    }\n",
       "\n",
       "    .dataframe thead th {\n",
       "        text-align: right;\n",
       "    }\n",
       "</style>\n",
       "<table border=\"1\" class=\"dataframe\">\n",
       "  <thead>\n",
       "    <tr style=\"text-align: right;\">\n",
       "      <th></th>\n",
       "      <th>user_id</th>\n",
       "      <th>month</th>\n",
       "      <th>distance_sum</th>\n",
       "      <th>duration_sum</th>\n",
       "      <th>rides_count</th>\n",
       "      <th>subscription_type</th>\n",
       "      <th>minute_price</th>\n",
       "      <th>start_ride_price</th>\n",
       "      <th>subscription_fee</th>\n",
       "      <th>monthly_revenue</th>\n",
       "    </tr>\n",
       "  </thead>\n",
       "  <tbody>\n",
       "    <tr>\n",
       "      <th>0</th>\n",
       "      <td>1</td>\n",
       "      <td>1</td>\n",
       "      <td>7027.511294</td>\n",
       "      <td>42.0</td>\n",
       "      <td>2</td>\n",
       "      <td>ultra</td>\n",
       "      <td>6</td>\n",
       "      <td>0</td>\n",
       "      <td>199</td>\n",
       "      <td>451.0</td>\n",
       "    </tr>\n",
       "    <tr>\n",
       "      <th>1</th>\n",
       "      <td>1</td>\n",
       "      <td>4</td>\n",
       "      <td>754.159807</td>\n",
       "      <td>7.0</td>\n",
       "      <td>1</td>\n",
       "      <td>ultra</td>\n",
       "      <td>6</td>\n",
       "      <td>0</td>\n",
       "      <td>199</td>\n",
       "      <td>241.0</td>\n",
       "    </tr>\n",
       "    <tr>\n",
       "      <th>2</th>\n",
       "      <td>1</td>\n",
       "      <td>8</td>\n",
       "      <td>6723.470560</td>\n",
       "      <td>46.0</td>\n",
       "      <td>2</td>\n",
       "      <td>ultra</td>\n",
       "      <td>6</td>\n",
       "      <td>0</td>\n",
       "      <td>199</td>\n",
       "      <td>475.0</td>\n",
       "    </tr>\n",
       "    <tr>\n",
       "      <th>3</th>\n",
       "      <td>1</td>\n",
       "      <td>10</td>\n",
       "      <td>5809.911100</td>\n",
       "      <td>32.0</td>\n",
       "      <td>2</td>\n",
       "      <td>ultra</td>\n",
       "      <td>6</td>\n",
       "      <td>0</td>\n",
       "      <td>199</td>\n",
       "      <td>391.0</td>\n",
       "    </tr>\n",
       "    <tr>\n",
       "      <th>4</th>\n",
       "      <td>1</td>\n",
       "      <td>11</td>\n",
       "      <td>7003.499363</td>\n",
       "      <td>56.0</td>\n",
       "      <td>3</td>\n",
       "      <td>ultra</td>\n",
       "      <td>6</td>\n",
       "      <td>0</td>\n",
       "      <td>199</td>\n",
       "      <td>535.0</td>\n",
       "    </tr>\n",
       "    <tr>\n",
       "      <th>...</th>\n",
       "      <td>...</td>\n",
       "      <td>...</td>\n",
       "      <td>...</td>\n",
       "      <td>...</td>\n",
       "      <td>...</td>\n",
       "      <td>...</td>\n",
       "      <td>...</td>\n",
       "      <td>...</td>\n",
       "      <td>...</td>\n",
       "      <td>...</td>\n",
       "    </tr>\n",
       "    <tr>\n",
       "      <th>11326</th>\n",
       "      <td>1534</td>\n",
       "      <td>6</td>\n",
       "      <td>3409.468534</td>\n",
       "      <td>26.0</td>\n",
       "      <td>2</td>\n",
       "      <td>free</td>\n",
       "      <td>8</td>\n",
       "      <td>50</td>\n",
       "      <td>0</td>\n",
       "      <td>308.0</td>\n",
       "    </tr>\n",
       "    <tr>\n",
       "      <th>11327</th>\n",
       "      <td>1534</td>\n",
       "      <td>8</td>\n",
       "      <td>7622.453034</td>\n",
       "      <td>48.0</td>\n",
       "      <td>2</td>\n",
       "      <td>free</td>\n",
       "      <td>8</td>\n",
       "      <td>50</td>\n",
       "      <td>0</td>\n",
       "      <td>484.0</td>\n",
       "    </tr>\n",
       "    <tr>\n",
       "      <th>11328</th>\n",
       "      <td>1534</td>\n",
       "      <td>9</td>\n",
       "      <td>4928.173852</td>\n",
       "      <td>23.0</td>\n",
       "      <td>1</td>\n",
       "      <td>free</td>\n",
       "      <td>8</td>\n",
       "      <td>50</td>\n",
       "      <td>0</td>\n",
       "      <td>234.0</td>\n",
       "    </tr>\n",
       "    <tr>\n",
       "      <th>11329</th>\n",
       "      <td>1534</td>\n",
       "      <td>11</td>\n",
       "      <td>13350.015305</td>\n",
       "      <td>78.0</td>\n",
       "      <td>4</td>\n",
       "      <td>free</td>\n",
       "      <td>8</td>\n",
       "      <td>50</td>\n",
       "      <td>0</td>\n",
       "      <td>824.0</td>\n",
       "    </tr>\n",
       "    <tr>\n",
       "      <th>11330</th>\n",
       "      <td>1534</td>\n",
       "      <td>12</td>\n",
       "      <td>2371.711192</td>\n",
       "      <td>16.0</td>\n",
       "      <td>1</td>\n",
       "      <td>free</td>\n",
       "      <td>8</td>\n",
       "      <td>50</td>\n",
       "      <td>0</td>\n",
       "      <td>178.0</td>\n",
       "    </tr>\n",
       "  </tbody>\n",
       "</table>\n",
       "<p>11331 rows × 10 columns</p>\n",
       "</div>"
      ],
      "text/plain": [
       "       user_id  month  distance_sum  duration_sum  rides_count  \\\n",
       "0            1      1   7027.511294          42.0            2   \n",
       "1            1      4    754.159807           7.0            1   \n",
       "2            1      8   6723.470560          46.0            2   \n",
       "3            1     10   5809.911100          32.0            2   \n",
       "4            1     11   7003.499363          56.0            3   \n",
       "...        ...    ...           ...           ...          ...   \n",
       "11326     1534      6   3409.468534          26.0            2   \n",
       "11327     1534      8   7622.453034          48.0            2   \n",
       "11328     1534      9   4928.173852          23.0            1   \n",
       "11329     1534     11  13350.015305          78.0            4   \n",
       "11330     1534     12   2371.711192          16.0            1   \n",
       "\n",
       "      subscription_type  minute_price  start_ride_price  subscription_fee  \\\n",
       "0                 ultra             6                 0               199   \n",
       "1                 ultra             6                 0               199   \n",
       "2                 ultra             6                 0               199   \n",
       "3                 ultra             6                 0               199   \n",
       "4                 ultra             6                 0               199   \n",
       "...                 ...           ...               ...               ...   \n",
       "11326              free             8                50                 0   \n",
       "11327              free             8                50                 0   \n",
       "11328              free             8                50                 0   \n",
       "11329              free             8                50                 0   \n",
       "11330              free             8                50                 0   \n",
       "\n",
       "       monthly_revenue  \n",
       "0                451.0  \n",
       "1                241.0  \n",
       "2                475.0  \n",
       "3                391.0  \n",
       "4                535.0  \n",
       "...                ...  \n",
       "11326            308.0  \n",
       "11327            484.0  \n",
       "11328            234.0  \n",
       "11329            824.0  \n",
       "11330            178.0  \n",
       "\n",
       "[11331 rows x 10 columns]"
      ]
     },
     "execution_count": 40,
     "metadata": {},
     "output_type": "execute_result"
    }
   ],
   "source": [
    "data_aggregated.columns = ['user_id', 'month', 'distance_sum', 'duration_sum', 'rides_count',\n",
    "                         'subscription_type', 'minute_price',\n",
    "                         'start_ride_price', 'subscription_fee']\n",
    " \n",
    "#расчёт выручки функцией (можно и без неё)\n",
    "def monthly_revenue(row):\n",
    "    return row['start_ride_price'] * row['rides_count'] + row['minute_price'] * row['duration_sum'] + row['subscription_fee']\n",
    " \n",
    "data_aggregated['monthly_revenue'] = data_aggregated.apply(monthly_revenue, axis=1)\n",
    "data_aggregated"
   ]
  },
  {
   "cell_type": "markdown",
   "id": "a148184f",
   "metadata": {},
   "source": [
    "**Вывод:** Был проанализрован подсчет выручки.\n",
    "\n",
    " - Было найдено суммарное расстояние, количество поездок и суммарное время для каждого пользователя за каждый месяц.\n",
    "\n",
    " - Была подсчитана помесячная выручка по пользователям."
   ]
  },
  {
   "cell_type": "markdown",
   "id": "41545ac0",
   "metadata": {},
   "source": [
    "#### Шаг 6. Проверка гипотез"
   ]
  },
  {
   "cell_type": "markdown",
   "id": "d5425093",
   "metadata": {},
   "source": [
    "**6.1 Важно понять, тратят ли пользователи с подпиской больше времени на поездки? Если да, то пользователи с подпиской могут быть «выгоднее» для компании. Проверьте гипотезу. Используйте исходные данные о продолжительности каждой сессии — отдельно для подписчиков и тех, у кого нет подписки.**"
   ]
  },
  {
   "cell_type": "markdown",
   "id": "2c1457ab",
   "metadata": {},
   "source": [
    "**H0** - Пользователи с подпиской и без подписки тратят одинаковое количество времени на поездки.\n",
    "\n",
    "**H1** - Пользователи с подпиской тратят больше времени на поездки"
   ]
  },
  {
   "cell_type": "code",
   "execution_count": 41,
   "id": "e31a5409",
   "metadata": {},
   "outputs": [
    {
     "name": "stdout",
     "output_type": "stream",
     "text": [
      "p-значение: 1.2804098316645618e-34\n",
      "Отвергаем нулевую гипотезу\n"
     ]
    }
   ],
   "source": [
    "alpha = 0.05\n",
    " \n",
    "results = st.ttest_ind(data_ultra['duration'], data_free['duration'], alternative = 'greater')\n",
    "\n",
    "print('p-значение:', results.pvalue)\n",
    "\n",
    "if results.pvalue < alpha:\n",
    "    print('Отвергаем нулевую гипотезу')\n",
    "else:\n",
    "    print('Нельзя отвергнуть нулевую гипотезу.')"
   ]
  },
  {
   "cell_type": "markdown",
   "id": "f43da922",
   "metadata": {},
   "source": [
    "**Вывод:** Нулевая гипотез не подтверждена. Значит пользователи с подпиской тратят больше времени на поездки."
   ]
  },
  {
   "cell_type": "markdown",
   "id": "02dd3350",
   "metadata": {},
   "source": [
    "**6.2 Расстояние одной поездки в 3130 метров — оптимальное с точки зрения износа самоката. Можно ли сказать, что среднее расстояние, которое проезжают пользователи с подпиской за одну поездку, не превышает 3130 метров? Проверьте гипотезу и сделайте выводы.**"
   ]
  },
  {
   "cell_type": "markdown",
   "id": "20295231",
   "metadata": {},
   "source": [
    "**H0** - Среднее расстояния, которое проезжают пользователи, не больше 3130 метров.\n",
    "\n",
    "**H1** - Среднее расстояние больше 3130 метров."
   ]
  },
  {
   "cell_type": "code",
   "execution_count": 42,
   "id": "5be4f3a9",
   "metadata": {},
   "outputs": [
    {
     "name": "stdout",
     "output_type": "stream",
     "text": [
      "p-значение: 0.0\n",
      "Нельзя отвергнуть нулевую гипотезу\n"
     ]
    }
   ],
   "source": [
    "optimal = 3130\n",
    "alpha = 0.05\n",
    "\n",
    "results = st.ttest_1samp(data_ultra['duration'], optimal, alternative='less')\n",
    "\n",
    "print('p-значение:', results.pvalue)\n",
    "\n",
    "if (results.pvalue > alpha):\n",
    "    print('Отвергаем нулевую гипотезу')\n",
    "else:\n",
    "    print('Нельзя отвергнуть нулевую гипотезу')"
   ]
  },
  {
   "cell_type": "markdown",
   "id": "38acde5a",
   "metadata": {},
   "source": [
    "**Вывод:** Нулевая гипотез не подтверждена. Значение p равно 0, значит среднее расстояние, которое пользователи проезжают за одну поездку больше 3130 метров."
   ]
  },
  {
   "cell_type": "markdown",
   "id": "7a05b8da",
   "metadata": {},
   "source": [
    "**6.3 Проверьте гипотезу о том, будет ли помесячная выручка от пользователей с подпиской по месяцам выше, чем выручка от пользователей без подписки. Сделайте вывод.**"
   ]
  },
  {
   "cell_type": "markdown",
   "id": "f7419215",
   "metadata": {},
   "source": [
    "**H0** - Среднее месячная выручка от пользователей с подпиской не больше чем от пользователей без подписки.\n",
    "\n",
    "**H1** - Среднее месячная выручка от пользователей с подпиской больше чем от пользователей без подписки."
   ]
  },
  {
   "cell_type": "code",
   "execution_count": 44,
   "id": "5f40cb32",
   "metadata": {},
   "outputs": [
    {
     "name": "stdout",
     "output_type": "stream",
     "text": [
      "p-значение: 1.0\n",
      "Нельзя отвергнуть нулевую гипотезу.\n"
     ]
    }
   ],
   "source": [
    "example_free = data_aggregated.query('subscription_type == \"free\"')['monthly_revenue']\n",
    "example_ultra = data_aggregated.query('subscription_type == \"ultra\"')['monthly_revenue']\n",
    "\n",
    "alpha = 0.05\n",
    "\n",
    "results = st.ttest_ind(example_free, example_ultra, alternative = 'greater')\n",
    "\n",
    "print('p-значение:', results.pvalue)\n",
    "\n",
    "if results.pvalue < alpha:\n",
    "    print('Отвергаем нулевую гипотезу')\n",
    "else:\n",
    "    print('Нельзя отвергнуть нулевую гипотезу.')\n"
   ]
  },
  {
   "cell_type": "markdown",
   "id": "7576ca9e",
   "metadata": {},
   "source": [
    "**Вывод:** Нулевая гипотез не подтверждена. В данном случае, значение p-значения составило 1.0, что означает, что нулевую гипотезу о том, что помесячная выручка от пользователей с подпиской выше, чем от пользователей без подписки, не удалось отвергнуть. В нашем случае значение p составило 1, значит"
   ]
  },
  {
   "cell_type": "markdown",
   "id": "9af56fa5",
   "metadata": {},
   "source": [
    "**6.4 Представьте такую ситуацию: техническая команда сервиса обновила сервера, с которыми взаимодействует мобильное приложение. Она надеется, что из-за этого количество обращений в техподдержку значимо снизилось. Некоторый файл содержит для каждого пользователя данные о количестве обращений до обновления и после него. Какой тест вам понадобился бы для проверки этой гипотезы?**"
   ]
  },
  {
   "cell_type": "markdown",
   "id": "a6e59beb",
   "metadata": {},
   "source": [
    "Для проверки гипотезы до и после обращений в техническую поддержку нужно использовать метод: scipy.stats.ttest_rel(). Для решения потребуется тест на равенство средних для зависимых выборок, до и после изменений."
   ]
  },
  {
   "cell_type": "markdown",
   "id": "a5ebaaf8",
   "metadata": {},
   "source": [
    "**Вывод:** Осуществлена проверка следующих гипотез:\n",
    "\n",
    " - Гипотеза о том тратят ли пользователи с подпиской больше времени на поездки. **Нулевая гипотеза отвергнута**\n",
    " \n",
    "\n",
    " - Гипотеза о том, что среднее расстояние, которое проезжают пользователи с подпиской за одну поездку, не превышает 3130 метров. **Нельзя отвергнуть нулевую гипотезу**\n",
    " \n",
    "\n",
    " - Гипотеза о том, будет ли помесячная выручка от пользователей с подпиской по месяцам выше, чем выручка от пользователей без подписки. **Нулевая гипотеза отвергнута**\n",
    "\n",
    "**Был предоставлен ответ на вопрос:** \"Представьте такую ситуацию: техническая команда сервиса обновила сервера, с которыми взаимодействует мобильное приложение. Она надеется, что из-за этого количество обращений в техподдержку значимо снизилось. Некоторый файл содержит для каждого пользователя данные о количестве обращений до обновления и после него. Какой тест вам понадобился бы для проверки этой гипотезы?\""
   ]
  },
  {
   "cell_type": "markdown",
   "id": "79cedac6",
   "metadata": {},
   "source": [
    "# Вывод:"
   ]
  },
  {
   "cell_type": "markdown",
   "id": "9caba510",
   "metadata": {},
   "source": [
    "В результате работы был исследован сервис аренды самокатов Gofast. Проделана следующая работа:\n",
    "\n",
    "1. Произведена загрузка данных.\n",
    "\n",
    "\n",
    "2. Осуществлена предобработка данных. Был заменен тип данных столбца date. Добавлен столбец с месяцами. Была осуществлена проверка пропущенных значений. Произведен поиск дубликотов.\n",
    "\n",
    "\n",
    "3. Были осуществлен исследовательский анализ данных в ходе, которого были сделаны следующие выводы:\n",
    " - Сервис наиболее популярен в Пятигорске и наименее популярен в Москве.\n",
    " \n",
    " - Пользователей без подписки больше 54.1%. \n",
    " \n",
    " - Средний возраст пользователя 24 года. Возраст варьируется от 12 до 43 лет.\n",
    " \n",
    " - Среднее расстояние которое пользователь преодолевает за одну поездку 3 км.\n",
    " \n",
    " - Средняя продолжительность поездки 18 минут.\n",
    " \n",
    " \n",
    "4. Данные были объединены в общий dataframe. Отдельно были созданы два датафрейма с пользователями без подписки и с подпиской. Проведена визуализация данных из которой можно сделать следующие выводы:\n",
    "\n",
    " - в среднем расстояние поездки для пользователей без подписки больше.\n",
    " \n",
    " - в среднем расстояние у людей с подпиской время поездок в меньше.\n",
    "\n",
    "\n",
    "5. Был проанализрован подсчет выручки.\n",
    "\n",
    " - Было найдено суммарное расстояние, количество поездок и суммарное время для каждого пользователя за каждый месяц.\n",
    "\n",
    " - Была подсчитана помесячная выручка по пользователям.\n",
    "\n",
    "\n",
    "6. Осуществлена проверка гипотез. \n",
    "   \n",
    "   Одна гипотеза была отвергнута, а именно:\n",
    "\n",
    " - Гипотеза о том тратят ли пользователи с подпиской больше времени на поездки.\n",
    "\n",
    "   Две гипотезы подтверждены:\n",
    "\n",
    " - Гипотеза о том, что среднее расстояние, которое проезжают пользователи с подпиской за одну поездку, не превышает 3130 метров.\n",
    " - Гипотеза о том, будет ли помесячная выручка от пользователей с подпиской по месяцам выше, чем выручка от пользователей без подписки."
   ]
  }
 ],
 "metadata": {
  "ExecuteTimeLog": [
   {
    "duration": 1363,
    "start_time": "2023-10-30T14:12:04.547Z"
   },
   {
    "duration": 81,
    "start_time": "2023-10-31T14:36:25.967Z"
   },
   {
    "duration": 43,
    "start_time": "2023-10-31T14:36:31.762Z"
   },
   {
    "duration": 1289,
    "start_time": "2023-10-31T14:36:36.256Z"
   },
   {
    "duration": 205,
    "start_time": "2023-10-31T14:36:39.625Z"
   },
   {
    "duration": 83,
    "start_time": "2023-10-31T14:37:02.600Z"
   },
   {
    "duration": 22,
    "start_time": "2023-10-31T14:37:24.834Z"
   },
   {
    "duration": 22,
    "start_time": "2023-10-31T14:38:05.527Z"
   },
   {
    "duration": 68,
    "start_time": "2023-10-31T14:38:45.022Z"
   },
   {
    "duration": 88,
    "start_time": "2023-10-31T14:39:30.049Z"
   },
   {
    "duration": 12,
    "start_time": "2023-10-31T14:39:35.329Z"
   },
   {
    "duration": 7,
    "start_time": "2023-10-31T14:40:24.658Z"
   },
   {
    "duration": 8,
    "start_time": "2023-10-31T14:40:43.001Z"
   },
   {
    "duration": 9,
    "start_time": "2023-10-31T14:40:44.251Z"
   },
   {
    "duration": 8,
    "start_time": "2023-10-31T14:40:52.340Z"
   },
   {
    "duration": 66,
    "start_time": "2023-10-31T14:55:57.622Z"
   },
   {
    "duration": 12,
    "start_time": "2023-10-31T14:56:18.706Z"
   },
   {
    "duration": 1232,
    "start_time": "2023-10-31T14:56:50.020Z"
   },
   {
    "duration": 71,
    "start_time": "2023-10-31T14:56:51.254Z"
   },
   {
    "duration": 25,
    "start_time": "2023-10-31T14:56:51.326Z"
   },
   {
    "duration": 53,
    "start_time": "2023-10-31T14:56:51.353Z"
   },
   {
    "duration": 75,
    "start_time": "2023-10-31T14:56:51.408Z"
   },
   {
    "duration": 48,
    "start_time": "2023-10-31T14:56:51.484Z"
   },
   {
    "duration": 24,
    "start_time": "2023-10-31T14:56:51.534Z"
   },
   {
    "duration": 72,
    "start_time": "2023-10-31T14:57:15.129Z"
   },
   {
    "duration": 1825,
    "start_time": "2023-10-31T14:58:41.751Z"
   },
   {
    "duration": 8,
    "start_time": "2023-10-31T14:59:45.613Z"
   },
   {
    "duration": 5,
    "start_time": "2023-10-31T15:01:14.909Z"
   },
   {
    "duration": 17,
    "start_time": "2023-10-31T15:01:20.891Z"
   },
   {
    "duration": 9,
    "start_time": "2023-10-31T15:02:22.274Z"
   },
   {
    "duration": 7,
    "start_time": "2023-10-31T15:02:37.134Z"
   },
   {
    "duration": 12,
    "start_time": "2023-10-31T15:02:56.329Z"
   },
   {
    "duration": 9,
    "start_time": "2023-10-31T15:03:02.208Z"
   },
   {
    "duration": 6,
    "start_time": "2023-10-31T15:03:49.090Z"
   },
   {
    "duration": 6,
    "start_time": "2023-10-31T15:03:51.635Z"
   },
   {
    "duration": 6,
    "start_time": "2023-10-31T15:03:53.511Z"
   },
   {
    "duration": 152,
    "start_time": "2023-10-31T15:04:39.134Z"
   },
   {
    "duration": 8,
    "start_time": "2023-10-31T15:07:01.841Z"
   },
   {
    "duration": 6,
    "start_time": "2023-10-31T15:07:09.412Z"
   },
   {
    "duration": 8,
    "start_time": "2023-10-31T15:07:18.471Z"
   },
   {
    "duration": 9,
    "start_time": "2023-10-31T15:07:38.671Z"
   },
   {
    "duration": 14,
    "start_time": "2023-10-31T15:11:17.194Z"
   },
   {
    "duration": 14,
    "start_time": "2023-10-31T15:12:11.165Z"
   },
   {
    "duration": 8,
    "start_time": "2023-10-31T15:12:31.810Z"
   },
   {
    "duration": 5,
    "start_time": "2023-10-31T15:12:50.072Z"
   },
   {
    "duration": 85,
    "start_time": "2023-10-31T15:13:55.706Z"
   },
   {
    "duration": 90,
    "start_time": "2023-10-31T15:14:23.541Z"
   },
   {
    "duration": 9,
    "start_time": "2023-10-31T15:17:03.518Z"
   },
   {
    "duration": 7,
    "start_time": "2023-10-31T15:17:12.832Z"
   },
   {
    "duration": 76,
    "start_time": "2023-10-31T15:18:52.184Z"
   },
   {
    "duration": 77,
    "start_time": "2023-10-31T15:18:59.796Z"
   },
   {
    "duration": 7,
    "start_time": "2023-10-31T15:19:47.416Z"
   },
   {
    "duration": 7,
    "start_time": "2023-10-31T15:19:55.495Z"
   },
   {
    "duration": 6,
    "start_time": "2023-10-31T15:19:58.994Z"
   },
   {
    "duration": 5,
    "start_time": "2023-10-31T15:21:13.879Z"
   },
   {
    "duration": 5,
    "start_time": "2023-10-31T15:21:38.381Z"
   },
   {
    "duration": 101,
    "start_time": "2023-10-31T15:24:06.415Z"
   },
   {
    "duration": 106,
    "start_time": "2023-10-31T15:24:24.537Z"
   },
   {
    "duration": 105,
    "start_time": "2023-10-31T15:24:36.074Z"
   },
   {
    "duration": 110,
    "start_time": "2023-10-31T15:24:50.243Z"
   },
   {
    "duration": 93,
    "start_time": "2023-10-31T15:25:41.844Z"
   },
   {
    "duration": 99,
    "start_time": "2023-10-31T15:26:06.510Z"
   },
   {
    "duration": 96,
    "start_time": "2023-10-31T15:26:20.127Z"
   },
   {
    "duration": 96,
    "start_time": "2023-10-31T15:26:30.064Z"
   },
   {
    "duration": 183,
    "start_time": "2023-10-31T15:26:37.663Z"
   },
   {
    "duration": 99,
    "start_time": "2023-10-31T15:26:51.261Z"
   },
   {
    "duration": 84,
    "start_time": "2023-10-31T15:27:10.231Z"
   },
   {
    "duration": 20,
    "start_time": "2023-10-31T15:29:25.653Z"
   },
   {
    "duration": 14,
    "start_time": "2023-10-31T15:29:33.197Z"
   },
   {
    "duration": 15,
    "start_time": "2023-10-31T15:30:32.758Z"
   },
   {
    "duration": 25253,
    "start_time": "2023-10-31T15:31:29.667Z"
   },
   {
    "duration": 158,
    "start_time": "2023-10-31T15:34:45.657Z"
   },
   {
    "duration": 153,
    "start_time": "2023-10-31T15:35:08.631Z"
   },
   {
    "duration": 162,
    "start_time": "2023-10-31T15:35:13.197Z"
   },
   {
    "duration": 141,
    "start_time": "2023-10-31T15:41:09.370Z"
   },
   {
    "duration": 557,
    "start_time": "2023-10-31T15:41:32.834Z"
   },
   {
    "duration": 138,
    "start_time": "2023-10-31T15:43:21.609Z"
   },
   {
    "duration": 137,
    "start_time": "2023-10-31T15:43:43.352Z"
   },
   {
    "duration": 178,
    "start_time": "2023-10-31T15:45:08.602Z"
   },
   {
    "duration": 1336,
    "start_time": "2023-10-31T15:45:47.402Z"
   },
   {
    "duration": 1287,
    "start_time": "2023-10-31T15:46:03.529Z"
   },
   {
    "duration": 1207,
    "start_time": "2023-10-31T15:46:12.035Z"
   },
   {
    "duration": 1282,
    "start_time": "2023-10-31T15:46:17.009Z"
   },
   {
    "duration": 1344,
    "start_time": "2023-10-31T15:46:22.207Z"
   },
   {
    "duration": 1301,
    "start_time": "2023-10-31T15:47:00.897Z"
   },
   {
    "duration": 128,
    "start_time": "2023-10-31T15:48:38.298Z"
   },
   {
    "duration": 128,
    "start_time": "2023-10-31T15:48:56.427Z"
   },
   {
    "duration": 116,
    "start_time": "2023-10-31T15:49:40.540Z"
   },
   {
    "duration": 113,
    "start_time": "2023-10-31T15:49:51.760Z"
   },
   {
    "duration": 119,
    "start_time": "2023-10-31T15:50:49.688Z"
   },
   {
    "duration": 133,
    "start_time": "2023-10-31T15:50:59.465Z"
   },
   {
    "duration": 130,
    "start_time": "2023-10-31T15:51:08.024Z"
   },
   {
    "duration": 230,
    "start_time": "2023-10-31T15:51:52.742Z"
   },
   {
    "duration": 74,
    "start_time": "2023-10-31T15:52:29.804Z"
   },
   {
    "duration": 110,
    "start_time": "2023-10-31T15:53:58.730Z"
   },
   {
    "duration": 132,
    "start_time": "2023-10-31T15:54:10.894Z"
   },
   {
    "duration": 93,
    "start_time": "2023-10-31T15:57:50.382Z"
   },
   {
    "duration": 93,
    "start_time": "2023-10-31T15:58:19.812Z"
   },
   {
    "duration": 206,
    "start_time": "2023-10-31T16:01:30.475Z"
   },
   {
    "duration": 8,
    "start_time": "2023-10-31T16:01:55.070Z"
   },
   {
    "duration": 78,
    "start_time": "2023-10-31T16:19:36.091Z"
   },
   {
    "duration": 1278,
    "start_time": "2023-10-31T16:24:39.312Z"
   },
   {
    "duration": 256,
    "start_time": "2023-10-31T16:24:50.659Z"
   },
   {
    "duration": 176,
    "start_time": "2023-10-31T16:24:59.204Z"
   },
   {
    "duration": 285,
    "start_time": "2023-10-31T16:25:05.160Z"
   },
   {
    "duration": 1220,
    "start_time": "2023-10-31T16:25:28.543Z"
   },
   {
    "duration": 2433,
    "start_time": "2023-10-31T16:25:56.880Z"
   },
   {
    "duration": 265,
    "start_time": "2023-10-31T16:26:10.019Z"
   },
   {
    "duration": 283,
    "start_time": "2023-10-31T16:26:29.002Z"
   },
   {
    "duration": 290,
    "start_time": "2023-10-31T16:26:58.580Z"
   },
   {
    "duration": 290,
    "start_time": "2023-10-31T16:30:16.817Z"
   },
   {
    "duration": 372,
    "start_time": "2023-10-31T16:33:27.160Z"
   },
   {
    "duration": 268,
    "start_time": "2023-10-31T16:34:03.334Z"
   },
   {
    "duration": 1430,
    "start_time": "2023-10-31T16:34:13.923Z"
   },
   {
    "duration": 1213,
    "start_time": "2023-10-31T16:34:25.875Z"
   },
   {
    "duration": 199,
    "start_time": "2023-10-31T16:34:29.060Z"
   },
   {
    "duration": 1348,
    "start_time": "2023-10-31T16:35:23.969Z"
   },
   {
    "duration": 117,
    "start_time": "2023-10-31T16:35:37.211Z"
   },
   {
    "duration": 108,
    "start_time": "2023-10-31T16:35:51.996Z"
   },
   {
    "duration": 110,
    "start_time": "2023-10-31T16:35:58.891Z"
   },
   {
    "duration": 76,
    "start_time": "2023-10-31T16:36:02.799Z"
   },
   {
    "duration": 74,
    "start_time": "2023-10-31T16:36:11.908Z"
   },
   {
    "duration": 78,
    "start_time": "2023-10-31T16:36:53.449Z"
   },
   {
    "duration": 81,
    "start_time": "2023-10-31T16:36:59.426Z"
   },
   {
    "duration": 77,
    "start_time": "2023-10-31T16:37:06.949Z"
   },
   {
    "duration": 74,
    "start_time": "2023-10-31T16:37:10.473Z"
   },
   {
    "duration": 87,
    "start_time": "2023-10-31T16:37:14.733Z"
   },
   {
    "duration": 81,
    "start_time": "2023-10-31T16:38:28.696Z"
   },
   {
    "duration": 346,
    "start_time": "2023-10-31T16:39:22.287Z"
   },
   {
    "duration": 417,
    "start_time": "2023-10-31T16:40:01.432Z"
   },
   {
    "duration": 413,
    "start_time": "2023-10-31T16:41:48.370Z"
   },
   {
    "duration": 461,
    "start_time": "2023-10-31T16:42:02.445Z"
   },
   {
    "duration": 82,
    "start_time": "2023-10-31T16:46:55.726Z"
   },
   {
    "duration": 17,
    "start_time": "2023-10-31T17:03:30.546Z"
   },
   {
    "duration": 30,
    "start_time": "2023-10-31T17:03:34.289Z"
   },
   {
    "duration": 1241,
    "start_time": "2023-10-31T17:03:55.155Z"
   },
   {
    "duration": 72,
    "start_time": "2023-10-31T17:03:56.398Z"
   },
   {
    "duration": 96,
    "start_time": "2023-10-31T17:03:56.472Z"
   },
   {
    "duration": 118,
    "start_time": "2023-10-31T17:03:56.571Z"
   },
   {
    "duration": 41,
    "start_time": "2023-10-31T17:03:56.692Z"
   },
   {
    "duration": 33,
    "start_time": "2023-10-31T17:03:56.734Z"
   },
   {
    "duration": 36,
    "start_time": "2023-10-31T17:03:56.769Z"
   },
   {
    "duration": 31,
    "start_time": "2023-10-31T17:03:56.807Z"
   },
   {
    "duration": 24,
    "start_time": "2023-10-31T17:03:56.840Z"
   },
   {
    "duration": 52,
    "start_time": "2023-10-31T17:03:56.866Z"
   },
   {
    "duration": 36,
    "start_time": "2023-10-31T17:03:56.921Z"
   },
   {
    "duration": 57,
    "start_time": "2023-10-31T17:03:56.959Z"
   },
   {
    "duration": 40,
    "start_time": "2023-10-31T17:03:57.018Z"
   },
   {
    "duration": 17,
    "start_time": "2023-10-31T17:03:57.061Z"
   },
   {
    "duration": 25,
    "start_time": "2023-10-31T17:03:57.079Z"
   },
   {
    "duration": 38,
    "start_time": "2023-10-31T17:03:57.106Z"
   },
   {
    "duration": 39,
    "start_time": "2023-10-31T17:03:57.145Z"
   },
   {
    "duration": 131,
    "start_time": "2023-10-31T17:03:57.186Z"
   },
   {
    "duration": 150,
    "start_time": "2023-10-31T17:03:57.319Z"
   },
   {
    "duration": 130,
    "start_time": "2023-10-31T17:03:57.471Z"
   },
   {
    "duration": 107,
    "start_time": "2023-10-31T17:03:57.602Z"
   },
   {
    "duration": 209,
    "start_time": "2023-10-31T17:03:57.711Z"
   },
   {
    "duration": 7,
    "start_time": "2023-10-31T17:03:57.924Z"
   },
   {
    "duration": 281,
    "start_time": "2023-10-31T17:03:57.933Z"
   },
   {
    "duration": 119,
    "start_time": "2023-10-31T17:03:58.216Z"
   },
   {
    "duration": 491,
    "start_time": "2023-10-31T17:03:58.337Z"
   },
   {
    "duration": 30,
    "start_time": "2023-10-31T17:03:58.829Z"
   },
   {
    "duration": 9,
    "start_time": "2023-10-31T17:06:08.346Z"
   },
   {
    "duration": 55,
    "start_time": "2023-10-31T17:08:07.444Z"
   },
   {
    "duration": 40,
    "start_time": "2023-10-31T17:08:12.558Z"
   },
   {
    "duration": 19,
    "start_time": "2023-10-31T17:10:09.081Z"
   },
   {
    "duration": 27,
    "start_time": "2023-10-31T17:10:27.287Z"
   },
   {
    "duration": 20,
    "start_time": "2023-10-31T17:12:12.259Z"
   },
   {
    "duration": 86,
    "start_time": "2023-10-31T17:16:31.006Z"
   },
   {
    "duration": 103,
    "start_time": "2023-10-31T17:18:36.921Z"
   },
   {
    "duration": 371,
    "start_time": "2023-10-31T17:19:05.566Z"
   },
   {
    "duration": 312,
    "start_time": "2023-10-31T17:19:17.678Z"
   },
   {
    "duration": 207,
    "start_time": "2023-10-31T17:21:48.954Z"
   },
   {
    "duration": 308,
    "start_time": "2023-10-31T17:21:54.746Z"
   },
   {
    "duration": 422,
    "start_time": "2023-10-31T17:24:08.864Z"
   },
   {
    "duration": 299,
    "start_time": "2023-10-31T17:24:34.220Z"
   },
   {
    "duration": 363,
    "start_time": "2023-10-31T17:25:00.321Z"
   },
   {
    "duration": 291,
    "start_time": "2023-10-31T17:25:09.669Z"
   },
   {
    "duration": 76,
    "start_time": "2023-10-31T17:26:06.702Z"
   },
   {
    "duration": 14,
    "start_time": "2023-10-31T17:27:24.566Z"
   },
   {
    "duration": 12,
    "start_time": "2023-10-31T17:28:21.873Z"
   },
   {
    "duration": 1161,
    "start_time": "2023-10-31T17:34:36.095Z"
   },
   {
    "duration": 71,
    "start_time": "2023-10-31T17:34:37.259Z"
   },
   {
    "duration": 70,
    "start_time": "2023-10-31T17:34:37.331Z"
   },
   {
    "duration": 72,
    "start_time": "2023-10-31T17:34:37.404Z"
   },
   {
    "duration": 23,
    "start_time": "2023-10-31T17:34:37.477Z"
   },
   {
    "duration": 12,
    "start_time": "2023-10-31T17:34:37.501Z"
   },
   {
    "duration": 18,
    "start_time": "2023-10-31T17:34:37.515Z"
   },
   {
    "duration": 14,
    "start_time": "2023-10-31T17:34:37.535Z"
   },
   {
    "duration": 13,
    "start_time": "2023-10-31T17:34:37.551Z"
   },
   {
    "duration": 14,
    "start_time": "2023-10-31T17:34:37.567Z"
   },
   {
    "duration": 17,
    "start_time": "2023-10-31T17:34:37.583Z"
   },
   {
    "duration": 30,
    "start_time": "2023-10-31T17:34:37.602Z"
   },
   {
    "duration": 27,
    "start_time": "2023-10-31T17:34:37.634Z"
   },
   {
    "duration": 9,
    "start_time": "2023-10-31T17:34:37.663Z"
   },
   {
    "duration": 7,
    "start_time": "2023-10-31T17:34:37.674Z"
   },
   {
    "duration": 19,
    "start_time": "2023-10-31T17:34:37.683Z"
   },
   {
    "duration": 25,
    "start_time": "2023-10-31T17:34:37.704Z"
   },
   {
    "duration": 134,
    "start_time": "2023-10-31T17:34:37.731Z"
   },
   {
    "duration": 164,
    "start_time": "2023-10-31T17:34:37.867Z"
   },
   {
    "duration": 132,
    "start_time": "2023-10-31T17:34:38.033Z"
   },
   {
    "duration": 113,
    "start_time": "2023-10-31T17:34:38.167Z"
   },
   {
    "duration": 203,
    "start_time": "2023-10-31T17:34:38.282Z"
   },
   {
    "duration": 8,
    "start_time": "2023-10-31T17:34:38.487Z"
   },
   {
    "duration": 495,
    "start_time": "2023-10-31T17:34:38.497Z"
   },
   {
    "duration": 119,
    "start_time": "2023-10-31T17:34:38.994Z"
   },
   {
    "duration": 477,
    "start_time": "2023-10-31T17:34:39.115Z"
   },
   {
    "duration": 43,
    "start_time": "2023-10-31T17:34:39.594Z"
   },
   {
    "duration": 8,
    "start_time": "2023-10-31T17:34:39.641Z"
   },
   {
    "duration": 72,
    "start_time": "2023-10-31T17:34:39.651Z"
   },
   {
    "duration": 100,
    "start_time": "2023-10-31T17:34:39.725Z"
   },
   {
    "duration": 375,
    "start_time": "2023-10-31T17:34:39.826Z"
   },
   {
    "duration": 12,
    "start_time": "2023-10-31T17:34:40.202Z"
   },
   {
    "duration": 336,
    "start_time": "2023-10-31T17:34:40.224Z"
   },
   {
    "duration": 11,
    "start_time": "2023-10-31T17:34:40.562Z"
   },
   {
    "duration": 75,
    "start_time": "2023-10-31T17:53:52.243Z"
   },
   {
    "duration": 19,
    "start_time": "2023-10-31T17:54:09.157Z"
   },
   {
    "duration": 15,
    "start_time": "2023-10-31T17:54:20.983Z"
   },
   {
    "duration": 18,
    "start_time": "2023-10-31T17:54:31.142Z"
   },
   {
    "duration": 667,
    "start_time": "2023-10-31T18:10:15.778Z"
   },
   {
    "duration": 3,
    "start_time": "2023-10-31T18:11:34.123Z"
   },
   {
    "duration": 8,
    "start_time": "2023-10-31T18:11:39.016Z"
   },
   {
    "duration": 14,
    "start_time": "2023-10-31T18:12:37.999Z"
   },
   {
    "duration": 103,
    "start_time": "2023-10-31T18:21:56.800Z"
   },
   {
    "duration": 83,
    "start_time": "2023-10-31T18:22:09.732Z"
   },
   {
    "duration": 94,
    "start_time": "2023-10-31T18:23:06.409Z"
   },
   {
    "duration": 80,
    "start_time": "2023-10-31T18:23:08.989Z"
   },
   {
    "duration": 73,
    "start_time": "2023-10-31T18:27:19.839Z"
   },
   {
    "duration": 82,
    "start_time": "2023-10-31T18:27:54.728Z"
   },
   {
    "duration": 14,
    "start_time": "2023-10-31T18:35:14.728Z"
   },
   {
    "duration": 12,
    "start_time": "2023-10-31T18:41:29.665Z"
   },
   {
    "duration": 10,
    "start_time": "2023-10-31T18:41:48.113Z"
   },
   {
    "duration": 6,
    "start_time": "2023-10-31T18:43:06.319Z"
   },
   {
    "duration": 22,
    "start_time": "2023-10-31T18:43:13.387Z"
   },
   {
    "duration": 18,
    "start_time": "2023-10-31T18:47:12.963Z"
   },
   {
    "duration": 40,
    "start_time": "2023-10-31T18:47:37.750Z"
   },
   {
    "duration": 25,
    "start_time": "2023-10-31T18:54:04.848Z"
   },
   {
    "duration": 37,
    "start_time": "2023-10-31T18:54:12.430Z"
   },
   {
    "duration": 40,
    "start_time": "2023-10-31T18:55:02.661Z"
   },
   {
    "duration": 9,
    "start_time": "2023-10-31T18:57:10.061Z"
   },
   {
    "duration": 3,
    "start_time": "2023-10-31T18:57:28.633Z"
   },
   {
    "duration": 4,
    "start_time": "2023-10-31T18:57:33.438Z"
   },
   {
    "duration": 40,
    "start_time": "2023-10-31T18:57:36.416Z"
   },
   {
    "duration": 36,
    "start_time": "2023-10-31T18:58:18.127Z"
   },
   {
    "duration": 1256,
    "start_time": "2023-10-31T19:04:48.453Z"
   },
   {
    "duration": 1367,
    "start_time": "2023-10-31T19:06:56.304Z"
   },
   {
    "duration": 13,
    "start_time": "2023-10-31T19:08:06.714Z"
   },
   {
    "duration": 1288,
    "start_time": "2023-10-31T19:08:44.057Z"
   },
   {
    "duration": 22,
    "start_time": "2023-10-31T19:10:38.357Z"
   },
   {
    "duration": 19,
    "start_time": "2023-10-31T19:10:51.773Z"
   },
   {
    "duration": 23,
    "start_time": "2023-10-31T19:11:55.536Z"
   },
   {
    "duration": 1272,
    "start_time": "2023-10-31T19:13:43.666Z"
   },
   {
    "duration": 11,
    "start_time": "2023-10-31T19:21:15.088Z"
   },
   {
    "duration": 322,
    "start_time": "2023-10-31T19:21:27.074Z"
   },
   {
    "duration": 12,
    "start_time": "2023-10-31T19:23:21.719Z"
   },
   {
    "duration": 180,
    "start_time": "2023-10-31T19:23:48.046Z"
   },
   {
    "duration": 12,
    "start_time": "2023-10-31T19:23:54.532Z"
   },
   {
    "duration": 194,
    "start_time": "2023-10-31T19:25:28.990Z"
   },
   {
    "duration": 1184,
    "start_time": "2023-10-31T19:26:09.965Z"
   },
   {
    "duration": 71,
    "start_time": "2023-10-31T19:26:11.151Z"
   },
   {
    "duration": 28,
    "start_time": "2023-10-31T19:26:11.223Z"
   },
   {
    "duration": 16,
    "start_time": "2023-10-31T19:26:11.254Z"
   },
   {
    "duration": 10,
    "start_time": "2023-10-31T19:26:11.273Z"
   },
   {
    "duration": 8,
    "start_time": "2023-10-31T19:26:11.285Z"
   },
   {
    "duration": 16,
    "start_time": "2023-10-31T19:26:11.324Z"
   },
   {
    "duration": 20,
    "start_time": "2023-10-31T19:26:11.342Z"
   },
   {
    "duration": 6,
    "start_time": "2023-10-31T19:26:11.364Z"
   },
   {
    "duration": 6,
    "start_time": "2023-10-31T19:26:11.373Z"
   },
   {
    "duration": 5,
    "start_time": "2023-10-31T19:26:11.381Z"
   },
   {
    "duration": 40,
    "start_time": "2023-10-31T19:26:11.388Z"
   },
   {
    "duration": 15,
    "start_time": "2023-10-31T19:26:11.429Z"
   },
   {
    "duration": 8,
    "start_time": "2023-10-31T19:26:11.446Z"
   },
   {
    "duration": 23,
    "start_time": "2023-10-31T19:26:11.456Z"
   },
   {
    "duration": 15,
    "start_time": "2023-10-31T19:26:11.481Z"
   },
   {
    "duration": 6,
    "start_time": "2023-10-31T19:26:11.498Z"
   },
   {
    "duration": 137,
    "start_time": "2023-10-31T19:26:11.506Z"
   },
   {
    "duration": 148,
    "start_time": "2023-10-31T19:26:11.645Z"
   },
   {
    "duration": 140,
    "start_time": "2023-10-31T19:26:11.795Z"
   },
   {
    "duration": 112,
    "start_time": "2023-10-31T19:26:11.937Z"
   },
   {
    "duration": 208,
    "start_time": "2023-10-31T19:26:12.051Z"
   },
   {
    "duration": 8,
    "start_time": "2023-10-31T19:26:12.261Z"
   },
   {
    "duration": 286,
    "start_time": "2023-10-31T19:26:12.271Z"
   },
   {
    "duration": 120,
    "start_time": "2023-10-31T19:26:12.558Z"
   },
   {
    "duration": 469,
    "start_time": "2023-10-31T19:26:12.680Z"
   },
   {
    "duration": 31,
    "start_time": "2023-10-31T19:26:13.151Z"
   },
   {
    "duration": 45,
    "start_time": "2023-10-31T19:26:13.185Z"
   },
   {
    "duration": 43,
    "start_time": "2023-10-31T19:26:13.231Z"
   },
   {
    "duration": 30,
    "start_time": "2023-10-31T19:26:13.276Z"
   },
   {
    "duration": 343,
    "start_time": "2023-10-31T19:26:13.308Z"
   },
   {
    "duration": 13,
    "start_time": "2023-10-31T19:26:13.653Z"
   },
   {
    "duration": 501,
    "start_time": "2023-10-31T19:26:13.668Z"
   },
   {
    "duration": 12,
    "start_time": "2023-10-31T19:26:14.171Z"
   },
   {
    "duration": 21,
    "start_time": "2023-10-31T19:26:14.185Z"
   },
   {
    "duration": 63,
    "start_time": "2023-10-31T19:26:14.208Z"
   },
   {
    "duration": 1207,
    "start_time": "2023-10-31T19:26:14.273Z"
   },
   {
    "duration": 14295,
    "start_time": "2023-10-31T19:28:42.349Z"
   },
   {
    "duration": 14139,
    "start_time": "2023-10-31T19:29:51.524Z"
   },
   {
    "duration": 13953,
    "start_time": "2023-10-31T19:30:15.684Z"
   },
   {
    "duration": 1194,
    "start_time": "2023-10-31T19:30:42.706Z"
   },
   {
    "duration": 71,
    "start_time": "2023-10-31T19:30:43.901Z"
   },
   {
    "duration": 23,
    "start_time": "2023-10-31T19:30:43.973Z"
   },
   {
    "duration": 11,
    "start_time": "2023-10-31T19:30:43.998Z"
   },
   {
    "duration": 23,
    "start_time": "2023-10-31T19:30:44.011Z"
   },
   {
    "duration": 29,
    "start_time": "2023-10-31T19:30:44.035Z"
   },
   {
    "duration": 39,
    "start_time": "2023-10-31T19:30:44.065Z"
   },
   {
    "duration": 22,
    "start_time": "2023-10-31T19:30:44.106Z"
   },
   {
    "duration": 17,
    "start_time": "2023-10-31T19:30:44.129Z"
   },
   {
    "duration": 42,
    "start_time": "2023-10-31T19:30:44.148Z"
   },
   {
    "duration": 37,
    "start_time": "2023-10-31T19:30:44.192Z"
   },
   {
    "duration": 37,
    "start_time": "2023-10-31T19:30:44.231Z"
   },
   {
    "duration": 64,
    "start_time": "2023-10-31T19:30:44.269Z"
   },
   {
    "duration": 25,
    "start_time": "2023-10-31T19:30:44.336Z"
   },
   {
    "duration": 19,
    "start_time": "2023-10-31T19:30:44.363Z"
   },
   {
    "duration": 24,
    "start_time": "2023-10-31T19:30:44.384Z"
   },
   {
    "duration": 8,
    "start_time": "2023-10-31T19:30:44.410Z"
   },
   {
    "duration": 145,
    "start_time": "2023-10-31T19:30:44.419Z"
   },
   {
    "duration": 152,
    "start_time": "2023-10-31T19:30:44.565Z"
   },
   {
    "duration": 131,
    "start_time": "2023-10-31T19:30:44.719Z"
   },
   {
    "duration": 98,
    "start_time": "2023-10-31T19:30:44.852Z"
   },
   {
    "duration": 201,
    "start_time": "2023-10-31T19:30:44.952Z"
   },
   {
    "duration": 8,
    "start_time": "2023-10-31T19:30:45.155Z"
   },
   {
    "duration": 347,
    "start_time": "2023-10-31T19:30:45.164Z"
   },
   {
    "duration": 113,
    "start_time": "2023-10-31T19:30:45.512Z"
   },
   {
    "duration": 453,
    "start_time": "2023-10-31T19:30:45.627Z"
   },
   {
    "duration": 29,
    "start_time": "2023-10-31T19:30:46.082Z"
   },
   {
    "duration": 8,
    "start_time": "2023-10-31T19:30:46.124Z"
   },
   {
    "duration": 20,
    "start_time": "2023-10-31T19:30:46.134Z"
   },
   {
    "duration": 20,
    "start_time": "2023-10-31T19:30:46.156Z"
   },
   {
    "duration": 325,
    "start_time": "2023-10-31T19:30:46.177Z"
   },
   {
    "duration": 20,
    "start_time": "2023-10-31T19:30:46.504Z"
   },
   {
    "duration": 426,
    "start_time": "2023-10-31T19:30:46.526Z"
   },
   {
    "duration": 14,
    "start_time": "2023-10-31T19:30:46.954Z"
   },
   {
    "duration": 41,
    "start_time": "2023-10-31T19:30:46.970Z"
   },
   {
    "duration": 51,
    "start_time": "2023-10-31T19:30:47.012Z"
   },
   {
    "duration": 13866,
    "start_time": "2023-10-31T19:30:47.064Z"
   },
   {
    "duration": 5,
    "start_time": "2023-10-31T19:39:36.554Z"
   },
   {
    "duration": 7,
    "start_time": "2023-10-31T19:48:37.937Z"
   },
   {
    "duration": 6,
    "start_time": "2023-10-31T19:50:03.932Z"
   },
   {
    "duration": 119,
    "start_time": "2023-10-31T19:54:57.258Z"
   },
   {
    "duration": 40,
    "start_time": "2023-10-31T19:56:44.717Z"
   },
   {
    "duration": 36,
    "start_time": "2023-10-31T19:57:22.240Z"
   },
   {
    "duration": 33,
    "start_time": "2023-10-31T19:57:33.602Z"
   },
   {
    "duration": 1294,
    "start_time": "2023-10-31T19:58:11.287Z"
   },
   {
    "duration": 77,
    "start_time": "2023-10-31T19:58:12.583Z"
   },
   {
    "duration": 27,
    "start_time": "2023-10-31T19:58:12.663Z"
   },
   {
    "duration": 12,
    "start_time": "2023-10-31T19:58:12.692Z"
   },
   {
    "duration": 11,
    "start_time": "2023-10-31T19:58:12.706Z"
   },
   {
    "duration": 16,
    "start_time": "2023-10-31T19:58:12.725Z"
   },
   {
    "duration": 23,
    "start_time": "2023-10-31T19:58:12.744Z"
   },
   {
    "duration": 21,
    "start_time": "2023-10-31T19:58:12.769Z"
   },
   {
    "duration": 39,
    "start_time": "2023-10-31T19:58:12.792Z"
   },
   {
    "duration": 9,
    "start_time": "2023-10-31T19:58:12.836Z"
   },
   {
    "duration": 6,
    "start_time": "2023-10-31T19:58:12.846Z"
   },
   {
    "duration": 8,
    "start_time": "2023-10-31T19:58:12.854Z"
   },
   {
    "duration": 14,
    "start_time": "2023-10-31T19:58:12.863Z"
   },
   {
    "duration": 9,
    "start_time": "2023-10-31T19:58:12.879Z"
   },
   {
    "duration": 45,
    "start_time": "2023-10-31T19:58:12.890Z"
   },
   {
    "duration": 9,
    "start_time": "2023-10-31T19:58:12.940Z"
   },
   {
    "duration": 9,
    "start_time": "2023-10-31T19:58:12.950Z"
   },
   {
    "duration": 152,
    "start_time": "2023-10-31T19:58:12.961Z"
   },
   {
    "duration": 173,
    "start_time": "2023-10-31T19:58:13.114Z"
   },
   {
    "duration": 147,
    "start_time": "2023-10-31T19:58:13.289Z"
   },
   {
    "duration": 123,
    "start_time": "2023-10-31T19:58:13.438Z"
   },
   {
    "duration": 233,
    "start_time": "2023-10-31T19:58:13.563Z"
   },
   {
    "duration": 11,
    "start_time": "2023-10-31T19:58:13.799Z"
   },
   {
    "duration": 350,
    "start_time": "2023-10-31T19:58:13.824Z"
   },
   {
    "duration": 142,
    "start_time": "2023-10-31T19:58:14.176Z"
   },
   {
    "duration": 524,
    "start_time": "2023-10-31T19:58:14.320Z"
   },
   {
    "duration": 37,
    "start_time": "2023-10-31T19:58:14.846Z"
   },
   {
    "duration": 44,
    "start_time": "2023-10-31T19:58:14.887Z"
   },
   {
    "duration": 110,
    "start_time": "2023-10-31T19:58:14.934Z"
   },
   {
    "duration": 67,
    "start_time": "2023-10-31T19:58:15.046Z"
   },
   {
    "duration": 347,
    "start_time": "2023-10-31T19:58:15.114Z"
   },
   {
    "duration": 14,
    "start_time": "2023-10-31T19:58:15.463Z"
   },
   {
    "duration": 369,
    "start_time": "2023-10-31T19:58:15.479Z"
   },
   {
    "duration": 18,
    "start_time": "2023-10-31T19:58:15.850Z"
   },
   {
    "duration": 5,
    "start_time": "2023-10-31T19:58:15.870Z"
   },
   {
    "duration": 65,
    "start_time": "2023-10-31T19:58:15.877Z"
   },
   {
    "duration": 15375,
    "start_time": "2023-10-31T19:58:15.945Z"
   },
   {
    "duration": 11,
    "start_time": "2023-10-31T19:58:31.324Z"
   },
   {
    "duration": 211,
    "start_time": "2023-10-31T19:58:31.340Z"
   },
   {
    "duration": 433,
    "start_time": "2023-10-31T19:58:31.553Z"
   },
   {
    "duration": 30,
    "start_time": "2023-10-31T20:00:57.159Z"
   },
   {
    "duration": 23,
    "start_time": "2023-10-31T20:01:38.543Z"
   },
   {
    "duration": 30,
    "start_time": "2023-10-31T20:02:03.469Z"
   },
   {
    "duration": 97,
    "start_time": "2023-10-31T20:05:33.317Z"
   },
   {
    "duration": 295,
    "start_time": "2023-10-31T20:06:03.812Z"
   },
   {
    "duration": 86,
    "start_time": "2023-10-31T20:06:37.084Z"
   },
   {
    "duration": 51,
    "start_time": "2023-10-31T20:07:41.927Z"
   },
   {
    "duration": 1178,
    "start_time": "2023-10-31T20:08:49.493Z"
   },
   {
    "duration": 80,
    "start_time": "2023-10-31T20:08:50.672Z"
   },
   {
    "duration": 24,
    "start_time": "2023-10-31T20:08:50.754Z"
   },
   {
    "duration": 20,
    "start_time": "2023-10-31T20:08:50.780Z"
   },
   {
    "duration": 47,
    "start_time": "2023-10-31T20:08:50.802Z"
   },
   {
    "duration": 29,
    "start_time": "2023-10-31T20:08:50.850Z"
   },
   {
    "duration": 49,
    "start_time": "2023-10-31T20:08:50.880Z"
   },
   {
    "duration": 43,
    "start_time": "2023-10-31T20:08:50.930Z"
   },
   {
    "duration": 19,
    "start_time": "2023-10-31T20:08:50.974Z"
   },
   {
    "duration": 13,
    "start_time": "2023-10-31T20:08:50.995Z"
   },
   {
    "duration": 29,
    "start_time": "2023-10-31T20:08:51.009Z"
   },
   {
    "duration": 25,
    "start_time": "2023-10-31T20:08:51.042Z"
   },
   {
    "duration": 35,
    "start_time": "2023-10-31T20:08:51.069Z"
   },
   {
    "duration": 10,
    "start_time": "2023-10-31T20:08:51.106Z"
   },
   {
    "duration": 18,
    "start_time": "2023-10-31T20:08:51.117Z"
   },
   {
    "duration": 19,
    "start_time": "2023-10-31T20:08:51.136Z"
   },
   {
    "duration": 17,
    "start_time": "2023-10-31T20:08:51.157Z"
   },
   {
    "duration": 130,
    "start_time": "2023-10-31T20:08:51.176Z"
   },
   {
    "duration": 169,
    "start_time": "2023-10-31T20:08:51.308Z"
   },
   {
    "duration": 138,
    "start_time": "2023-10-31T20:08:51.479Z"
   },
   {
    "duration": 134,
    "start_time": "2023-10-31T20:08:51.619Z"
   },
   {
    "duration": 214,
    "start_time": "2023-10-31T20:08:51.754Z"
   },
   {
    "duration": 9,
    "start_time": "2023-10-31T20:08:51.969Z"
   },
   {
    "duration": 323,
    "start_time": "2023-10-31T20:08:51.979Z"
   },
   {
    "duration": 134,
    "start_time": "2023-10-31T20:08:52.304Z"
   },
   {
    "duration": 518,
    "start_time": "2023-10-31T20:08:52.439Z"
   },
   {
    "duration": 32,
    "start_time": "2023-10-31T20:08:52.958Z"
   },
   {
    "duration": 9,
    "start_time": "2023-10-31T20:08:52.994Z"
   },
   {
    "duration": 43,
    "start_time": "2023-10-31T20:08:53.005Z"
   },
   {
    "duration": 21,
    "start_time": "2023-10-31T20:08:53.053Z"
   },
   {
    "duration": 366,
    "start_time": "2023-10-31T20:08:53.077Z"
   },
   {
    "duration": 19,
    "start_time": "2023-10-31T20:08:53.444Z"
   },
   {
    "duration": 344,
    "start_time": "2023-10-31T20:08:53.464Z"
   },
   {
    "duration": 23,
    "start_time": "2023-10-31T20:08:53.810Z"
   },
   {
    "duration": 10,
    "start_time": "2023-10-31T20:08:53.835Z"
   },
   {
    "duration": 55,
    "start_time": "2023-10-31T20:08:53.849Z"
   },
   {
    "duration": 15765,
    "start_time": "2023-10-31T20:08:53.905Z"
   },
   {
    "duration": 5,
    "start_time": "2023-10-31T20:09:09.672Z"
   },
   {
    "duration": 19,
    "start_time": "2023-10-31T20:09:09.678Z"
   },
   {
    "duration": 29,
    "start_time": "2023-10-31T20:09:09.698Z"
   },
   {
    "duration": 135,
    "start_time": "2023-10-31T20:09:09.735Z"
   },
   {
    "duration": 33,
    "start_time": "2023-10-31T20:15:03.003Z"
   },
   {
    "duration": 35,
    "start_time": "2023-10-31T20:15:16.497Z"
   },
   {
    "duration": 200,
    "start_time": "2023-10-31T20:18:17.417Z"
   },
   {
    "duration": 120,
    "start_time": "2023-10-31T20:18:23.049Z"
   },
   {
    "duration": 20,
    "start_time": "2023-10-31T20:19:13.566Z"
   },
   {
    "duration": 19,
    "start_time": "2023-10-31T20:21:29.699Z"
   },
   {
    "duration": 1205,
    "start_time": "2023-10-31T20:21:48.600Z"
   },
   {
    "duration": 92,
    "start_time": "2023-10-31T20:21:49.807Z"
   },
   {
    "duration": 38,
    "start_time": "2023-10-31T20:21:49.901Z"
   },
   {
    "duration": 19,
    "start_time": "2023-10-31T20:21:49.942Z"
   },
   {
    "duration": 12,
    "start_time": "2023-10-31T20:21:49.962Z"
   },
   {
    "duration": 17,
    "start_time": "2023-10-31T20:21:49.976Z"
   },
   {
    "duration": 23,
    "start_time": "2023-10-31T20:21:49.995Z"
   },
   {
    "duration": 37,
    "start_time": "2023-10-31T20:21:50.020Z"
   },
   {
    "duration": 7,
    "start_time": "2023-10-31T20:21:50.059Z"
   },
   {
    "duration": 23,
    "start_time": "2023-10-31T20:21:50.070Z"
   },
   {
    "duration": 23,
    "start_time": "2023-10-31T20:21:50.095Z"
   },
   {
    "duration": 34,
    "start_time": "2023-10-31T20:21:50.120Z"
   },
   {
    "duration": 20,
    "start_time": "2023-10-31T20:21:50.155Z"
   },
   {
    "duration": 25,
    "start_time": "2023-10-31T20:21:50.177Z"
   },
   {
    "duration": 32,
    "start_time": "2023-10-31T20:21:50.204Z"
   },
   {
    "duration": 23,
    "start_time": "2023-10-31T20:21:50.239Z"
   },
   {
    "duration": 13,
    "start_time": "2023-10-31T20:21:50.264Z"
   },
   {
    "duration": 176,
    "start_time": "2023-10-31T20:21:50.280Z"
   },
   {
    "duration": 178,
    "start_time": "2023-10-31T20:21:50.459Z"
   },
   {
    "duration": 137,
    "start_time": "2023-10-31T20:21:50.645Z"
   },
   {
    "duration": 131,
    "start_time": "2023-10-31T20:21:50.784Z"
   },
   {
    "duration": 246,
    "start_time": "2023-10-31T20:21:50.924Z"
   },
   {
    "duration": 8,
    "start_time": "2023-10-31T20:21:51.172Z"
   },
   {
    "duration": 315,
    "start_time": "2023-10-31T20:21:51.181Z"
   },
   {
    "duration": 129,
    "start_time": "2023-10-31T20:21:51.498Z"
   },
   {
    "duration": 511,
    "start_time": "2023-10-31T20:21:51.629Z"
   },
   {
    "duration": 33,
    "start_time": "2023-10-31T20:21:52.148Z"
   },
   {
    "duration": 9,
    "start_time": "2023-10-31T20:21:52.184Z"
   },
   {
    "duration": 51,
    "start_time": "2023-10-31T20:21:52.195Z"
   },
   {
    "duration": 20,
    "start_time": "2023-10-31T20:21:52.249Z"
   },
   {
    "duration": 332,
    "start_time": "2023-10-31T20:21:52.270Z"
   },
   {
    "duration": 29,
    "start_time": "2023-10-31T20:21:52.604Z"
   },
   {
    "duration": 355,
    "start_time": "2023-10-31T20:21:52.641Z"
   },
   {
    "duration": 11,
    "start_time": "2023-10-31T20:21:52.998Z"
   },
   {
    "duration": 19,
    "start_time": "2023-10-31T20:21:53.011Z"
   },
   {
    "duration": 44,
    "start_time": "2023-10-31T20:21:53.040Z"
   },
   {
    "duration": 15676,
    "start_time": "2023-10-31T20:21:53.086Z"
   },
   {
    "duration": 5,
    "start_time": "2023-10-31T20:22:08.764Z"
   },
   {
    "duration": 110,
    "start_time": "2023-10-31T20:22:08.771Z"
   },
   {
    "duration": 130,
    "start_time": "2023-10-31T20:22:08.882Z"
   },
   {
    "duration": 0,
    "start_time": "2023-10-31T20:22:09.013Z"
   },
   {
    "duration": 20,
    "start_time": "2023-10-31T20:22:23.900Z"
   },
   {
    "duration": 100,
    "start_time": "2023-10-31T20:25:53.826Z"
   },
   {
    "duration": 106,
    "start_time": "2023-10-31T20:26:07.550Z"
   },
   {
    "duration": 37,
    "start_time": "2023-10-31T20:28:21.258Z"
   },
   {
    "duration": 27,
    "start_time": "2023-10-31T20:28:53.013Z"
   },
   {
    "duration": 22,
    "start_time": "2023-10-31T20:29:15.239Z"
   },
   {
    "duration": 19,
    "start_time": "2023-10-31T20:29:27.646Z"
   },
   {
    "duration": 45,
    "start_time": "2023-10-31T20:30:58.409Z"
   },
   {
    "duration": 43,
    "start_time": "2023-10-31T20:33:02.123Z"
   },
   {
    "duration": 82,
    "start_time": "2023-10-31T20:35:53.847Z"
   },
   {
    "duration": 1236,
    "start_time": "2023-10-31T20:36:11.100Z"
   },
   {
    "duration": 70,
    "start_time": "2023-10-31T20:36:12.344Z"
   },
   {
    "duration": 68,
    "start_time": "2023-10-31T20:36:12.416Z"
   },
   {
    "duration": 32,
    "start_time": "2023-10-31T20:36:12.486Z"
   },
   {
    "duration": 23,
    "start_time": "2023-10-31T20:36:12.519Z"
   },
   {
    "duration": 8,
    "start_time": "2023-10-31T20:36:12.546Z"
   },
   {
    "duration": 25,
    "start_time": "2023-10-31T20:36:12.555Z"
   },
   {
    "duration": 48,
    "start_time": "2023-10-31T20:36:12.582Z"
   },
   {
    "duration": 19,
    "start_time": "2023-10-31T20:36:12.635Z"
   },
   {
    "duration": 55,
    "start_time": "2023-10-31T20:36:12.656Z"
   },
   {
    "duration": 10,
    "start_time": "2023-10-31T20:36:12.713Z"
   },
   {
    "duration": 65,
    "start_time": "2023-10-31T20:36:12.729Z"
   },
   {
    "duration": 61,
    "start_time": "2023-10-31T20:36:12.796Z"
   },
   {
    "duration": 16,
    "start_time": "2023-10-31T20:36:12.859Z"
   },
   {
    "duration": 5,
    "start_time": "2023-10-31T20:36:12.877Z"
   },
   {
    "duration": 19,
    "start_time": "2023-10-31T20:36:12.884Z"
   },
   {
    "duration": 108,
    "start_time": "2023-10-31T20:36:12.904Z"
   },
   {
    "duration": 144,
    "start_time": "2023-10-31T20:36:13.014Z"
   },
   {
    "duration": 168,
    "start_time": "2023-10-31T20:36:13.159Z"
   },
   {
    "duration": 144,
    "start_time": "2023-10-31T20:36:13.335Z"
   },
   {
    "duration": 127,
    "start_time": "2023-10-31T20:36:13.481Z"
   },
   {
    "duration": 236,
    "start_time": "2023-10-31T20:36:13.610Z"
   },
   {
    "duration": 10,
    "start_time": "2023-10-31T20:36:13.848Z"
   },
   {
    "duration": 313,
    "start_time": "2023-10-31T20:36:13.860Z"
   },
   {
    "duration": 124,
    "start_time": "2023-10-31T20:36:14.174Z"
   },
   {
    "duration": 495,
    "start_time": "2023-10-31T20:36:14.300Z"
   },
   {
    "duration": 47,
    "start_time": "2023-10-31T20:36:14.797Z"
   },
   {
    "duration": 64,
    "start_time": "2023-10-31T20:36:14.852Z"
   },
   {
    "duration": 81,
    "start_time": "2023-10-31T20:36:14.918Z"
   },
   {
    "duration": 20,
    "start_time": "2023-10-31T20:36:15.001Z"
   },
   {
    "duration": 416,
    "start_time": "2023-10-31T20:36:15.022Z"
   },
   {
    "duration": 14,
    "start_time": "2023-10-31T20:36:15.440Z"
   },
   {
    "duration": 497,
    "start_time": "2023-10-31T20:36:15.456Z"
   },
   {
    "duration": 14,
    "start_time": "2023-10-31T20:36:15.955Z"
   },
   {
    "duration": 137,
    "start_time": "2023-10-31T20:36:15.971Z"
   },
   {
    "duration": 106,
    "start_time": "2023-10-31T20:36:16.109Z"
   },
   {
    "duration": 15500,
    "start_time": "2023-10-31T20:36:16.217Z"
   },
   {
    "duration": 17,
    "start_time": "2023-10-31T20:36:31.719Z"
   },
   {
    "duration": 12,
    "start_time": "2023-10-31T20:36:31.738Z"
   },
   {
    "duration": 101,
    "start_time": "2023-10-31T20:36:31.753Z"
   },
   {
    "duration": 133,
    "start_time": "2023-10-31T20:37:06.141Z"
   },
   {
    "duration": 5,
    "start_time": "2023-10-31T20:47:34.968Z"
   },
   {
    "duration": 9,
    "start_time": "2023-10-31T20:51:37.174Z"
   },
   {
    "duration": 4,
    "start_time": "2023-10-31T20:51:51.118Z"
   },
   {
    "duration": 12,
    "start_time": "2023-10-31T20:53:00.452Z"
   },
   {
    "duration": 90,
    "start_time": "2023-10-31T20:53:08.638Z"
   },
   {
    "duration": 72,
    "start_time": "2023-10-31T20:53:26.449Z"
   },
   {
    "duration": 12,
    "start_time": "2023-10-31T20:53:31.686Z"
   },
   {
    "duration": 12,
    "start_time": "2023-10-31T20:53:45.273Z"
   },
   {
    "duration": 13,
    "start_time": "2023-10-31T20:53:59.053Z"
   },
   {
    "duration": 163,
    "start_time": "2023-10-31T20:55:20.020Z"
   },
   {
    "duration": 131,
    "start_time": "2023-10-31T20:55:43.082Z"
   },
   {
    "duration": 5,
    "start_time": "2023-10-31T20:56:39.495Z"
   },
   {
    "duration": 1190,
    "start_time": "2023-10-31T20:58:49.571Z"
   },
   {
    "duration": 85,
    "start_time": "2023-10-31T20:58:50.763Z"
   },
   {
    "duration": 72,
    "start_time": "2023-10-31T20:58:50.850Z"
   },
   {
    "duration": 102,
    "start_time": "2023-10-31T20:58:50.929Z"
   },
   {
    "duration": 84,
    "start_time": "2023-10-31T20:58:51.038Z"
   },
   {
    "duration": 58,
    "start_time": "2023-10-31T20:58:51.129Z"
   },
   {
    "duration": 72,
    "start_time": "2023-10-31T20:58:51.189Z"
   },
   {
    "duration": 14,
    "start_time": "2023-10-31T20:58:51.263Z"
   },
   {
    "duration": 30,
    "start_time": "2023-10-31T20:58:51.279Z"
   },
   {
    "duration": 34,
    "start_time": "2023-10-31T20:58:51.310Z"
   },
   {
    "duration": 23,
    "start_time": "2023-10-31T20:58:51.346Z"
   },
   {
    "duration": 20,
    "start_time": "2023-10-31T20:58:51.370Z"
   },
   {
    "duration": 30,
    "start_time": "2023-10-31T20:58:51.391Z"
   },
   {
    "duration": 13,
    "start_time": "2023-10-31T20:58:51.424Z"
   },
   {
    "duration": 22,
    "start_time": "2023-10-31T20:58:51.440Z"
   },
   {
    "duration": 16,
    "start_time": "2023-10-31T20:58:51.464Z"
   },
   {
    "duration": 20,
    "start_time": "2023-10-31T20:58:51.482Z"
   },
   {
    "duration": 142,
    "start_time": "2023-10-31T20:58:51.504Z"
   },
   {
    "duration": 155,
    "start_time": "2023-10-31T20:58:51.647Z"
   },
   {
    "duration": 153,
    "start_time": "2023-10-31T20:58:51.804Z"
   },
   {
    "duration": 124,
    "start_time": "2023-10-31T20:58:51.958Z"
   },
   {
    "duration": 229,
    "start_time": "2023-10-31T20:58:52.084Z"
   },
   {
    "duration": 29,
    "start_time": "2023-10-31T20:58:52.314Z"
   },
   {
    "duration": 295,
    "start_time": "2023-10-31T20:58:52.344Z"
   },
   {
    "duration": 125,
    "start_time": "2023-10-31T20:58:52.641Z"
   },
   {
    "duration": 499,
    "start_time": "2023-10-31T20:58:52.767Z"
   },
   {
    "duration": 32,
    "start_time": "2023-10-31T20:58:53.268Z"
   },
   {
    "duration": 28,
    "start_time": "2023-10-31T20:58:53.303Z"
   },
   {
    "duration": 40,
    "start_time": "2023-10-31T20:58:53.333Z"
   },
   {
    "duration": 23,
    "start_time": "2023-10-31T20:58:53.375Z"
   },
   {
    "duration": 363,
    "start_time": "2023-10-31T20:58:53.400Z"
   },
   {
    "duration": 13,
    "start_time": "2023-10-31T20:58:53.764Z"
   },
   {
    "duration": 369,
    "start_time": "2023-10-31T20:58:53.779Z"
   },
   {
    "duration": 12,
    "start_time": "2023-10-31T20:58:54.150Z"
   },
   {
    "duration": 11,
    "start_time": "2023-10-31T20:58:54.164Z"
   },
   {
    "duration": 44,
    "start_time": "2023-10-31T20:58:54.176Z"
   },
   {
    "duration": 15381,
    "start_time": "2023-10-31T20:58:54.221Z"
   },
   {
    "duration": 7,
    "start_time": "2023-10-31T20:59:09.604Z"
   },
   {
    "duration": 25,
    "start_time": "2023-10-31T20:59:09.612Z"
   },
   {
    "duration": 154,
    "start_time": "2023-10-31T20:59:09.638Z"
   },
   {
    "duration": 0,
    "start_time": "2023-10-31T20:59:09.793Z"
   },
   {
    "duration": 1213,
    "start_time": "2023-10-31T21:29:57.253Z"
   },
   {
    "duration": 93,
    "start_time": "2023-10-31T21:29:58.468Z"
   },
   {
    "duration": 25,
    "start_time": "2023-10-31T21:29:58.563Z"
   },
   {
    "duration": 13,
    "start_time": "2023-10-31T21:29:58.590Z"
   },
   {
    "duration": 9,
    "start_time": "2023-10-31T21:29:58.605Z"
   },
   {
    "duration": 19,
    "start_time": "2023-10-31T21:29:58.615Z"
   },
   {
    "duration": 23,
    "start_time": "2023-10-31T21:29:58.637Z"
   },
   {
    "duration": 15,
    "start_time": "2023-10-31T21:29:58.662Z"
   },
   {
    "duration": 6,
    "start_time": "2023-10-31T21:29:58.678Z"
   },
   {
    "duration": 17,
    "start_time": "2023-10-31T21:29:58.685Z"
   },
   {
    "duration": 6,
    "start_time": "2023-10-31T21:29:58.703Z"
   },
   {
    "duration": 24,
    "start_time": "2023-10-31T21:29:58.711Z"
   },
   {
    "duration": 29,
    "start_time": "2023-10-31T21:29:58.738Z"
   },
   {
    "duration": 11,
    "start_time": "2023-10-31T21:29:58.770Z"
   },
   {
    "duration": 12,
    "start_time": "2023-10-31T21:29:58.782Z"
   },
   {
    "duration": 41,
    "start_time": "2023-10-31T21:29:58.795Z"
   },
   {
    "duration": 10,
    "start_time": "2023-10-31T21:29:58.842Z"
   },
   {
    "duration": 150,
    "start_time": "2023-10-31T21:29:58.854Z"
   },
   {
    "duration": 190,
    "start_time": "2023-10-31T21:29:59.005Z"
   },
   {
    "duration": 163,
    "start_time": "2023-10-31T21:29:59.197Z"
   },
   {
    "duration": 127,
    "start_time": "2023-10-31T21:29:59.362Z"
   },
   {
    "duration": 222,
    "start_time": "2023-10-31T21:29:59.491Z"
   },
   {
    "duration": 27,
    "start_time": "2023-10-31T21:29:59.714Z"
   },
   {
    "duration": 315,
    "start_time": "2023-10-31T21:29:59.743Z"
   },
   {
    "duration": 137,
    "start_time": "2023-10-31T21:30:00.060Z"
   },
   {
    "duration": 538,
    "start_time": "2023-10-31T21:30:00.199Z"
   },
   {
    "duration": 38,
    "start_time": "2023-10-31T21:30:00.738Z"
   },
   {
    "duration": 71,
    "start_time": "2023-10-31T21:30:00.778Z"
   },
   {
    "duration": 49,
    "start_time": "2023-10-31T21:30:00.851Z"
   },
   {
    "duration": 65,
    "start_time": "2023-10-31T21:30:00.902Z"
   },
   {
    "duration": 377,
    "start_time": "2023-10-31T21:30:00.969Z"
   },
   {
    "duration": 14,
    "start_time": "2023-10-31T21:30:01.347Z"
   },
   {
    "duration": 411,
    "start_time": "2023-10-31T21:30:01.363Z"
   },
   {
    "duration": 12,
    "start_time": "2023-10-31T21:30:01.776Z"
   },
   {
    "duration": 75,
    "start_time": "2023-10-31T21:30:01.790Z"
   },
   {
    "duration": 113,
    "start_time": "2023-10-31T21:30:01.867Z"
   },
   {
    "duration": 15424,
    "start_time": "2023-10-31T21:30:01.981Z"
   },
   {
    "duration": 6,
    "start_time": "2023-10-31T21:30:17.407Z"
   },
   {
    "duration": 29,
    "start_time": "2023-10-31T21:30:17.414Z"
   },
   {
    "duration": 147,
    "start_time": "2023-10-31T21:30:17.450Z"
   },
   {
    "duration": 27,
    "start_time": "2023-10-31T21:34:06.458Z"
   },
   {
    "duration": 45,
    "start_time": "2023-10-31T21:35:35.098Z"
   },
   {
    "duration": 1306,
    "start_time": "2023-10-31T21:36:12.207Z"
   },
   {
    "duration": 83,
    "start_time": "2023-10-31T21:36:13.515Z"
   },
   {
    "duration": 32,
    "start_time": "2023-10-31T21:36:13.600Z"
   },
   {
    "duration": 24,
    "start_time": "2023-10-31T21:36:13.634Z"
   },
   {
    "duration": 10,
    "start_time": "2023-10-31T21:36:13.661Z"
   },
   {
    "duration": 18,
    "start_time": "2023-10-31T21:36:13.673Z"
   },
   {
    "duration": 46,
    "start_time": "2023-10-31T21:36:13.693Z"
   },
   {
    "duration": 22,
    "start_time": "2023-10-31T21:36:13.749Z"
   },
   {
    "duration": 6,
    "start_time": "2023-10-31T21:36:13.773Z"
   },
   {
    "duration": 12,
    "start_time": "2023-10-31T21:36:13.780Z"
   },
   {
    "duration": 13,
    "start_time": "2023-10-31T21:36:13.794Z"
   },
   {
    "duration": 11,
    "start_time": "2023-10-31T21:36:13.808Z"
   },
   {
    "duration": 21,
    "start_time": "2023-10-31T21:36:13.821Z"
   },
   {
    "duration": 26,
    "start_time": "2023-10-31T21:36:13.845Z"
   },
   {
    "duration": 6,
    "start_time": "2023-10-31T21:36:13.873Z"
   },
   {
    "duration": 6,
    "start_time": "2023-10-31T21:36:13.881Z"
   },
   {
    "duration": 23,
    "start_time": "2023-10-31T21:36:13.889Z"
   },
   {
    "duration": 148,
    "start_time": "2023-10-31T21:36:13.914Z"
   },
   {
    "duration": 163,
    "start_time": "2023-10-31T21:36:14.064Z"
   },
   {
    "duration": 144,
    "start_time": "2023-10-31T21:36:14.230Z"
   },
   {
    "duration": 132,
    "start_time": "2023-10-31T21:36:14.376Z"
   },
   {
    "duration": 245,
    "start_time": "2023-10-31T21:36:14.510Z"
   },
   {
    "duration": 9,
    "start_time": "2023-10-31T21:36:14.757Z"
   },
   {
    "duration": 345,
    "start_time": "2023-10-31T21:36:14.769Z"
   },
   {
    "duration": 163,
    "start_time": "2023-10-31T21:36:15.115Z"
   },
   {
    "duration": 570,
    "start_time": "2023-10-31T21:36:15.280Z"
   },
   {
    "duration": 33,
    "start_time": "2023-10-31T21:36:15.852Z"
   },
   {
    "duration": 12,
    "start_time": "2023-10-31T21:36:15.888Z"
   },
   {
    "duration": 67,
    "start_time": "2023-10-31T21:36:15.902Z"
   },
   {
    "duration": 23,
    "start_time": "2023-10-31T21:36:15.971Z"
   },
   {
    "duration": 449,
    "start_time": "2023-10-31T21:36:15.995Z"
   },
   {
    "duration": 23,
    "start_time": "2023-10-31T21:36:16.447Z"
   },
   {
    "duration": 433,
    "start_time": "2023-10-31T21:36:16.473Z"
   },
   {
    "duration": 50,
    "start_time": "2023-10-31T21:36:16.907Z"
   },
   {
    "duration": 7,
    "start_time": "2023-10-31T21:36:16.959Z"
   },
   {
    "duration": 85,
    "start_time": "2023-10-31T21:36:16.967Z"
   },
   {
    "duration": 16451,
    "start_time": "2023-10-31T21:36:17.054Z"
   },
   {
    "duration": 5,
    "start_time": "2023-10-31T21:36:33.506Z"
   },
   {
    "duration": 181,
    "start_time": "2023-10-31T21:36:33.513Z"
   },
   {
    "duration": 490,
    "start_time": "2023-10-31T21:36:33.696Z"
   },
   {
    "duration": 0,
    "start_time": "2023-10-31T21:36:34.189Z"
   },
   {
    "duration": 31,
    "start_time": "2023-10-31T21:36:45.092Z"
   },
   {
    "duration": 43,
    "start_time": "2023-10-31T21:40:00.878Z"
   },
   {
    "duration": 15242,
    "start_time": "2023-10-31T21:40:09.020Z"
   },
   {
    "duration": 33,
    "start_time": "2023-10-31T21:40:38.945Z"
   },
   {
    "duration": 28,
    "start_time": "2023-10-31T21:40:41.947Z"
   },
   {
    "duration": 1313,
    "start_time": "2023-10-31T21:59:25.215Z"
   },
   {
    "duration": 85,
    "start_time": "2023-10-31T21:59:26.531Z"
   },
   {
    "duration": 40,
    "start_time": "2023-10-31T21:59:26.618Z"
   },
   {
    "duration": 12,
    "start_time": "2023-10-31T21:59:26.661Z"
   },
   {
    "duration": 21,
    "start_time": "2023-10-31T21:59:26.675Z"
   },
   {
    "duration": 40,
    "start_time": "2023-10-31T21:59:26.698Z"
   },
   {
    "duration": 37,
    "start_time": "2023-10-31T21:59:26.739Z"
   },
   {
    "duration": 23,
    "start_time": "2023-10-31T21:59:26.777Z"
   },
   {
    "duration": 21,
    "start_time": "2023-10-31T21:59:26.801Z"
   },
   {
    "duration": 24,
    "start_time": "2023-10-31T21:59:26.827Z"
   },
   {
    "duration": 16,
    "start_time": "2023-10-31T21:59:26.855Z"
   },
   {
    "duration": 31,
    "start_time": "2023-10-31T21:59:26.872Z"
   },
   {
    "duration": 50,
    "start_time": "2023-10-31T21:59:26.906Z"
   },
   {
    "duration": 18,
    "start_time": "2023-10-31T21:59:26.958Z"
   },
   {
    "duration": 31,
    "start_time": "2023-10-31T21:59:26.978Z"
   },
   {
    "duration": 30,
    "start_time": "2023-10-31T21:59:27.011Z"
   },
   {
    "duration": 27,
    "start_time": "2023-10-31T21:59:27.043Z"
   },
   {
    "duration": 157,
    "start_time": "2023-10-31T21:59:27.072Z"
   },
   {
    "duration": 173,
    "start_time": "2023-10-31T21:59:27.232Z"
   },
   {
    "duration": 163,
    "start_time": "2023-10-31T21:59:27.407Z"
   },
   {
    "duration": 121,
    "start_time": "2023-10-31T21:59:27.572Z"
   },
   {
    "duration": 255,
    "start_time": "2023-10-31T21:59:27.695Z"
   },
   {
    "duration": 9,
    "start_time": "2023-10-31T21:59:27.952Z"
   },
   {
    "duration": 429,
    "start_time": "2023-10-31T21:59:27.963Z"
   },
   {
    "duration": 126,
    "start_time": "2023-10-31T21:59:28.393Z"
   },
   {
    "duration": 539,
    "start_time": "2023-10-31T21:59:28.521Z"
   },
   {
    "duration": 31,
    "start_time": "2023-10-31T21:59:29.062Z"
   },
   {
    "duration": 9,
    "start_time": "2023-10-31T21:59:29.097Z"
   },
   {
    "duration": 35,
    "start_time": "2023-10-31T21:59:29.133Z"
   },
   {
    "duration": 21,
    "start_time": "2023-10-31T21:59:29.170Z"
   },
   {
    "duration": 348,
    "start_time": "2023-10-31T21:59:29.193Z"
   },
   {
    "duration": 15,
    "start_time": "2023-10-31T21:59:29.543Z"
   },
   {
    "duration": 365,
    "start_time": "2023-10-31T21:59:29.559Z"
   },
   {
    "duration": 16,
    "start_time": "2023-10-31T21:59:29.926Z"
   },
   {
    "duration": 15,
    "start_time": "2023-10-31T21:59:29.944Z"
   },
   {
    "duration": 76,
    "start_time": "2023-10-31T21:59:29.961Z"
   },
   {
    "duration": 16553,
    "start_time": "2023-10-31T21:59:30.039Z"
   },
   {
    "duration": 5,
    "start_time": "2023-10-31T21:59:46.594Z"
   },
   {
    "duration": 5,
    "start_time": "2023-10-31T21:59:46.600Z"
   },
   {
    "duration": 163,
    "start_time": "2023-10-31T21:59:46.607Z"
   },
   {
    "duration": 0,
    "start_time": "2023-10-31T21:59:46.772Z"
   },
   {
    "duration": 691,
    "start_time": "2023-10-31T22:01:21.911Z"
   },
   {
    "duration": 63,
    "start_time": "2023-10-31T22:01:48.115Z"
   },
   {
    "duration": 1238,
    "start_time": "2023-10-31T22:01:58.148Z"
   },
   {
    "duration": 86,
    "start_time": "2023-10-31T22:01:59.387Z"
   },
   {
    "duration": 28,
    "start_time": "2023-10-31T22:01:59.475Z"
   },
   {
    "duration": 12,
    "start_time": "2023-10-31T22:01:59.504Z"
   },
   {
    "duration": 14,
    "start_time": "2023-10-31T22:01:59.519Z"
   },
   {
    "duration": 19,
    "start_time": "2023-10-31T22:01:59.535Z"
   },
   {
    "duration": 20,
    "start_time": "2023-10-31T22:01:59.556Z"
   },
   {
    "duration": 15,
    "start_time": "2023-10-31T22:01:59.578Z"
   },
   {
    "duration": 6,
    "start_time": "2023-10-31T22:01:59.594Z"
   },
   {
    "duration": 10,
    "start_time": "2023-10-31T22:01:59.601Z"
   },
   {
    "duration": 9,
    "start_time": "2023-10-31T22:01:59.624Z"
   },
   {
    "duration": 14,
    "start_time": "2023-10-31T22:01:59.635Z"
   },
   {
    "duration": 13,
    "start_time": "2023-10-31T22:01:59.651Z"
   },
   {
    "duration": 8,
    "start_time": "2023-10-31T22:01:59.667Z"
   },
   {
    "duration": 5,
    "start_time": "2023-10-31T22:01:59.676Z"
   },
   {
    "duration": 10,
    "start_time": "2023-10-31T22:01:59.682Z"
   },
   {
    "duration": 37,
    "start_time": "2023-10-31T22:01:59.693Z"
   },
   {
    "duration": 140,
    "start_time": "2023-10-31T22:01:59.732Z"
   },
   {
    "duration": 180,
    "start_time": "2023-10-31T22:01:59.874Z"
   },
   {
    "duration": 144,
    "start_time": "2023-10-31T22:02:00.056Z"
   },
   {
    "duration": 155,
    "start_time": "2023-10-31T22:02:00.202Z"
   },
   {
    "duration": 249,
    "start_time": "2023-10-31T22:02:00.359Z"
   },
   {
    "duration": 9,
    "start_time": "2023-10-31T22:02:00.609Z"
   },
   {
    "duration": 383,
    "start_time": "2023-10-31T22:02:00.619Z"
   },
   {
    "duration": 147,
    "start_time": "2023-10-31T22:02:01.004Z"
   },
   {
    "duration": 537,
    "start_time": "2023-10-31T22:02:01.153Z"
   },
   {
    "duration": 39,
    "start_time": "2023-10-31T22:02:01.692Z"
   },
   {
    "duration": 120,
    "start_time": "2023-10-31T22:02:01.733Z"
   },
   {
    "duration": 110,
    "start_time": "2023-10-31T22:02:01.855Z"
   },
   {
    "duration": 39,
    "start_time": "2023-10-31T22:02:01.966Z"
   },
   {
    "duration": 366,
    "start_time": "2023-10-31T22:02:02.006Z"
   },
   {
    "duration": 11,
    "start_time": "2023-10-31T22:02:02.374Z"
   },
   {
    "duration": 533,
    "start_time": "2023-10-31T22:02:02.386Z"
   },
   {
    "duration": 23,
    "start_time": "2023-10-31T22:02:02.921Z"
   },
   {
    "duration": 18,
    "start_time": "2023-10-31T22:02:02.949Z"
   },
   {
    "duration": 129,
    "start_time": "2023-10-31T22:02:02.969Z"
   },
   {
    "duration": 668,
    "start_time": "2023-10-31T22:02:17.249Z"
   },
   {
    "duration": 217,
    "start_time": "2023-10-31T22:03:08.768Z"
   },
   {
    "duration": 847,
    "start_time": "2023-10-31T22:03:17.601Z"
   },
   {
    "duration": 1252,
    "start_time": "2023-10-31T22:03:47.645Z"
   },
   {
    "duration": 89,
    "start_time": "2023-10-31T22:03:48.900Z"
   },
   {
    "duration": 25,
    "start_time": "2023-10-31T22:03:48.990Z"
   },
   {
    "duration": 37,
    "start_time": "2023-10-31T22:03:49.017Z"
   },
   {
    "duration": 14,
    "start_time": "2023-10-31T22:03:49.057Z"
   },
   {
    "duration": 29,
    "start_time": "2023-10-31T22:03:49.072Z"
   },
   {
    "duration": 33,
    "start_time": "2023-10-31T22:03:49.103Z"
   },
   {
    "duration": 20,
    "start_time": "2023-10-31T22:03:49.138Z"
   },
   {
    "duration": 34,
    "start_time": "2023-10-31T22:03:49.160Z"
   },
   {
    "duration": 56,
    "start_time": "2023-10-31T22:03:49.196Z"
   },
   {
    "duration": 42,
    "start_time": "2023-10-31T22:03:49.254Z"
   },
   {
    "duration": 38,
    "start_time": "2023-10-31T22:03:49.298Z"
   },
   {
    "duration": 74,
    "start_time": "2023-10-31T22:03:49.337Z"
   },
   {
    "duration": 52,
    "start_time": "2023-10-31T22:03:49.415Z"
   },
   {
    "duration": 29,
    "start_time": "2023-10-31T22:03:49.469Z"
   },
   {
    "duration": 6,
    "start_time": "2023-10-31T22:03:49.500Z"
   },
   {
    "duration": 5,
    "start_time": "2023-10-31T22:03:49.507Z"
   },
   {
    "duration": 149,
    "start_time": "2023-10-31T22:03:49.513Z"
   },
   {
    "duration": 158,
    "start_time": "2023-10-31T22:03:49.663Z"
   },
   {
    "duration": 152,
    "start_time": "2023-10-31T22:03:49.823Z"
   },
   {
    "duration": 125,
    "start_time": "2023-10-31T22:03:49.976Z"
   },
   {
    "duration": 261,
    "start_time": "2023-10-31T22:03:50.103Z"
   },
   {
    "duration": 8,
    "start_time": "2023-10-31T22:03:50.366Z"
   },
   {
    "duration": 320,
    "start_time": "2023-10-31T22:03:50.376Z"
   },
   {
    "duration": 119,
    "start_time": "2023-10-31T22:03:50.698Z"
   },
   {
    "duration": 539,
    "start_time": "2023-10-31T22:03:50.818Z"
   },
   {
    "duration": 28,
    "start_time": "2023-10-31T22:03:51.359Z"
   },
   {
    "duration": 9,
    "start_time": "2023-10-31T22:03:51.388Z"
   },
   {
    "duration": 51,
    "start_time": "2023-10-31T22:03:51.399Z"
   },
   {
    "duration": 21,
    "start_time": "2023-10-31T22:03:51.451Z"
   },
   {
    "duration": 334,
    "start_time": "2023-10-31T22:03:51.474Z"
   },
   {
    "duration": 39,
    "start_time": "2023-10-31T22:03:51.810Z"
   },
   {
    "duration": 352,
    "start_time": "2023-10-31T22:03:51.852Z"
   },
   {
    "duration": 23,
    "start_time": "2023-10-31T22:03:52.207Z"
   },
   {
    "duration": 5,
    "start_time": "2023-10-31T22:03:52.236Z"
   },
   {
    "duration": 52,
    "start_time": "2023-10-31T22:03:52.243Z"
   },
   {
    "duration": 217,
    "start_time": "2023-10-31T22:04:08.965Z"
   },
   {
    "duration": 130,
    "start_time": "2023-10-31T22:04:22.751Z"
   },
   {
    "duration": 12,
    "start_time": "2023-10-31T22:04:45.868Z"
   },
   {
    "duration": 18,
    "start_time": "2023-10-31T22:08:52.986Z"
   },
   {
    "duration": 13,
    "start_time": "2023-10-31T22:10:01.644Z"
   },
   {
    "duration": 57,
    "start_time": "2023-11-01T10:39:09.675Z"
   },
   {
    "duration": 1663,
    "start_time": "2023-11-01T10:39:17.210Z"
   },
   {
    "duration": 200,
    "start_time": "2023-11-01T10:39:18.875Z"
   },
   {
    "duration": 26,
    "start_time": "2023-11-01T10:39:19.077Z"
   },
   {
    "duration": 17,
    "start_time": "2023-11-01T10:39:19.143Z"
   },
   {
    "duration": 30,
    "start_time": "2023-11-01T10:39:19.161Z"
   },
   {
    "duration": 57,
    "start_time": "2023-11-01T10:39:19.193Z"
   },
   {
    "duration": 27,
    "start_time": "2023-11-01T10:39:19.252Z"
   },
   {
    "duration": 65,
    "start_time": "2023-11-01T10:39:19.280Z"
   },
   {
    "duration": 6,
    "start_time": "2023-11-01T10:39:19.347Z"
   },
   {
    "duration": 43,
    "start_time": "2023-11-01T10:39:19.355Z"
   },
   {
    "duration": 47,
    "start_time": "2023-11-01T10:39:19.400Z"
   },
   {
    "duration": 46,
    "start_time": "2023-11-01T10:39:19.448Z"
   },
   {
    "duration": 49,
    "start_time": "2023-11-01T10:39:19.496Z"
   },
   {
    "duration": 12,
    "start_time": "2023-11-01T10:39:19.546Z"
   },
   {
    "duration": 16,
    "start_time": "2023-11-01T10:39:19.559Z"
   },
   {
    "duration": 13,
    "start_time": "2023-11-01T10:39:19.578Z"
   },
   {
    "duration": 54,
    "start_time": "2023-11-01T10:39:19.593Z"
   },
   {
    "duration": 16,
    "start_time": "2023-11-01T10:39:19.649Z"
   },
   {
    "duration": 293,
    "start_time": "2023-11-01T10:39:19.667Z"
   },
   {
    "duration": 197,
    "start_time": "2023-11-01T10:39:19.961Z"
   },
   {
    "duration": 133,
    "start_time": "2023-11-01T10:39:20.159Z"
   },
   {
    "duration": 115,
    "start_time": "2023-11-01T10:39:20.294Z"
   },
   {
    "duration": 225,
    "start_time": "2023-11-01T10:39:20.411Z"
   },
   {
    "duration": 13,
    "start_time": "2023-11-01T10:39:20.637Z"
   },
   {
    "duration": 296,
    "start_time": "2023-11-01T10:39:20.651Z"
   },
   {
    "duration": 118,
    "start_time": "2023-11-01T10:39:20.949Z"
   },
   {
    "duration": 456,
    "start_time": "2023-11-01T10:39:21.068Z"
   },
   {
    "duration": 38,
    "start_time": "2023-11-01T10:39:21.527Z"
   },
   {
    "duration": 9,
    "start_time": "2023-11-01T10:39:21.567Z"
   },
   {
    "duration": 51,
    "start_time": "2023-11-01T10:39:21.578Z"
   },
   {
    "duration": 28,
    "start_time": "2023-11-01T10:39:21.631Z"
   },
   {
    "duration": 326,
    "start_time": "2023-11-01T10:39:21.661Z"
   },
   {
    "duration": 12,
    "start_time": "2023-11-01T10:39:21.989Z"
   },
   {
    "duration": 335,
    "start_time": "2023-11-01T10:39:22.002Z"
   },
   {
    "duration": 14,
    "start_time": "2023-11-01T10:39:22.338Z"
   },
   {
    "duration": 7,
    "start_time": "2023-11-01T10:39:22.353Z"
   },
   {
    "duration": 90,
    "start_time": "2023-11-01T10:39:22.361Z"
   },
   {
    "duration": 1364,
    "start_time": "2023-11-01T10:39:22.453Z"
   },
   {
    "duration": 1,
    "start_time": "2023-11-01T10:39:23.819Z"
   },
   {
    "duration": 0,
    "start_time": "2023-11-01T10:39:23.821Z"
   },
   {
    "duration": 0,
    "start_time": "2023-11-01T10:39:23.823Z"
   },
   {
    "duration": 0,
    "start_time": "2023-11-01T10:39:23.825Z"
   },
   {
    "duration": 51,
    "start_time": "2023-11-01T11:40:00.069Z"
   },
   {
    "duration": 1335,
    "start_time": "2023-11-01T11:41:32.859Z"
   },
   {
    "duration": 197,
    "start_time": "2023-11-01T11:41:34.195Z"
   },
   {
    "duration": 23,
    "start_time": "2023-11-01T11:41:34.393Z"
   },
   {
    "duration": 11,
    "start_time": "2023-11-01T11:41:34.418Z"
   },
   {
    "duration": 7,
    "start_time": "2023-11-01T11:41:34.430Z"
   },
   {
    "duration": 19,
    "start_time": "2023-11-01T11:41:34.439Z"
   },
   {
    "duration": 26,
    "start_time": "2023-11-01T11:41:34.459Z"
   },
   {
    "duration": 24,
    "start_time": "2023-11-01T11:41:34.487Z"
   },
   {
    "duration": 5,
    "start_time": "2023-11-01T11:41:34.513Z"
   },
   {
    "duration": 16,
    "start_time": "2023-11-01T11:41:34.520Z"
   },
   {
    "duration": 38,
    "start_time": "2023-11-01T11:41:34.537Z"
   },
   {
    "duration": 27,
    "start_time": "2023-11-01T11:41:34.577Z"
   },
   {
    "duration": 17,
    "start_time": "2023-11-01T11:41:34.605Z"
   },
   {
    "duration": 9,
    "start_time": "2023-11-01T11:41:34.623Z"
   },
   {
    "duration": 58,
    "start_time": "2023-11-01T11:41:34.633Z"
   },
   {
    "duration": 30,
    "start_time": "2023-11-01T11:41:34.692Z"
   },
   {
    "duration": 39,
    "start_time": "2023-11-01T11:41:34.724Z"
   },
   {
    "duration": 130,
    "start_time": "2023-11-01T11:41:34.765Z"
   },
   {
    "duration": 148,
    "start_time": "2023-11-01T11:41:34.897Z"
   },
   {
    "duration": 137,
    "start_time": "2023-11-01T11:41:35.046Z"
   },
   {
    "duration": 109,
    "start_time": "2023-11-01T11:41:35.185Z"
   },
   {
    "duration": 226,
    "start_time": "2023-11-01T11:41:35.296Z"
   },
   {
    "duration": 8,
    "start_time": "2023-11-01T11:41:35.524Z"
   },
   {
    "duration": 281,
    "start_time": "2023-11-01T11:41:35.533Z"
   },
   {
    "duration": 123,
    "start_time": "2023-11-01T11:41:35.815Z"
   },
   {
    "duration": 488,
    "start_time": "2023-11-01T11:41:35.940Z"
   },
   {
    "duration": 29,
    "start_time": "2023-11-01T11:41:36.429Z"
   },
   {
    "duration": 9,
    "start_time": "2023-11-01T11:41:36.460Z"
   },
   {
    "duration": 41,
    "start_time": "2023-11-01T11:41:36.470Z"
   },
   {
    "duration": 18,
    "start_time": "2023-11-01T11:41:36.513Z"
   },
   {
    "duration": 318,
    "start_time": "2023-11-01T11:41:36.532Z"
   },
   {
    "duration": 10,
    "start_time": "2023-11-01T11:41:36.852Z"
   },
   {
    "duration": 317,
    "start_time": "2023-11-01T11:41:36.864Z"
   },
   {
    "duration": 11,
    "start_time": "2023-11-01T11:41:37.183Z"
   },
   {
    "duration": 24,
    "start_time": "2023-11-01T11:41:37.196Z"
   },
   {
    "duration": 60,
    "start_time": "2023-11-01T11:41:37.221Z"
   },
   {
    "duration": 1274,
    "start_time": "2023-11-01T11:41:37.283Z"
   },
   {
    "duration": 0,
    "start_time": "2023-11-01T11:41:38.559Z"
   },
   {
    "duration": 0,
    "start_time": "2023-11-01T11:41:38.560Z"
   },
   {
    "duration": 0,
    "start_time": "2023-11-01T11:41:38.562Z"
   },
   {
    "duration": 0,
    "start_time": "2023-11-01T11:41:38.563Z"
   },
   {
    "duration": 79,
    "start_time": "2023-11-01T11:42:55.355Z"
   },
   {
    "duration": 1820,
    "start_time": "2023-11-01T11:43:38.849Z"
   },
   {
    "duration": 194,
    "start_time": "2023-11-01T11:43:59.429Z"
   },
   {
    "duration": 89,
    "start_time": "2023-11-01T11:44:15.389Z"
   },
   {
    "duration": 7,
    "start_time": "2023-11-01T11:45:43.484Z"
   },
   {
    "duration": 8,
    "start_time": "2023-11-01T11:51:02.365Z"
   },
   {
    "duration": 9,
    "start_time": "2023-11-01T11:51:11.732Z"
   },
   {
    "duration": 1224,
    "start_time": "2023-11-01T11:51:18.897Z"
   },
   {
    "duration": 69,
    "start_time": "2023-11-01T11:51:20.123Z"
   },
   {
    "duration": 23,
    "start_time": "2023-11-01T11:51:20.194Z"
   },
   {
    "duration": 18,
    "start_time": "2023-11-01T11:51:20.219Z"
   },
   {
    "duration": 24,
    "start_time": "2023-11-01T11:51:20.239Z"
   },
   {
    "duration": 26,
    "start_time": "2023-11-01T11:51:20.265Z"
   },
   {
    "duration": 44,
    "start_time": "2023-11-01T11:51:20.293Z"
   },
   {
    "duration": 39,
    "start_time": "2023-11-01T11:51:20.338Z"
   },
   {
    "duration": 27,
    "start_time": "2023-11-01T11:51:20.378Z"
   },
   {
    "duration": 38,
    "start_time": "2023-11-01T11:51:20.407Z"
   },
   {
    "duration": 31,
    "start_time": "2023-11-01T11:51:20.446Z"
   },
   {
    "duration": 51,
    "start_time": "2023-11-01T11:51:20.479Z"
   },
   {
    "duration": 6,
    "start_time": "2023-11-01T11:51:20.532Z"
   },
   {
    "duration": 34,
    "start_time": "2023-11-01T11:51:20.539Z"
   },
   {
    "duration": 55,
    "start_time": "2023-11-01T11:51:20.575Z"
   },
   {
    "duration": 69,
    "start_time": "2023-11-01T11:51:20.631Z"
   },
   {
    "duration": 35,
    "start_time": "2023-11-01T11:51:20.702Z"
   },
   {
    "duration": 66,
    "start_time": "2023-11-01T11:51:20.739Z"
   },
   {
    "duration": 29,
    "start_time": "2023-11-01T11:51:20.807Z"
   },
   {
    "duration": 151,
    "start_time": "2023-11-01T11:51:20.838Z"
   },
   {
    "duration": 173,
    "start_time": "2023-11-01T11:51:20.990Z"
   },
   {
    "duration": 136,
    "start_time": "2023-11-01T11:51:21.164Z"
   },
   {
    "duration": 124,
    "start_time": "2023-11-01T11:51:21.301Z"
   },
   {
    "duration": 207,
    "start_time": "2023-11-01T11:51:21.427Z"
   },
   {
    "duration": 7,
    "start_time": "2023-11-01T11:51:21.636Z"
   },
   {
    "duration": 293,
    "start_time": "2023-11-01T11:51:21.645Z"
   },
   {
    "duration": 126,
    "start_time": "2023-11-01T11:51:21.939Z"
   },
   {
    "duration": 480,
    "start_time": "2023-11-01T11:51:22.069Z"
   },
   {
    "duration": 31,
    "start_time": "2023-11-01T11:51:22.550Z"
   },
   {
    "duration": 29,
    "start_time": "2023-11-01T11:51:22.583Z"
   },
   {
    "duration": 29,
    "start_time": "2023-11-01T11:51:22.614Z"
   },
   {
    "duration": 39,
    "start_time": "2023-11-01T11:51:22.645Z"
   },
   {
    "duration": 333,
    "start_time": "2023-11-01T11:51:22.685Z"
   },
   {
    "duration": 13,
    "start_time": "2023-11-01T11:51:23.020Z"
   },
   {
    "duration": 322,
    "start_time": "2023-11-01T11:51:23.035Z"
   },
   {
    "duration": 12,
    "start_time": "2023-11-01T11:51:23.359Z"
   },
   {
    "duration": 3,
    "start_time": "2023-11-01T11:51:23.373Z"
   },
   {
    "duration": 73,
    "start_time": "2023-11-01T11:51:23.378Z"
   },
   {
    "duration": 199,
    "start_time": "2023-11-01T11:51:23.452Z"
   },
   {
    "duration": 125,
    "start_time": "2023-11-01T11:51:23.652Z"
   },
   {
    "duration": 0,
    "start_time": "2023-11-01T11:51:23.778Z"
   },
   {
    "duration": 0,
    "start_time": "2023-11-01T11:51:23.780Z"
   },
   {
    "duration": 0,
    "start_time": "2023-11-01T11:51:23.781Z"
   },
   {
    "duration": 0,
    "start_time": "2023-11-01T11:51:23.782Z"
   },
   {
    "duration": 49,
    "start_time": "2023-11-01T11:51:55.982Z"
   },
   {
    "duration": 1664,
    "start_time": "2023-11-01T11:53:03.943Z"
   },
   {
    "duration": 68,
    "start_time": "2023-11-01T11:53:05.609Z"
   },
   {
    "duration": 24,
    "start_time": "2023-11-01T11:53:05.679Z"
   },
   {
    "duration": 16,
    "start_time": "2023-11-01T11:53:05.705Z"
   },
   {
    "duration": 46,
    "start_time": "2023-11-01T11:53:05.723Z"
   },
   {
    "duration": 24,
    "start_time": "2023-11-01T11:53:05.771Z"
   },
   {
    "duration": 34,
    "start_time": "2023-11-01T11:53:05.796Z"
   },
   {
    "duration": 22,
    "start_time": "2023-11-01T11:53:05.832Z"
   },
   {
    "duration": 11,
    "start_time": "2023-11-01T11:53:05.855Z"
   },
   {
    "duration": 44,
    "start_time": "2023-11-01T11:53:05.867Z"
   },
   {
    "duration": 47,
    "start_time": "2023-11-01T11:53:05.913Z"
   },
   {
    "duration": 31,
    "start_time": "2023-11-01T11:53:05.963Z"
   },
   {
    "duration": 11,
    "start_time": "2023-11-01T11:53:05.996Z"
   },
   {
    "duration": 31,
    "start_time": "2023-11-01T11:53:06.011Z"
   },
   {
    "duration": 45,
    "start_time": "2023-11-01T11:53:06.044Z"
   },
   {
    "duration": 35,
    "start_time": "2023-11-01T11:53:06.091Z"
   },
   {
    "duration": 41,
    "start_time": "2023-11-01T11:53:06.127Z"
   },
   {
    "duration": 29,
    "start_time": "2023-11-01T11:53:06.169Z"
   },
   {
    "duration": 20,
    "start_time": "2023-11-01T11:53:06.200Z"
   },
   {
    "duration": 167,
    "start_time": "2023-11-01T11:53:06.222Z"
   },
   {
    "duration": 134,
    "start_time": "2023-11-01T11:53:06.390Z"
   },
   {
    "duration": 153,
    "start_time": "2023-11-01T11:53:06.525Z"
   },
   {
    "duration": 127,
    "start_time": "2023-11-01T11:53:06.680Z"
   },
   {
    "duration": 109,
    "start_time": "2023-11-01T11:53:06.809Z"
   },
   {
    "duration": 215,
    "start_time": "2023-11-01T11:53:06.920Z"
   },
   {
    "duration": 8,
    "start_time": "2023-11-01T11:53:07.137Z"
   },
   {
    "duration": 323,
    "start_time": "2023-11-01T11:53:07.146Z"
   },
   {
    "duration": 118,
    "start_time": "2023-11-01T11:53:07.473Z"
   },
   {
    "duration": 481,
    "start_time": "2023-11-01T11:53:07.592Z"
   },
   {
    "duration": 44,
    "start_time": "2023-11-01T11:53:08.075Z"
   },
   {
    "duration": 10,
    "start_time": "2023-11-01T11:53:08.121Z"
   },
   {
    "duration": 41,
    "start_time": "2023-11-01T11:53:08.132Z"
   },
   {
    "duration": 29,
    "start_time": "2023-11-01T11:53:08.176Z"
   },
   {
    "duration": 320,
    "start_time": "2023-11-01T11:53:08.207Z"
   },
   {
    "duration": 13,
    "start_time": "2023-11-01T11:53:08.529Z"
   },
   {
    "duration": 396,
    "start_time": "2023-11-01T11:53:08.544Z"
   },
   {
    "duration": 12,
    "start_time": "2023-11-01T11:53:08.942Z"
   },
   {
    "duration": 39,
    "start_time": "2023-11-01T11:53:08.956Z"
   },
   {
    "duration": 76,
    "start_time": "2023-11-01T11:53:08.996Z"
   },
   {
    "duration": 234,
    "start_time": "2023-11-01T11:53:09.074Z"
   },
   {
    "duration": 122,
    "start_time": "2023-11-01T11:53:09.312Z"
   },
   {
    "duration": 0,
    "start_time": "2023-11-01T11:53:09.436Z"
   },
   {
    "duration": 0,
    "start_time": "2023-11-01T11:53:09.437Z"
   },
   {
    "duration": 0,
    "start_time": "2023-11-01T11:53:09.439Z"
   },
   {
    "duration": 0,
    "start_time": "2023-11-01T11:53:09.440Z"
   },
   {
    "duration": 1258,
    "start_time": "2023-11-01T11:54:25.238Z"
   },
   {
    "duration": 69,
    "start_time": "2023-11-01T11:54:26.498Z"
   },
   {
    "duration": 26,
    "start_time": "2023-11-01T11:54:26.568Z"
   },
   {
    "duration": 12,
    "start_time": "2023-11-01T11:54:26.596Z"
   },
   {
    "duration": 44,
    "start_time": "2023-11-01T11:54:26.610Z"
   },
   {
    "duration": 11,
    "start_time": "2023-11-01T11:54:26.656Z"
   },
   {
    "duration": 46,
    "start_time": "2023-11-01T11:54:26.669Z"
   },
   {
    "duration": 40,
    "start_time": "2023-11-01T11:54:26.717Z"
   },
   {
    "duration": 30,
    "start_time": "2023-11-01T11:54:26.759Z"
   },
   {
    "duration": 25,
    "start_time": "2023-11-01T11:54:26.792Z"
   },
   {
    "duration": 11,
    "start_time": "2023-11-01T11:54:26.818Z"
   },
   {
    "duration": 32,
    "start_time": "2023-11-01T11:54:26.830Z"
   },
   {
    "duration": 10,
    "start_time": "2023-11-01T11:54:26.863Z"
   },
   {
    "duration": 7,
    "start_time": "2023-11-01T11:54:26.875Z"
   },
   {
    "duration": 11,
    "start_time": "2023-11-01T11:54:26.883Z"
   },
   {
    "duration": 8,
    "start_time": "2023-11-01T11:54:26.895Z"
   },
   {
    "duration": 5,
    "start_time": "2023-11-01T11:54:26.905Z"
   },
   {
    "duration": 8,
    "start_time": "2023-11-01T11:54:26.911Z"
   },
   {
    "duration": 17,
    "start_time": "2023-11-01T11:54:26.920Z"
   },
   {
    "duration": 6,
    "start_time": "2023-11-01T11:54:26.939Z"
   },
   {
    "duration": 138,
    "start_time": "2023-11-01T11:54:26.947Z"
   },
   {
    "duration": 167,
    "start_time": "2023-11-01T11:54:27.087Z"
   },
   {
    "duration": 154,
    "start_time": "2023-11-01T11:54:27.256Z"
   },
   {
    "duration": 149,
    "start_time": "2023-11-01T11:54:27.412Z"
   },
   {
    "duration": 215,
    "start_time": "2023-11-01T11:54:27.563Z"
   },
   {
    "duration": 7,
    "start_time": "2023-11-01T11:54:27.780Z"
   },
   {
    "duration": 335,
    "start_time": "2023-11-01T11:54:27.789Z"
   },
   {
    "duration": 120,
    "start_time": "2023-11-01T11:54:28.127Z"
   },
   {
    "duration": 474,
    "start_time": "2023-11-01T11:54:28.249Z"
   },
   {
    "duration": 30,
    "start_time": "2023-11-01T11:54:28.725Z"
   },
   {
    "duration": 9,
    "start_time": "2023-11-01T11:54:28.757Z"
   },
   {
    "duration": 42,
    "start_time": "2023-11-01T11:54:28.767Z"
   },
   {
    "duration": 41,
    "start_time": "2023-11-01T11:54:28.811Z"
   },
   {
    "duration": 348,
    "start_time": "2023-11-01T11:54:28.854Z"
   },
   {
    "duration": 14,
    "start_time": "2023-11-01T11:54:29.204Z"
   },
   {
    "duration": 359,
    "start_time": "2023-11-01T11:54:29.220Z"
   },
   {
    "duration": 11,
    "start_time": "2023-11-01T11:54:29.581Z"
   },
   {
    "duration": 15,
    "start_time": "2023-11-01T11:54:29.594Z"
   },
   {
    "duration": 43,
    "start_time": "2023-11-01T11:54:29.610Z"
   },
   {
    "duration": 204,
    "start_time": "2023-11-01T11:54:29.654Z"
   },
   {
    "duration": 6,
    "start_time": "2023-11-01T11:54:29.860Z"
   },
   {
    "duration": 18,
    "start_time": "2023-11-01T11:54:29.868Z"
   },
   {
    "duration": 12,
    "start_time": "2023-11-01T11:54:29.888Z"
   },
   {
    "duration": 53,
    "start_time": "2023-11-01T21:04:05.703Z"
   },
   {
    "duration": 1470,
    "start_time": "2023-11-01T21:04:11.630Z"
   },
   {
    "duration": 295,
    "start_time": "2023-11-01T21:04:13.103Z"
   },
   {
    "duration": 29,
    "start_time": "2023-11-01T21:04:13.400Z"
   },
   {
    "duration": 14,
    "start_time": "2023-11-01T21:04:13.430Z"
   },
   {
    "duration": 10,
    "start_time": "2023-11-01T21:04:13.447Z"
   },
   {
    "duration": 9,
    "start_time": "2023-11-01T21:04:13.459Z"
   },
   {
    "duration": 25,
    "start_time": "2023-11-01T21:04:13.469Z"
   },
   {
    "duration": 19,
    "start_time": "2023-11-01T21:04:13.496Z"
   },
   {
    "duration": 7,
    "start_time": "2023-11-01T21:04:13.544Z"
   },
   {
    "duration": 15,
    "start_time": "2023-11-01T21:04:13.553Z"
   },
   {
    "duration": 7,
    "start_time": "2023-11-01T21:04:13.570Z"
   },
   {
    "duration": 8,
    "start_time": "2023-11-01T21:04:13.579Z"
   },
   {
    "duration": 7,
    "start_time": "2023-11-01T21:04:13.589Z"
   },
   {
    "duration": 48,
    "start_time": "2023-11-01T21:04:13.600Z"
   },
   {
    "duration": 8,
    "start_time": "2023-11-01T21:04:13.650Z"
   },
   {
    "duration": 10,
    "start_time": "2023-11-01T21:04:13.659Z"
   },
   {
    "duration": 5,
    "start_time": "2023-11-01T21:04:13.671Z"
   },
   {
    "duration": 9,
    "start_time": "2023-11-01T21:04:13.678Z"
   },
   {
    "duration": 5,
    "start_time": "2023-11-01T21:04:13.689Z"
   },
   {
    "duration": 53,
    "start_time": "2023-11-01T21:04:13.695Z"
   },
   {
    "duration": 147,
    "start_time": "2023-11-01T21:04:13.750Z"
   },
   {
    "duration": 192,
    "start_time": "2023-11-01T21:04:13.898Z"
   },
   {
    "duration": 196,
    "start_time": "2023-11-01T21:04:14.092Z"
   },
   {
    "duration": 140,
    "start_time": "2023-11-01T21:04:14.290Z"
   },
   {
    "duration": 223,
    "start_time": "2023-11-01T21:04:14.431Z"
   },
   {
    "duration": 8,
    "start_time": "2023-11-01T21:04:14.656Z"
   },
   {
    "duration": 309,
    "start_time": "2023-11-01T21:04:14.666Z"
   },
   {
    "duration": 128,
    "start_time": "2023-11-01T21:04:14.977Z"
   },
   {
    "duration": 488,
    "start_time": "2023-11-01T21:04:15.107Z"
   },
   {
    "duration": 32,
    "start_time": "2023-11-01T21:04:15.597Z"
   },
   {
    "duration": 10,
    "start_time": "2023-11-01T21:04:15.645Z"
   },
   {
    "duration": 59,
    "start_time": "2023-11-01T21:04:15.656Z"
   },
   {
    "duration": 23,
    "start_time": "2023-11-01T21:04:15.718Z"
   },
   {
    "duration": 361,
    "start_time": "2023-11-01T21:04:15.743Z"
   },
   {
    "duration": 13,
    "start_time": "2023-11-01T21:04:16.106Z"
   },
   {
    "duration": 368,
    "start_time": "2023-11-01T21:04:16.121Z"
   },
   {
    "duration": 13,
    "start_time": "2023-11-01T21:04:16.491Z"
   },
   {
    "duration": 7,
    "start_time": "2023-11-01T21:04:16.506Z"
   },
   {
    "duration": 76,
    "start_time": "2023-11-01T21:04:16.514Z"
   },
   {
    "duration": 218,
    "start_time": "2023-11-01T21:04:16.592Z"
   },
   {
    "duration": 5,
    "start_time": "2023-11-01T21:04:16.814Z"
   },
   {
    "duration": 37,
    "start_time": "2023-11-01T21:04:16.821Z"
   },
   {
    "duration": 39,
    "start_time": "2023-11-01T21:04:16.860Z"
   },
   {
    "duration": 15,
    "start_time": "2023-11-01T21:04:25.343Z"
   }
  ],
  "kernelspec": {
   "display_name": "Python [conda env:base] *",
   "language": "python",
   "name": "conda-base-py"
  },
  "language_info": {
   "codemirror_mode": {
    "name": "ipython",
    "version": 3
   },
   "file_extension": ".py",
   "mimetype": "text/x-python",
   "name": "python",
   "nbconvert_exporter": "python",
   "pygments_lexer": "ipython3",
   "version": "3.12.7"
  },
  "toc": {
   "base_numbering": 1,
   "nav_menu": {},
   "number_sections": true,
   "sideBar": true,
   "skip_h1_title": true,
   "title_cell": "Table of Contents",
   "title_sidebar": "Contents",
   "toc_cell": false,
   "toc_position": {},
   "toc_section_display": true,
   "toc_window_display": true
  }
 },
 "nbformat": 4,
 "nbformat_minor": 5
}
