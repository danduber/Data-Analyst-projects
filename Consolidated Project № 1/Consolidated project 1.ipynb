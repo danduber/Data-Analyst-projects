{
 "cells": [
  {
   "cell_type": "markdown",
   "metadata": {},
   "source": [
    "# Описание проекта"
   ]
  },
  {
   "cell_type": "markdown",
   "metadata": {},
   "source": [
    "Вы работаете в интернет-магазине «Стримчик», который продаёт по всему миру компьютерные игры. Из открытых источников доступны исторические данные о продажах игр, оценки пользователей и экспертов, жанры и платформы (например, Xbox или PlayStation). Вам нужно выявить определяющие успешность игры закономерности. Это позволит сделать ставку на потенциально популярный продукт и спланировать рекламные кампании.\n",
    "Перед вами данные до 2016 года. Представим, что сейчас декабрь 2016 г., и вы планируете кампанию на 2017-й. Нужно отработать принцип работы с данными. Неважно, прогнозируете ли вы продажи на 2017 год по данным 2016-го или же 2027-й — по данным 2026 года.\n",
    "В наборе данных попадается аббревиатура ESRB (Entertainment Software Rating Board) — это ассоциация, определяющая возрастной рейтинг компьютерных игр. ESRB оценивает игровой контент и присваивает ему подходящую возрастную категорию, например, «Для взрослых», «Для детей младшего возраста» или «Для подростков»."
   ]
  },
  {
   "cell_type": "markdown",
   "metadata": {},
   "source": [
    "**Шаг 1. Загрузка данных**\n",
    "\n",
    "**Шаг 2. Предобработка данных**\n",
    "- Замените названия столбцов (приведите к нижнему регистру);\n",
    "- Преобразуйте данные в нужные типы. Опишите, в каких столбцах заменили тип данных и почему;\n",
    "- Обработайте пропуски при необходимости:\n",
    "  - Объясните, почему заполнили пропуски определённым образом или почему не стали это делать;\n",
    "  - Опишите причины, которые могли привести к пропускам;\n",
    "  - Обратите внимание на аббревиатуру 'tbd' в столбце с оценкой пользователей. Отдельно разберите это значение и опишите, как его обработать;  \n",
    "- Посчитайте суммарные продажи во всех регионах и запишите их в отдельный столбец.\n",
    "\n",
    "**Шаг 3. Исследовательский анализ данных**\n",
    "- Посмотрите, сколько игр выпускалось в разные годы. Важны ли данные за все периоды?\n",
    "- Посмотрите, как менялись продажи по платформам. Выберите платформы с наибольшими суммарными продажами и постройте распределение по годам. За какой характерный срок появляются новые и исчезают старые платформы?\n",
    "- Возьмите данные за соответствующий актуальный период. Актуальный период определите самостоятельно в результате исследования предыдущих вопросов. Основной фактор — эти данные помогут построить прогноз на 2017 год.\n",
    "- Не учитывайте в работе данные за предыдущие годы.\n",
    "- Какие платформы лидируют по продажам, растут или падают? Выберите несколько потенциально прибыльных платформ.\n",
    "- Постройте график «ящик с усами» по глобальным продажам игр в разбивке по платформам. Опишите результат.\n",
    "- Посмотрите, как влияют на продажи внутри одной популярной платформы отзывы пользователей и критиков. Постройте диаграмму рассеяния и посчитайте корреляцию между отзывами и продажами. Сформулируйте выводы.\n",
    "- Соотнесите выводы с продажами игр на других платформах.\n",
    "- Посмотрите на общее распределение игр по жанрам. Что можно сказать о самых прибыльных жанрах? Выделяются ли жанры с высокими и низкими продажами?\n",
    "\n",
    "**Шаг 4. Составьте портрет пользователя каждого региона**\n",
    "\n",
    "Определите для пользователя каждого региона (NA, EU, JP):\n",
    "\n",
    "- Самые популярные платформы (топ-5). Опишите различия в долях продаж.\n",
    "- Самые популярные жанры (топ-5). Поясните разницу.\n",
    "- Влияет ли рейтинг ESRB на продажи в отдельном регионе?\n",
    "\n",
    "**Шаг 5. Проверьте гипотезы.**\n",
    "\n",
    "- Средние пользовательские рейтинги платформ Xbox One и PC одинаковые;\n",
    "- Средние пользовательские рейтинги жанров Action (англ. «действие», экшен-игры) и Sports (англ. «спортивные соревнования») разные.\n",
    "- Задайте самостоятельно пороговое значение alpha.\n",
    "\n",
    "Поясните:\n",
    "\n",
    "- Как вы сформулировали нулевую и альтернативную гипотезы;\n",
    "- Какой критерий применили для проверки гипотез и почему.\n",
    "\n",
    "**Шаг 6. Вывод.**\n",
    "\n",
    "Описание данных:\n",
    "- Name — название игры\n",
    "- Platform — платформа\n",
    "- Year_of_Release — год выпуска\n",
    "- Genre — жанр игры\n",
    "- NA_sales — продажи в Северной Америке (миллионы проданных копий)\n",
    "- EU_sales — продажи в Европе (миллионы проданных копий)\n",
    "- JP_sales — продажи в Японии (миллионы проданных копий)\n",
    "- Other_sales — продажи в других странах (миллионы проданных копий)\n",
    "- Critic_Score — оценка критиков (максимум 100)\n",
    "- User_Score — оценка пользователей (максимум 10)\n",
    "- Rating — рейтинг от организации ESRB (англ. Entertainment Software Rating Board). Эта ассоциация определяет рейтинг компьютерных игр и присваивает им подходящую возрастную категорию."
   ]
  },
  {
   "cell_type": "markdown",
   "metadata": {},
   "source": [
    "**Шаг 1. Загрузка данных**"
   ]
  },
  {
   "cell_type": "markdown",
   "metadata": {},
   "source": [
    "Импортируем бибилиотеки:"
   ]
  },
  {
   "cell_type": "code",
   "execution_count": 1,
   "metadata": {},
   "outputs": [],
   "source": [
    "import pandas as pd\n",
    "import matplotlib.pyplot as plt\n",
    "import seaborn as sns\n",
    "from scipy import stats as st\n",
    "import numpy as np"
   ]
  },
  {
   "cell_type": "markdown",
   "metadata": {},
   "source": [
    "Загрузим CSV-файл с данными:"
   ]
  },
  {
   "cell_type": "code",
   "execution_count": 2,
   "metadata": {},
   "outputs": [
    {
     "data": {
      "text/html": [
       "<div>\n",
       "<style scoped>\n",
       "    .dataframe tbody tr th:only-of-type {\n",
       "        vertical-align: middle;\n",
       "    }\n",
       "\n",
       "    .dataframe tbody tr th {\n",
       "        vertical-align: top;\n",
       "    }\n",
       "\n",
       "    .dataframe thead th {\n",
       "        text-align: right;\n",
       "    }\n",
       "</style>\n",
       "<table border=\"1\" class=\"dataframe\">\n",
       "  <thead>\n",
       "    <tr style=\"text-align: right;\">\n",
       "      <th></th>\n",
       "      <th>Name</th>\n",
       "      <th>Platform</th>\n",
       "      <th>Year_of_Release</th>\n",
       "      <th>Genre</th>\n",
       "      <th>NA_sales</th>\n",
       "      <th>EU_sales</th>\n",
       "      <th>JP_sales</th>\n",
       "      <th>Other_sales</th>\n",
       "      <th>Critic_Score</th>\n",
       "      <th>User_Score</th>\n",
       "      <th>Rating</th>\n",
       "    </tr>\n",
       "  </thead>\n",
       "  <tbody>\n",
       "    <tr>\n",
       "      <th>0</th>\n",
       "      <td>Wii Sports</td>\n",
       "      <td>Wii</td>\n",
       "      <td>2006.0</td>\n",
       "      <td>Sports</td>\n",
       "      <td>41.36</td>\n",
       "      <td>28.96</td>\n",
       "      <td>3.77</td>\n",
       "      <td>8.45</td>\n",
       "      <td>76.0</td>\n",
       "      <td>8</td>\n",
       "      <td>E</td>\n",
       "    </tr>\n",
       "    <tr>\n",
       "      <th>1</th>\n",
       "      <td>Super Mario Bros.</td>\n",
       "      <td>NES</td>\n",
       "      <td>1985.0</td>\n",
       "      <td>Platform</td>\n",
       "      <td>29.08</td>\n",
       "      <td>3.58</td>\n",
       "      <td>6.81</td>\n",
       "      <td>0.77</td>\n",
       "      <td>NaN</td>\n",
       "      <td>NaN</td>\n",
       "      <td>NaN</td>\n",
       "    </tr>\n",
       "    <tr>\n",
       "      <th>2</th>\n",
       "      <td>Mario Kart Wii</td>\n",
       "      <td>Wii</td>\n",
       "      <td>2008.0</td>\n",
       "      <td>Racing</td>\n",
       "      <td>15.68</td>\n",
       "      <td>12.76</td>\n",
       "      <td>3.79</td>\n",
       "      <td>3.29</td>\n",
       "      <td>82.0</td>\n",
       "      <td>8.3</td>\n",
       "      <td>E</td>\n",
       "    </tr>\n",
       "    <tr>\n",
       "      <th>3</th>\n",
       "      <td>Wii Sports Resort</td>\n",
       "      <td>Wii</td>\n",
       "      <td>2009.0</td>\n",
       "      <td>Sports</td>\n",
       "      <td>15.61</td>\n",
       "      <td>10.93</td>\n",
       "      <td>3.28</td>\n",
       "      <td>2.95</td>\n",
       "      <td>80.0</td>\n",
       "      <td>8</td>\n",
       "      <td>E</td>\n",
       "    </tr>\n",
       "    <tr>\n",
       "      <th>4</th>\n",
       "      <td>Pokemon Red/Pokemon Blue</td>\n",
       "      <td>GB</td>\n",
       "      <td>1996.0</td>\n",
       "      <td>Role-Playing</td>\n",
       "      <td>11.27</td>\n",
       "      <td>8.89</td>\n",
       "      <td>10.22</td>\n",
       "      <td>1.00</td>\n",
       "      <td>NaN</td>\n",
       "      <td>NaN</td>\n",
       "      <td>NaN</td>\n",
       "    </tr>\n",
       "    <tr>\n",
       "      <th>...</th>\n",
       "      <td>...</td>\n",
       "      <td>...</td>\n",
       "      <td>...</td>\n",
       "      <td>...</td>\n",
       "      <td>...</td>\n",
       "      <td>...</td>\n",
       "      <td>...</td>\n",
       "      <td>...</td>\n",
       "      <td>...</td>\n",
       "      <td>...</td>\n",
       "      <td>...</td>\n",
       "    </tr>\n",
       "    <tr>\n",
       "      <th>16710</th>\n",
       "      <td>Samurai Warriors: Sanada Maru</td>\n",
       "      <td>PS3</td>\n",
       "      <td>2016.0</td>\n",
       "      <td>Action</td>\n",
       "      <td>0.00</td>\n",
       "      <td>0.00</td>\n",
       "      <td>0.01</td>\n",
       "      <td>0.00</td>\n",
       "      <td>NaN</td>\n",
       "      <td>NaN</td>\n",
       "      <td>NaN</td>\n",
       "    </tr>\n",
       "    <tr>\n",
       "      <th>16711</th>\n",
       "      <td>LMA Manager 2007</td>\n",
       "      <td>X360</td>\n",
       "      <td>2006.0</td>\n",
       "      <td>Sports</td>\n",
       "      <td>0.00</td>\n",
       "      <td>0.01</td>\n",
       "      <td>0.00</td>\n",
       "      <td>0.00</td>\n",
       "      <td>NaN</td>\n",
       "      <td>NaN</td>\n",
       "      <td>NaN</td>\n",
       "    </tr>\n",
       "    <tr>\n",
       "      <th>16712</th>\n",
       "      <td>Haitaka no Psychedelica</td>\n",
       "      <td>PSV</td>\n",
       "      <td>2016.0</td>\n",
       "      <td>Adventure</td>\n",
       "      <td>0.00</td>\n",
       "      <td>0.00</td>\n",
       "      <td>0.01</td>\n",
       "      <td>0.00</td>\n",
       "      <td>NaN</td>\n",
       "      <td>NaN</td>\n",
       "      <td>NaN</td>\n",
       "    </tr>\n",
       "    <tr>\n",
       "      <th>16713</th>\n",
       "      <td>Spirits &amp; Spells</td>\n",
       "      <td>GBA</td>\n",
       "      <td>2003.0</td>\n",
       "      <td>Platform</td>\n",
       "      <td>0.01</td>\n",
       "      <td>0.00</td>\n",
       "      <td>0.00</td>\n",
       "      <td>0.00</td>\n",
       "      <td>NaN</td>\n",
       "      <td>NaN</td>\n",
       "      <td>NaN</td>\n",
       "    </tr>\n",
       "    <tr>\n",
       "      <th>16714</th>\n",
       "      <td>Winning Post 8 2016</td>\n",
       "      <td>PSV</td>\n",
       "      <td>2016.0</td>\n",
       "      <td>Simulation</td>\n",
       "      <td>0.00</td>\n",
       "      <td>0.00</td>\n",
       "      <td>0.01</td>\n",
       "      <td>0.00</td>\n",
       "      <td>NaN</td>\n",
       "      <td>NaN</td>\n",
       "      <td>NaN</td>\n",
       "    </tr>\n",
       "  </tbody>\n",
       "</table>\n",
       "<p>16715 rows × 11 columns</p>\n",
       "</div>"
      ],
      "text/plain": [
       "                                Name Platform  Year_of_Release         Genre  \\\n",
       "0                         Wii Sports      Wii           2006.0        Sports   \n",
       "1                  Super Mario Bros.      NES           1985.0      Platform   \n",
       "2                     Mario Kart Wii      Wii           2008.0        Racing   \n",
       "3                  Wii Sports Resort      Wii           2009.0        Sports   \n",
       "4           Pokemon Red/Pokemon Blue       GB           1996.0  Role-Playing   \n",
       "...                              ...      ...              ...           ...   \n",
       "16710  Samurai Warriors: Sanada Maru      PS3           2016.0        Action   \n",
       "16711               LMA Manager 2007     X360           2006.0        Sports   \n",
       "16712        Haitaka no Psychedelica      PSV           2016.0     Adventure   \n",
       "16713               Spirits & Spells      GBA           2003.0      Platform   \n",
       "16714            Winning Post 8 2016      PSV           2016.0    Simulation   \n",
       "\n",
       "       NA_sales  EU_sales  JP_sales  Other_sales  Critic_Score User_Score  \\\n",
       "0         41.36     28.96      3.77         8.45          76.0          8   \n",
       "1         29.08      3.58      6.81         0.77           NaN        NaN   \n",
       "2         15.68     12.76      3.79         3.29          82.0        8.3   \n",
       "3         15.61     10.93      3.28         2.95          80.0          8   \n",
       "4         11.27      8.89     10.22         1.00           NaN        NaN   \n",
       "...         ...       ...       ...          ...           ...        ...   \n",
       "16710      0.00      0.00      0.01         0.00           NaN        NaN   \n",
       "16711      0.00      0.01      0.00         0.00           NaN        NaN   \n",
       "16712      0.00      0.00      0.01         0.00           NaN        NaN   \n",
       "16713      0.01      0.00      0.00         0.00           NaN        NaN   \n",
       "16714      0.00      0.00      0.01         0.00           NaN        NaN   \n",
       "\n",
       "      Rating  \n",
       "0          E  \n",
       "1        NaN  \n",
       "2          E  \n",
       "3          E  \n",
       "4        NaN  \n",
       "...      ...  \n",
       "16710    NaN  \n",
       "16711    NaN  \n",
       "16712    NaN  \n",
       "16713    NaN  \n",
       "16714    NaN  \n",
       "\n",
       "[16715 rows x 11 columns]"
      ]
     },
     "execution_count": 2,
     "metadata": {},
     "output_type": "execute_result"
    }
   ],
   "source": [
    "data = pd.read_csv('/datasets/games.csv')\n",
    "data"
   ]
  },
  {
   "cell_type": "markdown",
   "metadata": {},
   "source": [
    "**Посмотрим из каких значений состоит файл:**"
   ]
  },
  {
   "cell_type": "code",
   "execution_count": 3,
   "metadata": {},
   "outputs": [
    {
     "name": "stdout",
     "output_type": "stream",
     "text": [
      "<class 'pandas.core.frame.DataFrame'>\n",
      "RangeIndex: 16715 entries, 0 to 16714\n",
      "Data columns (total 11 columns):\n",
      " #   Column           Non-Null Count  Dtype  \n",
      "---  ------           --------------  -----  \n",
      " 0   Name             16713 non-null  object \n",
      " 1   Platform         16715 non-null  object \n",
      " 2   Year_of_Release  16446 non-null  float64\n",
      " 3   Genre            16713 non-null  object \n",
      " 4   NA_sales         16715 non-null  float64\n",
      " 5   EU_sales         16715 non-null  float64\n",
      " 6   JP_sales         16715 non-null  float64\n",
      " 7   Other_sales      16715 non-null  float64\n",
      " 8   Critic_Score     8137 non-null   float64\n",
      " 9   User_Score       10014 non-null  object \n",
      " 10  Rating           9949 non-null   object \n",
      "dtypes: float64(6), object(5)\n",
      "memory usage: 1.4+ MB\n"
     ]
    }
   ],
   "source": [
    "data.info()"
   ]
  },
  {
   "cell_type": "markdown",
   "metadata": {},
   "source": [
    "**В данных 16715 строк, однако есть проблемы с типом данных и их качеством:**\n",
    "\n",
    "Name - присутствуют пропущенные значения.\n",
    "\n",
    "Year_Of_Release - данные типа float64 необходимо привести к нужному типу данных, присутствуют пропущенные значения.\n",
    "\n",
    "Critic_Score - присутствуют пропущенные значения.\n",
    "\n",
    "User_Score - данные типа object необходимо привести к нужному типу данных, присутствуют пропущенные значения.\n",
    "\n",
    "Rating - присутствуют пропущенные значения."
   ]
  },
  {
   "cell_type": "markdown",
   "metadata": {},
   "source": [
    "**Вывод:** Импортированы необходимые библиотеки, загружены данные, определены цели для последующей предобработки данных."
   ]
  },
  {
   "cell_type": "markdown",
   "metadata": {},
   "source": [
    "**Шаг 2. Предобработка данных.**"
   ]
  },
  {
   "cell_type": "markdown",
   "metadata": {},
   "source": [
    "- Замените названия столбцов (приведите к нижнему регистру);\n",
    "- Преобразуйте данные в нужные типы. Опишите, в каких столбцах заменили тип данных и почему;\n",
    "- Обработайте пропуски при необходимости:\n",
    "  - Объясните, почему заполнили пропуски определённым образом или почему не стали это делать;\n",
    "  - Опишите причины, которые могли привести к пропускам;\n",
    "  - Обратите внимание на аббревиатуру 'tbd' в столбце с оценкой пользователей. Отдельно разберите это значение и опишите, как его обработать;  \n",
    "- Посчитайте суммарные продажи во всех регионах и запишите их в отдельный столбец."
   ]
  },
  {
   "cell_type": "markdown",
   "metadata": {},
   "source": [
    "Распечатаем таблицу для удобства ориентирования"
   ]
  },
  {
   "cell_type": "code",
   "execution_count": 4,
   "metadata": {},
   "outputs": [
    {
     "data": {
      "text/html": [
       "<div>\n",
       "<style scoped>\n",
       "    .dataframe tbody tr th:only-of-type {\n",
       "        vertical-align: middle;\n",
       "    }\n",
       "\n",
       "    .dataframe tbody tr th {\n",
       "        vertical-align: top;\n",
       "    }\n",
       "\n",
       "    .dataframe thead th {\n",
       "        text-align: right;\n",
       "    }\n",
       "</style>\n",
       "<table border=\"1\" class=\"dataframe\">\n",
       "  <thead>\n",
       "    <tr style=\"text-align: right;\">\n",
       "      <th></th>\n",
       "      <th>Name</th>\n",
       "      <th>Platform</th>\n",
       "      <th>Year_of_Release</th>\n",
       "      <th>Genre</th>\n",
       "      <th>NA_sales</th>\n",
       "      <th>EU_sales</th>\n",
       "      <th>JP_sales</th>\n",
       "      <th>Other_sales</th>\n",
       "      <th>Critic_Score</th>\n",
       "      <th>User_Score</th>\n",
       "      <th>Rating</th>\n",
       "    </tr>\n",
       "  </thead>\n",
       "  <tbody>\n",
       "    <tr>\n",
       "      <th>0</th>\n",
       "      <td>Wii Sports</td>\n",
       "      <td>Wii</td>\n",
       "      <td>2006.0</td>\n",
       "      <td>Sports</td>\n",
       "      <td>41.36</td>\n",
       "      <td>28.96</td>\n",
       "      <td>3.77</td>\n",
       "      <td>8.45</td>\n",
       "      <td>76.0</td>\n",
       "      <td>8</td>\n",
       "      <td>E</td>\n",
       "    </tr>\n",
       "    <tr>\n",
       "      <th>1</th>\n",
       "      <td>Super Mario Bros.</td>\n",
       "      <td>NES</td>\n",
       "      <td>1985.0</td>\n",
       "      <td>Platform</td>\n",
       "      <td>29.08</td>\n",
       "      <td>3.58</td>\n",
       "      <td>6.81</td>\n",
       "      <td>0.77</td>\n",
       "      <td>NaN</td>\n",
       "      <td>NaN</td>\n",
       "      <td>NaN</td>\n",
       "    </tr>\n",
       "    <tr>\n",
       "      <th>2</th>\n",
       "      <td>Mario Kart Wii</td>\n",
       "      <td>Wii</td>\n",
       "      <td>2008.0</td>\n",
       "      <td>Racing</td>\n",
       "      <td>15.68</td>\n",
       "      <td>12.76</td>\n",
       "      <td>3.79</td>\n",
       "      <td>3.29</td>\n",
       "      <td>82.0</td>\n",
       "      <td>8.3</td>\n",
       "      <td>E</td>\n",
       "    </tr>\n",
       "    <tr>\n",
       "      <th>3</th>\n",
       "      <td>Wii Sports Resort</td>\n",
       "      <td>Wii</td>\n",
       "      <td>2009.0</td>\n",
       "      <td>Sports</td>\n",
       "      <td>15.61</td>\n",
       "      <td>10.93</td>\n",
       "      <td>3.28</td>\n",
       "      <td>2.95</td>\n",
       "      <td>80.0</td>\n",
       "      <td>8</td>\n",
       "      <td>E</td>\n",
       "    </tr>\n",
       "    <tr>\n",
       "      <th>4</th>\n",
       "      <td>Pokemon Red/Pokemon Blue</td>\n",
       "      <td>GB</td>\n",
       "      <td>1996.0</td>\n",
       "      <td>Role-Playing</td>\n",
       "      <td>11.27</td>\n",
       "      <td>8.89</td>\n",
       "      <td>10.22</td>\n",
       "      <td>1.00</td>\n",
       "      <td>NaN</td>\n",
       "      <td>NaN</td>\n",
       "      <td>NaN</td>\n",
       "    </tr>\n",
       "    <tr>\n",
       "      <th>...</th>\n",
       "      <td>...</td>\n",
       "      <td>...</td>\n",
       "      <td>...</td>\n",
       "      <td>...</td>\n",
       "      <td>...</td>\n",
       "      <td>...</td>\n",
       "      <td>...</td>\n",
       "      <td>...</td>\n",
       "      <td>...</td>\n",
       "      <td>...</td>\n",
       "      <td>...</td>\n",
       "    </tr>\n",
       "    <tr>\n",
       "      <th>16710</th>\n",
       "      <td>Samurai Warriors: Sanada Maru</td>\n",
       "      <td>PS3</td>\n",
       "      <td>2016.0</td>\n",
       "      <td>Action</td>\n",
       "      <td>0.00</td>\n",
       "      <td>0.00</td>\n",
       "      <td>0.01</td>\n",
       "      <td>0.00</td>\n",
       "      <td>NaN</td>\n",
       "      <td>NaN</td>\n",
       "      <td>NaN</td>\n",
       "    </tr>\n",
       "    <tr>\n",
       "      <th>16711</th>\n",
       "      <td>LMA Manager 2007</td>\n",
       "      <td>X360</td>\n",
       "      <td>2006.0</td>\n",
       "      <td>Sports</td>\n",
       "      <td>0.00</td>\n",
       "      <td>0.01</td>\n",
       "      <td>0.00</td>\n",
       "      <td>0.00</td>\n",
       "      <td>NaN</td>\n",
       "      <td>NaN</td>\n",
       "      <td>NaN</td>\n",
       "    </tr>\n",
       "    <tr>\n",
       "      <th>16712</th>\n",
       "      <td>Haitaka no Psychedelica</td>\n",
       "      <td>PSV</td>\n",
       "      <td>2016.0</td>\n",
       "      <td>Adventure</td>\n",
       "      <td>0.00</td>\n",
       "      <td>0.00</td>\n",
       "      <td>0.01</td>\n",
       "      <td>0.00</td>\n",
       "      <td>NaN</td>\n",
       "      <td>NaN</td>\n",
       "      <td>NaN</td>\n",
       "    </tr>\n",
       "    <tr>\n",
       "      <th>16713</th>\n",
       "      <td>Spirits &amp; Spells</td>\n",
       "      <td>GBA</td>\n",
       "      <td>2003.0</td>\n",
       "      <td>Platform</td>\n",
       "      <td>0.01</td>\n",
       "      <td>0.00</td>\n",
       "      <td>0.00</td>\n",
       "      <td>0.00</td>\n",
       "      <td>NaN</td>\n",
       "      <td>NaN</td>\n",
       "      <td>NaN</td>\n",
       "    </tr>\n",
       "    <tr>\n",
       "      <th>16714</th>\n",
       "      <td>Winning Post 8 2016</td>\n",
       "      <td>PSV</td>\n",
       "      <td>2016.0</td>\n",
       "      <td>Simulation</td>\n",
       "      <td>0.00</td>\n",
       "      <td>0.00</td>\n",
       "      <td>0.01</td>\n",
       "      <td>0.00</td>\n",
       "      <td>NaN</td>\n",
       "      <td>NaN</td>\n",
       "      <td>NaN</td>\n",
       "    </tr>\n",
       "  </tbody>\n",
       "</table>\n",
       "<p>16715 rows × 11 columns</p>\n",
       "</div>"
      ],
      "text/plain": [
       "                                Name Platform  Year_of_Release         Genre  \\\n",
       "0                         Wii Sports      Wii           2006.0        Sports   \n",
       "1                  Super Mario Bros.      NES           1985.0      Platform   \n",
       "2                     Mario Kart Wii      Wii           2008.0        Racing   \n",
       "3                  Wii Sports Resort      Wii           2009.0        Sports   \n",
       "4           Pokemon Red/Pokemon Blue       GB           1996.0  Role-Playing   \n",
       "...                              ...      ...              ...           ...   \n",
       "16710  Samurai Warriors: Sanada Maru      PS3           2016.0        Action   \n",
       "16711               LMA Manager 2007     X360           2006.0        Sports   \n",
       "16712        Haitaka no Psychedelica      PSV           2016.0     Adventure   \n",
       "16713               Spirits & Spells      GBA           2003.0      Platform   \n",
       "16714            Winning Post 8 2016      PSV           2016.0    Simulation   \n",
       "\n",
       "       NA_sales  EU_sales  JP_sales  Other_sales  Critic_Score User_Score  \\\n",
       "0         41.36     28.96      3.77         8.45          76.0          8   \n",
       "1         29.08      3.58      6.81         0.77           NaN        NaN   \n",
       "2         15.68     12.76      3.79         3.29          82.0        8.3   \n",
       "3         15.61     10.93      3.28         2.95          80.0          8   \n",
       "4         11.27      8.89     10.22         1.00           NaN        NaN   \n",
       "...         ...       ...       ...          ...           ...        ...   \n",
       "16710      0.00      0.00      0.01         0.00           NaN        NaN   \n",
       "16711      0.00      0.01      0.00         0.00           NaN        NaN   \n",
       "16712      0.00      0.00      0.01         0.00           NaN        NaN   \n",
       "16713      0.01      0.00      0.00         0.00           NaN        NaN   \n",
       "16714      0.00      0.00      0.01         0.00           NaN        NaN   \n",
       "\n",
       "      Rating  \n",
       "0          E  \n",
       "1        NaN  \n",
       "2          E  \n",
       "3          E  \n",
       "4        NaN  \n",
       "...      ...  \n",
       "16710    NaN  \n",
       "16711    NaN  \n",
       "16712    NaN  \n",
       "16713    NaN  \n",
       "16714    NaN  \n",
       "\n",
       "[16715 rows x 11 columns]"
      ]
     },
     "execution_count": 4,
     "metadata": {},
     "output_type": "execute_result"
    }
   ],
   "source": [
    "data"
   ]
  },
  {
   "cell_type": "code",
   "execution_count": 5,
   "metadata": {},
   "outputs": [],
   "source": [
    "data_shape_original = data.shape"
   ]
  },
  {
   "cell_type": "markdown",
   "metadata": {},
   "source": [
    "**Для начала для удобства заменим все названия столбцов на строчные:**"
   ]
  },
  {
   "cell_type": "code",
   "execution_count": 6,
   "metadata": {},
   "outputs": [],
   "source": [
    "data.columns = data.columns.str.lower()"
   ]
  },
  {
   "cell_type": "markdown",
   "metadata": {},
   "source": [
    "Проверим данные на наличие пропущенных значений в стобцах"
   ]
  },
  {
   "cell_type": "code",
   "execution_count": 7,
   "metadata": {},
   "outputs": [
    {
     "data": {
      "text/html": [
       "<style  type=\"text/css\" >\n",
       "#T_0b46e_row0_col0,#T_0b46e_row1_col0,#T_0b46e_row3_col0,#T_0b46e_row4_col0,#T_0b46e_row5_col0,#T_0b46e_row6_col0,#T_0b46e_row7_col0{\n",
       "            background-color:  #3b4cc0;\n",
       "            color:  #f1f1f1;\n",
       "        }#T_0b46e_row2_col0{\n",
       "            background-color:  #465ecf;\n",
       "            color:  #f1f1f1;\n",
       "        }#T_0b46e_row8_col0{\n",
       "            background-color:  #b40426;\n",
       "            color:  #f1f1f1;\n",
       "        }#T_0b46e_row9_col0,#T_0b46e_row10_col0{\n",
       "            background-color:  #f08b6e;\n",
       "            color:  #000000;\n",
       "        }</style><table id=\"T_0b46e_\" ><thead>    <tr>        <th class=\"blank level0\" ></th>        <th class=\"col_heading level0 col0\" >0</th>    </tr></thead><tbody>\n",
       "                <tr>\n",
       "                        <th id=\"T_0b46e_level0_row0\" class=\"row_heading level0 row0\" >name</th>\n",
       "                        <td id=\"T_0b46e_row0_col0\" class=\"data row0 col0\" >0.000000</td>\n",
       "            </tr>\n",
       "            <tr>\n",
       "                        <th id=\"T_0b46e_level0_row1\" class=\"row_heading level0 row1\" >platform</th>\n",
       "                        <td id=\"T_0b46e_row1_col0\" class=\"data row1 col0\" >0.000000</td>\n",
       "            </tr>\n",
       "            <tr>\n",
       "                        <th id=\"T_0b46e_level0_row2\" class=\"row_heading level0 row2\" >year_of_release</th>\n",
       "                        <td id=\"T_0b46e_row2_col0\" class=\"data row2 col0\" >2.000000</td>\n",
       "            </tr>\n",
       "            <tr>\n",
       "                        <th id=\"T_0b46e_level0_row3\" class=\"row_heading level0 row3\" >genre</th>\n",
       "                        <td id=\"T_0b46e_row3_col0\" class=\"data row3 col0\" >0.000000</td>\n",
       "            </tr>\n",
       "            <tr>\n",
       "                        <th id=\"T_0b46e_level0_row4\" class=\"row_heading level0 row4\" >na_sales</th>\n",
       "                        <td id=\"T_0b46e_row4_col0\" class=\"data row4 col0\" >0.000000</td>\n",
       "            </tr>\n",
       "            <tr>\n",
       "                        <th id=\"T_0b46e_level0_row5\" class=\"row_heading level0 row5\" >eu_sales</th>\n",
       "                        <td id=\"T_0b46e_row5_col0\" class=\"data row5 col0\" >0.000000</td>\n",
       "            </tr>\n",
       "            <tr>\n",
       "                        <th id=\"T_0b46e_level0_row6\" class=\"row_heading level0 row6\" >jp_sales</th>\n",
       "                        <td id=\"T_0b46e_row6_col0\" class=\"data row6 col0\" >0.000000</td>\n",
       "            </tr>\n",
       "            <tr>\n",
       "                        <th id=\"T_0b46e_level0_row7\" class=\"row_heading level0 row7\" >other_sales</th>\n",
       "                        <td id=\"T_0b46e_row7_col0\" class=\"data row7 col0\" >0.000000</td>\n",
       "            </tr>\n",
       "            <tr>\n",
       "                        <th id=\"T_0b46e_level0_row8\" class=\"row_heading level0 row8\" >critic_score</th>\n",
       "                        <td id=\"T_0b46e_row8_col0\" class=\"data row8 col0\" >51.000000</td>\n",
       "            </tr>\n",
       "            <tr>\n",
       "                        <th id=\"T_0b46e_level0_row9\" class=\"row_heading level0 row9\" >user_score</th>\n",
       "                        <td id=\"T_0b46e_row9_col0\" class=\"data row9 col0\" >40.000000</td>\n",
       "            </tr>\n",
       "            <tr>\n",
       "                        <th id=\"T_0b46e_level0_row10\" class=\"row_heading level0 row10\" >rating</th>\n",
       "                        <td id=\"T_0b46e_row10_col0\" class=\"data row10 col0\" >40.000000</td>\n",
       "            </tr>\n",
       "    </tbody></table>"
      ],
      "text/plain": [
       "<pandas.io.formats.style.Styler at 0x7f009a5ada90>"
      ]
     },
     "execution_count": 7,
     "metadata": {},
     "output_type": "execute_result"
    }
   ],
   "source": [
    "pd.DataFrame(round(data.isna().mean()*100,)).style.background_gradient('coolwarm')"
   ]
  },
  {
   "cell_type": "markdown",
   "metadata": {},
   "source": [
    "**2.1.Заменим типы данных и прорабатаем пропущенные значения:**"
   ]
  },
  {
   "cell_type": "markdown",
   "metadata": {},
   "source": [
    "Столбец **name**:"
   ]
  },
  {
   "cell_type": "code",
   "execution_count": 8,
   "metadata": {
    "scrolled": true
   },
   "outputs": [
    {
     "data": {
      "text/plain": [
       "2"
      ]
     },
     "execution_count": 8,
     "metadata": {},
     "output_type": "execute_result"
    }
   ],
   "source": [
    "data['name'].isna().sum()"
   ]
  },
  {
   "cell_type": "markdown",
   "metadata": {},
   "source": [
    "В столбце name всего лишь 2 пропущенных значений, можно смело отбросить их"
   ]
  },
  {
   "cell_type": "code",
   "execution_count": 9,
   "metadata": {},
   "outputs": [],
   "source": [
    "data = data.dropna(subset=['name'])"
   ]
  },
  {
   "cell_type": "code",
   "execution_count": 10,
   "metadata": {
    "scrolled": true
   },
   "outputs": [
    {
     "data": {
      "text/plain": [
       "0"
      ]
     },
     "execution_count": 10,
     "metadata": {},
     "output_type": "execute_result"
    }
   ],
   "source": [
    "data['name'].isna().sum()"
   ]
  },
  {
   "cell_type": "markdown",
   "metadata": {},
   "source": [
    "Столбец **year_of_release**:"
   ]
  },
  {
   "cell_type": "code",
   "execution_count": 11,
   "metadata": {
    "scrolled": true
   },
   "outputs": [
    {
     "data": {
      "text/plain": [
       "269"
      ]
     },
     "execution_count": 11,
     "metadata": {},
     "output_type": "execute_result"
    }
   ],
   "source": [
    "data['year_of_release'].isna().sum()"
   ]
  },
  {
   "cell_type": "markdown",
   "metadata": {},
   "source": [
    "В столбце year_of_release 269 пропущенных значений, заполнить их возможности нет, так как медианное или среднее значение будет некорректно для года выхода игры."
   ]
  },
  {
   "cell_type": "code",
   "execution_count": 12,
   "metadata": {},
   "outputs": [],
   "source": [
    "data = data.dropna(subset=['year_of_release'])"
   ]
  },
  {
   "cell_type": "code",
   "execution_count": 13,
   "metadata": {},
   "outputs": [
    {
     "data": {
      "text/plain": [
       "0"
      ]
     },
     "execution_count": 13,
     "metadata": {},
     "output_type": "execute_result"
    }
   ],
   "source": [
    "data['year_of_release'].isna().sum()"
   ]
  },
  {
   "cell_type": "markdown",
   "metadata": {},
   "source": [
    "Также необходимо привести данные по столбцу year_of_release к нужному типу, в нашем случае это **Int**"
   ]
  },
  {
   "cell_type": "code",
   "execution_count": 14,
   "metadata": {},
   "outputs": [],
   "source": [
    "data['year_of_release'] = data['year_of_release'].astype('int')"
   ]
  },
  {
   "cell_type": "markdown",
   "metadata": {},
   "source": [
    "Столбец **user_score**:"
   ]
  },
  {
   "cell_type": "code",
   "execution_count": 15,
   "metadata": {},
   "outputs": [
    {
     "data": {
      "text/plain": [
       "6605"
      ]
     },
     "execution_count": 15,
     "metadata": {},
     "output_type": "execute_result"
    }
   ],
   "source": [
    "data['user_score'].isna().sum()"
   ]
  },
  {
   "cell_type": "code",
   "execution_count": 16,
   "metadata": {},
   "outputs": [
    {
     "data": {
      "text/plain": [
       "array(['8', nan, '8.3', '8.5', '6.6', '8.4', '8.6', '7.7', '6.3', '7.4',\n",
       "       '8.2', '9', '7.9', '8.1', '8.7', '7.1', '3.4', '5.3', '4.8', '3.2',\n",
       "       '8.9', '6.4', '7.8', '7.5', '2.6', '7.2', '9.2', '7', '7.3', '4.3',\n",
       "       '7.6', '5.7', '5', '9.1', '6.5', 'tbd', '8.8', '6.9', '9.4', '6.8',\n",
       "       '6.1', '6.7', '5.4', '4', '4.9', '4.5', '9.3', '6.2', '4.2', '6',\n",
       "       '3.7', '4.1', '5.8', '5.6', '5.5', '4.4', '4.6', '5.9', '3.9',\n",
       "       '3.1', '2.9', '5.2', '3.3', '4.7', '5.1', '3.5', '2.5', '1.9', '3',\n",
       "       '2.7', '2.2', '2', '9.5', '2.1', '3.6', '2.8', '1.8', '3.8', '0',\n",
       "       '1.6', '9.6', '2.4', '1.7', '1.1', '0.3', '1.5', '0.7', '1.2',\n",
       "       '2.3', '0.5', '1.3', '0.2', '0.6', '1.4', '0.9', '1', '9.7'],\n",
       "      dtype=object)"
      ]
     },
     "execution_count": 16,
     "metadata": {},
     "output_type": "execute_result"
    }
   ],
   "source": [
    "data['user_score'].unique()"
   ]
  },
  {
   "cell_type": "markdown",
   "metadata": {},
   "source": [
    "В столбце user_score присутствуют значения **tbd**, расшифровывая это означает **to be determined**, переводя на русский значит **будет определен**. Заменим эти значения на NaN"
   ]
  },
  {
   "cell_type": "code",
   "execution_count": 17,
   "metadata": {},
   "outputs": [],
   "source": [
    "data['user_score'] = data['user_score'].replace('tbd', np.nan)"
   ]
  },
  {
   "cell_type": "markdown",
   "metadata": {},
   "source": [
    "Также заменим тип данных на **float**"
   ]
  },
  {
   "cell_type": "code",
   "execution_count": 18,
   "metadata": {},
   "outputs": [],
   "source": [
    "data['user_score'] = data['user_score'].astype('float')"
   ]
  },
  {
   "cell_type": "markdown",
   "metadata": {},
   "source": [
    "Очень много пропусков. Так как заполнение их медианным или средним значением может испортить наши результаты, то заполним их значением -1"
   ]
  },
  {
   "cell_type": "code",
   "execution_count": 19,
   "metadata": {},
   "outputs": [],
   "source": [
    "data['user_score'] = data['user_score'].fillna(-1)"
   ]
  },
  {
   "cell_type": "markdown",
   "metadata": {},
   "source": [
    "Столбец **critic_score**:"
   ]
  },
  {
   "cell_type": "code",
   "execution_count": 20,
   "metadata": {},
   "outputs": [
    {
     "data": {
      "text/plain": [
       "8461"
      ]
     },
     "execution_count": 20,
     "metadata": {},
     "output_type": "execute_result"
    }
   ],
   "source": [
    "data['critic_score'].isna().sum()"
   ]
  },
  {
   "cell_type": "markdown",
   "metadata": {},
   "source": [
    "Проведем ту же самую манипуляцию что и с user_score"
   ]
  },
  {
   "cell_type": "code",
   "execution_count": 21,
   "metadata": {},
   "outputs": [],
   "source": [
    "data['critic_score'] = data['critic_score'].fillna(-1)"
   ]
  },
  {
   "cell_type": "markdown",
   "metadata": {},
   "source": [
    "Столбец **rating**:"
   ]
  },
  {
   "cell_type": "code",
   "execution_count": 22,
   "metadata": {},
   "outputs": [
    {
     "name": "stdout",
     "output_type": "stream",
     "text": [
      "['E' nan 'M' 'T' 'E10+' 'K-A' 'AO' 'EC' 'RP']\n"
     ]
    },
    {
     "data": {
      "text/plain": [
       "6676"
      ]
     },
     "execution_count": 22,
     "metadata": {},
     "output_type": "execute_result"
    }
   ],
   "source": [
    "print(data['rating'].unique())\n",
    "data['rating'].isna().sum()"
   ]
  },
  {
   "cell_type": "markdown",
   "metadata": {},
   "source": [
    "Заполним пустые значения более корректной формулировкой **Out of rating (Вне рейтинга)**:"
   ]
  },
  {
   "cell_type": "code",
   "execution_count": 23,
   "metadata": {},
   "outputs": [],
   "source": [
    "data['rating'] = data['rating'].fillna('out of rating')"
   ]
  },
  {
   "cell_type": "code",
   "execution_count": 24,
   "metadata": {},
   "outputs": [
    {
     "data": {
      "text/html": [
       "<style  type=\"text/css\" >\n",
       "#T_8f83a_row0_col0,#T_8f83a_row1_col0,#T_8f83a_row2_col0,#T_8f83a_row3_col0,#T_8f83a_row4_col0,#T_8f83a_row5_col0,#T_8f83a_row6_col0,#T_8f83a_row7_col0,#T_8f83a_row8_col0,#T_8f83a_row9_col0,#T_8f83a_row10_col0{\n",
       "            background-color:  #3b4cc0;\n",
       "            color:  #f1f1f1;\n",
       "        }</style><table id=\"T_8f83a_\" ><thead>    <tr>        <th class=\"blank level0\" ></th>        <th class=\"col_heading level0 col0\" >0</th>    </tr></thead><tbody>\n",
       "                <tr>\n",
       "                        <th id=\"T_8f83a_level0_row0\" class=\"row_heading level0 row0\" >name</th>\n",
       "                        <td id=\"T_8f83a_row0_col0\" class=\"data row0 col0\" >0.000000</td>\n",
       "            </tr>\n",
       "            <tr>\n",
       "                        <th id=\"T_8f83a_level0_row1\" class=\"row_heading level0 row1\" >platform</th>\n",
       "                        <td id=\"T_8f83a_row1_col0\" class=\"data row1 col0\" >0.000000</td>\n",
       "            </tr>\n",
       "            <tr>\n",
       "                        <th id=\"T_8f83a_level0_row2\" class=\"row_heading level0 row2\" >year_of_release</th>\n",
       "                        <td id=\"T_8f83a_row2_col0\" class=\"data row2 col0\" >0.000000</td>\n",
       "            </tr>\n",
       "            <tr>\n",
       "                        <th id=\"T_8f83a_level0_row3\" class=\"row_heading level0 row3\" >genre</th>\n",
       "                        <td id=\"T_8f83a_row3_col0\" class=\"data row3 col0\" >0.000000</td>\n",
       "            </tr>\n",
       "            <tr>\n",
       "                        <th id=\"T_8f83a_level0_row4\" class=\"row_heading level0 row4\" >na_sales</th>\n",
       "                        <td id=\"T_8f83a_row4_col0\" class=\"data row4 col0\" >0.000000</td>\n",
       "            </tr>\n",
       "            <tr>\n",
       "                        <th id=\"T_8f83a_level0_row5\" class=\"row_heading level0 row5\" >eu_sales</th>\n",
       "                        <td id=\"T_8f83a_row5_col0\" class=\"data row5 col0\" >0.000000</td>\n",
       "            </tr>\n",
       "            <tr>\n",
       "                        <th id=\"T_8f83a_level0_row6\" class=\"row_heading level0 row6\" >jp_sales</th>\n",
       "                        <td id=\"T_8f83a_row6_col0\" class=\"data row6 col0\" >0.000000</td>\n",
       "            </tr>\n",
       "            <tr>\n",
       "                        <th id=\"T_8f83a_level0_row7\" class=\"row_heading level0 row7\" >other_sales</th>\n",
       "                        <td id=\"T_8f83a_row7_col0\" class=\"data row7 col0\" >0.000000</td>\n",
       "            </tr>\n",
       "            <tr>\n",
       "                        <th id=\"T_8f83a_level0_row8\" class=\"row_heading level0 row8\" >critic_score</th>\n",
       "                        <td id=\"T_8f83a_row8_col0\" class=\"data row8 col0\" >0.000000</td>\n",
       "            </tr>\n",
       "            <tr>\n",
       "                        <th id=\"T_8f83a_level0_row9\" class=\"row_heading level0 row9\" >user_score</th>\n",
       "                        <td id=\"T_8f83a_row9_col0\" class=\"data row9 col0\" >0.000000</td>\n",
       "            </tr>\n",
       "            <tr>\n",
       "                        <th id=\"T_8f83a_level0_row10\" class=\"row_heading level0 row10\" >rating</th>\n",
       "                        <td id=\"T_8f83a_row10_col0\" class=\"data row10 col0\" >0.000000</td>\n",
       "            </tr>\n",
       "    </tbody></table>"
      ],
      "text/plain": [
       "<pandas.io.formats.style.Styler at 0x7f0017e25b20>"
      ]
     },
     "execution_count": 24,
     "metadata": {},
     "output_type": "execute_result"
    }
   ],
   "source": [
    "pd.DataFrame(round(data.isna().mean()*100,)).style.background_gradient('coolwarm')"
   ]
  },
  {
   "cell_type": "markdown",
   "metadata": {},
   "source": [
    "**Проверим данные на наличие явных дубликатов.**"
   ]
  },
  {
   "cell_type": "code",
   "execution_count": 25,
   "metadata": {},
   "outputs": [
    {
     "data": {
      "text/plain": [
       "0"
      ]
     },
     "execution_count": 25,
     "metadata": {},
     "output_type": "execute_result"
    }
   ],
   "source": [
    "data.duplicated().sum()"
   ]
  },
  {
   "cell_type": "markdown",
   "metadata": {},
   "source": [
    "Явные дубликаты отсутствуют."
   ]
  },
  {
   "cell_type": "markdown",
   "metadata": {},
   "source": [
    "**Проверим данные на наличие неявных дубликатов.**"
   ]
  },
  {
   "cell_type": "code",
   "execution_count": 26,
   "metadata": {},
   "outputs": [
    {
     "data": {
      "text/html": [
       "<div>\n",
       "<style scoped>\n",
       "    .dataframe tbody tr th:only-of-type {\n",
       "        vertical-align: middle;\n",
       "    }\n",
       "\n",
       "    .dataframe tbody tr th {\n",
       "        vertical-align: top;\n",
       "    }\n",
       "\n",
       "    .dataframe thead th {\n",
       "        text-align: right;\n",
       "    }\n",
       "</style>\n",
       "<table border=\"1\" class=\"dataframe\">\n",
       "  <thead>\n",
       "    <tr style=\"text-align: right;\">\n",
       "      <th></th>\n",
       "      <th>name</th>\n",
       "      <th>platform</th>\n",
       "      <th>year_of_release</th>\n",
       "      <th>genre</th>\n",
       "      <th>na_sales</th>\n",
       "      <th>eu_sales</th>\n",
       "      <th>jp_sales</th>\n",
       "      <th>other_sales</th>\n",
       "      <th>critic_score</th>\n",
       "      <th>user_score</th>\n",
       "      <th>rating</th>\n",
       "    </tr>\n",
       "  </thead>\n",
       "  <tbody>\n",
       "    <tr>\n",
       "      <th>604</th>\n",
       "      <td>Madden NFL 13</td>\n",
       "      <td>PS3</td>\n",
       "      <td>2012</td>\n",
       "      <td>Sports</td>\n",
       "      <td>2.11</td>\n",
       "      <td>0.22</td>\n",
       "      <td>0.0</td>\n",
       "      <td>0.23</td>\n",
       "      <td>83.0</td>\n",
       "      <td>5.5</td>\n",
       "      <td>E</td>\n",
       "    </tr>\n",
       "    <tr>\n",
       "      <th>16230</th>\n",
       "      <td>Madden NFL 13</td>\n",
       "      <td>PS3</td>\n",
       "      <td>2012</td>\n",
       "      <td>Sports</td>\n",
       "      <td>0.00</td>\n",
       "      <td>0.01</td>\n",
       "      <td>0.0</td>\n",
       "      <td>0.00</td>\n",
       "      <td>83.0</td>\n",
       "      <td>5.5</td>\n",
       "      <td>E</td>\n",
       "    </tr>\n",
       "  </tbody>\n",
       "</table>\n",
       "</div>"
      ],
      "text/plain": [
       "                name platform  year_of_release   genre  na_sales  eu_sales  \\\n",
       "604    Madden NFL 13      PS3             2012  Sports      2.11      0.22   \n",
       "16230  Madden NFL 13      PS3             2012  Sports      0.00      0.01   \n",
       "\n",
       "       jp_sales  other_sales  critic_score  user_score rating  \n",
       "604         0.0         0.23          83.0         5.5      E  \n",
       "16230       0.0         0.00          83.0         5.5      E  "
      ]
     },
     "execution_count": 26,
     "metadata": {},
     "output_type": "execute_result"
    }
   ],
   "source": [
    "data[data[['name','platform','year_of_release']].duplicated(keep=False)]"
   ]
  },
  {
   "cell_type": "markdown",
   "metadata": {},
   "source": [
    "Обнаружен неявный дубликат с игрой Madden NFL13. Вторая запись похожа на аномилю. Поэтому оставми первую."
   ]
  },
  {
   "cell_type": "code",
   "execution_count": 27,
   "metadata": {},
   "outputs": [
    {
     "data": {
      "text/html": [
       "<div>\n",
       "<style scoped>\n",
       "    .dataframe tbody tr th:only-of-type {\n",
       "        vertical-align: middle;\n",
       "    }\n",
       "\n",
       "    .dataframe tbody tr th {\n",
       "        vertical-align: top;\n",
       "    }\n",
       "\n",
       "    .dataframe thead th {\n",
       "        text-align: right;\n",
       "    }\n",
       "</style>\n",
       "<table border=\"1\" class=\"dataframe\">\n",
       "  <thead>\n",
       "    <tr style=\"text-align: right;\">\n",
       "      <th></th>\n",
       "      <th>name</th>\n",
       "      <th>platform</th>\n",
       "      <th>year_of_release</th>\n",
       "      <th>genre</th>\n",
       "      <th>na_sales</th>\n",
       "      <th>eu_sales</th>\n",
       "      <th>jp_sales</th>\n",
       "      <th>other_sales</th>\n",
       "      <th>critic_score</th>\n",
       "      <th>user_score</th>\n",
       "      <th>rating</th>\n",
       "    </tr>\n",
       "  </thead>\n",
       "  <tbody>\n",
       "  </tbody>\n",
       "</table>\n",
       "</div>"
      ],
      "text/plain": [
       "Empty DataFrame\n",
       "Columns: [name, platform, year_of_release, genre, na_sales, eu_sales, jp_sales, other_sales, critic_score, user_score, rating]\n",
       "Index: []"
      ]
     },
     "execution_count": 27,
     "metadata": {},
     "output_type": "execute_result"
    }
   ],
   "source": [
    "data.drop_duplicates(subset=['name', 'platform', 'year_of_release'], keep='first', inplace=True)\n",
    "data[data[['name', 'platform','year_of_release']].duplicated(keep=False)]"
   ]
  },
  {
   "cell_type": "markdown",
   "metadata": {},
   "source": [
    "**Посчитаем суммарные продажи во всех регионах и запишите их в отдельный столбец.**"
   ]
  },
  {
   "cell_type": "code",
   "execution_count": 28,
   "metadata": {},
   "outputs": [
    {
     "data": {
      "text/html": [
       "<div>\n",
       "<style scoped>\n",
       "    .dataframe tbody tr th:only-of-type {\n",
       "        vertical-align: middle;\n",
       "    }\n",
       "\n",
       "    .dataframe tbody tr th {\n",
       "        vertical-align: top;\n",
       "    }\n",
       "\n",
       "    .dataframe thead th {\n",
       "        text-align: right;\n",
       "    }\n",
       "</style>\n",
       "<table border=\"1\" class=\"dataframe\">\n",
       "  <thead>\n",
       "    <tr style=\"text-align: right;\">\n",
       "      <th></th>\n",
       "      <th>name</th>\n",
       "      <th>platform</th>\n",
       "      <th>year_of_release</th>\n",
       "      <th>genre</th>\n",
       "      <th>na_sales</th>\n",
       "      <th>eu_sales</th>\n",
       "      <th>jp_sales</th>\n",
       "      <th>other_sales</th>\n",
       "      <th>critic_score</th>\n",
       "      <th>user_score</th>\n",
       "      <th>rating</th>\n",
       "      <th>total_sales</th>\n",
       "    </tr>\n",
       "  </thead>\n",
       "  <tbody>\n",
       "    <tr>\n",
       "      <th>0</th>\n",
       "      <td>Wii Sports</td>\n",
       "      <td>Wii</td>\n",
       "      <td>2006</td>\n",
       "      <td>Sports</td>\n",
       "      <td>41.36</td>\n",
       "      <td>28.96</td>\n",
       "      <td>3.77</td>\n",
       "      <td>8.45</td>\n",
       "      <td>76.0</td>\n",
       "      <td>8.0</td>\n",
       "      <td>E</td>\n",
       "      <td>82.54</td>\n",
       "    </tr>\n",
       "    <tr>\n",
       "      <th>1</th>\n",
       "      <td>Super Mario Bros.</td>\n",
       "      <td>NES</td>\n",
       "      <td>1985</td>\n",
       "      <td>Platform</td>\n",
       "      <td>29.08</td>\n",
       "      <td>3.58</td>\n",
       "      <td>6.81</td>\n",
       "      <td>0.77</td>\n",
       "      <td>-1.0</td>\n",
       "      <td>-1.0</td>\n",
       "      <td>out of rating</td>\n",
       "      <td>40.24</td>\n",
       "    </tr>\n",
       "    <tr>\n",
       "      <th>2</th>\n",
       "      <td>Mario Kart Wii</td>\n",
       "      <td>Wii</td>\n",
       "      <td>2008</td>\n",
       "      <td>Racing</td>\n",
       "      <td>15.68</td>\n",
       "      <td>12.76</td>\n",
       "      <td>3.79</td>\n",
       "      <td>3.29</td>\n",
       "      <td>82.0</td>\n",
       "      <td>8.3</td>\n",
       "      <td>E</td>\n",
       "      <td>35.52</td>\n",
       "    </tr>\n",
       "    <tr>\n",
       "      <th>3</th>\n",
       "      <td>Wii Sports Resort</td>\n",
       "      <td>Wii</td>\n",
       "      <td>2009</td>\n",
       "      <td>Sports</td>\n",
       "      <td>15.61</td>\n",
       "      <td>10.93</td>\n",
       "      <td>3.28</td>\n",
       "      <td>2.95</td>\n",
       "      <td>80.0</td>\n",
       "      <td>8.0</td>\n",
       "      <td>E</td>\n",
       "      <td>32.77</td>\n",
       "    </tr>\n",
       "    <tr>\n",
       "      <th>4</th>\n",
       "      <td>Pokemon Red/Pokemon Blue</td>\n",
       "      <td>GB</td>\n",
       "      <td>1996</td>\n",
       "      <td>Role-Playing</td>\n",
       "      <td>11.27</td>\n",
       "      <td>8.89</td>\n",
       "      <td>10.22</td>\n",
       "      <td>1.00</td>\n",
       "      <td>-1.0</td>\n",
       "      <td>-1.0</td>\n",
       "      <td>out of rating</td>\n",
       "      <td>31.38</td>\n",
       "    </tr>\n",
       "    <tr>\n",
       "      <th>...</th>\n",
       "      <td>...</td>\n",
       "      <td>...</td>\n",
       "      <td>...</td>\n",
       "      <td>...</td>\n",
       "      <td>...</td>\n",
       "      <td>...</td>\n",
       "      <td>...</td>\n",
       "      <td>...</td>\n",
       "      <td>...</td>\n",
       "      <td>...</td>\n",
       "      <td>...</td>\n",
       "      <td>...</td>\n",
       "    </tr>\n",
       "    <tr>\n",
       "      <th>16710</th>\n",
       "      <td>Samurai Warriors: Sanada Maru</td>\n",
       "      <td>PS3</td>\n",
       "      <td>2016</td>\n",
       "      <td>Action</td>\n",
       "      <td>0.00</td>\n",
       "      <td>0.00</td>\n",
       "      <td>0.01</td>\n",
       "      <td>0.00</td>\n",
       "      <td>-1.0</td>\n",
       "      <td>-1.0</td>\n",
       "      <td>out of rating</td>\n",
       "      <td>0.01</td>\n",
       "    </tr>\n",
       "    <tr>\n",
       "      <th>16711</th>\n",
       "      <td>LMA Manager 2007</td>\n",
       "      <td>X360</td>\n",
       "      <td>2006</td>\n",
       "      <td>Sports</td>\n",
       "      <td>0.00</td>\n",
       "      <td>0.01</td>\n",
       "      <td>0.00</td>\n",
       "      <td>0.00</td>\n",
       "      <td>-1.0</td>\n",
       "      <td>-1.0</td>\n",
       "      <td>out of rating</td>\n",
       "      <td>0.01</td>\n",
       "    </tr>\n",
       "    <tr>\n",
       "      <th>16712</th>\n",
       "      <td>Haitaka no Psychedelica</td>\n",
       "      <td>PSV</td>\n",
       "      <td>2016</td>\n",
       "      <td>Adventure</td>\n",
       "      <td>0.00</td>\n",
       "      <td>0.00</td>\n",
       "      <td>0.01</td>\n",
       "      <td>0.00</td>\n",
       "      <td>-1.0</td>\n",
       "      <td>-1.0</td>\n",
       "      <td>out of rating</td>\n",
       "      <td>0.01</td>\n",
       "    </tr>\n",
       "    <tr>\n",
       "      <th>16713</th>\n",
       "      <td>Spirits &amp; Spells</td>\n",
       "      <td>GBA</td>\n",
       "      <td>2003</td>\n",
       "      <td>Platform</td>\n",
       "      <td>0.01</td>\n",
       "      <td>0.00</td>\n",
       "      <td>0.00</td>\n",
       "      <td>0.00</td>\n",
       "      <td>-1.0</td>\n",
       "      <td>-1.0</td>\n",
       "      <td>out of rating</td>\n",
       "      <td>0.01</td>\n",
       "    </tr>\n",
       "    <tr>\n",
       "      <th>16714</th>\n",
       "      <td>Winning Post 8 2016</td>\n",
       "      <td>PSV</td>\n",
       "      <td>2016</td>\n",
       "      <td>Simulation</td>\n",
       "      <td>0.00</td>\n",
       "      <td>0.00</td>\n",
       "      <td>0.01</td>\n",
       "      <td>0.00</td>\n",
       "      <td>-1.0</td>\n",
       "      <td>-1.0</td>\n",
       "      <td>out of rating</td>\n",
       "      <td>0.01</td>\n",
       "    </tr>\n",
       "  </tbody>\n",
       "</table>\n",
       "<p>16443 rows × 12 columns</p>\n",
       "</div>"
      ],
      "text/plain": [
       "                                name platform  year_of_release         genre  \\\n",
       "0                         Wii Sports      Wii             2006        Sports   \n",
       "1                  Super Mario Bros.      NES             1985      Platform   \n",
       "2                     Mario Kart Wii      Wii             2008        Racing   \n",
       "3                  Wii Sports Resort      Wii             2009        Sports   \n",
       "4           Pokemon Red/Pokemon Blue       GB             1996  Role-Playing   \n",
       "...                              ...      ...              ...           ...   \n",
       "16710  Samurai Warriors: Sanada Maru      PS3             2016        Action   \n",
       "16711               LMA Manager 2007     X360             2006        Sports   \n",
       "16712        Haitaka no Psychedelica      PSV             2016     Adventure   \n",
       "16713               Spirits & Spells      GBA             2003      Platform   \n",
       "16714            Winning Post 8 2016      PSV             2016    Simulation   \n",
       "\n",
       "       na_sales  eu_sales  jp_sales  other_sales  critic_score  user_score  \\\n",
       "0         41.36     28.96      3.77         8.45          76.0         8.0   \n",
       "1         29.08      3.58      6.81         0.77          -1.0        -1.0   \n",
       "2         15.68     12.76      3.79         3.29          82.0         8.3   \n",
       "3         15.61     10.93      3.28         2.95          80.0         8.0   \n",
       "4         11.27      8.89     10.22         1.00          -1.0        -1.0   \n",
       "...         ...       ...       ...          ...           ...         ...   \n",
       "16710      0.00      0.00      0.01         0.00          -1.0        -1.0   \n",
       "16711      0.00      0.01      0.00         0.00          -1.0        -1.0   \n",
       "16712      0.00      0.00      0.01         0.00          -1.0        -1.0   \n",
       "16713      0.01      0.00      0.00         0.00          -1.0        -1.0   \n",
       "16714      0.00      0.00      0.01         0.00          -1.0        -1.0   \n",
       "\n",
       "              rating  total_sales  \n",
       "0                  E        82.54  \n",
       "1      out of rating        40.24  \n",
       "2                  E        35.52  \n",
       "3                  E        32.77  \n",
       "4      out of rating        31.38  \n",
       "...              ...          ...  \n",
       "16710  out of rating         0.01  \n",
       "16711  out of rating         0.01  \n",
       "16712  out of rating         0.01  \n",
       "16713  out of rating         0.01  \n",
       "16714  out of rating         0.01  \n",
       "\n",
       "[16443 rows x 12 columns]"
      ]
     },
     "execution_count": 28,
     "metadata": {},
     "output_type": "execute_result"
    }
   ],
   "source": [
    "data['total_sales'] = data['na_sales'] + data['eu_sales'] + data['jp_sales'] + data['other_sales']\n",
    "data"
   ]
  },
  {
   "cell_type": "code",
   "execution_count": 29,
   "metadata": {},
   "outputs": [
    {
     "name": "stdout",
     "output_type": "stream",
     "text": [
      "(16715, 11)\n",
      "(16443, 12)\n"
     ]
    },
    {
     "data": {
      "text/plain": [
       "1.6272808854322465"
      ]
     },
     "execution_count": 29,
     "metadata": {},
     "output_type": "execute_result"
    }
   ],
   "source": [
    "print(data_shape_original)\n",
    "print(data.shape)\n",
    "(data_shape_original[0] - data.shape[0]) * 100 / data_shape_original[0]"
   ]
  },
  {
   "cell_type": "markdown",
   "metadata": {},
   "source": [
    "Потери в данных незначительные. Можно преступать к исследовательскому анализу данных."
   ]
  },
  {
   "cell_type": "markdown",
   "metadata": {},
   "source": [
    "**Вывод:** На этапе предобработки данных были проделаны следующие действия:\n",
    "- В столбце **name** убраны пропущенные значения;\n",
    "- В столбце **years_of_release** убраны пропущенные значения, а также данные приведены  к типу **int**;\n",
    "- В столбце **user_score** обработаны пропущенные значения, а также данные приведены  к типу **float**;\n",
    "- В столбце **critic_score** обработаны пропущенные значения;\n",
    "- В столбце **rating** обработаны пропущенные значения;\n",
    "- Осуществлена проверка на явные и неявные дубликаты;\n",
    "- Добавлен столбец с общими продажами **total_sales**;\n",
    "\n",
    "Потери при предобработки данных незначительные: **1.62%** данных."
   ]
  },
  {
   "cell_type": "markdown",
   "metadata": {},
   "source": [
    "**Шаг 3. Исследовательский анализ данных**"
   ]
  },
  {
   "cell_type": "markdown",
   "metadata": {},
   "source": [
    "- Посмотрите, сколько игр выпускалось в разные годы. Важны ли данные за все периоды?\n",
    "- Посмотрите, как менялись продажи по платформам. Выберите платформы с наибольшими суммарными продажами и постройте распределение по годам. За какой характерный срок появляются новые и исчезают старые платформы?\n",
    "- Возьмите данные за соответствующий актуальный период. Актуальный период определите самостоятельно в результате исследования предыдущих вопросов. Основной фактор — эти данные помогут построить прогноз на 2017 год. Не учитывайте в работе данные за предыдущие годы.\n",
    "- Какие платформы лидируют по продажам, растут или падают? Выберите несколько потенциально прибыльных платформ.\n",
    "- Постройте график «ящик с усами» по глобальным продажам игр в разбивке по платформам. Опишите результат.\n",
    "- Посмотрите, как влияют на продажи внутри одной популярной платформы отзывы пользователей и критиков. Постройте диаграмму рассеяния и посчитайте корреляцию между отзывами и продажами. Сформулируйте выводы.\n",
    "- Соотнесите выводы с продажами игр на других платформах.\n",
    "- Посмотрите на общее распределение игр по жанрам. Что можно сказать о самых прибыльных жанрах? Выделяются ли жанры с высокими и низкими продажами?"
   ]
  },
  {
   "cell_type": "markdown",
   "metadata": {},
   "source": [
    "**Посмотрите, сколько игр выпускалось в разные годы. Важны ли данные за все периоды?**"
   ]
  },
  {
   "cell_type": "code",
   "execution_count": 30,
   "metadata": {},
   "outputs": [
    {
     "data": {
      "image/png": "[encoded data removed]",
      "text/plain": [
       "<Figure size 720x432 with 1 Axes>"
      ]
     },
     "metadata": {
      "needs_background": "light"
     },
     "output_type": "display_data"
    }
   ],
   "source": [
    "plt.figure(figsize=(10, 6))\n",
    "\n",
    "years_counts = data['year_of_release'].value_counts().sort_index()\n",
    "\n",
    "# Постройте столбчатую диаграмму\n",
    "years_counts.plot(kind='bar')\n",
    "\n",
    "plt.title('График выпуска игр по годам')\n",
    "plt.xlabel('Год')\n",
    "plt.ylabel('Количество игр')\n",
    "plt.grid(axis='y', alpha=0.75)\n",
    "\n",
    "plt.show()"
   ]
  },
  {
   "cell_type": "markdown",
   "metadata": {},
   "source": [
    "С 1991 по 2009 годы прослеживалась четкая тенденция на рост количества выпускаемых игр. Однако после 2009 года начался спад вплоть до 2012 года. С 2012 года началась стагнация в годы с 2012 по 2016 выпускалось примерно 550 игр в год. Так как мы прогнозируем рекламную компанию на 2017 год, то нам необходимо наиболее свежие данные."
   ]
  },
  {
   "cell_type": "markdown",
   "metadata": {},
   "source": [
    "**Посмотрите, как менялись продажи по платформам. Выберите платформы с наибольшими суммарными продажами и постройте распределение по годам. За какой характерный срок появляются новые и исчезают старые платформы?**"
   ]
  },
  {
   "cell_type": "code",
   "execution_count": 31,
   "metadata": {},
   "outputs": [
    {
     "data": {
      "image/png": "[encoded data removed]",
      "text/plain": [
       "<Figure size 720x432 with 1 Axes>"
      ]
     },
     "metadata": {
      "needs_background": "light"
     },
     "output_type": "display_data"
    }
   ],
   "source": [
    "best_platforms = data.pivot_table(index='platform', values='total_sales', aggfunc='sum')\\\n",
    ".sort_values('total_sales', ascending=False)\\\n",
    ".head(10)\n",
    "\n",
    "best_platforms.sort_values(by='total_sales', ascending=True).plot(kind='barh', figsize=(10,6))\n",
    "\n",
    "plt.title('Продажи игр по платформам')\n",
    "plt.xlabel('Количество продаж')\n",
    "plt.ylabel('Название платформы')\n",
    "plt.grid(axis='x', alpha=0.75)\n",
    "plt.show()"
   ]
  },
  {
   "cell_type": "markdown",
   "metadata": {},
   "source": [
    "Самая популярная платформа Playstation 2. В общей сложности в топ вошли 5 приставок от Sony. На 2 месте по количеству платформ в топе компания Nintendo: 4 консоли. И одна консоль от Microsoft, но зато на втором месте XBOX 360."
   ]
  },
  {
   "cell_type": "code",
   "execution_count": 32,
   "metadata": {},
   "outputs": [
    {
     "data": {
      "image/png": "[encoded data removed]",
      "text/plain": [
       "<Figure size 1008x432 with 1 Axes>"
      ]
     },
     "metadata": {
      "needs_background": "light"
     },
     "output_type": "display_data"
    }
   ],
   "source": [
    "best_platforms_name = best_platforms.index\n",
    "\n",
    "best_platforms_data = data[data['platform'].isin(best_platforms_name)].pivot_table(index='year_of_release', values='total_sales', columns='platform', aggfunc='sum')\n",
    "\n",
    "best_platforms_data.plot(figsize=(14, 6))\n",
    "plt.title('Продажи платформ по годам')\n",
    "plt.xlabel('Год')\n",
    "plt.grid(True)\n",
    "plt.ylabel('Продажи')\n",
    "\n",
    "plt.show()"
   ]
  },
  {
   "cell_type": "markdown",
   "metadata": {},
   "source": [
    "Исходя из данных графика можно сказать что жизненный цикл каждой платформы от 7 до 10 лет, после чего появляются новые. Пик платформ приходится обычно на 3 год после выпуска, что вполне логично так как разработчики в начале изучают возможности и особенности платформы, далее идет планомерный спад и выход новой консоли."
   ]
  },
  {
   "cell_type": "markdown",
   "metadata": {},
   "source": [
    "**Теперь возьмем данные за актуальный период. Возьмем данные с 2013 по 2016 год.** "
   ]
  },
  {
   "cell_type": "markdown",
   "metadata": {},
   "source": [
    "<div class=\"alert alert-block alert-success\">\n",
    "<b>✅Комментарий ревьюера:</b> Согласен с выбранным актуальным периодом! </div>"
   ]
  },
  {
   "cell_type": "code",
   "execution_count": 33,
   "metadata": {},
   "outputs": [
    {
     "data": {
      "image/png": "[encoded data removed]",
      "text/plain": [
       "<Figure size 720x432 with 1 Axes>"
      ]
     },
     "metadata": {
      "needs_background": "light"
     },
     "output_type": "display_data"
    }
   ],
   "source": [
    "filtered_data = data[data['year_of_release'] >= 2013]\n",
    "\n",
    "best_actual_platforms = filtered_data.pivot_table(index='platform', values='total_sales', aggfunc='sum')\\\n",
    ".sort_values('total_sales', ascending=False)\\\n",
    ".head(10)\n",
    "\n",
    "best_actual_platforms.sort_values(by='total_sales', ascending=True).plot(kind='barh', figsize=(10,6))\n",
    "\n",
    "plt.title('Продажи игр по платформам')\n",
    "plt.xlabel('Количество продаж')\n",
    "plt.ylabel('Название платформы')\n",
    "plt.grid(axis='x', alpha=0.75)\n",
    "plt.show()"
   ]
  },
  {
   "cell_type": "markdown",
   "metadata": {},
   "source": [
    "Если сравнивать с графиком за все годы то картина в целом не изменилось. На первом месте была PS2, а стала новая версия PS4, на втором месте также XBOX, только уже не XBOX360, а XBOXOne."
   ]
  },
  {
   "cell_type": "markdown",
   "metadata": {},
   "source": [
    "**Какие платформы лидируют по продажам, растут или падают? Выберите несколько потенциально прибыльных платформ.**"
   ]
  },
  {
   "cell_type": "code",
   "execution_count": 34,
   "metadata": {},
   "outputs": [
    {
     "data": {
      "image/png": "[encoded data removed]",
      "text/plain": [
       "<Figure size 1008x432 with 1 Axes>"
      ]
     },
     "metadata": {
      "needs_background": "light"
     },
     "output_type": "display_data"
    }
   ],
   "source": [
    "best_actual_platforms_name = best_actual_platforms.index\n",
    "\n",
    "best_platforms_data = filtered_data[filtered_data['platform'].isin(best_actual_platforms_name)].pivot_table(index='year_of_release', values='total_sales', columns='platform', aggfunc='sum')\n",
    "\n",
    "best_platforms_data.plot(figsize=(14, 6))\n",
    "plt.title('Продажи платформ по годам')\n",
    "plt.xlabel('Год')\n",
    "plt.grid(True)\n",
    "plt.ylabel('Продажи')\n",
    "\n",
    "plt.show()"
   ]
  },
  {
   "cell_type": "markdown",
   "metadata": {},
   "source": [
    "Как видно из графика продажи для всех платформ снижаются, это общий тренд рынка. Исходя из графика можно сделать выводы, что потенциально прибыльными платформами можно назвать:\n",
    "- **Sony Playstation 4.**\n",
    "- **Xbox one**\n",
    "- **Nintendo 3DS**"
   ]
  },
  {
   "cell_type": "markdown",
   "metadata": {},
   "source": [
    "**Постройте график «ящик с усами» по глобальным продажам игр в разбивке по платформам. Опишите результат.**"
   ]
  },
  {
   "cell_type": "code",
   "execution_count": 35,
   "metadata": {},
   "outputs": [
    {
     "data": {
      "text/plain": [
       "Text(0, 0.5, 'Продажи')"
      ]
     },
     "execution_count": 35,
     "metadata": {},
     "output_type": "execute_result"
    },
    {
     "data": {
      "image/png": "[encoded data removed]",
      "text/plain": [
       "<Figure size 1008x432 with 1 Axes>"
      ]
     },
     "metadata": {
      "needs_background": "light"
     },
     "output_type": "display_data"
    }
   ],
   "source": [
    "filtered_data.pivot_table(index='name', values='total_sales', columns='platform', aggfunc='sum') \\\n",
    ".plot(kind='box', ylim=(0, 2), figsize=(14, 6))\n",
    "\n",
    "plt.title('Продажи платформ по годам')\n",
    "plt.xlabel('Платформа')\n",
    "plt.grid(True)\n",
    "plt.ylabel('Продажи')"
   ]
  },
  {
   "cell_type": "markdown",
   "metadata": {},
   "source": [
    "Из ящика с усами можно сделать вывод, что наиболее актуальными платформами на данный момент являются PS4, XOne, WiiU. Межквартильный размах у PS4 и XOne примерно одинаковый однако у PS4 больше выбросов, скорей всего это количество эксклюзивных игр. У WiiU впринципе отсутствуют выбросы."
   ]
  },
  {
   "cell_type": "markdown",
   "metadata": {},
   "source": [
    "**Посмотрите, как влияют на продажи внутри одной популярной платформы отзывы пользователей и критиков. Постройте диаграмму рассеяния и посчитайте корреляцию между отзывами и продажами. Сформулируйте выводы.**"
   ]
  },
  {
   "cell_type": "markdown",
   "metadata": {},
   "source": [
    "Для примера возьмем самую популярную на данный момент платформу PS4."
   ]
  },
  {
   "cell_type": "code",
   "execution_count": 36,
   "metadata": {
    "scrolled": true
   },
   "outputs": [
    {
     "name": "stdout",
     "output_type": "stream",
     "text": [
      "249\n",
      "252\n",
      "257\n"
     ]
    }
   ],
   "source": [
    "# код ревьюера\n",
    "\n",
    "print(filtered_data[(filtered_data['platform'] == 'PS4') & (filtered_data['critic_score'] > -1) & (filtered_data['user_score'] > -1)].shape[0])\n",
    "print(filtered_data[(filtered_data['platform'] == 'PS4') & (filtered_data['critic_score'] > -1)].shape[0])\n",
    "print(filtered_data[(filtered_data['platform'] == 'PS4') & (filtered_data['user_score'] > -1)].shape[0])"
   ]
  },
  {
   "cell_type": "code",
   "execution_count": 37,
   "metadata": {},
   "outputs": [
    {
     "data": {
      "image/png": "[encoded data removed]",
      "text/plain": [
       "<Figure size 720x432 with 1 Axes>"
      ]
     },
     "metadata": {
      "needs_background": "light"
     },
     "output_type": "display_data"
    },
    {
     "name": "stdout",
     "output_type": "stream",
     "text": [
      "Корреляция между оценками критиков и продажами: 0.41\n"
     ]
    },
    {
     "data": {
      "image/png": "[encoded data removed]",
      "text/plain": [
       "<Figure size 720x432 with 1 Axes>"
      ]
     },
     "metadata": {
      "needs_background": "light"
     },
     "output_type": "display_data"
    },
    {
     "name": "stdout",
     "output_type": "stream",
     "text": [
      "Корреляция между оценками пользователей и продажами: -0.03\n"
     ]
    },
    {
     "data": {
      "image/png": "[encoded data removed]",
      "text/plain": [
       "<Figure size 720x432 with 1 Axes>"
      ]
     },
     "metadata": {
      "needs_background": "light"
     },
     "output_type": "display_data"
    },
    {
     "name": "stdout",
     "output_type": "stream",
     "text": [
      "Корреляция между оценками критиков и оценкой пользователей: 0.56\n"
     ]
    }
   ],
   "source": [
    "PS4_critic = filtered_data[(filtered_data['platform'] == 'PS4') & (filtered_data['critic_score'] > -1)]\n",
    "PS4_user = filtered_data[(filtered_data['platform'] == 'PS4') & (filtered_data['user_score'] > -1)]\n",
    "PS4_overall = filtered_data[(filtered_data['platform'] == 'PS4') & (filtered_data['user_score'] > -1) & (filtered_data['critic_score'] > -1)]\n",
    "\n",
    "plt.figure(figsize=(10, 6))\n",
    "plt.scatter(PS4_critic['critic_score'], PS4_critic['total_sales'], alpha=0.7)\n",
    "plt.title('Зависимость оценок критиков от продаж (PS4)')\n",
    "plt.xlabel('Оценки критиков')\n",
    "plt.ylabel('Продажи')\n",
    "plt.grid(True)\n",
    "\n",
    "plt.show()\n",
    "\n",
    "# Рассчитаем корреляцию\n",
    "correlation = PS4_critic['critic_score'].corr(PS4_critic['total_sales'])\n",
    "print(f'Корреляция между оценками критиков и продажами: {correlation:.2f}')\n",
    "\n",
    "plt.figure(figsize=(10, 6))\n",
    "plt.scatter(PS4_user['user_score'], PS4_user['total_sales'], alpha=0.7)\n",
    "plt.title('Зависимость оценок пользователей от продаж (PS4)')\n",
    "plt.xlabel('Оценки пользователей')\n",
    "plt.ylabel('Продажи')\n",
    "plt.grid(True)\n",
    "\n",
    "plt.show()\n",
    "\n",
    "# Рассчитаем корреляцию\n",
    "correlation = PS4_user['user_score'].corr(PS4_user['total_sales'])\n",
    "print(f'Корреляция между оценками пользователей и продажами: {correlation:.2f}')\n",
    "\n",
    "plt.figure(figsize=(10, 6))\n",
    "plt.scatter(PS4_overall['critic_score'], PS4_overall['user_score'], alpha=0.7)\n",
    "plt.title('Зависимость оценок критиков от оценок пользователей (PS4)')\n",
    "plt.xlabel('Оценки критиков')\n",
    "plt.ylabel('Оценки пользователей')\n",
    "plt.grid(True)\n",
    "\n",
    "plt.show()\n",
    "\n",
    "# Рассчитаем корреляцию\n",
    "correlation = PS4_overall['critic_score'].corr(PS4_overall['user_score'])\n",
    "print(f'Корреляция между оценками критиков и оценкой пользователей: {correlation:.2f}')"
   ]
  },
  {
   "cell_type": "markdown",
   "metadata": {},
   "source": [
    "Исходя из данных корелляции можно сделать вывод что оценка критиков имеет значительной влияние на продажи, в отличии от оценок пользователей где корреляция практически нулевая. Однако на оценку пользователей влияет оценка критиков."
   ]
  },
  {
   "cell_type": "markdown",
   "metadata": {},
   "source": [
    "**Соотнесите выводы с продажами игр на других платформах.**"
   ]
  },
  {
   "cell_type": "markdown",
   "metadata": {},
   "source": [
    "Сравним с информацией по другой платформе XOne."
   ]
  },
  {
   "cell_type": "code",
   "execution_count": 38,
   "metadata": {},
   "outputs": [
    {
     "data": {
      "image/png": "[encoded data removed]",
      "text/plain": [
       "<Figure size 720x432 with 1 Axes>"
      ]
     },
     "metadata": {
      "needs_background": "light"
     },
     "output_type": "display_data"
    },
    {
     "name": "stdout",
     "output_type": "stream",
     "text": [
      "Корреляция между оценками критиков и продажами: 0.42\n"
     ]
    },
    {
     "data": {
      "image/png": "[encoded data removed]",
      "text/plain": [
       "<Figure size 720x432 with 1 Axes>"
      ]
     },
     "metadata": {
      "needs_background": "light"
     },
     "output_type": "display_data"
    },
    {
     "name": "stdout",
     "output_type": "stream",
     "text": [
      "Корреляция между оценками пользователей и продажами: -0.07\n"
     ]
    },
    {
     "data": {
      "image/png": "[encoded data removed]",
      "text/plain": [
       "<Figure size 720x432 with 1 Axes>"
      ]
     },
     "metadata": {
      "needs_background": "light"
     },
     "output_type": "display_data"
    },
    {
     "name": "stdout",
     "output_type": "stream",
     "text": [
      "Корреляция между оценками критиков и оценкой пользователей: 0.47\n"
     ]
    }
   ],
   "source": [
    "XOne_critic = filtered_data[(filtered_data['platform'] == 'XOne') & (filtered_data['critic_score'] > -1)]\n",
    "XOne_user = filtered_data[(filtered_data['platform'] == 'XOne') & (filtered_data['user_score'] > -1)]\n",
    "XOne_overall = filtered_data[(filtered_data['platform'] == 'XOne') & (filtered_data['user_score'] > -1) & (filtered_data['critic_score'] > -1)]\n",
    "\n",
    "plt.figure(figsize=(10, 6))\n",
    "plt.scatter(XOne_critic['critic_score'], XOne_critic['total_sales'], alpha=0.7)\n",
    "plt.title('Зависимость оценок критиков от продаж (XOne)')\n",
    "plt.xlabel('Оценки критиков')\n",
    "plt.ylabel('Продажи')\n",
    "plt.grid(True)\n",
    "\n",
    "plt.show()\n",
    "\n",
    "# Рассчитаем корреляцию\n",
    "correlation = XOne_critic['critic_score'].corr(XOne_critic['total_sales'])\n",
    "print(f'Корреляция между оценками критиков и продажами: {correlation:.2f}')\n",
    "\n",
    "plt.figure(figsize=(10, 6))\n",
    "plt.scatter(XOne_user['user_score'], XOne_user['total_sales'], alpha=0.7)\n",
    "plt.title('Зависимость оценок пользователей от продаж (XOne)')\n",
    "plt.xlabel('Оценки пользователей')\n",
    "plt.ylabel('Продажи')\n",
    "plt.grid(True)\n",
    "\n",
    "plt.show()\n",
    "\n",
    "# Рассчитаем корреляцию\n",
    "correlation = XOne_user['user_score'].corr(XOne_user['total_sales'])\n",
    "print(f'Корреляция между оценками пользователей и продажами: {correlation:.2f}')\n",
    "\n",
    "plt.figure(figsize=(10, 6))\n",
    "plt.scatter(XOne_overall['critic_score'], XOne_overall['user_score'], alpha=0.7)\n",
    "plt.title('Зависимость оценок критиков от оценок пользователей(XOne)')\n",
    "plt.xlabel('Оценки критиков')\n",
    "plt.ylabel('Оценки пользователей')\n",
    "plt.grid(True)\n",
    "\n",
    "plt.show()\n",
    "\n",
    "# Рассчитаем корреляцию\n",
    "correlation = XOne_overall['critic_score'].corr(XOne_overall['user_score'])\n",
    "print(f'Корреляция между оценками критиков и оценкой пользователей: {correlation:.2f}')"
   ]
  },
  {
   "cell_type": "code",
   "execution_count": 39,
   "metadata": {},
   "outputs": [
    {
     "data": {
      "image/png": "[encoded data removed]",
      "text/plain": [
       "<Figure size 720x432 with 1 Axes>"
      ]
     },
     "metadata": {
      "needs_background": "light"
     },
     "output_type": "display_data"
    },
    {
     "name": "stdout",
     "output_type": "stream",
     "text": [
      "Корреляция между оценками критиков и продажами: 0.36\n"
     ]
    },
    {
     "data": {
      "image/png": "[encoded data removed]",
      "text/plain": [
       "<Figure size 720x432 with 1 Axes>"
      ]
     },
     "metadata": {
      "needs_background": "light"
     },
     "output_type": "display_data"
    },
    {
     "name": "stdout",
     "output_type": "stream",
     "text": [
      "Корреляция между оценками пользователей и продажами: 0.24\n"
     ]
    },
    {
     "data": {
      "image/png": "[encoded data removed]",
      "text/plain": [
       "<Figure size 720x432 with 1 Axes>"
      ]
     },
     "metadata": {
      "needs_background": "light"
     },
     "output_type": "display_data"
    },
    {
     "name": "stdout",
     "output_type": "stream",
     "text": [
      "Корреляция между оценками критиков и оценкой пользователей: 0.77\n"
     ]
    }
   ],
   "source": [
    "ThreeDS_critic = filtered_data[(filtered_data['platform'] == '3DS') & (filtered_data['critic_score'] > -1)]\n",
    "ThreeDS_user = filtered_data[(filtered_data['platform'] == '3DS') & (filtered_data['user_score'] > -1)]\n",
    "ThreeDS_overall = filtered_data[(filtered_data['platform'] == '3DS') & (filtered_data['user_score'] > -1) & (filtered_data['critic_score'] > -1)]\n",
    "\n",
    "plt.figure(figsize=(10, 6))\n",
    "plt.scatter(ThreeDS_critic['critic_score'], ThreeDS_critic['total_sales'], alpha=0.7)\n",
    "plt.title('Зависимость оценок критиков от продаж (3DS)')\n",
    "plt.xlabel('Оценки критиков')\n",
    "plt.ylabel('Продажи')\n",
    "plt.grid(True)\n",
    "\n",
    "plt.show()\n",
    "\n",
    "# Рассчитаем корреляцию\n",
    "correlation = ThreeDS_critic['critic_score'].corr(ThreeDS_critic['total_sales'])\n",
    "print(f'Корреляция между оценками критиков и продажами: {correlation:.2f}')\n",
    "\n",
    "plt.figure(figsize=(10, 6))\n",
    "plt.scatter(ThreeDS_user['user_score'], ThreeDS_user['total_sales'], alpha=0.7)\n",
    "plt.title('Зависимость оценок пользователей от продаж (3DS)')\n",
    "plt.xlabel('Оценки пользователей')\n",
    "plt.ylabel('Продажи')\n",
    "plt.grid(True)\n",
    "\n",
    "plt.show()\n",
    "\n",
    "# Рассчитаем корреляцию\n",
    "correlation = ThreeDS_user['user_score'].corr(ThreeDS_user['total_sales'])\n",
    "print(f'Корреляция между оценками пользователей и продажами: {correlation:.2f}')\n",
    "\n",
    "plt.figure(figsize=(10, 6))\n",
    "plt.scatter(ThreeDS_overall['critic_score'], ThreeDS_overall['user_score'], alpha=0.7)\n",
    "plt.title('Зависимость оценок критиков от оценок пользователей(3DS)')\n",
    "plt.xlabel('Оценки критиков')\n",
    "plt.ylabel('Оценки пользователей')\n",
    "plt.grid(True)\n",
    "\n",
    "plt.show()\n",
    "\n",
    "# Рассчитаем корреляцию\n",
    "correlation = ThreeDS_overall['critic_score'].corr(ThreeDS_overall['user_score'])\n",
    "print(f'Корреляция между оценками критиков и оценкой пользователей: {correlation:.2f}')"
   ]
  },
  {
   "cell_type": "code",
   "execution_count": 40,
   "metadata": {},
   "outputs": [
    {
     "data": {
      "image/png": "[encoded data removed]",
      "text/plain": [
       "<Figure size 720x432 with 1 Axes>"
      ]
     },
     "metadata": {
      "needs_background": "light"
     },
     "output_type": "display_data"
    },
    {
     "name": "stdout",
     "output_type": "stream",
     "text": [
      "Корреляция между оценками критиков и продажами: 0.38\n"
     ]
    },
    {
     "data": {
      "image/png": "[encoded data removed]",
      "text/plain": [
       "<Figure size 720x432 with 1 Axes>"
      ]
     },
     "metadata": {
      "needs_background": "light"
     },
     "output_type": "display_data"
    },
    {
     "name": "stdout",
     "output_type": "stream",
     "text": [
      "Корреляция между оценками пользователей и продажами: 0.42\n"
     ]
    },
    {
     "data": {
      "image/png": "[encoded data removed]",
      "text/plain": [
       "<Figure size 720x432 with 1 Axes>"
      ]
     },
     "metadata": {
      "needs_background": "light"
     },
     "output_type": "display_data"
    },
    {
     "name": "stdout",
     "output_type": "stream",
     "text": [
      "Корреляция между оценками критиков и оценкой пользователей: 0.72\n"
     ]
    }
   ],
   "source": [
    "WiiU_critic = filtered_data[(filtered_data['platform'] == 'WiiU') & (filtered_data['critic_score'] > -1)]\n",
    "WiiU_user = filtered_data[(filtered_data['platform'] == 'WiiU') & (filtered_data['user_score'] > -1)]\n",
    "WiiU_overall = filtered_data[(filtered_data['platform'] == 'WiiU') & (filtered_data['user_score'] > -1) & (filtered_data['critic_score'] > -1)]\n",
    "\n",
    "plt.figure(figsize=(10, 6))\n",
    "plt.scatter(WiiU_critic['critic_score'], WiiU_critic['total_sales'], alpha=0.7)\n",
    "plt.title('Зависимость оценок критиков от продаж (WiiU)')\n",
    "plt.xlabel('Оценки критиков')\n",
    "plt.ylabel('Продажи')\n",
    "plt.grid(True)\n",
    "\n",
    "plt.show()\n",
    "\n",
    "# Рассчитаем корреляцию\n",
    "correlation = WiiU_critic['critic_score'].corr(WiiU_critic['total_sales'])\n",
    "print(f'Корреляция между оценками критиков и продажами: {correlation:.2f}')\n",
    "\n",
    "plt.figure(figsize=(10, 6))\n",
    "plt.scatter(WiiU_user['user_score'], WiiU_user['total_sales'], alpha=0.7)\n",
    "plt.title('Зависимость оценок пользователей от продаж (WiiU)')\n",
    "plt.xlabel('Оценки пользователей')\n",
    "plt.ylabel('Продажи')\n",
    "plt.grid(True)\n",
    "\n",
    "plt.show()\n",
    "\n",
    "# Рассчитаем корреляцию\n",
    "correlation = WiiU_user['user_score'].corr(WiiU_user['total_sales'])\n",
    "print(f'Корреляция между оценками пользователей и продажами: {correlation:.2f}')\n",
    "\n",
    "plt.figure(figsize=(10, 6))\n",
    "plt.scatter(WiiU_overall['critic_score'], WiiU_overall['user_score'], alpha=0.7)\n",
    "plt.title('Зависимость оценок критиков от оценок пользователей(WiiU)')\n",
    "plt.xlabel('Оценки критиков')\n",
    "plt.ylabel('Оценки пользователей')\n",
    "plt.grid(True)\n",
    "\n",
    "plt.show()\n",
    "\n",
    "# Рассчитаем корреляцию\n",
    "correlation = WiiU_overall['critic_score'].corr(WiiU_overall['user_score'])\n",
    "print(f'Корреляция между оценками критиков и оценкой пользователей: {correlation:.2f}')"
   ]
  },
  {
   "cell_type": "markdown",
   "metadata": {},
   "source": [
    "Корреляция для XOne практически идентична с PS4. Для платформ данного типа можно сделать вывод что влияние оценок критиков на продажи выосоко, а оценки пользователей практически не влияют на продажи. Для платформ от Nintendo ситуация другая, оценки критиков и пользователей практически в равной значимости влияют на продажи, однако корелляция несуществена."
   ]
  },
  {
   "cell_type": "markdown",
   "metadata": {},
   "source": [
    "**Посмотрите на общее распределение игр по жанрам. Что можно сказать о самых прибыльных жанрах? Выделяются ли жанры с высокими и низкими продажами?**"
   ]
  },
  {
   "cell_type": "markdown",
   "metadata": {},
   "source": [
    "Рассмотрим данные за все годы и за актуальные для анализа годы. Проанализируем изменились ли тренды."
   ]
  },
  {
   "cell_type": "code",
   "execution_count": 41,
   "metadata": {},
   "outputs": [
    {
     "data": {
      "text/plain": [
       "<function matplotlib.pyplot.show(close=None, block=None)>"
      ]
     },
     "execution_count": 41,
     "metadata": {},
     "output_type": "execute_result"
    },
    {
     "data": {
      "image/png": "[encoded data removed]",
      "text/plain": [
       "<Figure size 720x432 with 1 Axes>"
      ]
     },
     "metadata": {
      "needs_background": "light"
     },
     "output_type": "display_data"
    }
   ],
   "source": [
    "genre_sales = filtered_data.groupby('genre')['total_sales'].median()\n",
    "genre_sales = genre_sales.sort_values()\n",
    "\n",
    "#Построим столбчатую диаграмму:\n",
    "\n",
    "plt.figure(figsize=(10, 6))\n",
    "genre_sales.plot(kind='bar')\n",
    "plt.title('Продажи по жанрам')\n",
    "plt.xlabel('Жанр')\n",
    "plt.ylabel('Продажи')\n",
    "\n",
    "plt.show"
   ]
  },
  {
   "cell_type": "markdown",
   "metadata": {},
   "source": [
    "Наиболее популярными жанрами являются: Shooter, Sports, Platform. На эти 3 жанра приходится 80% продаж игр. Самые низкие продажи по: Strategy, Adventure, Puzzle."
   ]
  },
  {
   "cell_type": "markdown",
   "metadata": {},
   "source": [
    "**Вывод:** В исследовательской части проекта были проанализированы следующие темы и сделаны выводы:\n",
    "\n",
    "- Проанализирован выпуск игр по годам. Оценка исторических данных особо важна для отслеживания трендов. На данный момент наблюдается стагнация и выпускается примерно одинаковое количество игр на протяжении 4 лет. Для анализа на 2017 год эта информация наиболее важна\n",
    "- Самые популярны платформы за весь рассматриваемый период:\n",
    "    - PS2;\n",
    "    - XBOX360;\n",
    "    - PS3.\n",
    "- Самые популярные платформы на данный момент:\n",
    "    - PS4;\n",
    "    - PS3;\n",
    "    - XOne.\n",
    "\n",
    "- Жизненный цикл платформы в среднем **от 7 до 10 лет.**\n",
    "- Лидируют по прадажам следующие платформы:\n",
    "    - XOne;\n",
    "    - PS4;\n",
    "    - WiiU.    \n",
    "- Прослеживается общий тренд на снижение продаж.\n",
    "- Наибольший вес на продажи составляют оценки критиков. **41% по PS4**. А также оценки критиков влияют и на оценки пользователей.\n",
    "- Наиболее популярные жанрами являются:\n",
    "    - Shooter;\n",
    "    - Sports;\n",
    "    - Platform.\n",
    "- Наименее популярными жанрами являются:\n",
    "    - Strategy;\n",
    "    - Adventure;\n",
    "    - Puzzle."
   ]
  },
  {
   "cell_type": "markdown",
   "metadata": {},
   "source": [
    "**Шаг 4. Составьте портрет пользователя каждого региона**"
   ]
  },
  {
   "cell_type": "markdown",
   "metadata": {},
   "source": [
    "Определите для пользователя каждого региона (NA, EU, JP):\n",
    "\n",
    "- Самые популярные платформы (топ-5). Опишите различия в долях продаж.\n",
    "- Самые популярные жанры (топ-5). Поясните разницу.\n",
    "- Влияет ли рейтинг ESRB на продажи в отдельном регионе?"
   ]
  },
  {
   "cell_type": "markdown",
   "metadata": {},
   "source": [
    "**Самые популярные платформы (топ-5). Опишите различия в долях продаж для каждого региона.**"
   ]
  },
  {
   "cell_type": "code",
   "execution_count": 42,
   "metadata": {},
   "outputs": [
    {
     "data": {
      "image/png": "[encoded data removed]",
      "text/plain": [
       "<Figure size 720x432 with 1 Axes>"
      ]
     },
     "metadata": {
      "needs_background": "light"
     },
     "output_type": "display_data"
    },
    {
     "data": {
      "image/png": "[encoded data removed]",
      "text/plain": [
       "<Figure size 720x432 with 1 Axes>"
      ]
     },
     "metadata": {
      "needs_background": "light"
     },
     "output_type": "display_data"
    },
    {
     "data": {
      "image/png": "[encoded data removed]",
      "text/plain": [
       "<Figure size 720x432 with 1 Axes>"
      ]
     },
     "metadata": {
      "needs_background": "light"
     },
     "output_type": "display_data"
    }
   ],
   "source": [
    "regions = ['na_sales', 'eu_sales', 'jp_sales']\n",
    "\n",
    "for region in regions:\n",
    "    region_data_sales = filtered_data.pivot_table(index='platform', values=region, aggfunc='sum').sort_values(by=region, ascending=False).head(5)\n",
    "    region_data_sales.plot(kind='bar', figsize=(10,6))\n",
    "    plt.title(f'Продажи в {region}')\n",
    "    plt.xlabel('Платформа')\n",
    "    plt.ylabel('Продажи')\n",
    "    plt.show()"
   ]
  },
  {
   "cell_type": "markdown",
   "metadata": {},
   "source": [
    "Для Европы и США самой популярной приставкой является PS4. На графиках видно, что пользователи из Европы больше отдают предпочтение приставкам от Sony, тогда как в Северной Америке более популярны приставки от Microsoft. В Японии топ открывает приставка от Nintendo, неудивительно ведь Nintendo это японская компания и Она точно знает, какие предпочтения у своих пользователей."
   ]
  },
  {
   "cell_type": "markdown",
   "metadata": {},
   "source": [
    "**Самые популярные жанры (топ-5) в каждом регионе.**"
   ]
  },
  {
   "cell_type": "code",
   "execution_count": 43,
   "metadata": {},
   "outputs": [
    {
     "data": {
      "image/png": "[encoded data removed]",
      "text/plain": [
       "<Figure size 432x288 with 1 Axes>"
      ]
     },
     "metadata": {},
     "output_type": "display_data"
    },
    {
     "data": {
      "image/png": "[encoded data removed]",
      "text/plain": [
       "<Figure size 432x288 with 1 Axes>"
      ]
     },
     "metadata": {},
     "output_type": "display_data"
    },
    {
     "data": {
      "image/png": "[encoded data removed]",
      "text/plain": [
       "<Figure size 432x288 with 1 Axes>"
      ]
     },
     "metadata": {},
     "output_type": "display_data"
    }
   ],
   "source": [
    "for region_genres in regions:\n",
    "    region_data_genre = filtered_data.pivot_table(index='genre', values=region_genres, aggfunc='sum').sort_values(by=region_genres, ascending=False).head(5)\n",
    "    plt.pie(region_data_genre[region_genres], labels=region_data_genre.index, autopct='%1.1f%%', startangle=140)\n",
    "    plt.title(f'Жанры в {region_genres}')\n",
    "    plt.xlabel('Жанр')\n",
    "    plt.ylabel('Продажи')\n",
    "    plt.show()"
   ]
  },
  {
   "cell_type": "markdown",
   "metadata": {},
   "source": [
    "На графиках видно что интересы пользователей в Европе и Северной Америке совпадают, любимые жанры для данных регионов:\n",
    "\n",
    "   - Action;\n",
    "   - Shooter;\n",
    "   - Sports.\n",
    "\n",
    "Япония же совершенно отличается по интересам, любимые жанры у людей из этой страны следующие:\n",
    "\n",
    "   - Role-Playing;\n",
    "   - Action;\n",
    "   - Misc"
   ]
  },
  {
   "cell_type": "markdown",
   "metadata": {},
   "source": [
    "**Влияет ли рейтинг ESRB на продажи в отдельном регионе.**"
   ]
  },
  {
   "cell_type": "markdown",
   "metadata": {},
   "source": [
    "Для начала разберем что значат буквы из рейтинга ESRB:\n",
    "\n",
    "**E:** Для всех;\n",
    "\n",
    "**K-A**: Для всех (так назывался до E);\n",
    "\n",
    "**EC:** Для детей старше 3 лет;\n",
    "\n",
    "**E10+:** Для детей от 10 лет;\n",
    "\n",
    "**T:** Для лиц от 13 лет;\n",
    "\n",
    "**M:** Для взрослых;\n",
    "\n",
    "**AO:** Только для взрослых;\n",
    "\n",
    "**RP:** Рейтинг ожидается."
   ]
  },
  {
   "cell_type": "code",
   "execution_count": 44,
   "metadata": {},
   "outputs": [
    {
     "data": {
      "image/png": "[encoded data removed]",
      "text/plain": [
       "<Figure size 720x432 with 1 Axes>"
      ]
     },
     "metadata": {
      "needs_background": "light"
     },
     "output_type": "display_data"
    },
    {
     "data": {
      "image/png": "[encoded data removed]",
      "text/plain": [
       "<Figure size 720x432 with 1 Axes>"
      ]
     },
     "metadata": {
      "needs_background": "light"
     },
     "output_type": "display_data"
    },
    {
     "data": {
      "image/png": "[encoded data removed]",
      "text/plain": [
       "<Figure size 720x432 with 1 Axes>"
      ]
     },
     "metadata": {
      "needs_background": "light"
     },
     "output_type": "display_data"
    }
   ],
   "source": [
    "rating_data = filtered_data[filtered_data['rating'] != 'out of rating']\n",
    "for region_rating in regions:\n",
    "    region_data_rating = rating_data.pivot_table(index='rating', values=region_rating, aggfunc='sum').sort_values(by=region_rating, ascending=False).head(5)\n",
    "    region_data_rating.plot(kind='bar', figsize=(10,6))\n",
    "    plt.title(f'Продажи в {region_rating}')\n",
    "    plt.xlabel('Платформа')\n",
    "    plt.ylabel('Продажи')\n",
    "    plt.show()"
   ]
  },
  {
   "cell_type": "markdown",
   "metadata": {},
   "source": [
    "Картина для Европы и Северной Америки идентична:\n",
    "    \n",
    "**M:** Для взрослых;\n",
    "**E:** Для всех;\n",
    "**E10+:** Для детей от 10 лет;\n",
    "**T:** Для лиц от 13 лет.\n",
    "\n",
    "Япония более самобытна и в этом вопросе, самые популярные жанры:\n",
    "\n",
    "**T:** Для лиц от 13 лет.\n",
    "**E:** Для всех;\n",
    "**M:** Для взрослых;\n",
    "**E10+:** Для детей от 10 лет;\n",
    "\n",
    "Неудивительно, что в Японии именно такие возрастные рейтинги. Так как самая популярная приставка от Nintendo, где возрастная категория игр для более широкого круга пользователей, нежели чем в Playstation и Xbox"
   ]
  },
  {
   "cell_type": "markdown",
   "metadata": {},
   "source": [
    "**Вывод:** Пользовательские предпочтения для людей из Европы и Северной Америки очень похожи,  в отличие от Японии.:\n",
    "        \n",
    "Самая популярная приставка для Европы и Северной Америки: **PS4**\n",
    "\n",
    "Самая популярная приставка для Японии: **Nintendo 3DS**\n",
    "\n",
    "Самые популярные жанры для Европы и Северной Америки: **Action, Shooter, Sports.**\n",
    "\n",
    "Самые популярные жанры для Японии: **Role-Playing, Action,Misc.**\n",
    "\n",
    "Наибольшее популярная категория игр в Европе и Северной Америки: **Для взрослых (M)**\n",
    "\n",
    "Наибольшее популярная категория игр в Японии: **Для подростков**"
   ]
  },
  {
   "cell_type": "markdown",
   "metadata": {},
   "source": [
    "**Шаг 5. Проверьте гипотезы.**\n",
    "\n",
    "- Средние пользовательские рейтинги платформ Xbox One и PC одинаковые;\n",
    "- Средние пользовательские рейтинги жанров Action (англ. «действие», экшен-игры) и Sports (англ. «спортивные соревнования») разные."
   ]
  },
  {
   "cell_type": "markdown",
   "metadata": {},
   "source": [
    "**Средние пользовательские рейтинги платформ Xbox One и PC одинаковые.**"
   ]
  },
  {
   "cell_type": "markdown",
   "metadata": {},
   "source": [
    "**Нулевая гипотеза (H0):** Средние пользовательские рейтинги платформ Xbox One и PC одинаковые.\n",
    "\n",
    "**Альтернативная гипотеза (H1):** Средние пользовательские рейтинги платформ Xbox One и PC неодинаковые."
   ]
  },
  {
   "cell_type": "markdown",
   "metadata": {},
   "source": [
    "Установим уровень статистической значимости **5%**"
   ]
  },
  {
   "cell_type": "code",
   "execution_count": 45,
   "metadata": {},
   "outputs": [
    {
     "name": "stdout",
     "output_type": "stream",
     "text": [
      "0.14759594013430463\n",
      "Не удалось отвергнуть нулевую гипотезу\n"
     ]
    }
   ],
   "source": [
    "actual_data = filtered_data[(filtered_data['user_score'] > -1)]\n",
    "\n",
    "xone_data = actual_data[actual_data['platform'] == 'XOne']['user_score']\n",
    "pc_data = actual_data[actual_data['platform'] == 'PC']['user_score']\n",
    "\n",
    "alpha = 0.05\n",
    "\n",
    "results = st.ttest_ind(xone_data, pc_data, equal_var=False)\n",
    "\n",
    "print(results.pvalue)\n",
    "\n",
    "if results.pvalue < alpha:\n",
    "    print('Отвергаем нулевую гипотезу')\n",
    "else:\n",
    "    print('Не удалось отвергнуть нулевую гипотезу')"
   ]
  },
  {
   "cell_type": "markdown",
   "metadata": {},
   "source": [
    "Мы не можем отвергнуть нулевую гипотезу так как, c большой долей вероятности средние пользовательские рейтинги платформ XOne и PC не имеют статистически значимых отличий."
   ]
  },
  {
   "cell_type": "markdown",
   "metadata": {},
   "source": [
    "**Средние пользовательские рейтинги жанров Action (англ. «действие», экшен-игры) и Sports (англ. «спортивные соревнования») разные.**"
   ]
  },
  {
   "cell_type": "markdown",
   "metadata": {},
   "source": [
    "**Нулевая гипотеза (H0):** Средние пользовательские рейтинги  рейтинги жанров Action и Sports одинаковые.\n",
    "\n",
    "**Альтернативная гипотеза (H1):** Средние пользовательские рейтинги платформ Xbox One и PC разные."
   ]
  },
  {
   "cell_type": "markdown",
   "metadata": {},
   "source": [
    "Установим уровень статистической значимости **5%**"
   ]
  },
  {
   "cell_type": "code",
   "execution_count": 46,
   "metadata": {},
   "outputs": [
    {
     "name": "stdout",
     "output_type": "stream",
     "text": [
      "1.4460039700704315e-20\n",
      "Отвергаем нулевую гипотезу\n"
     ]
    }
   ],
   "source": [
    "action_data = actual_data[actual_data['genre'] == 'Action']['user_score']\n",
    "sports_data = actual_data[actual_data['genre'] == 'Sports']['user_score']\n",
    "\n",
    "alpha = 0.05\n",
    "\n",
    "results_1 = st.ttest_ind(action_data, sports_data, equal_var=False)\n",
    "\n",
    "print(results_1.pvalue)\n",
    "\n",
    "if results_1.pvalue < alpha:\n",
    "    print('Отвергаем нулевую гипотезу')\n",
    "else:\n",
    "    print('Не удалось отвергнуть нулевую гипотезу')"
   ]
  },
  {
   "cell_type": "markdown",
   "metadata": {},
   "source": [
    "Мы отвергаем нулевую гипотезу так как с вероятно средние пользовательские рейтинги  рейтинги жанров Action и Sports действительно разные."
   ]
  },
  {
   "cell_type": "markdown",
   "metadata": {},
   "source": [
    "**Шаг 6. Вывод.**"
   ]
  },
  {
   "cell_type": "markdown",
   "metadata": {},
   "source": [
    "В результате работы были исследованы исторические данные о продажах игр, оценки пользователей и экспертов, жанры и платформы. Цель работы была выявит определяющие успешность игры закономерности. В целях определения популярных продуктов и спланировать рекламные кампании. Рассматривался актуальный период с 2013-2016 год. По ходу работы были сделаны следующие выводы:\n",
    "\n",
    "1. Произведена загрузка данных. Загружены необходимые библиотеки.\n",
    "2. Осуществлена предобработка данных. Обработаны пропущенны значения, изменены типы данных где это было необходимо. Потери при предобработки данных незначительные: **1.62%** данных.\n",
    "3. Проведен исследовательский анализ данных:\n",
    "\n",
    "- Самые популярны платформы за весь рассматриваемый период:\n",
    "    - PS2;\n",
    "    - XBOX360;\n",
    "    - PS3.\n",
    "- Самые популярные платформы на данный момент(2013-2016):\n",
    "    - PS4;\n",
    "    - PS3;\n",
    "    - XOne.\n",
    "\n",
    "- Жизненный цикл платформы в среднем **от 7 до 10 лет.**\n",
    "- Лидируют по прадажам следующие платформы:\n",
    "    - XOne;\n",
    "    - PS4;\n",
    "    - WiiU.\n",
    "    \n",
    "- Прослеживается общий тренд на снижение продаж.\n",
    "- Наибольший вес на продажи составляют оценки критиков. **41% по PS4**. А также оценки критиков влияют и на оценки пользователей.\n",
    "- Наиболее популярные жанрами являются:\n",
    "    - Shooter;\n",
    "    - Sports;\n",
    "    - Platform.\n",
    "- Наименее популярными жанрами являются:\n",
    "    - Strategy;\n",
    "    - Adventure;\n",
    "    - Puzzle.\n",
    "4. Пользовательские предпочтения для людей из Европы и Северной Америки очень похожи,  в отличие от Японии.:\n",
    "        \n",
    "- Самая популярная приставка для Европы и Северной Америки: **PS4**\n",
    "\n",
    "- Самая популярная приставка для Японии: **Nintendo 3DS**\n",
    "\n",
    "- Самые популярные жанры для Европы и Северной Америки: **Action, Shooter, Sports.**\n",
    "\n",
    "- Самые популярные жанры для Японии: **Role-Playing, Action,Misc.**\n",
    "\n",
    "- Наибольшее популярная категория игр в Европе и Северной Америки: **Для взрослых (M)**\n",
    "\n",
    "- Наибольшее популярная категория игр в Японии: **Для подростков**\n",
    "\n",
    "5. Проведена проверка гипотез.\n",
    "\n",
    "**Итог:** В данной работе приведены данные, необходимые для прогнозирования будущих рекламных компаний. В целях развития магазину \"Стримчик\" необходимо для себя выбрать стратегию развития, ориентируется ли он на западный рынок(рынок Европы и Северной Америки) или на Японию. Так как эти рынки очень отличаются. Также данная работа поможет определить какие платформы на данный момент актуальны."
   ]
  },
  {
   "cell_type": "code",
   "execution_count": null,
   "metadata": {},
   "outputs": [],
   "source": []
  }
 ],
 "metadata": {
  "ExecuteTimeLog": [
   {
    "duration": 50,
    "start_time": "2023-11-03T12:44:31.461Z"
   },
   {
    "duration": 1463,
    "start_time": "2023-11-03T12:44:38.286Z"
   },
   {
    "duration": 122,
    "start_time": "2023-11-03T12:44:39.751Z"
   },
   {
    "duration": 63,
    "start_time": "2023-11-03T12:45:09.809Z"
   },
   {
    "duration": 88,
    "start_time": "2023-11-03T12:45:22.509Z"
   },
   {
    "duration": 15,
    "start_time": "2023-11-03T12:45:37.352Z"
   },
   {
    "duration": 898,
    "start_time": "2023-11-03T12:46:54.188Z"
   },
   {
    "duration": 85,
    "start_time": "2023-11-03T12:58:23.907Z"
   },
   {
    "duration": 21,
    "start_time": "2023-11-03T12:58:26.610Z"
   },
   {
    "duration": 10,
    "start_time": "2023-11-03T12:59:16.325Z"
   },
   {
    "duration": 107,
    "start_time": "2023-11-03T12:59:31.797Z"
   },
   {
    "duration": 61,
    "start_time": "2023-11-03T12:59:36.498Z"
   },
   {
    "duration": 3,
    "start_time": "2023-11-03T13:11:16.668Z"
   },
   {
    "duration": 4,
    "start_time": "2023-11-03T13:11:19.750Z"
   },
   {
    "duration": 5,
    "start_time": "2023-11-03T13:11:21.527Z"
   },
   {
    "duration": 5,
    "start_time": "2023-11-03T13:11:29.908Z"
   },
   {
    "duration": 5,
    "start_time": "2023-11-03T13:11:54.508Z"
   },
   {
    "duration": 14,
    "start_time": "2023-11-03T13:11:59.298Z"
   },
   {
    "duration": 1260,
    "start_time": "2023-11-03T13:12:08.162Z"
   },
   {
    "duration": 77,
    "start_time": "2023-11-03T13:12:09.424Z"
   },
   {
    "duration": 212,
    "start_time": "2023-11-03T13:12:09.502Z"
   },
   {
    "duration": 206,
    "start_time": "2023-11-03T13:12:09.716Z"
   },
   {
    "duration": 79,
    "start_time": "2023-11-03T13:12:09.924Z"
   },
   {
    "duration": 20,
    "start_time": "2023-11-03T13:12:10.004Z"
   },
   {
    "duration": 150,
    "start_time": "2023-11-03T13:12:10.026Z"
   },
   {
    "duration": 12,
    "start_time": "2023-11-03T13:12:29.508Z"
   },
   {
    "duration": 9,
    "start_time": "2023-11-03T13:12:31.441Z"
   },
   {
    "duration": 13,
    "start_time": "2023-11-03T13:13:24.525Z"
   },
   {
    "duration": 9,
    "start_time": "2023-11-03T13:13:29.627Z"
   },
   {
    "duration": 1223,
    "start_time": "2023-11-03T13:13:35.109Z"
   },
   {
    "duration": 78,
    "start_time": "2023-11-03T13:13:36.334Z"
   },
   {
    "duration": 16,
    "start_time": "2023-11-03T13:13:36.413Z"
   },
   {
    "duration": 141,
    "start_time": "2023-11-03T13:13:36.431Z"
   },
   {
    "duration": 119,
    "start_time": "2023-11-03T13:13:36.574Z"
   },
   {
    "duration": 15,
    "start_time": "2023-11-03T13:13:36.694Z"
   },
   {
    "duration": 3,
    "start_time": "2023-11-03T13:17:22.677Z"
   },
   {
    "duration": 22,
    "start_time": "2023-11-03T13:17:25.912Z"
   },
   {
    "duration": 1317,
    "start_time": "2023-11-03T13:40:56.274Z"
   },
   {
    "duration": 84,
    "start_time": "2023-11-03T13:40:57.594Z"
   },
   {
    "duration": 15,
    "start_time": "2023-11-03T13:40:57.680Z"
   },
   {
    "duration": 31,
    "start_time": "2023-11-03T13:40:57.697Z"
   },
   {
    "duration": 59,
    "start_time": "2023-11-03T13:40:57.730Z"
   },
   {
    "duration": 9,
    "start_time": "2023-11-03T13:40:57.801Z"
   },
   {
    "duration": 120,
    "start_time": "2023-11-03T13:40:57.812Z"
   },
   {
    "duration": 0,
    "start_time": "2023-11-03T13:40:57.933Z"
   },
   {
    "duration": 21,
    "start_time": "2023-11-03T13:41:06.960Z"
   },
   {
    "duration": 159,
    "start_time": "2023-11-03T13:42:03.421Z"
   },
   {
    "duration": 11,
    "start_time": "2023-11-03T13:42:07.439Z"
   },
   {
    "duration": 6,
    "start_time": "2023-11-03T13:42:18.986Z"
   },
   {
    "duration": 12,
    "start_time": "2023-11-03T13:43:02.120Z"
   },
   {
    "duration": 10,
    "start_time": "2023-11-03T13:43:12.021Z"
   },
   {
    "duration": 13,
    "start_time": "2023-11-03T13:43:23.101Z"
   },
   {
    "duration": 8,
    "start_time": "2023-11-03T13:43:38.941Z"
   },
   {
    "duration": 9,
    "start_time": "2023-11-03T13:44:23.414Z"
   },
   {
    "duration": 8,
    "start_time": "2023-11-03T13:44:31.370Z"
   },
   {
    "duration": 6,
    "start_time": "2023-11-03T13:44:40.881Z"
   },
   {
    "duration": 8,
    "start_time": "2023-11-03T13:45:20.510Z"
   },
   {
    "duration": 6,
    "start_time": "2023-11-03T13:45:37.593Z"
   },
   {
    "duration": 7,
    "start_time": "2023-11-03T13:45:42.970Z"
   },
   {
    "duration": 6,
    "start_time": "2023-11-03T13:46:09.522Z"
   },
   {
    "duration": 1264,
    "start_time": "2023-11-03T14:44:13.434Z"
   },
   {
    "duration": 92,
    "start_time": "2023-11-03T14:44:14.703Z"
   },
   {
    "duration": 19,
    "start_time": "2023-11-03T14:44:14.796Z"
   },
   {
    "duration": 23,
    "start_time": "2023-11-03T14:44:14.817Z"
   },
   {
    "duration": 77,
    "start_time": "2023-11-03T14:44:14.842Z"
   },
   {
    "duration": 4,
    "start_time": "2023-11-03T14:44:14.921Z"
   },
   {
    "duration": 33,
    "start_time": "2023-11-03T14:44:14.927Z"
   },
   {
    "duration": 10,
    "start_time": "2023-11-03T14:44:14.962Z"
   },
   {
    "duration": 10,
    "start_time": "2023-11-03T14:44:14.975Z"
   },
   {
    "duration": 16,
    "start_time": "2023-11-03T14:44:14.988Z"
   },
   {
    "duration": 90,
    "start_time": "2023-11-03T14:44:15.006Z"
   },
   {
    "duration": 0,
    "start_time": "2023-11-03T14:44:15.097Z"
   },
   {
    "duration": 4,
    "start_time": "2023-11-03T14:44:26.026Z"
   },
   {
    "duration": 1240,
    "start_time": "2023-11-03T14:45:19.690Z"
   },
   {
    "duration": 77,
    "start_time": "2023-11-03T14:45:20.932Z"
   },
   {
    "duration": 15,
    "start_time": "2023-11-03T14:45:21.011Z"
   },
   {
    "duration": 66,
    "start_time": "2023-11-03T14:45:21.028Z"
   },
   {
    "duration": 226,
    "start_time": "2023-11-03T14:45:21.096Z"
   },
   {
    "duration": 54,
    "start_time": "2023-11-03T14:45:21.324Z"
   },
   {
    "duration": 60,
    "start_time": "2023-11-03T14:45:21.380Z"
   },
   {
    "duration": 47,
    "start_time": "2023-11-03T14:45:21.441Z"
   },
   {
    "duration": 22,
    "start_time": "2023-11-03T14:45:21.490Z"
   },
   {
    "duration": 21,
    "start_time": "2023-11-03T14:45:21.515Z"
   },
   {
    "duration": 18,
    "start_time": "2023-11-03T14:45:21.538Z"
   },
   {
    "duration": 6,
    "start_time": "2023-11-03T14:49:16.944Z"
   },
   {
    "duration": 7,
    "start_time": "2023-11-03T14:49:49.365Z"
   },
   {
    "duration": 6,
    "start_time": "2023-11-03T14:50:15.190Z"
   },
   {
    "duration": 5,
    "start_time": "2023-11-03T14:50:18.596Z"
   },
   {
    "duration": 4,
    "start_time": "2023-11-03T14:50:26.737Z"
   },
   {
    "duration": 103,
    "start_time": "2023-11-03T14:52:00.586Z"
   },
   {
    "duration": 5,
    "start_time": "2023-11-03T14:53:34.885Z"
   },
   {
    "duration": 1244,
    "start_time": "2023-11-03T14:54:39.177Z"
   },
   {
    "duration": 79,
    "start_time": "2023-11-03T14:54:40.423Z"
   },
   {
    "duration": 16,
    "start_time": "2023-11-03T14:54:40.503Z"
   },
   {
    "duration": 43,
    "start_time": "2023-11-03T14:54:40.521Z"
   },
   {
    "duration": 6,
    "start_time": "2023-11-03T14:54:40.566Z"
   },
   {
    "duration": 68,
    "start_time": "2023-11-03T14:54:40.573Z"
   },
   {
    "duration": 4,
    "start_time": "2023-11-03T14:54:40.643Z"
   },
   {
    "duration": 9,
    "start_time": "2023-11-03T14:54:40.649Z"
   },
   {
    "duration": 11,
    "start_time": "2023-11-03T14:54:40.659Z"
   },
   {
    "duration": 6,
    "start_time": "2023-11-03T14:54:40.672Z"
   },
   {
    "duration": 25,
    "start_time": "2023-11-03T14:54:40.680Z"
   },
   {
    "duration": 10,
    "start_time": "2023-11-03T14:54:40.706Z"
   },
   {
    "duration": 14,
    "start_time": "2023-11-03T14:54:40.718Z"
   },
   {
    "duration": 7,
    "start_time": "2023-11-03T14:54:40.734Z"
   },
   {
    "duration": 5,
    "start_time": "2023-11-03T14:55:08.432Z"
   },
   {
    "duration": 5,
    "start_time": "2023-11-03T14:55:10.050Z"
   },
   {
    "duration": 6,
    "start_time": "2023-11-03T14:55:11.202Z"
   },
   {
    "duration": 1185,
    "start_time": "2023-11-03T14:55:16.643Z"
   },
   {
    "duration": 79,
    "start_time": "2023-11-03T14:55:17.831Z"
   },
   {
    "duration": 16,
    "start_time": "2023-11-03T14:55:17.912Z"
   },
   {
    "duration": 26,
    "start_time": "2023-11-03T14:55:17.930Z"
   },
   {
    "duration": 9,
    "start_time": "2023-11-03T14:55:17.958Z"
   },
   {
    "duration": 70,
    "start_time": "2023-11-03T14:55:17.969Z"
   },
   {
    "duration": 6,
    "start_time": "2023-11-03T14:55:18.040Z"
   },
   {
    "duration": 18,
    "start_time": "2023-11-03T14:55:18.047Z"
   },
   {
    "duration": 20,
    "start_time": "2023-11-03T14:55:18.067Z"
   },
   {
    "duration": 8,
    "start_time": "2023-11-03T14:55:18.089Z"
   },
   {
    "duration": 12,
    "start_time": "2023-11-03T14:55:18.098Z"
   },
   {
    "duration": 24,
    "start_time": "2023-11-03T14:55:18.112Z"
   },
   {
    "duration": 16,
    "start_time": "2023-11-03T14:55:18.137Z"
   },
   {
    "duration": 16,
    "start_time": "2023-11-03T14:55:18.156Z"
   },
   {
    "duration": 23,
    "start_time": "2023-11-03T14:55:36.682Z"
   },
   {
    "duration": 1521,
    "start_time": "2023-11-05T15:27:32.592Z"
   },
   {
    "duration": 159,
    "start_time": "2023-11-05T15:27:34.116Z"
   },
   {
    "duration": 17,
    "start_time": "2023-11-05T15:27:34.278Z"
   },
   {
    "duration": 34,
    "start_time": "2023-11-05T15:27:34.298Z"
   },
   {
    "duration": 11,
    "start_time": "2023-11-05T15:27:34.343Z"
   },
   {
    "duration": 91,
    "start_time": "2023-11-05T15:27:34.359Z"
   },
   {
    "duration": 8,
    "start_time": "2023-11-05T15:27:34.452Z"
   },
   {
    "duration": 9,
    "start_time": "2023-11-05T15:27:34.462Z"
   },
   {
    "duration": 15,
    "start_time": "2023-11-05T15:27:34.474Z"
   },
   {
    "duration": 12,
    "start_time": "2023-11-05T15:27:34.492Z"
   },
   {
    "duration": 21,
    "start_time": "2023-11-05T15:27:34.506Z"
   },
   {
    "duration": 22,
    "start_time": "2023-11-05T15:27:34.529Z"
   },
   {
    "duration": 14,
    "start_time": "2023-11-05T15:27:34.553Z"
   },
   {
    "duration": 13,
    "start_time": "2023-11-05T15:27:34.571Z"
   },
   {
    "duration": 55,
    "start_time": "2023-11-05T15:37:13.826Z"
   },
   {
    "duration": 1200,
    "start_time": "2023-11-05T15:37:20.000Z"
   },
   {
    "duration": 103,
    "start_time": "2023-11-05T15:37:21.202Z"
   },
   {
    "duration": 16,
    "start_time": "2023-11-05T15:37:21.307Z"
   },
   {
    "duration": 39,
    "start_time": "2023-11-05T15:37:21.325Z"
   },
   {
    "duration": 13,
    "start_time": "2023-11-05T15:37:21.367Z"
   },
   {
    "duration": 72,
    "start_time": "2023-11-05T15:37:21.382Z"
   },
   {
    "duration": 8,
    "start_time": "2023-11-05T15:37:21.456Z"
   },
   {
    "duration": 31,
    "start_time": "2023-11-05T15:37:21.466Z"
   },
   {
    "duration": 5,
    "start_time": "2023-11-05T15:37:23.884Z"
   },
   {
    "duration": 1094,
    "start_time": "2023-11-05T15:37:25.314Z"
   },
   {
    "duration": 8,
    "start_time": "2023-11-05T15:38:38.185Z"
   },
   {
    "duration": 4,
    "start_time": "2023-11-05T15:38:47.305Z"
   },
   {
    "duration": 105,
    "start_time": "2023-11-05T15:38:47.310Z"
   },
   {
    "duration": 14,
    "start_time": "2023-11-05T15:38:47.417Z"
   },
   {
    "duration": 30,
    "start_time": "2023-11-05T15:38:47.432Z"
   },
   {
    "duration": 8,
    "start_time": "2023-11-05T15:38:47.465Z"
   },
   {
    "duration": 16,
    "start_time": "2023-11-05T15:38:47.474Z"
   },
   {
    "duration": 6,
    "start_time": "2023-11-05T15:38:47.492Z"
   },
   {
    "duration": 6,
    "start_time": "2023-11-05T15:38:47.499Z"
   },
   {
    "duration": 21,
    "start_time": "2023-11-05T15:38:47.507Z"
   },
   {
    "duration": 18,
    "start_time": "2023-11-05T15:38:47.530Z"
   },
   {
    "duration": 15,
    "start_time": "2023-11-05T15:38:47.550Z"
   },
   {
    "duration": 7,
    "start_time": "2023-11-05T15:38:47.567Z"
   },
   {
    "duration": 5,
    "start_time": "2023-11-05T15:38:47.576Z"
   },
   {
    "duration": 5,
    "start_time": "2023-11-05T15:38:47.583Z"
   },
   {
    "duration": 8,
    "start_time": "2023-11-05T15:39:18.124Z"
   },
   {
    "duration": 6,
    "start_time": "2023-11-05T15:39:20.305Z"
   },
   {
    "duration": 11,
    "start_time": "2023-11-05T15:40:04.387Z"
   },
   {
    "duration": 6,
    "start_time": "2023-11-05T15:40:15.226Z"
   },
   {
    "duration": 10,
    "start_time": "2023-11-05T15:46:27.050Z"
   },
   {
    "duration": 35,
    "start_time": "2023-11-05T15:46:47.237Z"
   },
   {
    "duration": 1299,
    "start_time": "2023-11-05T15:47:05.067Z"
   },
   {
    "duration": 78,
    "start_time": "2023-11-05T15:47:06.369Z"
   },
   {
    "duration": 23,
    "start_time": "2023-11-05T15:47:06.450Z"
   },
   {
    "duration": 44,
    "start_time": "2023-11-05T15:47:06.477Z"
   },
   {
    "duration": 29,
    "start_time": "2023-11-05T15:47:06.524Z"
   },
   {
    "duration": 118,
    "start_time": "2023-11-05T15:47:06.555Z"
   },
   {
    "duration": 8,
    "start_time": "2023-11-05T15:47:06.676Z"
   },
   {
    "duration": 36,
    "start_time": "2023-11-05T15:47:06.686Z"
   },
   {
    "duration": 9,
    "start_time": "2023-11-05T15:47:06.725Z"
   },
   {
    "duration": 20,
    "start_time": "2023-11-05T15:47:06.737Z"
   },
   {
    "duration": 34,
    "start_time": "2023-11-05T15:47:06.759Z"
   },
   {
    "duration": 30,
    "start_time": "2023-11-05T15:47:06.795Z"
   },
   {
    "duration": 114,
    "start_time": "2023-11-05T15:47:06.827Z"
   },
   {
    "duration": 0,
    "start_time": "2023-11-05T15:47:06.943Z"
   },
   {
    "duration": 0,
    "start_time": "2023-11-05T15:47:06.943Z"
   },
   {
    "duration": 0,
    "start_time": "2023-11-05T15:47:06.944Z"
   },
   {
    "duration": 5,
    "start_time": "2023-11-05T15:47:31.169Z"
   },
   {
    "duration": 4,
    "start_time": "2023-11-05T15:47:45.098Z"
   },
   {
    "duration": 5,
    "start_time": "2023-11-05T15:48:11.289Z"
   },
   {
    "duration": 8,
    "start_time": "2023-11-05T15:48:12.689Z"
   },
   {
    "duration": 20,
    "start_time": "2023-11-05T17:10:10.929Z"
   },
   {
    "duration": 4,
    "start_time": "2023-11-05T17:57:59.600Z"
   },
   {
    "duration": 6,
    "start_time": "2023-11-05T18:05:03.432Z"
   },
   {
    "duration": 14,
    "start_time": "2023-11-05T18:05:26.163Z"
   },
   {
    "duration": 7,
    "start_time": "2023-11-05T18:05:35.371Z"
   },
   {
    "duration": 5,
    "start_time": "2023-11-05T18:11:46.825Z"
   },
   {
    "duration": 32,
    "start_time": "2023-11-05T18:11:52.012Z"
   },
   {
    "duration": 8,
    "start_time": "2023-11-05T18:12:01.682Z"
   },
   {
    "duration": 5,
    "start_time": "2023-11-05T18:13:10.591Z"
   },
   {
    "duration": 5,
    "start_time": "2023-11-05T18:14:35.221Z"
   },
   {
    "duration": 4,
    "start_time": "2023-11-05T18:17:47.092Z"
   },
   {
    "duration": 6,
    "start_time": "2023-11-05T18:17:56.002Z"
   },
   {
    "duration": 6,
    "start_time": "2023-11-05T18:22:55.887Z"
   },
   {
    "duration": 6,
    "start_time": "2023-11-05T18:24:12.568Z"
   },
   {
    "duration": 7,
    "start_time": "2023-11-05T18:24:22.682Z"
   },
   {
    "duration": 5,
    "start_time": "2023-11-05T18:26:10.958Z"
   },
   {
    "duration": 15,
    "start_time": "2023-11-05T18:26:35.064Z"
   },
   {
    "duration": 10,
    "start_time": "2023-11-05T18:26:43.140Z"
   },
   {
    "duration": 6,
    "start_time": "2023-11-05T18:34:49.126Z"
   },
   {
    "duration": 18,
    "start_time": "2023-11-05T18:35:05.720Z"
   },
   {
    "duration": 23,
    "start_time": "2023-11-05T18:36:48.801Z"
   },
   {
    "duration": 28,
    "start_time": "2023-11-05T18:36:54.590Z"
   },
   {
    "duration": 28,
    "start_time": "2023-11-05T18:38:29.482Z"
   },
   {
    "duration": 6,
    "start_time": "2023-11-05T18:39:26.332Z"
   },
   {
    "duration": 18,
    "start_time": "2023-11-05T18:41:08.278Z"
   },
   {
    "duration": 14,
    "start_time": "2023-11-05T18:41:40.429Z"
   },
   {
    "duration": 18,
    "start_time": "2023-11-05T18:42:01.199Z"
   },
   {
    "duration": 35,
    "start_time": "2023-11-05T18:44:00.504Z"
   },
   {
    "duration": 6,
    "start_time": "2023-11-05T18:44:42.742Z"
   },
   {
    "duration": 28,
    "start_time": "2023-11-05T18:45:26.403Z"
   },
   {
    "duration": 20,
    "start_time": "2023-11-05T18:45:33.305Z"
   },
   {
    "duration": 21,
    "start_time": "2023-11-05T18:45:55.247Z"
   },
   {
    "duration": 28,
    "start_time": "2023-11-05T18:48:06.912Z"
   },
   {
    "duration": 6,
    "start_time": "2023-11-05T18:50:35.820Z"
   },
   {
    "duration": 39,
    "start_time": "2023-11-05T18:50:50.968Z"
   },
   {
    "duration": 13,
    "start_time": "2023-11-05T18:56:19.658Z"
   },
   {
    "duration": 14,
    "start_time": "2023-11-05T18:56:38.294Z"
   },
   {
    "duration": 24,
    "start_time": "2023-11-05T18:56:43.791Z"
   },
   {
    "duration": 5,
    "start_time": "2023-11-05T18:56:48.023Z"
   },
   {
    "duration": 6,
    "start_time": "2023-11-05T18:56:50.751Z"
   },
   {
    "duration": 3,
    "start_time": "2023-11-05T18:57:35.342Z"
   },
   {
    "duration": 18,
    "start_time": "2023-11-05T18:58:04.332Z"
   },
   {
    "duration": 6,
    "start_time": "2023-11-05T18:59:00.387Z"
   },
   {
    "duration": 1270,
    "start_time": "2023-11-05T18:59:17.102Z"
   },
   {
    "duration": 77,
    "start_time": "2023-11-05T18:59:18.374Z"
   },
   {
    "duration": 15,
    "start_time": "2023-11-05T18:59:18.453Z"
   },
   {
    "duration": 26,
    "start_time": "2023-11-05T18:59:18.470Z"
   },
   {
    "duration": 5,
    "start_time": "2023-11-05T18:59:18.497Z"
   },
   {
    "duration": 22,
    "start_time": "2023-11-05T18:59:18.504Z"
   },
   {
    "duration": 91,
    "start_time": "2023-11-05T18:59:18.543Z"
   },
   {
    "duration": 14,
    "start_time": "2023-11-05T18:59:18.636Z"
   },
   {
    "duration": 22,
    "start_time": "2023-11-05T18:59:18.652Z"
   },
   {
    "duration": 26,
    "start_time": "2023-11-05T18:59:18.678Z"
   },
   {
    "duration": 6,
    "start_time": "2023-11-05T18:59:18.706Z"
   },
   {
    "duration": 12,
    "start_time": "2023-11-05T18:59:18.714Z"
   },
   {
    "duration": 18,
    "start_time": "2023-11-05T18:59:18.729Z"
   },
   {
    "duration": 5,
    "start_time": "2023-11-05T18:59:18.750Z"
   },
   {
    "duration": 28,
    "start_time": "2023-11-05T18:59:18.758Z"
   },
   {
    "duration": 20,
    "start_time": "2023-11-05T18:59:18.789Z"
   },
   {
    "duration": 25,
    "start_time": "2023-11-05T18:59:18.811Z"
   },
   {
    "duration": 28,
    "start_time": "2023-11-05T18:59:18.838Z"
   },
   {
    "duration": 32,
    "start_time": "2023-11-05T18:59:18.868Z"
   },
   {
    "duration": 23,
    "start_time": "2023-11-05T18:59:18.902Z"
   },
   {
    "duration": 25,
    "start_time": "2023-11-05T18:59:18.927Z"
   },
   {
    "duration": 29,
    "start_time": "2023-11-05T18:59:18.954Z"
   },
   {
    "duration": 8,
    "start_time": "2023-11-05T18:59:18.985Z"
   },
   {
    "duration": 49,
    "start_time": "2023-11-05T18:59:18.995Z"
   },
   {
    "duration": 25,
    "start_time": "2023-11-05T18:59:19.046Z"
   },
   {
    "duration": 42,
    "start_time": "2023-11-05T18:59:19.073Z"
   },
   {
    "duration": 6,
    "start_time": "2023-11-05T18:59:19.117Z"
   },
   {
    "duration": 9,
    "start_time": "2023-11-05T19:07:27.465Z"
   },
   {
    "duration": 6,
    "start_time": "2023-11-05T19:07:38.431Z"
   },
   {
    "duration": 7,
    "start_time": "2023-11-05T19:08:42.092Z"
   },
   {
    "duration": 147,
    "start_time": "2023-11-05T19:15:10.507Z"
   },
   {
    "duration": 362,
    "start_time": "2023-11-05T19:15:21.447Z"
   },
   {
    "duration": 487,
    "start_time": "2023-11-05T19:16:05.393Z"
   },
   {
    "duration": 524,
    "start_time": "2023-11-05T19:16:27.963Z"
   },
   {
    "duration": 43,
    "start_time": "2023-11-05T19:23:42.404Z"
   },
   {
    "duration": 48,
    "start_time": "2023-11-05T19:24:06.366Z"
   },
   {
    "duration": 23,
    "start_time": "2023-11-05T19:24:46.356Z"
   },
   {
    "duration": 27,
    "start_time": "2023-11-05T19:25:21.309Z"
   },
   {
    "duration": 25,
    "start_time": "2023-11-05T19:25:25.635Z"
   },
   {
    "duration": 24,
    "start_time": "2023-11-05T19:32:09.715Z"
   },
   {
    "duration": 27,
    "start_time": "2023-11-05T19:34:36.337Z"
   },
   {
    "duration": 27,
    "start_time": "2023-11-05T19:36:34.679Z"
   },
   {
    "duration": 21,
    "start_time": "2023-11-05T19:37:39.828Z"
   },
   {
    "duration": 25,
    "start_time": "2023-11-05T19:37:48.967Z"
   },
   {
    "duration": 25,
    "start_time": "2023-11-05T19:37:52.212Z"
   },
   {
    "duration": 208,
    "start_time": "2023-11-05T19:38:58.639Z"
   },
   {
    "duration": 28,
    "start_time": "2023-11-05T19:40:05.497Z"
   },
   {
    "duration": 28,
    "start_time": "2023-11-05T19:40:09.569Z"
   },
   {
    "duration": 23,
    "start_time": "2023-11-05T19:40:12.710Z"
   },
   {
    "duration": 25,
    "start_time": "2023-11-05T19:43:33.072Z"
   },
   {
    "duration": 107,
    "start_time": "2023-11-05T19:43:46.391Z"
   },
   {
    "duration": 24,
    "start_time": "2023-11-05T19:43:53.189Z"
   },
   {
    "duration": 78,
    "start_time": "2023-11-05T19:45:14.858Z"
   },
   {
    "duration": 22,
    "start_time": "2023-11-05T19:45:34.756Z"
   },
   {
    "duration": 226,
    "start_time": "2023-11-05T19:48:47.176Z"
   },
   {
    "duration": 317,
    "start_time": "2023-11-05T19:53:46.228Z"
   },
   {
    "duration": 16,
    "start_time": "2023-11-05T19:58:37.310Z"
   },
   {
    "duration": 22,
    "start_time": "2023-11-05T19:58:45.233Z"
   },
   {
    "duration": 1395,
    "start_time": "2023-11-05T20:02:26.526Z"
   },
   {
    "duration": 681,
    "start_time": "2023-11-05T20:04:02.839Z"
   },
   {
    "duration": 13,
    "start_time": "2023-11-05T20:04:53.187Z"
   },
   {
    "duration": 11,
    "start_time": "2023-11-05T20:07:03.630Z"
   },
   {
    "duration": 129,
    "start_time": "2023-11-05T20:07:11.290Z"
   },
   {
    "duration": 137,
    "start_time": "2023-11-05T20:07:39.868Z"
   },
   {
    "duration": 150,
    "start_time": "2023-11-05T20:07:49.252Z"
   },
   {
    "duration": 20,
    "start_time": "2023-11-05T20:08:57.048Z"
   },
   {
    "duration": 29,
    "start_time": "2023-11-05T20:10:47.959Z"
   },
   {
    "duration": 291,
    "start_time": "2023-11-05T20:11:23.007Z"
   },
   {
    "duration": 309,
    "start_time": "2023-11-05T20:14:47.661Z"
   },
   {
    "duration": 271,
    "start_time": "2023-11-05T20:15:26.762Z"
   },
   {
    "duration": 12,
    "start_time": "2023-11-05T20:16:16.456Z"
   },
   {
    "duration": 358,
    "start_time": "2023-11-05T20:17:16.413Z"
   },
   {
    "duration": 9,
    "start_time": "2023-11-05T20:17:22.188Z"
   },
   {
    "duration": 10,
    "start_time": "2023-11-05T20:19:00.289Z"
   },
   {
    "duration": 15,
    "start_time": "2023-11-05T20:19:20.117Z"
   },
   {
    "duration": 25,
    "start_time": "2023-11-05T20:19:46.640Z"
   },
   {
    "duration": 19,
    "start_time": "2023-11-05T20:21:56.855Z"
   },
   {
    "duration": 273,
    "start_time": "2023-11-05T20:22:30.444Z"
   },
   {
    "duration": 19,
    "start_time": "2023-11-05T20:26:08.116Z"
   },
   {
    "duration": 23,
    "start_time": "2023-11-05T20:26:13.707Z"
   },
   {
    "duration": 288,
    "start_time": "2023-11-05T20:26:18.934Z"
   },
   {
    "duration": 129,
    "start_time": "2023-11-05T20:27:41.223Z"
   },
   {
    "duration": 79,
    "start_time": "2023-11-05T20:28:06.192Z"
   },
   {
    "duration": 183,
    "start_time": "2023-11-05T20:28:16.444Z"
   },
   {
    "duration": 152,
    "start_time": "2023-11-05T20:28:37.183Z"
   },
   {
    "duration": 143,
    "start_time": "2023-11-05T20:28:45.453Z"
   },
   {
    "duration": 168,
    "start_time": "2023-11-05T20:28:50.213Z"
   },
   {
    "duration": 26,
    "start_time": "2023-11-05T20:29:37.636Z"
   },
   {
    "duration": 188,
    "start_time": "2023-11-05T20:30:27.738Z"
   },
   {
    "duration": 194,
    "start_time": "2023-11-05T20:30:33.749Z"
   },
   {
    "duration": 207,
    "start_time": "2023-11-05T20:30:54.302Z"
   },
   {
    "duration": 379,
    "start_time": "2023-11-05T20:31:01.723Z"
   },
   {
    "duration": 311,
    "start_time": "2023-11-05T20:31:24.883Z"
   },
   {
    "duration": 323,
    "start_time": "2023-11-05T20:32:20.763Z"
   },
   {
    "duration": 184,
    "start_time": "2023-11-05T20:32:25.615Z"
   },
   {
    "duration": 196,
    "start_time": "2023-11-05T20:32:41.456Z"
   },
   {
    "duration": 198,
    "start_time": "2023-11-05T20:33:04.866Z"
   },
   {
    "duration": 182,
    "start_time": "2023-11-05T20:33:22.843Z"
   },
   {
    "duration": 197,
    "start_time": "2023-11-05T20:33:50.218Z"
   },
   {
    "duration": 191,
    "start_time": "2023-11-05T20:33:54.732Z"
   },
   {
    "duration": 230,
    "start_time": "2023-11-05T20:34:03.673Z"
   },
   {
    "duration": 206,
    "start_time": "2023-11-05T20:34:20.135Z"
   },
   {
    "duration": 290,
    "start_time": "2023-11-05T20:34:30.732Z"
   },
   {
    "duration": 273,
    "start_time": "2023-11-05T20:36:07.524Z"
   },
   {
    "duration": 277,
    "start_time": "2023-11-05T20:36:54.032Z"
   },
   {
    "duration": 335,
    "start_time": "2023-11-05T20:37:16.267Z"
   },
   {
    "duration": 309,
    "start_time": "2023-11-05T20:37:38.522Z"
   },
   {
    "duration": 286,
    "start_time": "2023-11-05T20:39:16.742Z"
   },
   {
    "duration": 315,
    "start_time": "2023-11-05T20:39:28.843Z"
   },
   {
    "duration": 312,
    "start_time": "2023-11-05T20:39:37.851Z"
   },
   {
    "duration": 355,
    "start_time": "2023-11-05T20:39:47.758Z"
   },
   {
    "duration": 274,
    "start_time": "2023-11-05T20:39:55.593Z"
   },
   {
    "duration": 319,
    "start_time": "2023-11-05T20:40:00.434Z"
   },
   {
    "duration": 418,
    "start_time": "2023-11-05T20:40:09.873Z"
   },
   {
    "duration": 393,
    "start_time": "2023-11-05T20:41:02.523Z"
   },
   {
    "duration": 187,
    "start_time": "2023-11-05T20:41:11.523Z"
   },
   {
    "duration": 274,
    "start_time": "2023-11-05T20:41:16.202Z"
   },
   {
    "duration": 211,
    "start_time": "2023-11-05T20:59:12.996Z"
   },
   {
    "duration": 5,
    "start_time": "2023-11-05T21:00:27.645Z"
   },
   {
    "duration": 13,
    "start_time": "2023-11-05T21:00:34.985Z"
   },
   {
    "duration": 10,
    "start_time": "2023-11-05T21:00:46.631Z"
   },
   {
    "duration": 5,
    "start_time": "2023-11-05T21:01:18.686Z"
   },
   {
    "duration": 12,
    "start_time": "2023-11-05T21:01:22.927Z"
   },
   {
    "duration": 15,
    "start_time": "2023-11-05T21:02:45.893Z"
   },
   {
    "duration": 1297,
    "start_time": "2023-11-05T21:02:58.718Z"
   },
   {
    "duration": 80,
    "start_time": "2023-11-05T21:03:00.018Z"
   },
   {
    "duration": 19,
    "start_time": "2023-11-05T21:03:00.100Z"
   },
   {
    "duration": 43,
    "start_time": "2023-11-05T21:03:00.121Z"
   },
   {
    "duration": 33,
    "start_time": "2023-11-05T21:03:00.166Z"
   },
   {
    "duration": 42,
    "start_time": "2023-11-05T21:03:00.201Z"
   },
   {
    "duration": 96,
    "start_time": "2023-11-05T21:03:00.245Z"
   },
   {
    "duration": 5,
    "start_time": "2023-11-05T21:03:00.343Z"
   },
   {
    "duration": 56,
    "start_time": "2023-11-05T21:03:00.350Z"
   },
   {
    "duration": 55,
    "start_time": "2023-11-05T21:03:00.408Z"
   },
   {
    "duration": 59,
    "start_time": "2023-11-05T21:03:00.464Z"
   },
   {
    "duration": 34,
    "start_time": "2023-11-05T21:03:00.525Z"
   },
   {
    "duration": 34,
    "start_time": "2023-11-05T21:03:00.561Z"
   },
   {
    "duration": 32,
    "start_time": "2023-11-05T21:03:00.598Z"
   },
   {
    "duration": 42,
    "start_time": "2023-11-05T21:03:00.631Z"
   },
   {
    "duration": 40,
    "start_time": "2023-11-05T21:03:00.675Z"
   },
   {
    "duration": 44,
    "start_time": "2023-11-05T21:03:00.717Z"
   },
   {
    "duration": 72,
    "start_time": "2023-11-05T21:03:00.763Z"
   },
   {
    "duration": 45,
    "start_time": "2023-11-05T21:03:00.837Z"
   },
   {
    "duration": 33,
    "start_time": "2023-11-05T21:03:00.884Z"
   },
   {
    "duration": 41,
    "start_time": "2023-11-05T21:03:00.919Z"
   },
   {
    "duration": 40,
    "start_time": "2023-11-05T21:03:00.961Z"
   },
   {
    "duration": 47,
    "start_time": "2023-11-05T21:03:01.004Z"
   },
   {
    "duration": 72,
    "start_time": "2023-11-05T21:03:01.053Z"
   },
   {
    "duration": 57,
    "start_time": "2023-11-05T21:03:01.127Z"
   },
   {
    "duration": 59,
    "start_time": "2023-11-05T21:03:01.186Z"
   },
   {
    "duration": 53,
    "start_time": "2023-11-05T21:03:01.247Z"
   },
   {
    "duration": 154,
    "start_time": "2023-11-05T21:03:01.302Z"
   },
   {
    "duration": 0,
    "start_time": "2023-11-05T21:03:01.458Z"
   },
   {
    "duration": 0,
    "start_time": "2023-11-05T21:03:01.459Z"
   },
   {
    "duration": 0,
    "start_time": "2023-11-05T21:03:01.460Z"
   },
   {
    "duration": 0,
    "start_time": "2023-11-05T21:03:01.462Z"
   },
   {
    "duration": 0,
    "start_time": "2023-11-05T21:03:01.463Z"
   },
   {
    "duration": 1228,
    "start_time": "2023-11-05T21:03:23.304Z"
   },
   {
    "duration": 107,
    "start_time": "2023-11-05T21:03:24.535Z"
   },
   {
    "duration": 28,
    "start_time": "2023-11-05T21:03:24.644Z"
   },
   {
    "duration": 34,
    "start_time": "2023-11-05T21:03:24.675Z"
   },
   {
    "duration": 3,
    "start_time": "2023-11-05T21:03:24.711Z"
   },
   {
    "duration": 30,
    "start_time": "2023-11-05T21:03:24.717Z"
   },
   {
    "duration": 62,
    "start_time": "2023-11-05T21:03:24.748Z"
   },
   {
    "duration": 6,
    "start_time": "2023-11-05T21:03:24.812Z"
   },
   {
    "duration": 24,
    "start_time": "2023-11-05T21:03:24.819Z"
   },
   {
    "duration": 6,
    "start_time": "2023-11-05T21:03:24.847Z"
   },
   {
    "duration": 15,
    "start_time": "2023-11-05T21:03:24.855Z"
   },
   {
    "duration": 9,
    "start_time": "2023-11-05T21:03:24.873Z"
   },
   {
    "duration": 5,
    "start_time": "2023-11-05T21:03:24.884Z"
   },
   {
    "duration": 13,
    "start_time": "2023-11-05T21:03:24.890Z"
   },
   {
    "duration": 15,
    "start_time": "2023-11-05T21:03:24.905Z"
   },
   {
    "duration": 23,
    "start_time": "2023-11-05T21:03:24.922Z"
   },
   {
    "duration": 8,
    "start_time": "2023-11-05T21:03:24.947Z"
   },
   {
    "duration": 13,
    "start_time": "2023-11-05T21:03:24.957Z"
   },
   {
    "duration": 12,
    "start_time": "2023-11-05T21:03:24.972Z"
   },
   {
    "duration": 14,
    "start_time": "2023-11-05T21:03:24.986Z"
   },
   {
    "duration": 6,
    "start_time": "2023-11-05T21:03:25.003Z"
   },
   {
    "duration": 18,
    "start_time": "2023-11-05T21:03:25.011Z"
   },
   {
    "duration": 10,
    "start_time": "2023-11-05T21:03:25.031Z"
   },
   {
    "duration": 54,
    "start_time": "2023-11-05T21:03:25.044Z"
   },
   {
    "duration": 18,
    "start_time": "2023-11-05T21:03:25.100Z"
   },
   {
    "duration": 32,
    "start_time": "2023-11-05T21:03:25.120Z"
   },
   {
    "duration": 6,
    "start_time": "2023-11-05T21:03:25.154Z"
   },
   {
    "duration": 352,
    "start_time": "2023-11-05T21:03:25.164Z"
   },
   {
    "duration": 206,
    "start_time": "2023-11-05T21:03:25.519Z"
   },
   {
    "duration": 305,
    "start_time": "2023-11-05T21:03:25.726Z"
   },
   {
    "duration": 195,
    "start_time": "2023-11-05T21:03:26.034Z"
   },
   {
    "duration": 334,
    "start_time": "2023-11-05T21:03:26.232Z"
   },
   {
    "duration": 115,
    "start_time": "2023-11-05T21:11:05.972Z"
   },
   {
    "duration": 349,
    "start_time": "2023-11-05T21:11:44.762Z"
   },
   {
    "duration": 253,
    "start_time": "2023-11-05T21:11:52.923Z"
   },
   {
    "duration": 271,
    "start_time": "2023-11-05T21:11:59.783Z"
   },
   {
    "duration": 254,
    "start_time": "2023-11-05T21:13:48.553Z"
   },
   {
    "duration": 268,
    "start_time": "2023-11-05T21:14:48.746Z"
   },
   {
    "duration": 411,
    "start_time": "2023-11-05T21:16:20.931Z"
   },
   {
    "duration": 8,
    "start_time": "2023-11-06T11:16:39.496Z"
   },
   {
    "duration": 43,
    "start_time": "2023-11-06T11:16:42.196Z"
   },
   {
    "duration": 7,
    "start_time": "2023-11-06T11:16:54.799Z"
   },
   {
    "duration": 60,
    "start_time": "2023-11-06T12:34:05.162Z"
   },
   {
    "duration": 1363,
    "start_time": "2023-11-06T12:34:16.652Z"
   },
   {
    "duration": 204,
    "start_time": "2023-11-06T12:34:18.016Z"
   },
   {
    "duration": 14,
    "start_time": "2023-11-06T12:34:18.221Z"
   },
   {
    "duration": 37,
    "start_time": "2023-11-06T12:34:18.237Z"
   },
   {
    "duration": 14,
    "start_time": "2023-11-06T12:34:18.276Z"
   },
   {
    "duration": 33,
    "start_time": "2023-11-06T12:34:18.291Z"
   },
   {
    "duration": 64,
    "start_time": "2023-11-06T12:34:18.326Z"
   },
   {
    "duration": 5,
    "start_time": "2023-11-06T12:34:18.391Z"
   },
   {
    "duration": 11,
    "start_time": "2023-11-06T12:34:18.398Z"
   },
   {
    "duration": 25,
    "start_time": "2023-11-06T12:34:18.412Z"
   },
   {
    "duration": 6,
    "start_time": "2023-11-06T12:34:18.439Z"
   },
   {
    "duration": 20,
    "start_time": "2023-11-06T12:34:18.446Z"
   },
   {
    "duration": 28,
    "start_time": "2023-11-06T12:34:18.468Z"
   },
   {
    "duration": 20,
    "start_time": "2023-11-06T12:34:18.497Z"
   },
   {
    "duration": 17,
    "start_time": "2023-11-06T12:34:18.519Z"
   },
   {
    "duration": 26,
    "start_time": "2023-11-06T12:34:18.537Z"
   },
   {
    "duration": 37,
    "start_time": "2023-11-06T12:34:18.564Z"
   },
   {
    "duration": 19,
    "start_time": "2023-11-06T12:34:18.603Z"
   },
   {
    "duration": 24,
    "start_time": "2023-11-06T12:34:18.624Z"
   },
   {
    "duration": 23,
    "start_time": "2023-11-06T12:34:18.649Z"
   },
   {
    "duration": 20,
    "start_time": "2023-11-06T12:34:18.674Z"
   },
   {
    "duration": 26,
    "start_time": "2023-11-06T12:34:18.696Z"
   },
   {
    "duration": 23,
    "start_time": "2023-11-06T12:34:18.724Z"
   },
   {
    "duration": 40,
    "start_time": "2023-11-06T12:34:18.749Z"
   },
   {
    "duration": 17,
    "start_time": "2023-11-06T12:34:18.791Z"
   },
   {
    "duration": 25,
    "start_time": "2023-11-06T12:34:18.810Z"
   },
   {
    "duration": 5,
    "start_time": "2023-11-06T12:34:18.837Z"
   },
   {
    "duration": 378,
    "start_time": "2023-11-06T12:34:18.844Z"
   },
   {
    "duration": 193,
    "start_time": "2023-11-06T12:34:19.224Z"
   },
   {
    "duration": 298,
    "start_time": "2023-11-06T12:34:19.419Z"
   },
   {
    "duration": 191,
    "start_time": "2023-11-06T12:34:19.719Z"
   },
   {
    "duration": 328,
    "start_time": "2023-11-06T12:34:19.912Z"
   },
   {
    "duration": 113,
    "start_time": "2023-11-06T12:34:20.242Z"
   },
   {
    "duration": 348,
    "start_time": "2023-11-06T12:34:40.588Z"
   },
   {
    "duration": 273,
    "start_time": "2023-11-06T12:34:47.668Z"
   },
   {
    "duration": 256,
    "start_time": "2023-11-06T12:35:43.930Z"
   },
   {
    "duration": 81,
    "start_time": "2023-11-06T12:36:46.481Z"
   },
   {
    "duration": 285,
    "start_time": "2023-11-06T12:37:09.028Z"
   },
   {
    "duration": 273,
    "start_time": "2023-11-06T12:37:14.959Z"
   },
   {
    "duration": 1267,
    "start_time": "2023-11-06T13:33:39.719Z"
   },
   {
    "duration": 10,
    "start_time": "2023-11-06T13:35:16.452Z"
   },
   {
    "duration": 164,
    "start_time": "2023-11-06T13:35:28.456Z"
   },
   {
    "duration": 11,
    "start_time": "2023-11-06T13:43:11.601Z"
   },
   {
    "duration": 12,
    "start_time": "2023-11-06T13:43:55.188Z"
   },
   {
    "duration": 10,
    "start_time": "2023-11-06T13:44:44.406Z"
   },
   {
    "duration": 198,
    "start_time": "2023-11-06T13:45:01.978Z"
   },
   {
    "duration": 1467,
    "start_time": "2023-11-06T13:45:43.457Z"
   },
   {
    "duration": 317,
    "start_time": "2023-11-06T13:46:33.748Z"
   },
   {
    "duration": 6,
    "start_time": "2023-11-06T13:48:39.288Z"
   },
   {
    "duration": 1133,
    "start_time": "2023-11-06T13:48:46.292Z"
   },
   {
    "duration": 4,
    "start_time": "2023-11-06T13:49:52.202Z"
   },
   {
    "duration": 5,
    "start_time": "2023-11-06T13:50:14.879Z"
   },
   {
    "duration": 341,
    "start_time": "2023-11-06T13:50:28.969Z"
   },
   {
    "duration": 186,
    "start_time": "2023-11-06T13:52:04.310Z"
   },
   {
    "duration": 1156,
    "start_time": "2023-11-06T13:52:10.235Z"
   },
   {
    "duration": 78,
    "start_time": "2023-11-06T13:52:11.393Z"
   },
   {
    "duration": 15,
    "start_time": "2023-11-06T13:52:11.472Z"
   },
   {
    "duration": 43,
    "start_time": "2023-11-06T13:52:11.488Z"
   },
   {
    "duration": 11,
    "start_time": "2023-11-06T13:52:11.533Z"
   },
   {
    "duration": 17,
    "start_time": "2023-11-06T13:52:11.546Z"
   },
   {
    "duration": 67,
    "start_time": "2023-11-06T13:52:11.564Z"
   },
   {
    "duration": 5,
    "start_time": "2023-11-06T13:52:11.633Z"
   },
   {
    "duration": 35,
    "start_time": "2023-11-06T13:52:11.640Z"
   },
   {
    "duration": 22,
    "start_time": "2023-11-06T13:52:11.677Z"
   },
   {
    "duration": 19,
    "start_time": "2023-11-06T13:52:11.701Z"
   },
   {
    "duration": 26,
    "start_time": "2023-11-06T13:52:11.722Z"
   },
   {
    "duration": 26,
    "start_time": "2023-11-06T13:52:11.750Z"
   },
   {
    "duration": 30,
    "start_time": "2023-11-06T13:52:11.779Z"
   },
   {
    "duration": 9,
    "start_time": "2023-11-06T13:52:11.811Z"
   },
   {
    "duration": 28,
    "start_time": "2023-11-06T13:52:11.822Z"
   },
   {
    "duration": 15,
    "start_time": "2023-11-06T13:52:11.852Z"
   },
   {
    "duration": 17,
    "start_time": "2023-11-06T13:52:11.869Z"
   },
   {
    "duration": 14,
    "start_time": "2023-11-06T13:52:11.888Z"
   },
   {
    "duration": 29,
    "start_time": "2023-11-06T13:52:11.904Z"
   },
   {
    "duration": 18,
    "start_time": "2023-11-06T13:52:11.934Z"
   },
   {
    "duration": 27,
    "start_time": "2023-11-06T13:52:11.953Z"
   },
   {
    "duration": 8,
    "start_time": "2023-11-06T13:52:11.982Z"
   },
   {
    "duration": 19,
    "start_time": "2023-11-06T13:52:11.992Z"
   },
   {
    "duration": 14,
    "start_time": "2023-11-06T13:52:12.012Z"
   },
   {
    "duration": 26,
    "start_time": "2023-11-06T13:52:12.028Z"
   },
   {
    "duration": 15,
    "start_time": "2023-11-06T13:52:12.055Z"
   },
   {
    "duration": 320,
    "start_time": "2023-11-06T13:52:12.071Z"
   },
   {
    "duration": 188,
    "start_time": "2023-11-06T13:52:12.392Z"
   },
   {
    "duration": 292,
    "start_time": "2023-11-06T13:52:12.581Z"
   },
   {
    "duration": 183,
    "start_time": "2023-11-06T13:52:12.874Z"
   },
   {
    "duration": 298,
    "start_time": "2023-11-06T13:52:13.058Z"
   },
   {
    "duration": 77,
    "start_time": "2023-11-06T13:52:13.358Z"
   },
   {
    "duration": 0,
    "start_time": "2023-11-06T13:52:13.437Z"
   },
   {
    "duration": 388,
    "start_time": "2023-11-06T13:52:26.481Z"
   },
   {
    "duration": 1252,
    "start_time": "2023-11-06T13:52:33.557Z"
   },
   {
    "duration": 72,
    "start_time": "2023-11-06T13:52:34.811Z"
   },
   {
    "duration": 14,
    "start_time": "2023-11-06T13:52:34.884Z"
   },
   {
    "duration": 32,
    "start_time": "2023-11-06T13:52:34.900Z"
   },
   {
    "duration": 19,
    "start_time": "2023-11-06T13:52:34.934Z"
   },
   {
    "duration": 5,
    "start_time": "2023-11-06T13:52:34.954Z"
   },
   {
    "duration": 59,
    "start_time": "2023-11-06T13:52:34.960Z"
   },
   {
    "duration": 5,
    "start_time": "2023-11-06T13:52:35.021Z"
   },
   {
    "duration": 15,
    "start_time": "2023-11-06T13:52:35.027Z"
   },
   {
    "duration": 20,
    "start_time": "2023-11-06T13:52:35.043Z"
   },
   {
    "duration": 19,
    "start_time": "2023-11-06T13:52:35.065Z"
   },
   {
    "duration": 14,
    "start_time": "2023-11-06T13:52:35.085Z"
   },
   {
    "duration": 22,
    "start_time": "2023-11-06T13:52:35.100Z"
   },
   {
    "duration": 17,
    "start_time": "2023-11-06T13:52:35.125Z"
   },
   {
    "duration": 25,
    "start_time": "2023-11-06T13:52:35.144Z"
   },
   {
    "duration": 36,
    "start_time": "2023-11-06T13:52:35.170Z"
   },
   {
    "duration": 49,
    "start_time": "2023-11-06T13:52:35.207Z"
   },
   {
    "duration": 23,
    "start_time": "2023-11-06T13:52:35.258Z"
   },
   {
    "duration": 64,
    "start_time": "2023-11-06T13:52:35.282Z"
   },
   {
    "duration": 73,
    "start_time": "2023-11-06T13:52:35.347Z"
   },
   {
    "duration": 50,
    "start_time": "2023-11-06T13:52:35.422Z"
   },
   {
    "duration": 27,
    "start_time": "2023-11-06T13:52:35.474Z"
   },
   {
    "duration": 40,
    "start_time": "2023-11-06T13:52:35.502Z"
   },
   {
    "duration": 44,
    "start_time": "2023-11-06T13:52:35.543Z"
   },
   {
    "duration": 32,
    "start_time": "2023-11-06T13:52:35.589Z"
   },
   {
    "duration": 23,
    "start_time": "2023-11-06T13:52:35.622Z"
   },
   {
    "duration": 6,
    "start_time": "2023-11-06T13:52:35.646Z"
   },
   {
    "duration": 334,
    "start_time": "2023-11-06T13:52:35.653Z"
   },
   {
    "duration": 223,
    "start_time": "2023-11-06T13:52:35.989Z"
   },
   {
    "duration": 296,
    "start_time": "2023-11-06T13:52:36.213Z"
   },
   {
    "duration": 181,
    "start_time": "2023-11-06T13:52:36.511Z"
   },
   {
    "duration": 299,
    "start_time": "2023-11-06T13:52:36.694Z"
   },
   {
    "duration": 392,
    "start_time": "2023-11-06T13:52:36.995Z"
   },
   {
    "duration": 326,
    "start_time": "2023-11-06T13:52:37.388Z"
   },
   {
    "duration": 865,
    "start_time": "2023-11-06T13:54:26.131Z"
   },
   {
    "duration": 534,
    "start_time": "2023-11-06T13:56:55.839Z"
   },
   {
    "duration": 494,
    "start_time": "2023-11-06T13:58:16.553Z"
   },
   {
    "duration": 589,
    "start_time": "2023-11-06T14:03:40.243Z"
   },
   {
    "duration": 70,
    "start_time": "2023-11-06T14:07:04.004Z"
   },
   {
    "duration": 204,
    "start_time": "2023-11-06T14:08:18.457Z"
   },
   {
    "duration": 368,
    "start_time": "2023-11-06T14:13:53.969Z"
   },
   {
    "duration": 357,
    "start_time": "2023-11-06T14:15:07.203Z"
   },
   {
    "duration": 366,
    "start_time": "2023-11-06T14:16:19.067Z"
   },
   {
    "duration": 479,
    "start_time": "2023-11-06T14:16:29.792Z"
   },
   {
    "duration": 351,
    "start_time": "2023-11-06T14:16:51.909Z"
   },
   {
    "duration": 16,
    "start_time": "2023-11-06T14:27:42.013Z"
   },
   {
    "duration": 283,
    "start_time": "2023-11-06T14:27:56.477Z"
   },
   {
    "duration": 19,
    "start_time": "2023-11-06T14:42:41.584Z"
   },
   {
    "duration": 207,
    "start_time": "2023-11-06T14:45:09.075Z"
   },
   {
    "duration": 83,
    "start_time": "2023-11-06T14:47:21.079Z"
   },
   {
    "duration": 501,
    "start_time": "2023-11-06T14:47:51.689Z"
   },
   {
    "duration": 7,
    "start_time": "2023-11-06T14:48:03.300Z"
   },
   {
    "duration": 6,
    "start_time": "2023-11-06T14:48:11.308Z"
   },
   {
    "duration": 15,
    "start_time": "2023-11-06T14:48:59.106Z"
   },
   {
    "duration": 13,
    "start_time": "2023-11-06T14:49:23.928Z"
   },
   {
    "duration": 14,
    "start_time": "2023-11-06T14:49:40.258Z"
   },
   {
    "duration": 16,
    "start_time": "2023-11-06T14:49:55.219Z"
   },
   {
    "duration": 20,
    "start_time": "2023-11-06T14:52:54.326Z"
   },
   {
    "duration": 80,
    "start_time": "2023-11-06T15:12:59.246Z"
   },
   {
    "duration": 75,
    "start_time": "2023-11-06T15:14:14.171Z"
   },
   {
    "duration": 14,
    "start_time": "2023-11-06T15:14:48.975Z"
   },
   {
    "duration": 576,
    "start_time": "2023-11-06T15:15:25.475Z"
   },
   {
    "duration": 588,
    "start_time": "2023-11-06T15:23:52.486Z"
   },
   {
    "duration": 442,
    "start_time": "2023-11-06T15:25:42.419Z"
   },
   {
    "duration": 455,
    "start_time": "2023-11-06T15:26:32.110Z"
   },
   {
    "duration": 471,
    "start_time": "2023-11-06T15:27:03.251Z"
   },
   {
    "duration": 547,
    "start_time": "2023-11-06T15:27:34.375Z"
   },
   {
    "duration": 294,
    "start_time": "2023-11-06T15:30:12.032Z"
   },
   {
    "duration": 303,
    "start_time": "2023-11-06T15:30:15.496Z"
   },
   {
    "duration": 17,
    "start_time": "2023-11-06T15:30:40.409Z"
   },
   {
    "duration": 5,
    "start_time": "2023-11-06T15:32:15.052Z"
   },
   {
    "duration": 1394,
    "start_time": "2023-11-06T15:33:18.504Z"
   },
   {
    "duration": 450,
    "start_time": "2023-11-06T15:33:32.274Z"
   },
   {
    "duration": 468,
    "start_time": "2023-11-06T15:33:44.159Z"
   },
   {
    "duration": 296,
    "start_time": "2023-11-06T15:34:00.986Z"
   },
   {
    "duration": 187,
    "start_time": "2023-11-06T15:34:03.670Z"
   },
   {
    "duration": 189,
    "start_time": "2023-11-06T15:34:09.151Z"
   },
   {
    "duration": 1535,
    "start_time": "2023-11-07T08:49:37.728Z"
   },
   {
    "duration": 132,
    "start_time": "2023-11-07T08:49:39.265Z"
   },
   {
    "duration": 17,
    "start_time": "2023-11-07T08:49:39.398Z"
   },
   {
    "duration": 28,
    "start_time": "2023-11-07T08:49:39.418Z"
   },
   {
    "duration": 14,
    "start_time": "2023-11-07T08:49:39.447Z"
   },
   {
    "duration": 10,
    "start_time": "2023-11-07T08:49:39.462Z"
   },
   {
    "duration": 73,
    "start_time": "2023-11-07T08:49:39.474Z"
   },
   {
    "duration": 6,
    "start_time": "2023-11-07T08:49:39.549Z"
   },
   {
    "duration": 16,
    "start_time": "2023-11-07T08:49:39.557Z"
   },
   {
    "duration": 12,
    "start_time": "2023-11-07T08:49:39.577Z"
   },
   {
    "duration": 6,
    "start_time": "2023-11-07T08:49:39.591Z"
   },
   {
    "duration": 25,
    "start_time": "2023-11-07T08:49:39.598Z"
   },
   {
    "duration": 24,
    "start_time": "2023-11-07T08:49:39.625Z"
   },
   {
    "duration": 19,
    "start_time": "2023-11-07T08:49:39.651Z"
   },
   {
    "duration": 5,
    "start_time": "2023-11-07T08:49:39.672Z"
   },
   {
    "duration": 19,
    "start_time": "2023-11-07T08:49:39.679Z"
   },
   {
    "duration": 12,
    "start_time": "2023-11-07T08:49:39.699Z"
   },
   {
    "duration": 17,
    "start_time": "2023-11-07T08:49:39.713Z"
   },
   {
    "duration": 13,
    "start_time": "2023-11-07T08:49:39.732Z"
   },
   {
    "duration": 15,
    "start_time": "2023-11-07T08:49:39.747Z"
   },
   {
    "duration": 8,
    "start_time": "2023-11-07T08:49:39.763Z"
   },
   {
    "duration": 13,
    "start_time": "2023-11-07T08:49:39.772Z"
   },
   {
    "duration": 15,
    "start_time": "2023-11-07T08:49:39.787Z"
   },
   {
    "duration": 24,
    "start_time": "2023-11-07T08:49:39.804Z"
   },
   {
    "duration": 17,
    "start_time": "2023-11-07T08:49:39.830Z"
   },
   {
    "duration": 23,
    "start_time": "2023-11-07T08:49:39.848Z"
   },
   {
    "duration": 5,
    "start_time": "2023-11-07T08:49:39.872Z"
   },
   {
    "duration": 355,
    "start_time": "2023-11-07T08:49:39.914Z"
   },
   {
    "duration": 206,
    "start_time": "2023-11-07T08:49:40.270Z"
   },
   {
    "duration": 335,
    "start_time": "2023-11-07T08:49:40.478Z"
   },
   {
    "duration": 233,
    "start_time": "2023-11-07T08:49:40.815Z"
   },
   {
    "duration": 324,
    "start_time": "2023-11-07T08:49:41.050Z"
   },
   {
    "duration": 397,
    "start_time": "2023-11-07T08:49:41.375Z"
   },
   {
    "duration": 571,
    "start_time": "2023-11-07T08:49:41.774Z"
   },
   {
    "duration": 600,
    "start_time": "2023-11-07T08:49:42.347Z"
   },
   {
    "duration": 405,
    "start_time": "2023-11-07T08:49:42.949Z"
   },
   {
    "duration": 525,
    "start_time": "2023-11-07T08:49:43.356Z"
   },
   {
    "duration": 460,
    "start_time": "2023-11-07T08:49:43.883Z"
   },
   {
    "duration": 325,
    "start_time": "2023-11-07T08:55:56.258Z"
   },
   {
    "duration": 120,
    "start_time": "2023-11-07T08:57:03.059Z"
   },
   {
    "duration": 5,
    "start_time": "2023-11-07T08:57:18.160Z"
   },
   {
    "duration": 8,
    "start_time": "2023-11-07T09:02:50.103Z"
   },
   {
    "duration": 514,
    "start_time": "2023-11-07T09:11:23.320Z"
   },
   {
    "duration": 21,
    "start_time": "2023-11-07T09:11:54.975Z"
   },
   {
    "duration": 519,
    "start_time": "2023-11-07T09:12:04.650Z"
   },
   {
    "duration": 529,
    "start_time": "2023-11-07T09:12:14.365Z"
   },
   {
    "duration": 651,
    "start_time": "2023-11-07T09:26:01.343Z"
   },
   {
    "duration": 539,
    "start_time": "2023-11-07T09:26:13.027Z"
   },
   {
    "duration": 519,
    "start_time": "2023-11-07T09:26:25.239Z"
   },
   {
    "duration": 551,
    "start_time": "2023-11-07T09:30:01.198Z"
   },
   {
    "duration": 641,
    "start_time": "2023-11-07T09:30:07.515Z"
   },
   {
    "duration": 56,
    "start_time": "2023-11-07T11:09:24.480Z"
   },
   {
    "duration": 1408,
    "start_time": "2023-11-07T11:09:39.428Z"
   },
   {
    "duration": 128,
    "start_time": "2023-11-07T11:09:40.838Z"
   },
   {
    "duration": 16,
    "start_time": "2023-11-07T11:09:40.967Z"
   },
   {
    "duration": 26,
    "start_time": "2023-11-07T11:09:40.985Z"
   },
   {
    "duration": 35,
    "start_time": "2023-11-07T11:09:41.014Z"
   },
   {
    "duration": 36,
    "start_time": "2023-11-07T11:09:41.051Z"
   },
   {
    "duration": 75,
    "start_time": "2023-11-07T11:09:41.088Z"
   },
   {
    "duration": 21,
    "start_time": "2023-11-07T11:09:41.164Z"
   },
   {
    "duration": 50,
    "start_time": "2023-11-07T11:09:41.187Z"
   },
   {
    "duration": 31,
    "start_time": "2023-11-07T11:09:41.238Z"
   },
   {
    "duration": 27,
    "start_time": "2023-11-07T11:09:41.271Z"
   },
   {
    "duration": 47,
    "start_time": "2023-11-07T11:09:41.300Z"
   },
   {
    "duration": 36,
    "start_time": "2023-11-07T11:09:41.349Z"
   },
   {
    "duration": 16,
    "start_time": "2023-11-07T11:09:41.388Z"
   },
   {
    "duration": 32,
    "start_time": "2023-11-07T11:09:41.406Z"
   },
   {
    "duration": 38,
    "start_time": "2023-11-07T11:09:41.440Z"
   },
   {
    "duration": 48,
    "start_time": "2023-11-07T11:09:41.480Z"
   },
   {
    "duration": 36,
    "start_time": "2023-11-07T11:09:41.530Z"
   },
   {
    "duration": 15,
    "start_time": "2023-11-07T11:09:41.567Z"
   },
   {
    "duration": 41,
    "start_time": "2023-11-07T11:09:41.584Z"
   },
   {
    "duration": 27,
    "start_time": "2023-11-07T11:09:41.627Z"
   },
   {
    "duration": 57,
    "start_time": "2023-11-07T11:09:41.655Z"
   },
   {
    "duration": 30,
    "start_time": "2023-11-07T11:09:41.714Z"
   },
   {
    "duration": 37,
    "start_time": "2023-11-07T11:09:41.746Z"
   },
   {
    "duration": 17,
    "start_time": "2023-11-07T11:09:41.785Z"
   },
   {
    "duration": 28,
    "start_time": "2023-11-07T11:09:41.804Z"
   },
   {
    "duration": 14,
    "start_time": "2023-11-07T11:09:41.834Z"
   },
   {
    "duration": 349,
    "start_time": "2023-11-07T11:09:41.850Z"
   },
   {
    "duration": 184,
    "start_time": "2023-11-07T11:09:42.207Z"
   },
   {
    "duration": 289,
    "start_time": "2023-11-07T11:09:42.393Z"
   },
   {
    "duration": 182,
    "start_time": "2023-11-07T11:09:42.684Z"
   },
   {
    "duration": 290,
    "start_time": "2023-11-07T11:09:42.867Z"
   },
   {
    "duration": 357,
    "start_time": "2023-11-07T11:09:43.159Z"
   },
   {
    "duration": 509,
    "start_time": "2023-11-07T11:09:43.518Z"
   },
   {
    "duration": 507,
    "start_time": "2023-11-07T11:09:44.029Z"
   },
   {
    "duration": 363,
    "start_time": "2023-11-07T11:09:44.538Z"
   },
   {
    "duration": 449,
    "start_time": "2023-11-07T11:09:44.903Z"
   },
   {
    "duration": 400,
    "start_time": "2023-11-07T11:09:45.354Z"
   },
   {
    "duration": 480,
    "start_time": "2023-11-07T11:09:45.755Z"
   },
   {
    "duration": 5,
    "start_time": "2023-11-07T11:09:46.237Z"
   },
   {
    "duration": 17,
    "start_time": "2023-11-07T11:09:46.246Z"
   },
   {
    "duration": 8,
    "start_time": "2023-11-07T11:16:37.360Z"
   },
   {
    "duration": 8,
    "start_time": "2023-11-07T11:16:46.394Z"
   },
   {
    "duration": 8,
    "start_time": "2023-11-07T11:17:18.635Z"
   },
   {
    "duration": 77,
    "start_time": "2023-11-07T11:20:42.450Z"
   },
   {
    "duration": 11,
    "start_time": "2023-11-07T11:21:38.579Z"
   },
   {
    "duration": 10,
    "start_time": "2023-11-07T11:21:50.798Z"
   },
   {
    "duration": 8,
    "start_time": "2023-11-07T11:27:15.102Z"
   },
   {
    "duration": 8,
    "start_time": "2023-11-07T11:28:31.839Z"
   },
   {
    "duration": 8,
    "start_time": "2023-11-07T11:28:54.434Z"
   },
   {
    "duration": 0,
    "start_time": "2023-11-07T11:29:34.432Z"
   },
   {
    "duration": 0,
    "start_time": "2023-11-07T11:29:34.433Z"
   },
   {
    "duration": 0,
    "start_time": "2023-11-07T11:29:34.434Z"
   },
   {
    "duration": 0,
    "start_time": "2023-11-07T11:29:34.436Z"
   },
   {
    "duration": 0,
    "start_time": "2023-11-07T11:29:34.437Z"
   },
   {
    "duration": 0,
    "start_time": "2023-11-07T11:29:34.438Z"
   },
   {
    "duration": 0,
    "start_time": "2023-11-07T11:29:34.440Z"
   },
   {
    "duration": 0,
    "start_time": "2023-11-07T11:29:34.441Z"
   },
   {
    "duration": 0,
    "start_time": "2023-11-07T11:29:34.443Z"
   },
   {
    "duration": 0,
    "start_time": "2023-11-07T11:29:34.444Z"
   },
   {
    "duration": 0,
    "start_time": "2023-11-07T11:29:34.445Z"
   },
   {
    "duration": 0,
    "start_time": "2023-11-07T11:29:34.446Z"
   },
   {
    "duration": 0,
    "start_time": "2023-11-07T11:29:34.507Z"
   },
   {
    "duration": 0,
    "start_time": "2023-11-07T11:29:34.508Z"
   },
   {
    "duration": 0,
    "start_time": "2023-11-07T11:29:34.509Z"
   },
   {
    "duration": 0,
    "start_time": "2023-11-07T11:29:34.510Z"
   },
   {
    "duration": 1,
    "start_time": "2023-11-07T11:29:34.511Z"
   },
   {
    "duration": 0,
    "start_time": "2023-11-07T11:29:34.513Z"
   },
   {
    "duration": 0,
    "start_time": "2023-11-07T11:29:34.514Z"
   },
   {
    "duration": 0,
    "start_time": "2023-11-07T11:29:34.515Z"
   },
   {
    "duration": 0,
    "start_time": "2023-11-07T11:29:34.515Z"
   },
   {
    "duration": 0,
    "start_time": "2023-11-07T11:29:34.516Z"
   },
   {
    "duration": 0,
    "start_time": "2023-11-07T11:29:34.517Z"
   },
   {
    "duration": 0,
    "start_time": "2023-11-07T11:29:34.518Z"
   },
   {
    "duration": 0,
    "start_time": "2023-11-07T11:29:34.519Z"
   },
   {
    "duration": 0,
    "start_time": "2023-11-07T11:29:34.520Z"
   },
   {
    "duration": 0,
    "start_time": "2023-11-07T11:29:34.521Z"
   },
   {
    "duration": 0,
    "start_time": "2023-11-07T11:29:34.522Z"
   },
   {
    "duration": 0,
    "start_time": "2023-11-07T11:29:34.523Z"
   },
   {
    "duration": 0,
    "start_time": "2023-11-07T11:29:34.524Z"
   },
   {
    "duration": 0,
    "start_time": "2023-11-07T11:29:34.525Z"
   },
   {
    "duration": 0,
    "start_time": "2023-11-07T11:29:34.526Z"
   },
   {
    "duration": 0,
    "start_time": "2023-11-07T11:29:34.527Z"
   },
   {
    "duration": 0,
    "start_time": "2023-11-07T11:29:34.529Z"
   },
   {
    "duration": 0,
    "start_time": "2023-11-07T11:29:34.529Z"
   },
   {
    "duration": 0,
    "start_time": "2023-11-07T11:29:34.530Z"
   },
   {
    "duration": 0,
    "start_time": "2023-11-07T11:29:34.531Z"
   },
   {
    "duration": 0,
    "start_time": "2023-11-07T11:29:34.532Z"
   },
   {
    "duration": 0,
    "start_time": "2023-11-07T11:29:34.533Z"
   },
   {
    "duration": 0,
    "start_time": "2023-11-07T11:29:34.534Z"
   },
   {
    "duration": 0,
    "start_time": "2023-11-07T11:29:34.535Z"
   },
   {
    "duration": 1185,
    "start_time": "2023-11-07T11:29:37.335Z"
   },
   {
    "duration": 76,
    "start_time": "2023-11-07T11:29:38.522Z"
   },
   {
    "duration": 15,
    "start_time": "2023-11-07T11:29:38.599Z"
   },
   {
    "duration": 42,
    "start_time": "2023-11-07T11:29:38.615Z"
   },
   {
    "duration": 9,
    "start_time": "2023-11-07T11:29:38.659Z"
   },
   {
    "duration": 18,
    "start_time": "2023-11-07T11:29:38.669Z"
   },
   {
    "duration": 62,
    "start_time": "2023-11-07T11:29:38.689Z"
   },
   {
    "duration": 5,
    "start_time": "2023-11-07T11:29:38.753Z"
   },
   {
    "duration": 13,
    "start_time": "2023-11-07T11:29:38.759Z"
   },
   {
    "duration": 26,
    "start_time": "2023-11-07T11:29:38.773Z"
   },
   {
    "duration": 18,
    "start_time": "2023-11-07T11:29:38.801Z"
   },
   {
    "duration": 14,
    "start_time": "2023-11-07T11:29:38.821Z"
   },
   {
    "duration": 9,
    "start_time": "2023-11-07T11:29:38.836Z"
   },
   {
    "duration": 8,
    "start_time": "2023-11-07T11:29:38.848Z"
   },
   {
    "duration": 6,
    "start_time": "2023-11-07T11:29:38.858Z"
   },
   {
    "duration": 289,
    "start_time": "2023-11-07T11:29:40.092Z"
   },
   {
    "duration": 350,
    "start_time": "2023-11-07T11:29:40.383Z"
   },
   {
    "duration": 465,
    "start_time": "2023-11-07T11:29:40.735Z"
   },
   {
    "duration": 476,
    "start_time": "2023-11-07T11:29:41.207Z"
   },
   {
    "duration": 346,
    "start_time": "2023-11-07T11:29:41.685Z"
   },
   {
    "duration": 439,
    "start_time": "2023-11-07T11:29:42.033Z"
   },
   {
    "duration": 387,
    "start_time": "2023-11-07T11:29:42.474Z"
   },
   {
    "duration": 459,
    "start_time": "2023-11-07T11:29:42.863Z"
   },
   {
    "duration": 7,
    "start_time": "2023-11-07T11:29:43.324Z"
   },
   {
    "duration": 12,
    "start_time": "2023-11-07T11:29:43.336Z"
   },
   {
    "duration": 70,
    "start_time": "2023-11-07T11:31:09.083Z"
   },
   {
    "duration": 248,
    "start_time": "2023-11-07T11:32:03.950Z"
   },
   {
    "duration": 9,
    "start_time": "2023-11-07T11:39:36.314Z"
   },
   {
    "duration": 1254,
    "start_time": "2023-11-07T11:55:32.714Z"
   },
   {
    "duration": 90,
    "start_time": "2023-11-07T11:55:33.970Z"
   },
   {
    "duration": 14,
    "start_time": "2023-11-07T11:55:34.061Z"
   },
   {
    "duration": 26,
    "start_time": "2023-11-07T11:55:34.077Z"
   },
   {
    "duration": 4,
    "start_time": "2023-11-07T11:55:34.109Z"
   },
   {
    "duration": 15,
    "start_time": "2023-11-07T11:55:34.114Z"
   },
   {
    "duration": 51,
    "start_time": "2023-11-07T11:55:34.131Z"
   },
   {
    "duration": 4,
    "start_time": "2023-11-07T11:55:34.184Z"
   },
   {
    "duration": 22,
    "start_time": "2023-11-07T11:55:34.210Z"
   },
   {
    "duration": 15,
    "start_time": "2023-11-07T11:55:34.236Z"
   },
   {
    "duration": 11,
    "start_time": "2023-11-07T11:55:34.252Z"
   },
   {
    "duration": 34,
    "start_time": "2023-11-07T11:55:34.265Z"
   },
   {
    "duration": 35,
    "start_time": "2023-11-07T11:55:34.300Z"
   },
   {
    "duration": 16,
    "start_time": "2023-11-07T11:55:34.337Z"
   },
   {
    "duration": 13,
    "start_time": "2023-11-07T11:55:34.354Z"
   },
   {
    "duration": 47,
    "start_time": "2023-11-07T11:55:34.368Z"
   },
   {
    "duration": 25,
    "start_time": "2023-11-07T11:55:34.417Z"
   },
   {
    "duration": 12,
    "start_time": "2023-11-07T11:55:34.444Z"
   },
   {
    "duration": 14,
    "start_time": "2023-11-07T11:55:34.457Z"
   },
   {
    "duration": 16,
    "start_time": "2023-11-07T11:55:34.472Z"
   },
   {
    "duration": 50,
    "start_time": "2023-11-07T11:55:34.489Z"
   },
   {
    "duration": 17,
    "start_time": "2023-11-07T11:55:34.540Z"
   },
   {
    "duration": 41,
    "start_time": "2023-11-07T11:55:34.558Z"
   },
   {
    "duration": 44,
    "start_time": "2023-11-07T11:55:34.600Z"
   },
   {
    "duration": 21,
    "start_time": "2023-11-07T11:55:34.646Z"
   },
   {
    "duration": 24,
    "start_time": "2023-11-07T11:55:34.668Z"
   },
   {
    "duration": 5,
    "start_time": "2023-11-07T11:55:34.693Z"
   },
   {
    "duration": 371,
    "start_time": "2023-11-07T11:55:34.701Z"
   },
   {
    "duration": 238,
    "start_time": "2023-11-07T11:55:35.074Z"
   },
   {
    "duration": 348,
    "start_time": "2023-11-07T11:55:35.314Z"
   },
   {
    "duration": 202,
    "start_time": "2023-11-07T11:55:35.663Z"
   },
   {
    "duration": 372,
    "start_time": "2023-11-07T11:55:35.866Z"
   },
   {
    "duration": 405,
    "start_time": "2023-11-07T11:55:36.239Z"
   },
   {
    "duration": 546,
    "start_time": "2023-11-07T11:55:36.646Z"
   },
   {
    "duration": 546,
    "start_time": "2023-11-07T11:55:37.194Z"
   },
   {
    "duration": 420,
    "start_time": "2023-11-07T11:55:37.741Z"
   },
   {
    "duration": 522,
    "start_time": "2023-11-07T11:55:38.162Z"
   },
   {
    "duration": 444,
    "start_time": "2023-11-07T11:55:38.686Z"
   },
   {
    "duration": 520,
    "start_time": "2023-11-07T11:55:39.135Z"
   },
   {
    "duration": 7,
    "start_time": "2023-11-07T11:55:39.656Z"
   },
   {
    "duration": 127,
    "start_time": "2023-11-07T11:55:39.665Z"
   },
   {
    "duration": 29,
    "start_time": "2023-11-07T11:55:56.416Z"
   },
   {
    "duration": 1426,
    "start_time": "2023-11-07T13:25:42.334Z"
   },
   {
    "duration": 142,
    "start_time": "2023-11-07T13:25:43.761Z"
   },
   {
    "duration": 13,
    "start_time": "2023-11-07T13:25:43.904Z"
   },
   {
    "duration": 17,
    "start_time": "2023-11-07T13:25:43.919Z"
   },
   {
    "duration": 4,
    "start_time": "2023-11-07T13:25:43.938Z"
   },
   {
    "duration": 4,
    "start_time": "2023-11-07T13:25:43.944Z"
   },
   {
    "duration": 50,
    "start_time": "2023-11-07T13:25:43.951Z"
   },
   {
    "duration": 5,
    "start_time": "2023-11-07T13:25:44.002Z"
   },
   {
    "duration": 6,
    "start_time": "2023-11-07T13:25:44.008Z"
   },
   {
    "duration": 7,
    "start_time": "2023-11-07T13:25:44.039Z"
   },
   {
    "duration": 8,
    "start_time": "2023-11-07T13:25:44.048Z"
   },
   {
    "duration": 9,
    "start_time": "2023-11-07T13:25:44.057Z"
   },
   {
    "duration": 4,
    "start_time": "2023-11-07T13:25:44.067Z"
   },
   {
    "duration": 3,
    "start_time": "2023-11-07T13:25:44.073Z"
   },
   {
    "duration": 5,
    "start_time": "2023-11-07T13:25:44.078Z"
   },
   {
    "duration": 5,
    "start_time": "2023-11-07T13:25:44.084Z"
   },
   {
    "duration": 5,
    "start_time": "2023-11-07T13:25:44.090Z"
   },
   {
    "duration": 11,
    "start_time": "2023-11-07T13:25:44.096Z"
   },
   {
    "duration": 32,
    "start_time": "2023-11-07T13:25:44.108Z"
   },
   {
    "duration": 5,
    "start_time": "2023-11-07T13:25:44.141Z"
   },
   {
    "duration": 4,
    "start_time": "2023-11-07T13:25:44.147Z"
   },
   {
    "duration": 6,
    "start_time": "2023-11-07T13:25:44.152Z"
   },
   {
    "duration": 4,
    "start_time": "2023-11-07T13:25:44.160Z"
   },
   {
    "duration": 17,
    "start_time": "2023-11-07T13:25:44.165Z"
   },
   {
    "duration": 13,
    "start_time": "2023-11-07T13:25:44.183Z"
   },
   {
    "duration": 55,
    "start_time": "2023-11-07T13:25:44.200Z"
   },
   {
    "duration": 21,
    "start_time": "2023-11-07T13:25:44.257Z"
   },
   {
    "duration": 5,
    "start_time": "2023-11-07T13:25:44.281Z"
   },
   {
    "duration": 312,
    "start_time": "2023-11-07T13:25:44.288Z"
   },
   {
    "duration": 188,
    "start_time": "2023-11-07T13:25:44.601Z"
   },
   {
    "duration": 287,
    "start_time": "2023-11-07T13:25:44.790Z"
   },
   {
    "duration": 178,
    "start_time": "2023-11-07T13:25:45.079Z"
   },
   {
    "duration": 273,
    "start_time": "2023-11-07T13:25:45.259Z"
   },
   {
    "duration": 331,
    "start_time": "2023-11-07T13:25:45.534Z"
   },
   {
    "duration": 540,
    "start_time": "2023-11-07T13:25:45.868Z"
   },
   {
    "duration": 462,
    "start_time": "2023-11-07T13:25:46.411Z"
   },
   {
    "duration": 348,
    "start_time": "2023-11-07T13:25:46.875Z"
   },
   {
    "duration": 443,
    "start_time": "2023-11-07T13:25:47.225Z"
   },
   {
    "duration": 346,
    "start_time": "2023-11-07T13:25:47.669Z"
   },
   {
    "duration": 429,
    "start_time": "2023-11-07T13:25:48.017Z"
   },
   {
    "duration": 7,
    "start_time": "2023-11-07T13:25:48.447Z"
   },
   {
    "duration": 117,
    "start_time": "2023-11-07T13:25:48.455Z"
   },
   {
    "duration": 10,
    "start_time": "2023-11-07T13:34:25.741Z"
   },
   {
    "duration": 1190,
    "start_time": "2023-11-07T13:41:32.134Z"
   },
   {
    "duration": 75,
    "start_time": "2023-11-07T13:41:33.326Z"
   },
   {
    "duration": 12,
    "start_time": "2023-11-07T13:41:33.403Z"
   },
   {
    "duration": 40,
    "start_time": "2023-11-07T13:41:33.416Z"
   },
   {
    "duration": 9,
    "start_time": "2023-11-07T13:41:33.459Z"
   },
   {
    "duration": 16,
    "start_time": "2023-11-07T13:41:33.469Z"
   },
   {
    "duration": 61,
    "start_time": "2023-11-07T13:41:33.486Z"
   },
   {
    "duration": 6,
    "start_time": "2023-11-07T13:41:33.549Z"
   },
   {
    "duration": 36,
    "start_time": "2023-11-07T13:41:33.556Z"
   },
   {
    "duration": 24,
    "start_time": "2023-11-07T13:41:33.593Z"
   },
   {
    "duration": 20,
    "start_time": "2023-11-07T13:41:33.618Z"
   },
   {
    "duration": 20,
    "start_time": "2023-11-07T13:41:33.639Z"
   },
   {
    "duration": 17,
    "start_time": "2023-11-07T13:41:33.661Z"
   },
   {
    "duration": 23,
    "start_time": "2023-11-07T13:41:33.680Z"
   },
   {
    "duration": 26,
    "start_time": "2023-11-07T13:41:33.705Z"
   },
   {
    "duration": 12,
    "start_time": "2023-11-07T13:41:33.732Z"
   },
   {
    "duration": 14,
    "start_time": "2023-11-07T13:41:33.745Z"
   },
   {
    "duration": 30,
    "start_time": "2023-11-07T13:41:33.761Z"
   },
   {
    "duration": 11,
    "start_time": "2023-11-07T13:41:33.798Z"
   },
   {
    "duration": 17,
    "start_time": "2023-11-07T13:41:33.811Z"
   },
   {
    "duration": 21,
    "start_time": "2023-11-07T13:41:33.830Z"
   },
   {
    "duration": 22,
    "start_time": "2023-11-07T13:41:33.852Z"
   },
   {
    "duration": 23,
    "start_time": "2023-11-07T13:41:33.875Z"
   },
   {
    "duration": 18,
    "start_time": "2023-11-07T13:41:33.899Z"
   },
   {
    "duration": 32,
    "start_time": "2023-11-07T13:41:33.918Z"
   },
   {
    "duration": 22,
    "start_time": "2023-11-07T13:41:33.951Z"
   },
   {
    "duration": 21,
    "start_time": "2023-11-07T13:41:33.975Z"
   },
   {
    "duration": 4,
    "start_time": "2023-11-07T13:41:33.998Z"
   },
   {
    "duration": 301,
    "start_time": "2023-11-07T13:41:34.003Z"
   },
   {
    "duration": 182,
    "start_time": "2023-11-07T13:41:34.305Z"
   },
   {
    "duration": 281,
    "start_time": "2023-11-07T13:41:34.488Z"
   },
   {
    "duration": 163,
    "start_time": "2023-11-07T13:41:34.771Z"
   },
   {
    "duration": 292,
    "start_time": "2023-11-07T13:41:34.935Z"
   },
   {
    "duration": 313,
    "start_time": "2023-11-07T13:41:35.228Z"
   },
   {
    "duration": 8,
    "start_time": "2023-11-07T13:41:35.542Z"
   },
   {
    "duration": 480,
    "start_time": "2023-11-07T13:41:35.552Z"
   },
   {
    "duration": 494,
    "start_time": "2023-11-07T13:41:36.040Z"
   },
   {
    "duration": 344,
    "start_time": "2023-11-07T13:41:36.535Z"
   },
   {
    "duration": 425,
    "start_time": "2023-11-07T13:41:36.880Z"
   },
   {
    "duration": 367,
    "start_time": "2023-11-07T13:41:37.307Z"
   },
   {
    "duration": 501,
    "start_time": "2023-11-07T13:41:37.677Z"
   },
   {
    "duration": 6,
    "start_time": "2023-11-07T13:41:38.179Z"
   },
   {
    "duration": 109,
    "start_time": "2023-11-07T13:41:38.186Z"
   },
   {
    "duration": 73,
    "start_time": "2023-11-07T19:51:50.842Z"
   },
   {
    "duration": 3,
    "start_time": "2023-11-07T20:02:30.716Z"
   },
   {
    "duration": 42,
    "start_time": "2023-11-07T20:02:51.906Z"
   },
   {
    "duration": 1354,
    "start_time": "2023-11-07T20:02:58.556Z"
   },
   {
    "duration": 214,
    "start_time": "2023-11-07T20:02:59.913Z"
   },
   {
    "duration": 15,
    "start_time": "2023-11-07T20:03:00.129Z"
   },
   {
    "duration": 47,
    "start_time": "2023-11-07T20:03:00.147Z"
   },
   {
    "duration": 49,
    "start_time": "2023-11-07T20:03:00.195Z"
   },
   {
    "duration": 63,
    "start_time": "2023-11-07T20:03:00.246Z"
   },
   {
    "duration": 114,
    "start_time": "2023-11-07T20:03:00.311Z"
   },
   {
    "duration": 48,
    "start_time": "2023-11-07T20:03:00.427Z"
   },
   {
    "duration": 73,
    "start_time": "2023-11-07T20:03:00.478Z"
   },
   {
    "duration": 76,
    "start_time": "2023-11-07T20:03:00.555Z"
   },
   {
    "duration": 96,
    "start_time": "2023-11-07T20:03:00.634Z"
   },
   {
    "duration": 48,
    "start_time": "2023-11-07T20:03:00.732Z"
   },
   {
    "duration": 48,
    "start_time": "2023-11-07T20:03:00.782Z"
   },
   {
    "duration": 118,
    "start_time": "2023-11-07T20:03:00.832Z"
   },
   {
    "duration": 104,
    "start_time": "2023-11-07T20:03:00.952Z"
   },
   {
    "duration": 52,
    "start_time": "2023-11-07T20:03:01.058Z"
   },
   {
    "duration": 60,
    "start_time": "2023-11-07T20:03:01.112Z"
   },
   {
    "duration": 106,
    "start_time": "2023-11-07T20:03:01.174Z"
   },
   {
    "duration": 108,
    "start_time": "2023-11-07T20:03:01.282Z"
   },
   {
    "duration": 107,
    "start_time": "2023-11-07T20:03:01.392Z"
   },
   {
    "duration": 361,
    "start_time": "2023-11-07T20:03:01.502Z"
   },
   {
    "duration": 81,
    "start_time": "2023-11-07T20:03:01.866Z"
   },
   {
    "duration": 36,
    "start_time": "2023-11-07T20:03:01.949Z"
   },
   {
    "duration": 60,
    "start_time": "2023-11-07T20:03:01.987Z"
   },
   {
    "duration": 74,
    "start_time": "2023-11-07T20:03:02.049Z"
   },
   {
    "duration": 39,
    "start_time": "2023-11-07T20:03:02.125Z"
   },
   {
    "duration": 51,
    "start_time": "2023-11-07T20:03:02.166Z"
   },
   {
    "duration": 80,
    "start_time": "2023-11-07T20:03:02.220Z"
   },
   {
    "duration": 377,
    "start_time": "2023-11-07T20:03:02.301Z"
   },
   {
    "duration": 198,
    "start_time": "2023-11-07T20:03:02.681Z"
   },
   {
    "duration": 305,
    "start_time": "2023-11-07T20:03:02.881Z"
   },
   {
    "duration": 190,
    "start_time": "2023-11-07T20:03:03.188Z"
   },
   {
    "duration": 291,
    "start_time": "2023-11-07T20:03:03.380Z"
   },
   {
    "duration": 363,
    "start_time": "2023-11-07T20:03:03.672Z"
   },
   {
    "duration": 12,
    "start_time": "2023-11-07T20:03:04.037Z"
   },
   {
    "duration": 616,
    "start_time": "2023-11-07T20:03:04.050Z"
   },
   {
    "duration": 517,
    "start_time": "2023-11-07T20:03:04.668Z"
   },
   {
    "duration": 381,
    "start_time": "2023-11-07T20:03:05.187Z"
   },
   {
    "duration": 451,
    "start_time": "2023-11-07T20:03:05.569Z"
   },
   {
    "duration": 432,
    "start_time": "2023-11-07T20:03:06.022Z"
   },
   {
    "duration": 527,
    "start_time": "2023-11-07T20:03:06.455Z"
   },
   {
    "duration": 9,
    "start_time": "2023-11-07T20:03:06.983Z"
   },
   {
    "duration": 130,
    "start_time": "2023-11-07T20:03:06.994Z"
   },
   {
    "duration": 19,
    "start_time": "2023-11-07T20:04:51.335Z"
   },
   {
    "duration": 386,
    "start_time": "2023-11-07T20:07:37.785Z"
   },
   {
    "duration": 359,
    "start_time": "2023-11-07T20:07:54.376Z"
   },
   {
    "duration": 615,
    "start_time": "2023-11-07T20:08:52.095Z"
   },
   {
    "duration": 267,
    "start_time": "2023-11-07T20:09:25.308Z"
   },
   {
    "duration": 322,
    "start_time": "2023-11-07T20:14:49.656Z"
   },
   {
    "duration": 171,
    "start_time": "2023-11-07T20:15:28.910Z"
   },
   {
    "duration": 75,
    "start_time": "2023-11-07T20:15:42.510Z"
   },
   {
    "duration": 115,
    "start_time": "2023-11-07T20:19:02.175Z"
   },
   {
    "duration": 1295,
    "start_time": "2023-11-07T20:19:23.525Z"
   },
   {
    "duration": 74,
    "start_time": "2023-11-07T20:19:24.822Z"
   },
   {
    "duration": 14,
    "start_time": "2023-11-07T20:19:24.897Z"
   },
   {
    "duration": 31,
    "start_time": "2023-11-07T20:19:24.914Z"
   },
   {
    "duration": 2,
    "start_time": "2023-11-07T20:19:24.947Z"
   },
   {
    "duration": 9,
    "start_time": "2023-11-07T20:19:24.950Z"
   },
   {
    "duration": 63,
    "start_time": "2023-11-07T20:19:24.960Z"
   },
   {
    "duration": 6,
    "start_time": "2023-11-07T20:19:25.024Z"
   },
   {
    "duration": 16,
    "start_time": "2023-11-07T20:19:25.032Z"
   },
   {
    "duration": 6,
    "start_time": "2023-11-07T20:19:25.051Z"
   },
   {
    "duration": 6,
    "start_time": "2023-11-07T20:19:25.058Z"
   },
   {
    "duration": 10,
    "start_time": "2023-11-07T20:19:25.066Z"
   },
   {
    "duration": 5,
    "start_time": "2023-11-07T20:19:25.078Z"
   },
   {
    "duration": 5,
    "start_time": "2023-11-07T20:19:25.085Z"
   },
   {
    "duration": 20,
    "start_time": "2023-11-07T20:19:25.091Z"
   },
   {
    "duration": 5,
    "start_time": "2023-11-07T20:19:25.113Z"
   },
   {
    "duration": 5,
    "start_time": "2023-11-07T20:19:25.120Z"
   },
   {
    "duration": 4,
    "start_time": "2023-11-07T20:19:25.145Z"
   },
   {
    "duration": 6,
    "start_time": "2023-11-07T20:19:25.151Z"
   },
   {
    "duration": 6,
    "start_time": "2023-11-07T20:19:25.158Z"
   },
   {
    "duration": 5,
    "start_time": "2023-11-07T20:19:25.167Z"
   },
   {
    "duration": 11,
    "start_time": "2023-11-07T20:19:25.174Z"
   },
   {
    "duration": 13,
    "start_time": "2023-11-07T20:19:25.187Z"
   },
   {
    "duration": 27,
    "start_time": "2023-11-07T20:19:25.202Z"
   },
   {
    "duration": 27,
    "start_time": "2023-11-07T20:19:25.231Z"
   },
   {
    "duration": 21,
    "start_time": "2023-11-07T20:19:25.260Z"
   },
   {
    "duration": 18,
    "start_time": "2023-11-07T20:19:25.283Z"
   },
   {
    "duration": 47,
    "start_time": "2023-11-07T20:19:25.304Z"
   },
   {
    "duration": 6,
    "start_time": "2023-11-07T20:19:25.352Z"
   },
   {
    "duration": 324,
    "start_time": "2023-11-07T20:19:25.360Z"
   },
   {
    "duration": 193,
    "start_time": "2023-11-07T20:19:25.685Z"
   },
   {
    "duration": 278,
    "start_time": "2023-11-07T20:19:25.880Z"
   },
   {
    "duration": 184,
    "start_time": "2023-11-07T20:19:26.160Z"
   },
   {
    "duration": 294,
    "start_time": "2023-11-07T20:19:26.346Z"
   },
   {
    "duration": 353,
    "start_time": "2023-11-07T20:19:26.641Z"
   },
   {
    "duration": 8,
    "start_time": "2023-11-07T20:19:26.996Z"
   },
   {
    "duration": 490,
    "start_time": "2023-11-07T20:19:27.006Z"
   },
   {
    "duration": 471,
    "start_time": "2023-11-07T20:19:27.499Z"
   },
   {
    "duration": 83,
    "start_time": "2023-11-07T20:19:27.971Z"
   },
   {
    "duration": 0,
    "start_time": "2023-11-07T20:19:28.056Z"
   },
   {
    "duration": 0,
    "start_time": "2023-11-07T20:19:28.058Z"
   },
   {
    "duration": 0,
    "start_time": "2023-11-07T20:19:28.059Z"
   },
   {
    "duration": 0,
    "start_time": "2023-11-07T20:19:28.061Z"
   },
   {
    "duration": 1,
    "start_time": "2023-11-07T20:19:28.062Z"
   },
   {
    "duration": 0,
    "start_time": "2023-11-07T20:19:28.064Z"
   },
   {
    "duration": 81,
    "start_time": "2023-11-07T20:20:06.462Z"
   },
   {
    "duration": 456,
    "start_time": "2023-11-07T20:22:19.952Z"
   },
   {
    "duration": 529,
    "start_time": "2023-11-07T20:25:20.992Z"
   },
   {
    "duration": 63,
    "start_time": "2023-11-07T20:28:40.152Z"
   },
   {
    "duration": 104,
    "start_time": "2023-11-07T20:30:35.032Z"
   },
   {
    "duration": 8,
    "start_time": "2023-11-07T20:30:40.858Z"
   },
   {
    "duration": 169,
    "start_time": "2023-11-07T20:35:48.855Z"
   },
   {
    "duration": 167,
    "start_time": "2023-11-07T20:36:07.302Z"
   },
   {
    "duration": 184,
    "start_time": "2023-11-07T20:36:22.654Z"
   },
   {
    "duration": 10,
    "start_time": "2023-11-07T20:39:42.354Z"
   },
   {
    "duration": 63,
    "start_time": "2023-11-07T20:40:11.854Z"
   },
   {
    "duration": 10,
    "start_time": "2023-11-07T20:40:46.862Z"
   },
   {
    "duration": 7,
    "start_time": "2023-11-07T20:40:55.124Z"
   },
   {
    "duration": 76,
    "start_time": "2023-11-07T20:41:35.485Z"
   },
   {
    "duration": 81,
    "start_time": "2023-11-07T20:42:25.144Z"
   },
   {
    "duration": 469,
    "start_time": "2023-11-07T20:44:12.854Z"
   },
   {
    "duration": 427,
    "start_time": "2023-11-07T20:44:27.007Z"
   },
   {
    "duration": 120,
    "start_time": "2023-11-07T20:44:37.443Z"
   },
   {
    "duration": 82,
    "start_time": "2023-11-07T20:44:46.147Z"
   },
   {
    "duration": 539,
    "start_time": "2023-11-07T20:44:59.035Z"
   },
   {
    "duration": 1250,
    "start_time": "2023-11-07T20:45:09.927Z"
   },
   {
    "duration": 77,
    "start_time": "2023-11-07T20:45:11.179Z"
   },
   {
    "duration": 14,
    "start_time": "2023-11-07T20:45:11.257Z"
   },
   {
    "duration": 21,
    "start_time": "2023-11-07T20:45:11.273Z"
   },
   {
    "duration": 14,
    "start_time": "2023-11-07T20:45:11.296Z"
   },
   {
    "duration": 10,
    "start_time": "2023-11-07T20:45:11.311Z"
   },
   {
    "duration": 66,
    "start_time": "2023-11-07T20:45:11.323Z"
   },
   {
    "duration": 5,
    "start_time": "2023-11-07T20:45:11.390Z"
   },
   {
    "duration": 13,
    "start_time": "2023-11-07T20:45:11.396Z"
   },
   {
    "duration": 11,
    "start_time": "2023-11-07T20:45:11.411Z"
   },
   {
    "duration": 31,
    "start_time": "2023-11-07T20:45:11.423Z"
   },
   {
    "duration": 15,
    "start_time": "2023-11-07T20:45:11.456Z"
   },
   {
    "duration": 15,
    "start_time": "2023-11-07T20:45:11.473Z"
   },
   {
    "duration": 16,
    "start_time": "2023-11-07T20:45:11.489Z"
   },
   {
    "duration": 7,
    "start_time": "2023-11-07T20:45:11.507Z"
   },
   {
    "duration": 8,
    "start_time": "2023-11-07T20:45:11.516Z"
   },
   {
    "duration": 18,
    "start_time": "2023-11-07T20:45:11.526Z"
   },
   {
    "duration": 9,
    "start_time": "2023-11-07T20:45:11.546Z"
   },
   {
    "duration": 7,
    "start_time": "2023-11-07T20:45:11.556Z"
   },
   {
    "duration": 12,
    "start_time": "2023-11-07T20:45:11.565Z"
   },
   {
    "duration": 14,
    "start_time": "2023-11-07T20:45:11.579Z"
   },
   {
    "duration": 15,
    "start_time": "2023-11-07T20:45:11.595Z"
   },
   {
    "duration": 21,
    "start_time": "2023-11-07T20:45:11.611Z"
   },
   {
    "duration": 20,
    "start_time": "2023-11-07T20:45:11.633Z"
   },
   {
    "duration": 14,
    "start_time": "2023-11-07T20:45:11.655Z"
   },
   {
    "duration": 18,
    "start_time": "2023-11-07T20:45:11.671Z"
   },
   {
    "duration": 19,
    "start_time": "2023-11-07T20:45:11.691Z"
   },
   {
    "duration": 46,
    "start_time": "2023-11-07T20:45:11.714Z"
   },
   {
    "duration": 5,
    "start_time": "2023-11-07T20:45:11.762Z"
   },
   {
    "duration": 381,
    "start_time": "2023-11-07T20:45:11.769Z"
   },
   {
    "duration": 220,
    "start_time": "2023-11-07T20:45:12.152Z"
   },
   {
    "duration": 316,
    "start_time": "2023-11-07T20:45:12.374Z"
   },
   {
    "duration": 209,
    "start_time": "2023-11-07T20:45:12.692Z"
   },
   {
    "duration": 339,
    "start_time": "2023-11-07T20:45:12.903Z"
   },
   {
    "duration": 379,
    "start_time": "2023-11-07T20:45:13.245Z"
   },
   {
    "duration": 8,
    "start_time": "2023-11-07T20:45:13.626Z"
   },
   {
    "duration": 536,
    "start_time": "2023-11-07T20:45:13.636Z"
   },
   {
    "duration": 499,
    "start_time": "2023-11-07T20:45:14.174Z"
   },
   {
    "duration": 449,
    "start_time": "2023-11-07T20:45:14.675Z"
   },
   {
    "duration": 470,
    "start_time": "2023-11-07T20:45:15.126Z"
   },
   {
    "duration": 277,
    "start_time": "2023-11-07T20:45:15.598Z"
   },
   {
    "duration": 457,
    "start_time": "2023-11-07T20:45:15.877Z"
   },
   {
    "duration": 315,
    "start_time": "2023-11-07T20:45:16.337Z"
   },
   {
    "duration": 495,
    "start_time": "2023-11-07T20:45:16.655Z"
   },
   {
    "duration": 10,
    "start_time": "2023-11-07T20:45:17.152Z"
   },
   {
    "duration": 34,
    "start_time": "2023-11-07T20:45:17.163Z"
   },
   {
    "duration": 197,
    "start_time": "2023-11-07T20:46:20.001Z"
   },
   {
    "duration": 77,
    "start_time": "2023-11-07T20:47:07.966Z"
   },
   {
    "duration": 1329,
    "start_time": "2023-11-07T20:52:53.861Z"
   },
   {
    "duration": 82,
    "start_time": "2023-11-07T20:52:55.193Z"
   },
   {
    "duration": 15,
    "start_time": "2023-11-07T20:52:55.277Z"
   },
   {
    "duration": 21,
    "start_time": "2023-11-07T20:52:55.294Z"
   },
   {
    "duration": 3,
    "start_time": "2023-11-07T20:52:55.317Z"
   },
   {
    "duration": 27,
    "start_time": "2023-11-07T20:52:55.321Z"
   },
   {
    "duration": 60,
    "start_time": "2023-11-07T20:52:55.349Z"
   },
   {
    "duration": 5,
    "start_time": "2023-11-07T20:52:55.410Z"
   },
   {
    "duration": 27,
    "start_time": "2023-11-07T20:52:55.417Z"
   },
   {
    "duration": 8,
    "start_time": "2023-11-07T20:52:55.446Z"
   },
   {
    "duration": 36,
    "start_time": "2023-11-07T20:52:55.455Z"
   },
   {
    "duration": 13,
    "start_time": "2023-11-07T20:52:55.493Z"
   },
   {
    "duration": 9,
    "start_time": "2023-11-07T20:52:55.508Z"
   },
   {
    "duration": 7,
    "start_time": "2023-11-07T20:52:55.520Z"
   },
   {
    "duration": 10,
    "start_time": "2023-11-07T20:52:55.528Z"
   },
   {
    "duration": 8,
    "start_time": "2023-11-07T20:52:55.540Z"
   },
   {
    "duration": 32,
    "start_time": "2023-11-07T20:52:55.550Z"
   },
   {
    "duration": 15,
    "start_time": "2023-11-07T20:52:55.584Z"
   },
   {
    "duration": 29,
    "start_time": "2023-11-07T20:52:55.601Z"
   },
   {
    "duration": 13,
    "start_time": "2023-11-07T20:52:55.632Z"
   },
   {
    "duration": 27,
    "start_time": "2023-11-07T20:52:55.648Z"
   },
   {
    "duration": 20,
    "start_time": "2023-11-07T20:52:55.677Z"
   },
   {
    "duration": 23,
    "start_time": "2023-11-07T20:52:55.699Z"
   },
   {
    "duration": 29,
    "start_time": "2023-11-07T20:52:55.724Z"
   },
   {
    "duration": 33,
    "start_time": "2023-11-07T20:52:55.755Z"
   },
   {
    "duration": 34,
    "start_time": "2023-11-07T20:52:55.790Z"
   },
   {
    "duration": 22,
    "start_time": "2023-11-07T20:52:55.826Z"
   },
   {
    "duration": 26,
    "start_time": "2023-11-07T20:52:55.850Z"
   },
   {
    "duration": 6,
    "start_time": "2023-11-07T20:52:55.877Z"
   },
   {
    "duration": 384,
    "start_time": "2023-11-07T20:52:55.884Z"
   },
   {
    "duration": 227,
    "start_time": "2023-11-07T20:52:56.270Z"
   },
   {
    "duration": 311,
    "start_time": "2023-11-07T20:52:56.499Z"
   },
   {
    "duration": 206,
    "start_time": "2023-11-07T20:52:56.812Z"
   },
   {
    "duration": 314,
    "start_time": "2023-11-07T20:52:57.020Z"
   },
   {
    "duration": 385,
    "start_time": "2023-11-07T20:52:57.335Z"
   },
   {
    "duration": 9,
    "start_time": "2023-11-07T20:52:57.722Z"
   },
   {
    "duration": 495,
    "start_time": "2023-11-07T20:52:57.733Z"
   },
   {
    "duration": 504,
    "start_time": "2023-11-07T20:52:58.230Z"
   },
   {
    "duration": 518,
    "start_time": "2023-11-07T20:52:58.736Z"
   },
   {
    "duration": 492,
    "start_time": "2023-11-07T20:52:59.255Z"
   },
   {
    "duration": 289,
    "start_time": "2023-11-07T20:52:59.751Z"
   },
   {
    "duration": 510,
    "start_time": "2023-11-07T20:53:00.045Z"
   },
   {
    "duration": 328,
    "start_time": "2023-11-07T20:53:00.557Z"
   },
   {
    "duration": 489,
    "start_time": "2023-11-07T20:53:00.887Z"
   },
   {
    "duration": 8,
    "start_time": "2023-11-07T20:53:01.378Z"
   },
   {
    "duration": 51,
    "start_time": "2023-11-07T20:53:01.388Z"
   },
   {
    "duration": 1370,
    "start_time": "2023-11-08T15:10:47.586Z"
   },
   {
    "duration": 82,
    "start_time": "2023-11-08T15:10:48.958Z"
   },
   {
    "duration": 15,
    "start_time": "2023-11-08T15:10:49.042Z"
   },
   {
    "duration": 21,
    "start_time": "2023-11-08T15:10:49.059Z"
   },
   {
    "duration": 13,
    "start_time": "2023-11-08T15:10:49.081Z"
   },
   {
    "duration": 7,
    "start_time": "2023-11-08T15:10:49.096Z"
   },
   {
    "duration": 83,
    "start_time": "2023-11-08T15:10:49.105Z"
   },
   {
    "duration": 6,
    "start_time": "2023-11-08T15:10:49.190Z"
   },
   {
    "duration": 11,
    "start_time": "2023-11-08T15:10:49.198Z"
   },
   {
    "duration": 30,
    "start_time": "2023-11-08T15:10:49.211Z"
   },
   {
    "duration": 8,
    "start_time": "2023-11-08T15:10:49.243Z"
   },
   {
    "duration": 18,
    "start_time": "2023-11-08T15:10:49.252Z"
   },
   {
    "duration": 17,
    "start_time": "2023-11-08T15:10:49.272Z"
   },
   {
    "duration": 7,
    "start_time": "2023-11-08T15:10:49.291Z"
   },
   {
    "duration": 21,
    "start_time": "2023-11-08T15:10:49.299Z"
   },
   {
    "duration": 21,
    "start_time": "2023-11-08T15:10:49.322Z"
   },
   {
    "duration": 13,
    "start_time": "2023-11-08T15:10:49.349Z"
   },
   {
    "duration": 19,
    "start_time": "2023-11-08T15:10:49.363Z"
   },
   {
    "duration": 21,
    "start_time": "2023-11-08T15:10:49.384Z"
   },
   {
    "duration": 10,
    "start_time": "2023-11-08T15:10:49.407Z"
   },
   {
    "duration": 7,
    "start_time": "2023-11-08T15:10:49.419Z"
   },
   {
    "duration": 17,
    "start_time": "2023-11-08T15:10:49.429Z"
   },
   {
    "duration": 10,
    "start_time": "2023-11-08T15:10:49.448Z"
   },
   {
    "duration": 21,
    "start_time": "2023-11-08T15:10:49.460Z"
   },
   {
    "duration": 27,
    "start_time": "2023-11-08T15:10:49.482Z"
   },
   {
    "duration": 26,
    "start_time": "2023-11-08T15:10:49.511Z"
   },
   {
    "duration": 20,
    "start_time": "2023-11-08T15:10:49.538Z"
   },
   {
    "duration": 23,
    "start_time": "2023-11-08T15:10:49.561Z"
   },
   {
    "duration": 11,
    "start_time": "2023-11-08T15:10:49.585Z"
   },
   {
    "duration": 368,
    "start_time": "2023-11-08T15:10:49.598Z"
   },
   {
    "duration": 192,
    "start_time": "2023-11-08T15:10:49.967Z"
   },
   {
    "duration": 276,
    "start_time": "2023-11-08T15:10:50.161Z"
   },
   {
    "duration": 180,
    "start_time": "2023-11-08T15:10:50.438Z"
   },
   {
    "duration": 311,
    "start_time": "2023-11-08T15:10:50.624Z"
   },
   {
    "duration": 342,
    "start_time": "2023-11-08T15:10:50.941Z"
   },
   {
    "duration": 9,
    "start_time": "2023-11-08T15:10:51.284Z"
   },
   {
    "duration": 485,
    "start_time": "2023-11-08T15:10:51.295Z"
   },
   {
    "duration": 482,
    "start_time": "2023-11-08T15:10:51.782Z"
   },
   {
    "duration": 442,
    "start_time": "2023-11-08T15:10:52.266Z"
   },
   {
    "duration": 481,
    "start_time": "2023-11-08T15:10:52.710Z"
   },
   {
    "duration": 284,
    "start_time": "2023-11-08T15:10:53.193Z"
   },
   {
    "duration": 476,
    "start_time": "2023-11-08T15:10:53.479Z"
   },
   {
    "duration": 319,
    "start_time": "2023-11-08T15:10:53.956Z"
   },
   {
    "duration": 487,
    "start_time": "2023-11-08T15:10:54.276Z"
   },
   {
    "duration": 9,
    "start_time": "2023-11-08T15:10:54.764Z"
   },
   {
    "duration": 67,
    "start_time": "2023-11-08T15:10:54.775Z"
   },
   {
    "duration": 1206,
    "start_time": "2023-11-08T15:18:20.046Z"
   },
   {
    "duration": 84,
    "start_time": "2023-11-08T15:18:21.254Z"
   },
   {
    "duration": 15,
    "start_time": "2023-11-08T15:18:21.339Z"
   },
   {
    "duration": 26,
    "start_time": "2023-11-08T15:18:21.355Z"
   },
   {
    "duration": 23,
    "start_time": "2023-11-08T15:18:21.382Z"
   },
   {
    "duration": 36,
    "start_time": "2023-11-08T15:18:21.406Z"
   },
   {
    "duration": 76,
    "start_time": "2023-11-08T15:18:21.443Z"
   },
   {
    "duration": 17,
    "start_time": "2023-11-08T15:18:21.520Z"
   },
   {
    "duration": 13,
    "start_time": "2023-11-08T15:18:21.539Z"
   },
   {
    "duration": 29,
    "start_time": "2023-11-08T15:18:21.555Z"
   },
   {
    "duration": 22,
    "start_time": "2023-11-08T15:18:21.586Z"
   },
   {
    "duration": 41,
    "start_time": "2023-11-08T15:18:21.609Z"
   },
   {
    "duration": 27,
    "start_time": "2023-11-08T15:18:21.652Z"
   },
   {
    "duration": 23,
    "start_time": "2023-11-08T15:18:21.680Z"
   },
   {
    "duration": 41,
    "start_time": "2023-11-08T15:18:21.704Z"
   },
   {
    "duration": 8,
    "start_time": "2023-11-08T15:18:21.746Z"
   },
   {
    "duration": 17,
    "start_time": "2023-11-08T15:18:21.756Z"
   },
   {
    "duration": 17,
    "start_time": "2023-11-08T15:18:21.774Z"
   },
   {
    "duration": 29,
    "start_time": "2023-11-08T15:18:21.793Z"
   },
   {
    "duration": 21,
    "start_time": "2023-11-08T15:18:21.824Z"
   },
   {
    "duration": 23,
    "start_time": "2023-11-08T15:18:21.847Z"
   },
   {
    "duration": 44,
    "start_time": "2023-11-08T15:18:21.871Z"
   },
   {
    "duration": 93,
    "start_time": "2023-11-08T15:18:21.917Z"
   },
   {
    "duration": 68,
    "start_time": "2023-11-08T15:18:22.012Z"
   },
   {
    "duration": 14,
    "start_time": "2023-11-08T15:18:22.082Z"
   },
   {
    "duration": 26,
    "start_time": "2023-11-08T15:18:22.098Z"
   },
   {
    "duration": 110,
    "start_time": "2023-11-08T15:18:22.130Z"
   },
   {
    "duration": 136,
    "start_time": "2023-11-08T15:18:22.243Z"
   },
   {
    "duration": 151,
    "start_time": "2023-11-08T15:18:22.381Z"
   },
   {
    "duration": 370,
    "start_time": "2023-11-08T15:18:22.535Z"
   },
   {
    "duration": 208,
    "start_time": "2023-11-08T15:18:22.906Z"
   },
   {
    "duration": 293,
    "start_time": "2023-11-08T15:18:23.115Z"
   },
   {
    "duration": 205,
    "start_time": "2023-11-08T15:18:23.410Z"
   },
   {
    "duration": 307,
    "start_time": "2023-11-08T15:18:23.617Z"
   },
   {
    "duration": 377,
    "start_time": "2023-11-08T15:18:23.925Z"
   },
   {
    "duration": 9,
    "start_time": "2023-11-08T15:18:24.304Z"
   },
   {
    "duration": 503,
    "start_time": "2023-11-08T15:18:24.324Z"
   },
   {
    "duration": 509,
    "start_time": "2023-11-08T15:18:24.834Z"
   },
   {
    "duration": 496,
    "start_time": "2023-11-08T15:18:25.345Z"
   },
   {
    "duration": 497,
    "start_time": "2023-11-08T15:18:25.844Z"
   },
   {
    "duration": 258,
    "start_time": "2023-11-08T15:18:26.342Z"
   },
   {
    "duration": 465,
    "start_time": "2023-11-08T15:18:26.602Z"
   },
   {
    "duration": 319,
    "start_time": "2023-11-08T15:18:27.068Z"
   },
   {
    "duration": 470,
    "start_time": "2023-11-08T15:18:27.388Z"
   },
   {
    "duration": 9,
    "start_time": "2023-11-08T15:18:27.860Z"
   },
   {
    "duration": 38,
    "start_time": "2023-11-08T15:18:27.870Z"
   },
   {
    "duration": 73,
    "start_time": "2023-11-08T16:44:01.553Z"
   },
   {
    "duration": 1419,
    "start_time": "2023-11-08T16:44:07.705Z"
   },
   {
    "duration": 117,
    "start_time": "2023-11-08T16:44:09.126Z"
   },
   {
    "duration": 16,
    "start_time": "2023-11-08T16:44:09.244Z"
   },
   {
    "duration": 39,
    "start_time": "2023-11-08T16:44:09.261Z"
   },
   {
    "duration": 21,
    "start_time": "2023-11-08T16:44:09.302Z"
   },
   {
    "duration": 25,
    "start_time": "2023-11-08T16:44:09.325Z"
   },
   {
    "duration": 87,
    "start_time": "2023-11-08T16:44:09.352Z"
   },
   {
    "duration": 5,
    "start_time": "2023-11-08T16:44:09.441Z"
   },
   {
    "duration": 26,
    "start_time": "2023-11-08T16:44:09.447Z"
   },
   {
    "duration": 19,
    "start_time": "2023-11-08T16:44:09.475Z"
   },
   {
    "duration": 31,
    "start_time": "2023-11-08T16:44:09.495Z"
   },
   {
    "duration": 26,
    "start_time": "2023-11-08T16:44:09.528Z"
   },
   {
    "duration": 19,
    "start_time": "2023-11-08T16:44:09.556Z"
   },
   {
    "duration": 12,
    "start_time": "2023-11-08T16:44:09.577Z"
   },
   {
    "duration": 11,
    "start_time": "2023-11-08T16:44:09.590Z"
   },
   {
    "duration": 17,
    "start_time": "2023-11-08T16:44:09.602Z"
   },
   {
    "duration": 23,
    "start_time": "2023-11-08T16:44:09.622Z"
   },
   {
    "duration": 24,
    "start_time": "2023-11-08T16:44:09.646Z"
   },
   {
    "duration": 20,
    "start_time": "2023-11-08T16:44:09.672Z"
   },
   {
    "duration": 25,
    "start_time": "2023-11-08T16:44:09.694Z"
   },
   {
    "duration": 24,
    "start_time": "2023-11-08T16:44:09.721Z"
   },
   {
    "duration": 17,
    "start_time": "2023-11-08T16:44:09.746Z"
   },
   {
    "duration": 23,
    "start_time": "2023-11-08T16:44:09.765Z"
   },
   {
    "duration": 39,
    "start_time": "2023-11-08T16:44:09.790Z"
   },
   {
    "duration": 20,
    "start_time": "2023-11-08T16:44:09.831Z"
   },
   {
    "duration": 19,
    "start_time": "2023-11-08T16:44:09.853Z"
   },
   {
    "duration": 51,
    "start_time": "2023-11-08T16:44:09.874Z"
   },
   {
    "duration": 26,
    "start_time": "2023-11-08T16:44:09.927Z"
   },
   {
    "duration": 4,
    "start_time": "2023-11-08T16:44:09.955Z"
   },
   {
    "duration": 341,
    "start_time": "2023-11-08T16:44:09.961Z"
   },
   {
    "duration": 196,
    "start_time": "2023-11-08T16:44:10.304Z"
   },
   {
    "duration": 316,
    "start_time": "2023-11-08T16:44:10.506Z"
   },
   {
    "duration": 179,
    "start_time": "2023-11-08T16:44:10.823Z"
   },
   {
    "duration": 300,
    "start_time": "2023-11-08T16:44:11.004Z"
   },
   {
    "duration": 372,
    "start_time": "2023-11-08T16:44:11.306Z"
   },
   {
    "duration": 9,
    "start_time": "2023-11-08T16:44:11.680Z"
   },
   {
    "duration": 141,
    "start_time": "2023-11-08T16:44:11.691Z"
   },
   {
    "duration": 0,
    "start_time": "2023-11-08T16:44:11.833Z"
   },
   {
    "duration": 0,
    "start_time": "2023-11-08T16:44:11.835Z"
   },
   {
    "duration": 0,
    "start_time": "2023-11-08T16:44:11.836Z"
   },
   {
    "duration": 0,
    "start_time": "2023-11-08T16:44:11.838Z"
   },
   {
    "duration": 0,
    "start_time": "2023-11-08T16:44:11.839Z"
   },
   {
    "duration": 0,
    "start_time": "2023-11-08T16:44:11.840Z"
   },
   {
    "duration": 0,
    "start_time": "2023-11-08T16:44:11.841Z"
   },
   {
    "duration": 0,
    "start_time": "2023-11-08T16:44:11.843Z"
   },
   {
    "duration": 0,
    "start_time": "2023-11-08T16:44:11.844Z"
   },
   {
    "duration": 76,
    "start_time": "2023-11-08T16:48:49.304Z"
   },
   {
    "duration": 16,
    "start_time": "2023-11-08T16:48:58.190Z"
   },
   {
    "duration": 11,
    "start_time": "2023-11-08T16:53:10.818Z"
   },
   {
    "duration": 22,
    "start_time": "2023-11-08T16:53:26.388Z"
   },
   {
    "duration": 1208,
    "start_time": "2023-11-08T16:54:39.461Z"
   },
   {
    "duration": 81,
    "start_time": "2023-11-08T16:54:40.671Z"
   },
   {
    "duration": 20,
    "start_time": "2023-11-08T16:54:40.754Z"
   },
   {
    "duration": 19,
    "start_time": "2023-11-08T16:54:40.776Z"
   },
   {
    "duration": 18,
    "start_time": "2023-11-08T16:54:40.797Z"
   },
   {
    "duration": 6,
    "start_time": "2023-11-08T16:54:40.817Z"
   },
   {
    "duration": 64,
    "start_time": "2023-11-08T16:54:40.825Z"
   },
   {
    "duration": 7,
    "start_time": "2023-11-08T16:54:40.891Z"
   },
   {
    "duration": 14,
    "start_time": "2023-11-08T16:54:40.899Z"
   },
   {
    "duration": 16,
    "start_time": "2023-11-08T16:54:40.916Z"
   },
   {
    "duration": 5,
    "start_time": "2023-11-08T16:54:40.934Z"
   },
   {
    "duration": 17,
    "start_time": "2023-11-08T16:54:40.941Z"
   },
   {
    "duration": 5,
    "start_time": "2023-11-08T16:54:40.960Z"
   },
   {
    "duration": 4,
    "start_time": "2023-11-08T16:54:40.969Z"
   },
   {
    "duration": 6,
    "start_time": "2023-11-08T16:54:40.974Z"
   },
   {
    "duration": 5,
    "start_time": "2023-11-08T16:54:40.982Z"
   },
   {
    "duration": 7,
    "start_time": "2023-11-08T16:54:41.014Z"
   },
   {
    "duration": 19,
    "start_time": "2023-11-08T16:54:41.023Z"
   },
   {
    "duration": 12,
    "start_time": "2023-11-08T16:54:41.043Z"
   },
   {
    "duration": 11,
    "start_time": "2023-11-08T16:54:41.056Z"
   },
   {
    "duration": 3,
    "start_time": "2023-11-08T16:54:41.069Z"
   },
   {
    "duration": 10,
    "start_time": "2023-11-08T16:54:41.073Z"
   },
   {
    "duration": 17,
    "start_time": "2023-11-08T16:54:41.085Z"
   },
   {
    "duration": 25,
    "start_time": "2023-11-08T16:54:41.104Z"
   },
   {
    "duration": 15,
    "start_time": "2023-11-08T16:54:41.131Z"
   },
   {
    "duration": 28,
    "start_time": "2023-11-08T16:54:41.148Z"
   },
   {
    "duration": 19,
    "start_time": "2023-11-08T16:54:41.178Z"
   },
   {
    "duration": 34,
    "start_time": "2023-11-08T16:54:41.198Z"
   },
   {
    "duration": 7,
    "start_time": "2023-11-08T16:54:41.234Z"
   },
   {
    "duration": 398,
    "start_time": "2023-11-08T16:54:41.242Z"
   },
   {
    "duration": 204,
    "start_time": "2023-11-08T16:54:41.642Z"
   },
   {
    "duration": 337,
    "start_time": "2023-11-08T16:54:41.848Z"
   },
   {
    "duration": 199,
    "start_time": "2023-11-08T16:54:42.187Z"
   },
   {
    "duration": 371,
    "start_time": "2023-11-08T16:54:42.388Z"
   },
   {
    "duration": 397,
    "start_time": "2023-11-08T16:54:42.761Z"
   },
   {
    "duration": 68,
    "start_time": "2023-11-08T16:54:43.159Z"
   },
   {
    "duration": 0,
    "start_time": "2023-11-08T16:54:43.230Z"
   },
   {
    "duration": 0,
    "start_time": "2023-11-08T16:54:43.231Z"
   },
   {
    "duration": 0,
    "start_time": "2023-11-08T16:54:43.232Z"
   },
   {
    "duration": 0,
    "start_time": "2023-11-08T16:54:43.233Z"
   },
   {
    "duration": 0,
    "start_time": "2023-11-08T16:54:43.234Z"
   },
   {
    "duration": 0,
    "start_time": "2023-11-08T16:54:43.235Z"
   },
   {
    "duration": 0,
    "start_time": "2023-11-08T16:54:43.237Z"
   },
   {
    "duration": 0,
    "start_time": "2023-11-08T16:54:43.238Z"
   },
   {
    "duration": 0,
    "start_time": "2023-11-08T16:54:43.240Z"
   },
   {
    "duration": 0,
    "start_time": "2023-11-08T16:54:43.242Z"
   },
   {
    "duration": 0,
    "start_time": "2023-11-08T16:54:43.244Z"
   },
   {
    "duration": 553,
    "start_time": "2023-11-08T17:01:42.372Z"
   },
   {
    "duration": 484,
    "start_time": "2023-11-08T17:02:11.079Z"
   },
   {
    "duration": 495,
    "start_time": "2023-11-08T17:02:46.405Z"
   },
   {
    "duration": 582,
    "start_time": "2023-11-08T17:03:05.859Z"
   },
   {
    "duration": 10,
    "start_time": "2023-11-08T17:05:31.188Z"
   },
   {
    "duration": 74,
    "start_time": "2023-11-08T17:05:49.737Z"
   },
   {
    "duration": 7,
    "start_time": "2023-11-08T17:06:22.286Z"
   },
   {
    "duration": 1190,
    "start_time": "2023-11-08T17:32:13.870Z"
   },
   {
    "duration": 76,
    "start_time": "2023-11-08T17:32:15.062Z"
   },
   {
    "duration": 72,
    "start_time": "2023-11-08T17:32:15.140Z"
   },
   {
    "duration": 32,
    "start_time": "2023-11-08T17:32:15.215Z"
   },
   {
    "duration": 26,
    "start_time": "2023-11-08T17:32:15.249Z"
   },
   {
    "duration": 39,
    "start_time": "2023-11-08T17:32:15.277Z"
   },
   {
    "duration": 104,
    "start_time": "2023-11-08T17:32:15.318Z"
   },
   {
    "duration": 8,
    "start_time": "2023-11-08T17:32:15.423Z"
   },
   {
    "duration": 47,
    "start_time": "2023-11-08T17:32:15.433Z"
   },
   {
    "duration": 66,
    "start_time": "2023-11-08T17:32:15.483Z"
   },
   {
    "duration": 67,
    "start_time": "2023-11-08T17:32:15.551Z"
   },
   {
    "duration": 89,
    "start_time": "2023-11-08T17:32:15.620Z"
   },
   {
    "duration": 48,
    "start_time": "2023-11-08T17:32:15.711Z"
   },
   {
    "duration": 59,
    "start_time": "2023-11-08T17:32:15.761Z"
   },
   {
    "duration": 129,
    "start_time": "2023-11-08T17:32:15.824Z"
   },
   {
    "duration": 97,
    "start_time": "2023-11-08T17:32:15.955Z"
   },
   {
    "duration": 64,
    "start_time": "2023-11-08T17:32:16.054Z"
   },
   {
    "duration": 60,
    "start_time": "2023-11-08T17:32:16.120Z"
   },
   {
    "duration": 106,
    "start_time": "2023-11-08T17:32:16.183Z"
   },
   {
    "duration": 62,
    "start_time": "2023-11-08T17:32:16.291Z"
   },
   {
    "duration": 58,
    "start_time": "2023-11-08T17:32:16.356Z"
   },
   {
    "duration": 84,
    "start_time": "2023-11-08T17:32:16.417Z"
   },
   {
    "duration": 33,
    "start_time": "2023-11-08T17:32:16.504Z"
   },
   {
    "duration": 60,
    "start_time": "2023-11-08T17:32:16.539Z"
   },
   {
    "duration": 42,
    "start_time": "2023-11-08T17:32:16.601Z"
   },
   {
    "duration": 36,
    "start_time": "2023-11-08T17:32:16.644Z"
   },
   {
    "duration": 20,
    "start_time": "2023-11-08T17:32:16.682Z"
   },
   {
    "duration": 39,
    "start_time": "2023-11-08T17:32:16.705Z"
   },
   {
    "duration": 22,
    "start_time": "2023-11-08T17:32:16.745Z"
   },
   {
    "duration": 375,
    "start_time": "2023-11-08T17:32:16.768Z"
   },
   {
    "duration": 196,
    "start_time": "2023-11-08T17:32:17.145Z"
   },
   {
    "duration": 273,
    "start_time": "2023-11-08T17:32:17.343Z"
   },
   {
    "duration": 183,
    "start_time": "2023-11-08T17:32:17.623Z"
   },
   {
    "duration": 296,
    "start_time": "2023-11-08T17:32:17.808Z"
   },
   {
    "duration": 363,
    "start_time": "2023-11-08T17:32:18.106Z"
   },
   {
    "duration": 10,
    "start_time": "2023-11-08T17:32:18.471Z"
   },
   {
    "duration": 524,
    "start_time": "2023-11-08T17:32:18.483Z"
   },
   {
    "duration": 532,
    "start_time": "2023-11-08T17:32:19.009Z"
   },
   {
    "duration": 450,
    "start_time": "2023-11-08T17:32:19.543Z"
   },
   {
    "duration": 471,
    "start_time": "2023-11-08T17:32:19.995Z"
   },
   {
    "duration": 265,
    "start_time": "2023-11-08T17:32:20.468Z"
   },
   {
    "duration": 472,
    "start_time": "2023-11-08T17:32:20.735Z"
   },
   {
    "duration": 321,
    "start_time": "2023-11-08T17:32:21.209Z"
   },
   {
    "duration": 472,
    "start_time": "2023-11-08T17:32:21.531Z"
   },
   {
    "duration": 21,
    "start_time": "2023-11-08T17:32:22.005Z"
   },
   {
    "duration": 216,
    "start_time": "2023-11-08T17:32:22.027Z"
   },
   {
    "duration": 667,
    "start_time": "2023-11-08T17:46:16.233Z"
   },
   {
    "duration": 520,
    "start_time": "2023-11-08T17:46:31.624Z"
   },
   {
    "duration": 480,
    "start_time": "2023-11-08T17:47:39.332Z"
   },
   {
    "duration": 585,
    "start_time": "2023-11-08T17:49:08.833Z"
   },
   {
    "duration": 579,
    "start_time": "2023-11-08T17:49:28.013Z"
   },
   {
    "duration": 112,
    "start_time": "2023-11-08T17:51:01.323Z"
   },
   {
    "duration": 484,
    "start_time": "2023-11-08T17:51:08.602Z"
   },
   {
    "duration": 460,
    "start_time": "2023-11-08T17:51:24.391Z"
   },
   {
    "duration": 627,
    "start_time": "2023-11-08T17:51:35.765Z"
   },
   {
    "duration": 7,
    "start_time": "2023-11-08T17:52:52.279Z"
   },
   {
    "duration": 91,
    "start_time": "2023-11-08T17:53:32.184Z"
   },
   {
    "duration": 706,
    "start_time": "2023-11-08T17:53:43.313Z"
   },
   {
    "duration": 699,
    "start_time": "2023-11-08T17:56:06.865Z"
   },
   {
    "duration": 1192,
    "start_time": "2023-11-09T01:10:47.729Z"
   },
   {
    "duration": 118,
    "start_time": "2023-11-09T01:10:48.923Z"
   },
   {
    "duration": 15,
    "start_time": "2023-11-09T01:10:49.046Z"
   },
   {
    "duration": 23,
    "start_time": "2023-11-09T01:10:49.063Z"
   },
   {
    "duration": 4,
    "start_time": "2023-11-09T01:10:49.087Z"
   },
   {
    "duration": 6,
    "start_time": "2023-11-09T01:10:49.092Z"
   },
   {
    "duration": 60,
    "start_time": "2023-11-09T01:10:49.100Z"
   },
   {
    "duration": 24,
    "start_time": "2023-11-09T01:10:49.161Z"
   },
   {
    "duration": 10,
    "start_time": "2023-11-09T01:10:49.189Z"
   },
   {
    "duration": 15,
    "start_time": "2023-11-09T01:10:49.201Z"
   },
   {
    "duration": 5,
    "start_time": "2023-11-09T01:10:49.218Z"
   },
   {
    "duration": 12,
    "start_time": "2023-11-09T01:10:49.224Z"
   },
   {
    "duration": 7,
    "start_time": "2023-11-09T01:10:49.238Z"
   },
   {
    "duration": 7,
    "start_time": "2023-11-09T01:10:49.246Z"
   },
   {
    "duration": 29,
    "start_time": "2023-11-09T01:10:49.254Z"
   },
   {
    "duration": 5,
    "start_time": "2023-11-09T01:10:49.285Z"
   },
   {
    "duration": 6,
    "start_time": "2023-11-09T01:10:49.292Z"
   },
   {
    "duration": 7,
    "start_time": "2023-11-09T01:10:49.300Z"
   },
   {
    "duration": 4,
    "start_time": "2023-11-09T01:10:49.309Z"
   },
   {
    "duration": 5,
    "start_time": "2023-11-09T01:10:49.315Z"
   },
   {
    "duration": 4,
    "start_time": "2023-11-09T01:10:49.321Z"
   },
   {
    "duration": 7,
    "start_time": "2023-11-09T01:10:49.327Z"
   },
   {
    "duration": 45,
    "start_time": "2023-11-09T01:10:49.336Z"
   },
   {
    "duration": 15,
    "start_time": "2023-11-09T01:10:49.383Z"
   },
   {
    "duration": 31,
    "start_time": "2023-11-09T01:10:49.400Z"
   },
   {
    "duration": 20,
    "start_time": "2023-11-09T01:10:49.433Z"
   },
   {
    "duration": 33,
    "start_time": "2023-11-09T01:10:49.457Z"
   },
   {
    "duration": 23,
    "start_time": "2023-11-09T01:10:49.493Z"
   },
   {
    "duration": 6,
    "start_time": "2023-11-09T01:10:49.518Z"
   },
   {
    "duration": 389,
    "start_time": "2023-11-09T01:10:49.525Z"
   },
   {
    "duration": 214,
    "start_time": "2023-11-09T01:10:49.916Z"
   },
   {
    "duration": 329,
    "start_time": "2023-11-09T01:10:50.132Z"
   },
   {
    "duration": 191,
    "start_time": "2023-11-09T01:10:50.463Z"
   },
   {
    "duration": 312,
    "start_time": "2023-11-09T01:10:50.656Z"
   },
   {
    "duration": 391,
    "start_time": "2023-11-09T01:10:50.970Z"
   },
   {
    "duration": 18,
    "start_time": "2023-11-09T01:10:51.363Z"
   },
   {
    "duration": 299,
    "start_time": "2023-11-09T01:10:51.383Z"
   },
   {
    "duration": 0,
    "start_time": "2023-11-09T01:10:51.684Z"
   },
   {
    "duration": 0,
    "start_time": "2023-11-09T01:10:51.685Z"
   },
   {
    "duration": 0,
    "start_time": "2023-11-09T01:10:51.686Z"
   },
   {
    "duration": 0,
    "start_time": "2023-11-09T01:10:51.687Z"
   },
   {
    "duration": 0,
    "start_time": "2023-11-09T01:10:51.689Z"
   },
   {
    "duration": 0,
    "start_time": "2023-11-09T01:10:51.690Z"
   },
   {
    "duration": 0,
    "start_time": "2023-11-09T01:10:51.691Z"
   },
   {
    "duration": 0,
    "start_time": "2023-11-09T01:10:51.693Z"
   },
   {
    "duration": 0,
    "start_time": "2023-11-09T01:10:51.694Z"
   },
   {
    "duration": 502,
    "start_time": "2023-11-09T01:12:09.961Z"
   },
   {
    "duration": 475,
    "start_time": "2023-11-09T01:12:36.018Z"
   },
   {
    "duration": 559,
    "start_time": "2023-11-09T01:12:45.189Z"
   },
   {
    "duration": 581,
    "start_time": "2023-11-09T01:15:10.933Z"
   },
   {
    "duration": 450,
    "start_time": "2023-11-09T01:15:12.173Z"
   },
   {
    "duration": 444,
    "start_time": "2023-11-09T01:15:12.790Z"
   },
   {
    "duration": 543,
    "start_time": "2023-11-09T01:16:47.872Z"
   },
   {
    "duration": 1391,
    "start_time": "2023-11-09T01:18:10.331Z"
   },
   {
    "duration": 87,
    "start_time": "2023-11-09T01:18:11.724Z"
   },
   {
    "duration": 16,
    "start_time": "2023-11-09T01:18:11.812Z"
   },
   {
    "duration": 21,
    "start_time": "2023-11-09T01:18:11.830Z"
   },
   {
    "duration": 5,
    "start_time": "2023-11-09T01:18:11.853Z"
   },
   {
    "duration": 32,
    "start_time": "2023-11-09T01:18:11.860Z"
   },
   {
    "duration": 55,
    "start_time": "2023-11-09T01:18:11.894Z"
   },
   {
    "duration": 6,
    "start_time": "2023-11-09T01:18:11.951Z"
   },
   {
    "duration": 11,
    "start_time": "2023-11-09T01:18:11.959Z"
   },
   {
    "duration": 7,
    "start_time": "2023-11-09T01:18:11.984Z"
   },
   {
    "duration": 5,
    "start_time": "2023-11-09T01:18:11.995Z"
   },
   {
    "duration": 9,
    "start_time": "2023-11-09T01:18:12.001Z"
   },
   {
    "duration": 5,
    "start_time": "2023-11-09T01:18:12.012Z"
   },
   {
    "duration": 6,
    "start_time": "2023-11-09T01:18:12.018Z"
   },
   {
    "duration": 10,
    "start_time": "2023-11-09T01:18:12.026Z"
   },
   {
    "duration": 7,
    "start_time": "2023-11-09T01:18:12.038Z"
   },
   {
    "duration": 45,
    "start_time": "2023-11-09T01:18:12.046Z"
   },
   {
    "duration": 6,
    "start_time": "2023-11-09T01:18:12.094Z"
   },
   {
    "duration": 5,
    "start_time": "2023-11-09T01:18:12.102Z"
   },
   {
    "duration": 6,
    "start_time": "2023-11-09T01:18:12.108Z"
   },
   {
    "duration": 4,
    "start_time": "2023-11-09T01:18:12.116Z"
   },
   {
    "duration": 8,
    "start_time": "2023-11-09T01:18:12.122Z"
   },
   {
    "duration": 11,
    "start_time": "2023-11-09T01:18:12.132Z"
   },
   {
    "duration": 58,
    "start_time": "2023-11-09T01:18:12.145Z"
   },
   {
    "duration": 17,
    "start_time": "2023-11-09T01:18:12.205Z"
   },
   {
    "duration": 21,
    "start_time": "2023-11-09T01:18:12.224Z"
   },
   {
    "duration": 49,
    "start_time": "2023-11-09T01:18:12.247Z"
   },
   {
    "duration": 24,
    "start_time": "2023-11-09T01:18:12.301Z"
   },
   {
    "duration": 7,
    "start_time": "2023-11-09T01:18:12.327Z"
   },
   {
    "duration": 370,
    "start_time": "2023-11-09T01:18:12.335Z"
   },
   {
    "duration": 203,
    "start_time": "2023-11-09T01:18:12.707Z"
   },
   {
    "duration": 318,
    "start_time": "2023-11-09T01:18:12.911Z"
   },
   {
    "duration": 199,
    "start_time": "2023-11-09T01:18:13.231Z"
   },
   {
    "duration": 306,
    "start_time": "2023-11-09T01:18:13.432Z"
   },
   {
    "duration": 386,
    "start_time": "2023-11-09T01:18:13.740Z"
   },
   {
    "duration": 9,
    "start_time": "2023-11-09T01:18:14.128Z"
   },
   {
    "duration": 570,
    "start_time": "2023-11-09T01:18:14.139Z"
   },
   {
    "duration": 517,
    "start_time": "2023-11-09T01:18:14.711Z"
   },
   {
    "duration": 490,
    "start_time": "2023-11-09T01:18:15.230Z"
   },
   {
    "duration": 495,
    "start_time": "2023-11-09T01:18:15.722Z"
   },
   {
    "duration": 294,
    "start_time": "2023-11-09T01:18:16.219Z"
   },
   {
    "duration": 590,
    "start_time": "2023-11-09T01:18:16.515Z"
   },
   {
    "duration": 334,
    "start_time": "2023-11-09T01:18:17.107Z"
   },
   {
    "duration": 500,
    "start_time": "2023-11-09T01:18:17.442Z"
   },
   {
    "duration": 10,
    "start_time": "2023-11-09T01:18:17.943Z"
   },
   {
    "duration": 14,
    "start_time": "2023-11-09T01:18:17.954Z"
   },
   {
    "duration": 70,
    "start_time": "2023-11-09T09:12:47.987Z"
   },
   {
    "duration": 1585,
    "start_time": "2023-11-09T09:12:56.168Z"
   },
   {
    "duration": 125,
    "start_time": "2023-11-09T09:12:57.755Z"
   },
   {
    "duration": 24,
    "start_time": "2023-11-09T09:12:57.882Z"
   },
   {
    "duration": 31,
    "start_time": "2023-11-09T09:12:57.908Z"
   },
   {
    "duration": 3,
    "start_time": "2023-11-09T09:12:57.947Z"
   },
   {
    "duration": 16,
    "start_time": "2023-11-09T09:12:57.952Z"
   },
   {
    "duration": 75,
    "start_time": "2023-11-09T09:12:57.969Z"
   },
   {
    "duration": 6,
    "start_time": "2023-11-09T09:12:58.045Z"
   },
   {
    "duration": 20,
    "start_time": "2023-11-09T09:12:58.052Z"
   },
   {
    "duration": 25,
    "start_time": "2023-11-09T09:12:58.074Z"
   },
   {
    "duration": 7,
    "start_time": "2023-11-09T09:12:58.101Z"
   },
   {
    "duration": 21,
    "start_time": "2023-11-09T09:12:58.110Z"
   },
   {
    "duration": 6,
    "start_time": "2023-11-09T09:12:58.137Z"
   },
   {
    "duration": 4,
    "start_time": "2023-11-09T09:12:58.147Z"
   },
   {
    "duration": 7,
    "start_time": "2023-11-09T09:12:58.153Z"
   },
   {
    "duration": 7,
    "start_time": "2023-11-09T09:12:58.161Z"
   },
   {
    "duration": 11,
    "start_time": "2023-11-09T09:12:58.170Z"
   },
   {
    "duration": 8,
    "start_time": "2023-11-09T09:12:58.182Z"
   },
   {
    "duration": 5,
    "start_time": "2023-11-09T09:12:58.191Z"
   },
   {
    "duration": 5,
    "start_time": "2023-11-09T09:12:58.198Z"
   },
   {
    "duration": 42,
    "start_time": "2023-11-09T09:12:58.205Z"
   },
   {
    "duration": 8,
    "start_time": "2023-11-09T09:12:58.249Z"
   },
   {
    "duration": 6,
    "start_time": "2023-11-09T09:12:58.258Z"
   },
   {
    "duration": 20,
    "start_time": "2023-11-09T09:12:58.265Z"
   },
   {
    "duration": 16,
    "start_time": "2023-11-09T09:12:58.287Z"
   },
   {
    "duration": 51,
    "start_time": "2023-11-09T09:12:58.305Z"
   },
   {
    "duration": 23,
    "start_time": "2023-11-09T09:12:58.358Z"
   },
   {
    "duration": 25,
    "start_time": "2023-11-09T09:12:58.383Z"
   },
   {
    "duration": 22,
    "start_time": "2023-11-09T09:12:58.409Z"
   },
   {
    "duration": 401,
    "start_time": "2023-11-09T09:12:58.433Z"
   },
   {
    "duration": 210,
    "start_time": "2023-11-09T09:12:58.836Z"
   },
   {
    "duration": 308,
    "start_time": "2023-11-09T09:12:59.049Z"
   },
   {
    "duration": 196,
    "start_time": "2023-11-09T09:12:59.359Z"
   },
   {
    "duration": 322,
    "start_time": "2023-11-09T09:12:59.557Z"
   },
   {
    "duration": 385,
    "start_time": "2023-11-09T09:12:59.881Z"
   },
   {
    "duration": 9,
    "start_time": "2023-11-09T09:13:00.268Z"
   },
   {
    "duration": 580,
    "start_time": "2023-11-09T09:13:00.279Z"
   },
   {
    "duration": 563,
    "start_time": "2023-11-09T09:13:00.861Z"
   },
   {
    "duration": 489,
    "start_time": "2023-11-09T09:13:01.426Z"
   },
   {
    "duration": 603,
    "start_time": "2023-11-09T09:13:01.918Z"
   },
   {
    "duration": 211,
    "start_time": "2023-11-09T09:13:02.526Z"
   },
   {
    "duration": 512,
    "start_time": "2023-11-09T09:13:02.740Z"
   },
   {
    "duration": 359,
    "start_time": "2023-11-09T09:13:03.254Z"
   },
   {
    "duration": 510,
    "start_time": "2023-11-09T09:13:03.615Z"
   },
   {
    "duration": 9,
    "start_time": "2023-11-09T09:13:04.127Z"
   },
   {
    "duration": 52,
    "start_time": "2023-11-09T09:13:04.137Z"
   },
   {
    "duration": 638,
    "start_time": "2023-11-09T09:13:41.206Z"
   },
   {
    "duration": 550,
    "start_time": "2023-11-09T09:15:38.204Z"
   },
   {
    "duration": 534,
    "start_time": "2023-11-09T09:21:26.233Z"
   },
   {
    "duration": 483,
    "start_time": "2023-11-09T09:21:50.272Z"
   },
   {
    "duration": 652,
    "start_time": "2023-11-09T09:25:00.644Z"
   },
   {
    "duration": 546,
    "start_time": "2023-11-09T09:25:16.129Z"
   },
   {
    "duration": 543,
    "start_time": "2023-11-09T09:25:36.636Z"
   },
   {
    "duration": 1091,
    "start_time": "2023-11-09T14:59:40.762Z"
   },
   {
    "duration": 116,
    "start_time": "2023-11-09T14:59:41.855Z"
   },
   {
    "duration": 14,
    "start_time": "2023-11-09T14:59:41.973Z"
   },
   {
    "duration": 19,
    "start_time": "2023-11-09T14:59:41.989Z"
   },
   {
    "duration": 20,
    "start_time": "2023-11-09T14:59:42.010Z"
   },
   {
    "duration": 10,
    "start_time": "2023-11-09T14:59:42.032Z"
   },
   {
    "duration": 68,
    "start_time": "2023-11-09T14:59:42.044Z"
   },
   {
    "duration": 5,
    "start_time": "2023-11-09T14:59:42.114Z"
   },
   {
    "duration": 30,
    "start_time": "2023-11-09T14:59:42.120Z"
   },
   {
    "duration": 11,
    "start_time": "2023-11-09T14:59:42.153Z"
   },
   {
    "duration": 10,
    "start_time": "2023-11-09T14:59:42.166Z"
   },
   {
    "duration": 9,
    "start_time": "2023-11-09T14:59:42.177Z"
   },
   {
    "duration": 4,
    "start_time": "2023-11-09T14:59:42.187Z"
   },
   {
    "duration": 17,
    "start_time": "2023-11-09T14:59:42.192Z"
   },
   {
    "duration": 39,
    "start_time": "2023-11-09T14:59:42.210Z"
   },
   {
    "duration": 17,
    "start_time": "2023-11-09T14:59:42.251Z"
   },
   {
    "duration": 10,
    "start_time": "2023-11-09T14:59:42.270Z"
   },
   {
    "duration": 16,
    "start_time": "2023-11-09T14:59:42.282Z"
   },
   {
    "duration": 12,
    "start_time": "2023-11-09T14:59:42.299Z"
   },
   {
    "duration": 22,
    "start_time": "2023-11-09T14:59:42.313Z"
   },
   {
    "duration": 14,
    "start_time": "2023-11-09T14:59:42.336Z"
   },
   {
    "duration": 14,
    "start_time": "2023-11-09T14:59:42.351Z"
   },
   {
    "duration": 18,
    "start_time": "2023-11-09T14:59:42.367Z"
   },
   {
    "duration": 46,
    "start_time": "2023-11-09T14:59:42.387Z"
   },
   {
    "duration": 16,
    "start_time": "2023-11-09T14:59:42.434Z"
   },
   {
    "duration": 18,
    "start_time": "2023-11-09T14:59:42.451Z"
   },
   {
    "duration": 27,
    "start_time": "2023-11-09T14:59:42.470Z"
   },
   {
    "duration": 28,
    "start_time": "2023-11-09T14:59:42.502Z"
   },
   {
    "duration": 72,
    "start_time": "2023-11-09T14:59:42.532Z"
   },
   {
    "duration": 337,
    "start_time": "2023-11-09T14:59:42.606Z"
   },
   {
    "duration": 179,
    "start_time": "2023-11-09T14:59:42.945Z"
   },
   {
    "duration": 261,
    "start_time": "2023-11-09T14:59:43.125Z"
   },
   {
    "duration": 183,
    "start_time": "2023-11-09T14:59:43.387Z"
   },
   {
    "duration": 295,
    "start_time": "2023-11-09T14:59:43.573Z"
   },
   {
    "duration": 360,
    "start_time": "2023-11-09T14:59:43.870Z"
   },
   {
    "duration": 11,
    "start_time": "2023-11-09T14:59:44.232Z"
   },
   {
    "duration": 491,
    "start_time": "2023-11-09T14:59:44.245Z"
   },
   {
    "duration": 495,
    "start_time": "2023-11-09T14:59:44.738Z"
   },
   {
    "duration": 451,
    "start_time": "2023-11-09T14:59:45.235Z"
   },
   {
    "duration": 631,
    "start_time": "2023-11-09T14:59:45.687Z"
   },
   {
    "duration": 178,
    "start_time": "2023-11-09T14:59:46.320Z"
   },
   {
    "duration": 444,
    "start_time": "2023-11-09T14:59:46.500Z"
   },
   {
    "duration": 301,
    "start_time": "2023-11-09T14:59:46.946Z"
   },
   {
    "duration": 438,
    "start_time": "2023-11-09T14:59:47.249Z"
   },
   {
    "duration": 8,
    "start_time": "2023-11-09T14:59:47.689Z"
   },
   {
    "duration": 21,
    "start_time": "2023-11-09T14:59:47.707Z"
   }
  ],
  "kernelspec": {
   "display_name": "Python [conda env:base] *",
   "language": "python",
   "name": "conda-base-py"
  },
  "language_info": {
   "codemirror_mode": {
    "name": "ipython",
    "version": 3
   },
   "file_extension": ".py",
   "mimetype": "text/x-python",
   "name": "python",
   "nbconvert_exporter": "python",
   "pygments_lexer": "ipython3",
   "version": "3.12.7"
  },
  "toc": {
   "base_numbering": 1,
   "nav_menu": {},
   "number_sections": true,
   "sideBar": true,
   "skip_h1_title": true,
   "title_cell": "Table of Contents",
   "title_sidebar": "Contents",
   "toc_cell": false,
   "toc_position": {},
   "toc_section_display": true,
   "toc_window_display": false
  }
 },
 "nbformat": 4,
 "nbformat_minor": 4
}
