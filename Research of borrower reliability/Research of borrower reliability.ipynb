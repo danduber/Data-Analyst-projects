{
 "cells": [
  {
   "cell_type": "markdown",
   "id": "4f11de00",
   "metadata": {
    "deletable": false,
    "editable": false,
    "id": "4f11de00"
   },
   "source": [
    "# Исследование надежности заемщиков"
   ]
  },
  {
   "cell_type": "markdown",
   "id": "f09d6878",
   "metadata": {
    "deletable": false,
    "editable": false,
    "id": "f09d6878"
   },
   "source": [
    "Это первая часть проекта, она будет проверена автоматически. Вторую часть проверит ревьюер. "
   ]
  },
  {
   "cell_type": "markdown",
   "id": "516620ee",
   "metadata": {
    "deletable": false,
    "editable": false,
    "id": "516620ee"
   },
   "source": [
    "## Откройте таблицу и изучите общую информацию о данных"
   ]
  },
  {
   "cell_type": "markdown",
   "id": "76a8a9ce",
   "metadata": {
    "deletable": false,
    "editable": false,
    "id": "76a8a9ce",
    "tags": [
     "start_task"
    ]
   },
   "source": [
    "**Задание 1. Импортируйте библиотеку pandas. Считайте данные из csv-файла в датафрейм и сохраните в переменную `data`. Путь к файлу:**\n",
    "\n",
    "`/datasets/data.csv`"
   ]
  },
  {
   "cell_type": "code",
   "execution_count": 1,
   "id": "fab207d0",
   "metadata": {
    "id": "fab207d0"
   },
   "outputs": [],
   "source": [
    "import pandas as pd"
   ]
  },
  {
   "cell_type": "code",
   "execution_count": 2,
   "id": "6c82b607",
   "metadata": {
    "id": "6c82b607"
   },
   "outputs": [],
   "source": [
    "data = pd.read_csv('/datasets/data.csv')"
   ]
  },
  {
   "cell_type": "markdown",
   "id": "08bbb5b3",
   "metadata": {
    "deletable": false,
    "editable": false,
    "id": "08bbb5b3",
    "tags": [
     "start_task"
    ]
   },
   "source": [
    "**Задание 2. Выведите первые 20 строчек датафрейма `data` на экран.**"
   ]
  },
  {
   "cell_type": "code",
   "execution_count": 3,
   "id": "4ff33b36",
   "metadata": {
    "id": "4ff33b36"
   },
   "outputs": [
    {
     "data": {
      "text/html": [
       "<div>\n",
       "<style scoped>\n",
       "    .dataframe tbody tr th:only-of-type {\n",
       "        vertical-align: middle;\n",
       "    }\n",
       "\n",
       "    .dataframe tbody tr th {\n",
       "        vertical-align: top;\n",
       "    }\n",
       "\n",
       "    .dataframe thead th {\n",
       "        text-align: right;\n",
       "    }\n",
       "</style>\n",
       "<table border=\"1\" class=\"dataframe\">\n",
       "  <thead>\n",
       "    <tr style=\"text-align: right;\">\n",
       "      <th></th>\n",
       "      <th>children</th>\n",
       "      <th>days_employed</th>\n",
       "      <th>dob_years</th>\n",
       "      <th>education</th>\n",
       "      <th>education_id</th>\n",
       "      <th>family_status</th>\n",
       "      <th>family_status_id</th>\n",
       "      <th>gender</th>\n",
       "      <th>income_type</th>\n",
       "      <th>debt</th>\n",
       "      <th>total_income</th>\n",
       "      <th>purpose</th>\n",
       "    </tr>\n",
       "  </thead>\n",
       "  <tbody>\n",
       "    <tr>\n",
       "      <th>0</th>\n",
       "      <td>1</td>\n",
       "      <td>-8437.673028</td>\n",
       "      <td>42</td>\n",
       "      <td>высшее</td>\n",
       "      <td>0</td>\n",
       "      <td>женат / замужем</td>\n",
       "      <td>0</td>\n",
       "      <td>F</td>\n",
       "      <td>сотрудник</td>\n",
       "      <td>0</td>\n",
       "      <td>253875.639453</td>\n",
       "      <td>покупка жилья</td>\n",
       "    </tr>\n",
       "    <tr>\n",
       "      <th>1</th>\n",
       "      <td>1</td>\n",
       "      <td>-4024.803754</td>\n",
       "      <td>36</td>\n",
       "      <td>среднее</td>\n",
       "      <td>1</td>\n",
       "      <td>женат / замужем</td>\n",
       "      <td>0</td>\n",
       "      <td>F</td>\n",
       "      <td>сотрудник</td>\n",
       "      <td>0</td>\n",
       "      <td>112080.014102</td>\n",
       "      <td>приобретение автомобиля</td>\n",
       "    </tr>\n",
       "    <tr>\n",
       "      <th>2</th>\n",
       "      <td>0</td>\n",
       "      <td>-5623.422610</td>\n",
       "      <td>33</td>\n",
       "      <td>Среднее</td>\n",
       "      <td>1</td>\n",
       "      <td>женат / замужем</td>\n",
       "      <td>0</td>\n",
       "      <td>M</td>\n",
       "      <td>сотрудник</td>\n",
       "      <td>0</td>\n",
       "      <td>145885.952297</td>\n",
       "      <td>покупка жилья</td>\n",
       "    </tr>\n",
       "    <tr>\n",
       "      <th>3</th>\n",
       "      <td>3</td>\n",
       "      <td>-4124.747207</td>\n",
       "      <td>32</td>\n",
       "      <td>среднее</td>\n",
       "      <td>1</td>\n",
       "      <td>женат / замужем</td>\n",
       "      <td>0</td>\n",
       "      <td>M</td>\n",
       "      <td>сотрудник</td>\n",
       "      <td>0</td>\n",
       "      <td>267628.550329</td>\n",
       "      <td>дополнительное образование</td>\n",
       "    </tr>\n",
       "    <tr>\n",
       "      <th>4</th>\n",
       "      <td>0</td>\n",
       "      <td>340266.072047</td>\n",
       "      <td>53</td>\n",
       "      <td>среднее</td>\n",
       "      <td>1</td>\n",
       "      <td>гражданский брак</td>\n",
       "      <td>1</td>\n",
       "      <td>F</td>\n",
       "      <td>пенсионер</td>\n",
       "      <td>0</td>\n",
       "      <td>158616.077870</td>\n",
       "      <td>сыграть свадьбу</td>\n",
       "    </tr>\n",
       "    <tr>\n",
       "      <th>5</th>\n",
       "      <td>0</td>\n",
       "      <td>-926.185831</td>\n",
       "      <td>27</td>\n",
       "      <td>высшее</td>\n",
       "      <td>0</td>\n",
       "      <td>гражданский брак</td>\n",
       "      <td>1</td>\n",
       "      <td>M</td>\n",
       "      <td>компаньон</td>\n",
       "      <td>0</td>\n",
       "      <td>255763.565419</td>\n",
       "      <td>покупка жилья</td>\n",
       "    </tr>\n",
       "    <tr>\n",
       "      <th>6</th>\n",
       "      <td>0</td>\n",
       "      <td>-2879.202052</td>\n",
       "      <td>43</td>\n",
       "      <td>высшее</td>\n",
       "      <td>0</td>\n",
       "      <td>женат / замужем</td>\n",
       "      <td>0</td>\n",
       "      <td>F</td>\n",
       "      <td>компаньон</td>\n",
       "      <td>0</td>\n",
       "      <td>240525.971920</td>\n",
       "      <td>операции с жильем</td>\n",
       "    </tr>\n",
       "    <tr>\n",
       "      <th>7</th>\n",
       "      <td>0</td>\n",
       "      <td>-152.779569</td>\n",
       "      <td>50</td>\n",
       "      <td>СРЕДНЕЕ</td>\n",
       "      <td>1</td>\n",
       "      <td>женат / замужем</td>\n",
       "      <td>0</td>\n",
       "      <td>M</td>\n",
       "      <td>сотрудник</td>\n",
       "      <td>0</td>\n",
       "      <td>135823.934197</td>\n",
       "      <td>образование</td>\n",
       "    </tr>\n",
       "    <tr>\n",
       "      <th>8</th>\n",
       "      <td>2</td>\n",
       "      <td>-6929.865299</td>\n",
       "      <td>35</td>\n",
       "      <td>ВЫСШЕЕ</td>\n",
       "      <td>0</td>\n",
       "      <td>гражданский брак</td>\n",
       "      <td>1</td>\n",
       "      <td>F</td>\n",
       "      <td>сотрудник</td>\n",
       "      <td>0</td>\n",
       "      <td>95856.832424</td>\n",
       "      <td>на проведение свадьбы</td>\n",
       "    </tr>\n",
       "    <tr>\n",
       "      <th>9</th>\n",
       "      <td>0</td>\n",
       "      <td>-2188.756445</td>\n",
       "      <td>41</td>\n",
       "      <td>среднее</td>\n",
       "      <td>1</td>\n",
       "      <td>женат / замужем</td>\n",
       "      <td>0</td>\n",
       "      <td>M</td>\n",
       "      <td>сотрудник</td>\n",
       "      <td>0</td>\n",
       "      <td>144425.938277</td>\n",
       "      <td>покупка жилья для семьи</td>\n",
       "    </tr>\n",
       "    <tr>\n",
       "      <th>10</th>\n",
       "      <td>2</td>\n",
       "      <td>-4171.483647</td>\n",
       "      <td>36</td>\n",
       "      <td>высшее</td>\n",
       "      <td>0</td>\n",
       "      <td>женат / замужем</td>\n",
       "      <td>0</td>\n",
       "      <td>M</td>\n",
       "      <td>компаньон</td>\n",
       "      <td>0</td>\n",
       "      <td>113943.491460</td>\n",
       "      <td>покупка недвижимости</td>\n",
       "    </tr>\n",
       "    <tr>\n",
       "      <th>11</th>\n",
       "      <td>0</td>\n",
       "      <td>-792.701887</td>\n",
       "      <td>40</td>\n",
       "      <td>среднее</td>\n",
       "      <td>1</td>\n",
       "      <td>женат / замужем</td>\n",
       "      <td>0</td>\n",
       "      <td>F</td>\n",
       "      <td>сотрудник</td>\n",
       "      <td>0</td>\n",
       "      <td>77069.234271</td>\n",
       "      <td>покупка коммерческой недвижимости</td>\n",
       "    </tr>\n",
       "    <tr>\n",
       "      <th>12</th>\n",
       "      <td>0</td>\n",
       "      <td>NaN</td>\n",
       "      <td>65</td>\n",
       "      <td>среднее</td>\n",
       "      <td>1</td>\n",
       "      <td>гражданский брак</td>\n",
       "      <td>1</td>\n",
       "      <td>M</td>\n",
       "      <td>пенсионер</td>\n",
       "      <td>0</td>\n",
       "      <td>NaN</td>\n",
       "      <td>сыграть свадьбу</td>\n",
       "    </tr>\n",
       "    <tr>\n",
       "      <th>13</th>\n",
       "      <td>0</td>\n",
       "      <td>-1846.641941</td>\n",
       "      <td>54</td>\n",
       "      <td>неоконченное высшее</td>\n",
       "      <td>2</td>\n",
       "      <td>женат / замужем</td>\n",
       "      <td>0</td>\n",
       "      <td>F</td>\n",
       "      <td>сотрудник</td>\n",
       "      <td>0</td>\n",
       "      <td>130458.228857</td>\n",
       "      <td>приобретение автомобиля</td>\n",
       "    </tr>\n",
       "    <tr>\n",
       "      <th>14</th>\n",
       "      <td>0</td>\n",
       "      <td>-1844.956182</td>\n",
       "      <td>56</td>\n",
       "      <td>высшее</td>\n",
       "      <td>0</td>\n",
       "      <td>гражданский брак</td>\n",
       "      <td>1</td>\n",
       "      <td>F</td>\n",
       "      <td>компаньон</td>\n",
       "      <td>1</td>\n",
       "      <td>165127.911772</td>\n",
       "      <td>покупка жилой недвижимости</td>\n",
       "    </tr>\n",
       "    <tr>\n",
       "      <th>15</th>\n",
       "      <td>1</td>\n",
       "      <td>-972.364419</td>\n",
       "      <td>26</td>\n",
       "      <td>среднее</td>\n",
       "      <td>1</td>\n",
       "      <td>женат / замужем</td>\n",
       "      <td>0</td>\n",
       "      <td>F</td>\n",
       "      <td>сотрудник</td>\n",
       "      <td>0</td>\n",
       "      <td>116820.904450</td>\n",
       "      <td>строительство собственной недвижимости</td>\n",
       "    </tr>\n",
       "    <tr>\n",
       "      <th>16</th>\n",
       "      <td>0</td>\n",
       "      <td>-1719.934226</td>\n",
       "      <td>35</td>\n",
       "      <td>среднее</td>\n",
       "      <td>1</td>\n",
       "      <td>женат / замужем</td>\n",
       "      <td>0</td>\n",
       "      <td>F</td>\n",
       "      <td>сотрудник</td>\n",
       "      <td>0</td>\n",
       "      <td>289202.704229</td>\n",
       "      <td>недвижимость</td>\n",
       "    </tr>\n",
       "    <tr>\n",
       "      <th>17</th>\n",
       "      <td>0</td>\n",
       "      <td>-2369.999720</td>\n",
       "      <td>33</td>\n",
       "      <td>высшее</td>\n",
       "      <td>0</td>\n",
       "      <td>гражданский брак</td>\n",
       "      <td>1</td>\n",
       "      <td>M</td>\n",
       "      <td>сотрудник</td>\n",
       "      <td>0</td>\n",
       "      <td>90410.586745</td>\n",
       "      <td>строительство недвижимости</td>\n",
       "    </tr>\n",
       "    <tr>\n",
       "      <th>18</th>\n",
       "      <td>0</td>\n",
       "      <td>400281.136913</td>\n",
       "      <td>53</td>\n",
       "      <td>среднее</td>\n",
       "      <td>1</td>\n",
       "      <td>вдовец / вдова</td>\n",
       "      <td>2</td>\n",
       "      <td>F</td>\n",
       "      <td>пенсионер</td>\n",
       "      <td>0</td>\n",
       "      <td>56823.777243</td>\n",
       "      <td>на покупку подержанного автомобиля</td>\n",
       "    </tr>\n",
       "    <tr>\n",
       "      <th>19</th>\n",
       "      <td>0</td>\n",
       "      <td>-10038.818549</td>\n",
       "      <td>48</td>\n",
       "      <td>СРЕДНЕЕ</td>\n",
       "      <td>1</td>\n",
       "      <td>в разводе</td>\n",
       "      <td>3</td>\n",
       "      <td>F</td>\n",
       "      <td>сотрудник</td>\n",
       "      <td>0</td>\n",
       "      <td>242831.107982</td>\n",
       "      <td>на покупку своего автомобиля</td>\n",
       "    </tr>\n",
       "  </tbody>\n",
       "</table>\n",
       "</div>"
      ],
      "text/plain": [
       "    children  days_employed  dob_years            education  education_id  \\\n",
       "0          1   -8437.673028         42               высшее             0   \n",
       "1          1   -4024.803754         36              среднее             1   \n",
       "2          0   -5623.422610         33              Среднее             1   \n",
       "3          3   -4124.747207         32              среднее             1   \n",
       "4          0  340266.072047         53              среднее             1   \n",
       "5          0    -926.185831         27               высшее             0   \n",
       "6          0   -2879.202052         43               высшее             0   \n",
       "7          0    -152.779569         50              СРЕДНЕЕ             1   \n",
       "8          2   -6929.865299         35               ВЫСШЕЕ             0   \n",
       "9          0   -2188.756445         41              среднее             1   \n",
       "10         2   -4171.483647         36               высшее             0   \n",
       "11         0    -792.701887         40              среднее             1   \n",
       "12         0            NaN         65              среднее             1   \n",
       "13         0   -1846.641941         54  неоконченное высшее             2   \n",
       "14         0   -1844.956182         56               высшее             0   \n",
       "15         1    -972.364419         26              среднее             1   \n",
       "16         0   -1719.934226         35              среднее             1   \n",
       "17         0   -2369.999720         33               высшее             0   \n",
       "18         0  400281.136913         53              среднее             1   \n",
       "19         0  -10038.818549         48              СРЕДНЕЕ             1   \n",
       "\n",
       "       family_status  family_status_id gender income_type  debt  \\\n",
       "0    женат / замужем                 0      F   сотрудник     0   \n",
       "1    женат / замужем                 0      F   сотрудник     0   \n",
       "2    женат / замужем                 0      M   сотрудник     0   \n",
       "3    женат / замужем                 0      M   сотрудник     0   \n",
       "4   гражданский брак                 1      F   пенсионер     0   \n",
       "5   гражданский брак                 1      M   компаньон     0   \n",
       "6    женат / замужем                 0      F   компаньон     0   \n",
       "7    женат / замужем                 0      M   сотрудник     0   \n",
       "8   гражданский брак                 1      F   сотрудник     0   \n",
       "9    женат / замужем                 0      M   сотрудник     0   \n",
       "10   женат / замужем                 0      M   компаньон     0   \n",
       "11   женат / замужем                 0      F   сотрудник     0   \n",
       "12  гражданский брак                 1      M   пенсионер     0   \n",
       "13   женат / замужем                 0      F   сотрудник     0   \n",
       "14  гражданский брак                 1      F   компаньон     1   \n",
       "15   женат / замужем                 0      F   сотрудник     0   \n",
       "16   женат / замужем                 0      F   сотрудник     0   \n",
       "17  гражданский брак                 1      M   сотрудник     0   \n",
       "18    вдовец / вдова                 2      F   пенсионер     0   \n",
       "19         в разводе                 3      F   сотрудник     0   \n",
       "\n",
       "     total_income                                 purpose  \n",
       "0   253875.639453                           покупка жилья  \n",
       "1   112080.014102                 приобретение автомобиля  \n",
       "2   145885.952297                           покупка жилья  \n",
       "3   267628.550329              дополнительное образование  \n",
       "4   158616.077870                         сыграть свадьбу  \n",
       "5   255763.565419                           покупка жилья  \n",
       "6   240525.971920                       операции с жильем  \n",
       "7   135823.934197                             образование  \n",
       "8    95856.832424                   на проведение свадьбы  \n",
       "9   144425.938277                 покупка жилья для семьи  \n",
       "10  113943.491460                    покупка недвижимости  \n",
       "11   77069.234271       покупка коммерческой недвижимости  \n",
       "12            NaN                         сыграть свадьбу  \n",
       "13  130458.228857                 приобретение автомобиля  \n",
       "14  165127.911772              покупка жилой недвижимости  \n",
       "15  116820.904450  строительство собственной недвижимости  \n",
       "16  289202.704229                            недвижимость  \n",
       "17   90410.586745              строительство недвижимости  \n",
       "18   56823.777243      на покупку подержанного автомобиля  \n",
       "19  242831.107982            на покупку своего автомобиля  "
      ]
     },
     "execution_count": 3,
     "metadata": {},
     "output_type": "execute_result"
    }
   ],
   "source": [
    "data.head(20)"
   ]
  },
  {
   "cell_type": "markdown",
   "id": "c8f382ae",
   "metadata": {
    "deletable": false,
    "editable": false,
    "id": "c8f382ae",
    "tags": [
     "start_task"
    ]
   },
   "source": [
    "**Задание 3. Выведите основную информацию о датафрейме с помощью метода `info()`.**"
   ]
  },
  {
   "cell_type": "code",
   "execution_count": 4,
   "id": "e1ed9908",
   "metadata": {
    "id": "e1ed9908"
   },
   "outputs": [
    {
     "name": "stdout",
     "output_type": "stream",
     "text": [
      "<class 'pandas.core.frame.DataFrame'>\n",
      "RangeIndex: 21525 entries, 0 to 21524\n",
      "Data columns (total 12 columns):\n",
      " #   Column            Non-Null Count  Dtype  \n",
      "---  ------            --------------  -----  \n",
      " 0   children          21525 non-null  int64  \n",
      " 1   days_employed     19351 non-null  float64\n",
      " 2   dob_years         21525 non-null  int64  \n",
      " 3   education         21525 non-null  object \n",
      " 4   education_id      21525 non-null  int64  \n",
      " 5   family_status     21525 non-null  object \n",
      " 6   family_status_id  21525 non-null  int64  \n",
      " 7   gender            21525 non-null  object \n",
      " 8   income_type       21525 non-null  object \n",
      " 9   debt              21525 non-null  int64  \n",
      " 10  total_income      19351 non-null  float64\n",
      " 11  purpose           21525 non-null  object \n",
      "dtypes: float64(2), int64(5), object(5)\n",
      "memory usage: 2.0+ MB\n"
     ]
    }
   ],
   "source": [
    "data.info()"
   ]
  },
  {
   "cell_type": "markdown",
   "id": "f969a1cd",
   "metadata": {
    "deletable": false,
    "editable": false,
    "id": "f969a1cd"
   },
   "source": [
    "## Предобработка данных"
   ]
  },
  {
   "cell_type": "markdown",
   "id": "7283e864",
   "metadata": {
    "deletable": false,
    "editable": false,
    "id": "7283e864"
   },
   "source": [
    "### Удаление пропусков"
   ]
  },
  {
   "cell_type": "markdown",
   "id": "c9a0745e",
   "metadata": {
    "deletable": false,
    "editable": false,
    "id": "c9a0745e",
    "tags": [
     "start_task"
    ]
   },
   "source": [
    "**Задание 4. Выведите количество пропущенных значений для каждого столбца. Используйте комбинацию двух методов.**"
   ]
  },
  {
   "cell_type": "code",
   "execution_count": 5,
   "id": "b7a096e1",
   "metadata": {
    "id": "b7a096e1"
   },
   "outputs": [
    {
     "data": {
      "text/plain": [
       "children               0\n",
       "days_employed       2174\n",
       "dob_years              0\n",
       "education              0\n",
       "education_id           0\n",
       "family_status          0\n",
       "family_status_id       0\n",
       "gender                 0\n",
       "income_type            0\n",
       "debt                   0\n",
       "total_income        2174\n",
       "purpose                0\n",
       "dtype: int64"
      ]
     },
     "execution_count": 5,
     "metadata": {},
     "output_type": "execute_result"
    }
   ],
   "source": [
    "data.isna().sum()"
   ]
  },
  {
   "cell_type": "markdown",
   "id": "c2578616",
   "metadata": {
    "deletable": false,
    "editable": false,
    "id": "c2578616",
    "tags": [
     "start_task"
    ]
   },
   "source": [
    "**Задание 5. В двух столбцах есть пропущенные значения. Один из них — `days_employed`. Пропуски в этом столбце вы обработаете на следующем этапе. Другой столбец с пропущенными значениями — `total_income` — хранит данные о доходах. На сумму дохода сильнее всего влияет тип занятости, поэтому заполнить пропуски в этом столбце нужно медианным значением по каждому типу из столбца `income_type`. Например, у человека с типом занятости `сотрудник` пропуск в столбце `total_income` должен быть заполнен медианным доходом среди всех записей с тем же типом.**"
   ]
  },
  {
   "cell_type": "code",
   "execution_count": 6,
   "id": "e8afc4bc",
   "metadata": {
    "id": "e8afc4bc"
   },
   "outputs": [],
   "source": [
    "median_inc = data.groupby('income_type')['total_income'].median()\n",
    "for d in data['income_type'].unique():\n",
    "    data.loc[(data['income_type'] == d), 'total_income'] =\\\n",
    "    data.loc[(data['income_type'] == d), 'total_income'].fillna(median_inc[d])"
   ]
  },
  {
   "cell_type": "markdown",
   "id": "ae986d46",
   "metadata": {
    "deletable": false,
    "editable": false,
    "id": "ae986d46"
   },
   "source": [
    "### Обработка аномальных значений"
   ]
  },
  {
   "cell_type": "markdown",
   "id": "b049cbae",
   "metadata": {
    "deletable": false,
    "editable": false,
    "id": "b049cbae",
    "tags": [
     "start_task"
    ]
   },
   "source": [
    "**Задание 6. В данных могут встречаться артефакты (аномалии) — значения, которые не отражают действительность и появились по какой-то ошибке. Таким артефактом будет отрицательное количество дней трудового стажа в столбце `days_employed`. Для реальных данных это нормально. Обработайте значения в этом столбце: замените все отрицательные значения положительными с помощью метода `abs()`.**"
   ]
  },
  {
   "cell_type": "code",
   "execution_count": 7,
   "id": "187779b0",
   "metadata": {
    "id": "187779b0"
   },
   "outputs": [],
   "source": [
    "data['days_employed'] = data['days_employed'].abs()"
   ]
  },
  {
   "cell_type": "markdown",
   "id": "a13054c2",
   "metadata": {
    "deletable": false,
    "editable": false,
    "id": "a13054c2",
    "tags": [
     "start_task"
    ]
   },
   "source": [
    "**Задание 7. Для каждого типа занятости выведите медианное значение трудового стажа `days_employed` в днях.**"
   ]
  },
  {
   "cell_type": "code",
   "execution_count": 8,
   "id": "f3f5810c",
   "metadata": {
    "id": "f3f5810c"
   },
   "outputs": [
    {
     "data": {
      "text/plain": [
       "income_type\n",
       "безработный        366413.652744\n",
       "в декрете            3296.759962\n",
       "госслужащий          2689.368353\n",
       "компаньон            1547.382223\n",
       "пенсионер          365213.306266\n",
       "предприниматель       520.848083\n",
       "сотрудник            1574.202821\n",
       "студент               578.751554\n",
       "Name: days_employed, dtype: float64"
      ]
     },
     "execution_count": 8,
     "metadata": {},
     "output_type": "execute_result"
    }
   ],
   "source": [
    "data.groupby('income_type')['days_employed'].agg('median')"
   ]
  },
  {
   "cell_type": "markdown",
   "id": "dbc3168c",
   "metadata": {
    "deletable": false,
    "editable": false,
    "id": "dbc3168c"
   },
   "source": [
    "У двух типов (безработные и пенсионеры) получатся аномально большие значения. Исправить такие значения сложно, поэтому оставьте их как есть."
   ]
  },
  {
   "cell_type": "markdown",
   "id": "ff4378c2",
   "metadata": {
    "deletable": false,
    "editable": false,
    "id": "ff4378c2",
    "tags": [
     "start_task"
    ]
   },
   "source": [
    "**Задание 8. Выведите перечень уникальных значений столбца `children`.**"
   ]
  },
  {
   "cell_type": "code",
   "execution_count": 9,
   "id": "9bd0c232",
   "metadata": {
    "id": "9bd0c232"
   },
   "outputs": [
    {
     "data": {
      "text/plain": [
       "array([ 1,  0,  3,  2, -1,  4, 20,  5])"
      ]
     },
     "execution_count": 9,
     "metadata": {},
     "output_type": "execute_result"
    }
   ],
   "source": [
    "data['children'].unique()"
   ]
  },
  {
   "cell_type": "markdown",
   "id": "8e911990",
   "metadata": {
    "deletable": false,
    "editable": false,
    "id": "8e911990",
    "tags": [
     "start_task"
    ]
   },
   "source": [
    "**Задание 9. В столбце `children` есть два аномальных значения. Удалите строки, в которых встречаются такие аномальные значения из датафрейма `data`.**"
   ]
  },
  {
   "cell_type": "code",
   "execution_count": 10,
   "id": "6d5ba289",
   "metadata": {
    "id": "6d5ba289"
   },
   "outputs": [],
   "source": [
    "data = data[(data['children'] != -1) & (data['children'] != 20)]"
   ]
  },
  {
   "cell_type": "markdown",
   "id": "18d77455",
   "metadata": {
    "deletable": false,
    "editable": false,
    "id": "18d77455",
    "tags": [
     "start_task"
    ]
   },
   "source": [
    "**Задание 10. Ещё раз выведите перечень уникальных значений столбца `children`, чтобы убедиться, что артефакты удалены.**"
   ]
  },
  {
   "cell_type": "code",
   "execution_count": 11,
   "id": "2c5fa92c",
   "metadata": {
    "id": "2c5fa92c"
   },
   "outputs": [
    {
     "data": {
      "text/plain": [
       "array([1, 0, 3, 2, 4, 5])"
      ]
     },
     "execution_count": 11,
     "metadata": {},
     "output_type": "execute_result"
    }
   ],
   "source": [
    "data['children'].unique()"
   ]
  },
  {
   "cell_type": "markdown",
   "id": "0ec07dee",
   "metadata": {
    "deletable": false,
    "editable": false,
    "id": "0ec07dee"
   },
   "source": [
    "### Удаление пропусков (продолжение)"
   ]
  },
  {
   "cell_type": "markdown",
   "id": "0fc3ae3f",
   "metadata": {
    "deletable": false,
    "editable": false,
    "id": "0fc3ae3f",
    "tags": [
     "start_task"
    ]
   },
   "source": [
    "**Задание 11. Заполните пропуски в столбце `days_employed` медианными значениями по каждому типу занятости `income_type`.**"
   ]
  },
  {
   "cell_type": "code",
   "execution_count": 12,
   "id": "e2aea7ac",
   "metadata": {
    "id": "e2aea7ac"
   },
   "outputs": [],
   "source": [
    "median_days = data.groupby('income_type')['days_employed'].median()\n",
    "for i in data['income_type'].unique():\n",
    "    data.loc[(data['income_type'] == i), 'days_employed'] =\\\n",
    "    data.loc[(data['income_type'] == i), 'days_employed'].fillna(median_days[i])"
   ]
  },
  {
   "cell_type": "markdown",
   "id": "97b0b795",
   "metadata": {
    "deletable": false,
    "editable": false,
    "id": "97b0b795",
    "tags": [
     "start_task"
    ]
   },
   "source": [
    "**Задание 12. Убедитесь, что все пропуски заполнены. Проверьте себя и ещё раз выведите количество пропущенных значений для каждого столбца с помощью двух методов.**"
   ]
  },
  {
   "cell_type": "code",
   "execution_count": 13,
   "id": "79632a21",
   "metadata": {
    "id": "79632a21"
   },
   "outputs": [
    {
     "data": {
      "text/plain": [
       "children            0\n",
       "days_employed       0\n",
       "dob_years           0\n",
       "education           0\n",
       "education_id        0\n",
       "family_status       0\n",
       "family_status_id    0\n",
       "gender              0\n",
       "income_type         0\n",
       "debt                0\n",
       "total_income        0\n",
       "purpose             0\n",
       "dtype: int64"
      ]
     },
     "execution_count": 13,
     "metadata": {},
     "output_type": "execute_result"
    }
   ],
   "source": [
    "data.isna().sum()"
   ]
  },
  {
   "cell_type": "markdown",
   "id": "bd4aeb20",
   "metadata": {
    "deletable": false,
    "editable": false,
    "id": "bd4aeb20"
   },
   "source": [
    "### Изменение типов данных"
   ]
  },
  {
   "cell_type": "markdown",
   "id": "963bfa58",
   "metadata": {
    "deletable": false,
    "editable": false,
    "id": "963bfa58",
    "tags": [
     "start_task"
    ]
   },
   "source": [
    "**Задание 13. Замените вещественный тип данных в столбце `total_income` на целочисленный с помощью метода `astype()`.**"
   ]
  },
  {
   "cell_type": "code",
   "execution_count": 14,
   "id": "73da6ea0",
   "metadata": {
    "id": "73da6ea0"
   },
   "outputs": [],
   "source": [
    "data['total_income'] = data['total_income'].astype('int')"
   ]
  },
  {
   "cell_type": "markdown",
   "id": "d290239e",
   "metadata": {
    "deletable": false,
    "editable": false,
    "id": "d290239e"
   },
   "source": [
    "### Обработка дубликатов"
   ]
  },
  {
   "cell_type": "markdown",
   "id": "1b5844fd",
   "metadata": {
    "deletable": false,
    "editable": false,
    "id": "1b5844fd",
    "tags": [
     "start_task"
    ]
   },
   "source": [
    "**Задание 14. Обработайте неявные дубликаты в столбце `education`. В этом столбце есть одни и те же значения, но записанные по-разному: с использованием заглавных и строчных букв. Приведите их к нижнему регистру.**"
   ]
  },
  {
   "cell_type": "code",
   "execution_count": 15,
   "id": "3f2504b3",
   "metadata": {
    "id": "3f2504b3"
   },
   "outputs": [],
   "source": [
    "data['education'] = data['education'].str.lower()"
   ]
  },
  {
   "cell_type": "markdown",
   "id": "4c22acbc",
   "metadata": {
    "deletable": false,
    "editable": false,
    "id": "4c22acbc",
    "tags": [
     "start_task"
    ]
   },
   "source": [
    "**Задание 15. Выведите на экран количество строк-дубликатов в данных. Если такие строки присутствуют, удалите их.**"
   ]
  },
  {
   "cell_type": "code",
   "execution_count": 16,
   "id": "d34a4325",
   "metadata": {
    "id": "d34a4325"
   },
   "outputs": [
    {
     "data": {
      "text/plain": [
       "71"
      ]
     },
     "execution_count": 16,
     "metadata": {},
     "output_type": "execute_result"
    }
   ],
   "source": [
    "data.duplicated().sum()"
   ]
  },
  {
   "cell_type": "code",
   "execution_count": 17,
   "id": "6e1a6499",
   "metadata": {
    "id": "6e1a6499"
   },
   "outputs": [],
   "source": [
    "data = data.drop_duplicates()"
   ]
  },
  {
   "cell_type": "markdown",
   "id": "e5686ccc",
   "metadata": {
    "deletable": false,
    "editable": false,
    "id": "e5686ccc"
   },
   "source": [
    "### Категоризация данных"
   ]
  },
  {
   "cell_type": "markdown",
   "id": "636e9acd",
   "metadata": {
    "deletable": false,
    "editable": false,
    "id": "636e9acd",
    "tags": [
     "start_task"
    ]
   },
   "source": [
    "**Задание 16. На основании диапазонов, указанных ниже, создайте в датафрейме `data` столбец `total_income_category` с категориями:**\n",
    "\n",
    "- 0–30000 — `'E'`;\n",
    "- 30001–50000 — `'D'`;\n",
    "- 50001–200000 — `'C'`;\n",
    "- 200001–1000000 — `'B'`;\n",
    "- 1000001 и выше — `'A'`.\n",
    "\n",
    "\n",
    "**Например, кредитополучателю с доходом 25000 нужно назначить категорию `'E'`, а клиенту, получающему 235000, — `'B'`. Используйте собственную функцию с именем `categorize_income()` и метод `apply()`.**"
   ]
  },
  {
   "cell_type": "code",
   "execution_count": 18,
   "id": "880a77e5",
   "metadata": {
    "id": "880a77e5"
   },
   "outputs": [],
   "source": [
    "def categorize_income(total_income):\n",
    "    if total_income <= 30000:\n",
    "        return 'E'\n",
    "    if total_income <= 50000:\n",
    "        return 'D'\n",
    "    if total_income <= 200000:\n",
    "        return 'C'\n",
    "    if total_income <= 1000000:\n",
    "        return 'B'\n",
    "    if total_income >= 1000000:\n",
    "        return 'A'"
   ]
  },
  {
   "cell_type": "code",
   "execution_count": 19,
   "id": "6f25f161",
   "metadata": {
    "id": "6f25f161"
   },
   "outputs": [],
   "source": [
    "data['total_income_category'] = data['total_income'].apply(categorize_income)"
   ]
  },
  {
   "cell_type": "markdown",
   "id": "3363b685",
   "metadata": {
    "deletable": false,
    "editable": false,
    "id": "3363b685",
    "tags": [
     "start_task"
    ]
   },
   "source": [
    "**Задание 17. Выведите на экран перечень уникальных целей взятия кредита из столбца `purpose`.**"
   ]
  },
  {
   "cell_type": "code",
   "execution_count": 20,
   "id": "e59f2c15",
   "metadata": {
    "id": "e59f2c15"
   },
   "outputs": [
    {
     "data": {
      "text/plain": [
       "array(['покупка жилья', 'приобретение автомобиля',\n",
       "       'дополнительное образование', 'сыграть свадьбу',\n",
       "       'операции с жильем', 'образование', 'на проведение свадьбы',\n",
       "       'покупка жилья для семьи', 'покупка недвижимости',\n",
       "       'покупка коммерческой недвижимости', 'покупка жилой недвижимости',\n",
       "       'строительство собственной недвижимости', 'недвижимость',\n",
       "       'строительство недвижимости', 'на покупку подержанного автомобиля',\n",
       "       'на покупку своего автомобиля',\n",
       "       'операции с коммерческой недвижимостью',\n",
       "       'строительство жилой недвижимости', 'жилье',\n",
       "       'операции со своей недвижимостью', 'автомобили',\n",
       "       'заняться образованием', 'сделка с подержанным автомобилем',\n",
       "       'получение образования', 'автомобиль', 'свадьба',\n",
       "       'получение дополнительного образования', 'покупка своего жилья',\n",
       "       'операции с недвижимостью', 'получение высшего образования',\n",
       "       'свой автомобиль', 'сделка с автомобилем',\n",
       "       'профильное образование', 'высшее образование',\n",
       "       'покупка жилья для сдачи', 'на покупку автомобиля', 'ремонт жилью',\n",
       "       'заняться высшим образованием'], dtype=object)"
      ]
     },
     "execution_count": 20,
     "metadata": {},
     "output_type": "execute_result"
    }
   ],
   "source": [
    "data['purpose'].unique()"
   ]
  },
  {
   "cell_type": "markdown",
   "id": "bb33e847",
   "metadata": {
    "deletable": false,
    "editable": false,
    "id": "bb33e847",
    "tags": [
     "start_task"
    ]
   },
   "source": [
    "**Задание 18. Создайте функцию, которая на основании данных из столбца `purpose` сформирует новый столбец `purpose_category`, в который войдут следующие категории:**\n",
    "\n",
    "- `'операции с автомобилем'`,\n",
    "- `'операции с недвижимостью'`,\n",
    "- `'проведение свадьбы'`,\n",
    "- `'получение образования'`.\n",
    "\n",
    "**Например, если в столбце `purpose` находится подстрока `'на покупку автомобиля'`, то в столбце `purpose_category` должна появиться строка `'операции с автомобилем'`.**\n",
    "\n",
    "**Используйте собственную функцию с именем `categorize_purpose()` и метод `apply()`. Изучите данные в столбце `purpose` и определите, какие подстроки помогут вам правильно определить категорию.**"
   ]
  },
  {
   "cell_type": "code",
   "execution_count": 25,
   "id": "63909b83",
   "metadata": {
    "id": "63909b83"
   },
   "outputs": [],
   "source": [
    "def categorize_purpose(purpose):\n",
    "    if 'авто' in purpose:\n",
    "        return 'операции с автомобилем'\n",
    "    elif 'недвиж' in purpose or 'жил' in purpose:\n",
    "        return 'операции с недвижимостью'\n",
    "    elif 'свадьб'in purpose:\n",
    "        return 'проведение свадьбы'\n",
    "    elif 'образ' in purpose:\n",
    "        return 'получение образования'"
   ]
  },
  {
   "cell_type": "code",
   "execution_count": 35,
   "id": "7cb4a81d",
   "metadata": {
    "id": "7cb4a81d"
   },
   "outputs": [
    {
     "name": "stdout",
     "output_type": "stream",
     "text": [
      "children                                        3\n",
      "days_employed                         4124.747207\n",
      "dob_years                                      32\n",
      "education                                 среднее\n",
      "education_id                                    1\n",
      "family_status                     женат / замужем\n",
      "family_status_id                                0\n",
      "gender                                          M\n",
      "income_type                             сотрудник\n",
      "debt                                            0\n",
      "total_income                               267628\n",
      "purpose                дополнительное образование\n",
      "total_name_category                             B\n",
      "purpose_category         операции с недвижимостью\n",
      "Name: 3, dtype: object\n"
     ]
    }
   ],
   "source": [
    "data['purpose_category'] = data['purpose'].apply(categorize_purpose)\n",
    "print(data.loc[3])"
   ]
  },
  {
   "cell_type": "code",
   "execution_count": null,
   "id": "fe57cbf2",
   "metadata": {},
   "outputs": [],
   "source": []
  }
 ],
 "metadata": {
  "ExecuteTimeLog": [
   {
    "duration": 51,
    "start_time": "2023-09-29T11:12:24.838Z"
   },
   {
    "duration": 430,
    "start_time": "2023-09-29T11:12:40.922Z"
   },
   {
    "duration": 699,
    "start_time": "2023-09-29T11:12:41.354Z"
   },
   {
    "duration": 23,
    "start_time": "2023-09-29T11:12:42.055Z"
   },
   {
    "duration": 23,
    "start_time": "2023-09-29T11:12:42.079Z"
   },
   {
    "duration": 53,
    "start_time": "2023-09-29T11:12:52.538Z"
   },
   {
    "duration": 18,
    "start_time": "2023-09-29T11:18:25.080Z"
   },
   {
    "duration": 12,
    "start_time": "2023-09-29T11:21:55.781Z"
   },
   {
    "duration": 40,
    "start_time": "2023-09-29T11:56:53.047Z"
   },
   {
    "duration": 92,
    "start_time": "2023-09-29T12:40:56.698Z"
   },
   {
    "duration": 3,
    "start_time": "2023-09-29T13:10:34.672Z"
   },
   {
    "duration": 146,
    "start_time": "2023-09-29T13:10:34.679Z"
   },
   {
    "duration": 17,
    "start_time": "2023-09-29T13:10:34.828Z"
   },
   {
    "duration": 80,
    "start_time": "2023-09-29T13:10:34.846Z"
   },
   {
    "duration": 441,
    "start_time": "2023-09-29T13:19:16.748Z"
   },
   {
    "duration": 98,
    "start_time": "2023-09-29T13:19:17.191Z"
   },
   {
    "duration": 33,
    "start_time": "2023-09-29T13:19:17.291Z"
   },
   {
    "duration": 16,
    "start_time": "2023-09-29T13:19:17.327Z"
   },
   {
    "duration": 11,
    "start_time": "2023-09-29T13:19:17.345Z"
   },
   {
    "duration": 469,
    "start_time": "2023-09-29T13:21:56.789Z"
   },
   {
    "duration": 100,
    "start_time": "2023-09-29T13:21:57.260Z"
   },
   {
    "duration": 25,
    "start_time": "2023-09-29T13:21:57.362Z"
   },
   {
    "duration": 45,
    "start_time": "2023-09-29T13:21:57.389Z"
   },
   {
    "duration": 48,
    "start_time": "2023-09-29T13:21:57.437Z"
   },
   {
    "duration": 430,
    "start_time": "2023-09-29T13:35:01.079Z"
   },
   {
    "duration": 87,
    "start_time": "2023-09-29T13:35:01.519Z"
   },
   {
    "duration": 73,
    "start_time": "2023-09-29T13:35:01.608Z"
   },
   {
    "duration": 75,
    "start_time": "2023-09-29T13:35:01.682Z"
   },
   {
    "duration": 174,
    "start_time": "2023-09-29T13:35:01.759Z"
   },
   {
    "duration": 147,
    "start_time": "2023-09-29T13:35:01.935Z"
   },
   {
    "duration": 88,
    "start_time": "2023-09-29T13:35:02.084Z"
   },
   {
    "duration": 281,
    "start_time": "2023-09-29T13:35:02.174Z"
   },
   {
    "duration": 375,
    "start_time": "2023-09-29T13:35:02.458Z"
   },
   {
    "duration": 38,
    "start_time": "2023-09-29T13:35:02.835Z"
   },
   {
    "duration": 125,
    "start_time": "2023-09-29T13:35:02.875Z"
   },
   {
    "duration": 96,
    "start_time": "2023-09-29T13:35:03.002Z"
   },
   {
    "duration": 51,
    "start_time": "2023-09-29T13:35:03.100Z"
   },
   {
    "duration": 67,
    "start_time": "2023-09-29T13:35:03.154Z"
   },
   {
    "duration": 17,
    "start_time": "2023-09-29T13:35:03.224Z"
   },
   {
    "duration": 18,
    "start_time": "2023-09-29T13:35:03.243Z"
   },
   {
    "duration": 56,
    "start_time": "2023-09-29T13:35:03.262Z"
   },
   {
    "duration": 12,
    "start_time": "2023-09-29T13:35:03.323Z"
   },
   {
    "duration": 18,
    "start_time": "2023-09-29T13:35:03.337Z"
   },
   {
    "duration": 42,
    "start_time": "2023-09-29T13:35:03.357Z"
   },
   {
    "duration": 34,
    "start_time": "2023-09-29T13:35:03.401Z"
   },
   {
    "duration": 51,
    "start_time": "2023-09-29T13:44:46.033Z"
   },
   {
    "duration": 377,
    "start_time": "2023-09-29T13:44:50.870Z"
   },
   {
    "duration": 83,
    "start_time": "2023-09-29T13:44:52.692Z"
   },
   {
    "duration": 24,
    "start_time": "2023-09-29T13:44:54.811Z"
   },
   {
    "duration": 17,
    "start_time": "2023-09-29T13:44:59.187Z"
   },
   {
    "duration": 13,
    "start_time": "2023-09-29T13:45:01.363Z"
   },
   {
    "duration": 387,
    "start_time": "2023-09-29T13:46:15.358Z"
   },
   {
    "duration": 86,
    "start_time": "2023-09-29T13:46:16.690Z"
   },
   {
    "duration": 23,
    "start_time": "2023-09-29T13:46:18.216Z"
   },
   {
    "duration": 17,
    "start_time": "2023-09-29T13:46:22.169Z"
   },
   {
    "duration": 13,
    "start_time": "2023-09-29T13:46:24.726Z"
   },
   {
    "duration": 431,
    "start_time": "2023-09-29T13:56:46.913Z"
   },
   {
    "duration": 90,
    "start_time": "2023-09-29T13:56:48.758Z"
   },
   {
    "duration": 24,
    "start_time": "2023-09-29T13:56:50.506Z"
   },
   {
    "duration": 16,
    "start_time": "2023-09-29T13:56:54.459Z"
   },
   {
    "duration": 12,
    "start_time": "2023-09-29T13:56:56.706Z"
   },
   {
    "duration": 429,
    "start_time": "2023-09-29T14:00:57.974Z"
   },
   {
    "duration": 90,
    "start_time": "2023-09-29T14:00:58.405Z"
   },
   {
    "duration": 25,
    "start_time": "2023-09-29T14:00:58.497Z"
   },
   {
    "duration": 25,
    "start_time": "2023-09-29T14:00:58.524Z"
   },
   {
    "duration": 47,
    "start_time": "2023-09-29T14:00:58.551Z"
   },
   {
    "duration": 397,
    "start_time": "2023-09-29T14:02:09.244Z"
   },
   {
    "duration": 95,
    "start_time": "2023-09-29T14:02:09.643Z"
   },
   {
    "duration": 24,
    "start_time": "2023-09-29T14:02:09.739Z"
   },
   {
    "duration": 21,
    "start_time": "2023-09-29T14:02:09.765Z"
   },
   {
    "duration": 26,
    "start_time": "2023-09-29T14:02:09.789Z"
   },
   {
    "duration": 94,
    "start_time": "2023-09-29T14:02:09.816Z"
   },
   {
    "duration": 0,
    "start_time": "2023-09-29T14:02:09.912Z"
   },
   {
    "duration": 0,
    "start_time": "2023-09-29T14:02:09.913Z"
   },
   {
    "duration": 0,
    "start_time": "2023-09-29T14:02:09.915Z"
   },
   {
    "duration": 0,
    "start_time": "2023-09-29T14:02:09.916Z"
   },
   {
    "duration": 0,
    "start_time": "2023-09-29T14:02:09.917Z"
   },
   {
    "duration": 0,
    "start_time": "2023-09-29T14:02:09.918Z"
   },
   {
    "duration": 0,
    "start_time": "2023-09-29T14:02:09.919Z"
   },
   {
    "duration": 0,
    "start_time": "2023-09-29T14:02:09.920Z"
   },
   {
    "duration": 0,
    "start_time": "2023-09-29T14:02:09.921Z"
   },
   {
    "duration": 0,
    "start_time": "2023-09-29T14:02:09.922Z"
   },
   {
    "duration": 0,
    "start_time": "2023-09-29T14:02:09.923Z"
   },
   {
    "duration": 0,
    "start_time": "2023-09-29T14:02:09.924Z"
   },
   {
    "duration": 0,
    "start_time": "2023-09-29T14:02:09.924Z"
   },
   {
    "duration": 0,
    "start_time": "2023-09-29T14:02:09.925Z"
   },
   {
    "duration": 0,
    "start_time": "2023-09-29T14:02:09.926Z"
   },
   {
    "duration": 0,
    "start_time": "2023-09-29T14:02:09.927Z"
   },
   {
    "duration": 8,
    "start_time": "2023-09-29T14:08:14.726Z"
   },
   {
    "duration": 5,
    "start_time": "2023-09-29T14:08:18.089Z"
   },
   {
    "duration": 3,
    "start_time": "2023-09-29T14:08:27.364Z"
   },
   {
    "duration": 3,
    "start_time": "2023-09-29T14:08:31.890Z"
   },
   {
    "duration": 255,
    "start_time": "2023-09-29T14:08:31.895Z"
   },
   {
    "duration": 16,
    "start_time": "2023-09-29T14:08:32.152Z"
   },
   {
    "duration": 68,
    "start_time": "2023-09-29T14:08:32.170Z"
   },
   {
    "duration": 31,
    "start_time": "2023-09-29T14:08:32.240Z"
   },
   {
    "duration": 62,
    "start_time": "2023-09-29T14:08:32.273Z"
   },
   {
    "duration": 3,
    "start_time": "2023-09-29T14:08:34.016Z"
   },
   {
    "duration": 8,
    "start_time": "2023-09-29T14:08:35.717Z"
   },
   {
    "duration": 5,
    "start_time": "2023-09-29T14:08:38.058Z"
   },
   {
    "duration": 896,
    "start_time": "2023-09-29T14:09:51.389Z"
   },
   {
    "duration": 3,
    "start_time": "2023-09-29T14:11:36.039Z"
   },
   {
    "duration": 7,
    "start_time": "2023-09-29T14:13:22.145Z"
   },
   {
    "duration": 5,
    "start_time": "2023-09-29T14:13:38.685Z"
   },
   {
    "duration": 1904,
    "start_time": "2023-09-29T14:15:24.467Z"
   },
   {
    "duration": 1334,
    "start_time": "2023-09-29T14:17:51.019Z"
   },
   {
    "duration": 3,
    "start_time": "2023-09-29T14:20:35.027Z"
   },
   {
    "duration": 109,
    "start_time": "2023-09-29T14:20:35.032Z"
   },
   {
    "duration": 16,
    "start_time": "2023-09-29T14:20:35.143Z"
   },
   {
    "duration": 35,
    "start_time": "2023-09-29T14:20:35.161Z"
   },
   {
    "duration": 21,
    "start_time": "2023-09-29T14:20:35.199Z"
   },
   {
    "duration": 48,
    "start_time": "2023-09-29T14:20:35.222Z"
   },
   {
    "duration": 3,
    "start_time": "2023-09-29T14:20:35.272Z"
   },
   {
    "duration": 51,
    "start_time": "2023-09-29T14:20:35.277Z"
   },
   {
    "duration": 6,
    "start_time": "2023-09-29T14:20:35.331Z"
   },
   {
    "duration": 30,
    "start_time": "2023-09-29T14:20:35.339Z"
   },
   {
    "duration": 4,
    "start_time": "2023-09-29T14:20:35.372Z"
   },
   {
    "duration": 39,
    "start_time": "2023-09-29T14:20:40.005Z"
   },
   {
    "duration": 12,
    "start_time": "2023-09-29T14:22:56.156Z"
   },
   {
    "duration": 5,
    "start_time": "2023-09-29T14:23:41.973Z"
   },
   {
    "duration": 20,
    "start_time": "2023-09-29T14:27:33.412Z"
   },
   {
    "duration": 12,
    "start_time": "2023-09-29T14:27:45.719Z"
   },
   {
    "duration": 3,
    "start_time": "2023-09-29T14:28:09.432Z"
   },
   {
    "duration": 91,
    "start_time": "2023-09-29T14:28:09.438Z"
   },
   {
    "duration": 17,
    "start_time": "2023-09-29T14:28:09.531Z"
   },
   {
    "duration": 20,
    "start_time": "2023-09-29T14:28:09.551Z"
   },
   {
    "duration": 13,
    "start_time": "2023-09-29T14:28:09.574Z"
   },
   {
    "duration": 48,
    "start_time": "2023-09-29T14:28:09.609Z"
   },
   {
    "duration": 4,
    "start_time": "2023-09-29T14:28:09.659Z"
   },
   {
    "duration": 14,
    "start_time": "2023-09-29T14:28:09.665Z"
   },
   {
    "duration": 5,
    "start_time": "2023-09-29T14:28:09.681Z"
   },
   {
    "duration": 21,
    "start_time": "2023-09-29T14:28:09.688Z"
   },
   {
    "duration": 4,
    "start_time": "2023-09-29T14:28:09.712Z"
   },
   {
    "duration": 47,
    "start_time": "2023-09-29T14:28:09.718Z"
   },
   {
    "duration": 11,
    "start_time": "2023-09-29T14:28:09.767Z"
   },
   {
    "duration": 9,
    "start_time": "2023-09-29T14:28:09.780Z"
   },
   {
    "duration": 26,
    "start_time": "2023-09-29T14:28:09.790Z"
   },
   {
    "duration": 22,
    "start_time": "2023-09-29T14:28:12.936Z"
   },
   {
    "duration": 18,
    "start_time": "2023-09-29T14:28:22.816Z"
   },
   {
    "duration": 20,
    "start_time": "2023-09-29T14:28:28.854Z"
   },
   {
    "duration": 17,
    "start_time": "2023-09-29T14:30:27.342Z"
   },
   {
    "duration": 19,
    "start_time": "2023-09-29T14:30:29.713Z"
   },
   {
    "duration": 56,
    "start_time": "2023-09-29T14:39:57.580Z"
   },
   {
    "duration": 3,
    "start_time": "2023-09-29T14:40:06.012Z"
   },
   {
    "duration": 425,
    "start_time": "2023-09-29T14:42:00.714Z"
   },
   {
    "duration": 85,
    "start_time": "2023-09-29T14:42:01.142Z"
   },
   {
    "duration": 157,
    "start_time": "2023-09-29T14:42:01.229Z"
   },
   {
    "duration": 96,
    "start_time": "2023-09-29T14:42:01.388Z"
   },
   {
    "duration": 31,
    "start_time": "2023-09-29T14:42:01.487Z"
   },
   {
    "duration": 81,
    "start_time": "2023-09-29T14:42:01.520Z"
   },
   {
    "duration": 19,
    "start_time": "2023-09-29T14:42:01.603Z"
   },
   {
    "duration": 82,
    "start_time": "2023-09-29T14:42:01.624Z"
   },
   {
    "duration": 36,
    "start_time": "2023-09-29T14:42:01.708Z"
   },
   {
    "duration": 64,
    "start_time": "2023-09-29T14:42:01.746Z"
   },
   {
    "duration": 58,
    "start_time": "2023-09-29T14:42:01.812Z"
   },
   {
    "duration": 89,
    "start_time": "2023-09-29T14:42:01.872Z"
   },
   {
    "duration": 12,
    "start_time": "2023-09-29T14:42:01.962Z"
   },
   {
    "duration": 48,
    "start_time": "2023-09-29T14:42:01.976Z"
   },
   {
    "duration": 62,
    "start_time": "2023-09-29T14:42:02.026Z"
   },
   {
    "duration": 62,
    "start_time": "2023-09-29T14:42:02.089Z"
   },
   {
    "duration": 207,
    "start_time": "2023-09-29T14:42:02.153Z"
   },
   {
    "duration": 11,
    "start_time": "2023-09-29T14:42:04.112Z"
   },
   {
    "duration": 3,
    "start_time": "2023-09-29T14:44:37.671Z"
   },
   {
    "duration": 19,
    "start_time": "2023-09-29T14:46:23.171Z"
   },
   {
    "duration": 390,
    "start_time": "2023-09-29T14:46:44.057Z"
   },
   {
    "duration": 97,
    "start_time": "2023-09-29T14:46:44.449Z"
   },
   {
    "duration": 30,
    "start_time": "2023-09-29T14:46:44.548Z"
   },
   {
    "duration": 41,
    "start_time": "2023-09-29T14:46:44.581Z"
   },
   {
    "duration": 12,
    "start_time": "2023-09-29T14:46:44.625Z"
   },
   {
    "duration": 40,
    "start_time": "2023-09-29T14:46:44.639Z"
   },
   {
    "duration": 4,
    "start_time": "2023-09-29T14:46:44.681Z"
   },
   {
    "duration": 21,
    "start_time": "2023-09-29T14:46:44.710Z"
   },
   {
    "duration": 28,
    "start_time": "2023-09-29T14:46:44.733Z"
   },
   {
    "duration": 15,
    "start_time": "2023-09-29T14:46:44.763Z"
   },
   {
    "duration": 4,
    "start_time": "2023-09-29T14:46:44.780Z"
   },
   {
    "duration": 40,
    "start_time": "2023-09-29T14:46:44.786Z"
   },
   {
    "duration": 12,
    "start_time": "2023-09-29T14:46:44.827Z"
   },
   {
    "duration": 10,
    "start_time": "2023-09-29T14:46:44.841Z"
   },
   {
    "duration": 16,
    "start_time": "2023-09-29T14:46:44.852Z"
   },
   {
    "duration": 29,
    "start_time": "2023-09-29T14:46:44.869Z"
   },
   {
    "duration": 26,
    "start_time": "2023-09-29T14:46:44.900Z"
   },
   {
    "duration": 5,
    "start_time": "2023-09-29T14:46:44.927Z"
   },
   {
    "duration": 23,
    "start_time": "2023-09-29T14:46:44.934Z"
   },
   {
    "duration": 8,
    "start_time": "2023-09-29T14:46:44.959Z"
   },
   {
    "duration": 9,
    "start_time": "2023-09-29T14:46:44.968Z"
   },
   {
    "duration": 67,
    "start_time": "2023-09-29T14:46:44.978Z"
   },
   {
    "duration": 3,
    "start_time": "2023-09-29T14:56:05.895Z"
   },
   {
    "duration": 114,
    "start_time": "2023-09-29T14:56:05.902Z"
   },
   {
    "duration": 17,
    "start_time": "2023-09-29T14:56:06.018Z"
   },
   {
    "duration": 49,
    "start_time": "2023-09-29T14:56:06.036Z"
   },
   {
    "duration": 13,
    "start_time": "2023-09-29T14:56:06.086Z"
   },
   {
    "duration": 43,
    "start_time": "2023-09-29T14:56:06.101Z"
   },
   {
    "duration": 3,
    "start_time": "2023-09-29T14:56:06.146Z"
   },
   {
    "duration": 15,
    "start_time": "2023-09-29T14:56:06.151Z"
   },
   {
    "duration": 17,
    "start_time": "2023-09-29T14:56:06.168Z"
   },
   {
    "duration": 25,
    "start_time": "2023-09-29T14:56:06.187Z"
   },
   {
    "duration": 29,
    "start_time": "2023-09-29T14:56:06.213Z"
   },
   {
    "duration": 72,
    "start_time": "2023-09-29T14:56:06.243Z"
   },
   {
    "duration": 10,
    "start_time": "2023-09-29T14:56:06.317Z"
   },
   {
    "duration": 18,
    "start_time": "2023-09-29T14:56:06.329Z"
   },
   {
    "duration": 20,
    "start_time": "2023-09-29T14:56:06.350Z"
   },
   {
    "duration": 54,
    "start_time": "2023-09-29T14:56:06.371Z"
   },
   {
    "duration": 18,
    "start_time": "2023-09-29T14:56:06.427Z"
   },
   {
    "duration": 4,
    "start_time": "2023-09-29T14:56:08.521Z"
   },
   {
    "duration": 12,
    "start_time": "2023-09-29T14:56:14.743Z"
   },
   {
    "duration": 450,
    "start_time": "2023-09-29T14:56:29.772Z"
   },
   {
    "duration": 89,
    "start_time": "2023-09-29T14:56:30.224Z"
   },
   {
    "duration": 25,
    "start_time": "2023-09-29T14:56:30.314Z"
   },
   {
    "duration": 29,
    "start_time": "2023-09-29T14:56:30.341Z"
   },
   {
    "duration": 26,
    "start_time": "2023-09-29T14:56:30.374Z"
   },
   {
    "duration": 75,
    "start_time": "2023-09-29T14:56:30.402Z"
   },
   {
    "duration": 20,
    "start_time": "2023-09-29T14:56:30.479Z"
   },
   {
    "duration": 36,
    "start_time": "2023-09-29T14:56:30.501Z"
   },
   {
    "duration": 32,
    "start_time": "2023-09-29T14:56:30.539Z"
   },
   {
    "duration": 28,
    "start_time": "2023-09-29T14:56:30.573Z"
   },
   {
    "duration": 41,
    "start_time": "2023-09-29T14:56:30.602Z"
   },
   {
    "duration": 64,
    "start_time": "2023-09-29T14:56:30.645Z"
   },
   {
    "duration": 11,
    "start_time": "2023-09-29T14:56:30.711Z"
   },
   {
    "duration": 86,
    "start_time": "2023-09-29T14:56:30.725Z"
   },
   {
    "duration": 80,
    "start_time": "2023-09-29T14:56:30.813Z"
   },
   {
    "duration": 102,
    "start_time": "2023-09-29T14:56:30.895Z"
   },
   {
    "duration": 84,
    "start_time": "2023-09-29T14:56:30.999Z"
   },
   {
    "duration": 89,
    "start_time": "2023-09-29T14:56:31.084Z"
   },
   {
    "duration": 140,
    "start_time": "2023-09-29T14:56:31.175Z"
   },
   {
    "duration": 84,
    "start_time": "2023-09-29T14:56:31.317Z"
   },
   {
    "duration": 61,
    "start_time": "2023-09-29T14:56:31.404Z"
   },
   {
    "duration": 45,
    "start_time": "2023-09-29T14:56:31.468Z"
   },
   {
    "duration": 3,
    "start_time": "2023-09-29T15:04:37.471Z"
   },
   {
    "duration": 830,
    "start_time": "2023-09-29T15:04:39.048Z"
   },
   {
    "duration": 4,
    "start_time": "2023-09-29T15:06:28.546Z"
   },
   {
    "duration": 11,
    "start_time": "2023-09-29T15:06:30.742Z"
   },
   {
    "duration": 17,
    "start_time": "2023-09-29T15:09:54.164Z"
   },
   {
    "duration": 8,
    "start_time": "2023-09-29T15:11:29.393Z"
   },
   {
    "duration": 18,
    "start_time": "2023-09-29T15:11:37.844Z"
   },
   {
    "duration": 17,
    "start_time": "2023-09-29T15:12:19.713Z"
   },
   {
    "duration": 1432,
    "start_time": "2023-09-29T15:12:30.862Z"
   },
   {
    "duration": 11,
    "start_time": "2023-09-29T15:14:09.704Z"
   },
   {
    "duration": 104,
    "start_time": "2023-09-29T15:14:29.421Z"
   },
   {
    "duration": 2459,
    "start_time": "2023-09-29T15:14:33.586Z"
   },
   {
    "duration": 17,
    "start_time": "2023-09-29T15:15:45.325Z"
   }
  ],
  "colab": {
   "provenance": []
  },
  "kernelspec": {
   "display_name": "Python 3 (ipykernel)",
   "language": "python",
   "name": "python3"
  },
  "language_info": {
   "codemirror_mode": {
    "name": "ipython",
    "version": 3
   },
   "file_extension": ".py",
   "mimetype": "text/x-python",
   "name": "python",
   "nbconvert_exporter": "python",
   "pygments_lexer": "ipython3",
   "version": "3.9.5"
  },
  "toc": {
   "base_numbering": 1,
   "nav_menu": {},
   "number_sections": true,
   "sideBar": true,
   "skip_h1_title": true,
   "title_cell": "Table of Contents",
   "title_sidebar": "Contents",
   "toc_cell": false,
   "toc_position": {},
   "toc_section_display": true,
   "toc_window_display": false
  }
 },
 "nbformat": 4,
 "nbformat_minor": 5
}
