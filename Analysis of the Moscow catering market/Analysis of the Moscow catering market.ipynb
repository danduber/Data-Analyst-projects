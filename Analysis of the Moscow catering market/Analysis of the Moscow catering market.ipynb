{
 "cells": [
  {
   "cell_type": "markdown",
   "metadata": {},
   "source": [
    "# Проект: Анализ рынка заведений общественного питания Москвы"
   ]
  },
  {
   "cell_type": "markdown",
   "metadata": {},
   "source": [
    "## Описание проекта"
   ]
  },
  {
   "cell_type": "markdown",
   "metadata": {},
   "source": [
    "Инвесторы из фонда «Shut Up and Take My Money» решили попробовать себя в новой области и открыть заведение общественного питания в Москве. Заказчики ещё не знают, что это будет за место: кафе, ресторан, пиццерия, паб или бар, — и какими будут расположение, меню и цены.\n",
    "Для начала они просят вас — аналитика — подготовить исследование рынка Москвы, найти интересные особенности и презентовать полученные результаты, которые в будущем помогут в выборе подходящего инвесторам места.\n",
    "Постарайтесь сделать презентацию информативной и лаконичной. Её структура и оформление сильно влияют на восприятие информации читателями вашего исследования. Выбирать инструменты (matplotlib, seaborn и другие) и типы визуализаций вы можете самостоятельно.\n",
    "Вам доступен датасет с заведениями общественного питания Москвы, составленный на основе данных сервисов Яндекс Карты и Яндекс Бизнес на лето 2022 года. Информация, размещённая в сервисе Яндекс Бизнес, могла быть добавлена пользователями или найдена в общедоступных источниках. Она носит исключительно справочный характер."
   ]
  },
  {
   "cell_type": "markdown",
   "metadata": {},
   "source": [
    "## Описание данных"
   ]
  },
  {
   "cell_type": "markdown",
   "metadata": {},
   "source": [
    "Файл moscow_places.csv:\n",
    "\n",
    "**name** — название заведения;\n",
    "\n",
    "**address** — адрес заведения;\n",
    "\n",
    "**category** — категория заведения, например «кафе», «пиццерия» или «кофейня»;\n",
    "\n",
    "**hours** — информация о днях и часах работы;\n",
    "\n",
    "**lat** — широта географической точки, в которой находится заведение;\n",
    "\n",
    "**lng** — долгота географической точки, в которой находится заведение;\n",
    "\n",
    "**rating** — рейтинг заведения по оценкам пользователей в Яндекс Картах (высшая оценка — 5.0);\n",
    "\n",
    "**price** — категория цен в заведении, например «средние», «ниже среднего», «выше среднего» и так далее;\n",
    "\n",
    "**avg_bill** — строка, которая хранит среднюю стоимость заказа в виде диапазона, например:\n",
    "\n",
    "- «Средний счёт: 1000–1500 ₽»;\n",
    "- «Цена чашки капучино: 130–220 ₽»;\n",
    "- «Цена бокала пива: 400–600 ₽».\n",
    "\n",
    "**middle_avg_bill** — число с оценкой среднего чека, которое указано только для значений из столбца avg_bill, начинающихся с подстроки «Средний счёт»:\n",
    "\n",
    "- Если в строке указан ценовой диапазон из двух значений, в столбец войдёт медиана этих двух значений.\n",
    "- Если в строке указано одно число — цена без диапазона, то в столбец войдёт это число.\n",
    "- Если значения нет или оно не начинается с подстроки «Средний счёт», то в столбец ничего не войдёт.\n",
    "\n",
    "**middle_coffee_cup** — число с оценкой одной чашки капучино, которое указано только для значений из столбца avg_bill, начинающихся с подстроки «Цена одной чашки капучино»:\n",
    "- Если в строке указан ценовой диапазон из двух значений, в столбец войдёт медиана этих двух значений.\n",
    "- Если в строке указано одно число — цена без диапазона, то в столбец войдёт это число.\n",
    "- Если значения нет или оно не начинается с подстроки «Цена одной чашки капучино», то в столбец ничего не войдёт.\n",
    "\n",
    "**chain** — число, выраженное 0 или 1, которое показывает, является ли заведение сетевым (для маленьких сетей могут встречаться ошибки):\n",
    "- 0 — заведение не является сетевым\n",
    "- 1 — заведение является сетевым\n",
    "\n",
    "**district** — административный район, в котором находится заведение, например Центральный административный округ;\n",
    "\n",
    "**seats** — количество посадочных мест.\n"
   ]
  },
  {
   "cell_type": "markdown",
   "metadata": {},
   "source": [
    "## Задание"
   ]
  },
  {
   "cell_type": "markdown",
   "metadata": {},
   "source": [
    "**Шаг 1. Загрузите данные и изучите общую информацию.**\n",
    "\n",
    "Загрузите данные о заведениях общественного питания Москвы.\n",
    "\n",
    "Путь к файлу: /datasets/moscow_places.csv. Скачать датасет.\n",
    "\n",
    "Изучите общую информацию о датасете. Сколько заведений представлено? Что можно сказать о каждом столбце? Значения какого типа они хранят? \n",
    "\n",
    "**Шаг 2. Выполните предобработку данных**\n",
    "\n",
    "- Изучите, есть ли дубликаты в данных. Поищите пропуски: встречаются ли они, в каких столбцах? Можно ли их обработать или оставить как есть?\n",
    "\n",
    "Выполните предобработку данных:\n",
    "\n",
    "- Создайте столбец street с названиями улиц из столбца с адресом.\n",
    "\n",
    "- Создайте столбец is_24_7 с обозначением, что заведение работает ежедневно и круглосуточно (24/7):\n",
    "\n",
    "    - логическое значение True — если заведение работает ежедневно и круглосуточно;\n",
    "\n",
    "    - логическое значение False — в противоположном случае.\n",
    "\n",
    "**Шаг 3. Анализ данных**\n",
    "\n",
    "- Какие категории заведений представлены в данных? Исследуйте количество объектов общественного питания по категориям: рестораны, кофейни, пиццерии, бары и так далее. Постройте визуализации. Ответьте на вопрос о распределении заведений по категориям.\n",
    "\n",
    "- Исследуйте количество посадочных мест в местах по категориям: рестораны, кофейни, пиццерии, бары и так далее. Постройте визуализации. Проанализируйте результаты и сделайте выводы.\n",
    "\n",
    "- Рассмотрите и изобразите соотношение сетевых и несетевых заведений в датасете. Каких заведений больше?\n",
    "\n",
    "- Какие категории заведений чаще являются сетевыми? Исследуйте данные и ответьте на вопрос графиком.\n",
    "\n",
    "- Сгруппируйте данные по названиям заведений и найдите топ-15 популярных сетей в Москве. Под популярностью понимается количество заведений этой сети в регионе. Постройте подходящую для такой информации визуализацию. Знакомы ли вам эти сети? Есть ли какой-то признак, который их объединяет? К какой категории заведений они относятся?\n",
    "\n",
    "- Какие административные районы Москвы присутствуют в датасете? Отобразите общее количество заведений и количество заведений каждой категории по районам. Попробуйте проиллюстрировать эту информацию одним графиком.\n",
    "\n",
    "- Визуализируйте распределение средних рейтингов по категориям заведений. Сильно ли различаются усреднённые рейтинги в разных типах общепита?\n",
    "\n",
    "- Постройте фоновую картограмму (хороплет) со средним рейтингом заведений каждого района. Границы районов Москвы, которые встречаются в датасете, хранятся в файле admin_level_geomap.geojson (скачать файл для локальной работы).\n",
    "\n",
    "- Отобразите все заведения датасета на карте с помощью кластеров средствами библиотеки folium.\n",
    "\n",
    "- Найдите топ-15 улиц по количеству заведений. Постройте график распределения количества заведений и их категорий по этим улицам. Попробуйте проиллюстрировать эту информацию одним графиком.\n",
    "\n",
    "- Найдите улицы, на которых находится только один объект общепита. Что можно сказать об этих заведениях?\n",
    "\n",
    "- Значения средних чеков заведений хранятся в столбце middle_avg_bill. Эти числа показывают примерную стоимость заказа в рублях, которая чаще всего выражена диапазоном. Посчитайте медиану этого столбца для каждого района.\n",
    "\n",
    "- Используйте это значение в качестве ценового индикатора района. Постройте фоновую картограмму (хороплет) с полученными значениями для каждого района. Проанализируйте цены в центральном административном округе и других. Как удалённость от центра влияет на цены в заведениях?\n",
    "\n",
    "- Необязательное задание: проиллюстрируйте другие взаимосвязи, которые вы нашли в данных. Например, по желанию исследуйте часы работы заведений и их зависимость от расположения и категории заведения. Также можно исследовать особенности заведений с плохими рейтингами, средние чеки в таких местах и распределение по категориям заведений.\n",
    "\n",
    "- Соберите наблюдения по вопросам выше в один общий вывод.\n",
    "\n",
    "**Шаг 4. Детализируем исследование: открытие кофейни**\n",
    "\n",
    "Основателям фонда «Shut Up and Take My Money» не даёт покоя успех сериала «Друзья». Их мечта — открыть такую же крутую и доступную, как «Central Perk», кофейню в Москве. Будем считать, что заказчики не боятся конкуренции в этой сфере, ведь кофеен в больших городах уже достаточно. Попробуйте определить, осуществима ли мечта клиентов.\n",
    "\n",
    "Ответьте на следующие вопросы:\n",
    "\n",
    "- Сколько всего кофеен в датасете? В каких районах их больше всего, каковы особенности их расположения?\n",
    "\n",
    "- Есть ли круглосуточные кофейни?\n",
    "\n",
    "- Какие у кофеен рейтинги? Как они распределяются по районам?\n",
    "\n",
    "- На какую стоимость чашки капучино стоит ориентироваться при открытии и почему?\n",
    "\n",
    "По желанию вы можете расширить список вопросов для исследования, добавив собственные.\n",
    "\n",
    "Постройте визуализации. Попробуйте дать рекомендацию для открытия нового заведения. Это творческое задание: здесь нет правильного или неправильного ответа, но ваше решение должно быть чем-то обосновано. Объяснить свою рекомендацию можно текстом с описанием или маркерами на географической карте.\n",
    "\n",
    "**Шаг 5. Подготовка презентации**\n",
    "\n",
    "- Подготовьте презентацию исследования для инвесторов. \n",
    "\n",
    "- Отвечая на вопросы о московском общепите, вы уже построили много диаграмм, и помещать каждую из них в презентацию не нужно. Выберите важные тезисы и наблюдения, которые могут заинтересовать заказчиков.\n",
    "\n",
    "Для создания презентации используйте любой удобный инструмент, но отправить презентацию нужно обязательно в формате PDF. Приложите ссылку на презентацию в markdown-ячейке в формате:\n",
    "\n",
    "Презентация: <ссылка на облачное хранилище с презентацией>\n",
    "\n",
    "Следуйте принципам оформления из темы «Подготовка презентации»."
   ]
  },
  {
   "cell_type": "markdown",
   "metadata": {},
   "source": [
    "## Загрузка и предобработка  данных"
   ]
  },
  {
   "cell_type": "markdown",
   "metadata": {},
   "source": [
    "**Шаг 1. Загрузите данные и изучите общую информацию.**\n",
    "\n",
    "Загрузите данные о заведениях общественного питания Москвы.\n",
    "\n",
    "Путь к файлу: /datasets/moscow_places.csv. Скачать датасет.\n",
    "\n",
    "Изучите общую информацию о датасете. Сколько заведений представлено? Что можно сказать о каждом столбце? Значения какого типа они хранят? "
   ]
  },
  {
   "cell_type": "markdown",
   "metadata": {},
   "source": [
    "**Загрузим необходимые библиотеки**"
   ]
  },
  {
   "cell_type": "code",
   "execution_count": 13,
   "metadata": {},
   "outputs": [
    {
     "name": "stderr",
     "output_type": "stream",
     "text": [
      "2025-02-19 16:43:48.597 system_profiler[5067:149379] CoreText note: Client requested name \".AlBayanPUA\", it will get Times-Roman rather than the intended font. All system UI font access should be through proper APIs such as CTFontCreateUIFontForLanguage() or +[NSFont systemFontOfSize:].\n",
      "2025-02-19 16:43:48.597 system_profiler[5067:149379] CoreText note: Set a breakpoint on CTFontLogSystemFontNameRequest to debug.\n",
      "2025-02-19 16:43:48.603 system_profiler[5067:149379] CoreText note: Client requested name \".AlBayanPUA-Bold\", it will get Times-Roman rather than the intended font. All system UI font access should be through proper APIs such as CTFontCreateUIFontForLanguage() or +[NSFont systemFontOfSize:].\n",
      "2025-02-19 16:43:48.607 system_profiler[5067:149379] CoreText note: Client requested name \".AlNilePUA\", it will get Times-Roman rather than the intended font. All system UI font access should be through proper APIs such as CTFontCreateUIFontForLanguage() or +[NSFont systemFontOfSize:].\n",
      "2025-02-19 16:43:48.611 system_profiler[5067:149379] CoreText note: Client requested name \".AlNilePUA-Bold\", it will get Times-Roman rather than the intended font. All system UI font access should be through proper APIs such as CTFontCreateUIFontForLanguage() or +[NSFont systemFontOfSize:].\n",
      "2025-02-19 16:43:48.615 system_profiler[5067:149379] CoreText note: Client requested name \".AlTarikhPUA\", it will get Times-Roman rather than the intended font. All system UI font access should be through proper APIs such as CTFontCreateUIFontForLanguage() or +[NSFont systemFontOfSize:].\n",
      "2025-02-19 16:43:48.619 system_profiler[5067:149379] CoreText note: Client requested name \".AppleColorEmojiUI\", it will get Times-Roman rather than the intended font. All system UI font access should be through proper APIs such as CTFontCreateUIFontForLanguage() or +[NSFont systemFontOfSize:].\n",
      "2025-02-19 16:43:48.622 system_profiler[5067:149379] CoreText note: Client requested name \".AppleSDGothicNeoI-Regular\", it will get Times-Roman rather than the intended font. All system UI font access should be through proper APIs such as CTFontCreateUIFontForLanguage() or +[NSFont systemFontOfSize:].\n",
      "2025-02-19 16:43:48.627 system_profiler[5067:149379] CoreText note: Client requested name \".AppleSDGothicNeoI-Medium\", it will get Times-Roman rather than the intended font. All system UI font access should be through proper APIs such as CTFontCreateUIFontForLanguage() or +[NSFont systemFontOfSize:].\n",
      "2025-02-19 16:43:48.631 system_profiler[5067:149379] CoreText note: Client requested name \".AppleSDGothicNeoI-Light\", it will get Times-Roman rather than the intended font. All system UI font access should be through proper APIs such as CTFontCreateUIFontForLanguage() or +[NSFont systemFontOfSize:].\n",
      "2025-02-19 16:43:48.635 system_profiler[5067:149379] CoreText note: Client requested name \".AppleSDGothicNeoI-UltraLight\", it will get Times-Roman rather than the intended font. All system UI font access should be through proper APIs such as CTFontCreateUIFontForLanguage() or +[NSFont systemFontOfSize:].\n",
      "2025-02-19 16:43:48.639 system_profiler[5067:149379] CoreText note: Client requested name \".AppleSDGothicNeoI-Thin\", it will get Times-Roman rather than the intended font. All system UI font access should be through proper APIs such as CTFontCreateUIFontForLanguage() or +[NSFont systemFontOfSize:].\n",
      "2025-02-19 16:43:48.643 system_profiler[5067:149379] CoreText note: Client requested name \".AppleSDGothicNeoI-SemiBold\", it will get Times-Roman rather than the intended font. All system UI font access should be through proper APIs such as CTFontCreateUIFontForLanguage() or +[NSFont systemFontOfSize:].\n",
      "2025-02-19 16:43:48.646 system_profiler[5067:149379] CoreText note: Client requested name \".AppleSDGothicNeoI-Bold\", it will get Times-Roman rather than the intended font. All system UI font access should be through proper APIs such as CTFontCreateUIFontForLanguage() or +[NSFont systemFontOfSize:].\n",
      "2025-02-19 16:43:48.651 system_profiler[5067:149379] CoreText note: Client requested name \".AppleSDGothicNeoI-ExtraBold\", it will get Times-Roman rather than the intended font. All system UI font access should be through proper APIs such as CTFontCreateUIFontForLanguage() or +[NSFont systemFontOfSize:].\n",
      "2025-02-19 16:43:48.654 system_profiler[5067:149379] CoreText note: Client requested name \".AppleSDGothicNeoI-Heavy\", it will get Times-Roman rather than the intended font. All system UI font access should be through proper APIs such as CTFontCreateUIFontForLanguage() or +[NSFont systemFontOfSize:].\n",
      "2025-02-19 16:43:48.686 system_profiler[5067:149379] CoreText note: Client requested name \".ArabicUIDisplay-Regular\", it will get Times-Roman rather than the intended font. All system UI font access should be through proper APIs such as CTFontCreateUIFontForLanguage() or +[NSFont systemFontOfSize:].\n",
      "2025-02-19 16:43:48.690 system_profiler[5067:149379] CoreText note: Client requested name \".ArabicUIDisplay-Medium\", it will get Times-Roman rather than the intended font. All system UI font access should be through proper APIs such as CTFontCreateUIFontForLanguage() or +[NSFont systemFontOfSize:].\n",
      "2025-02-19 16:43:48.693 system_profiler[5067:149379] CoreText note: Client requested name \".ArabicUIDisplay-Light\", it will get Times-Roman rather than the intended font. All system UI font access should be through proper APIs such as CTFontCreateUIFontForLanguage() or +[NSFont systemFontOfSize:].\n",
      "2025-02-19 16:43:48.699 system_profiler[5067:149379] CoreText note: Client requested name \".ArabicUIDisplay-Thin\", it will get Times-Roman rather than the intended font. All system UI font access should be through proper APIs such as CTFontCreateUIFontForLanguage() or +[NSFont systemFontOfSize:].\n",
      "2025-02-19 16:43:48.704 system_profiler[5067:149379] CoreText note: Client requested name \".ArabicUIDisplay-Ultralight\", it will get Times-Roman rather than the intended font. All system UI font access should be through proper APIs such as CTFontCreateUIFontForLanguage() or +[NSFont systemFontOfSize:].\n",
      "2025-02-19 16:43:48.709 system_profiler[5067:149379] CoreText note: Client requested name \".ArabicUIDisplay-Semibold\", it will get Times-Roman rather than the intended font. All system UI font access should be through proper APIs such as CTFontCreateUIFontForLanguage() or +[NSFont systemFontOfSize:].\n",
      "2025-02-19 16:43:48.713 system_profiler[5067:149379] CoreText note: Client requested name \".ArabicUIDisplay-Bold\", it will get Times-Roman rather than the intended font. All system UI font access should be through proper APIs such as CTFontCreateUIFontForLanguage() or +[NSFont systemFontOfSize:].\n",
      "2025-02-19 16:43:48.719 system_profiler[5067:149379] CoreText note: Client requested name \".ArabicUIDisplay-Heavy\", it will get Times-Roman rather than the intended font. All system UI font access should be through proper APIs such as CTFontCreateUIFontForLanguage() or +[NSFont systemFontOfSize:].\n",
      "2025-02-19 16:43:48.726 system_profiler[5067:149379] CoreText note: Client requested name \".ArabicUIDisplay-Black\", it will get Times-Roman rather than the intended font. All system UI font access should be through proper APIs such as CTFontCreateUIFontForLanguage() or +[NSFont systemFontOfSize:].\n",
      "2025-02-19 16:43:48.733 system_profiler[5067:149379] CoreText note: Client requested name \".ArabicUIText-Regular\", it will get Times-Roman rather than the intended font. All system UI font access should be through proper APIs such as CTFontCreateUIFontForLanguage() or +[NSFont systemFontOfSize:].\n",
      "2025-02-19 16:43:48.738 system_profiler[5067:149379] CoreText note: Client requested name \".ArabicUIText-Medium\", it will get Times-Roman rather than the intended font. All system UI font access should be through proper APIs such as CTFontCreateUIFontForLanguage() or +[NSFont systemFontOfSize:].\n",
      "2025-02-19 16:43:48.743 system_profiler[5067:149379] CoreText note: Client requested name \".ArabicUIText-Light\", it will get Times-Roman rather than the intended font. All system UI font access should be through proper APIs such as CTFontCreateUIFontForLanguage() or +[NSFont systemFontOfSize:].\n",
      "2025-02-19 16:43:48.746 system_profiler[5067:149379] CoreText note: Client requested name \".ArabicUIText-Semibold\", it will get Times-Roman rather than the intended font. All system UI font access should be through proper APIs such as CTFontCreateUIFontForLanguage() or +[NSFont systemFontOfSize:].\n",
      "2025-02-19 16:43:48.752 system_profiler[5067:149379] CoreText note: Client requested name \".ArabicUIText-Bold\", it will get Times-Roman rather than the intended font. All system UI font access should be through proper APIs such as CTFontCreateUIFontForLanguage() or +[NSFont systemFontOfSize:].\n",
      "2025-02-19 16:43:48.755 system_profiler[5067:149379] CoreText note: Client requested name \".ArabicUIText-Heavy\", it will get Times-Roman rather than the intended font. All system UI font access should be through proper APIs such as CTFontCreateUIFontForLanguage() or +[NSFont systemFontOfSize:].\n",
      "2025-02-19 16:43:48.759 system_profiler[5067:149379] CoreText note: Client requested name \".ArialHebrewDeskInterface\", it will get Times-Roman rather than the intended font. All system UI font access should be through proper APIs such as CTFontCreateUIFontForLanguage() or +[NSFont systemFontOfSize:].\n",
      "2025-02-19 16:43:48.763 system_profiler[5067:149379] CoreText note: Client requested name \".ArialHebrewDeskInterface-Light\", it will get Times-Roman rather than the intended font. All system UI font access should be through proper APIs such as CTFontCreateUIFontForLanguage() or +[NSFont systemFontOfSize:].\n",
      "2025-02-19 16:43:48.766 system_profiler[5067:149379] CoreText note: Client requested name \".ArialHebrewDeskInterface-Bold\", it will get Times-Roman rather than the intended font. All system UI font access should be through proper APIs such as CTFontCreateUIFontForLanguage() or +[NSFont systemFontOfSize:].\n",
      "2025-02-19 16:43:48.770 system_profiler[5067:149379] CoreText note: Client requested name \".BaghdadPUA\", it will get Times-Roman rather than the intended font. All system UI font access should be through proper APIs such as CTFontCreateUIFontForLanguage() or +[NSFont systemFontOfSize:].\n",
      "2025-02-19 16:43:48.774 system_profiler[5067:149379] CoreText note: Client requested name \".BeirutPUA\", it will get Times-Roman rather than the intended font. All system UI font access should be through proper APIs such as CTFontCreateUIFontForLanguage() or +[NSFont systemFontOfSize:].\n",
      "2025-02-19 16:43:48.778 system_profiler[5067:149379] CoreText note: Client requested name \".DamascusPUA\", it will get Times-Roman rather than the intended font. All system UI font access should be through proper APIs such as CTFontCreateUIFontForLanguage() or +[NSFont systemFontOfSize:].\n",
      "2025-02-19 16:43:48.781 system_profiler[5067:149379] CoreText note: Client requested name \".DamascusPUAMedium\", it will get Times-Roman rather than the intended font. All system UI font access should be through proper APIs such as CTFontCreateUIFontForLanguage() or +[NSFont systemFontOfSize:].\n",
      "2025-02-19 16:43:48.785 system_profiler[5067:149379] CoreText note: Client requested name \".DamascusPUALight\", it will get Times-Roman rather than the intended font. All system UI font access should be through proper APIs such as CTFontCreateUIFontForLanguage() or +[NSFont systemFontOfSize:].\n",
      "2025-02-19 16:43:48.788 system_profiler[5067:149379] CoreText note: Client requested name \".DamascusPUASemiBold\", it will get Times-Roman rather than the intended font. All system UI font access should be through proper APIs such as CTFontCreateUIFontForLanguage() or +[NSFont systemFontOfSize:].\n",
      "2025-02-19 16:43:48.791 system_profiler[5067:149379] CoreText note: Client requested name \".DamascusPUABold\", it will get Times-Roman rather than the intended font. All system UI font access should be through proper APIs such as CTFontCreateUIFontForLanguage() or +[NSFont systemFontOfSize:].\n",
      "2025-02-19 16:43:48.794 system_profiler[5067:149379] CoreText note: Client requested name \".DecoTypeNaskhPUA\", it will get Times-Roman rather than the intended font. All system UI font access should be through proper APIs such as CTFontCreateUIFontForLanguage() or +[NSFont systemFontOfSize:].\n",
      "2025-02-19 16:43:48.799 system_profiler[5067:149379] CoreText note: Client requested name \".DiwanKufiPUA\", it will get Times-Roman rather than the intended font. All system UI font access should be through proper APIs such as CTFontCreateUIFontForLanguage() or +[NSFont systemFontOfSize:].\n",
      "2025-02-19 16:43:48.803 system_profiler[5067:149379] CoreText note: Client requested name \".FarahPUA\", it will get Times-Roman rather than the intended font. All system UI font access should be through proper APIs such as CTFontCreateUIFontForLanguage() or +[NSFont systemFontOfSize:].\n",
      "2025-02-19 16:43:48.807 system_profiler[5067:149379] CoreText note: Client requested name \".GeezaProInterface\", it will get Times-Roman rather than the intended font. All system UI font access should be through proper APIs such as CTFontCreateUIFontForLanguage() or +[NSFont systemFontOfSize:].\n",
      "2025-02-19 16:43:48.812 system_profiler[5067:149379] CoreText note: Client requested name \".GeezaProInterface-Light\", it will get Times-Roman rather than the intended font. All system UI font access should be through proper APIs such as CTFontCreateUIFontForLanguage() or +[NSFont systemFontOfSize:].\n",
      "2025-02-19 16:43:48.817 system_profiler[5067:149379] CoreText note: Client requested name \".GeezaProInterface-Bold\", it will get Times-Roman rather than the intended font. All system UI font access should be through proper APIs such as CTFontCreateUIFontForLanguage() or +[NSFont systemFontOfSize:].\n",
      "2025-02-19 16:43:48.822 system_profiler[5067:149379] CoreText note: Client requested name \".GeezaProPUA\", it will get Times-Roman rather than the intended font. All system UI font access should be through proper APIs such as CTFontCreateUIFontForLanguage() or +[NSFont systemFontOfSize:].\n",
      "2025-02-19 16:43:48.827 system_profiler[5067:149379] CoreText note: Client requested name \".GeezaProPUA-Bold\", it will get Times-Roman rather than the intended font. All system UI font access should be through proper APIs such as CTFontCreateUIFontForLanguage() or +[NSFont systemFontOfSize:].\n",
      "2025-02-19 16:43:48.845 system_profiler[5067:149379] CoreText note: Client requested name \".HelveticaNeueDeskInterface-Regular\", it will get Times-Roman rather than the intended font. All system UI font access should be through proper APIs such as CTFontCreateUIFontForLanguage() or +[NSFont systemFontOfSize:].\n",
      "2025-02-19 16:43:48.856 system_profiler[5067:149379] CoreText note: Client requested name \".HelveticaNeueDeskInterface-MediumP4\", it will get Times-Roman rather than the intended font. All system UI font access should be through proper APIs such as CTFontCreateUIFontForLanguage() or +[NSFont systemFontOfSize:].\n",
      "2025-02-19 16:43:48.865 system_profiler[5067:149379] CoreText note: Client requested name \".HelveticaNeueDeskInterface-Light\", it will get Times-Roman rather than the intended font. All system UI font access should be through proper APIs such as CTFontCreateUIFontForLanguage() or +[NSFont systemFontOfSize:].\n",
      "2025-02-19 16:43:48.874 system_profiler[5067:149379] CoreText note: Client requested name \".HelveticaNeueDeskInterface-Thin\", it will get Times-Roman rather than the intended font. All system UI font access should be through proper APIs such as CTFontCreateUIFontForLanguage() or +[NSFont systemFontOfSize:].\n",
      "2025-02-19 16:43:48.882 system_profiler[5067:149379] CoreText note: Client requested name \".HelveticaNeueDeskInterface-UltraLightP2\", it will get Times-Roman rather than the intended font. All system UI font access should be through proper APIs such as CTFontCreateUIFontForLanguage() or +[NSFont systemFontOfSize:].\n",
      "2025-02-19 16:43:48.891 system_profiler[5067:149379] CoreText note: Client requested name \".HelveticaNeueDeskInterface-Italic\", it will get Times-Roman rather than the intended font. All system UI font access should be through proper APIs such as CTFontCreateUIFontForLanguage() or +[NSFont systemFontOfSize:].\n",
      "2025-02-19 16:43:48.898 system_profiler[5067:149379] CoreText note: Client requested name \".HelveticaNeueDeskInterface-MediumItalicP4\", it will get Times-Roman rather than the intended font. All system UI font access should be through proper APIs such as CTFontCreateUIFontForLanguage() or +[NSFont systemFontOfSize:].\n",
      "2025-02-19 16:43:48.904 system_profiler[5067:149379] CoreText note: Client requested name \".HelveticaNeueDeskInterface-Bold\", it will get Times-Roman rather than the intended font. All system UI font access should be through proper APIs such as CTFontCreateUIFontForLanguage() or +[NSFont systemFontOfSize:].\n",
      "2025-02-19 16:43:48.909 system_profiler[5067:149379] CoreText note: Client requested name \".HelveticaNeueDeskInterface-Heavy\", it will get Times-Roman rather than the intended font. All system UI font access should be through proper APIs such as CTFontCreateUIFontForLanguage() or +[NSFont systemFontOfSize:].\n",
      "2025-02-19 16:43:48.916 system_profiler[5067:149379] CoreText note: Client requested name \".HelveticaNeueDeskInterface-BoldItalic\", it will get Times-Roman rather than the intended font. All system UI font access should be through proper APIs such as CTFontCreateUIFontForLanguage() or +[NSFont systemFontOfSize:].\n",
      "2025-02-19 16:43:48.922 system_profiler[5067:149379] CoreText note: Client requested name \".HiraKakuInterface-W3\", it will get Times-Roman rather than the intended font. All system UI font access should be through proper APIs such as CTFontCreateUIFontForLanguage() or +[NSFont systemFontOfSize:].\n",
      "2025-02-19 16:43:48.929 system_profiler[5067:149379] CoreText note: Client requested name \".HiraKakuInterface-W4\", it will get Times-Roman rather than the intended font. All system UI font access should be through proper APIs such as CTFontCreateUIFontForLanguage() or +[NSFont systemFontOfSize:].\n",
      "2025-02-19 16:43:48.936 system_profiler[5067:149379] CoreText note: Client requested name \".HiraKakuInterface-W2\", it will get Times-Roman rather than the intended font. All system UI font access should be through proper APIs such as CTFontCreateUIFontForLanguage() or +[NSFont systemFontOfSize:].\n",
      "2025-02-19 16:43:48.940 system_profiler[5067:149379] CoreText note: Client requested name \".HiraKakuInterface-W1\", it will get Times-Roman rather than the intended font. All system UI font access should be through proper APIs such as CTFontCreateUIFontForLanguage() or +[NSFont systemFontOfSize:].\n",
      "2025-02-19 16:43:48.945 system_profiler[5067:149379] CoreText note: Client requested name \".HiraKakuInterface-W0\", it will get Times-Roman rather than the intended font. All system UI font access should be through proper APIs such as CTFontCreateUIFontForLanguage() or +[NSFont systemFontOfSize:].\n",
      "2025-02-19 16:43:48.952 system_profiler[5067:149379] CoreText note: Client requested name \".HiraKakuInterface-W5\", it will get Times-Roman rather than the intended font. All system UI font access should be through proper APIs such as CTFontCreateUIFontForLanguage() or +[NSFont systemFontOfSize:].\n",
      "2025-02-19 16:43:48.957 system_profiler[5067:149379] CoreText note: Client requested name \".HiraKakuInterface-W6\", it will get Times-Roman rather than the intended font. All system UI font access should be through proper APIs such as CTFontCreateUIFontForLanguage() or +[NSFont systemFontOfSize:].\n",
      "2025-02-19 16:43:48.962 system_profiler[5067:149379] CoreText note: Client requested name \".HiraKakuInterface-W7\", it will get Times-Roman rather than the intended font. All system UI font access should be through proper APIs such as CTFontCreateUIFontForLanguage() or +[NSFont systemFontOfSize:].\n",
      "2025-02-19 16:43:48.969 system_profiler[5067:149379] CoreText note: Client requested name \".HiraKakuInterface-W8\", it will get Times-Roman rather than the intended font. All system UI font access should be through proper APIs such as CTFontCreateUIFontForLanguage() or +[NSFont systemFontOfSize:].\n",
      "2025-02-19 16:43:48.973 system_profiler[5067:149379] CoreText note: Client requested name \".HiraKakuInterface-W9\", it will get Times-Roman rather than the intended font. All system UI font access should be through proper APIs such as CTFontCreateUIFontForLanguage() or +[NSFont systemFontOfSize:].\n",
      "2025-02-19 16:43:48.977 system_profiler[5067:149379] CoreText note: Client requested name \".HiraginoSansGBInterface-W3\", it will get Times-Roman rather than the intended font. All system UI font access should be through proper APIs such as CTFontCreateUIFontForLanguage() or +[NSFont systemFontOfSize:].\n",
      "2025-02-19 16:43:48.982 system_profiler[5067:149379] CoreText note: Client requested name \".HiraginoSansGBInterface-W6\", it will get Times-Roman rather than the intended font. All system UI font access should be through proper APIs such as CTFontCreateUIFontForLanguage() or +[NSFont systemFontOfSize:].\n",
      "2025-02-19 16:43:48.987 system_profiler[5067:149379] CoreText note: Client requested name \".Keyboard\", it will get Times-Roman rather than the intended font. All system UI font access should be through proper APIs such as CTFontCreateUIFontForLanguage() or +[NSFont systemFontOfSize:].\n",
      "2025-02-19 16:43:48.990 system_profiler[5067:149379] CoreText note: Client requested name \".KufiStandardGKPUA\", it will get Times-Roman rather than the intended font. All system UI font access should be through proper APIs such as CTFontCreateUIFontForLanguage() or +[NSFont systemFontOfSize:].\n",
      "2025-02-19 16:43:48.999 system_profiler[5067:149379] CoreText note: Client requested name \".LucidaGrandeUI\", it will get Times-Roman rather than the intended font. All system UI font access should be through proper APIs such as CTFontCreateUIFontForLanguage() or +[NSFont systemFontOfSize:].\n",
      "2025-02-19 16:43:49.004 system_profiler[5067:149379] CoreText note: Client requested name \".LucidaGrandeUI-Bold\", it will get Times-Roman rather than the intended font. All system UI font access should be through proper APIs such as CTFontCreateUIFontForLanguage() or +[NSFont systemFontOfSize:].\n",
      "2025-02-19 16:43:49.009 system_profiler[5067:149379] CoreText note: Client requested name \".MunaPUA\", it will get Times-Roman rather than the intended font. All system UI font access should be through proper APIs such as CTFontCreateUIFontForLanguage() or +[NSFont systemFontOfSize:].\n",
      "2025-02-19 16:43:49.014 system_profiler[5067:149379] CoreText note: Client requested name \".MunaPUABold\", it will get Times-Roman rather than the intended font. All system UI font access should be through proper APIs such as CTFontCreateUIFontForLanguage() or +[NSFont systemFontOfSize:].\n",
      "2025-02-19 16:43:49.018 system_profiler[5067:149379] CoreText note: Client requested name \".MunaPUABlack\", it will get Times-Roman rather than the intended font. All system UI font access should be through proper APIs such as CTFontCreateUIFontForLanguage() or +[NSFont systemFontOfSize:].\n",
      "2025-02-19 16:43:49.022 system_profiler[5067:149379] CoreText note: Client requested name \".NadeemPUA\", it will get Times-Roman rather than the intended font. All system UI font access should be through proper APIs such as CTFontCreateUIFontForLanguage() or +[NSFont systemFontOfSize:].\n",
      "2025-02-19 16:43:49.029 system_profiler[5067:149379] CoreText note: Client requested name \".NewYork-Regular\", it will get Times-Roman rather than the intended font. All system UI font access should be through proper APIs such as CTFontCreateUIFontForLanguage() or +[NSFont systemFontOfSize:].\n",
      "2025-02-19 16:43:49.034 system_profiler[5067:149379] CoreText note: Client requested name \".NewYork-Medium\", it will get Times-Roman rather than the intended font. All system UI font access should be through proper APIs such as CTFontCreateUIFontForLanguage() or +[NSFont systemFontOfSize:].\n",
      "2025-02-19 16:43:49.040 system_profiler[5067:149379] CoreText note: Client requested name \".NewYork-RegularItalic\", it will get Times-Roman rather than the intended font. All system UI font access should be through proper APIs such as CTFontCreateUIFontForLanguage() or +[NSFont systemFontOfSize:].\n",
      "2025-02-19 16:43:49.045 system_profiler[5067:149379] CoreText note: Client requested name \".NewYork-MediumItalic\", it will get Times-Roman rather than the intended font. All system UI font access should be through proper APIs such as CTFontCreateUIFontForLanguage() or +[NSFont systemFontOfSize:].\n",
      "2025-02-19 16:43:49.050 system_profiler[5067:149379] CoreText note: Client requested name \".NewYork-Semibold\", it will get Times-Roman rather than the intended font. All system UI font access should be through proper APIs such as CTFontCreateUIFontForLanguage() or +[NSFont systemFontOfSize:].\n",
      "2025-02-19 16:43:49.054 system_profiler[5067:149379] CoreText note: Client requested name \".NewYork-Bold\", it will get Times-Roman rather than the intended font. All system UI font access should be through proper APIs such as CTFontCreateUIFontForLanguage() or +[NSFont systemFontOfSize:].\n",
      "2025-02-19 16:43:49.057 system_profiler[5067:149379] CoreText note: Client requested name \".NewYork-Heavy\", it will get Times-Roman rather than the intended font. All system UI font access should be through proper APIs such as CTFontCreateUIFontForLanguage() or +[NSFont systemFontOfSize:].\n",
      "2025-02-19 16:43:49.062 system_profiler[5067:149379] CoreText note: Client requested name \".NewYork-Black\", it will get Times-Roman rather than the intended font. All system UI font access should be through proper APIs such as CTFontCreateUIFontForLanguage() or +[NSFont systemFontOfSize:].\n",
      "2025-02-19 16:43:49.067 system_profiler[5067:149379] CoreText note: Client requested name \".NewYork-SemiboldItalic\", it will get Times-Roman rather than the intended font. All system UI font access should be through proper APIs such as CTFontCreateUIFontForLanguage() or +[NSFont systemFontOfSize:].\n",
      "2025-02-19 16:43:49.071 system_profiler[5067:149379] CoreText note: Client requested name \".NewYork-BoldItalic\", it will get Times-Roman rather than the intended font. All system UI font access should be through proper APIs such as CTFontCreateUIFontForLanguage() or +[NSFont systemFontOfSize:].\n",
      "2025-02-19 16:43:49.075 system_profiler[5067:149379] CoreText note: Client requested name \".NewYork-HeavyItalic\", it will get Times-Roman rather than the intended font. All system UI font access should be through proper APIs such as CTFontCreateUIFontForLanguage() or +[NSFont systemFontOfSize:].\n",
      "2025-02-19 16:43:49.080 system_profiler[5067:149379] CoreText note: Client requested name \".NewYork-BlackItalic\", it will get Times-Roman rather than the intended font. All system UI font access should be through proper APIs such as CTFontCreateUIFontForLanguage() or +[NSFont systemFontOfSize:].\n",
      "2025-02-19 16:43:49.086 system_profiler[5067:149379] CoreText note: Client requested name \".NotoNastaliqUrduUI\", it will get Times-Roman rather than the intended font. All system UI font access should be through proper APIs such as CTFontCreateUIFontForLanguage() or +[NSFont systemFontOfSize:].\n",
      "2025-02-19 16:43:49.090 system_profiler[5067:149379] CoreText note: Client requested name \".NotoNastaliqUrduUI-Bold\", it will get Times-Roman rather than the intended font. All system UI font access should be through proper APIs such as CTFontCreateUIFontForLanguage() or +[NSFont systemFontOfSize:].\n",
      "2025-02-19 16:43:49.097 system_profiler[5067:149379] CoreText note: Client requested name \".PingFangHK-Regular\", it will get Times-Roman rather than the intended font. All system UI font access should be through proper APIs such as CTFontCreateUIFontForLanguage() or +[NSFont systemFontOfSize:].\n",
      "2025-02-19 16:43:49.102 system_profiler[5067:149379] CoreText note: Client requested name \".PingFangHK-Medium\", it will get Times-Roman rather than the intended font. All system UI font access should be through proper APIs such as CTFontCreateUIFontForLanguage() or +[NSFont systemFontOfSize:].\n",
      "2025-02-19 16:43:49.108 system_profiler[5067:149379] CoreText note: Client requested name \".PingFangHK-Light\", it will get Times-Roman rather than the intended font. All system UI font access should be through proper APIs such as CTFontCreateUIFontForLanguage() or +[NSFont systemFontOfSize:].\n",
      "2025-02-19 16:43:49.113 system_profiler[5067:149379] CoreText note: Client requested name \".PingFangHK-Thin\", it will get Times-Roman rather than the intended font. All system UI font access should be through proper APIs such as CTFontCreateUIFontForLanguage() or +[NSFont systemFontOfSize:].\n",
      "2025-02-19 16:43:49.120 system_profiler[5067:149379] CoreText note: Client requested name \".PingFangHK-Ultralight\", it will get Times-Roman rather than the intended font. All system UI font access should be through proper APIs such as CTFontCreateUIFontForLanguage() or +[NSFont systemFontOfSize:].\n",
      "2025-02-19 16:43:49.124 system_profiler[5067:149379] CoreText note: Client requested name \".PingFangHK-Semibold\", it will get Times-Roman rather than the intended font. All system UI font access should be through proper APIs such as CTFontCreateUIFontForLanguage() or +[NSFont systemFontOfSize:].\n",
      "2025-02-19 16:43:49.129 system_profiler[5067:149379] CoreText note: Client requested name \".PingFangSC-Regular\", it will get Times-Roman rather than the intended font. All system UI font access should be through proper APIs such as CTFontCreateUIFontForLanguage() or +[NSFont systemFontOfSize:].\n",
      "2025-02-19 16:43:49.134 system_profiler[5067:149379] CoreText note: Client requested name \".PingFangSC-Medium\", it will get Times-Roman rather than the intended font. All system UI font access should be through proper APIs such as CTFontCreateUIFontForLanguage() or +[NSFont systemFontOfSize:].\n",
      "2025-02-19 16:43:49.139 system_profiler[5067:149379] CoreText note: Client requested name \".PingFangSC-Light\", it will get Times-Roman rather than the intended font. All system UI font access should be through proper APIs such as CTFontCreateUIFontForLanguage() or +[NSFont systemFontOfSize:].\n",
      "2025-02-19 16:43:49.143 system_profiler[5067:149379] CoreText note: Client requested name \".PingFangSC-Thin\", it will get Times-Roman rather than the intended font. All system UI font access should be through proper APIs such as CTFontCreateUIFontForLanguage() or +[NSFont systemFontOfSize:].\n",
      "2025-02-19 16:43:49.147 system_profiler[5067:149379] CoreText note: Client requested name \".PingFangSC-Ultralight\", it will get Times-Roman rather than the intended font. All system UI font access should be through proper APIs such as CTFontCreateUIFontForLanguage() or +[NSFont systemFontOfSize:].\n",
      "2025-02-19 16:43:49.153 system_profiler[5067:149379] CoreText note: Client requested name \".PingFangSC-Semibold\", it will get Times-Roman rather than the intended font. All system UI font access should be through proper APIs such as CTFontCreateUIFontForLanguage() or +[NSFont systemFontOfSize:].\n",
      "2025-02-19 16:43:49.157 system_profiler[5067:149379] CoreText note: Client requested name \".PingFangTC-Regular\", it will get Times-Roman rather than the intended font. All system UI font access should be through proper APIs such as CTFontCreateUIFontForLanguage() or +[NSFont systemFontOfSize:].\n",
      "2025-02-19 16:43:49.161 system_profiler[5067:149379] CoreText note: Client requested name \".PingFangTC-Medium\", it will get Times-Roman rather than the intended font. All system UI font access should be through proper APIs such as CTFontCreateUIFontForLanguage() or +[NSFont systemFontOfSize:].\n",
      "2025-02-19 16:43:49.164 system_profiler[5067:149379] CoreText note: Client requested name \".PingFangTC-Light\", it will get Times-Roman rather than the intended font. All system UI font access should be through proper APIs such as CTFontCreateUIFontForLanguage() or +[NSFont systemFontOfSize:].\n",
      "2025-02-19 16:43:49.167 system_profiler[5067:149379] CoreText note: Client requested name \".PingFangTC-Thin\", it will get Times-Roman rather than the intended font. All system UI font access should be through proper APIs such as CTFontCreateUIFontForLanguage() or +[NSFont systemFontOfSize:].\n",
      "2025-02-19 16:43:49.171 system_profiler[5067:149379] CoreText note: Client requested name \".PingFangTC-Ultralight\", it will get Times-Roman rather than the intended font. All system UI font access should be through proper APIs such as CTFontCreateUIFontForLanguage() or +[NSFont systemFontOfSize:].\n",
      "2025-02-19 16:43:49.175 system_profiler[5067:149379] CoreText note: Client requested name \".PingFangTC-Semibold\", it will get Times-Roman rather than the intended font. All system UI font access should be through proper APIs such as CTFontCreateUIFontForLanguage() or +[NSFont systemFontOfSize:].\n",
      "2025-02-19 16:43:49.178 system_profiler[5067:149379] CoreText note: Client requested name \".SanaPUA\", it will get Times-Roman rather than the intended font. All system UI font access should be through proper APIs such as CTFontCreateUIFontForLanguage() or +[NSFont systemFontOfSize:].\n",
      "2025-02-19 16:43:49.182 system_profiler[5067:149379] CoreText note: Client requested name \".SavoyeLetPlainCC\", it will get Times-Roman rather than the intended font. All system UI font access should be through proper APIs such as CTFontCreateUIFontForLanguage() or +[NSFont systemFontOfSize:].\n",
      "2025-02-19 16:43:49.187 system_profiler[5067:149379] CoreText note: Client requested name \"..SFCompactDisplay-Regular\", it will get Times-Roman rather than the intended font. All system UI font access should be through proper APIs such as CTFontCreateUIFontForLanguage() or +[NSFont systemFontOfSize:].\n",
      "2025-02-19 16:43:49.193 system_profiler[5067:149379] CoreText note: Client requested name \".SFCompactDisplay-Regular\", it will get Times-Roman rather than the intended font. All system UI font access should be through proper APIs such as CTFontCreateUIFontForLanguage() or +[NSFont systemFontOfSize:].\n",
      "2025-02-19 16:43:49.197 system_profiler[5067:149379] CoreText note: Client requested name \".SFCompactDisplay-Medium\", it will get Times-Roman rather than the intended font. All system UI font access should be through proper APIs such as CTFontCreateUIFontForLanguage() or +[NSFont systemFontOfSize:].\n",
      "2025-02-19 16:43:49.201 system_profiler[5067:149379] CoreText note: Client requested name \".SFCompactDisplay-Light\", it will get Times-Roman rather than the intended font. All system UI font access should be through proper APIs such as CTFontCreateUIFontForLanguage() or +[NSFont systemFontOfSize:].\n",
      "2025-02-19 16:43:49.205 system_profiler[5067:149379] CoreText note: Client requested name \".SFCompactDisplay-Thin\", it will get Times-Roman rather than the intended font. All system UI font access should be through proper APIs such as CTFontCreateUIFontForLanguage() or +[NSFont systemFontOfSize:].\n",
      "2025-02-19 16:43:49.209 system_profiler[5067:149379] CoreText note: Client requested name \".SFCompactDisplay-Ultralight\", it will get Times-Roman rather than the intended font. All system UI font access should be through proper APIs such as CTFontCreateUIFontForLanguage() or +[NSFont systemFontOfSize:].\n",
      "2025-02-19 16:43:49.215 system_profiler[5067:149379] CoreText note: Client requested name \".SFCompactDisplay-Semibold\", it will get Times-Roman rather than the intended font. All system UI font access should be through proper APIs such as CTFontCreateUIFontForLanguage() or +[NSFont systemFontOfSize:].\n",
      "2025-02-19 16:43:49.219 system_profiler[5067:149379] CoreText note: Client requested name \".SFCompactDisplay-Bold\", it will get Times-Roman rather than the intended font. All system UI font access should be through proper APIs such as CTFontCreateUIFontForLanguage() or +[NSFont systemFontOfSize:].\n",
      "2025-02-19 16:43:49.224 system_profiler[5067:149379] CoreText note: Client requested name \".SFCompactDisplay-Heavy\", it will get Times-Roman rather than the intended font. All system UI font access should be through proper APIs such as CTFontCreateUIFontForLanguage() or +[NSFont systemFontOfSize:].\n",
      "2025-02-19 16:43:49.229 system_profiler[5067:149379] CoreText note: Client requested name \".SFCompactDisplay-Black\", it will get Times-Roman rather than the intended font. All system UI font access should be through proper APIs such as CTFontCreateUIFontForLanguage() or +[NSFont systemFontOfSize:].\n",
      "2025-02-19 16:43:49.235 system_profiler[5067:149379] CoreText note: Client requested name \"..SFCompactRounded-Regular\", it will get Times-Roman rather than the intended font. All system UI font access should be through proper APIs such as CTFontCreateUIFontForLanguage() or +[NSFont systemFontOfSize:].\n",
      "2025-02-19 16:43:49.241 system_profiler[5067:149379] CoreText note: Client requested name \".SFCompactRounded-Regular\", it will get Times-Roman rather than the intended font. All system UI font access should be through proper APIs such as CTFontCreateUIFontForLanguage() or +[NSFont systemFontOfSize:].\n",
      "2025-02-19 16:43:49.246 system_profiler[5067:149379] CoreText note: Client requested name \".SFCompactRounded-Medium\", it will get Times-Roman rather than the intended font. All system UI font access should be through proper APIs such as CTFontCreateUIFontForLanguage() or +[NSFont systemFontOfSize:].\n",
      "2025-02-19 16:43:49.252 system_profiler[5067:149379] CoreText note: Client requested name \".SFCompactRounded-Light\", it will get Times-Roman rather than the intended font. All system UI font access should be through proper APIs such as CTFontCreateUIFontForLanguage() or +[NSFont systemFontOfSize:].\n",
      "2025-02-19 16:43:49.257 system_profiler[5067:149379] CoreText note: Client requested name \".SFCompactRounded-Thin\", it will get Times-Roman rather than the intended font. All system UI font access should be through proper APIs such as CTFontCreateUIFontForLanguage() or +[NSFont systemFontOfSize:].\n",
      "2025-02-19 16:43:49.263 system_profiler[5067:149379] CoreText note: Client requested name \".SFCompactRounded-Ultralight\", it will get Times-Roman rather than the intended font. All system UI font access should be through proper APIs such as CTFontCreateUIFontForLanguage() or +[NSFont systemFontOfSize:].\n",
      "2025-02-19 16:43:49.269 system_profiler[5067:149379] CoreText note: Client requested name \".SFCompactRounded-Semibold\", it will get Times-Roman rather than the intended font. All system UI font access should be through proper APIs such as CTFontCreateUIFontForLanguage() or +[NSFont systemFontOfSize:].\n",
      "2025-02-19 16:43:49.274 system_profiler[5067:149379] CoreText note: Client requested name \".SFCompactRounded-Bold\", it will get Times-Roman rather than the intended font. All system UI font access should be through proper APIs such as CTFontCreateUIFontForLanguage() or +[NSFont systemFontOfSize:].\n",
      "2025-02-19 16:43:49.278 system_profiler[5067:149379] CoreText note: Client requested name \".SFCompactRounded-Heavy\", it will get Times-Roman rather than the intended font. All system UI font access should be through proper APIs such as CTFontCreateUIFontForLanguage() or +[NSFont systemFontOfSize:].\n",
      "2025-02-19 16:43:49.284 system_profiler[5067:149379] CoreText note: Client requested name \".SFCompactRounded-Black\", it will get Times-Roman rather than the intended font. All system UI font access should be through proper APIs such as CTFontCreateUIFontForLanguage() or +[NSFont systemFontOfSize:].\n",
      "2025-02-19 16:43:49.289 system_profiler[5067:149379] CoreText note: Client requested name \"..SFCompactText-Regular\", it will get Times-Roman rather than the intended font. All system UI font access should be through proper APIs such as CTFontCreateUIFontForLanguage() or +[NSFont systemFontOfSize:].\n",
      "2025-02-19 16:43:49.293 system_profiler[5067:149379] CoreText note: Client requested name \".SFCompactText-Regular\", it will get Times-Roman rather than the intended font. All system UI font access should be through proper APIs such as CTFontCreateUIFontForLanguage() or +[NSFont systemFontOfSize:].\n",
      "2025-02-19 16:43:49.299 system_profiler[5067:149379] CoreText note: Client requested name \".SFCompactText-RegularG1\", it will get Times-Roman rather than the intended font. All system UI font access should be through proper APIs such as CTFontCreateUIFontForLanguage() or +[NSFont systemFontOfSize:].\n",
      "2025-02-19 16:43:49.305 system_profiler[5067:149379] CoreText note: Client requested name \".SFCompactText-RegularG2\", it will get Times-Roman rather than the intended font. All system UI font access should be through proper APIs such as CTFontCreateUIFontForLanguage() or +[NSFont systemFontOfSize:].\n",
      "2025-02-19 16:43:49.311 system_profiler[5067:149379] CoreText note: Client requested name \".SFCompactText-RegularG3\", it will get Times-Roman rather than the intended font. All system UI font access should be through proper APIs such as CTFontCreateUIFontForLanguage() or +[NSFont systemFontOfSize:].\n",
      "2025-02-19 16:43:49.317 system_profiler[5067:149379] CoreText note: Client requested name \".SFCompactText-Medium\", it will get Times-Roman rather than the intended font. All system UI font access should be through proper APIs such as CTFontCreateUIFontForLanguage() or +[NSFont systemFontOfSize:].\n",
      "2025-02-19 16:43:49.322 system_profiler[5067:149379] CoreText note: Client requested name \".SFCompactText-Light\", it will get Times-Roman rather than the intended font. All system UI font access should be through proper APIs such as CTFontCreateUIFontForLanguage() or +[NSFont systemFontOfSize:].\n",
      "2025-02-19 16:43:49.326 system_profiler[5067:149379] CoreText note: Client requested name \".SFCompactText-Thin\", it will get Times-Roman rather than the intended font. All system UI font access should be through proper APIs such as CTFontCreateUIFontForLanguage() or +[NSFont systemFontOfSize:].\n",
      "2025-02-19 16:43:49.332 system_profiler[5067:149379] CoreText note: Client requested name \".SFCompactText-Ultralight\", it will get Times-Roman rather than the intended font. All system UI font access should be through proper APIs such as CTFontCreateUIFontForLanguage() or +[NSFont systemFontOfSize:].\n",
      "2025-02-19 16:43:49.338 system_profiler[5067:149379] CoreText note: Client requested name \"..SFCompactText-Italic\", it will get Times-Roman rather than the intended font. All system UI font access should be through proper APIs such as CTFontCreateUIFontForLanguage() or +[NSFont systemFontOfSize:].\n",
      "2025-02-19 16:43:49.345 system_profiler[5067:149379] CoreText note: Client requested name \".SFCompactText-RegularItalic\", it will get Times-Roman rather than the intended font. All system UI font access should be through proper APIs such as CTFontCreateUIFontForLanguage() or +[NSFont systemFontOfSize:].\n",
      "2025-02-19 16:43:49.351 system_profiler[5067:149379] CoreText note: Client requested name \".SFCompactText-RegularItalicG1\", it will get Times-Roman rather than the intended font. All system UI font access should be through proper APIs such as CTFontCreateUIFontForLanguage() or +[NSFont systemFontOfSize:].\n",
      "2025-02-19 16:43:49.357 system_profiler[5067:149379] CoreText note: Client requested name \".SFCompactText-RegularItalicG2\", it will get Times-Roman rather than the intended font. All system UI font access should be through proper APIs such as CTFontCreateUIFontForLanguage() or +[NSFont systemFontOfSize:].\n",
      "2025-02-19 16:43:49.363 system_profiler[5067:149379] CoreText note: Client requested name \".SFCompactText-RegularItalicG3\", it will get Times-Roman rather than the intended font. All system UI font access should be through proper APIs such as CTFontCreateUIFontForLanguage() or +[NSFont systemFontOfSize:].\n",
      "2025-02-19 16:43:49.371 system_profiler[5067:149379] CoreText note: Client requested name \".SFCompactText-MediumItalic\", it will get Times-Roman rather than the intended font. All system UI font access should be through proper APIs such as CTFontCreateUIFontForLanguage() or +[NSFont systemFontOfSize:].\n",
      "2025-02-19 16:43:49.377 system_profiler[5067:149379] CoreText note: Client requested name \".SFCompactText-LightItalic\", it will get Times-Roman rather than the intended font. All system UI font access should be through proper APIs such as CTFontCreateUIFontForLanguage() or +[NSFont systemFontOfSize:].\n",
      "2025-02-19 16:43:49.383 system_profiler[5067:149379] CoreText note: Client requested name \".SFCompactText-ThinItalic\", it will get Times-Roman rather than the intended font. All system UI font access should be through proper APIs such as CTFontCreateUIFontForLanguage() or +[NSFont systemFontOfSize:].\n",
      "2025-02-19 16:43:49.389 system_profiler[5067:149379] CoreText note: Client requested name \".SFCompactText-UltralightItalic\", it will get Times-Roman rather than the intended font. All system UI font access should be through proper APIs such as CTFontCreateUIFontForLanguage() or +[NSFont systemFontOfSize:].\n",
      "2025-02-19 16:43:49.393 system_profiler[5067:149379] CoreText note: Client requested name \".SFCompactText-Semibold\", it will get Times-Roman rather than the intended font. All system UI font access should be through proper APIs such as CTFontCreateUIFontForLanguage() or +[NSFont systemFontOfSize:].\n",
      "2025-02-19 16:43:49.397 system_profiler[5067:149379] CoreText note: Client requested name \".SFCompactText-Bold\", it will get Times-Roman rather than the intended font. All system UI font access should be through proper APIs such as CTFontCreateUIFontForLanguage() or +[NSFont systemFontOfSize:].\n",
      "2025-02-19 16:43:49.402 system_profiler[5067:149379] CoreText note: Client requested name \".SFCompactText-BoldG1\", it will get Times-Roman rather than the intended font. All system UI font access should be through proper APIs such as CTFontCreateUIFontForLanguage() or +[NSFont systemFontOfSize:].\n",
      "2025-02-19 16:43:49.406 system_profiler[5067:149379] CoreText note: Client requested name \".SFCompactText-BoldG2\", it will get Times-Roman rather than the intended font. All system UI font access should be through proper APIs such as CTFontCreateUIFontForLanguage() or +[NSFont systemFontOfSize:].\n",
      "2025-02-19 16:43:49.413 system_profiler[5067:149379] CoreText note: Client requested name \".SFCompactText-BoldG3\", it will get Times-Roman rather than the intended font. All system UI font access should be through proper APIs such as CTFontCreateUIFontForLanguage() or +[NSFont systemFontOfSize:].\n",
      "2025-02-19 16:43:49.421 system_profiler[5067:149379] CoreText note: Client requested name \".SFCompactText-Heavy\", it will get Times-Roman rather than the intended font. All system UI font access should be through proper APIs such as CTFontCreateUIFontForLanguage() or +[NSFont systemFontOfSize:].\n",
      "2025-02-19 16:43:49.425 system_profiler[5067:149379] CoreText note: Client requested name \".SFCompactText-SemiboldItalic\", it will get Times-Roman rather than the intended font. All system UI font access should be through proper APIs such as CTFontCreateUIFontForLanguage() or +[NSFont systemFontOfSize:].\n",
      "2025-02-19 16:43:49.429 system_profiler[5067:149379] CoreText note: Client requested name \".SFCompactText-BoldItalic\", it will get Times-Roman rather than the intended font. All system UI font access should be through proper APIs such as CTFontCreateUIFontForLanguage() or +[NSFont systemFontOfSize:].\n",
      "2025-02-19 16:43:49.433 system_profiler[5067:149379] CoreText note: Client requested name \".SFCompactText-BoldItalicG1\", it will get Times-Roman rather than the intended font. All system UI font access should be through proper APIs such as CTFontCreateUIFontForLanguage() or +[NSFont systemFontOfSize:].\n",
      "2025-02-19 16:43:49.438 system_profiler[5067:149379] CoreText note: Client requested name \".SFCompactText-BoldItalicG2\", it will get Times-Roman rather than the intended font. All system UI font access should be through proper APIs such as CTFontCreateUIFontForLanguage() or +[NSFont systemFontOfSize:].\n",
      "2025-02-19 16:43:49.443 system_profiler[5067:149379] CoreText note: Client requested name \".SFCompactText-BoldItalicG3\", it will get Times-Roman rather than the intended font. All system UI font access should be through proper APIs such as CTFontCreateUIFontForLanguage() or +[NSFont systemFontOfSize:].\n",
      "2025-02-19 16:43:49.447 system_profiler[5067:149379] CoreText note: Client requested name \".SFCompactText-HeavyItalic\", it will get Times-Roman rather than the intended font. All system UI font access should be through proper APIs such as CTFontCreateUIFontForLanguage() or +[NSFont systemFontOfSize:].\n",
      "2025-02-19 16:43:49.453 system_profiler[5067:149379] CoreText note: Client requested name \".SFNS-Regular\", it will get Times-Roman rather than the intended font. All system UI font access should be through proper APIs such as CTFontCreateUIFontForLanguage() or +[NSFont systemFontOfSize:].\n",
      "2025-02-19 16:43:49.460 system_profiler[5067:149379] CoreText note: Client requested name \".SFNS-RegularG1\", it will get Times-Roman rather than the intended font. All system UI font access should be through proper APIs such as CTFontCreateUIFontForLanguage() or +[NSFont systemFontOfSize:].\n",
      "2025-02-19 16:43:49.466 system_profiler[5067:149379] CoreText note: Client requested name \".SFNS-RegularG2\", it will get Times-Roman rather than the intended font. All system UI font access should be through proper APIs such as CTFontCreateUIFontForLanguage() or +[NSFont systemFontOfSize:].\n",
      "2025-02-19 16:43:49.472 system_profiler[5067:149379] CoreText note: Client requested name \".SFNS-RegularG3\", it will get Times-Roman rather than the intended font. All system UI font access should be through proper APIs such as CTFontCreateUIFontForLanguage() or +[NSFont systemFontOfSize:].\n",
      "2025-02-19 16:43:49.478 system_profiler[5067:149379] CoreText note: Client requested name \".SFNS-RegularG4\", it will get Times-Roman rather than the intended font. All system UI font access should be through proper APIs such as CTFontCreateUIFontForLanguage() or +[NSFont systemFontOfSize:].\n",
      "2025-02-19 16:43:49.483 system_profiler[5067:149379] CoreText note: Client requested name \".SFNS-Medium\", it will get Times-Roman rather than the intended font. All system UI font access should be through proper APIs such as CTFontCreateUIFontForLanguage() or +[NSFont systemFontOfSize:].\n",
      "2025-02-19 16:43:49.489 system_profiler[5067:149379] CoreText note: Client requested name \".SFNS-MediumG1\", it will get Times-Roman rather than the intended font. All system UI font access should be through proper APIs such as CTFontCreateUIFontForLanguage() or +[NSFont systemFontOfSize:].\n",
      "2025-02-19 16:43:49.496 system_profiler[5067:149379] CoreText note: Client requested name \".SFNS-MediumG2\", it will get Times-Roman rather than the intended font. All system UI font access should be through proper APIs such as CTFontCreateUIFontForLanguage() or +[NSFont systemFontOfSize:].\n",
      "2025-02-19 16:43:49.502 system_profiler[5067:149379] CoreText note: Client requested name \".SFNS-MediumG3\", it will get Times-Roman rather than the intended font. All system UI font access should be through proper APIs such as CTFontCreateUIFontForLanguage() or +[NSFont systemFontOfSize:].\n",
      "2025-02-19 16:43:49.508 system_profiler[5067:149379] CoreText note: Client requested name \".SFNS-MediumG4\", it will get Times-Roman rather than the intended font. All system UI font access should be through proper APIs such as CTFontCreateUIFontForLanguage() or +[NSFont systemFontOfSize:].\n",
      "2025-02-19 16:43:49.514 system_profiler[5067:149379] CoreText note: Client requested name \".SFNS-Light\", it will get Times-Roman rather than the intended font. All system UI font access should be through proper APIs such as CTFontCreateUIFontForLanguage() or +[NSFont systemFontOfSize:].\n",
      "2025-02-19 16:43:49.520 system_profiler[5067:149379] CoreText note: Client requested name \".SFNS-LightG1\", it will get Times-Roman rather than the intended font. All system UI font access should be through proper APIs such as CTFontCreateUIFontForLanguage() or +[NSFont systemFontOfSize:].\n",
      "2025-02-19 16:43:49.526 system_profiler[5067:149379] CoreText note: Client requested name \".SFNS-LightG2\", it will get Times-Roman rather than the intended font. All system UI font access should be through proper APIs such as CTFontCreateUIFontForLanguage() or +[NSFont systemFontOfSize:].\n",
      "2025-02-19 16:43:49.533 system_profiler[5067:149379] CoreText note: Client requested name \".SFNS-LightG3\", it will get Times-Roman rather than the intended font. All system UI font access should be through proper APIs such as CTFontCreateUIFontForLanguage() or +[NSFont systemFontOfSize:].\n",
      "2025-02-19 16:43:49.539 system_profiler[5067:149379] CoreText note: Client requested name \".SFNS-LightG4\", it will get Times-Roman rather than the intended font. All system UI font access should be through proper APIs such as CTFontCreateUIFontForLanguage() or +[NSFont systemFontOfSize:].\n",
      "2025-02-19 16:43:49.545 system_profiler[5067:149379] CoreText note: Client requested name \".SFNS-Thin\", it will get Times-Roman rather than the intended font. All system UI font access should be through proper APIs such as CTFontCreateUIFontForLanguage() or +[NSFont systemFontOfSize:].\n",
      "2025-02-19 16:43:49.552 system_profiler[5067:149379] CoreText note: Client requested name \".SFNS-ThinG1\", it will get Times-Roman rather than the intended font. All system UI font access should be through proper APIs such as CTFontCreateUIFontForLanguage() or +[NSFont systemFontOfSize:].\n",
      "2025-02-19 16:43:49.559 system_profiler[5067:149379] CoreText note: Client requested name \".SFNS-ThinG2\", it will get Times-Roman rather than the intended font. All system UI font access should be through proper APIs such as CTFontCreateUIFontForLanguage() or +[NSFont systemFontOfSize:].\n",
      "2025-02-19 16:43:49.566 system_profiler[5067:149379] CoreText note: Client requested name \".SFNS-ThinG3\", it will get Times-Roman rather than the intended font. All system UI font access should be through proper APIs such as CTFontCreateUIFontForLanguage() or +[NSFont systemFontOfSize:].\n",
      "2025-02-19 16:43:49.573 system_profiler[5067:149379] CoreText note: Client requested name \".SFNS-ThinG4\", it will get Times-Roman rather than the intended font. All system UI font access should be through proper APIs such as CTFontCreateUIFontForLanguage() or +[NSFont systemFontOfSize:].\n",
      "2025-02-19 16:43:49.579 system_profiler[5067:149379] CoreText note: Client requested name \".SFNS-Ultralight\", it will get Times-Roman rather than the intended font. All system UI font access should be through proper APIs such as CTFontCreateUIFontForLanguage() or +[NSFont systemFontOfSize:].\n",
      "2025-02-19 16:43:49.585 system_profiler[5067:149379] CoreText note: Client requested name \".SFNS-UltralightG1\", it will get Times-Roman rather than the intended font. All system UI font access should be through proper APIs such as CTFontCreateUIFontForLanguage() or +[NSFont systemFontOfSize:].\n",
      "2025-02-19 16:43:49.592 system_profiler[5067:149379] CoreText note: Client requested name \".SFNS-UltralightG2\", it will get Times-Roman rather than the intended font. All system UI font access should be through proper APIs such as CTFontCreateUIFontForLanguage() or +[NSFont systemFontOfSize:].\n",
      "2025-02-19 16:43:49.599 system_profiler[5067:149379] CoreText note: Client requested name \".SFNS-UltralightG3\", it will get Times-Roman rather than the intended font. All system UI font access should be through proper APIs such as CTFontCreateUIFontForLanguage() or +[NSFont systemFontOfSize:].\n",
      "2025-02-19 16:43:49.606 system_profiler[5067:149379] CoreText note: Client requested name \".SFNS-UltralightG4\", it will get Times-Roman rather than the intended font. All system UI font access should be through proper APIs such as CTFontCreateUIFontForLanguage() or +[NSFont systemFontOfSize:].\n",
      "2025-02-19 16:43:49.612 system_profiler[5067:149379] CoreText note: Client requested name \".SFNS-Ultrathin\", it will get Times-Roman rather than the intended font. All system UI font access should be through proper APIs such as CTFontCreateUIFontForLanguage() or +[NSFont systemFontOfSize:].\n",
      "2025-02-19 16:43:49.619 system_profiler[5067:149379] CoreText note: Client requested name \".SFNS-UltrathinG1\", it will get Times-Roman rather than the intended font. All system UI font access should be through proper APIs such as CTFontCreateUIFontForLanguage() or +[NSFont systemFontOfSize:].\n",
      "2025-02-19 16:43:49.626 system_profiler[5067:149379] CoreText note: Client requested name \".SFNS-UltrathinG2\", it will get Times-Roman rather than the intended font. All system UI font access should be through proper APIs such as CTFontCreateUIFontForLanguage() or +[NSFont systemFontOfSize:].\n",
      "2025-02-19 16:43:49.633 system_profiler[5067:149379] CoreText note: Client requested name \".SFNS-UltrathinG3\", it will get Times-Roman rather than the intended font. All system UI font access should be through proper APIs such as CTFontCreateUIFontForLanguage() or +[NSFont systemFontOfSize:].\n",
      "2025-02-19 16:43:49.640 system_profiler[5067:149379] CoreText note: Client requested name \".SFNS-UltrathinG4\", it will get Times-Roman rather than the intended font. All system UI font access should be through proper APIs such as CTFontCreateUIFontForLanguage() or +[NSFont systemFontOfSize:].\n",
      "2025-02-19 16:43:49.647 system_profiler[5067:149379] CoreText note: Client requested name \".SFNS-RegularItalic\", it will get Times-Roman rather than the intended font. All system UI font access should be through proper APIs such as CTFontCreateUIFontForLanguage() or +[NSFont systemFontOfSize:].\n",
      "2025-02-19 16:43:49.654 system_profiler[5067:149379] CoreText note: Client requested name \".SFNS-MediumItalic\", it will get Times-Roman rather than the intended font. All system UI font access should be through proper APIs such as CTFontCreateUIFontForLanguage() or +[NSFont systemFontOfSize:].\n",
      "2025-02-19 16:43:49.660 system_profiler[5067:149379] CoreText note: Client requested name \".SFNS-LightItalic\", it will get Times-Roman rather than the intended font. All system UI font access should be through proper APIs such as CTFontCreateUIFontForLanguage() or +[NSFont systemFontOfSize:].\n",
      "2025-02-19 16:43:49.667 system_profiler[5067:149379] CoreText note: Client requested name \".SFNS-ThinItalic\", it will get Times-Roman rather than the intended font. All system UI font access should be through proper APIs such as CTFontCreateUIFontForLanguage() or +[NSFont systemFontOfSize:].\n",
      "2025-02-19 16:43:49.674 system_profiler[5067:149379] CoreText note: Client requested name \".SFNS-UltralightItalic\", it will get Times-Roman rather than the intended font. All system UI font access should be through proper APIs such as CTFontCreateUIFontForLanguage() or +[NSFont systemFontOfSize:].\n",
      "2025-02-19 16:43:49.679 system_profiler[5067:149379] CoreText note: Client requested name \".SFNS-UltrathinItalic\", it will get Times-Roman rather than the intended font. All system UI font access should be through proper APIs such as CTFontCreateUIFontForLanguage() or +[NSFont systemFontOfSize:].\n",
      "2025-02-19 16:43:49.685 system_profiler[5067:149379] CoreText note: Client requested name \".SFNS-Semibold\", it will get Times-Roman rather than the intended font. All system UI font access should be through proper APIs such as CTFontCreateUIFontForLanguage() or +[NSFont systemFontOfSize:].\n",
      "2025-02-19 16:43:49.692 system_profiler[5067:149379] CoreText note: Client requested name \".SFNS-SemiboldG1\", it will get Times-Roman rather than the intended font. All system UI font access should be through proper APIs such as CTFontCreateUIFontForLanguage() or +[NSFont systemFontOfSize:].\n",
      "2025-02-19 16:43:49.699 system_profiler[5067:149379] CoreText note: Client requested name \".SFNS-SemiboldG2\", it will get Times-Roman rather than the intended font. All system UI font access should be through proper APIs such as CTFontCreateUIFontForLanguage() or +[NSFont systemFontOfSize:].\n",
      "2025-02-19 16:43:49.705 system_profiler[5067:149379] CoreText note: Client requested name \".SFNS-SemiboldG3\", it will get Times-Roman rather than the intended font. All system UI font access should be through proper APIs such as CTFontCreateUIFontForLanguage() or +[NSFont systemFontOfSize:].\n",
      "2025-02-19 16:43:49.712 system_profiler[5067:149379] CoreText note: Client requested name \".SFNS-SemiboldG4\", it will get Times-Roman rather than the intended font. All system UI font access should be through proper APIs such as CTFontCreateUIFontForLanguage() or +[NSFont systemFontOfSize:].\n",
      "2025-02-19 16:43:49.719 system_profiler[5067:149379] CoreText note: Client requested name \".SFNS-Bold\", it will get Times-Roman rather than the intended font. All system UI font access should be through proper APIs such as CTFontCreateUIFontForLanguage() or +[NSFont systemFontOfSize:].\n",
      "2025-02-19 16:43:49.726 system_profiler[5067:149379] CoreText note: Client requested name \".SFNS-BoldG1\", it will get Times-Roman rather than the intended font. All system UI font access should be through proper APIs such as CTFontCreateUIFontForLanguage() or +[NSFont systemFontOfSize:].\n",
      "2025-02-19 16:43:49.733 system_profiler[5067:149379] CoreText note: Client requested name \".SFNS-BoldG2\", it will get Times-Roman rather than the intended font. All system UI font access should be through proper APIs such as CTFontCreateUIFontForLanguage() or +[NSFont systemFontOfSize:].\n",
      "2025-02-19 16:43:49.740 system_profiler[5067:149379] CoreText note: Client requested name \".SFNS-BoldG3\", it will get Times-Roman rather than the intended font. All system UI font access should be through proper APIs such as CTFontCreateUIFontForLanguage() or +[NSFont systemFontOfSize:].\n",
      "2025-02-19 16:43:49.746 system_profiler[5067:149379] CoreText note: Client requested name \".SFNS-BoldG4\", it will get Times-Roman rather than the intended font. All system UI font access should be through proper APIs such as CTFontCreateUIFontForLanguage() or +[NSFont systemFontOfSize:].\n",
      "2025-02-19 16:43:49.753 system_profiler[5067:149379] CoreText note: Client requested name \".SFNS-Heavy\", it will get Times-Roman rather than the intended font. All system UI font access should be through proper APIs such as CTFontCreateUIFontForLanguage() or +[NSFont systemFontOfSize:].\n",
      "2025-02-19 16:43:49.761 system_profiler[5067:149379] CoreText note: Client requested name \".SFNS-HeavyG1\", it will get Times-Roman rather than the intended font. All system UI font access should be through proper APIs such as CTFontCreateUIFontForLanguage() or +[NSFont systemFontOfSize:].\n",
      "2025-02-19 16:43:49.767 system_profiler[5067:149379] CoreText note: Client requested name \".SFNS-HeavyG2\", it will get Times-Roman rather than the intended font. All system UI font access should be through proper APIs such as CTFontCreateUIFontForLanguage() or +[NSFont systemFontOfSize:].\n",
      "2025-02-19 16:43:49.774 system_profiler[5067:149379] CoreText note: Client requested name \".SFNS-HeavyG3\", it will get Times-Roman rather than the intended font. All system UI font access should be through proper APIs such as CTFontCreateUIFontForLanguage() or +[NSFont systemFontOfSize:].\n",
      "2025-02-19 16:43:49.780 system_profiler[5067:149379] CoreText note: Client requested name \".SFNS-HeavyG4\", it will get Times-Roman rather than the intended font. All system UI font access should be through proper APIs such as CTFontCreateUIFontForLanguage() or +[NSFont systemFontOfSize:].\n",
      "2025-02-19 16:43:49.786 system_profiler[5067:149379] CoreText note: Client requested name \".SFNS-Black\", it will get Times-Roman rather than the intended font. All system UI font access should be through proper APIs such as CTFontCreateUIFontForLanguage() or +[NSFont systemFontOfSize:].\n",
      "2025-02-19 16:43:49.792 system_profiler[5067:149379] CoreText note: Client requested name \".SFNS-SemiboldItalic\", it will get Times-Roman rather than the intended font. All system UI font access should be through proper APIs such as CTFontCreateUIFontForLanguage() or +[NSFont systemFontOfSize:].\n",
      "2025-02-19 16:43:49.798 system_profiler[5067:149379] CoreText note: Client requested name \".SFNS-BoldItalic\", it will get Times-Roman rather than the intended font. All system UI font access should be through proper APIs such as CTFontCreateUIFontForLanguage() or +[NSFont systemFontOfSize:].\n",
      "2025-02-19 16:43:49.804 system_profiler[5067:149379] CoreText note: Client requested name \".SFNS-HeavyItalic\", it will get Times-Roman rather than the intended font. All system UI font access should be through proper APIs such as CTFontCreateUIFontForLanguage() or +[NSFont systemFontOfSize:].\n",
      "2025-02-19 16:43:49.809 system_profiler[5067:149379] CoreText note: Client requested name \".SFNS-BlackItalic\", it will get Times-Roman rather than the intended font. All system UI font access should be through proper APIs such as CTFontCreateUIFontForLanguage() or +[NSFont systemFontOfSize:].\n",
      "2025-02-19 16:43:49.816 system_profiler[5067:149379] CoreText note: Client requested name \".SFNSDisplayCondensed-Regular\", it will get Times-Roman rather than the intended font. All system UI font access should be through proper APIs such as CTFontCreateUIFontForLanguage() or +[NSFont systemFontOfSize:].\n",
      "2025-02-19 16:43:49.824 system_profiler[5067:149379] CoreText note: Client requested name \".SFNSDisplayCondensed-Medium\", it will get Times-Roman rather than the intended font. All system UI font access should be through proper APIs such as CTFontCreateUIFontForLanguage() or +[NSFont systemFontOfSize:].\n",
      "2025-02-19 16:43:49.831 system_profiler[5067:149379] CoreText note: Client requested name \".SFNSDisplayCondensed-Light\", it will get Times-Roman rather than the intended font. All system UI font access should be through proper APIs such as CTFontCreateUIFontForLanguage() or +[NSFont systemFontOfSize:].\n",
      "2025-02-19 16:43:49.838 system_profiler[5067:149379] CoreText note: Client requested name \".SFNSDisplayCondensed-Thin\", it will get Times-Roman rather than the intended font. All system UI font access should be through proper APIs such as CTFontCreateUIFontForLanguage() or +[NSFont systemFontOfSize:].\n",
      "2025-02-19 16:43:49.844 system_profiler[5067:149379] CoreText note: Client requested name \".SFNSDisplayCondensed-Ultralight\", it will get Times-Roman rather than the intended font. All system UI font access should be through proper APIs such as CTFontCreateUIFontForLanguage() or +[NSFont systemFontOfSize:].\n",
      "2025-02-19 16:43:49.850 system_profiler[5067:149379] CoreText note: Client requested name \".SFNSDisplayCondensed-Semibold\", it will get Times-Roman rather than the intended font. All system UI font access should be through proper APIs such as CTFontCreateUIFontForLanguage() or +[NSFont systemFontOfSize:].\n",
      "2025-02-19 16:43:49.856 system_profiler[5067:149379] CoreText note: Client requested name \".SFNSDisplayCondensed-Bold\", it will get Times-Roman rather than the intended font. All system UI font access should be through proper APIs such as CTFontCreateUIFontForLanguage() or +[NSFont systemFontOfSize:].\n",
      "2025-02-19 16:43:49.864 system_profiler[5067:149379] CoreText note: Client requested name \".SFNSDisplayCondensed-Heavy\", it will get Times-Roman rather than the intended font. All system UI font access should be through proper APIs such as CTFontCreateUIFontForLanguage() or +[NSFont systemFontOfSize:].\n",
      "2025-02-19 16:43:49.870 system_profiler[5067:149379] CoreText note: Client requested name \".SFNSDisplayCondensed-Black\", it will get Times-Roman rather than the intended font. All system UI font access should be through proper APIs such as CTFontCreateUIFontForLanguage() or +[NSFont systemFontOfSize:].\n",
      "2025-02-19 16:43:49.877 system_profiler[5067:149379] CoreText note: Client requested name \".SFNSMono-Regular\", it will get Times-Roman rather than the intended font. All system UI font access should be through proper APIs such as CTFontCreateUIFontForLanguage() or +[NSFont systemFontOfSize:].\n",
      "2025-02-19 16:43:49.882 system_profiler[5067:149379] CoreText note: Client requested name \".SFNSMono-Medium\", it will get Times-Roman rather than the intended font. All system UI font access should be through proper APIs such as CTFontCreateUIFontForLanguage() or +[NSFont systemFontOfSize:].\n",
      "2025-02-19 16:43:49.886 system_profiler[5067:149379] CoreText note: Client requested name \".SFNSMono-Light\", it will get Times-Roman rather than the intended font. All system UI font access should be through proper APIs such as CTFontCreateUIFontForLanguage() or +[NSFont systemFontOfSize:].\n",
      "2025-02-19 16:43:49.892 system_profiler[5067:149379] CoreText note: Client requested name \".SFNSMono-RegularItalic\", it will get Times-Roman rather than the intended font. All system UI font access should be through proper APIs such as CTFontCreateUIFontForLanguage() or +[NSFont systemFontOfSize:].\n",
      "2025-02-19 16:43:49.896 system_profiler[5067:149379] CoreText note: Client requested name \".SFNSMono-MediumItalic\", it will get Times-Roman rather than the intended font. All system UI font access should be through proper APIs such as CTFontCreateUIFontForLanguage() or +[NSFont systemFontOfSize:].\n",
      "2025-02-19 16:43:49.900 system_profiler[5067:149379] CoreText note: Client requested name \".SFNSMono-LightItalic\", it will get Times-Roman rather than the intended font. All system UI font access should be through proper APIs such as CTFontCreateUIFontForLanguage() or +[NSFont systemFontOfSize:].\n",
      "2025-02-19 16:43:49.904 system_profiler[5067:149379] CoreText note: Client requested name \".SFNSMono-Semibold\", it will get Times-Roman rather than the intended font. All system UI font access should be through proper APIs such as CTFontCreateUIFontForLanguage() or +[NSFont systemFontOfSize:].\n",
      "2025-02-19 16:43:49.908 system_profiler[5067:149379] CoreText note: Client requested name \".SFNSMono-Bold\", it will get Times-Roman rather than the intended font. All system UI font access should be through proper APIs such as CTFontCreateUIFontForLanguage() or +[NSFont systemFontOfSize:].\n",
      "2025-02-19 16:43:49.912 system_profiler[5067:149379] CoreText note: Client requested name \".SFNSMono-Heavy\", it will get Times-Roman rather than the intended font. All system UI font access should be through proper APIs such as CTFontCreateUIFontForLanguage() or +[NSFont systemFontOfSize:].\n",
      "2025-02-19 16:43:49.916 system_profiler[5067:149379] CoreText note: Client requested name \".SFNSMono-SemiboldItalic\", it will get Times-Roman rather than the intended font. All system UI font access should be through proper APIs such as CTFontCreateUIFontForLanguage() or +[NSFont systemFontOfSize:].\n",
      "2025-02-19 16:43:49.920 system_profiler[5067:149379] CoreText note: Client requested name \".SFNSMono-BoldItalic\", it will get Times-Roman rather than the intended font. All system UI font access should be through proper APIs such as CTFontCreateUIFontForLanguage() or +[NSFont systemFontOfSize:].\n",
      "2025-02-19 16:43:49.924 system_profiler[5067:149379] CoreText note: Client requested name \".SFNSMono-HeavyItalic\", it will get Times-Roman rather than the intended font. All system UI font access should be through proper APIs such as CTFontCreateUIFontForLanguage() or +[NSFont systemFontOfSize:].\n",
      "2025-02-19 16:43:49.927 system_profiler[5067:149379] CoreText note: Client requested name \".SFNSRounded-Regular\", it will get Times-Roman rather than the intended font. All system UI font access should be through proper APIs such as CTFontCreateUIFontForLanguage() or +[NSFont systemFontOfSize:].\n",
      "2025-02-19 16:43:49.932 system_profiler[5067:149379] CoreText note: Client requested name \".SFNSRounded-RegularG1\", it will get Times-Roman rather than the intended font. All system UI font access should be through proper APIs such as CTFontCreateUIFontForLanguage() or +[NSFont systemFontOfSize:].\n",
      "2025-02-19 16:43:49.938 system_profiler[5067:149379] CoreText note: Client requested name \".SFNSRounded-RegularG2\", it will get Times-Roman rather than the intended font. All system UI font access should be through proper APIs such as CTFontCreateUIFontForLanguage() or +[NSFont systemFontOfSize:].\n",
      "2025-02-19 16:43:49.944 system_profiler[5067:149379] CoreText note: Client requested name \".SFNSRounded-RegularG3\", it will get Times-Roman rather than the intended font. All system UI font access should be through proper APIs such as CTFontCreateUIFontForLanguage() or +[NSFont systemFontOfSize:].\n",
      "2025-02-19 16:43:49.949 system_profiler[5067:149379] CoreText note: Client requested name \".SFNSRounded-RegularG4\", it will get Times-Roman rather than the intended font. All system UI font access should be through proper APIs such as CTFontCreateUIFontForLanguage() or +[NSFont systemFontOfSize:].\n",
      "2025-02-19 16:43:49.955 system_profiler[5067:149379] CoreText note: Client requested name \".SFNSRounded-Medium\", it will get Times-Roman rather than the intended font. All system UI font access should be through proper APIs such as CTFontCreateUIFontForLanguage() or +[NSFont systemFontOfSize:].\n",
      "2025-02-19 16:43:49.960 system_profiler[5067:149379] CoreText note: Client requested name \".SFNSRounded-MediumG1\", it will get Times-Roman rather than the intended font. All system UI font access should be through proper APIs such as CTFontCreateUIFontForLanguage() or +[NSFont systemFontOfSize:].\n",
      "2025-02-19 16:43:49.965 system_profiler[5067:149379] CoreText note: Client requested name \".SFNSRounded-MediumG2\", it will get Times-Roman rather than the intended font. All system UI font access should be through proper APIs such as CTFontCreateUIFontForLanguage() or +[NSFont systemFontOfSize:].\n",
      "2025-02-19 16:43:49.971 system_profiler[5067:149379] CoreText note: Client requested name \".SFNSRounded-MediumG3\", it will get Times-Roman rather than the intended font. All system UI font access should be through proper APIs such as CTFontCreateUIFontForLanguage() or +[NSFont systemFontOfSize:].\n",
      "2025-02-19 16:43:49.976 system_profiler[5067:149379] CoreText note: Client requested name \".SFNSRounded-MediumG4\", it will get Times-Roman rather than the intended font. All system UI font access should be through proper APIs such as CTFontCreateUIFontForLanguage() or +[NSFont systemFontOfSize:].\n",
      "2025-02-19 16:43:49.982 system_profiler[5067:149379] CoreText note: Client requested name \".SFNSRounded-Light\", it will get Times-Roman rather than the intended font. All system UI font access should be through proper APIs such as CTFontCreateUIFontForLanguage() or +[NSFont systemFontOfSize:].\n",
      "2025-02-19 16:43:49.988 system_profiler[5067:149379] CoreText note: Client requested name \".SFNSRounded-LightG1\", it will get Times-Roman rather than the intended font. All system UI font access should be through proper APIs such as CTFontCreateUIFontForLanguage() or +[NSFont systemFontOfSize:].\n",
      "2025-02-19 16:43:49.994 system_profiler[5067:149379] CoreText note: Client requested name \".SFNSRounded-LightG2\", it will get Times-Roman rather than the intended font. All system UI font access should be through proper APIs such as CTFontCreateUIFontForLanguage() or +[NSFont systemFontOfSize:].\n",
      "2025-02-19 16:43:49.999 system_profiler[5067:149379] CoreText note: Client requested name \".SFNSRounded-LightG3\", it will get Times-Roman rather than the intended font. All system UI font access should be through proper APIs such as CTFontCreateUIFontForLanguage() or +[NSFont systemFontOfSize:].\n",
      "2025-02-19 16:43:50.005 system_profiler[5067:149379] CoreText note: Client requested name \".SFNSRounded-LightG4\", it will get Times-Roman rather than the intended font. All system UI font access should be through proper APIs such as CTFontCreateUIFontForLanguage() or +[NSFont systemFontOfSize:].\n",
      "2025-02-19 16:43:50.011 system_profiler[5067:149379] CoreText note: Client requested name \".SFNSRounded-Thin\", it will get Times-Roman rather than the intended font. All system UI font access should be through proper APIs such as CTFontCreateUIFontForLanguage() or +[NSFont systemFontOfSize:].\n",
      "2025-02-19 16:43:50.016 system_profiler[5067:149379] CoreText note: Client requested name \".SFNSRounded-ThinG1\", it will get Times-Roman rather than the intended font. All system UI font access should be through proper APIs such as CTFontCreateUIFontForLanguage() or +[NSFont systemFontOfSize:].\n",
      "2025-02-19 16:43:50.022 system_profiler[5067:149379] CoreText note: Client requested name \".SFNSRounded-ThinG2\", it will get Times-Roman rather than the intended font. All system UI font access should be through proper APIs such as CTFontCreateUIFontForLanguage() or +[NSFont systemFontOfSize:].\n",
      "2025-02-19 16:43:50.028 system_profiler[5067:149379] CoreText note: Client requested name \".SFNSRounded-ThinG3\", it will get Times-Roman rather than the intended font. All system UI font access should be through proper APIs such as CTFontCreateUIFontForLanguage() or +[NSFont systemFontOfSize:].\n",
      "2025-02-19 16:43:50.034 system_profiler[5067:149379] CoreText note: Client requested name \".SFNSRounded-ThinG4\", it will get Times-Roman rather than the intended font. All system UI font access should be through proper APIs such as CTFontCreateUIFontForLanguage() or +[NSFont systemFontOfSize:].\n",
      "2025-02-19 16:43:50.039 system_profiler[5067:149379] CoreText note: Client requested name \".SFNSRounded-Ultralight\", it will get Times-Roman rather than the intended font. All system UI font access should be through proper APIs such as CTFontCreateUIFontForLanguage() or +[NSFont systemFontOfSize:].\n",
      "2025-02-19 16:43:50.045 system_profiler[5067:149379] CoreText note: Client requested name \".SFNSRounded-UltralightG1\", it will get Times-Roman rather than the intended font. All system UI font access should be through proper APIs such as CTFontCreateUIFontForLanguage() or +[NSFont systemFontOfSize:].\n",
      "2025-02-19 16:43:50.050 system_profiler[5067:149379] CoreText note: Client requested name \".SFNSRounded-UltralightG2\", it will get Times-Roman rather than the intended font. All system UI font access should be through proper APIs such as CTFontCreateUIFontForLanguage() or +[NSFont systemFontOfSize:].\n",
      "2025-02-19 16:43:50.056 system_profiler[5067:149379] CoreText note: Client requested name \".SFNSRounded-UltralightG3\", it will get Times-Roman rather than the intended font. All system UI font access should be through proper APIs such as CTFontCreateUIFontForLanguage() or +[NSFont systemFontOfSize:].\n",
      "2025-02-19 16:43:50.062 system_profiler[5067:149379] CoreText note: Client requested name \".SFNSRounded-UltralightG4\", it will get Times-Roman rather than the intended font. All system UI font access should be through proper APIs such as CTFontCreateUIFontForLanguage() or +[NSFont systemFontOfSize:].\n",
      "2025-02-19 16:43:50.068 system_profiler[5067:149379] CoreText note: Client requested name \".SFNSRounded-Ultrathin\", it will get Times-Roman rather than the intended font. All system UI font access should be through proper APIs such as CTFontCreateUIFontForLanguage() or +[NSFont systemFontOfSize:].\n",
      "2025-02-19 16:43:50.073 system_profiler[5067:149379] CoreText note: Client requested name \".SFNSRounded-Semibold\", it will get Times-Roman rather than the intended font. All system UI font access should be through proper APIs such as CTFontCreateUIFontForLanguage() or +[NSFont systemFontOfSize:].\n",
      "2025-02-19 16:43:50.078 system_profiler[5067:149379] CoreText note: Client requested name \".SFNSRounded-SemiboldG1\", it will get Times-Roman rather than the intended font. All system UI font access should be through proper APIs such as CTFontCreateUIFontForLanguage() or +[NSFont systemFontOfSize:].\n",
      "2025-02-19 16:43:50.083 system_profiler[5067:149379] CoreText note: Client requested name \".SFNSRounded-SemiboldG2\", it will get Times-Roman rather than the intended font. All system UI font access should be through proper APIs such as CTFontCreateUIFontForLanguage() or +[NSFont systemFontOfSize:].\n",
      "2025-02-19 16:43:50.089 system_profiler[5067:149379] CoreText note: Client requested name \".SFNSRounded-SemiboldG3\", it will get Times-Roman rather than the intended font. All system UI font access should be through proper APIs such as CTFontCreateUIFontForLanguage() or +[NSFont systemFontOfSize:].\n",
      "2025-02-19 16:43:50.094 system_profiler[5067:149379] CoreText note: Client requested name \".SFNSRounded-SemiboldG4\", it will get Times-Roman rather than the intended font. All system UI font access should be through proper APIs such as CTFontCreateUIFontForLanguage() or +[NSFont systemFontOfSize:].\n",
      "2025-02-19 16:43:50.100 system_profiler[5067:149379] CoreText note: Client requested name \".SFNSRounded-Bold\", it will get Times-Roman rather than the intended font. All system UI font access should be through proper APIs such as CTFontCreateUIFontForLanguage() or +[NSFont systemFontOfSize:].\n",
      "2025-02-19 16:43:50.105 system_profiler[5067:149379] CoreText note: Client requested name \".SFNSRounded-BoldG1\", it will get Times-Roman rather than the intended font. All system UI font access should be through proper APIs such as CTFontCreateUIFontForLanguage() or +[NSFont systemFontOfSize:].\n",
      "2025-02-19 16:43:50.111 system_profiler[5067:149379] CoreText note: Client requested name \".SFNSRounded-BoldG2\", it will get Times-Roman rather than the intended font. All system UI font access should be through proper APIs such as CTFontCreateUIFontForLanguage() or +[NSFont systemFontOfSize:].\n",
      "2025-02-19 16:43:50.116 system_profiler[5067:149379] CoreText note: Client requested name \".SFNSRounded-BoldG3\", it will get Times-Roman rather than the intended font. All system UI font access should be through proper APIs such as CTFontCreateUIFontForLanguage() or +[NSFont systemFontOfSize:].\n",
      "2025-02-19 16:43:50.122 system_profiler[5067:149379] CoreText note: Client requested name \".SFNSRounded-BoldG4\", it will get Times-Roman rather than the intended font. All system UI font access should be through proper APIs such as CTFontCreateUIFontForLanguage() or +[NSFont systemFontOfSize:].\n",
      "2025-02-19 16:43:50.127 system_profiler[5067:149379] CoreText note: Client requested name \".SFNSRounded-Heavy\", it will get Times-Roman rather than the intended font. All system UI font access should be through proper APIs such as CTFontCreateUIFontForLanguage() or +[NSFont systemFontOfSize:].\n",
      "2025-02-19 16:43:50.132 system_profiler[5067:149379] CoreText note: Client requested name \".SFNSRounded-HeavyG1\", it will get Times-Roman rather than the intended font. All system UI font access should be through proper APIs such as CTFontCreateUIFontForLanguage() or +[NSFont systemFontOfSize:].\n",
      "2025-02-19 16:43:50.138 system_profiler[5067:149379] CoreText note: Client requested name \".SFNSRounded-HeavyG2\", it will get Times-Roman rather than the intended font. All system UI font access should be through proper APIs such as CTFontCreateUIFontForLanguage() or +[NSFont systemFontOfSize:].\n",
      "2025-02-19 16:43:50.145 system_profiler[5067:149379] CoreText note: Client requested name \".SFNSRounded-HeavyG3\", it will get Times-Roman rather than the intended font. All system UI font access should be through proper APIs such as CTFontCreateUIFontForLanguage() or +[NSFont systemFontOfSize:].\n",
      "2025-02-19 16:43:50.151 system_profiler[5067:149379] CoreText note: Client requested name \".SFNSRounded-HeavyG4\", it will get Times-Roman rather than the intended font. All system UI font access should be through proper APIs such as CTFontCreateUIFontForLanguage() or +[NSFont systemFontOfSize:].\n",
      "2025-02-19 16:43:50.157 system_profiler[5067:149379] CoreText note: Client requested name \".SFNSRounded-UltrathinG1\", it will get Times-Roman rather than the intended font. All system UI font access should be through proper APIs such as CTFontCreateUIFontForLanguage() or +[NSFont systemFontOfSize:].\n",
      "2025-02-19 16:43:50.162 system_profiler[5067:149379] CoreText note: Client requested name \".SFNSRounded-UltrathinG2\", it will get Times-Roman rather than the intended font. All system UI font access should be through proper APIs such as CTFontCreateUIFontForLanguage() or +[NSFont systemFontOfSize:].\n",
      "2025-02-19 16:43:50.168 system_profiler[5067:149379] CoreText note: Client requested name \".SFNSRounded-UltrathinG3\", it will get Times-Roman rather than the intended font. All system UI font access should be through proper APIs such as CTFontCreateUIFontForLanguage() or +[NSFont systemFontOfSize:].\n",
      "2025-02-19 16:43:50.173 system_profiler[5067:149379] CoreText note: Client requested name \".SFNSRounded-UltrathinG4\", it will get Times-Roman rather than the intended font. All system UI font access should be through proper APIs such as CTFontCreateUIFontForLanguage() or +[NSFont systemFontOfSize:].\n",
      "2025-02-19 16:43:50.180 system_profiler[5067:149379] CoreText note: Client requested name \".SFNSRounded-Black\", it will get Times-Roman rather than the intended font. All system UI font access should be through proper APIs such as CTFontCreateUIFontForLanguage() or +[NSFont systemFontOfSize:].\n",
      "2025-02-19 16:43:50.188 system_profiler[5067:149379] CoreText note: Client requested name \".SFNSTextCondensed-Regular\", it will get Times-Roman rather than the intended font. All system UI font access should be through proper APIs such as CTFontCreateUIFontForLanguage() or +[NSFont systemFontOfSize:].\n",
      "2025-02-19 16:43:50.194 system_profiler[5067:149379] CoreText note: Client requested name \".SFNSTextCondensed-Medium\", it will get Times-Roman rather than the intended font. All system UI font access should be through proper APIs such as CTFontCreateUIFontForLanguage() or +[NSFont systemFontOfSize:].\n",
      "2025-02-19 16:43:50.200 system_profiler[5067:149379] CoreText note: Client requested name \".SFNSTextCondensed-Light\", it will get Times-Roman rather than the intended font. All system UI font access should be through proper APIs such as CTFontCreateUIFontForLanguage() or +[NSFont systemFontOfSize:].\n",
      "2025-02-19 16:43:50.207 system_profiler[5067:149379] CoreText note: Client requested name \".SFNSTextCondensed-Semibold\", it will get Times-Roman rather than the intended font. All system UI font access should be through proper APIs such as CTFontCreateUIFontForLanguage() or +[NSFont systemFontOfSize:].\n",
      "2025-02-19 16:43:50.214 system_profiler[5067:149379] CoreText note: Client requested name \".SFNSTextCondensed-Bold\", it will get Times-Roman rather than the intended font. All system UI font access should be through proper APIs such as CTFontCreateUIFontForLanguage() or +[NSFont systemFontOfSize:].\n",
      "2025-02-19 16:43:50.221 system_profiler[5067:149379] CoreText note: Client requested name \".SFNSTextCondensed-Heavy\", it will get Times-Roman rather than the intended font. All system UI font access should be through proper APIs such as CTFontCreateUIFontForLanguage() or +[NSFont systemFontOfSize:].\n",
      "Matplotlib is building the font cache; this may take a moment.\n"
     ]
    },
    {
     "ename": "ModuleNotFoundError",
     "evalue": "No module named 'folium'",
     "output_type": "error",
     "traceback": [
      "\u001b[0;31m---------------------------------------------------------------------------\u001b[0m",
      "\u001b[0;31mModuleNotFoundError\u001b[0m                       Traceback (most recent call last)",
      "Cell \u001b[0;32mIn[13], line 7\u001b[0m\n\u001b[1;32m      5\u001b[0m \u001b[38;5;28;01mfrom\u001b[39;00m \u001b[38;5;21;01mplotly\u001b[39;00m \u001b[38;5;28;01mimport\u001b[39;00m graph_objects \u001b[38;5;28;01mas\u001b[39;00m go\n\u001b[1;32m      6\u001b[0m \u001b[38;5;28;01mimport\u001b[39;00m \u001b[38;5;21;01mjson\u001b[39;00m\n\u001b[0;32m----> 7\u001b[0m \u001b[38;5;28;01mimport\u001b[39;00m \u001b[38;5;21;01mfolium\u001b[39;00m\n\u001b[1;32m      8\u001b[0m \u001b[38;5;28;01mimport\u001b[39;00m \u001b[38;5;21;01mnumpy\u001b[39;00m \u001b[38;5;28;01mas\u001b[39;00m \u001b[38;5;21;01mnp\u001b[39;00m\n\u001b[1;32m      9\u001b[0m \u001b[38;5;28;01mimport\u001b[39;00m \u001b[38;5;21;01mfolium\u001b[39;00m\n",
      "\u001b[0;31mModuleNotFoundError\u001b[0m: No module named 'folium'"
     ]
    }
   ],
   "source": [
    "import pandas as pd\n",
    "import matplotlib .pyplot as plt\n",
    "import seaborn as sns\n",
    "import plotly.express as px\n",
    "from plotly import graph_objects as go\n",
    "import json\n",
    "import folium\n",
    "import numpy as np\n",
    "import folium\n",
    "from folium import Map, Choropleth, Marker\n",
    "from folium.plugins import MarkerCluster"
   ]
  },
  {
   "cell_type": "code",
   "execution_count": null,
   "metadata": {},
   "outputs": [],
   "source": [
    "moscow = pd.read_csv('/datasets/moscow_places.csv')"
   ]
  },
  {
   "cell_type": "code",
   "execution_count": null,
   "metadata": {},
   "outputs": [],
   "source": [
    "#Установим параметры отображения столбцов:\n",
    "pd.set_option('display.max_columns', None)\n",
    "pd.set_option('display.width', None)\n",
    "pd.set_option('display.max_colwidth', None)"
   ]
  },
  {
   "cell_type": "markdown",
   "metadata": {},
   "source": [
    "Посмотрим что представляют из себя данные."
   ]
  },
  {
   "cell_type": "code",
   "execution_count": null,
   "metadata": {},
   "outputs": [],
   "source": [
    "moscow"
   ]
  },
  {
   "cell_type": "markdown",
   "metadata": {},
   "source": [
    "Сразу заметно, что присутствуют пропущенные значения, посмотрим сколько их."
   ]
  },
  {
   "cell_type": "code",
   "execution_count": null,
   "metadata": {},
   "outputs": [],
   "source": [
    "moscow.info()"
   ]
  },
  {
   "cell_type": "markdown",
   "metadata": {},
   "source": [
    "**Присутствует большее количество пропущенных значений, также необходимо заменить типа данных в столбцах:**\n",
    "\n",
    "- middle_avg_bill\n",
    "- middle_coffee_cup\n",
    "- seats"
   ]
  },
  {
   "cell_type": "code",
   "execution_count": null,
   "metadata": {},
   "outputs": [],
   "source": [
    "moscow['middle_avg_bill'] = moscow['middle_avg_bill'].astype(\"Int64\")\n",
    "moscow['middle_coffee_cup'] = moscow['middle_coffee_cup'].astype(\"Int64\")\n",
    "moscow['seats'] = moscow['seats'].astype(\"Int64\")"
   ]
  },
  {
   "cell_type": "markdown",
   "metadata": {},
   "source": [
    "**Выводы по разделу Загрузка данных:**\n",
    "1. Загружены необходимые библиотеки.\n",
    "2. Загружены данные в датафрейм moscow.\n",
    "3. Установлены параметры отображения столбцов.\n",
    "4. Исправлены типы данных."
   ]
  },
  {
   "cell_type": "markdown",
   "metadata": {},
   "source": [
    "## Предобработка данных"
   ]
  },
  {
   "cell_type": "markdown",
   "metadata": {},
   "source": [
    "**Шаг 2. Выполните предобработку данных**\n",
    "\n",
    "Изучите, есть ли дубликаты в данных. Поищите пропуски: встречаются ли они, в каких столбцах? Можно ли их обработать или оставить как есть?\n",
    "\n",
    "Выполните предобработку данных:\n",
    "\n",
    "Создайте столбец street с названиями улиц из столбца с адресом.\n",
    "\n",
    "Создайте столбец is_24_7 с обозначением, что заведение работает ежедневно и круглосуточно (24/7):\n",
    "\n",
    "логическое значение True — если заведение работает ежедневно и круглосуточно;\n",
    "\n",
    "логическое значение False — в противоположном случае."
   ]
  },
  {
   "cell_type": "markdown",
   "metadata": {},
   "source": [
    "**Проверим на явные дубликаты:**"
   ]
  },
  {
   "cell_type": "code",
   "execution_count": null,
   "metadata": {},
   "outputs": [],
   "source": [
    "moscow.duplicated().sum()"
   ]
  },
  {
   "cell_type": "markdown",
   "metadata": {},
   "source": [
    "Явные дубликаты отсутствуют. \n",
    "\n",
    "**Проверим на неявные дубликаты.**"
   ]
  },
  {
   "cell_type": "code",
   "execution_count": null,
   "metadata": {},
   "outputs": [],
   "source": [
    "display(moscow['category'].unique())\n",
    "display(moscow['district'].unique())\n",
    "display(moscow['rating'].unique())"
   ]
  },
  {
   "cell_type": "markdown",
   "metadata": {},
   "source": [
    "Неявные дубликаты также отсутсвуют."
   ]
  },
  {
   "cell_type": "markdown",
   "metadata": {},
   "source": [
    "**Проверим пропущенные значения:**"
   ]
  },
  {
   "cell_type": "code",
   "execution_count": null,
   "metadata": {},
   "outputs": [],
   "source": [
    "moscow.isna().sum()"
   ]
  },
  {
   "cell_type": "code",
   "execution_count": null,
   "metadata": {},
   "outputs": [],
   "source": [
    "print('Процент пропусков в hours: {:.2f}%'.format(moscow['hours'].isna().mean() * 100))\n",
    "print('Процент пропусков в price: {:.2f}%'.format(moscow['price'].isna().mean() * 100))\n",
    "print('Процент пропусков в avg_bill: {:.2f}%'.format(moscow['avg_bill'].isna().mean() * 100))\n",
    "print('Процент пропусков в middle_avg_bill: {:.2f}%'.format(moscow['middle_avg_bill'].isna().mean() * 100))\n",
    "print('Процент пропусков в middle_coffee_cup: {:.2f}%'.format(moscow['middle_coffee_cup'].isna().mean() * 100))\n",
    "print('Процент пропусков в seats: {:.2f}%'.format(moscow['seats'].isna().mean() * 100))"
   ]
  },
  {
   "cell_type": "markdown",
   "metadata": {},
   "source": [
    "**hours:** Процент пропусков в часах скорее всего обусловлен тем что заведение новое, либо собственник не указал эту информацию.\n",
    "\n",
    "**price:** Пропуски в ценах составляют больше половины. Возможно недостаточно собрано данных для отображения средней цены, либо также заведение новое. Удалять пропуски нет смысла\n",
    "\n",
    "**avg_bill, middle_avg_bill:** Пропуски также составляют также составляют больше половину и скорей всего они взаимносвязаны.\n",
    "\n",
    "**middle_coffee_cup:** Пропуски практически 94% скорей всего такой процент обусловлен отсутствием значений в avg_bill\n",
    "\n",
    "**seats:** Пропуски данном столбце могут быть обусловлены несколькими факторами: Собственник не указал количество посадочных мест, количество посадочных мест динамично."
   ]
  },
  {
   "cell_type": "markdown",
   "metadata": {},
   "source": [
    "**Создадим столбец street с названиями улиц из столбца с адресом.**"
   ]
  },
  {
   "cell_type": "code",
   "execution_count": null,
   "metadata": {},
   "outputs": [],
   "source": [
    "moscow['street'] = moscow['address'].str.split(',', expand=True)[1]\n",
    "moscow['street'] = moscow['street'].str.strip()\n",
    "moscow"
   ]
  },
  {
   "cell_type": "markdown",
   "metadata": {},
   "source": [
    "**Создадим столбец is_24_7 с обозначением, что заведение работает ежедневно и круглосуточно (24/7):**\n",
    "\n",
    "- логическое значение True — если заведение работает ежедневно и круглосуточно;\n",
    "\n",
    "- логическое значение False — в противоположном случае."
   ]
  },
  {
   "cell_type": "code",
   "execution_count": null,
   "metadata": {},
   "outputs": [],
   "source": [
    "moscow['is_24/7'] = moscow['hours'].str.contains('ежедневно', case=False) & moscow['hours'].str.contains('круглосуточно', case=False)\n",
    "moscow['is_24/7'] = moscow['is_24/7'].astype(bool)"
   ]
  },
  {
   "cell_type": "markdown",
   "metadata": {},
   "source": [
    "**Проверим на неявные дубликаты:**"
   ]
  },
  {
   "cell_type": "code",
   "execution_count": null,
   "metadata": {},
   "outputs": [],
   "source": [
    "#проверим на неявные дубликаты\n",
    "duplicates = moscow.duplicated(subset=['name', 'address'], keep=False)\n",
    "if duplicates.any():\n",
    "    duplicate_rows = moscow[duplicates]\n",
    "    print(\"Обнаружены неявные дубликаты:\")\n",
    "    print(duplicate_rows)\n",
    "else:\n",
    "    print(\"Неявные дубликаты не обнаружены.\")"
   ]
  },
  {
   "cell_type": "markdown",
   "metadata": {},
   "source": [
    "Также создадим функцию для устранения неявных дубликатов."
   ]
  },
  {
   "cell_type": "code",
   "execution_count": null,
   "metadata": {},
   "outputs": [],
   "source": [
    "def replace_duplicates(row):\n",
    "    if 'ул.' in row:\n",
    "        row = row.replace('ул.', 'улица')\n",
    "    elif 'пр-т' in row:\n",
    "        row = row.replace('пр-т', 'проспект')\n",
    "    elif 'ш.' in row:\n",
    "        row = row.replace('ш.', 'шоссе')\n",
    "    return row\n",
    "\n",
    "moscow['street'] = moscow['street'].apply(replace_duplicates)\n",
    "\n",
    "# Создание копии столбца 'street' до применения функции\n",
    "street_before = moscow['street'].copy()\n",
    "\n",
    "# Применение функции replace_duplicates к столбцу 'street'\n",
    "moscow['street'] = moscow['street'].apply(replace_duplicates)\n",
    "\n",
    "# Подсчет количества изменений\n",
    "changes_count = (street_before != moscow['street']).sum()\n",
    "\n",
    "# Вывод количества изменений\n",
    "print(\"Количество значений, замененных функцией replace_duplicates:\", changes_count)"
   ]
  },
  {
   "cell_type": "markdown",
   "metadata": {},
   "source": [
    "**Выводы по разделу предобработка данных:**\n",
    "1. Осуществлена проврека на явные дубликаты.\n",
    "2. Осуществлена проврека на неявные дубликаты.\n",
    "3. Обработаны пропущенные значения.\n",
    "4. Добавлен столбец с названием улиц (street).\n",
    "5. Добавлен столбец c круглосуточными местами (is_24_7)"
   ]
  },
  {
   "cell_type": "markdown",
   "metadata": {},
   "source": [
    "## Анализ данных"
   ]
  },
  {
   "cell_type": "markdown",
   "metadata": {},
   "source": [
    "**Шаг 3. Анализ данных**"
   ]
  },
  {
   "cell_type": "markdown",
   "metadata": {},
   "source": [
    "**Какие категории заведений представлены в данных? Исследуйте количество объектов общественного питания по категориям: рестораны, кофейни, пиццерии, бары и так далее. Постройте визуализации. Ответьте на вопрос о распределении заведений по категориям.**"
   ]
  },
  {
   "cell_type": "code",
   "execution_count": null,
   "metadata": {},
   "outputs": [],
   "source": [
    "# Настройка стиля и размера графика\n",
    "sns.set(style=\"whitegrid\")\n",
    "plt.figure(figsize=(16, 8))\n",
    "\n",
    "# Построение вертикального графика\n",
    "sns.countplot(data=moscow, y='category', order=moscow['category'].value_counts().index, palette='colorblind')\n",
    "plt.title('Количество заведений общественного питания в Москве по категориям')\n",
    "plt.ylabel('Категория')\n",
    "plt.xlabel('Количество заведений')\n",
    "plt.tight_layout()\n",
    "\n",
    "# Показать график\n",
    "plt.show()"
   ]
  },
  {
   "cell_type": "markdown",
   "metadata": {},
   "source": [
    "Среди всех заведений больше всего кафе, следом идут рестораны, а потом кофейни."
   ]
  },
  {
   "cell_type": "markdown",
   "metadata": {},
   "source": [
    "**Исследуйте количество посадочных мест в местах по категориям: рестораны, кофейни, пиццерии, бары и так далее. Постройте визуализации. Проанализируйте результаты и сделайте выводы.**"
   ]
  },
  {
   "cell_type": "code",
   "execution_count": null,
   "metadata": {},
   "outputs": [],
   "source": [
    "category_seats = moscow.groupby('category')['seats'].median().reset_index()\n",
    "category_seats = category_seats.sort_values('seats', ascending=False)\n",
    "\n",
    "# Настройка стиля и размера графика\n",
    "sns.set(style=\"whitegrid\")\n",
    "plt.figure(figsize=(16, 8))\n",
    "\n",
    "# Построение графика медианного количества посадочных мест для каждой категории\n",
    "sns.barplot(data=category_seats, y='seats', x='category', palette='colorblind')\n",
    "plt.xlabel('Медианное количество посадочных мест')\n",
    "plt.ylabel('Категория')\n",
    "plt.title('Медианное количество посадочных мест для каждой категории')\n",
    "plt.tight_layout()\n",
    "\n",
    "# Показать график\n",
    "plt.show()"
   ]
  },
  {
   "cell_type": "markdown",
   "metadata": {},
   "source": [
    "Как и следовало ожидать больше всего посадочных мест в ресторанах, на втором месте бары и уже потом кофейни. Удивительно что кафе расположились лишь на 6 месте."
   ]
  },
  {
   "cell_type": "markdown",
   "metadata": {},
   "source": [
    "**Рассмотрите и изобразите соотношение сетевых и несетевых заведений в датасете. Каких заведений больше?**"
   ]
  },
  {
   "cell_type": "code",
   "execution_count": null,
   "metadata": {},
   "outputs": [],
   "source": [
    "moscow_chain = moscow['chain'].value_counts()\n",
    "\n",
    "# Настройка размера графика\n",
    "plt.figure(figsize=(16, 8))\n",
    "\n",
    "# Построение круговой диаграммы\n",
    "plt.pie(moscow_chain, labels=['Несетевые', 'Сетевые'], autopct='%1.1f%%')\n",
    "plt.title('Доля сетевых и несетевых заведений')\n",
    "\n",
    "# Показать график\n",
    "plt.show()"
   ]
  },
  {
   "cell_type": "markdown",
   "metadata": {},
   "source": [
    "Практически 62% процента заведений не являются сетевыми, что является хорошой мотивацией для открытия собственного заведения."
   ]
  },
  {
   "cell_type": "markdown",
   "metadata": {},
   "source": [
    "<div class=\"alert alert-block alert-success\">✔️\n",
    "    \n",
    "\n",
    "__Комментарий от ревьюера №1__\n",
    "\n",
    "Не сетевых заведений, как и ожидалось больше\n",
    "</div>"
   ]
  },
  {
   "cell_type": "markdown",
   "metadata": {},
   "source": [
    "**Какие категории заведений чаще являются сетевыми? Исследуйте данные и ответьте на вопрос графиком.**"
   ]
  },
  {
   "cell_type": "code",
   "execution_count": null,
   "metadata": {},
   "outputs": [],
   "source": [
    "category_chain = moscow.pivot_table(index = 'category', columns = 'chain', values = 'name', aggfunc = 'count')\n",
    "category_chain.columns = ['non_chain', 'chain']\n",
    "\n",
    "category_chain['share_of_chain'] = round((category_chain['chain'] / (category_chain['non_chain'] + category_chain['chain']) * 100),2)\n",
    "category_chain['share_of_non_chain'] = round((category_chain['non_chain'] / (category_chain['non_chain'] + category_chain['chain']) * 100),2)\n",
    "\n",
    "category_chain = category_chain.drop(columns = ['chain','non_chain'])\n",
    "category_chain.columns = ['% сетевых заведений', '% не сетевых заведений']\n",
    "\n",
    "category_chain = category_chain.sort_values('% сетевых заведений')"
   ]
  },
  {
   "cell_type": "code",
   "execution_count": null,
   "metadata": {},
   "outputs": [],
   "source": [
    "category_chain.plot(kind = 'bar', stacked = True, grid = True, figsize=(16, 8))\n",
    "\n",
    "plt.title('Процентное соотношение сетевых и несетевых заведений по категориям')\n",
    "plt.xlabel('Название категории')\n",
    "plt.ylabel('Доля в %')\n",
    "plt.legend(loc='upper left', bbox_to_anchor=(1, 1))\n",
    "plt.show()"
   ]
  },
  {
   "cell_type": "markdown",
   "metadata": {},
   "source": [
    "**Топ 3 типа сетевых заведений:**\n",
    "1. Бар, паб\n",
    "2. Столовая\n",
    "3. Кафе\n",
    "\n",
    "**Топ 3 типа нетесвых заведений:**\n",
    "\n",
    "1. Булочная\n",
    "2. Пиццерия\n",
    "3. Кофейня"
   ]
  },
  {
   "cell_type": "markdown",
   "metadata": {},
   "source": [
    "**Сгруппируйте данные по названиям заведений и найдите топ-15 популярных сетей в Москве. Под популярностью понимается количество заведений этой сети в регионе. Постройте подходящую для такой информации визуализацию. Знакомы ли вам эти сети? Есть ли какой-то признак, который их объединяет? К какой категории заведений они относятся.**"
   ]
  },
  {
   "cell_type": "code",
   "execution_count": null,
   "metadata": {},
   "outputs": [],
   "source": [
    "# Сгруппируем данные по названиям заведений и посчитаем количество заведений каждой сети\n",
    "top_chains = moscow[moscow['chain'] == 1].groupby('name').size().sort_values(ascending=False).head(15)\n",
    "\n",
    "# Построим график\n",
    "plt.figure(figsize=(16, 8))\n",
    "sns.barplot(x=top_chains.values, y=top_chains.index, palette='viridis')\n",
    "\n",
    "# Настройка графика\n",
    "plt.title('Топ-15 популярных сетей в Москве')\n",
    "plt.xlabel('Количество заведений')\n",
    "plt.ylabel('')\n",
    "\n",
    "# Показать график\n",
    "plt.show()"
   ]
  },
  {
   "cell_type": "markdown",
   "metadata": {},
   "source": [
    "Самым популярным заведением с отрывом является легендарная Шоколадница, далее идут две пиццерии Доминос и Додо."
   ]
  },
  {
   "cell_type": "markdown",
   "metadata": {},
   "source": [
    "**Какие административные районы Москвы присутствуют в датасете? Отобразите общее количество заведений и количество заведений каждой категории по районам. Попробуйте проиллюстрировать эту информацию одним графиком.**"
   ]
  },
  {
   "cell_type": "code",
   "execution_count": null,
   "metadata": {},
   "outputs": [],
   "source": [
    "# Сгруппируем данные по районам и посчитаем общее количество заведений в каждом районе\n",
    "district_counts = moscow.groupby('district').size().reset_index(name='total_count')\n",
    "district_counts = district_counts.sort_values('total_count', ascending=False)\n",
    "# Настройка стиля и размера графика\n",
    "sns.set(style=\"whitegrid\")\n",
    "plt.figure(figsize=(16, 8))\n",
    "\n",
    "# Построение графика\n",
    "sns.barplot(data=district_counts, y='district', x='total_count')\n",
    "\n",
    "# Настройка оформления графика\n",
    "plt.title('Общее количество заведений общественного питания в Москве по районам')\n",
    "plt.xlabel('Количество заведений')\n",
    "plt.ylabel('Район')\n",
    "plt.tight_layout()\n",
    "\n",
    "# Показать график\n",
    "plt.show()"
   ]
  },
  {
   "cell_type": "markdown",
   "metadata": {},
   "source": [
    "Несмотря на размер ЦАО в нем практически в 2 раза больше заведений чем в любом другом районе."
   ]
  },
  {
   "cell_type": "code",
   "execution_count": null,
   "metadata": {},
   "outputs": [],
   "source": [
    "# Сгруппируем данные по районам и категориям, чтобы получить количество заведений каждой категории в каждом районе\n",
    "district_category_counts = moscow.groupby(['district', 'category']).size().unstack(fill_value=0)\n",
    "\n",
    "# Суммируем количество заведений по районам для каждой категории\n",
    "district_category_counts_sum = district_category_counts.sum(axis=1)\n",
    "\n",
    "# Отсортируем данные по суммарному количеству заведений от меньшего к большему\n",
    "district_category_counts_sorted = district_category_counts_sum.sort_values(ascending=True)\n",
    "\n",
    "# Переупорядочим данные в исходной таблице\n",
    "district_category_counts_sorted = district_category_counts.loc[district_category_counts_sorted.index]\n",
    "\n",
    "district_category_counts_sorted.plot(kind='barh', stacked=True, figsize=(16, 8))\n",
    "\n",
    "plt.title('Количество заведений общественного питания в Москве по категориям и районам (от большего к меньшему)')\n",
    "plt.xlabel('Количество заведений')\n",
    "plt.ylabel('Район')\n",
    "plt.tight_layout()\n",
    "plt.show()"
   ]
  },
  {
   "cell_type": "markdown",
   "metadata": {},
   "source": [
    "**ВАО:** В ВАО больше всего кафе, ресторанов а следом идут кофейни.\n",
    "\n",
    "**ЗАО:** В ЗАО такая же ситуация.\n",
    "\n",
    "**САО:** В САО первое место неизменно, но в отличие от ВАО и ЗАО уже больше кофеен.\n",
    "\n",
    "**СВАО:** В СВАО такая же ситуация как и в ВАО, ЗАО.\n",
    "\n",
    "**СЗАО:** Наименьшее количетсво заведений, но тренд типов заведений тот же.\n",
    "\n",
    "**ЦАО:** ЦАО отличается от других заведений радикально,помимо того, что здесь в принципе больше заведений, так и на первом месте идут рестораны, связано это скорее всего с большим количество богатых людей, далее идут кафе и кофейни.\n",
    "\n",
    "В **ЗАО, СВАО, ЮВАО, ЮЗАО, ЮАО** ситуация такая же как и в ВАО."
   ]
  },
  {
   "cell_type": "markdown",
   "metadata": {},
   "source": [
    "**Визуализируйте распределение средних рейтингов по категориям заведений. Сильно ли различаются усреднённые рейтинги в разных типах общепита?**"
   ]
  },
  {
   "cell_type": "code",
   "execution_count": null,
   "metadata": {},
   "outputs": [],
   "source": [
    "category_rating = moscow.groupby('category')['rating'].median().sort_values(ascending=False).reset_index()\n",
    "\n",
    "# Настройка стиля и размера графика\n",
    "sns.set(style=\"whitegrid\")\n",
    "plt.figure(figsize=(12, 6))\n",
    "\n",
    "# Построение графика среднего рейтинга по категориям\n",
    "sns.barplot(data=category_rating, x='category', y='rating', palette='colorblind')\n",
    "\n",
    "# Настройка оформления графика\n",
    "plt.title('Средний рейтинг заведений по категориям')\n",
    "plt.xlabel('Средний рейтинг')\n",
    "plt.ylabel('Категория')\n",
    "\n",
    "# Показать график\n",
    "plt.show()"
   ]
  },
  {
   "cell_type": "markdown",
   "metadata": {},
   "source": [
    "Рейтинги разных типо заведений практически не отличаются, за исключением баров. Скорей всего это связано с более приподнятым состоянием гостей после алкоголя."
   ]
  },
  {
   "cell_type": "markdown",
   "metadata": {},
   "source": [
    "**Постройте фоновую картограмму (хороплет) со средним рейтингом заведений каждого района. Границы районов Москвы, которые встречаются в датасете, хранятся в файле admin_level_geomap.geojson (скачать файл для локальной работы). Отобразите все заведения датасета на карте с помощью кластеров средствами библиотеки folium.**"
   ]
  },
  {
   "cell_type": "code",
   "execution_count": null,
   "metadata": {},
   "outputs": [],
   "source": [
    "rating_by_district = moscow.groupby('district')['rating'].mean()"
   ]
  },
  {
   "cell_type": "code",
   "execution_count": null,
   "metadata": {
    "scrolled": true
   },
   "outputs": [],
   "source": [
    "geo = 'https://code.s3.yandex.net/data-analyst/admin_level_geomap.geojson'\n",
    "\n",
    "moscow_lat, moscow_lng = 55.751244, 37.618423\n",
    "\n",
    "m = Map(location=[moscow_lat, moscow_lng], zoom_start=10)\n",
    "\n",
    "choropleth = folium.Choropleth(\n",
    "    geo_data = geo,\n",
    "    data = rating_by_district,\n",
    "    columns = ['district', 'rating'],\n",
    "    key_on = 'feature.name',\n",
    "    fill_color = 'PuRd',\n",
    "    fill_opacity = 0.5,\n",
    "    legend_name = 'Средний рейтинг заведений по районам',\n",
    ").add_to(m)\n",
    "\n",
    "choropleth.geojson.add_child(\n",
    "    folium.features.GeoJsonTooltip(fields = ['name'], aliases = ['Округ:'],\n",
    "                                   labels  =True, localize = True, sticky = False))\n",
    "\n",
    "marker_cluster = MarkerCluster().add_to(m)\n",
    "\n",
    "def create_clusters(row):\n",
    "    Marker(\n",
    "        [row['lat'], row['lng']],\n",
    "        popup = f\"{row['name']} {row['rating']}\",\n",
    "    ).add_to(marker_cluster)\n",
    "\n",
    "moscow.apply(create_clusters, axis=1)\n",
    "\n",
    "m"
   ]
  },
  {
   "cell_type": "markdown",
   "metadata": {},
   "source": [
    "Согласно Картограмме лучшие заведения в ЦАО, а худшие в ЮВАО. Низкий рейтинг в ЮВАО скорей всего обусловлен историческим промышленным вектором развития ЮВАО."
   ]
  },
  {
   "cell_type": "markdown",
   "metadata": {},
   "source": [
    "**Найдите топ-15 улиц по количеству заведений. Постройте график распределения количества заведений и их категорий по этим улицам. Попробуйте проиллюстрировать эту информацию одним графиком.**"
   ]
  },
  {
   "cell_type": "code",
   "execution_count": null,
   "metadata": {},
   "outputs": [],
   "source": [
    "# Найдем топ-15 улиц по количеству заведений\n",
    "top_15_streets = moscow['street'].value_counts().head(15).index\n",
    "\n",
    "# Отфильтруем данные по топ-15 улицам\n",
    "top_15_data = moscow[moscow['street'].isin(top_15_streets)]\n",
    "\n",
    "# Сгруппирем данные по улицам и посчитать количество заведений и их категорий\n",
    "grouped_data = top_15_data.groupby(['street', 'category']).size().unstack(fill_value=0)\n",
    "\n",
    "# Выберем только нужные улицы с сохранением разбивки по категориям\n",
    "grouped_data = grouped_data.loc[grouped_data.index]\n",
    "\n",
    "grouped_data.plot(kind='bar', stacked=True, figsize=(16, 8))\n",
    "\n",
    "\n",
    "plt.title('Распределение заведений и их категорий на топ-15 улицах')\n",
    "plt.xlabel('Улица')\n",
    "plt.ylabel('Количество заведений')\n",
    "plt.xticks(rotation=45, ha='right')\n",
    "plt.legend(title='Категория')\n",
    "plt.tight_layout()\n",
    "plt.show()"
   ]
  },
  {
   "cell_type": "markdown",
   "metadata": {},
   "source": [
    "Улицей с наибольшим количеством мест среди всех категорий является Проспект Мира связано это с большой протяженностью данной улицы. Далее идет Профсоюзная улица и Ленинский проспект."
   ]
  },
  {
   "cell_type": "markdown",
   "metadata": {},
   "source": [
    "**Найдите улицы, на которых находится только один объект общепита. Что можно сказать об этих заведениях?**"
   ]
  },
  {
   "cell_type": "code",
   "execution_count": null,
   "metadata": {},
   "outputs": [],
   "source": [
    "# Группировка данных по улицам и подсчет количества заведений на каждой улице\n",
    "street_counts = moscow['street'].value_counts().reset_index()\n",
    "street_counts.columns = ['street', 'count']\n",
    "\n",
    "# Отфильтровать улицы, на которых находится только одно заведение\n",
    "one_place_streets = street_counts[street_counts['count'] == 1]['street']\n",
    "\n",
    "# Вывести на экран улицы с одним объектом общепита\n",
    "print(\"Улицы с одним объектом общепита:\")\n",
    "print(one_place_streets)\n",
    "\n",
    "# Группировка данных по районам и улицам с одним объектом общепита\n",
    "one_place_streets_by_district = moscow[moscow['street'].isin(one_place_streets)].groupby('district')['street'].nunique()\n",
    "\n",
    "# Найти топ-10 районов с наибольшим количеством улиц с одним объектом общепита\n",
    "top_10_districts = one_place_streets_by_district.nlargest(10)\n",
    "\n",
    "# Создание DataFrame для топ-10 районов\n",
    "top_10_districts = top_10_districts.reset_index()\n",
    "top_10_districts.columns = ['Район', 'Количество улиц']\n",
    "\n",
    "# Построение графика\n",
    "plt.figure(figsize=(16, 8))\n",
    "sns.barplot(data=top_10_districts, x='Район', y='Количество улиц', palette='viridis')\n",
    "plt.title('Топ-10 районов с наибольшим количеством улиц\\nс одним объектом общепита')\n",
    "plt.xlabel('Район')\n",
    "plt.ylabel('Количество улиц')\n",
    "plt.xticks(rotation=45, ha='right')\n",
    "plt.tight_layout()\n",
    "plt.show()"
   ]
  },
  {
   "cell_type": "markdown",
   "metadata": {},
   "source": [
    "ЦАО с большим отрывом является лидером среди мест с лишь одним заведением на улице. Это связано с большим количеством маленьких переулков в данном округе."
   ]
  },
  {
   "cell_type": "markdown",
   "metadata": {},
   "source": [
    "**Значения средних чеков заведений хранятся в столбце middle_avg_bill. Эти числа показывают примерную стоимость заказа в рублях, которая чаще всего выражена диапазоном. Посчитайте медиану этого столбца для каждого района.**"
   ]
  },
  {
   "cell_type": "code",
   "execution_count": null,
   "metadata": {},
   "outputs": [],
   "source": [
    "# Посчитать медиану столбца middle_avg_bill для каждого района\n",
    "median_avg_bill_by_district = moscow.groupby('district')['middle_avg_bill'].median()\n",
    "\n",
    "# Вывести результат с помощью f-строки\n",
    "for district, median_avg_bill in median_avg_bill_by_district.items():\n",
    "    print(f\"Медиана столбца middle_avg_bill для района {district}: {median_avg_bill}\")"
   ]
  },
  {
   "cell_type": "markdown",
   "metadata": {},
   "source": [
    "Топ 3 района по среднему чека являются:\n",
    "1. ЦАО и ЗАО\n",
    "3. СЗАО.\n",
    "\n",
    "Западные направления являются наиболее дорогими если не учитывать ЦАО."
   ]
  },
  {
   "cell_type": "markdown",
   "metadata": {},
   "source": [
    "**Используйте это значение в качестве ценового индикатора района. Постройте фоновую картограмму (хороплет) с полученными значениями для каждого района. Проанализируйте цены в центральном административном округе и других. Как удалённость от центра влияет на цены в заведениях?**"
   ]
  },
  {
   "cell_type": "code",
   "execution_count": null,
   "metadata": {
    "scrolled": true
   },
   "outputs": [],
   "source": [
    "moscow_lat, moscow_lng = 55.751244, 37.618423\n",
    "\n",
    "m = folium.Map(location=[moscow_lat, moscow_lng], zoom_start=10)\n",
    "\n",
    "choropleth = folium.Choropleth(\n",
    "    geo_data=geo,\n",
    "    data=median_avg_bill_by_district,\n",
    "    columns=['district', 'median_avg_bill'],\n",
    "    key_on='feature.name',\n",
    "    fill_color='PuRd',\n",
    "    fill_opacity=0.5,\n",
    "    line_opacity=0.5,\n",
    "    legend_name='Медиана среднего чека по районам',\n",
    ").add_to(m)\n",
    "\n",
    "choropleth.geojson.add_child(\n",
    "    folium.features.GeoJsonTooltip(fields=['name'], aliases=['Округ:'],\n",
    "                                   labels=True, localize=True, sticky=False))\n",
    "\n",
    "marker_cluster = MarkerCluster().add_to(m)\n",
    "\n",
    "def create_clusters(row):\n",
    "    folium.Marker(\n",
    "        [row['lat'], row['lng']],\n",
    "        popup=f\"{row['name']} Медиана среднего чека: {median_avg_bill_by_district[row['district']]}\",\n",
    "    ).add_to(marker_cluster)\n",
    "\n",
    "moscow.apply(create_clusters, axis=1)\n",
    "\n",
    "m"
   ]
  },
  {
   "cell_type": "markdown",
   "metadata": {},
   "source": [
    "Данная картограмма подтверждает ранее сделанные выводы о том, что заведения в западном направление наиболее дорогие."
   ]
  },
  {
   "cell_type": "markdown",
   "metadata": {},
   "source": [
    "**Вывод по разделу Анализ данных:.**\n",
    "- Среди всех заведений больше всего кафе, следом идут рестораны, а потом кофейни.\n",
    "- Как и следовало ожидать больше всего посадочных мест в ресторанах, на втором месте бары и уже потом кофейни. Удивительно что кафе расположились лишь на 6 месте.\n",
    "- Практически 62% процента заведений не являются сетевыми, что является хорошой мотивацией для открытия собственного заведения.\n",
    "- **Топ 3 типа сетевых заведений:**\n",
    "1. Бар, паб\n",
    "2. Столовая\n",
    "3. Кафе\n",
    "\n",
    "**Топ 3 типа нетесвых заведений:**\n",
    "\n",
    "1. Булочная\n",
    "2. Пиццерия\n",
    "3. Кофейня\n",
    "- Самым популярным заведением с отрывом является легендарная Шоколадница, далее идут две пиццерии Доминос и Додо.\n",
    "- Несмотря на размер ЦАО в нем практически в 2 раза больше заведений чем в любом другом районе.\n",
    "\n",
    "**ВАО:** В ВАО больше всего кафе, ресторанов а следом идут кофейни.\n",
    "\n",
    "**ЗАО:** В ЗАО такая же ситуация.\n",
    "\n",
    "**САО:** В САО первое место неизменно, но в отличие от ВАО и ЗАО уже больше кофеен.\n",
    "\n",
    "**СВАО:** В СВАО такая же ситуация как и в ВАО, ЗАО.\n",
    "\n",
    "**СЗАО:** Наименьшее количетсво заведений, но тренд типов заведений тот же.\n",
    "\n",
    "**ЦАО:** ЦАО отличается от других заведений радикально,помимо того, что здесь в принципе больше заведений, так и на первом месте идут рестораны, связано это скорее всего с большим количество богатых людей, далее идут кафе и кофейни.\n",
    "\n",
    "В **ЗАО, СВАО, ЮВАО, ЮЗАО, ЮАО** ситуация такая же как и в ВАО.\n",
    "\n",
    "- Рейтинги разных типо заведений практически не отличаются, за исключением баров. Скорей всего это связано с более приподнятым состоянием гостей после алкоголя.\n",
    "- Согласно Картограмме лучшие заведения в ЦАО, а худшие в ЮВАО. Низкий рейтинг в ЮВАО скорей всего обусловлен историческим промышленным вектором развития ЮВАО.\n",
    "- Улицей с наибольшим количеством мест среди всех категорий является Проспект Мира связано это с большой протяженностью данной улицы. Далее идет Профсоюзная улица и Ленинский проспект.\n",
    "- ЦАО с большим отрывом является лидером среди мест с лишь одним заведением на улице. Это связано с большим количеством маленьких переулков в данном округе.\n",
    "- Топ 3 района по среднему чека являются:\n",
    "1. ЦАО и ЗАО\n",
    "3. СЗАО.\n",
    "\n",
    "Западные направления являются наиболее дорогими если не учитывать ЦАО. Картограмма подтверждает ранее сделанные выводы о том, что заведения в западном направление наиболее дорогие."
   ]
  },
  {
   "cell_type": "markdown",
   "metadata": {},
   "source": [
    "## Детализируем исследование: открытие кофейни"
   ]
  },
  {
   "cell_type": "markdown",
   "metadata": {},
   "source": [
    "**Шаг 4. Детализируем исследование: открытие кофейни**\n",
    "\n",
    "Основателям фонда «Shut Up and Take My Money» не даёт покоя успех сериала «Друзья». Их мечта — открыть такую же крутую и доступную, как «Central Perk», кофейню в Москве. Будем считать, что заказчики не боятся конкуренции в этой сфере, ведь кофеен в больших городах уже достаточно. Попробуйте определить, осуществима ли мечта клиентов.\n",
    "\n",
    "Ответьте на следующие вопросы:\n",
    "\n",
    "- Сколько всего кофеен в датасете? В каких районах их больше всего, каковы особенности их расположения?\n",
    "\n",
    "- Есть ли круглосуточные кофейни?\n",
    "\n",
    "- Какие у кофеен рейтинги? Как они распределяются по районам?\n",
    "\n",
    "- На какую стоимость чашки капучино стоит ориентироваться при открытии и почему?\n",
    "\n",
    "По желанию вы можете расширить список вопросов для исследования, добавив собственные.\n",
    "\n",
    "Постройте визуализации. Попробуйте дать рекомендацию для открытия нового заведения. Это творческое задание: здесь нет правильного или неправильного ответа, но ваше решение должно быть чем-то обосновано. Объяснить свою рекомендацию можно текстом с описанием или маркерами на географической карте."
   ]
  },
  {
   "cell_type": "markdown",
   "metadata": {},
   "source": [
    "**Сколько всего кофеен в датасете? В каких районах их больше всего, каковы особенности их расположения?**"
   ]
  },
  {
   "cell_type": "code",
   "execution_count": null,
   "metadata": {
    "scrolled": true
   },
   "outputs": [],
   "source": [
    "coffee_by_district = moscow[moscow['category'] == 'кофейня'].groupby('district').size().sort_values(ascending=False)\n",
    "display(coffee_by_district.sum())\n",
    "coffee_by_district"
   ]
  },
  {
   "cell_type": "markdown",
   "metadata": {},
   "source": [
    "В Москве 1413 кофеен.\n",
    "\n",
    "Топ 3 округа:\n",
    "\n",
    "- ЦАО\n",
    "- САО\n",
    "- СВАО"
   ]
  },
  {
   "cell_type": "code",
   "execution_count": null,
   "metadata": {
    "scrolled": true
   },
   "outputs": [],
   "source": [
    "m = Map(location=[moscow_lat, moscow_lng], zoom_start=10)\n",
    "\n",
    "choropleth = folium.Choropleth(\n",
    "    geo_data = geo,\n",
    "    data = coffee_by_district,\n",
    "    columns = ['district', 'count'],\n",
    "    key_on = 'feature.name',\n",
    "    fill_color = 'PuRd',\n",
    "    fill_opacity = 0.5,\n",
    "    legend_name = 'Количество кофеен по районам',\n",
    ").add_to(m)\n",
    "\n",
    "choropleth.geojson.add_child(\n",
    "    folium.features.GeoJsonTooltip(fields = ['name'], aliases = ['Округ:'],\n",
    "                                   labels  =True, localize = True, sticky = False))\n",
    "\n",
    "marker_cluster = MarkerCluster().add_to(m)\n",
    "\n",
    "def create_clusters(row):\n",
    "    Marker(\n",
    "        [row['lat'], row['lng']],\n",
    "        popup = f\"{row['name']} {row['rating']}\",\n",
    "    ).add_to(marker_cluster)\n",
    "\n",
    "moscow.apply(create_clusters, axis=1)\n",
    "\n",
    "m"
   ]
  },
  {
   "cell_type": "markdown",
   "metadata": {},
   "source": [
    "Картограмма подтверждает сделанный ранее вывод о популярности округо ЦАО, САО и СВАО."
   ]
  },
  {
   "cell_type": "markdown",
   "metadata": {},
   "source": [
    "**Есть ли круглосуточные кофейни?**"
   ]
  },
  {
   "cell_type": "code",
   "execution_count": null,
   "metadata": {},
   "outputs": [],
   "source": [
    "coffee_shops_wholeday = moscow[(moscow['category'] == 'кофейня') & (moscow['is_24/7'] == True)]\n",
    "coffee_shops_wholeday_by_district = coffee_shops_wholeday.groupby('district').size().sort_values(ascending=False)\n",
    "\n",
    "plt.figure(figsize=(16, 8))\n",
    "\n",
    "coffee_shops_wholeday_by_district.plot(kind='bar')\n",
    "\n",
    "plt.title('Количество круглосуточных кофеен по районам')\n",
    "plt.xlabel('Район')\n",
    "plt.ylabel('Количество кофеен')\n",
    "plt.show()"
   ]
  },
  {
   "cell_type": "markdown",
   "metadata": {},
   "source": [
    "Больше всего круглосуточных кофеен в ЦАО это скорей всего обусловлено наличием большого количества офисных работников,которым необходим кофе даже ночью."
   ]
  },
  {
   "cell_type": "markdown",
   "metadata": {},
   "source": [
    "**Какие у кофеен рейтинги? Как они распределяются по районам?**"
   ]
  },
  {
   "cell_type": "code",
   "execution_count": null,
   "metadata": {},
   "outputs": [],
   "source": [
    "coffee_shops = moscow[moscow['category'] == 'кофейня']\n",
    "\n",
    "# Группируем по району и считаем средний рейтинг для каждого района\n",
    "coffee_ratings_by_district = coffee_shops.groupby('district')['rating'].mean().sort_values(ascending=False)\n",
    "coffee_ratings_by_district"
   ]
  },
  {
   "cell_type": "markdown",
   "metadata": {},
   "source": [
    "Средний рейтинг кофеен сильно не отличается от округа к округу:\n",
    "\n",
    "Топ 3:\n",
    "\n",
    "- ЦАО\n",
    "- СЗАО\n",
    "- САО"
   ]
  },
  {
   "cell_type": "markdown",
   "metadata": {},
   "source": [
    "**На какую стоимость чашки капучино стоит ориентироваться при открытии и почему?**"
   ]
  },
  {
   "cell_type": "code",
   "execution_count": null,
   "metadata": {},
   "outputs": [],
   "source": [
    "coffee_cup = coffee_shops.groupby('district', as_index=False)['middle_coffee_cup'].agg('mean')\n",
    "\n",
    "\n",
    "coffee_cup['middle_coffee_cup'] = coffee_cup['middle_coffee_cup']\n",
    "\n",
    "\n",
    "coffee_cup = coffee_cup.sort_values('middle_coffee_cup', ascending=False)\n",
    "\n",
    "average_price = coffee_cup['middle_coffee_cup'].mean()\n",
    "\n",
    "print('Средняя стоимость чашки кофе в Москве:', round(average_price))\n",
    "\n",
    "plt.figure(figsize=(16, 8))\n",
    "\n",
    "# Построение графика\n",
    "plt.bar(coffee_cup['district'], coffee_cup['middle_coffee_cup'], color='darkgreen')\n",
    "\n",
    "plt.title('Средняя цена чашки кофе по районам')\n",
    "plt.xlabel('Район')\n",
    "plt.ylabel('Средняя цена чашки кофе')\n",
    "\n",
    "plt.xticks(rotation=60)\n",
    "\n",
    "for i, price in enumerate(coffee_cup['middle_coffee_cup']):\n",
    "    plt.annotate(f'{price:.2f}', (i, price), textcoords=\"offset points\", xytext=(0,10), ha='center')\n",
    "    \n",
    "# Показать график\n",
    "plt.show()"
   ]
  },
  {
   "cell_type": "markdown",
   "metadata": {},
   "source": [
    "Удивительно, но наиболее дорогой кофе в ЗАО, связано это скорей всего с большим количеством состоятельных людей или возможно трудностями в логистике.\n",
    "\n",
    "ЦАО на втором месте. Цена в центре выше чем в других районах так как  стоимость аренды помещения выше чем в других округах.\n",
    "\n",
    "На 3 месте ЮЗАО."
   ]
  },
  {
   "cell_type": "markdown",
   "metadata": {},
   "source": [
    "**Попробуйте дать рекомендацию для открытия нового заведения. Это творческое задание: здесь нет правильного или неправильного ответа, но ваше решение должно быть чем-то обосновано. Объяснить свою рекомендацию можно текстом с описанием или маркерами на географической карте.**"
   ]
  },
  {
   "cell_type": "markdown",
   "metadata": {},
   "source": [
    "При открытии кофейни лучше всего обратить внимание на ЦАО, ЗАО или САО. Это обусловлено следующими факторами:\n",
    "\n",
    "- Большое количество кофеен в данных округах, что означает их актуальность. Правило ресторанного бизнеса гласит, что лучше открываться в том месте где заведений много. Если же в каком-то районе их нет, то это не просто так.\n",
    "\n",
    "- Наиболее высокий средний чек за чашку кофе. Соответственно и доходность.\n",
    "\n",
    "- Потребность в круглосуточных кофейнях, что позволит получать больше прибыли."
   ]
  },
  {
   "cell_type": "markdown",
   "metadata": {},
   "source": [
    "**Выводы по разделу Детализируем исследование: открытие кофейни:**\n",
    "\n",
    "- В Москве 1413 кофеен.\n",
    "\n",
    "- Топ 3 округа по количеству кофеен:\n",
    "\n",
    "    - ЦАО\n",
    "    - САО\n",
    "    - СВАО.\n",
    "\n",
    "- Больше всего круглосуточных кофеен в ЦАО это скорей всего обусловлено наличием большого количества офисных работников,которым необходим кофе даже ночью.\n",
    "- Средний рейтинг кофеен сильно не отличается от округа к округу:\n",
    "\n",
    "- Топ 3:\n",
    "    - ЦАО\n",
    "    - СЗАО\n",
    "    - САО\n",
    "- Средняя стоимость чашки кофе в Москве: 171\n",
    "- Удивительно, но наиболее дорогой кофе в ЗАО, связано это скорей всего с большим количеством состоятельных людей или возможно трудностями в логистике.ЦАО на втором месте. Цена в центре выше чем в других районах так как  стоимость аренды помещения выше чем в других округах. На третьем месте ЮЗАО.\n",
    "\n",
    "- Рекомендуется открывать кофейню в ЦАО, ЗАО или САО."
   ]
  },
  {
   "cell_type": "markdown",
   "metadata": {},
   "source": [
    "## Презентация"
   ]
  },
  {
   "cell_type": "markdown",
   "metadata": {},
   "source": [
    "Презентация по ссылке: https://disk.yandex.com/i/o0ODIof8QЕ_cXg"
   ]
  },
  {
   "cell_type": "markdown",
   "metadata": {},
   "source": [
    "## Общий вывод"
   ]
  },
  {
   "cell_type": "markdown",
   "metadata": {},
   "source": [
    "**Выводы по разделу Загрузка данных:**\n",
    "1. Загружены необходимые библиотеки.\n",
    "2. Загружены данные в датафрейм moscow.\n",
    "3. Установлены параметры отображения столбцов.\n",
    "4. Исправлены типы данных.\n",
    "\n",
    "**Выводы по разделу предобработка данных:**\n",
    "1. Осуществлена проврека на явные дубликаты.\n",
    "2. Осуществлена проврека на неявные дубликаты.\n",
    "3. Обработаны пропущенные значения.\n",
    "4. Добавлен столбец с названием улиц (street).\n",
    "5. Добавлен столбец c круглосуточными местами (is_24_7)\n",
    "\n",
    "**Вывод по разделу Анализ данных:.**\n",
    "- Среди всех заведений больше всего кафе, следом идут рестораны, а потом кофейни.\n",
    "- Как и следовало ожидать больше всего посадочных мест в ресторанах, на втором месте бары и уже потом кофейни. Удивительно что кафе расположились лишь на 6 месте.\n",
    "- Практически 62% процента заведений не являются сетевыми, что является хорошой мотивацией для открытия собственного заведения.\n",
    "- **Топ 3 типа сетевых заведений:**\n",
    "1. Бар, паб\n",
    "2. Столовая\n",
    "3. Кафе\n",
    "\n",
    "**Топ 3 типа нетесвых заведений:**\n",
    "\n",
    "1. Булочная\n",
    "2. Пиццерия\n",
    "3. Кофейня\n",
    "- Самым популярным заведением с отрывом является легендарная Шоколадница, далее идут две пиццерии Доминос и Додо.\n",
    "- Несмотря на размер ЦАО в нем практически в 2 раза больше заведений чем в любом другом районе.\n",
    "\n",
    "**ВАО:** В ВАО больше всего кафе, ресторанов а следом идут кофейни.\n",
    "\n",
    "**ЗАО:** В ЗАО такая же ситуация.\n",
    "\n",
    "**САО:** В САО первое место неизменно, но в отличие от ВАО и ЗАО уже больше кофеен.\n",
    "\n",
    "**СВАО:** В СВАО такая же ситуация как и в ВАО, ЗАО.\n",
    "\n",
    "**СЗАО:** Наименьшее количетсво заведений, но тренд типов заведений тот же.\n",
    "\n",
    "**ЦАО:** ЦАО отличается от других заведений радикально,помимо того, что здесь в принципе больше заведений, так и на первом месте идут рестораны, связано это скорее всего с большим количество богатых людей, далее идут кафе и кофейни.\n",
    "\n",
    "В **ЗАО, СВАО, ЮВАО, ЮЗАО, ЮАО** ситуация такая же как и в ВАО.\n",
    "\n",
    "- Рейтинги разных типо заведений практически не отличаются, за исключением баров. Скорей всего это связано с более приподнятым состоянием гостей после алкоголя.\n",
    "- Согласно Картограмме лучшие заведения в ЦАО, а худшие в ЮВАО. Низкий рейтинг в ЮВАО скорей всего обусловлен историческим промышленным вектором развития ЮВАО.\n",
    "- Улицей с наибольшим количеством мест среди всех категорий является Проспект Мира связано это с большой протяженностью данной улицы. Далее идет Профсоюзная улица и Ленинский проспект.\n",
    "- ЦАО с большим отрывом является лидером среди мест с лишь одним заведением на улице. Это связано с большим количеством маленьких переулков в данном округе.\n",
    "- Топ 3 района по среднему чека являются:\n",
    "1. ЦАО и ЗАО\n",
    "3. СЗАО.\n",
    "\n",
    "Западные направления являются наиболее дорогими если не учитывать ЦАО. Картограмма подтверждает ранее сделанные выводы о том, что заведения в западном направление наиболее дорогие.\n",
    "\n",
    "**Выводы по разделу Детализируем исследование: открытие кофейни:**\n",
    "\n",
    "- В Москве 1413 кофеен.\n",
    "\n",
    "- Топ 3 округа по количеству кофеен:\n",
    "\n",
    "    - ЦАО\n",
    "    - САО\n",
    "    - СВАО.\n",
    "\n",
    "- Больше всего круглосуточных кофеен в ЦАО это скорей всего обусловлено наличием большого количества офисных работников,которым необходим кофе даже ночью.\n",
    "- Средний рейтинг кофеен сильно не отличается от округа к округу:\n",
    "\n",
    "- Топ 3:\n",
    "    - ЦАО\n",
    "    - СЗАО\n",
    "    - САО\n",
    "- Средняя стоимость чашки кофе в Москве: 171\n",
    "- Удивительно, но наиболее дорогой кофе в ЗАО, связано это скорей всего с большим количеством состоятельных людей или возможно трудностями в логистике.ЦАО на втором месте. Цена в центре выше чем в других районах так как  стоимость аренды помещения выше чем в других округах. На третьем месте ЮЗАО.\n",
    "\n",
    "- Рекомендуется открывать кофейню в ЦАО, ЗАО или САО.\n",
    "\n",
    "**Подготовлена сводная презентация для инвесторов**"
   ]
  }
 ],
 "metadata": {
  "ExecuteTimeLog": [
   {
    "duration": 62,
    "start_time": "2024-04-09T20:01:43.190Z"
   },
   {
    "duration": 1345,
    "start_time": "2024-04-09T20:07:38.831Z"
   },
   {
    "duration": 125,
    "start_time": "2024-04-09T20:07:40.178Z"
   },
   {
    "duration": 3,
    "start_time": "2024-04-09T20:07:40.304Z"
   },
   {
    "duration": 26,
    "start_time": "2024-04-09T20:07:53.915Z"
   },
   {
    "duration": 22,
    "start_time": "2024-04-09T20:08:07.138Z"
   },
   {
    "duration": 62,
    "start_time": "2024-04-10T19:59:28.667Z"
   },
   {
    "duration": 39,
    "start_time": "2024-04-10T19:59:55.288Z"
   },
   {
    "duration": 1352,
    "start_time": "2024-04-10T20:00:02.755Z"
   },
   {
    "duration": 120,
    "start_time": "2024-04-10T20:00:04.109Z"
   },
   {
    "duration": 3,
    "start_time": "2024-04-10T20:00:04.230Z"
   },
   {
    "duration": 28,
    "start_time": "2024-04-10T20:00:04.234Z"
   },
   {
    "duration": 12,
    "start_time": "2024-04-10T20:00:04.264Z"
   },
   {
    "duration": 72,
    "start_time": "2024-04-10T20:03:30.362Z"
   },
   {
    "duration": 16,
    "start_time": "2024-04-10T20:04:18.967Z"
   },
   {
    "duration": 4,
    "start_time": "2024-04-10T20:04:27.287Z"
   },
   {
    "duration": 47,
    "start_time": "2024-04-13T09:24:01.347Z"
   },
   {
    "duration": 1496,
    "start_time": "2024-04-13T09:24:07.364Z"
   },
   {
    "duration": 246,
    "start_time": "2024-04-13T09:24:08.862Z"
   },
   {
    "duration": 4,
    "start_time": "2024-04-13T09:24:09.109Z"
   },
   {
    "duration": 41,
    "start_time": "2024-04-13T09:24:09.114Z"
   },
   {
    "duration": 26,
    "start_time": "2024-04-13T09:24:09.157Z"
   },
   {
    "duration": 6,
    "start_time": "2024-04-13T09:24:09.185Z"
   },
   {
    "duration": 26,
    "start_time": "2024-04-13T09:24:09.192Z"
   },
   {
    "duration": 19,
    "start_time": "2024-04-13T09:24:13.790Z"
   },
   {
    "duration": 35,
    "start_time": "2024-04-13T10:10:25.317Z"
   },
   {
    "duration": 12,
    "start_time": "2024-04-13T10:14:38.557Z"
   },
   {
    "duration": 12,
    "start_time": "2024-04-13T10:14:58.302Z"
   },
   {
    "duration": 51,
    "start_time": "2024-04-13T12:52:25.062Z"
   },
   {
    "duration": 1403,
    "start_time": "2024-04-13T12:52:30.976Z"
   },
   {
    "duration": 128,
    "start_time": "2024-04-13T12:52:32.381Z"
   },
   {
    "duration": 2,
    "start_time": "2024-04-13T12:52:32.511Z"
   },
   {
    "duration": 29,
    "start_time": "2024-04-13T12:52:32.515Z"
   },
   {
    "duration": 13,
    "start_time": "2024-04-13T12:52:32.546Z"
   },
   {
    "duration": 22,
    "start_time": "2024-04-13T12:52:32.560Z"
   },
   {
    "duration": 32,
    "start_time": "2024-04-13T12:52:32.584Z"
   },
   {
    "duration": 14,
    "start_time": "2024-04-13T12:52:32.617Z"
   },
   {
    "duration": 8,
    "start_time": "2024-04-13T12:52:44.115Z"
   },
   {
    "duration": 47,
    "start_time": "2024-04-13T12:54:24.661Z"
   },
   {
    "duration": 49,
    "start_time": "2024-04-13T12:54:42.252Z"
   },
   {
    "duration": 49,
    "start_time": "2024-04-13T12:55:11.164Z"
   },
   {
    "duration": 18,
    "start_time": "2024-04-13T12:55:57.418Z"
   },
   {
    "duration": 102,
    "start_time": "2024-04-13T12:56:03.738Z"
   },
   {
    "duration": 9,
    "start_time": "2024-04-13T12:56:09.476Z"
   },
   {
    "duration": 4,
    "start_time": "2024-04-13T12:57:21.332Z"
   },
   {
    "duration": 4,
    "start_time": "2024-04-13T13:06:02.295Z"
   },
   {
    "duration": 54,
    "start_time": "2024-04-13T13:07:29.165Z"
   },
   {
    "duration": 60,
    "start_time": "2024-04-13T13:07:41.894Z"
   },
   {
    "duration": 5,
    "start_time": "2024-04-13T13:07:45.713Z"
   },
   {
    "duration": 5,
    "start_time": "2024-04-13T13:08:08.073Z"
   },
   {
    "duration": 10,
    "start_time": "2024-04-13T13:09:30.691Z"
   },
   {
    "duration": 17,
    "start_time": "2024-04-13T13:09:51.655Z"
   },
   {
    "duration": 12,
    "start_time": "2024-04-13T14:40:32.807Z"
   },
   {
    "duration": 43,
    "start_time": "2024-04-13T14:40:41.209Z"
   },
   {
    "duration": 18,
    "start_time": "2024-04-13T14:43:23.418Z"
   },
   {
    "duration": 29,
    "start_time": "2024-04-13T14:43:46.915Z"
   },
   {
    "duration": 44,
    "start_time": "2024-04-13T14:43:53.130Z"
   },
   {
    "duration": 17,
    "start_time": "2024-04-13T14:44:01.794Z"
   },
   {
    "duration": 211,
    "start_time": "2024-04-13T14:55:18.696Z"
   },
   {
    "duration": 4,
    "start_time": "2024-04-13T15:13:22.525Z"
   },
   {
    "duration": 73,
    "start_time": "2024-04-13T15:13:22.530Z"
   },
   {
    "duration": 2,
    "start_time": "2024-04-13T15:13:22.605Z"
   },
   {
    "duration": 28,
    "start_time": "2024-04-13T15:13:22.608Z"
   },
   {
    "duration": 3,
    "start_time": "2024-04-13T15:13:25.256Z"
   },
   {
    "duration": 79,
    "start_time": "2024-04-13T15:13:25.261Z"
   },
   {
    "duration": 2,
    "start_time": "2024-04-13T15:13:25.342Z"
   },
   {
    "duration": 52,
    "start_time": "2024-04-13T15:13:25.345Z"
   },
   {
    "duration": 27,
    "start_time": "2024-04-13T15:13:25.399Z"
   },
   {
    "duration": 15,
    "start_time": "2024-04-13T15:13:25.428Z"
   },
   {
    "duration": 33,
    "start_time": "2024-04-13T15:13:25.445Z"
   },
   {
    "duration": 8,
    "start_time": "2024-04-13T15:13:25.480Z"
   },
   {
    "duration": 13,
    "start_time": "2024-04-13T15:13:25.489Z"
   },
   {
    "duration": 19,
    "start_time": "2024-04-13T15:13:25.504Z"
   },
   {
    "duration": 59,
    "start_time": "2024-04-13T15:13:25.527Z"
   },
   {
    "duration": 17,
    "start_time": "2024-04-13T15:13:25.588Z"
   },
   {
    "duration": 3,
    "start_time": "2024-04-13T15:16:33.897Z"
   },
   {
    "duration": 73,
    "start_time": "2024-04-13T15:16:33.902Z"
   },
   {
    "duration": 2,
    "start_time": "2024-04-13T15:16:33.977Z"
   },
   {
    "duration": 25,
    "start_time": "2024-04-13T15:16:33.981Z"
   },
   {
    "duration": 36,
    "start_time": "2024-04-13T15:16:34.007Z"
   },
   {
    "duration": 6,
    "start_time": "2024-04-13T15:16:34.427Z"
   },
   {
    "duration": 24,
    "start_time": "2024-04-13T15:16:34.435Z"
   },
   {
    "duration": 11,
    "start_time": "2024-04-13T15:16:34.461Z"
   },
   {
    "duration": 8,
    "start_time": "2024-04-13T15:16:34.473Z"
   },
   {
    "duration": 13,
    "start_time": "2024-04-13T15:16:34.483Z"
   },
   {
    "duration": 124,
    "start_time": "2024-04-13T15:16:34.497Z"
   },
   {
    "duration": 17,
    "start_time": "2024-04-13T15:16:34.623Z"
   },
   {
    "duration": 380,
    "start_time": "2024-04-13T15:33:28.078Z"
   },
   {
    "duration": 294,
    "start_time": "2024-04-13T15:35:39.754Z"
   },
   {
    "duration": 359,
    "start_time": "2024-04-13T15:36:06.278Z"
   },
   {
    "duration": 310,
    "start_time": "2024-04-13T15:36:34.770Z"
   },
   {
    "duration": 324,
    "start_time": "2024-04-13T15:36:43.549Z"
   },
   {
    "duration": 310,
    "start_time": "2024-04-13T15:43:11.762Z"
   },
   {
    "duration": 3,
    "start_time": "2024-04-13T15:45:59.154Z"
   },
   {
    "duration": 75,
    "start_time": "2024-04-13T15:45:59.159Z"
   },
   {
    "duration": 3,
    "start_time": "2024-04-13T15:45:59.235Z"
   },
   {
    "duration": 43,
    "start_time": "2024-04-13T15:45:59.239Z"
   },
   {
    "duration": 17,
    "start_time": "2024-04-13T15:45:59.284Z"
   },
   {
    "duration": 8,
    "start_time": "2024-04-13T15:45:59.303Z"
   },
   {
    "duration": 17,
    "start_time": "2024-04-13T15:45:59.312Z"
   },
   {
    "duration": 8,
    "start_time": "2024-04-13T15:45:59.331Z"
   },
   {
    "duration": 30,
    "start_time": "2024-04-13T15:45:59.340Z"
   },
   {
    "duration": 35,
    "start_time": "2024-04-13T15:45:59.371Z"
   },
   {
    "duration": 62,
    "start_time": "2024-04-13T15:45:59.407Z"
   },
   {
    "duration": 17,
    "start_time": "2024-04-13T15:45:59.471Z"
   },
   {
    "duration": 341,
    "start_time": "2024-04-13T15:45:59.490Z"
   },
   {
    "duration": 13,
    "start_time": "2024-04-13T15:45:59.832Z"
   },
   {
    "duration": 355,
    "start_time": "2024-04-13T15:46:48.490Z"
   },
   {
    "duration": 310,
    "start_time": "2024-04-13T15:46:56.367Z"
   },
   {
    "duration": 403,
    "start_time": "2024-04-13T15:48:06.495Z"
   },
   {
    "duration": 13,
    "start_time": "2024-04-13T15:49:56.899Z"
   },
   {
    "duration": 12,
    "start_time": "2024-04-13T15:50:16.567Z"
   },
   {
    "duration": 1384,
    "start_time": "2024-04-13T15:50:59.909Z"
   },
   {
    "duration": 68,
    "start_time": "2024-04-13T15:51:01.295Z"
   },
   {
    "duration": 3,
    "start_time": "2024-04-13T15:51:01.364Z"
   },
   {
    "duration": 71,
    "start_time": "2024-04-13T15:51:01.369Z"
   },
   {
    "duration": 108,
    "start_time": "2024-04-13T15:51:01.441Z"
   },
   {
    "duration": 81,
    "start_time": "2024-04-13T15:51:01.550Z"
   },
   {
    "duration": 58,
    "start_time": "2024-04-13T15:51:01.632Z"
   },
   {
    "duration": 146,
    "start_time": "2024-04-13T15:51:01.692Z"
   },
   {
    "duration": 155,
    "start_time": "2024-04-13T15:51:01.840Z"
   },
   {
    "duration": 33,
    "start_time": "2024-04-13T15:51:01.997Z"
   },
   {
    "duration": 98,
    "start_time": "2024-04-13T15:51:02.032Z"
   },
   {
    "duration": 17,
    "start_time": "2024-04-13T15:51:02.132Z"
   },
   {
    "duration": 360,
    "start_time": "2024-04-13T15:51:02.150Z"
   },
   {
    "duration": 387,
    "start_time": "2024-04-13T15:51:02.512Z"
   },
   {
    "duration": 1872,
    "start_time": "2024-04-13T15:52:00.467Z"
   },
   {
    "duration": 1996,
    "start_time": "2024-04-13T15:53:05.057Z"
   },
   {
    "duration": 664,
    "start_time": "2024-04-13T15:55:44.704Z"
   },
   {
    "duration": 662,
    "start_time": "2024-04-13T15:57:30.121Z"
   },
   {
    "duration": 11,
    "start_time": "2024-04-13T15:59:58.589Z"
   },
   {
    "duration": 313,
    "start_time": "2024-04-13T16:02:26.537Z"
   },
   {
    "duration": 340,
    "start_time": "2024-04-13T16:02:41.499Z"
   },
   {
    "duration": 14,
    "start_time": "2024-04-13T16:03:49.423Z"
   },
   {
    "duration": 307,
    "start_time": "2024-04-13T16:05:00.066Z"
   },
   {
    "duration": 329,
    "start_time": "2024-04-13T16:05:13.930Z"
   },
   {
    "duration": 302,
    "start_time": "2024-04-13T16:05:24.269Z"
   },
   {
    "duration": 54,
    "start_time": "2024-04-13T16:06:56.498Z"
   },
   {
    "duration": 353,
    "start_time": "2024-04-13T16:07:01.380Z"
   },
   {
    "duration": 347,
    "start_time": "2024-04-13T16:08:25.680Z"
   },
   {
    "duration": 472,
    "start_time": "2024-04-13T16:08:35.515Z"
   },
   {
    "duration": 108,
    "start_time": "2024-04-13T16:12:51.775Z"
   },
   {
    "duration": 12,
    "start_time": "2024-04-13T16:13:35.533Z"
   },
   {
    "duration": 75,
    "start_time": "2024-04-13T16:14:12.904Z"
   },
   {
    "duration": 81,
    "start_time": "2024-04-13T16:14:20.524Z"
   },
   {
    "duration": 13,
    "start_time": "2024-04-13T16:14:32.295Z"
   },
   {
    "duration": 88,
    "start_time": "2024-04-13T16:14:42.755Z"
   },
   {
    "duration": 35,
    "start_time": "2024-04-13T16:26:09.350Z"
   },
   {
    "duration": 28,
    "start_time": "2024-04-13T16:26:30.724Z"
   },
   {
    "duration": 857,
    "start_time": "2024-04-13T16:28:03.195Z"
   },
   {
    "duration": 824,
    "start_time": "2024-04-13T16:28:12.001Z"
   },
   {
    "duration": 1400,
    "start_time": "2024-04-13T16:28:33.464Z"
   },
   {
    "duration": 68,
    "start_time": "2024-04-13T16:28:34.867Z"
   },
   {
    "duration": 4,
    "start_time": "2024-04-13T16:28:34.936Z"
   },
   {
    "duration": 36,
    "start_time": "2024-04-13T16:28:34.941Z"
   },
   {
    "duration": 14,
    "start_time": "2024-04-13T16:28:34.980Z"
   },
   {
    "duration": 11,
    "start_time": "2024-04-13T16:28:34.996Z"
   },
   {
    "duration": 28,
    "start_time": "2024-04-13T16:28:35.008Z"
   },
   {
    "duration": 28,
    "start_time": "2024-04-13T16:28:35.038Z"
   },
   {
    "duration": 30,
    "start_time": "2024-04-13T16:28:35.068Z"
   },
   {
    "duration": 15,
    "start_time": "2024-04-13T16:28:35.100Z"
   },
   {
    "duration": 57,
    "start_time": "2024-04-13T16:28:35.116Z"
   },
   {
    "duration": 18,
    "start_time": "2024-04-13T16:28:35.174Z"
   },
   {
    "duration": 394,
    "start_time": "2024-04-13T16:28:35.194Z"
   },
   {
    "duration": 387,
    "start_time": "2024-04-13T16:28:35.590Z"
   },
   {
    "duration": 102,
    "start_time": "2024-04-13T16:28:35.978Z"
   },
   {
    "duration": 1002,
    "start_time": "2024-04-13T16:28:36.082Z"
   },
   {
    "duration": 901,
    "start_time": "2024-04-13T17:04:52.146Z"
   },
   {
    "duration": 0,
    "start_time": "2024-04-13T17:06:06.791Z"
   },
   {
    "duration": 0,
    "start_time": "2024-04-13T17:06:06.793Z"
   },
   {
    "duration": 0,
    "start_time": "2024-04-13T17:06:06.794Z"
   },
   {
    "duration": 0,
    "start_time": "2024-04-13T17:06:06.795Z"
   },
   {
    "duration": 0,
    "start_time": "2024-04-13T17:06:06.797Z"
   },
   {
    "duration": 0,
    "start_time": "2024-04-13T17:06:06.798Z"
   },
   {
    "duration": 0,
    "start_time": "2024-04-13T17:06:06.799Z"
   },
   {
    "duration": 0,
    "start_time": "2024-04-13T17:06:06.800Z"
   },
   {
    "duration": 0,
    "start_time": "2024-04-13T17:06:06.802Z"
   },
   {
    "duration": 0,
    "start_time": "2024-04-13T17:06:06.803Z"
   },
   {
    "duration": 0,
    "start_time": "2024-04-13T17:06:06.805Z"
   },
   {
    "duration": 0,
    "start_time": "2024-04-13T17:06:06.806Z"
   },
   {
    "duration": 0,
    "start_time": "2024-04-13T17:06:06.807Z"
   },
   {
    "duration": 0,
    "start_time": "2024-04-13T17:06:06.808Z"
   },
   {
    "duration": 0,
    "start_time": "2024-04-13T17:06:06.810Z"
   },
   {
    "duration": 0,
    "start_time": "2024-04-13T17:06:06.811Z"
   },
   {
    "duration": 1340,
    "start_time": "2024-04-13T17:06:22.505Z"
   },
   {
    "duration": 65,
    "start_time": "2024-04-13T17:06:23.847Z"
   },
   {
    "duration": 3,
    "start_time": "2024-04-13T17:06:23.913Z"
   },
   {
    "duration": 67,
    "start_time": "2024-04-13T17:06:23.918Z"
   },
   {
    "duration": 18,
    "start_time": "2024-04-13T17:06:23.988Z"
   },
   {
    "duration": 7,
    "start_time": "2024-04-13T17:06:24.008Z"
   },
   {
    "duration": 21,
    "start_time": "2024-04-13T17:06:24.017Z"
   },
   {
    "duration": 33,
    "start_time": "2024-04-13T17:06:24.040Z"
   },
   {
    "duration": 17,
    "start_time": "2024-04-13T17:06:24.075Z"
   },
   {
    "duration": 10,
    "start_time": "2024-04-13T17:06:24.094Z"
   },
   {
    "duration": 69,
    "start_time": "2024-04-13T17:06:24.106Z"
   },
   {
    "duration": 30,
    "start_time": "2024-04-13T17:06:24.177Z"
   },
   {
    "duration": 384,
    "start_time": "2024-04-13T17:06:24.209Z"
   },
   {
    "duration": 384,
    "start_time": "2024-04-13T17:06:24.596Z"
   },
   {
    "duration": 108,
    "start_time": "2024-04-13T17:06:24.982Z"
   },
   {
    "duration": 994,
    "start_time": "2024-04-13T17:06:25.091Z"
   },
   {
    "duration": 32,
    "start_time": "2024-04-13T17:07:39.907Z"
   },
   {
    "duration": 276,
    "start_time": "2024-04-13T17:09:19.795Z"
   },
   {
    "duration": 274,
    "start_time": "2024-04-13T17:11:33.504Z"
   },
   {
    "duration": 38,
    "start_time": "2024-04-13T17:12:13.259Z"
   },
   {
    "duration": 26,
    "start_time": "2024-04-13T17:12:22.647Z"
   },
   {
    "duration": 222,
    "start_time": "2024-04-13T17:12:38.207Z"
   },
   {
    "duration": 28,
    "start_time": "2024-04-13T17:13:44.546Z"
   },
   {
    "duration": 202,
    "start_time": "2024-04-13T17:13:48.037Z"
   },
   {
    "duration": 828,
    "start_time": "2024-04-13T17:14:33.347Z"
   },
   {
    "duration": 199,
    "start_time": "2024-04-13T17:15:23.242Z"
   },
   {
    "duration": 218,
    "start_time": "2024-04-13T17:16:32.515Z"
   },
   {
    "duration": 217,
    "start_time": "2024-04-13T17:16:52.265Z"
   },
   {
    "duration": 23,
    "start_time": "2024-04-13T17:19:09.263Z"
   },
   {
    "duration": 226,
    "start_time": "2024-04-13T17:19:16.266Z"
   },
   {
    "duration": 326,
    "start_time": "2024-04-13T17:20:17.859Z"
   },
   {
    "duration": 1377,
    "start_time": "2024-04-13T17:21:37.798Z"
   },
   {
    "duration": 66,
    "start_time": "2024-04-13T17:21:39.177Z"
   },
   {
    "duration": 3,
    "start_time": "2024-04-13T17:21:39.245Z"
   },
   {
    "duration": 37,
    "start_time": "2024-04-13T17:21:39.250Z"
   },
   {
    "duration": 17,
    "start_time": "2024-04-13T17:21:39.289Z"
   },
   {
    "duration": 8,
    "start_time": "2024-04-13T17:21:39.307Z"
   },
   {
    "duration": 24,
    "start_time": "2024-04-13T17:21:39.317Z"
   },
   {
    "duration": 30,
    "start_time": "2024-04-13T17:21:39.343Z"
   },
   {
    "duration": 12,
    "start_time": "2024-04-13T17:21:39.375Z"
   },
   {
    "duration": 13,
    "start_time": "2024-04-13T17:21:39.389Z"
   },
   {
    "duration": 73,
    "start_time": "2024-04-13T17:21:39.404Z"
   },
   {
    "duration": 17,
    "start_time": "2024-04-13T17:21:39.478Z"
   },
   {
    "duration": 375,
    "start_time": "2024-04-13T17:21:39.497Z"
   },
   {
    "duration": 378,
    "start_time": "2024-04-13T17:21:39.876Z"
   },
   {
    "duration": 85,
    "start_time": "2024-04-13T17:21:40.256Z"
   },
   {
    "duration": 102,
    "start_time": "2024-04-13T17:21:40.342Z"
   },
   {
    "duration": 263,
    "start_time": "2024-04-13T17:21:40.445Z"
   },
   {
    "duration": 263,
    "start_time": "2024-04-13T17:24:06.922Z"
   },
   {
    "duration": 1447,
    "start_time": "2024-04-13T17:24:57.614Z"
   },
   {
    "duration": 66,
    "start_time": "2024-04-13T17:24:59.064Z"
   },
   {
    "duration": 3,
    "start_time": "2024-04-13T17:24:59.132Z"
   },
   {
    "duration": 44,
    "start_time": "2024-04-13T17:24:59.136Z"
   },
   {
    "duration": 22,
    "start_time": "2024-04-13T17:24:59.183Z"
   },
   {
    "duration": 27,
    "start_time": "2024-04-13T17:24:59.207Z"
   },
   {
    "duration": 29,
    "start_time": "2024-04-13T17:24:59.236Z"
   },
   {
    "duration": 28,
    "start_time": "2024-04-13T17:24:59.266Z"
   },
   {
    "duration": 28,
    "start_time": "2024-04-13T17:24:59.295Z"
   },
   {
    "duration": 14,
    "start_time": "2024-04-13T17:24:59.324Z"
   },
   {
    "duration": 76,
    "start_time": "2024-04-13T17:24:59.339Z"
   },
   {
    "duration": 22,
    "start_time": "2024-04-13T17:24:59.416Z"
   },
   {
    "duration": 346,
    "start_time": "2024-04-13T17:24:59.439Z"
   },
   {
    "duration": 391,
    "start_time": "2024-04-13T17:24:59.788Z"
   },
   {
    "duration": 98,
    "start_time": "2024-04-13T17:25:00.181Z"
   },
   {
    "duration": 96,
    "start_time": "2024-04-13T17:25:00.280Z"
   },
   {
    "duration": 264,
    "start_time": "2024-04-13T17:25:00.378Z"
   },
   {
    "duration": 294,
    "start_time": "2024-04-13T17:25:00.643Z"
   },
   {
    "duration": 259,
    "start_time": "2024-04-13T17:25:51.061Z"
   },
   {
    "duration": 280,
    "start_time": "2024-04-13T17:25:59.328Z"
   },
   {
    "duration": 632,
    "start_time": "2024-04-13T17:29:17.211Z"
   },
   {
    "duration": 411,
    "start_time": "2024-04-13T17:30:42.892Z"
   },
   {
    "duration": 129,
    "start_time": "2024-04-13T17:31:01.011Z"
   },
   {
    "duration": 736,
    "start_time": "2024-04-13T17:31:47.475Z"
   },
   {
    "duration": 912,
    "start_time": "2024-04-13T17:32:06.464Z"
   },
   {
    "duration": 393,
    "start_time": "2024-04-13T17:33:30.219Z"
   },
   {
    "duration": 19,
    "start_time": "2024-04-13T17:34:27.574Z"
   },
   {
    "duration": 438,
    "start_time": "2024-04-13T17:34:42.900Z"
   },
   {
    "duration": 411,
    "start_time": "2024-04-13T17:35:22.077Z"
   },
   {
    "duration": 414,
    "start_time": "2024-04-13T17:35:40.966Z"
   },
   {
    "duration": 417,
    "start_time": "2024-04-13T17:35:49.100Z"
   },
   {
    "duration": 393,
    "start_time": "2024-04-13T17:35:59.924Z"
   },
   {
    "duration": 856,
    "start_time": "2024-04-13T17:36:17.761Z"
   },
   {
    "duration": 739,
    "start_time": "2024-04-13T17:36:26.712Z"
   },
   {
    "duration": 688,
    "start_time": "2024-04-13T17:41:14.604Z"
   },
   {
    "duration": 354,
    "start_time": "2024-04-13T17:41:40.701Z"
   },
   {
    "duration": 18,
    "start_time": "2024-04-13T17:45:00.116Z"
   },
   {
    "duration": 1328,
    "start_time": "2024-04-13T17:45:36.295Z"
   },
   {
    "duration": 67,
    "start_time": "2024-04-13T17:45:37.625Z"
   },
   {
    "duration": 2,
    "start_time": "2024-04-13T17:45:37.694Z"
   },
   {
    "duration": 28,
    "start_time": "2024-04-13T17:45:37.698Z"
   },
   {
    "duration": 13,
    "start_time": "2024-04-13T17:45:37.727Z"
   },
   {
    "duration": 12,
    "start_time": "2024-04-13T17:45:37.742Z"
   },
   {
    "duration": 18,
    "start_time": "2024-04-13T17:45:37.765Z"
   },
   {
    "duration": 8,
    "start_time": "2024-04-13T17:45:37.785Z"
   },
   {
    "duration": 19,
    "start_time": "2024-04-13T17:45:37.795Z"
   },
   {
    "duration": 10,
    "start_time": "2024-04-13T17:45:37.816Z"
   },
   {
    "duration": 69,
    "start_time": "2024-04-13T17:45:37.827Z"
   },
   {
    "duration": 18,
    "start_time": "2024-04-13T17:45:37.898Z"
   },
   {
    "duration": 361,
    "start_time": "2024-04-13T17:45:37.917Z"
   },
   {
    "duration": 336,
    "start_time": "2024-04-13T17:45:38.280Z"
   },
   {
    "duration": 91,
    "start_time": "2024-04-13T17:45:38.618Z"
   },
   {
    "duration": 94,
    "start_time": "2024-04-13T17:45:38.711Z"
   },
   {
    "duration": 249,
    "start_time": "2024-04-13T17:45:38.807Z"
   },
   {
    "duration": 280,
    "start_time": "2024-04-13T17:45:39.058Z"
   },
   {
    "duration": 389,
    "start_time": "2024-04-13T17:45:39.339Z"
   },
   {
    "duration": 765,
    "start_time": "2024-04-13T17:45:39.730Z"
   },
   {
    "duration": 132,
    "start_time": "2024-04-13T17:45:40.497Z"
   },
   {
    "duration": 7,
    "start_time": "2024-04-13T17:46:05.159Z"
   },
   {
    "duration": 170,
    "start_time": "2024-04-13T17:47:49.235Z"
   },
   {
    "duration": 13,
    "start_time": "2024-04-13T18:04:09.030Z"
   },
   {
    "duration": 32,
    "start_time": "2024-04-13T18:04:33.142Z"
   },
   {
    "duration": 1488,
    "start_time": "2024-04-13T18:04:42.598Z"
   },
   {
    "duration": 0,
    "start_time": "2024-04-13T18:04:44.088Z"
   },
   {
    "duration": 0,
    "start_time": "2024-04-13T18:04:44.089Z"
   },
   {
    "duration": 0,
    "start_time": "2024-04-13T18:04:44.090Z"
   },
   {
    "duration": 0,
    "start_time": "2024-04-13T18:04:44.091Z"
   },
   {
    "duration": 0,
    "start_time": "2024-04-13T18:04:44.092Z"
   },
   {
    "duration": 0,
    "start_time": "2024-04-13T18:04:44.093Z"
   },
   {
    "duration": 0,
    "start_time": "2024-04-13T18:04:44.094Z"
   },
   {
    "duration": 0,
    "start_time": "2024-04-13T18:04:44.095Z"
   },
   {
    "duration": 0,
    "start_time": "2024-04-13T18:04:44.096Z"
   },
   {
    "duration": 0,
    "start_time": "2024-04-13T18:04:44.097Z"
   },
   {
    "duration": 0,
    "start_time": "2024-04-13T18:04:44.098Z"
   },
   {
    "duration": 0,
    "start_time": "2024-04-13T18:04:44.099Z"
   },
   {
    "duration": 0,
    "start_time": "2024-04-13T18:04:44.099Z"
   },
   {
    "duration": 0,
    "start_time": "2024-04-13T18:04:44.100Z"
   },
   {
    "duration": 0,
    "start_time": "2024-04-13T18:04:44.101Z"
   },
   {
    "duration": 0,
    "start_time": "2024-04-13T18:04:44.102Z"
   },
   {
    "duration": 0,
    "start_time": "2024-04-13T18:04:44.103Z"
   },
   {
    "duration": 0,
    "start_time": "2024-04-13T18:04:44.104Z"
   },
   {
    "duration": 0,
    "start_time": "2024-04-13T18:04:44.105Z"
   },
   {
    "duration": 0,
    "start_time": "2024-04-13T18:04:44.106Z"
   },
   {
    "duration": 0,
    "start_time": "2024-04-13T18:04:44.107Z"
   },
   {
    "duration": 1565,
    "start_time": "2024-04-13T18:05:24.702Z"
   },
   {
    "duration": 0,
    "start_time": "2024-04-13T18:05:26.269Z"
   },
   {
    "duration": 0,
    "start_time": "2024-04-13T18:05:26.270Z"
   },
   {
    "duration": 0,
    "start_time": "2024-04-13T18:05:26.271Z"
   },
   {
    "duration": 0,
    "start_time": "2024-04-13T18:05:26.272Z"
   },
   {
    "duration": 0,
    "start_time": "2024-04-13T18:05:26.273Z"
   },
   {
    "duration": 0,
    "start_time": "2024-04-13T18:05:26.274Z"
   },
   {
    "duration": 0,
    "start_time": "2024-04-13T18:05:26.275Z"
   },
   {
    "duration": 0,
    "start_time": "2024-04-13T18:05:26.276Z"
   },
   {
    "duration": 0,
    "start_time": "2024-04-13T18:05:26.277Z"
   },
   {
    "duration": 0,
    "start_time": "2024-04-13T18:05:26.278Z"
   },
   {
    "duration": 0,
    "start_time": "2024-04-13T18:05:26.279Z"
   },
   {
    "duration": 0,
    "start_time": "2024-04-13T18:05:26.280Z"
   },
   {
    "duration": 0,
    "start_time": "2024-04-13T18:05:26.281Z"
   },
   {
    "duration": 0,
    "start_time": "2024-04-13T18:05:26.282Z"
   },
   {
    "duration": 0,
    "start_time": "2024-04-13T18:05:26.283Z"
   },
   {
    "duration": 0,
    "start_time": "2024-04-13T18:05:26.284Z"
   },
   {
    "duration": 0,
    "start_time": "2024-04-13T18:05:26.285Z"
   },
   {
    "duration": 0,
    "start_time": "2024-04-13T18:05:26.286Z"
   },
   {
    "duration": 0,
    "start_time": "2024-04-13T18:05:26.287Z"
   },
   {
    "duration": 0,
    "start_time": "2024-04-13T18:05:26.288Z"
   },
   {
    "duration": 0,
    "start_time": "2024-04-13T18:05:26.289Z"
   },
   {
    "duration": 11,
    "start_time": "2024-04-13T18:05:54.863Z"
   },
   {
    "duration": 1551,
    "start_time": "2024-04-13T18:06:01.692Z"
   },
   {
    "duration": 0,
    "start_time": "2024-04-13T18:06:03.245Z"
   },
   {
    "duration": 1,
    "start_time": "2024-04-13T18:06:03.246Z"
   },
   {
    "duration": 0,
    "start_time": "2024-04-13T18:06:03.248Z"
   },
   {
    "duration": 0,
    "start_time": "2024-04-13T18:06:03.250Z"
   },
   {
    "duration": 0,
    "start_time": "2024-04-13T18:06:03.251Z"
   },
   {
    "duration": 0,
    "start_time": "2024-04-13T18:06:03.252Z"
   },
   {
    "duration": 0,
    "start_time": "2024-04-13T18:06:03.266Z"
   },
   {
    "duration": 0,
    "start_time": "2024-04-13T18:06:03.267Z"
   },
   {
    "duration": 0,
    "start_time": "2024-04-13T18:06:03.269Z"
   },
   {
    "duration": 0,
    "start_time": "2024-04-13T18:06:03.270Z"
   },
   {
    "duration": 0,
    "start_time": "2024-04-13T18:06:03.271Z"
   },
   {
    "duration": 0,
    "start_time": "2024-04-13T18:06:03.273Z"
   },
   {
    "duration": 0,
    "start_time": "2024-04-13T18:06:03.274Z"
   },
   {
    "duration": 0,
    "start_time": "2024-04-13T18:06:03.275Z"
   },
   {
    "duration": 0,
    "start_time": "2024-04-13T18:06:03.277Z"
   },
   {
    "duration": 0,
    "start_time": "2024-04-13T18:06:03.278Z"
   },
   {
    "duration": 0,
    "start_time": "2024-04-13T18:06:03.279Z"
   },
   {
    "duration": 0,
    "start_time": "2024-04-13T18:06:03.280Z"
   },
   {
    "duration": 0,
    "start_time": "2024-04-13T18:06:03.282Z"
   },
   {
    "duration": 0,
    "start_time": "2024-04-13T18:06:03.284Z"
   },
   {
    "duration": 0,
    "start_time": "2024-04-13T18:06:03.285Z"
   },
   {
    "duration": 1535,
    "start_time": "2024-04-13T18:06:25.669Z"
   },
   {
    "duration": 0,
    "start_time": "2024-04-13T18:06:27.206Z"
   },
   {
    "duration": 0,
    "start_time": "2024-04-13T18:06:27.207Z"
   },
   {
    "duration": 0,
    "start_time": "2024-04-13T18:06:27.208Z"
   },
   {
    "duration": 0,
    "start_time": "2024-04-13T18:06:27.209Z"
   },
   {
    "duration": 0,
    "start_time": "2024-04-13T18:06:27.210Z"
   },
   {
    "duration": 0,
    "start_time": "2024-04-13T18:06:27.211Z"
   },
   {
    "duration": 0,
    "start_time": "2024-04-13T18:06:27.212Z"
   },
   {
    "duration": 0,
    "start_time": "2024-04-13T18:06:27.213Z"
   },
   {
    "duration": 0,
    "start_time": "2024-04-13T18:06:27.214Z"
   },
   {
    "duration": 0,
    "start_time": "2024-04-13T18:06:27.215Z"
   },
   {
    "duration": 0,
    "start_time": "2024-04-13T18:06:27.216Z"
   },
   {
    "duration": 0,
    "start_time": "2024-04-13T18:06:27.217Z"
   },
   {
    "duration": 0,
    "start_time": "2024-04-13T18:06:27.218Z"
   },
   {
    "duration": 0,
    "start_time": "2024-04-13T18:06:27.219Z"
   },
   {
    "duration": 0,
    "start_time": "2024-04-13T18:06:27.220Z"
   },
   {
    "duration": 0,
    "start_time": "2024-04-13T18:06:27.222Z"
   },
   {
    "duration": 0,
    "start_time": "2024-04-13T18:06:27.223Z"
   },
   {
    "duration": 0,
    "start_time": "2024-04-13T18:06:27.224Z"
   },
   {
    "duration": 0,
    "start_time": "2024-04-13T18:06:27.226Z"
   },
   {
    "duration": 0,
    "start_time": "2024-04-13T18:06:27.227Z"
   },
   {
    "duration": 0,
    "start_time": "2024-04-13T18:06:27.228Z"
   },
   {
    "duration": 1449,
    "start_time": "2024-04-13T18:07:41.401Z"
   },
   {
    "duration": 0,
    "start_time": "2024-04-13T18:07:42.853Z"
   },
   {
    "duration": 0,
    "start_time": "2024-04-13T18:07:42.855Z"
   },
   {
    "duration": 0,
    "start_time": "2024-04-13T18:07:42.856Z"
   },
   {
    "duration": 0,
    "start_time": "2024-04-13T18:07:42.856Z"
   },
   {
    "duration": 0,
    "start_time": "2024-04-13T18:07:42.857Z"
   },
   {
    "duration": 0,
    "start_time": "2024-04-13T18:07:42.858Z"
   },
   {
    "duration": 0,
    "start_time": "2024-04-13T18:07:42.866Z"
   },
   {
    "duration": 0,
    "start_time": "2024-04-13T18:07:42.867Z"
   },
   {
    "duration": 0,
    "start_time": "2024-04-13T18:07:42.868Z"
   },
   {
    "duration": 0,
    "start_time": "2024-04-13T18:07:42.870Z"
   },
   {
    "duration": 0,
    "start_time": "2024-04-13T18:07:42.871Z"
   },
   {
    "duration": 0,
    "start_time": "2024-04-13T18:07:42.872Z"
   },
   {
    "duration": 0,
    "start_time": "2024-04-13T18:07:42.873Z"
   },
   {
    "duration": 0,
    "start_time": "2024-04-13T18:07:42.874Z"
   },
   {
    "duration": 0,
    "start_time": "2024-04-13T18:07:42.875Z"
   },
   {
    "duration": 0,
    "start_time": "2024-04-13T18:07:42.876Z"
   },
   {
    "duration": 0,
    "start_time": "2024-04-13T18:07:42.877Z"
   },
   {
    "duration": 0,
    "start_time": "2024-04-13T18:07:42.878Z"
   },
   {
    "duration": 0,
    "start_time": "2024-04-13T18:07:42.879Z"
   },
   {
    "duration": 0,
    "start_time": "2024-04-13T18:07:42.880Z"
   },
   {
    "duration": 0,
    "start_time": "2024-04-13T18:07:42.881Z"
   },
   {
    "duration": 11,
    "start_time": "2024-04-13T18:08:10.516Z"
   },
   {
    "duration": 0,
    "start_time": "2024-04-13T18:08:10.529Z"
   },
   {
    "duration": 0,
    "start_time": "2024-04-13T18:08:10.530Z"
   },
   {
    "duration": 0,
    "start_time": "2024-04-13T18:08:10.531Z"
   },
   {
    "duration": 1,
    "start_time": "2024-04-13T18:08:10.532Z"
   },
   {
    "duration": 0,
    "start_time": "2024-04-13T18:08:10.534Z"
   },
   {
    "duration": 0,
    "start_time": "2024-04-13T18:08:10.536Z"
   },
   {
    "duration": 0,
    "start_time": "2024-04-13T18:08:10.537Z"
   },
   {
    "duration": 0,
    "start_time": "2024-04-13T18:08:10.538Z"
   },
   {
    "duration": 0,
    "start_time": "2024-04-13T18:08:10.539Z"
   },
   {
    "duration": 12,
    "start_time": "2024-04-13T18:08:10.543Z"
   },
   {
    "duration": 0,
    "start_time": "2024-04-13T18:08:10.556Z"
   },
   {
    "duration": 0,
    "start_time": "2024-04-13T18:08:10.558Z"
   },
   {
    "duration": 0,
    "start_time": "2024-04-13T18:08:10.559Z"
   },
   {
    "duration": 0,
    "start_time": "2024-04-13T18:08:10.560Z"
   },
   {
    "duration": 0,
    "start_time": "2024-04-13T18:08:10.561Z"
   },
   {
    "duration": 0,
    "start_time": "2024-04-13T18:08:10.565Z"
   },
   {
    "duration": 0,
    "start_time": "2024-04-13T18:08:10.566Z"
   },
   {
    "duration": 0,
    "start_time": "2024-04-13T18:08:10.568Z"
   },
   {
    "duration": 0,
    "start_time": "2024-04-13T18:08:10.568Z"
   },
   {
    "duration": 0,
    "start_time": "2024-04-13T18:08:10.570Z"
   },
   {
    "duration": 0,
    "start_time": "2024-04-13T18:08:10.571Z"
   },
   {
    "duration": 1600,
    "start_time": "2024-04-13T18:09:00.458Z"
   },
   {
    "duration": 0,
    "start_time": "2024-04-13T18:09:02.060Z"
   },
   {
    "duration": 0,
    "start_time": "2024-04-13T18:09:02.066Z"
   },
   {
    "duration": 0,
    "start_time": "2024-04-13T18:09:02.068Z"
   },
   {
    "duration": 0,
    "start_time": "2024-04-13T18:09:02.070Z"
   },
   {
    "duration": 0,
    "start_time": "2024-04-13T18:09:02.071Z"
   },
   {
    "duration": 0,
    "start_time": "2024-04-13T18:09:02.073Z"
   },
   {
    "duration": 0,
    "start_time": "2024-04-13T18:09:02.075Z"
   },
   {
    "duration": 0,
    "start_time": "2024-04-13T18:09:02.076Z"
   },
   {
    "duration": 0,
    "start_time": "2024-04-13T18:09:02.077Z"
   },
   {
    "duration": 0,
    "start_time": "2024-04-13T18:09:02.079Z"
   },
   {
    "duration": 0,
    "start_time": "2024-04-13T18:09:02.080Z"
   },
   {
    "duration": 0,
    "start_time": "2024-04-13T18:09:02.081Z"
   },
   {
    "duration": 0,
    "start_time": "2024-04-13T18:09:02.082Z"
   },
   {
    "duration": 0,
    "start_time": "2024-04-13T18:09:02.083Z"
   },
   {
    "duration": 0,
    "start_time": "2024-04-13T18:09:02.084Z"
   },
   {
    "duration": 0,
    "start_time": "2024-04-13T18:09:02.086Z"
   },
   {
    "duration": 1,
    "start_time": "2024-04-13T18:09:02.086Z"
   },
   {
    "duration": 0,
    "start_time": "2024-04-13T18:09:02.087Z"
   },
   {
    "duration": 0,
    "start_time": "2024-04-13T18:09:02.088Z"
   },
   {
    "duration": 0,
    "start_time": "2024-04-13T18:09:02.089Z"
   },
   {
    "duration": 0,
    "start_time": "2024-04-13T18:09:02.090Z"
   },
   {
    "duration": 1540,
    "start_time": "2024-04-13T18:09:18.723Z"
   },
   {
    "duration": 0,
    "start_time": "2024-04-13T18:09:20.266Z"
   },
   {
    "duration": 0,
    "start_time": "2024-04-13T18:09:20.268Z"
   },
   {
    "duration": 0,
    "start_time": "2024-04-13T18:09:20.269Z"
   },
   {
    "duration": 0,
    "start_time": "2024-04-13T18:09:20.271Z"
   },
   {
    "duration": 0,
    "start_time": "2024-04-13T18:09:20.272Z"
   },
   {
    "duration": 0,
    "start_time": "2024-04-13T18:09:20.274Z"
   },
   {
    "duration": 0,
    "start_time": "2024-04-13T18:09:20.275Z"
   },
   {
    "duration": 0,
    "start_time": "2024-04-13T18:09:20.277Z"
   },
   {
    "duration": 0,
    "start_time": "2024-04-13T18:09:20.279Z"
   },
   {
    "duration": 0,
    "start_time": "2024-04-13T18:09:20.280Z"
   },
   {
    "duration": 0,
    "start_time": "2024-04-13T18:09:20.280Z"
   },
   {
    "duration": 0,
    "start_time": "2024-04-13T18:09:20.282Z"
   },
   {
    "duration": 0,
    "start_time": "2024-04-13T18:09:20.283Z"
   },
   {
    "duration": 0,
    "start_time": "2024-04-13T18:09:20.284Z"
   },
   {
    "duration": 0,
    "start_time": "2024-04-13T18:09:20.285Z"
   },
   {
    "duration": 0,
    "start_time": "2024-04-13T18:09:20.286Z"
   },
   {
    "duration": 0,
    "start_time": "2024-04-13T18:09:20.287Z"
   },
   {
    "duration": 0,
    "start_time": "2024-04-13T18:09:20.287Z"
   },
   {
    "duration": 0,
    "start_time": "2024-04-13T18:09:20.289Z"
   },
   {
    "duration": 0,
    "start_time": "2024-04-13T18:09:20.289Z"
   },
   {
    "duration": 0,
    "start_time": "2024-04-13T18:09:20.291Z"
   },
   {
    "duration": 11,
    "start_time": "2024-04-13T18:11:26.878Z"
   },
   {
    "duration": 2031,
    "start_time": "2024-04-13T18:11:32.115Z"
   },
   {
    "duration": 0,
    "start_time": "2024-04-13T18:11:34.148Z"
   },
   {
    "duration": 0,
    "start_time": "2024-04-13T18:11:34.149Z"
   },
   {
    "duration": 0,
    "start_time": "2024-04-13T18:11:34.149Z"
   },
   {
    "duration": 0,
    "start_time": "2024-04-13T18:11:34.150Z"
   },
   {
    "duration": 0,
    "start_time": "2024-04-13T18:11:34.151Z"
   },
   {
    "duration": 0,
    "start_time": "2024-04-13T18:11:34.152Z"
   },
   {
    "duration": 0,
    "start_time": "2024-04-13T18:11:34.153Z"
   },
   {
    "duration": 0,
    "start_time": "2024-04-13T18:11:34.154Z"
   },
   {
    "duration": 0,
    "start_time": "2024-04-13T18:11:34.155Z"
   },
   {
    "duration": 0,
    "start_time": "2024-04-13T18:11:34.156Z"
   },
   {
    "duration": 0,
    "start_time": "2024-04-13T18:11:34.165Z"
   },
   {
    "duration": 0,
    "start_time": "2024-04-13T18:11:34.166Z"
   },
   {
    "duration": 0,
    "start_time": "2024-04-13T18:11:34.167Z"
   },
   {
    "duration": 1,
    "start_time": "2024-04-13T18:11:34.167Z"
   },
   {
    "duration": 0,
    "start_time": "2024-04-13T18:11:34.168Z"
   },
   {
    "duration": 0,
    "start_time": "2024-04-13T18:11:34.169Z"
   },
   {
    "duration": 0,
    "start_time": "2024-04-13T18:11:34.171Z"
   },
   {
    "duration": 0,
    "start_time": "2024-04-13T18:11:34.172Z"
   },
   {
    "duration": 0,
    "start_time": "2024-04-13T18:11:34.173Z"
   },
   {
    "duration": 0,
    "start_time": "2024-04-13T18:11:34.174Z"
   },
   {
    "duration": 0,
    "start_time": "2024-04-13T18:11:34.174Z"
   },
   {
    "duration": 12,
    "start_time": "2024-04-13T18:11:55.516Z"
   },
   {
    "duration": 9,
    "start_time": "2024-04-13T18:12:23.443Z"
   },
   {
    "duration": 77,
    "start_time": "2024-04-13T18:16:17.214Z"
   },
   {
    "duration": 42,
    "start_time": "2024-04-13T18:17:10.409Z"
   },
   {
    "duration": 11,
    "start_time": "2024-04-13T18:27:31.025Z"
   },
   {
    "duration": 1499,
    "start_time": "2024-04-13T18:27:38.131Z"
   },
   {
    "duration": 66,
    "start_time": "2024-04-13T18:27:39.632Z"
   },
   {
    "duration": 2,
    "start_time": "2024-04-13T18:27:39.700Z"
   },
   {
    "duration": 34,
    "start_time": "2024-04-13T18:27:39.704Z"
   },
   {
    "duration": 13,
    "start_time": "2024-04-13T18:27:39.740Z"
   },
   {
    "duration": 13,
    "start_time": "2024-04-13T18:27:39.755Z"
   },
   {
    "duration": 17,
    "start_time": "2024-04-13T18:27:39.770Z"
   },
   {
    "duration": 8,
    "start_time": "2024-04-13T18:27:39.789Z"
   },
   {
    "duration": 8,
    "start_time": "2024-04-13T18:27:39.798Z"
   },
   {
    "duration": 10,
    "start_time": "2024-04-13T18:27:39.808Z"
   },
   {
    "duration": 70,
    "start_time": "2024-04-13T18:27:39.819Z"
   },
   {
    "duration": 16,
    "start_time": "2024-04-13T18:27:39.890Z"
   },
   {
    "duration": 361,
    "start_time": "2024-04-13T18:27:39.908Z"
   },
   {
    "duration": 346,
    "start_time": "2024-04-13T18:27:40.272Z"
   },
   {
    "duration": 170,
    "start_time": "2024-04-13T18:27:40.620Z"
   },
   {
    "duration": 18,
    "start_time": "2024-04-13T18:27:40.792Z"
   },
   {
    "duration": 273,
    "start_time": "2024-04-13T18:27:40.812Z"
   },
   {
    "duration": 271,
    "start_time": "2024-04-13T18:27:41.087Z"
   },
   {
    "duration": 368,
    "start_time": "2024-04-13T18:27:41.360Z"
   },
   {
    "duration": 806,
    "start_time": "2024-04-13T18:27:41.729Z"
   },
   {
    "duration": 183,
    "start_time": "2024-04-13T18:27:42.536Z"
   },
   {
    "duration": 115,
    "start_time": "2024-04-13T18:27:42.721Z"
   },
   {
    "duration": 17,
    "start_time": "2024-04-13T18:27:58.587Z"
   },
   {
    "duration": 54,
    "start_time": "2024-04-14T10:58:49.758Z"
   },
   {
    "duration": 1701,
    "start_time": "2024-04-14T11:00:26.034Z"
   },
   {
    "duration": 241,
    "start_time": "2024-04-14T11:00:27.737Z"
   },
   {
    "duration": 3,
    "start_time": "2024-04-14T11:00:27.979Z"
   },
   {
    "duration": 26,
    "start_time": "2024-04-14T11:00:27.984Z"
   },
   {
    "duration": 15,
    "start_time": "2024-04-14T11:00:28.013Z"
   },
   {
    "duration": 7,
    "start_time": "2024-04-14T11:00:28.030Z"
   },
   {
    "duration": 47,
    "start_time": "2024-04-14T11:00:28.038Z"
   },
   {
    "duration": 11,
    "start_time": "2024-04-14T11:00:28.087Z"
   },
   {
    "duration": 10,
    "start_time": "2024-04-14T11:00:28.100Z"
   },
   {
    "duration": 10,
    "start_time": "2024-04-14T11:00:28.112Z"
   },
   {
    "duration": 80,
    "start_time": "2024-04-14T11:00:28.124Z"
   },
   {
    "duration": 20,
    "start_time": "2024-04-14T11:00:28.206Z"
   },
   {
    "duration": 431,
    "start_time": "2024-04-14T11:00:28.228Z"
   },
   {
    "duration": 337,
    "start_time": "2024-04-14T11:00:28.663Z"
   },
   {
    "duration": 169,
    "start_time": "2024-04-14T11:00:29.002Z"
   },
   {
    "duration": 22,
    "start_time": "2024-04-14T11:00:29.179Z"
   },
   {
    "duration": 263,
    "start_time": "2024-04-14T11:00:29.202Z"
   },
   {
    "duration": 288,
    "start_time": "2024-04-14T11:00:29.466Z"
   },
   {
    "duration": 378,
    "start_time": "2024-04-14T11:00:29.755Z"
   },
   {
    "duration": 882,
    "start_time": "2024-04-14T11:00:30.135Z"
   },
   {
    "duration": 187,
    "start_time": "2024-04-14T11:00:31.019Z"
   },
   {
    "duration": 122,
    "start_time": "2024-04-14T11:00:31.207Z"
   },
   {
    "duration": 13,
    "start_time": "2024-04-14T11:00:55.999Z"
   },
   {
    "duration": 777,
    "start_time": "2024-04-14T11:10:54.262Z"
   },
   {
    "duration": 872,
    "start_time": "2024-04-14T11:11:06.613Z"
   },
   {
    "duration": 781,
    "start_time": "2024-04-14T11:12:37.199Z"
   },
   {
    "duration": 12,
    "start_time": "2024-04-14T11:20:17.743Z"
   },
   {
    "duration": 18,
    "start_time": "2024-04-14T11:34:44.060Z"
   },
   {
    "duration": 17,
    "start_time": "2024-04-14T11:35:53.409Z"
   },
   {
    "duration": 399,
    "start_time": "2024-04-14T11:37:09.629Z"
   },
   {
    "duration": 471,
    "start_time": "2024-04-14T11:37:23.203Z"
   },
   {
    "duration": 8,
    "start_time": "2024-04-14T11:39:19.827Z"
   },
   {
    "duration": 5,
    "start_time": "2024-04-14T11:43:36.081Z"
   },
   {
    "duration": 79,
    "start_time": "2024-04-14T11:43:37.951Z"
   },
   {
    "duration": 6,
    "start_time": "2024-04-14T11:43:57.136Z"
   },
   {
    "duration": 11045,
    "start_time": "2024-04-14T11:45:31.880Z"
   },
   {
    "duration": 10617,
    "start_time": "2024-04-14T11:45:56.289Z"
   },
   {
    "duration": 1351,
    "start_time": "2024-04-14T11:54:26.108Z"
   },
   {
    "duration": 10276,
    "start_time": "2024-04-14T12:11:26.982Z"
   },
   {
    "duration": 52,
    "start_time": "2024-04-14T18:50:14.462Z"
   },
   {
    "duration": 1928,
    "start_time": "2024-04-14T18:50:46.833Z"
   },
   {
    "duration": 158,
    "start_time": "2024-04-14T18:50:48.763Z"
   },
   {
    "duration": 4,
    "start_time": "2024-04-14T18:50:48.924Z"
   },
   {
    "duration": 39,
    "start_time": "2024-04-14T18:50:48.930Z"
   },
   {
    "duration": 17,
    "start_time": "2024-04-14T18:50:48.972Z"
   },
   {
    "duration": 8,
    "start_time": "2024-04-14T18:50:48.991Z"
   },
   {
    "duration": 18,
    "start_time": "2024-04-14T18:50:49.000Z"
   },
   {
    "duration": 49,
    "start_time": "2024-04-14T18:50:49.021Z"
   },
   {
    "duration": 16,
    "start_time": "2024-04-14T18:50:49.072Z"
   },
   {
    "duration": 13,
    "start_time": "2024-04-14T18:50:49.090Z"
   },
   {
    "duration": 102,
    "start_time": "2024-04-14T18:50:49.105Z"
   },
   {
    "duration": 29,
    "start_time": "2024-04-14T18:50:49.210Z"
   },
   {
    "duration": 465,
    "start_time": "2024-04-14T18:50:49.240Z"
   },
   {
    "duration": 381,
    "start_time": "2024-04-14T18:50:49.707Z"
   },
   {
    "duration": 183,
    "start_time": "2024-04-14T18:50:50.090Z"
   },
   {
    "duration": 21,
    "start_time": "2024-04-14T18:50:50.275Z"
   },
   {
    "duration": 290,
    "start_time": "2024-04-14T18:50:50.298Z"
   },
   {
    "duration": 407,
    "start_time": "2024-04-14T18:50:50.590Z"
   },
   {
    "duration": 406,
    "start_time": "2024-04-14T18:50:50.999Z"
   },
   {
    "duration": 907,
    "start_time": "2024-04-14T18:50:51.407Z"
   },
   {
    "duration": 278,
    "start_time": "2024-04-14T18:50:52.317Z"
   },
   {
    "duration": 6,
    "start_time": "2024-04-14T18:50:52.597Z"
   },
   {
    "duration": 5,
    "start_time": "2024-04-14T18:55:23.483Z"
   },
   {
    "duration": 96,
    "start_time": "2024-04-14T18:55:23.491Z"
   },
   {
    "duration": 3,
    "start_time": "2024-04-14T18:55:23.589Z"
   },
   {
    "duration": 22,
    "start_time": "2024-04-14T18:55:23.594Z"
   },
   {
    "duration": 17,
    "start_time": "2024-04-14T18:55:23.618Z"
   },
   {
    "duration": 28,
    "start_time": "2024-04-14T18:55:23.637Z"
   },
   {
    "duration": 26,
    "start_time": "2024-04-14T18:55:23.667Z"
   },
   {
    "duration": 14,
    "start_time": "2024-04-14T18:55:23.696Z"
   },
   {
    "duration": 15,
    "start_time": "2024-04-14T18:55:23.713Z"
   },
   {
    "duration": 40,
    "start_time": "2024-04-14T18:55:23.730Z"
   },
   {
    "duration": 71,
    "start_time": "2024-04-14T18:55:23.772Z"
   },
   {
    "duration": 45,
    "start_time": "2024-04-14T18:55:23.846Z"
   },
   {
    "duration": 436,
    "start_time": "2024-04-14T18:55:24.188Z"
   },
   {
    "duration": 414,
    "start_time": "2024-04-14T18:55:24.627Z"
   },
   {
    "duration": 106,
    "start_time": "2024-04-14T18:55:25.043Z"
   },
   {
    "duration": 21,
    "start_time": "2024-04-14T18:55:25.162Z"
   },
   {
    "duration": 287,
    "start_time": "2024-04-14T18:55:25.184Z"
   },
   {
    "duration": 353,
    "start_time": "2024-04-14T18:55:25.472Z"
   },
   {
    "duration": 465,
    "start_time": "2024-04-14T18:55:25.827Z"
   },
   {
    "duration": 930,
    "start_time": "2024-04-14T18:55:26.294Z"
   },
   {
    "duration": 201,
    "start_time": "2024-04-14T18:55:27.226Z"
   },
   {
    "duration": 6,
    "start_time": "2024-04-14T18:55:27.431Z"
   },
   {
    "duration": 3,
    "start_time": "2024-04-14T19:00:19.331Z"
   },
   {
    "duration": 73,
    "start_time": "2024-04-14T19:00:19.337Z"
   },
   {
    "duration": 3,
    "start_time": "2024-04-14T19:00:19.412Z"
   },
   {
    "duration": 21,
    "start_time": "2024-04-14T19:00:19.417Z"
   },
   {
    "duration": 20,
    "start_time": "2024-04-14T19:00:19.440Z"
   },
   {
    "duration": 5,
    "start_time": "2024-04-14T19:00:19.462Z"
   },
   {
    "duration": 18,
    "start_time": "2024-04-14T19:00:19.469Z"
   },
   {
    "duration": 10,
    "start_time": "2024-04-14T19:00:19.488Z"
   },
   {
    "duration": 18,
    "start_time": "2024-04-14T19:00:19.499Z"
   },
   {
    "duration": 43,
    "start_time": "2024-04-14T19:00:19.520Z"
   },
   {
    "duration": 57,
    "start_time": "2024-04-14T19:00:19.565Z"
   },
   {
    "duration": 17,
    "start_time": "2024-04-14T19:00:19.624Z"
   },
   {
    "duration": 348,
    "start_time": "2024-04-14T19:00:19.643Z"
   },
   {
    "duration": 412,
    "start_time": "2024-04-14T19:00:19.993Z"
   },
   {
    "duration": 118,
    "start_time": "2024-04-14T19:00:20.407Z"
   },
   {
    "duration": 21,
    "start_time": "2024-04-14T19:00:20.527Z"
   },
   {
    "duration": 298,
    "start_time": "2024-04-14T19:00:20.560Z"
   },
   {
    "duration": 299,
    "start_time": "2024-04-14T19:00:20.860Z"
   },
   {
    "duration": 422,
    "start_time": "2024-04-14T19:00:21.160Z"
   },
   {
    "duration": 903,
    "start_time": "2024-04-14T19:00:21.583Z"
   },
   {
    "duration": 190,
    "start_time": "2024-04-14T19:00:22.488Z"
   },
   {
    "duration": 5,
    "start_time": "2024-04-14T19:00:22.680Z"
   },
   {
    "duration": 10340,
    "start_time": "2024-04-14T19:00:22.687Z"
   },
   {
    "duration": 973,
    "start_time": "2024-04-14T19:00:33.030Z"
   },
   {
    "duration": 426,
    "start_time": "2024-04-14T19:00:34.005Z"
   },
   {
    "duration": 7,
    "start_time": "2024-04-14T19:00:34.433Z"
   },
   {
    "duration": 10793,
    "start_time": "2024-04-14T19:00:34.441Z"
   },
   {
    "duration": 25,
    "start_time": "2024-04-14T19:00:45.241Z"
   },
   {
    "duration": 142,
    "start_time": "2024-04-14T19:00:45.268Z"
   },
   {
    "duration": 9650,
    "start_time": "2024-04-14T19:03:28.650Z"
   },
   {
    "duration": 10,
    "start_time": "2024-04-14T19:14:14.411Z"
   },
   {
    "duration": 12,
    "start_time": "2024-04-14T19:14:46.435Z"
   },
   {
    "duration": 10,
    "start_time": "2024-04-14T19:14:55.219Z"
   },
   {
    "duration": 77,
    "start_time": "2024-04-14T19:15:03.963Z"
   },
   {
    "duration": 11,
    "start_time": "2024-04-14T19:15:08.017Z"
   },
   {
    "duration": 36,
    "start_time": "2024-04-14T19:22:10.146Z"
   },
   {
    "duration": 6,
    "start_time": "2024-04-14T19:22:30.826Z"
   },
   {
    "duration": 13,
    "start_time": "2024-04-14T19:26:18.861Z"
   },
   {
    "duration": 47,
    "start_time": "2024-04-14T19:26:29.669Z"
   },
   {
    "duration": 10,
    "start_time": "2024-04-14T19:36:22.583Z"
   },
   {
    "duration": 323,
    "start_time": "2024-04-14T19:37:34.198Z"
   },
   {
    "duration": 276,
    "start_time": "2024-04-14T19:56:27.687Z"
   },
   {
    "duration": 279,
    "start_time": "2024-04-14T19:57:25.855Z"
   },
   {
    "duration": 13,
    "start_time": "2024-04-14T19:57:49.300Z"
   },
   {
    "duration": 95,
    "start_time": "2024-04-14T20:32:28.832Z"
   },
   {
    "duration": 18,
    "start_time": "2024-04-14T20:42:04.902Z"
   },
   {
    "duration": 18,
    "start_time": "2024-04-14T20:43:59.783Z"
   },
   {
    "duration": 29,
    "start_time": "2024-04-14T20:44:06.538Z"
   },
   {
    "duration": 19,
    "start_time": "2024-04-14T20:44:18.870Z"
   },
   {
    "duration": 522,
    "start_time": "2024-04-14T21:01:26.868Z"
   },
   {
    "duration": 17,
    "start_time": "2024-04-14T21:03:26.793Z"
   },
   {
    "duration": 19,
    "start_time": "2024-04-14T21:03:39.587Z"
   },
   {
    "duration": 21,
    "start_time": "2024-04-14T21:36:26.762Z"
   },
   {
    "duration": 19,
    "start_time": "2024-04-14T21:36:35.535Z"
   },
   {
    "duration": 23,
    "start_time": "2024-04-14T21:37:53.788Z"
   },
   {
    "duration": 762,
    "start_time": "2024-04-14T21:38:05.685Z"
   },
   {
    "duration": 14,
    "start_time": "2024-04-14T21:39:09.378Z"
   },
   {
    "duration": 13,
    "start_time": "2024-04-14T21:39:18.698Z"
   },
   {
    "duration": 12,
    "start_time": "2024-04-14T21:39:48.430Z"
   },
   {
    "duration": 51,
    "start_time": "2024-04-14T22:07:03.571Z"
   },
   {
    "duration": 84,
    "start_time": "2024-04-14T22:08:26.010Z"
   },
   {
    "duration": 267,
    "start_time": "2024-04-14T22:43:58.285Z"
   },
   {
    "duration": 256,
    "start_time": "2024-04-14T22:44:33.307Z"
   },
   {
    "duration": 257,
    "start_time": "2024-04-14T22:44:53.915Z"
   },
   {
    "duration": 302,
    "start_time": "2024-04-14T22:46:14.642Z"
   },
   {
    "duration": 314,
    "start_time": "2024-04-14T22:51:04.625Z"
   },
   {
    "duration": 281,
    "start_time": "2024-04-14T22:51:16.449Z"
   },
   {
    "duration": 326,
    "start_time": "2024-04-14T22:51:50.456Z"
   },
   {
    "duration": 306,
    "start_time": "2024-04-14T22:51:57.864Z"
   },
   {
    "duration": 305,
    "start_time": "2024-04-14T22:52:05.472Z"
   },
   {
    "duration": 1348,
    "start_time": "2024-04-14T23:21:43.994Z"
   },
   {
    "duration": 60,
    "start_time": "2024-04-14T23:21:45.343Z"
   },
   {
    "duration": 3,
    "start_time": "2024-04-14T23:21:45.405Z"
   },
   {
    "duration": 57,
    "start_time": "2024-04-14T23:21:45.410Z"
   },
   {
    "duration": 19,
    "start_time": "2024-04-14T23:21:45.469Z"
   },
   {
    "duration": 5,
    "start_time": "2024-04-14T23:21:45.490Z"
   },
   {
    "duration": 17,
    "start_time": "2024-04-14T23:21:45.496Z"
   },
   {
    "duration": 23,
    "start_time": "2024-04-14T23:21:45.515Z"
   },
   {
    "duration": 18,
    "start_time": "2024-04-14T23:21:45.539Z"
   },
   {
    "duration": 15,
    "start_time": "2024-04-14T23:21:45.559Z"
   },
   {
    "duration": 36,
    "start_time": "2024-04-14T23:21:45.575Z"
   },
   {
    "duration": 13,
    "start_time": "2024-04-14T23:21:45.613Z"
   },
   {
    "duration": 348,
    "start_time": "2024-04-14T23:21:45.628Z"
   },
   {
    "duration": 547,
    "start_time": "2024-04-14T23:21:45.978Z"
   },
   {
    "duration": 0,
    "start_time": "2024-04-14T23:21:46.527Z"
   },
   {
    "duration": 0,
    "start_time": "2024-04-14T23:21:46.528Z"
   },
   {
    "duration": 0,
    "start_time": "2024-04-14T23:21:46.529Z"
   },
   {
    "duration": 0,
    "start_time": "2024-04-14T23:21:46.530Z"
   },
   {
    "duration": 0,
    "start_time": "2024-04-14T23:21:46.532Z"
   },
   {
    "duration": 0,
    "start_time": "2024-04-14T23:21:46.533Z"
   },
   {
    "duration": 0,
    "start_time": "2024-04-14T23:21:46.534Z"
   },
   {
    "duration": 0,
    "start_time": "2024-04-14T23:21:46.535Z"
   },
   {
    "duration": 0,
    "start_time": "2024-04-14T23:21:46.536Z"
   },
   {
    "duration": 0,
    "start_time": "2024-04-14T23:21:46.537Z"
   },
   {
    "duration": 0,
    "start_time": "2024-04-14T23:21:46.538Z"
   },
   {
    "duration": 0,
    "start_time": "2024-04-14T23:21:46.539Z"
   },
   {
    "duration": 0,
    "start_time": "2024-04-14T23:21:46.540Z"
   },
   {
    "duration": 0,
    "start_time": "2024-04-14T23:21:46.542Z"
   },
   {
    "duration": 0,
    "start_time": "2024-04-14T23:21:46.543Z"
   },
   {
    "duration": 0,
    "start_time": "2024-04-14T23:21:46.544Z"
   },
   {
    "duration": 0,
    "start_time": "2024-04-14T23:21:46.545Z"
   },
   {
    "duration": 0,
    "start_time": "2024-04-14T23:21:46.546Z"
   },
   {
    "duration": 0,
    "start_time": "2024-04-14T23:21:46.547Z"
   },
   {
    "duration": 1299,
    "start_time": "2024-04-14T23:21:59.283Z"
   },
   {
    "duration": 63,
    "start_time": "2024-04-14T23:22:00.583Z"
   },
   {
    "duration": 38,
    "start_time": "2024-04-14T23:22:00.647Z"
   },
   {
    "duration": 124,
    "start_time": "2024-04-14T23:22:00.687Z"
   },
   {
    "duration": 62,
    "start_time": "2024-04-14T23:22:00.812Z"
   },
   {
    "duration": 32,
    "start_time": "2024-04-14T23:22:00.875Z"
   },
   {
    "duration": 76,
    "start_time": "2024-04-14T23:22:00.908Z"
   },
   {
    "duration": 102,
    "start_time": "2024-04-14T23:22:00.986Z"
   },
   {
    "duration": 33,
    "start_time": "2024-04-14T23:22:01.090Z"
   },
   {
    "duration": 69,
    "start_time": "2024-04-14T23:22:01.125Z"
   },
   {
    "duration": 102,
    "start_time": "2024-04-14T23:22:01.196Z"
   },
   {
    "duration": 195,
    "start_time": "2024-04-14T23:22:01.299Z"
   },
   {
    "duration": 353,
    "start_time": "2024-04-14T23:22:01.495Z"
   },
   {
    "duration": 342,
    "start_time": "2024-04-14T23:22:01.849Z"
   },
   {
    "duration": 129,
    "start_time": "2024-04-14T23:22:02.192Z"
   },
   {
    "duration": 15,
    "start_time": "2024-04-14T23:22:02.323Z"
   },
   {
    "duration": 220,
    "start_time": "2024-04-14T23:22:02.339Z"
   },
   {
    "duration": 230,
    "start_time": "2024-04-14T23:22:02.560Z"
   },
   {
    "duration": 337,
    "start_time": "2024-04-14T23:22:02.791Z"
   },
   {
    "duration": 685,
    "start_time": "2024-04-14T23:22:03.129Z"
   },
   {
    "duration": 147,
    "start_time": "2024-04-14T23:22:03.815Z"
   },
   {
    "duration": 4,
    "start_time": "2024-04-14T23:22:03.963Z"
   },
   {
    "duration": 7775,
    "start_time": "2024-04-14T23:22:03.968Z"
   },
   {
    "duration": 848,
    "start_time": "2024-04-14T23:22:11.744Z"
   },
   {
    "duration": 344,
    "start_time": "2024-04-14T23:22:12.593Z"
   },
   {
    "duration": 6,
    "start_time": "2024-04-14T23:22:12.938Z"
   },
   {
    "duration": 7868,
    "start_time": "2024-04-14T23:22:12.945Z"
   },
   {
    "duration": 10,
    "start_time": "2024-04-14T23:22:20.816Z"
   },
   {
    "duration": 7728,
    "start_time": "2024-04-14T23:22:20.827Z"
   },
   {
    "duration": 372,
    "start_time": "2024-04-14T23:22:28.557Z"
   },
   {
    "duration": 7,
    "start_time": "2024-04-14T23:22:28.930Z"
   },
   {
    "duration": 268,
    "start_time": "2024-04-14T23:22:28.939Z"
   },
   {
    "duration": 51,
    "start_time": "2024-04-15T12:21:12.675Z"
   },
   {
    "duration": 1751,
    "start_time": "2024-04-15T12:21:21.303Z"
   },
   {
    "duration": 131,
    "start_time": "2024-04-15T12:21:23.056Z"
   },
   {
    "duration": 3,
    "start_time": "2024-04-15T12:21:23.189Z"
   },
   {
    "duration": 29,
    "start_time": "2024-04-15T12:21:23.193Z"
   },
   {
    "duration": 15,
    "start_time": "2024-04-15T12:21:23.224Z"
   },
   {
    "duration": 7,
    "start_time": "2024-04-15T12:21:23.241Z"
   },
   {
    "duration": 33,
    "start_time": "2024-04-15T12:21:23.250Z"
   },
   {
    "duration": 10,
    "start_time": "2024-04-15T12:21:23.284Z"
   },
   {
    "duration": 9,
    "start_time": "2024-04-15T12:21:23.295Z"
   },
   {
    "duration": 10,
    "start_time": "2024-04-15T12:21:23.307Z"
   },
   {
    "duration": 77,
    "start_time": "2024-04-15T12:21:23.318Z"
   },
   {
    "duration": 44,
    "start_time": "2024-04-15T12:21:23.396Z"
   },
   {
    "duration": 387,
    "start_time": "2024-04-15T12:21:23.441Z"
   },
   {
    "duration": 443,
    "start_time": "2024-04-15T12:21:23.830Z"
   },
   {
    "duration": 101,
    "start_time": "2024-04-15T12:21:24.275Z"
   },
   {
    "duration": 21,
    "start_time": "2024-04-15T12:21:24.378Z"
   },
   {
    "duration": 287,
    "start_time": "2024-04-15T12:21:24.400Z"
   },
   {
    "duration": 350,
    "start_time": "2024-04-15T12:21:24.689Z"
   },
   {
    "duration": 413,
    "start_time": "2024-04-15T12:21:25.041Z"
   },
   {
    "duration": 882,
    "start_time": "2024-04-15T12:21:25.456Z"
   },
   {
    "duration": 206,
    "start_time": "2024-04-15T12:21:26.340Z"
   },
   {
    "duration": 4,
    "start_time": "2024-04-15T12:21:26.548Z"
   },
   {
    "duration": 10401,
    "start_time": "2024-04-15T12:21:26.560Z"
   },
   {
    "duration": 964,
    "start_time": "2024-04-15T12:21:36.963Z"
   },
   {
    "duration": 454,
    "start_time": "2024-04-15T12:21:37.929Z"
   },
   {
    "duration": 9,
    "start_time": "2024-04-15T12:21:38.386Z"
   },
   {
    "duration": 10392,
    "start_time": "2024-04-15T12:21:38.397Z"
   },
   {
    "duration": 11,
    "start_time": "2024-04-15T12:21:48.793Z"
   },
   {
    "duration": 10098,
    "start_time": "2024-04-15T12:21:48.805Z"
   },
   {
    "duration": 472,
    "start_time": "2024-04-15T12:21:58.905Z"
   },
   {
    "duration": 13,
    "start_time": "2024-04-15T12:21:59.379Z"
   },
   {
    "duration": 355,
    "start_time": "2024-04-15T12:21:59.394Z"
   },
   {
    "duration": 261,
    "start_time": "2024-04-15T12:22:51.048Z"
   },
   {
    "duration": 587,
    "start_time": "2024-04-15T12:23:59.418Z"
   },
   {
    "duration": 272,
    "start_time": "2024-04-15T12:24:10.354Z"
   },
   {
    "duration": 261,
    "start_time": "2024-04-15T12:24:23.834Z"
   },
   {
    "duration": 263,
    "start_time": "2024-04-15T12:24:34.253Z"
   },
   {
    "duration": 283,
    "start_time": "2024-04-15T12:25:03.496Z"
   },
   {
    "duration": 285,
    "start_time": "2024-04-15T12:25:11.399Z"
   },
   {
    "duration": 251,
    "start_time": "2024-04-15T12:25:19.512Z"
   },
   {
    "duration": 261,
    "start_time": "2024-04-15T12:25:24.015Z"
   },
   {
    "duration": 837,
    "start_time": "2024-04-15T12:26:55.771Z"
   },
   {
    "duration": 845,
    "start_time": "2024-04-15T12:29:49.543Z"
   },
   {
    "duration": 678,
    "start_time": "2024-04-15T12:31:36.167Z"
   },
   {
    "duration": 686,
    "start_time": "2024-04-15T12:31:52.118Z"
   },
   {
    "duration": 668,
    "start_time": "2024-04-15T12:32:14.038Z"
   },
   {
    "duration": 701,
    "start_time": "2024-04-15T12:32:46.328Z"
   },
   {
    "duration": 642,
    "start_time": "2024-04-15T12:33:10.689Z"
   },
   {
    "duration": 492,
    "start_time": "2024-04-15T12:33:24.074Z"
   },
   {
    "duration": 523,
    "start_time": "2024-04-15T12:33:30.243Z"
   },
   {
    "duration": 654,
    "start_time": "2024-04-15T12:34:23.415Z"
   },
   {
    "duration": 700,
    "start_time": "2024-04-15T12:34:34.317Z"
   },
   {
    "duration": 658,
    "start_time": "2024-04-15T12:34:40.841Z"
   },
   {
    "duration": 650,
    "start_time": "2024-04-15T12:35:50.261Z"
   },
   {
    "duration": 660,
    "start_time": "2024-04-15T12:35:57.178Z"
   },
   {
    "duration": 667,
    "start_time": "2024-04-15T12:36:04.538Z"
   },
   {
    "duration": 477,
    "start_time": "2024-04-15T12:36:26.316Z"
   },
   {
    "duration": 532,
    "start_time": "2024-04-15T12:36:51.523Z"
   },
   {
    "duration": 502,
    "start_time": "2024-04-15T12:37:43.317Z"
   },
   {
    "duration": 501,
    "start_time": "2024-04-15T12:37:49.789Z"
   },
   {
    "duration": 519,
    "start_time": "2024-04-15T12:37:57.123Z"
   },
   {
    "duration": 527,
    "start_time": "2024-04-15T12:38:03.365Z"
   },
   {
    "duration": 500,
    "start_time": "2024-04-15T12:38:20.627Z"
   },
   {
    "duration": 1085,
    "start_time": "2024-04-15T12:38:27.630Z"
   },
   {
    "duration": 512,
    "start_time": "2024-04-15T12:38:34.323Z"
   },
   {
    "duration": 680,
    "start_time": "2024-04-15T12:39:45.774Z"
   },
   {
    "duration": 630,
    "start_time": "2024-04-15T12:40:04.799Z"
   },
   {
    "duration": 607,
    "start_time": "2024-04-15T12:40:14.967Z"
   },
   {
    "duration": 570,
    "start_time": "2024-04-15T12:40:34.273Z"
   },
   {
    "duration": 574,
    "start_time": "2024-04-15T12:40:38.912Z"
   },
   {
    "duration": 619,
    "start_time": "2024-04-15T12:40:45.038Z"
   },
   {
    "duration": 744,
    "start_time": "2024-04-15T12:41:49.959Z"
   },
   {
    "duration": 17,
    "start_time": "2024-04-15T12:57:44.703Z"
   },
   {
    "duration": 15,
    "start_time": "2024-04-15T12:58:31.536Z"
   },
   {
    "duration": 11,
    "start_time": "2024-04-15T12:58:58.683Z"
   },
   {
    "duration": 8,
    "start_time": "2024-04-15T13:01:49.615Z"
   },
   {
    "duration": 7,
    "start_time": "2024-04-15T13:02:51.164Z"
   },
   {
    "duration": 8,
    "start_time": "2024-04-15T13:04:18.776Z"
   },
   {
    "duration": 11,
    "start_time": "2024-04-15T13:04:32.415Z"
   },
   {
    "duration": 9,
    "start_time": "2024-04-15T13:08:11.180Z"
   },
   {
    "duration": 9,
    "start_time": "2024-04-15T13:12:24.149Z"
   },
   {
    "duration": 1570,
    "start_time": "2024-04-15T13:12:33.096Z"
   },
   {
    "duration": 73,
    "start_time": "2024-04-15T13:12:34.667Z"
   },
   {
    "duration": 3,
    "start_time": "2024-04-15T13:12:34.742Z"
   },
   {
    "duration": 27,
    "start_time": "2024-04-15T13:12:34.747Z"
   },
   {
    "duration": 14,
    "start_time": "2024-04-15T13:12:34.776Z"
   },
   {
    "duration": 6,
    "start_time": "2024-04-15T13:12:34.792Z"
   },
   {
    "duration": 29,
    "start_time": "2024-04-15T13:12:34.799Z"
   },
   {
    "duration": 8,
    "start_time": "2024-04-15T13:12:34.830Z"
   },
   {
    "duration": 28,
    "start_time": "2024-04-15T13:12:34.840Z"
   },
   {
    "duration": 9,
    "start_time": "2024-04-15T13:12:34.870Z"
   },
   {
    "duration": 44,
    "start_time": "2024-04-15T13:12:34.881Z"
   },
   {
    "duration": 36,
    "start_time": "2024-04-15T13:12:34.927Z"
   },
   {
    "duration": 18,
    "start_time": "2024-04-15T13:12:34.964Z"
   },
   {
    "duration": 397,
    "start_time": "2024-04-15T13:12:34.984Z"
   },
   {
    "duration": 399,
    "start_time": "2024-04-15T13:12:35.383Z"
   },
   {
    "duration": 178,
    "start_time": "2024-04-15T13:12:35.784Z"
   },
   {
    "duration": 20,
    "start_time": "2024-04-15T13:12:35.964Z"
   },
   {
    "duration": 279,
    "start_time": "2024-04-15T13:12:35.986Z"
   },
   {
    "duration": 289,
    "start_time": "2024-04-15T13:12:36.267Z"
   },
   {
    "duration": 422,
    "start_time": "2024-04-15T13:12:36.558Z"
   },
   {
    "duration": 681,
    "start_time": "2024-04-15T13:12:36.981Z"
   },
   {
    "duration": 181,
    "start_time": "2024-04-15T13:12:37.664Z"
   },
   {
    "duration": 13,
    "start_time": "2024-04-15T13:12:37.847Z"
   },
   {
    "duration": 10043,
    "start_time": "2024-04-15T13:12:37.862Z"
   },
   {
    "duration": 928,
    "start_time": "2024-04-15T13:12:47.908Z"
   },
   {
    "duration": 444,
    "start_time": "2024-04-15T13:12:48.838Z"
   },
   {
    "duration": 7,
    "start_time": "2024-04-15T13:12:49.284Z"
   },
   {
    "duration": 10554,
    "start_time": "2024-04-15T13:12:49.294Z"
   },
   {
    "duration": 20,
    "start_time": "2024-04-15T13:12:59.850Z"
   },
   {
    "duration": 10261,
    "start_time": "2024-04-15T13:12:59.872Z"
   },
   {
    "duration": 492,
    "start_time": "2024-04-15T13:13:10.135Z"
   },
   {
    "duration": 10,
    "start_time": "2024-04-15T13:13:10.629Z"
   },
   {
    "duration": 343,
    "start_time": "2024-04-15T13:13:10.641Z"
   },
   {
    "duration": 10,
    "start_time": "2024-04-15T13:16:16.088Z"
   },
   {
    "duration": 15,
    "start_time": "2024-04-15T13:17:16.861Z"
   },
   {
    "duration": 27,
    "start_time": "2024-04-15T13:17:25.916Z"
   },
   {
    "duration": 125,
    "start_time": "2024-04-15T13:17:40.915Z"
   },
   {
    "duration": 23,
    "start_time": "2024-04-15T13:17:49.568Z"
   },
   {
    "duration": 30,
    "start_time": "2024-04-15T13:17:55.688Z"
   },
   {
    "duration": 27,
    "start_time": "2024-04-15T13:17:58.576Z"
   },
   {
    "duration": 11,
    "start_time": "2024-04-15T13:23:02.697Z"
   },
   {
    "duration": 50,
    "start_time": "2024-04-15T13:26:45.333Z"
   },
   {
    "duration": 12,
    "start_time": "2024-04-15T13:27:33.590Z"
   },
   {
    "duration": 1676,
    "start_time": "2024-04-15T14:09:39.248Z"
   },
   {
    "duration": 74,
    "start_time": "2024-04-15T14:09:40.926Z"
   },
   {
    "duration": 3,
    "start_time": "2024-04-15T14:09:41.002Z"
   },
   {
    "duration": 53,
    "start_time": "2024-04-15T14:09:41.007Z"
   },
   {
    "duration": 21,
    "start_time": "2024-04-15T14:09:41.061Z"
   },
   {
    "duration": 6,
    "start_time": "2024-04-15T14:09:41.084Z"
   },
   {
    "duration": 20,
    "start_time": "2024-04-15T14:09:41.091Z"
   },
   {
    "duration": 18,
    "start_time": "2024-04-15T14:09:41.113Z"
   },
   {
    "duration": 9,
    "start_time": "2024-04-15T14:09:41.133Z"
   },
   {
    "duration": 10,
    "start_time": "2024-04-15T14:09:41.145Z"
   },
   {
    "duration": 74,
    "start_time": "2024-04-15T14:09:41.156Z"
   },
   {
    "duration": 18,
    "start_time": "2024-04-15T14:09:41.232Z"
   },
   {
    "duration": 14,
    "start_time": "2024-04-15T14:09:41.252Z"
   },
   {
    "duration": 21,
    "start_time": "2024-04-15T14:09:41.268Z"
   },
   {
    "duration": 377,
    "start_time": "2024-04-15T14:09:41.291Z"
   },
   {
    "duration": 381,
    "start_time": "2024-04-15T14:09:41.670Z"
   },
   {
    "duration": 188,
    "start_time": "2024-04-15T14:09:42.053Z"
   },
   {
    "duration": 21,
    "start_time": "2024-04-15T14:09:42.243Z"
   },
   {
    "duration": 305,
    "start_time": "2024-04-15T14:09:42.266Z"
   },
   {
    "duration": 292,
    "start_time": "2024-04-15T14:09:42.573Z"
   },
   {
    "duration": 423,
    "start_time": "2024-04-15T14:09:42.868Z"
   },
   {
    "duration": 659,
    "start_time": "2024-04-15T14:09:43.293Z"
   },
   {
    "duration": 206,
    "start_time": "2024-04-15T14:09:43.955Z"
   },
   {
    "duration": 5,
    "start_time": "2024-04-15T14:09:44.163Z"
   },
   {
    "duration": 10367,
    "start_time": "2024-04-15T14:09:44.169Z"
   },
   {
    "duration": 993,
    "start_time": "2024-04-15T14:09:54.538Z"
   },
   {
    "duration": 454,
    "start_time": "2024-04-15T14:09:55.533Z"
   },
   {
    "duration": 7,
    "start_time": "2024-04-15T14:09:55.990Z"
   },
   {
    "duration": 10666,
    "start_time": "2024-04-15T14:09:55.999Z"
   },
   {
    "duration": 12,
    "start_time": "2024-04-15T14:10:06.666Z"
   },
   {
    "duration": 10190,
    "start_time": "2024-04-15T14:10:06.679Z"
   },
   {
    "duration": 444,
    "start_time": "2024-04-15T14:10:16.871Z"
   },
   {
    "duration": 19,
    "start_time": "2024-04-15T14:10:17.317Z"
   },
   {
    "duration": 367,
    "start_time": "2024-04-15T14:10:17.337Z"
   }
  ],
  "kernelspec": {
   "display_name": "Python [conda env:base] *",
   "language": "python",
   "name": "conda-base-py"
  },
  "language_info": {
   "codemirror_mode": {
    "name": "ipython",
    "version": 3
   },
   "file_extension": ".py",
   "mimetype": "text/x-python",
   "name": "python",
   "nbconvert_exporter": "python",
   "pygments_lexer": "ipython3",
   "version": "3.12.7"
  },
  "toc": {
   "base_numbering": 1,
   "nav_menu": {},
   "number_sections": true,
   "sideBar": true,
   "skip_h1_title": true,
   "title_cell": "Table of Contents",
   "title_sidebar": "Contents",
   "toc_cell": false,
   "toc_position": {},
   "toc_section_display": true,
   "toc_window_display": true
  }
 },
 "nbformat": 4,
 "nbformat_minor": 4
}
