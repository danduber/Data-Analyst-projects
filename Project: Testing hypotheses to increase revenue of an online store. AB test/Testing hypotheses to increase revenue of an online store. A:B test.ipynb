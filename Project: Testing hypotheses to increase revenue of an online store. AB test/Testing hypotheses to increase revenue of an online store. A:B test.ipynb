{
 "cells": [
  {
   "cell_type": "markdown",
   "metadata": {},
   "source": [
    "# **Проект: Проверка гипотез для увеличения выручки интернет-магазина. A/B-тест**"
   ]
  },
  {
   "cell_type": "markdown",
   "metadata": {},
   "source": [
    "## Описание проекта. Задачи."
   ]
  },
  {
   "cell_type": "markdown",
   "metadata": {},
   "source": [
    "Вы — аналитик крупного интернет-магазина. Вместе с отделом маркетинга вы подготовили список гипотез для увеличения выручки.\n",
    "Приоритизируйте гипотезы, запустите A/B-тест и проанализируйте результаты."
   ]
  },
  {
   "cell_type": "markdown",
   "metadata": {},
   "source": [
    "**Задачи:**\n",
    "\n",
    "**1. Приоритизация гипотез.**\n",
    "\n",
    "1.1. Примените фреймворк ICE для приоритизации гипотез. Отсортируйте их по убыванию приоритета.\n",
    "    \n",
    "1.2. Примените фреймворк RICE для приоритизации гипотез. Отсортируйте их по убыванию приоритета.\n",
    "    \n",
    "1.3. Укажите, как изменилась приоритизация гипотез при применении RICE вместо ICE. Объясните, почему так произошло.\n",
    "\n",
    "**2. Анализ A/B-теста.**\n",
    "\n",
    "2.1. Постройте график кумулятивной выручки по группам. Сделайте выводы и предположения.\n",
    "\n",
    "2.2. Постройте график кумулятивного среднего чека по группам. Сделайте выводы и предположения.\n",
    "\n",
    "2.3. Постройте график относительного изменения кумулятивного среднего чека группы B к группе A. Сделайте выводы и предположения.\n",
    "\n",
    "2.4. Постройте график кумулятивного среднего количества заказов на посетителя по группам. Сделайте выводы и предположения.\n",
    "\n",
    "2.5. Постройте график относительного изменения кумулятивного среднего количества заказов на посетителя группы B к группе A. Сделайте выводы и предположения.\n",
    "\n",
    "2.6. Постройте точечный график количества заказов по пользователям. Сделайте выводы и предположения.\n",
    "\n",
    "2.7. Посчитайте 95-й и 99-й перцентили количества заказов на пользователя. Выберите границу для определения аномальных пользователей.\n",
    "\n",
    "2.8. Постройте точечный график стоимостей заказов. Сделайте выводы и предположения.\n",
    "\n",
    "2.9. Посчитайте 95-й и 99-й перцентили стоимости заказов. Выберите границу для определения аномальных заказов.\n",
    "\n",
    "2.10.Посчитайте статистическую значимость различий в среднем количестве заказов на посетителя между группами по «сырым» данным. Сделайте выводы и предположения.\n",
    "\n",
    "2.11. Посчитайте статистическую значимость различий в среднем чеке заказа между группами по «сырым» данным. Сделайте выводы и предположения.\n",
    "\n",
    "2.12. Посчитайте статистическую значимость различий в среднем количестве заказов на посетителя между группами по «очищенным» данным. Сделайте выводы и предположения.\n",
    "\n",
    "2.13. Посчитайте статистическую значимость различий в среднем чеке заказа между группами по «очищенным» данным. Сделайте выводы и предположения.\n",
    "\n",
    "2.14.Примите решение по результатам теста и объясните его. Варианты решений:\n",
    "- Остановить тест, зафиксировать победу одной из групп.\n",
    "- Остановить тест, зафиксировать отсутствие различий между группами.\n",
    "- Продолжить тест."
   ]
  },
  {
   "cell_type": "markdown",
   "metadata": {},
   "source": [
    "## Описание данных"
   ]
  },
  {
   "cell_type": "markdown",
   "metadata": {},
   "source": [
    "**Данные для первой части**\n",
    "\n",
    "*Файл /datasets/hypothesis.csv.*\n",
    "\n",
    "**Hypothesis** — краткое описание гипотезы;\n",
    "\n",
    "**Reach** — охват пользователей по 10-балльной шкале;\n",
    "\n",
    "**Impact** — влияние на пользователей по 10-балльной шкале;\n",
    "\n",
    "**Confidence** — уверенность в гипотезе по 10-балльной шкале;\n",
    "\n",
    "**Efforts** — затраты ресурсов на проверку гипотезы по 10-балльной шкале. Чем больше значение Efforts, тем дороже проверка гипотезы."
   ]
  },
  {
   "cell_type": "markdown",
   "metadata": {},
   "source": [
    "**Данные для второй части**\n",
    "\n",
    "*Файл /datasets/orders.csv.*\n",
    "\n",
    "**transactionId** — идентификатор заказа;\n",
    "\n",
    "**visitorId** — идентификатор пользователя, совершившего заказ;\n",
    "\n",
    "**date** — дата, когда был совершён заказ;\n",
    "\n",
    "**revenue** — выручка заказа;\n",
    "\n",
    "**group** — группа A/B-теста, в которую попал заказ.\n",
    "\n",
    "*Файл /datasets/visitors.csv.*\n",
    "\n",
    "**date** — дата;\n",
    "\n",
    "**group** — группа A/B-теста;\n",
    "\n",
    "**visitors** — количество пользователей в указанную дату в указанной группе A/B-теста"
   ]
  },
  {
   "cell_type": "markdown",
   "metadata": {},
   "source": [
    "## Подготовка к анализу (загрузка, предобработка данных)"
   ]
  },
  {
   "cell_type": "markdown",
   "metadata": {},
   "source": [
    "Загрузим необходимые библиотеки"
   ]
  },
  {
   "cell_type": "code",
   "execution_count": 1,
   "metadata": {},
   "outputs": [],
   "source": [
    "import pandas as pd\n",
    "import matplotlib.pyplot as plt\n",
    "import seaborn as sns\n",
    "import math\n",
    "import numpy as np\n",
    "import scipy.stats as stats\n",
    "from scipy import stats as st\n",
    "from pandas.plotting import register_matplotlib_converters"
   ]
  },
  {
   "cell_type": "code",
   "execution_count": 2,
   "metadata": {},
   "outputs": [
    {
     "data": {
      "text/html": [
       "<div>\n",
       "<style scoped>\n",
       "    .dataframe tbody tr th:only-of-type {\n",
       "        vertical-align: middle;\n",
       "    }\n",
       "\n",
       "    .dataframe tbody tr th {\n",
       "        vertical-align: top;\n",
       "    }\n",
       "\n",
       "    .dataframe thead th {\n",
       "        text-align: right;\n",
       "    }\n",
       "</style>\n",
       "<table border=\"1\" class=\"dataframe\">\n",
       "  <thead>\n",
       "    <tr style=\"text-align: right;\">\n",
       "      <th></th>\n",
       "      <th>Hypothesis</th>\n",
       "      <th>Reach</th>\n",
       "      <th>Impact</th>\n",
       "      <th>Confidence</th>\n",
       "      <th>Efforts</th>\n",
       "    </tr>\n",
       "  </thead>\n",
       "  <tbody>\n",
       "    <tr>\n",
       "      <th>0</th>\n",
       "      <td>Добавить два новых канала привлечения трафика, что позволит привлекать на 30% больше пользователей</td>\n",
       "      <td>3</td>\n",
       "      <td>10</td>\n",
       "      <td>8</td>\n",
       "      <td>6</td>\n",
       "    </tr>\n",
       "    <tr>\n",
       "      <th>1</th>\n",
       "      <td>Запустить собственную службу доставки, что сократит срок доставки заказов</td>\n",
       "      <td>2</td>\n",
       "      <td>5</td>\n",
       "      <td>4</td>\n",
       "      <td>10</td>\n",
       "    </tr>\n",
       "    <tr>\n",
       "      <th>2</th>\n",
       "      <td>Добавить блоки рекомендаций товаров на сайт интернет магазина, чтобы повысить конверсию и средний чек заказа</td>\n",
       "      <td>8</td>\n",
       "      <td>3</td>\n",
       "      <td>7</td>\n",
       "      <td>3</td>\n",
       "    </tr>\n",
       "    <tr>\n",
       "      <th>3</th>\n",
       "      <td>Изменить структура категорий, что увеличит конверсию, т.к. пользователи быстрее найдут нужный товар</td>\n",
       "      <td>8</td>\n",
       "      <td>3</td>\n",
       "      <td>3</td>\n",
       "      <td>8</td>\n",
       "    </tr>\n",
       "    <tr>\n",
       "      <th>4</th>\n",
       "      <td>Изменить цвет фона главной страницы, чтобы увеличить вовлеченность пользователей</td>\n",
       "      <td>3</td>\n",
       "      <td>1</td>\n",
       "      <td>1</td>\n",
       "      <td>1</td>\n",
       "    </tr>\n",
       "    <tr>\n",
       "      <th>5</th>\n",
       "      <td>Добавить страницу отзывов клиентов о магазине, что позволит увеличить количество заказов</td>\n",
       "      <td>3</td>\n",
       "      <td>2</td>\n",
       "      <td>2</td>\n",
       "      <td>3</td>\n",
       "    </tr>\n",
       "    <tr>\n",
       "      <th>6</th>\n",
       "      <td>Показать на главной странице баннеры с актуальными акциями и распродажами, чтобы увеличить конверсию</td>\n",
       "      <td>5</td>\n",
       "      <td>3</td>\n",
       "      <td>8</td>\n",
       "      <td>3</td>\n",
       "    </tr>\n",
       "    <tr>\n",
       "      <th>7</th>\n",
       "      <td>Добавить форму подписки на все основные страницы, чтобы собрать базу клиентов для email-рассылок</td>\n",
       "      <td>10</td>\n",
       "      <td>7</td>\n",
       "      <td>8</td>\n",
       "      <td>5</td>\n",
       "    </tr>\n",
       "    <tr>\n",
       "      <th>8</th>\n",
       "      <td>Запустить акцию, дающую скидку на товар в день рождения</td>\n",
       "      <td>1</td>\n",
       "      <td>9</td>\n",
       "      <td>9</td>\n",
       "      <td>5</td>\n",
       "    </tr>\n",
       "  </tbody>\n",
       "</table>\n",
       "</div>"
      ],
      "text/plain": [
       "                                                                                                     Hypothesis  \\\n",
       "0            Добавить два новых канала привлечения трафика, что позволит привлекать на 30% больше пользователей   \n",
       "1                                     Запустить собственную службу доставки, что сократит срок доставки заказов   \n",
       "2  Добавить блоки рекомендаций товаров на сайт интернет магазина, чтобы повысить конверсию и средний чек заказа   \n",
       "3           Изменить структура категорий, что увеличит конверсию, т.к. пользователи быстрее найдут нужный товар   \n",
       "4                              Изменить цвет фона главной страницы, чтобы увеличить вовлеченность пользователей   \n",
       "5                      Добавить страницу отзывов клиентов о магазине, что позволит увеличить количество заказов   \n",
       "6          Показать на главной странице баннеры с актуальными акциями и распродажами, чтобы увеличить конверсию   \n",
       "7              Добавить форму подписки на все основные страницы, чтобы собрать базу клиентов для email-рассылок   \n",
       "8                                                       Запустить акцию, дающую скидку на товар в день рождения   \n",
       "\n",
       "   Reach  Impact  Confidence  Efforts  \n",
       "0      3      10           8        6  \n",
       "1      2       5           4       10  \n",
       "2      8       3           7        3  \n",
       "3      8       3           3        8  \n",
       "4      3       1           1        1  \n",
       "5      3       2           2        3  \n",
       "6      5       3           8        3  \n",
       "7     10       7           8        5  \n",
       "8      1       9           9        5  "
      ]
     },
     "metadata": {},
     "output_type": "display_data"
    },
    {
     "data": {
      "text/html": [
       "<div>\n",
       "<style scoped>\n",
       "    .dataframe tbody tr th:only-of-type {\n",
       "        vertical-align: middle;\n",
       "    }\n",
       "\n",
       "    .dataframe tbody tr th {\n",
       "        vertical-align: top;\n",
       "    }\n",
       "\n",
       "    .dataframe thead th {\n",
       "        text-align: right;\n",
       "    }\n",
       "</style>\n",
       "<table border=\"1\" class=\"dataframe\">\n",
       "  <thead>\n",
       "    <tr style=\"text-align: right;\">\n",
       "      <th></th>\n",
       "      <th>transactionId</th>\n",
       "      <th>visitorId</th>\n",
       "      <th>date</th>\n",
       "      <th>revenue</th>\n",
       "      <th>group</th>\n",
       "    </tr>\n",
       "  </thead>\n",
       "  <tbody>\n",
       "    <tr>\n",
       "      <th>0</th>\n",
       "      <td>3667963787</td>\n",
       "      <td>3312258926</td>\n",
       "      <td>2019-08-15</td>\n",
       "      <td>1650</td>\n",
       "      <td>B</td>\n",
       "    </tr>\n",
       "    <tr>\n",
       "      <th>1</th>\n",
       "      <td>2804400009</td>\n",
       "      <td>3642806036</td>\n",
       "      <td>2019-08-15</td>\n",
       "      <td>730</td>\n",
       "      <td>B</td>\n",
       "    </tr>\n",
       "    <tr>\n",
       "      <th>2</th>\n",
       "      <td>2961555356</td>\n",
       "      <td>4069496402</td>\n",
       "      <td>2019-08-15</td>\n",
       "      <td>400</td>\n",
       "      <td>A</td>\n",
       "    </tr>\n",
       "    <tr>\n",
       "      <th>3</th>\n",
       "      <td>3797467345</td>\n",
       "      <td>1196621759</td>\n",
       "      <td>2019-08-15</td>\n",
       "      <td>9759</td>\n",
       "      <td>B</td>\n",
       "    </tr>\n",
       "    <tr>\n",
       "      <th>4</th>\n",
       "      <td>2282983706</td>\n",
       "      <td>2322279887</td>\n",
       "      <td>2019-08-15</td>\n",
       "      <td>2308</td>\n",
       "      <td>B</td>\n",
       "    </tr>\n",
       "    <tr>\n",
       "      <th>...</th>\n",
       "      <td>...</td>\n",
       "      <td>...</td>\n",
       "      <td>...</td>\n",
       "      <td>...</td>\n",
       "      <td>...</td>\n",
       "    </tr>\n",
       "    <tr>\n",
       "      <th>1192</th>\n",
       "      <td>2662137336</td>\n",
       "      <td>3733762160</td>\n",
       "      <td>2019-08-14</td>\n",
       "      <td>6490</td>\n",
       "      <td>B</td>\n",
       "    </tr>\n",
       "    <tr>\n",
       "      <th>1193</th>\n",
       "      <td>2203539145</td>\n",
       "      <td>370388673</td>\n",
       "      <td>2019-08-14</td>\n",
       "      <td>3190</td>\n",
       "      <td>A</td>\n",
       "    </tr>\n",
       "    <tr>\n",
       "      <th>1194</th>\n",
       "      <td>1807773912</td>\n",
       "      <td>573423106</td>\n",
       "      <td>2019-08-14</td>\n",
       "      <td>10550</td>\n",
       "      <td>A</td>\n",
       "    </tr>\n",
       "    <tr>\n",
       "      <th>1195</th>\n",
       "      <td>1947021204</td>\n",
       "      <td>1614305549</td>\n",
       "      <td>2019-08-14</td>\n",
       "      <td>100</td>\n",
       "      <td>A</td>\n",
       "    </tr>\n",
       "    <tr>\n",
       "      <th>1196</th>\n",
       "      <td>3936777065</td>\n",
       "      <td>2108080724</td>\n",
       "      <td>2019-08-15</td>\n",
       "      <td>202740</td>\n",
       "      <td>B</td>\n",
       "    </tr>\n",
       "  </tbody>\n",
       "</table>\n",
       "<p>1197 rows × 5 columns</p>\n",
       "</div>"
      ],
      "text/plain": [
       "      transactionId   visitorId        date  revenue group\n",
       "0        3667963787  3312258926  2019-08-15     1650     B\n",
       "1        2804400009  3642806036  2019-08-15      730     B\n",
       "2        2961555356  4069496402  2019-08-15      400     A\n",
       "3        3797467345  1196621759  2019-08-15     9759     B\n",
       "4        2282983706  2322279887  2019-08-15     2308     B\n",
       "...             ...         ...         ...      ...   ...\n",
       "1192     2662137336  3733762160  2019-08-14     6490     B\n",
       "1193     2203539145   370388673  2019-08-14     3190     A\n",
       "1194     1807773912   573423106  2019-08-14    10550     A\n",
       "1195     1947021204  1614305549  2019-08-14      100     A\n",
       "1196     3936777065  2108080724  2019-08-15   202740     B\n",
       "\n",
       "[1197 rows x 5 columns]"
      ]
     },
     "metadata": {},
     "output_type": "display_data"
    },
    {
     "data": {
      "text/html": [
       "<div>\n",
       "<style scoped>\n",
       "    .dataframe tbody tr th:only-of-type {\n",
       "        vertical-align: middle;\n",
       "    }\n",
       "\n",
       "    .dataframe tbody tr th {\n",
       "        vertical-align: top;\n",
       "    }\n",
       "\n",
       "    .dataframe thead th {\n",
       "        text-align: right;\n",
       "    }\n",
       "</style>\n",
       "<table border=\"1\" class=\"dataframe\">\n",
       "  <thead>\n",
       "    <tr style=\"text-align: right;\">\n",
       "      <th></th>\n",
       "      <th>date</th>\n",
       "      <th>group</th>\n",
       "      <th>visitors</th>\n",
       "    </tr>\n",
       "  </thead>\n",
       "  <tbody>\n",
       "    <tr>\n",
       "      <th>0</th>\n",
       "      <td>2019-08-01</td>\n",
       "      <td>A</td>\n",
       "      <td>719</td>\n",
       "    </tr>\n",
       "    <tr>\n",
       "      <th>1</th>\n",
       "      <td>2019-08-02</td>\n",
       "      <td>A</td>\n",
       "      <td>619</td>\n",
       "    </tr>\n",
       "    <tr>\n",
       "      <th>2</th>\n",
       "      <td>2019-08-03</td>\n",
       "      <td>A</td>\n",
       "      <td>507</td>\n",
       "    </tr>\n",
       "    <tr>\n",
       "      <th>3</th>\n",
       "      <td>2019-08-04</td>\n",
       "      <td>A</td>\n",
       "      <td>717</td>\n",
       "    </tr>\n",
       "    <tr>\n",
       "      <th>4</th>\n",
       "      <td>2019-08-05</td>\n",
       "      <td>A</td>\n",
       "      <td>756</td>\n",
       "    </tr>\n",
       "    <tr>\n",
       "      <th>...</th>\n",
       "      <td>...</td>\n",
       "      <td>...</td>\n",
       "      <td>...</td>\n",
       "    </tr>\n",
       "    <tr>\n",
       "      <th>57</th>\n",
       "      <td>2019-08-27</td>\n",
       "      <td>B</td>\n",
       "      <td>720</td>\n",
       "    </tr>\n",
       "    <tr>\n",
       "      <th>58</th>\n",
       "      <td>2019-08-28</td>\n",
       "      <td>B</td>\n",
       "      <td>654</td>\n",
       "    </tr>\n",
       "    <tr>\n",
       "      <th>59</th>\n",
       "      <td>2019-08-29</td>\n",
       "      <td>B</td>\n",
       "      <td>531</td>\n",
       "    </tr>\n",
       "    <tr>\n",
       "      <th>60</th>\n",
       "      <td>2019-08-30</td>\n",
       "      <td>B</td>\n",
       "      <td>490</td>\n",
       "    </tr>\n",
       "    <tr>\n",
       "      <th>61</th>\n",
       "      <td>2019-08-31</td>\n",
       "      <td>B</td>\n",
       "      <td>718</td>\n",
       "    </tr>\n",
       "  </tbody>\n",
       "</table>\n",
       "<p>62 rows × 3 columns</p>\n",
       "</div>"
      ],
      "text/plain": [
       "          date group  visitors\n",
       "0   2019-08-01     A       719\n",
       "1   2019-08-02     A       619\n",
       "2   2019-08-03     A       507\n",
       "3   2019-08-04     A       717\n",
       "4   2019-08-05     A       756\n",
       "..         ...   ...       ...\n",
       "57  2019-08-27     B       720\n",
       "58  2019-08-28     B       654\n",
       "59  2019-08-29     B       531\n",
       "60  2019-08-30     B       490\n",
       "61  2019-08-31     B       718\n",
       "\n",
       "[62 rows x 3 columns]"
      ]
     },
     "execution_count": 2,
     "metadata": {},
     "output_type": "execute_result"
    }
   ],
   "source": [
    "#Загрузим файлы:\n",
    "\n",
    "hypothesis = pd.read_csv('/datasets/hypothesis.csv')\n",
    "orders = pd.read_csv('/datasets/orders.csv')\n",
    "visitors = pd.read_csv('/datasets/visitors.csv')\n",
    "\n",
    "#Установим параметры отображения столбцов:\n",
    "pd.set_option('display.max_columns', None)\n",
    "pd.set_option('display.width', None)\n",
    "pd.set_option('display.max_colwidth', None)\n",
    "\n",
    "#Посмотрим на данные\n",
    "display(hypothesis)\n",
    "display(orders)\n",
    "visitors"
   ]
  },
  {
   "cell_type": "markdown",
   "metadata": {},
   "source": [
    "Заодно проверим не пропущены ли значения в данных"
   ]
  },
  {
   "cell_type": "code",
   "execution_count": 3,
   "metadata": {},
   "outputs": [
    {
     "name": "stdout",
     "output_type": "stream",
     "text": [
      "<class 'pandas.core.frame.DataFrame'>\n",
      "RangeIndex: 1197 entries, 0 to 1196\n",
      "Data columns (total 5 columns):\n",
      " #   Column         Non-Null Count  Dtype \n",
      "---  ------         --------------  ----- \n",
      " 0   transactionId  1197 non-null   int64 \n",
      " 1   visitorId      1197 non-null   int64 \n",
      " 2   date           1197 non-null   object\n",
      " 3   revenue        1197 non-null   int64 \n",
      " 4   group          1197 non-null   object\n",
      "dtypes: int64(3), object(2)\n",
      "memory usage: 46.9+ KB\n",
      "<class 'pandas.core.frame.DataFrame'>\n",
      "RangeIndex: 62 entries, 0 to 61\n",
      "Data columns (total 3 columns):\n",
      " #   Column    Non-Null Count  Dtype \n",
      "---  ------    --------------  ----- \n",
      " 0   date      62 non-null     object\n",
      " 1   group     62 non-null     object\n",
      " 2   visitors  62 non-null     int64 \n",
      "dtypes: int64(1), object(2)\n",
      "memory usage: 1.6+ KB\n"
     ]
    }
   ],
   "source": [
    "orders.info()\n",
    "visitors.info()"
   ]
  },
  {
   "cell_type": "markdown",
   "metadata": {},
   "source": [
    "Данные нужного типа и отсутствуют пропуски."
   ]
  },
  {
   "cell_type": "markdown",
   "metadata": {},
   "source": [
    "Проверим на дубликаты:"
   ]
  },
  {
   "cell_type": "code",
   "execution_count": 4,
   "metadata": {},
   "outputs": [
    {
     "name": "stdout",
     "output_type": "stream",
     "text": [
      "0\n",
      "0\n"
     ]
    },
    {
     "data": {
      "text/plain": [
       "0"
      ]
     },
     "execution_count": 4,
     "metadata": {},
     "output_type": "execute_result"
    }
   ],
   "source": [
    "print(hypothesis.duplicated().sum())\n",
    "print(orders.duplicated().sum())\n",
    "visitors.duplicated().sum()"
   ]
  },
  {
   "cell_type": "markdown",
   "metadata": {},
   "source": [
    "Явные дубликаты отсутствуют."
   ]
  },
  {
   "cell_type": "markdown",
   "metadata": {},
   "source": [
    "**Предобработка данных:**"
   ]
  },
  {
   "cell_type": "code",
   "execution_count": 5,
   "metadata": {},
   "outputs": [],
   "source": [
    "#Приведем date к нужному типу\n",
    "orders['date'] = pd.to_datetime(orders['date'], format='%Y-%m-%d')\n",
    "visitors['date'] = pd.to_datetime(visitors['date'], format='%Y-%m-%d')\n",
    "\n",
    "\n",
    "#Приведем название колонок к нижнему регистру\n",
    "hypothesis.columns = hypothesis.columns.str.lower()\n",
    "orders.columns = orders.columns.str.lower()\n",
    "visitors.columns = visitors.columns.str.lower()\n",
    "\n",
    "#Приведем названия столбцов к змеиному стилю\n",
    "orders.columns = orders.columns.str.replace('id', '_id')"
   ]
  },
  {
   "cell_type": "code",
   "execution_count": 6,
   "metadata": {},
   "outputs": [
    {
     "data": {
      "text/html": [
       "<div>\n",
       "<style scoped>\n",
       "    .dataframe tbody tr th:only-of-type {\n",
       "        vertical-align: middle;\n",
       "    }\n",
       "\n",
       "    .dataframe tbody tr th {\n",
       "        vertical-align: top;\n",
       "    }\n",
       "\n",
       "    .dataframe thead th {\n",
       "        text-align: right;\n",
       "    }\n",
       "</style>\n",
       "<table border=\"1\" class=\"dataframe\">\n",
       "  <thead>\n",
       "    <tr style=\"text-align: right;\">\n",
       "      <th></th>\n",
       "      <th>transaction_id</th>\n",
       "      <th>visitor_id</th>\n",
       "      <th>date</th>\n",
       "      <th>revenue</th>\n",
       "      <th>group</th>\n",
       "    </tr>\n",
       "  </thead>\n",
       "  <tbody>\n",
       "    <tr>\n",
       "      <th>0</th>\n",
       "      <td>3667963787</td>\n",
       "      <td>3312258926</td>\n",
       "      <td>2019-08-15</td>\n",
       "      <td>1650</td>\n",
       "      <td>B</td>\n",
       "    </tr>\n",
       "    <tr>\n",
       "      <th>1</th>\n",
       "      <td>2804400009</td>\n",
       "      <td>3642806036</td>\n",
       "      <td>2019-08-15</td>\n",
       "      <td>730</td>\n",
       "      <td>B</td>\n",
       "    </tr>\n",
       "    <tr>\n",
       "      <th>2</th>\n",
       "      <td>2961555356</td>\n",
       "      <td>4069496402</td>\n",
       "      <td>2019-08-15</td>\n",
       "      <td>400</td>\n",
       "      <td>A</td>\n",
       "    </tr>\n",
       "    <tr>\n",
       "      <th>3</th>\n",
       "      <td>3797467345</td>\n",
       "      <td>1196621759</td>\n",
       "      <td>2019-08-15</td>\n",
       "      <td>9759</td>\n",
       "      <td>B</td>\n",
       "    </tr>\n",
       "    <tr>\n",
       "      <th>4</th>\n",
       "      <td>2282983706</td>\n",
       "      <td>2322279887</td>\n",
       "      <td>2019-08-15</td>\n",
       "      <td>2308</td>\n",
       "      <td>B</td>\n",
       "    </tr>\n",
       "    <tr>\n",
       "      <th>...</th>\n",
       "      <td>...</td>\n",
       "      <td>...</td>\n",
       "      <td>...</td>\n",
       "      <td>...</td>\n",
       "      <td>...</td>\n",
       "    </tr>\n",
       "    <tr>\n",
       "      <th>1192</th>\n",
       "      <td>2662137336</td>\n",
       "      <td>3733762160</td>\n",
       "      <td>2019-08-14</td>\n",
       "      <td>6490</td>\n",
       "      <td>B</td>\n",
       "    </tr>\n",
       "    <tr>\n",
       "      <th>1193</th>\n",
       "      <td>2203539145</td>\n",
       "      <td>370388673</td>\n",
       "      <td>2019-08-14</td>\n",
       "      <td>3190</td>\n",
       "      <td>A</td>\n",
       "    </tr>\n",
       "    <tr>\n",
       "      <th>1194</th>\n",
       "      <td>1807773912</td>\n",
       "      <td>573423106</td>\n",
       "      <td>2019-08-14</td>\n",
       "      <td>10550</td>\n",
       "      <td>A</td>\n",
       "    </tr>\n",
       "    <tr>\n",
       "      <th>1195</th>\n",
       "      <td>1947021204</td>\n",
       "      <td>1614305549</td>\n",
       "      <td>2019-08-14</td>\n",
       "      <td>100</td>\n",
       "      <td>A</td>\n",
       "    </tr>\n",
       "    <tr>\n",
       "      <th>1196</th>\n",
       "      <td>3936777065</td>\n",
       "      <td>2108080724</td>\n",
       "      <td>2019-08-15</td>\n",
       "      <td>202740</td>\n",
       "      <td>B</td>\n",
       "    </tr>\n",
       "  </tbody>\n",
       "</table>\n",
       "<p>1197 rows × 5 columns</p>\n",
       "</div>"
      ],
      "text/plain": [
       "      transaction_id  visitor_id       date  revenue group\n",
       "0         3667963787  3312258926 2019-08-15     1650     B\n",
       "1         2804400009  3642806036 2019-08-15      730     B\n",
       "2         2961555356  4069496402 2019-08-15      400     A\n",
       "3         3797467345  1196621759 2019-08-15     9759     B\n",
       "4         2282983706  2322279887 2019-08-15     2308     B\n",
       "...              ...         ...        ...      ...   ...\n",
       "1192      2662137336  3733762160 2019-08-14     6490     B\n",
       "1193      2203539145   370388673 2019-08-14     3190     A\n",
       "1194      1807773912   573423106 2019-08-14    10550     A\n",
       "1195      1947021204  1614305549 2019-08-14      100     A\n",
       "1196      3936777065  2108080724 2019-08-15   202740     B\n",
       "\n",
       "[1197 rows x 5 columns]"
      ]
     },
     "execution_count": 6,
     "metadata": {},
     "output_type": "execute_result"
    }
   ],
   "source": [
    "orders"
   ]
  },
  {
   "cell_type": "markdown",
   "metadata": {},
   "source": [
    "**Посмотрим есть ли пользователи которые попали в обе группы исследования:**"
   ]
  },
  {
   "cell_type": "code",
   "execution_count": 7,
   "metadata": {},
   "outputs": [
    {
     "data": {
      "text/plain": [
       "visitor_id    58\n",
       "group         58\n",
       "dtype: int64"
      ]
     },
     "execution_count": 7,
     "metadata": {},
     "output_type": "execute_result"
    }
   ],
   "source": [
    "users = orders.groupby('visitor_id')['group'].nunique().reset_index().sort_values('group', ascending=False)\n",
    "users.query('group == 2').sort_values(by='visitor_id').count()"
   ]
  },
  {
   "cell_type": "markdown",
   "metadata": {},
   "source": [
    "58 человек попали в обе группы исследования их можно удалить"
   ]
  },
  {
   "cell_type": "code",
   "execution_count": 8,
   "metadata": {},
   "outputs": [],
   "source": [
    "orders_filtered = orders.groupby(['visitor_id', 'group', 'date', 'transaction_id'], as_index=False)['revenue'].sum()\n",
    "orders_filtered=orders_filtered.drop_duplicates(subset='visitor_id',keep=False).reset_index()"
   ]
  },
  {
   "cell_type": "markdown",
   "metadata": {},
   "source": [
    "orders = orders_filtered"
   ]
  },
  {
   "cell_type": "markdown",
   "metadata": {},
   "source": [
    "**Выводы по разделу:**\n",
    "\n",
    "На данном этапе была проделана следующая работа:\n",
    "1. Осуществлена проврека на явные дубликаты.\n",
    "2. Данные приведены к нужному типу.\n",
    "3. Заменены названия столбцов.\n",
    "4. Удалены пользователи попавшие в обе группы исследования."
   ]
  },
  {
   "cell_type": "markdown",
   "metadata": {},
   "source": [
    "## Приоритизация гипотез."
   ]
  },
  {
   "cell_type": "markdown",
   "metadata": {},
   "source": [
    "**1.1. Примените фреймворк ICE для приоритизации гипотез. Отсортируйте их по убыванию приоритета.**"
   ]
  },
  {
   "cell_type": "markdown",
   "metadata": {},
   "source": [
    "ICE расчитывается по следюущей формуле: **ICE = Impact x Confidence / Efforts**\n",
    "\n",
    "Для анализа подойдут данные из таблицы hypothesis:"
   ]
  },
  {
   "cell_type": "code",
   "execution_count": 9,
   "metadata": {},
   "outputs": [
    {
     "data": {
      "text/html": [
       "<div>\n",
       "<style scoped>\n",
       "    .dataframe tbody tr th:only-of-type {\n",
       "        vertical-align: middle;\n",
       "    }\n",
       "\n",
       "    .dataframe tbody tr th {\n",
       "        vertical-align: top;\n",
       "    }\n",
       "\n",
       "    .dataframe thead th {\n",
       "        text-align: right;\n",
       "    }\n",
       "</style>\n",
       "<table border=\"1\" class=\"dataframe\">\n",
       "  <thead>\n",
       "    <tr style=\"text-align: right;\">\n",
       "      <th></th>\n",
       "      <th>hypothesis</th>\n",
       "      <th>reach</th>\n",
       "      <th>impact</th>\n",
       "      <th>confidence</th>\n",
       "      <th>efforts</th>\n",
       "      <th>ice</th>\n",
       "    </tr>\n",
       "  </thead>\n",
       "  <tbody>\n",
       "    <tr>\n",
       "      <th>8</th>\n",
       "      <td>Запустить акцию, дающую скидку на товар в день рождения</td>\n",
       "      <td>1</td>\n",
       "      <td>9</td>\n",
       "      <td>9</td>\n",
       "      <td>5</td>\n",
       "      <td>16.200000</td>\n",
       "    </tr>\n",
       "    <tr>\n",
       "      <th>0</th>\n",
       "      <td>Добавить два новых канала привлечения трафика, что позволит привлекать на 30% больше пользователей</td>\n",
       "      <td>3</td>\n",
       "      <td>10</td>\n",
       "      <td>8</td>\n",
       "      <td>6</td>\n",
       "      <td>13.333333</td>\n",
       "    </tr>\n",
       "    <tr>\n",
       "      <th>7</th>\n",
       "      <td>Добавить форму подписки на все основные страницы, чтобы собрать базу клиентов для email-рассылок</td>\n",
       "      <td>10</td>\n",
       "      <td>7</td>\n",
       "      <td>8</td>\n",
       "      <td>5</td>\n",
       "      <td>11.200000</td>\n",
       "    </tr>\n",
       "    <tr>\n",
       "      <th>6</th>\n",
       "      <td>Показать на главной странице баннеры с актуальными акциями и распродажами, чтобы увеличить конверсию</td>\n",
       "      <td>5</td>\n",
       "      <td>3</td>\n",
       "      <td>8</td>\n",
       "      <td>3</td>\n",
       "      <td>8.000000</td>\n",
       "    </tr>\n",
       "    <tr>\n",
       "      <th>2</th>\n",
       "      <td>Добавить блоки рекомендаций товаров на сайт интернет магазина, чтобы повысить конверсию и средний чек заказа</td>\n",
       "      <td>8</td>\n",
       "      <td>3</td>\n",
       "      <td>7</td>\n",
       "      <td>3</td>\n",
       "      <td>7.000000</td>\n",
       "    </tr>\n",
       "    <tr>\n",
       "      <th>1</th>\n",
       "      <td>Запустить собственную службу доставки, что сократит срок доставки заказов</td>\n",
       "      <td>2</td>\n",
       "      <td>5</td>\n",
       "      <td>4</td>\n",
       "      <td>10</td>\n",
       "      <td>2.000000</td>\n",
       "    </tr>\n",
       "    <tr>\n",
       "      <th>5</th>\n",
       "      <td>Добавить страницу отзывов клиентов о магазине, что позволит увеличить количество заказов</td>\n",
       "      <td>3</td>\n",
       "      <td>2</td>\n",
       "      <td>2</td>\n",
       "      <td>3</td>\n",
       "      <td>1.333333</td>\n",
       "    </tr>\n",
       "    <tr>\n",
       "      <th>3</th>\n",
       "      <td>Изменить структура категорий, что увеличит конверсию, т.к. пользователи быстрее найдут нужный товар</td>\n",
       "      <td>8</td>\n",
       "      <td>3</td>\n",
       "      <td>3</td>\n",
       "      <td>8</td>\n",
       "      <td>1.125000</td>\n",
       "    </tr>\n",
       "    <tr>\n",
       "      <th>4</th>\n",
       "      <td>Изменить цвет фона главной страницы, чтобы увеличить вовлеченность пользователей</td>\n",
       "      <td>3</td>\n",
       "      <td>1</td>\n",
       "      <td>1</td>\n",
       "      <td>1</td>\n",
       "      <td>1.000000</td>\n",
       "    </tr>\n",
       "  </tbody>\n",
       "</table>\n",
       "</div>"
      ],
      "text/plain": [
       "                                                                                                     hypothesis  \\\n",
       "8                                                       Запустить акцию, дающую скидку на товар в день рождения   \n",
       "0            Добавить два новых канала привлечения трафика, что позволит привлекать на 30% больше пользователей   \n",
       "7              Добавить форму подписки на все основные страницы, чтобы собрать базу клиентов для email-рассылок   \n",
       "6          Показать на главной странице баннеры с актуальными акциями и распродажами, чтобы увеличить конверсию   \n",
       "2  Добавить блоки рекомендаций товаров на сайт интернет магазина, чтобы повысить конверсию и средний чек заказа   \n",
       "1                                     Запустить собственную службу доставки, что сократит срок доставки заказов   \n",
       "5                      Добавить страницу отзывов клиентов о магазине, что позволит увеличить количество заказов   \n",
       "3           Изменить структура категорий, что увеличит конверсию, т.к. пользователи быстрее найдут нужный товар   \n",
       "4                              Изменить цвет фона главной страницы, чтобы увеличить вовлеченность пользователей   \n",
       "\n",
       "   reach  impact  confidence  efforts        ice  \n",
       "8      1       9           9        5  16.200000  \n",
       "0      3      10           8        6  13.333333  \n",
       "7     10       7           8        5  11.200000  \n",
       "6      5       3           8        3   8.000000  \n",
       "2      8       3           7        3   7.000000  \n",
       "1      2       5           4       10   2.000000  \n",
       "5      3       2           2        3   1.333333  \n",
       "3      8       3           3        8   1.125000  \n",
       "4      3       1           1        1   1.000000  "
      ]
     },
     "execution_count": 9,
     "metadata": {},
     "output_type": "execute_result"
    }
   ],
   "source": [
    "hypothesis['ice'] = hypothesis['impact'] * hypothesis['confidence'] / hypothesis['efforts']\n",
    "\n",
    "hypothesis = hypothesis.sort_values(by='ice', ascending=False)\n",
    "hypothesis"
   ]
  },
  {
   "cell_type": "markdown",
   "metadata": {},
   "source": [
    "Согласно показателю приоретизации ICE на первом месте гипотеза 8, а на последнем гипотеза 4."
   ]
  },
  {
   "cell_type": "markdown",
   "metadata": {},
   "source": [
    "**1.2. Примените фреймворк RICE для приоритизации гипотез. Отсортируйте их по убыванию приоритета.**"
   ]
  },
  {
   "cell_type": "markdown",
   "metadata": {},
   "source": [
    "RICE расчитывается по следюущей формуле: **RICE = (Reach x Impact x Confidence) / Efforts**\n",
    "\n",
    "Для анализа подойдут данные из таблицы hypothesis:"
   ]
  },
  {
   "cell_type": "code",
   "execution_count": 10,
   "metadata": {},
   "outputs": [
    {
     "data": {
      "text/html": [
       "<div>\n",
       "<style scoped>\n",
       "    .dataframe tbody tr th:only-of-type {\n",
       "        vertical-align: middle;\n",
       "    }\n",
       "\n",
       "    .dataframe tbody tr th {\n",
       "        vertical-align: top;\n",
       "    }\n",
       "\n",
       "    .dataframe thead th {\n",
       "        text-align: right;\n",
       "    }\n",
       "</style>\n",
       "<table border=\"1\" class=\"dataframe\">\n",
       "  <thead>\n",
       "    <tr style=\"text-align: right;\">\n",
       "      <th></th>\n",
       "      <th>hypothesis</th>\n",
       "      <th>reach</th>\n",
       "      <th>impact</th>\n",
       "      <th>confidence</th>\n",
       "      <th>efforts</th>\n",
       "      <th>ice</th>\n",
       "      <th>rice</th>\n",
       "    </tr>\n",
       "  </thead>\n",
       "  <tbody>\n",
       "    <tr>\n",
       "      <th>7</th>\n",
       "      <td>Добавить форму подписки на все основные страницы, чтобы собрать базу клиентов для email-рассылок</td>\n",
       "      <td>10</td>\n",
       "      <td>7</td>\n",
       "      <td>8</td>\n",
       "      <td>5</td>\n",
       "      <td>11.200000</td>\n",
       "      <td>112.0</td>\n",
       "    </tr>\n",
       "    <tr>\n",
       "      <th>2</th>\n",
       "      <td>Добавить блоки рекомендаций товаров на сайт интернет магазина, чтобы повысить конверсию и средний чек заказа</td>\n",
       "      <td>8</td>\n",
       "      <td>3</td>\n",
       "      <td>7</td>\n",
       "      <td>3</td>\n",
       "      <td>7.000000</td>\n",
       "      <td>56.0</td>\n",
       "    </tr>\n",
       "    <tr>\n",
       "      <th>0</th>\n",
       "      <td>Добавить два новых канала привлечения трафика, что позволит привлекать на 30% больше пользователей</td>\n",
       "      <td>3</td>\n",
       "      <td>10</td>\n",
       "      <td>8</td>\n",
       "      <td>6</td>\n",
       "      <td>13.333333</td>\n",
       "      <td>40.0</td>\n",
       "    </tr>\n",
       "    <tr>\n",
       "      <th>6</th>\n",
       "      <td>Показать на главной странице баннеры с актуальными акциями и распродажами, чтобы увеличить конверсию</td>\n",
       "      <td>5</td>\n",
       "      <td>3</td>\n",
       "      <td>8</td>\n",
       "      <td>3</td>\n",
       "      <td>8.000000</td>\n",
       "      <td>40.0</td>\n",
       "    </tr>\n",
       "    <tr>\n",
       "      <th>8</th>\n",
       "      <td>Запустить акцию, дающую скидку на товар в день рождения</td>\n",
       "      <td>1</td>\n",
       "      <td>9</td>\n",
       "      <td>9</td>\n",
       "      <td>5</td>\n",
       "      <td>16.200000</td>\n",
       "      <td>16.2</td>\n",
       "    </tr>\n",
       "    <tr>\n",
       "      <th>3</th>\n",
       "      <td>Изменить структура категорий, что увеличит конверсию, т.к. пользователи быстрее найдут нужный товар</td>\n",
       "      <td>8</td>\n",
       "      <td>3</td>\n",
       "      <td>3</td>\n",
       "      <td>8</td>\n",
       "      <td>1.125000</td>\n",
       "      <td>9.0</td>\n",
       "    </tr>\n",
       "    <tr>\n",
       "      <th>1</th>\n",
       "      <td>Запустить собственную службу доставки, что сократит срок доставки заказов</td>\n",
       "      <td>2</td>\n",
       "      <td>5</td>\n",
       "      <td>4</td>\n",
       "      <td>10</td>\n",
       "      <td>2.000000</td>\n",
       "      <td>4.0</td>\n",
       "    </tr>\n",
       "    <tr>\n",
       "      <th>5</th>\n",
       "      <td>Добавить страницу отзывов клиентов о магазине, что позволит увеличить количество заказов</td>\n",
       "      <td>3</td>\n",
       "      <td>2</td>\n",
       "      <td>2</td>\n",
       "      <td>3</td>\n",
       "      <td>1.333333</td>\n",
       "      <td>4.0</td>\n",
       "    </tr>\n",
       "    <tr>\n",
       "      <th>4</th>\n",
       "      <td>Изменить цвет фона главной страницы, чтобы увеличить вовлеченность пользователей</td>\n",
       "      <td>3</td>\n",
       "      <td>1</td>\n",
       "      <td>1</td>\n",
       "      <td>1</td>\n",
       "      <td>1.000000</td>\n",
       "      <td>3.0</td>\n",
       "    </tr>\n",
       "  </tbody>\n",
       "</table>\n",
       "</div>"
      ],
      "text/plain": [
       "                                                                                                     hypothesis  \\\n",
       "7              Добавить форму подписки на все основные страницы, чтобы собрать базу клиентов для email-рассылок   \n",
       "2  Добавить блоки рекомендаций товаров на сайт интернет магазина, чтобы повысить конверсию и средний чек заказа   \n",
       "0            Добавить два новых канала привлечения трафика, что позволит привлекать на 30% больше пользователей   \n",
       "6          Показать на главной странице баннеры с актуальными акциями и распродажами, чтобы увеличить конверсию   \n",
       "8                                                       Запустить акцию, дающую скидку на товар в день рождения   \n",
       "3           Изменить структура категорий, что увеличит конверсию, т.к. пользователи быстрее найдут нужный товар   \n",
       "1                                     Запустить собственную службу доставки, что сократит срок доставки заказов   \n",
       "5                      Добавить страницу отзывов клиентов о магазине, что позволит увеличить количество заказов   \n",
       "4                              Изменить цвет фона главной страницы, чтобы увеличить вовлеченность пользователей   \n",
       "\n",
       "   reach  impact  confidence  efforts        ice   rice  \n",
       "7     10       7           8        5  11.200000  112.0  \n",
       "2      8       3           7        3   7.000000   56.0  \n",
       "0      3      10           8        6  13.333333   40.0  \n",
       "6      5       3           8        3   8.000000   40.0  \n",
       "8      1       9           9        5  16.200000   16.2  \n",
       "3      8       3           3        8   1.125000    9.0  \n",
       "1      2       5           4       10   2.000000    4.0  \n",
       "5      3       2           2        3   1.333333    4.0  \n",
       "4      3       1           1        1   1.000000    3.0  "
      ]
     },
     "execution_count": 10,
     "metadata": {},
     "output_type": "execute_result"
    }
   ],
   "source": [
    "hypothesis['rice'] = (hypothesis['reach'] * hypothesis['impact'] * hypothesis['confidence']) / hypothesis['efforts']\n",
    "hypothesis = hypothesis.sort_values(by='rice', ascending=False)\n",
    "hypothesis"
   ]
  },
  {
   "cell_type": "markdown",
   "metadata": {},
   "source": [
    "Согласно показателю RICE на первом месте уже гипотеза 7, а на последнем также гипотеза 4."
   ]
  },
  {
   "cell_type": "markdown",
   "metadata": {},
   "source": [
    "**1.3. Укажите, как изменилась приоритизация гипотез при применении RICE вместо ICE. Объясните, почему так произошло.**"
   ]
  },
  {
   "cell_type": "markdown",
   "metadata": {},
   "source": [
    "Распределение мест в методиках ICE и RICE различны. В отличии от ICE показатель RICE учитывает охваты, что влияет на приоритизацию.\n",
    "\n",
    "Места по показателю ICE:\n",
    "\n",
    "1. 8 гипотеза\n",
    "2. 0 гипотеза\n",
    "3. 7 гипотеза\n",
    "\n",
    "Места по показателю RICE:\n",
    "1. 7 гипотеза\n",
    "2. 2 гипотеза\n",
    "3. 0 гипотеза\n",
    "\n",
    "На последнем месте в обоих случаях Гипотез 4.\n",
    "\n",
    "Исходя из распределения места можно сделать вывод что наиболее приоритетные Гипотезы 0 и 7 так как они вошли в ТОП-3 и в ICE, и в RICE."
   ]
  },
  {
   "cell_type": "markdown",
   "metadata": {},
   "source": [
    "## Анализ A/B-теста"
   ]
  },
  {
   "cell_type": "markdown",
   "metadata": {},
   "source": [
    "**5.1. Постройте график кумулятивной выручки по группам. Сделайте выводы и предположения.**"
   ]
  },
  {
   "cell_type": "code",
   "execution_count": 11,
   "metadata": {},
   "outputs": [
    {
     "data": {
      "image/png": "[encoded data removed]",
      "text/plain": [
       "<Figure size 1152x576 with 1 Axes>"
      ]
     },
     "metadata": {
      "needs_background": "light"
     },
     "output_type": "display_data"
    }
   ],
   "source": [
    "# создаем массив уникальных пар значений дат и групп теста\n",
    "datesGroups = orders[['date','group']].drop_duplicates()\n",
    "\n",
    "# получаем агрегированные кумулятивные по дням данные о заказах \n",
    "ordersAggregated = datesGroups.apply(lambda x: orders[np.logical_and(orders['date'] <= x['date'], orders['group'] == x['group'])]\\\n",
    "                                     .agg({'date' : 'max', 'group' : 'max', 'transaction_id' : 'nunique', 'visitor_id' : 'nunique', 'revenue' : 'sum'}), \n",
    "                                     axis=1).sort_values(by=['date','group'])\n",
    "\n",
    "# получаем агрегированные кумулятивные по дням данные о посетителях интернет-магазина\n",
    "visitorsAggregated = datesGroups.apply(lambda x: visitors[np.logical_and(visitors['date'] <= x['date'], visitors['group'] == x['group'])]\n",
    "                                       .agg({'date' : 'max', 'group' : 'max', 'visitors' : 'sum'}),\n",
    "                                       axis=1).sort_values(by=['date','group'])\n",
    "\n",
    "# объединяем кумулятивные данные в одной таблице и присваиваем ее столбцам понятные названия\n",
    "cumulativeData = ordersAggregated.merge(visitorsAggregated, left_on=['date', 'group'], right_on=['date', 'group'])\n",
    "cumulativeData.columns = ['date', 'group', 'orders', 'buyers', 'revenue', 'visitors']\n",
    "\n",
    "# датафрейм с кумулятивным количеством заказов и кумулятивной выручкой по дням в группе А\n",
    "cumulativeRevenueA = cumulativeData[cumulativeData['group']=='A'][['date','revenue', 'orders']]\n",
    "\n",
    "# датафрейм с кумулятивным количеством заказов и кумулятивной выручкой по дням в группе B\n",
    "cumulativeRevenueB = cumulativeData[cumulativeData['group']=='B'][['date','revenue', 'orders']]\n",
    "\n",
    "plt.figure(figsize=(16, 8))\n",
    "\n",
    "# Строим график выручки группы А\n",
    "plt.plot(cumulativeRevenueA['date'], cumulativeRevenueA['revenue'], label='Группа A')\n",
    "\n",
    "# Строим график выручки группы B\n",
    "plt.plot(cumulativeRevenueB['date'], cumulativeRevenueB['revenue'], label='Группа B')\n",
    "\n",
    "plt.xlabel('Дата')\n",
    "plt.ylabel('Выручка')\n",
    "plt.title('Кумулятивная выручка по группам')\n",
    "plt.grid(True)\n",
    "plt.xticks(rotation=45)\n",
    "\n",
    "plt.legend()\n",
    "\n",
    "# Отображаем график\n",
    "plt.show()"
   ]
  },
  {
   "cell_type": "markdown",
   "metadata": {},
   "source": [
    "**Вывод:** На протяжении 5 дней выручка была примерно одинаковой однако на 5 день группа B резко вырвалась вперед и преимущество сохранилось\n",
    "\n",
    "**Предположение:** Возможно это связно с появлением аномально больших заказов."
   ]
  },
  {
   "cell_type": "markdown",
   "metadata": {},
   "source": [
    "<div class=\"alert alert-block alert-warning\">\n",
    "    \n",
    "**Комментарий от ревьюера**\n",
    "\n",
    "Верно, но пока мы не знаем, с чем связан скачок в группе B: с резким увеличением количества заказов или с ростом стоимости.\n",
    "</div>"
   ]
  },
  {
   "cell_type": "markdown",
   "metadata": {},
   "source": [
    "**5.2. Постройте график кумулятивного среднего чека по группам. Сделайте выводы и предположения.**"
   ]
  },
  {
   "cell_type": "code",
   "execution_count": 12,
   "metadata": {},
   "outputs": [
    {
     "data": {
      "image/png": "[encoded data removed]",
      "text/plain": [
       "<Figure size 1152x576 with 1 Axes>"
      ]
     },
     "metadata": {
      "needs_background": "light"
     },
     "output_type": "display_data"
    }
   ],
   "source": [
    "plt.figure(figsize=(16, 8))\n",
    "\n",
    "plt.plot(cumulativeRevenueA['date'], cumulativeRevenueA['revenue']/cumulativeRevenueA['orders'], label='A')\n",
    "plt.plot(cumulativeRevenueB['date'], cumulativeRevenueB['revenue']/cumulativeRevenueB['orders'], label='B')\n",
    "\n",
    "plt.xlabel('Дата')\n",
    "plt.ylabel('Кумулятивный средний чек')\n",
    "plt.title('Динамика кумулятивный среднего чека')\n",
    "plt.grid(True)\n",
    "plt.xticks(rotation=45)\n",
    "\n",
    "plt.legend()\n",
    "\n",
    "# Отображаем график\n",
    "plt.show()"
   ]
  },
  {
   "cell_type": "markdown",
   "metadata": {},
   "source": [
    "**Вывод:** В первые 5 дней средний чек по группе В превышел примерно на тысячу после чего резко вырвался вперед.\n",
    "\n",
    "**Предположение:** Как и с выручкой это скорей всего связано в аномально дорогими товарами."
   ]
  },
  {
   "cell_type": "markdown",
   "metadata": {},
   "source": [
    "<div class=\"alert alert-block alert-success\">\n",
    "    \n",
    "**Комментарий от ревьюера**\n",
    "    \n",
    "Да, крупные заказы могли стать причиной резкого роста.\n",
    "</div>"
   ]
  },
  {
   "cell_type": "markdown",
   "metadata": {},
   "source": [
    "**2.3. Постройте график относительного изменения кумулятивного среднего чека группы B к группе A. Сделайте выводы и предположения.**"
   ]
  },
  {
   "cell_type": "code",
   "execution_count": 13,
   "metadata": {},
   "outputs": [
    {
     "data": {
      "image/png": "[encoded data removed]",
      "text/plain": [
       "<Figure size 1152x576 with 1 Axes>"
      ]
     },
     "metadata": {
      "needs_background": "light"
     },
     "output_type": "display_data"
    }
   ],
   "source": [
    "# собираем данные в одном датафрейме\n",
    "mergedCumulativeRevenue = cumulativeRevenueA.merge(cumulativeRevenueB, left_on='date', right_on='date', how='left', suffixes=['A', 'B'])\n",
    "\n",
    "plt.figure(figsize=(16, 8))\n",
    "\n",
    "# cтроим отношение средних чеков\n",
    "plt.plot(mergedCumulativeRevenue['date'], (mergedCumulativeRevenue['revenueB']/mergedCumulativeRevenue['ordersB'])/(mergedCumulativeRevenue['revenueA']/mergedCumulativeRevenue['ordersA'])-1)\n",
    "\n",
    "plt.axhline(y=0, color='black', linestyle='--')\n",
    "plt.xlabel('Дата')\n",
    "plt.ylabel('Соотношение динамики среднего чека')\n",
    "plt.title('График относительного изменения кумулятивного среднего чека группы B к группе A')\n",
    "plt.grid(True)\n",
    "plt.xticks(rotation=45)\n",
    "\n",
    "# Отображаем график\n",
    "plt.show()"
   ]
  },
  {
   "cell_type": "markdown",
   "metadata": {},
   "source": [
    "**Вывод:** Данный график практически совпадает с предыдущими, что свидетельствует о более высокой стоимости товаров Группы В. В моменте средний чек группы В был выше больше чем на 50%. После чего зафиксировался в районе 25%."
   ]
  },
  {
   "cell_type": "markdown",
   "metadata": {},
   "source": [
    "**2.4. Постройте график кумулятивного среднего количества заказов на посетителя по группам. Сделайте выводы и предположения.**"
   ]
  },
  {
   "cell_type": "code",
   "execution_count": 14,
   "metadata": {},
   "outputs": [
    {
     "data": {
      "image/png": "[encoded data removed]",
      "text/plain": [
       "<Figure size 1152x576 with 1 Axes>"
      ]
     },
     "metadata": {
      "needs_background": "light"
     },
     "output_type": "display_data"
    }
   ],
   "source": [
    "plt.figure(figsize=(16, 8))\n",
    "\n",
    "# считаем среднее количество заказов на посетителя\n",
    "cumulativeData['conversion'] = cumulativeData['orders']/cumulativeData['visitors']\n",
    "\n",
    "# отделяем данные по группе A\n",
    "cumulativeDataA = cumulativeData[cumulativeData['group']=='A']\n",
    "\n",
    "# отделяем данные по группе B\n",
    "cumulativeDataB = cumulativeData[cumulativeData['group']=='B']\n",
    "\n",
    "# строим графики\n",
    "plt.plot(cumulativeDataA['date'], cumulativeDataA['conversion'], label='A')\n",
    "plt.plot(cumulativeDataB['date'], cumulativeDataB['conversion'], label='B')\n",
    "\n",
    "plt.xlabel('Дата')\n",
    "plt.ylabel('Среднее количество заказов')\n",
    "plt.title('График кумулятивного среднего количества заказов на посетителя по группам')\n",
    "plt.grid(True)\n",
    "plt.xticks(rotation=45)\n",
    "plt.legend()\n",
    "# Отображаем график\n",
    "plt.show()"
   ]
  },
  {
   "cell_type": "markdown",
   "metadata": {},
   "source": [
    "**Вывод:** В начале периода больше было заказов было в Группе А. После чего группа В вышла вперед и среднее количество заказов стабилизировалось. "
   ]
  },
  {
   "cell_type": "markdown",
   "metadata": {},
   "source": [
    "**2.5. Постройте график относительного изменения кумулятивного среднего количества заказов на посетителя группы B к группе A. Сделайте выводы и предположения.**"
   ]
  },
  {
   "cell_type": "code",
   "execution_count": 15,
   "metadata": {},
   "outputs": [
    {
     "data": {
      "image/png": "[encoded data removed]",
      "text/plain": [
       "<Figure size 1152x576 with 1 Axes>"
      ]
     },
     "metadata": {
      "needs_background": "light"
     },
     "output_type": "display_data"
    }
   ],
   "source": [
    "mergedCumulativeConversions = cumulativeDataA[['date','conversion']].merge(cumulativeDataB[['date','conversion']], left_on='date', right_on='date', how='left', suffixes=['A', 'B'])\n",
    "\n",
    "plt.figure(figsize=(16, 8))\n",
    "plt.plot(mergedCumulativeConversions['date'], mergedCumulativeConversions['conversionB']/mergedCumulativeConversions['conversionA']-1, label=\"Относительный прирост кумулятивного среднего количества заказов на посетителя группы B относительно группы A\")\n",
    "plt.axhline(y=0, color='black', linestyle='--')\n",
    "plt.axhline(y=-0.1, color='grey', linestyle='--')\n",
    "plt.xlabel('Дата')\n",
    "plt.ylabel('Соотношение среднего количества заказов')\n",
    "plt.title('График относительного изменения кумулятивного среднего количества заказов на посетителя группы B к группе A')\n",
    "plt.grid(True)"
   ]
  },
  {
   "cell_type": "markdown",
   "metadata": {},
   "source": [
    "**Вывод:** Диаграмма подтверждает результаты предыдущего графика в начале группа В была ниже после чего закрепилась выше Группы А примерно на 20%."
   ]
  },
  {
   "cell_type": "markdown",
   "metadata": {},
   "source": [
    "**2.6. Постройте точечный график количества заказов по пользователям. Сделайте выводы и предположения.**"
   ]
  },
  {
   "cell_type": "code",
   "execution_count": 16,
   "metadata": {},
   "outputs": [
    {
     "data": {
      "image/png": "[encoded data removed]",
      "text/plain": [
       "<Figure size 1152x576 with 1 Axes>"
      ]
     },
     "metadata": {
      "needs_background": "light"
     },
     "output_type": "display_data"
    }
   ],
   "source": [
    "ordersByUsers = (orders.groupby('visitor_id', as_index=False).agg({'transaction_id': 'nunique'}))\n",
    "ordersByUsers.columns =  ['user_id', 'orders']\n",
    "x_values = pd.Series(range(0,len(ordersByUsers)))\n",
    "plt.figure(figsize=(16, 8))\n",
    "plt.scatter(x_values, ordersByUsers['orders'])\n",
    "plt.title('Распределение количества заказов по пользователям', fontsize=17)\n",
    "plt.ylabel('Количество покупок')\n",
    "plt.xlabel('Количество пользователей')\n",
    "plt.grid(True)\n",
    "plt.show()"
   ]
  },
  {
   "cell_type": "markdown",
   "metadata": {},
   "source": [
    "**Вывод:** Исходя из распределения можно сделать вывод что заказы больше одного это скорее аномалия нежели чем нет."
   ]
  },
  {
   "cell_type": "markdown",
   "metadata": {},
   "source": [
    "**2.7. Посчитайте 95-й и 99-й перцентили количества заказов на пользователя. Выберите границу для определения аномальных пользователей.**"
   ]
  },
  {
   "cell_type": "code",
   "execution_count": 17,
   "metadata": {},
   "outputs": [
    {
     "data": {
      "text/plain": [
       "array([1., 2., 4.])"
      ]
     },
     "execution_count": 17,
     "metadata": {},
     "output_type": "execute_result"
    }
   ],
   "source": [
    "orders_amount = np.percentile(ordersByUsers['orders'], [90, 95, 99])\n",
    "orders_amount"
   ]
  },
  {
   "cell_type": "markdown",
   "metadata": {},
   "source": [
    "Исходя из перцентиля можно сделать вывод что лишь 5% совершают более двух покупок и 1% более трех покупок."
   ]
  },
  {
   "cell_type": "markdown",
   "metadata": {},
   "source": [
    "**2.8. Постройте точечный график стоимостей заказов. Сделайте выводы и предположения.**"
   ]
  },
  {
   "cell_type": "code",
   "execution_count": 18,
   "metadata": {},
   "outputs": [
    {
     "data": {
      "image/png": "[encoded data removed]",
      "text/plain": [
       "<Figure size 1152x576 with 1 Axes>"
      ]
     },
     "metadata": {
      "needs_background": "light"
     },
     "output_type": "display_data"
    }
   ],
   "source": [
    "x_values = pd.Series(range(0, len(orders)))\n",
    "plt.figure(figsize=(16, 8))\n",
    "plt.scatter(x_values, orders['revenue'])\n",
    "plt.xlabel('Заказы')\n",
    "plt.ylabel('Стоимость заказа')\n",
    "plt.title('Диаграмма рассеяния стоимостей заказов')\n",
    "plt.grid(True)\n",
    "plt.show()"
   ]
  },
  {
   "cell_type": "markdown",
   "metadata": {},
   "source": [
    "На графике видно что есть два заказа сильно выбивающиеся из общего списка. Уберем их для того чтобы посмотреть распределение."
   ]
  },
  {
   "cell_type": "code",
   "execution_count": 19,
   "metadata": {},
   "outputs": [
    {
     "data": {
      "image/png": "[encoded data removed]",
      "text/plain": [
       "<Figure size 1152x576 with 1 Axes>"
      ]
     },
     "metadata": {
      "needs_background": "light"
     },
     "output_type": "display_data"
    }
   ],
   "source": [
    "orders_without_anomaly = orders.query('revenue < 200000')\n",
    "\n",
    "x_values = pd.Series(range(0, len(orders_without_anomaly)))\n",
    "plt.figure(figsize=(16, 8))\n",
    "plt.scatter(x_values, orders_without_anomaly['revenue'])\n",
    "plt.xlabel('Заказы')\n",
    "plt.ylabel('Стоимость заказа')\n",
    "plt.title('Диаграмма рассеяния стоимостей заказов')\n",
    "plt.grid(True)\n",
    "plt.show()"
   ]
  },
  {
   "cell_type": "code",
   "execution_count": 20,
   "metadata": {},
   "outputs": [
    {
     "data": {
      "text/html": [
       "<div>\n",
       "<style scoped>\n",
       "    .dataframe tbody tr th:only-of-type {\n",
       "        vertical-align: middle;\n",
       "    }\n",
       "\n",
       "    .dataframe tbody tr th {\n",
       "        vertical-align: top;\n",
       "    }\n",
       "\n",
       "    .dataframe thead th {\n",
       "        text-align: right;\n",
       "    }\n",
       "</style>\n",
       "<table border=\"1\" class=\"dataframe\">\n",
       "  <thead>\n",
       "    <tr style=\"text-align: right;\">\n",
       "      <th></th>\n",
       "      <th>transaction_id</th>\n",
       "      <th>visitor_id</th>\n",
       "      <th>revenue</th>\n",
       "    </tr>\n",
       "  </thead>\n",
       "  <tbody>\n",
       "    <tr>\n",
       "      <th>count</th>\n",
       "      <td>1.195000e+03</td>\n",
       "      <td>1.195000e+03</td>\n",
       "      <td>1195.000000</td>\n",
       "    </tr>\n",
       "    <tr>\n",
       "      <th>mean</th>\n",
       "      <td>2.155441e+09</td>\n",
       "      <td>2.166214e+09</td>\n",
       "      <td>7109.056904</td>\n",
       "    </tr>\n",
       "    <tr>\n",
       "      <th>std</th>\n",
       "      <td>1.228198e+09</td>\n",
       "      <td>1.237027e+09</td>\n",
       "      <td>10950.645888</td>\n",
       "    </tr>\n",
       "    <tr>\n",
       "      <th>min</th>\n",
       "      <td>1.062393e+06</td>\n",
       "      <td>5.114589e+06</td>\n",
       "      <td>50.000000</td>\n",
       "    </tr>\n",
       "    <tr>\n",
       "      <th>25%</th>\n",
       "      <td>1.167230e+09</td>\n",
       "      <td>1.111185e+09</td>\n",
       "      <td>1220.000000</td>\n",
       "    </tr>\n",
       "    <tr>\n",
       "      <th>50%</th>\n",
       "      <td>2.145194e+09</td>\n",
       "      <td>2.219162e+09</td>\n",
       "      <td>2970.000000</td>\n",
       "    </tr>\n",
       "    <tr>\n",
       "      <th>75%</th>\n",
       "      <td>3.235076e+09</td>\n",
       "      <td>3.177698e+09</td>\n",
       "      <td>8265.000000</td>\n",
       "    </tr>\n",
       "    <tr>\n",
       "      <th>max</th>\n",
       "      <td>4.293856e+09</td>\n",
       "      <td>4.283872e+09</td>\n",
       "      <td>93940.000000</td>\n",
       "    </tr>\n",
       "  </tbody>\n",
       "</table>\n",
       "</div>"
      ],
      "text/plain": [
       "       transaction_id    visitor_id       revenue\n",
       "count    1.195000e+03  1.195000e+03   1195.000000\n",
       "mean     2.155441e+09  2.166214e+09   7109.056904\n",
       "std      1.228198e+09  1.237027e+09  10950.645888\n",
       "min      1.062393e+06  5.114589e+06     50.000000\n",
       "25%      1.167230e+09  1.111185e+09   1220.000000\n",
       "50%      2.145194e+09  2.219162e+09   2970.000000\n",
       "75%      3.235076e+09  3.177698e+09   8265.000000\n",
       "max      4.293856e+09  4.283872e+09  93940.000000"
      ]
     },
     "execution_count": 20,
     "metadata": {},
     "output_type": "execute_result"
    }
   ],
   "source": [
    "orders_without_anomaly.describe()"
   ]
  },
  {
   "cell_type": "markdown",
   "metadata": {},
   "source": [
    "В среднем заказы составляют 8000 рублей, а заказы дороже 20000 скорее аномалия."
   ]
  },
  {
   "cell_type": "markdown",
   "metadata": {},
   "source": [
    "**2.9. Посчитайте 95-й и 99-й перцентили стоимости заказов. Выберите границу для определения аномальных заказов.**"
   ]
  },
  {
   "cell_type": "code",
   "execution_count": 1,
   "metadata": {},
   "outputs": [
    {
     "ename": "NameError",
     "evalue": "name 'np' is not defined",
     "output_type": "error",
     "traceback": [
      "\u001b[0;31m---------------------------------------------------------------------------\u001b[0m",
      "\u001b[0;31mNameError\u001b[0m                                 Traceback (most recent call last)",
      "\u001b[0;32m/tmp/ipykernel_30/2854334946.py\u001b[0m in \u001b[0;36m<module>\u001b[0;34m\u001b[0m\n\u001b[0;32m----> 1\u001b[0;31m \u001b[0morders_price\u001b[0m \u001b[0;34m=\u001b[0m \u001b[0mnp\u001b[0m\u001b[0;34m.\u001b[0m\u001b[0mpercentile\u001b[0m\u001b[0;34m(\u001b[0m\u001b[0morders\u001b[0m\u001b[0;34m[\u001b[0m\u001b[0;34m'revenue'\u001b[0m\u001b[0;34m]\u001b[0m\u001b[0;34m,\u001b[0m \u001b[0;34m[\u001b[0m\u001b[0;36m95\u001b[0m\u001b[0;34m,\u001b[0m \u001b[0;36m99\u001b[0m\u001b[0;34m]\u001b[0m\u001b[0;34m)\u001b[0m\u001b[0;34m\u001b[0m\u001b[0;34m\u001b[0m\u001b[0m\n\u001b[0m",
      "\u001b[0;31mNameError\u001b[0m: name 'np' is not defined"
     ]
    }
   ],
   "source": [
    "orders_price = np.percentile(orders['revenue'], [95, 99])"
   ]
  },
  {
   "cell_type": "markdown",
   "metadata": {},
   "source": [
    "Перцентили доказывают вывод сделанный выше стоимость заказа дороже **28000** редкость и составляет 5% случаев, а дороже **58233.2** всего лишь 1%"
   ]
  },
  {
   "cell_type": "markdown",
   "metadata": {},
   "source": [
    "**2.10. Посчитайте статистическую значимость различий в среднем количестве заказов на посетителя между группами по «сырым» данным. Сделайте выводы и предположения.**"
   ]
  },
  {
   "cell_type": "code",
   "execution_count": 22,
   "metadata": {},
   "outputs": [
    {
     "data": {
      "text/html": [
       "<div>\n",
       "<style scoped>\n",
       "    .dataframe tbody tr th:only-of-type {\n",
       "        vertical-align: middle;\n",
       "    }\n",
       "\n",
       "    .dataframe tbody tr th {\n",
       "        vertical-align: top;\n",
       "    }\n",
       "\n",
       "    .dataframe thead th {\n",
       "        text-align: right;\n",
       "    }\n",
       "</style>\n",
       "<table border=\"1\" class=\"dataframe\">\n",
       "  <thead>\n",
       "    <tr style=\"text-align: right;\">\n",
       "      <th></th>\n",
       "      <th>date</th>\n",
       "      <th>ordersPerDateA</th>\n",
       "      <th>revenuePerDateA</th>\n",
       "      <th>ordersPerDateB</th>\n",
       "      <th>revenuePerDateB</th>\n",
       "      <th>ordersCummulativeA</th>\n",
       "      <th>revenueCummulativeA</th>\n",
       "      <th>ordersCummulativeB</th>\n",
       "      <th>revenueCummulativeB</th>\n",
       "      <th>visitorsPerDateA</th>\n",
       "      <th>visitorsPerDateB</th>\n",
       "      <th>visitorsCummulativeA</th>\n",
       "      <th>visitorsCummulativeB</th>\n",
       "    </tr>\n",
       "  </thead>\n",
       "  <tbody>\n",
       "    <tr>\n",
       "      <th>0</th>\n",
       "      <td>2019-08-01</td>\n",
       "      <td>24</td>\n",
       "      <td>148579</td>\n",
       "      <td>21</td>\n",
       "      <td>101217</td>\n",
       "      <td>24</td>\n",
       "      <td>148579</td>\n",
       "      <td>21</td>\n",
       "      <td>101217</td>\n",
       "      <td>719</td>\n",
       "      <td>713</td>\n",
       "      <td>719</td>\n",
       "      <td>713</td>\n",
       "    </tr>\n",
       "    <tr>\n",
       "      <th>1</th>\n",
       "      <td>2019-08-02</td>\n",
       "      <td>20</td>\n",
       "      <td>93822</td>\n",
       "      <td>24</td>\n",
       "      <td>165531</td>\n",
       "      <td>44</td>\n",
       "      <td>242401</td>\n",
       "      <td>45</td>\n",
       "      <td>266748</td>\n",
       "      <td>619</td>\n",
       "      <td>581</td>\n",
       "      <td>1338</td>\n",
       "      <td>1294</td>\n",
       "    </tr>\n",
       "    <tr>\n",
       "      <th>2</th>\n",
       "      <td>2019-08-03</td>\n",
       "      <td>24</td>\n",
       "      <td>112473</td>\n",
       "      <td>16</td>\n",
       "      <td>114248</td>\n",
       "      <td>68</td>\n",
       "      <td>354874</td>\n",
       "      <td>61</td>\n",
       "      <td>380996</td>\n",
       "      <td>507</td>\n",
       "      <td>509</td>\n",
       "      <td>1845</td>\n",
       "      <td>1803</td>\n",
       "    </tr>\n",
       "    <tr>\n",
       "      <th>3</th>\n",
       "      <td>2019-08-04</td>\n",
       "      <td>16</td>\n",
       "      <td>70825</td>\n",
       "      <td>17</td>\n",
       "      <td>108571</td>\n",
       "      <td>84</td>\n",
       "      <td>425699</td>\n",
       "      <td>78</td>\n",
       "      <td>489567</td>\n",
       "      <td>717</td>\n",
       "      <td>770</td>\n",
       "      <td>2562</td>\n",
       "      <td>2573</td>\n",
       "    </tr>\n",
       "    <tr>\n",
       "      <th>4</th>\n",
       "      <td>2019-08-05</td>\n",
       "      <td>25</td>\n",
       "      <td>124218</td>\n",
       "      <td>23</td>\n",
       "      <td>92428</td>\n",
       "      <td>109</td>\n",
       "      <td>549917</td>\n",
       "      <td>101</td>\n",
       "      <td>581995</td>\n",
       "      <td>756</td>\n",
       "      <td>707</td>\n",
       "      <td>3318</td>\n",
       "      <td>3280</td>\n",
       "    </tr>\n",
       "  </tbody>\n",
       "</table>\n",
       "</div>"
      ],
      "text/plain": [
       "        date  ordersPerDateA  revenuePerDateA  ordersPerDateB  \\\n",
       "0 2019-08-01              24           148579              21   \n",
       "1 2019-08-02              20            93822              24   \n",
       "2 2019-08-03              24           112473              16   \n",
       "3 2019-08-04              16            70825              17   \n",
       "4 2019-08-05              25           124218              23   \n",
       "\n",
       "   revenuePerDateB  ordersCummulativeA  revenueCummulativeA  \\\n",
       "0           101217                  24               148579   \n",
       "1           165531                  44               242401   \n",
       "2           114248                  68               354874   \n",
       "3           108571                  84               425699   \n",
       "4            92428                 109               549917   \n",
       "\n",
       "   ordersCummulativeB  revenueCummulativeB  visitorsPerDateA  \\\n",
       "0                  21               101217               719   \n",
       "1                  45               266748               619   \n",
       "2                  61               380996               507   \n",
       "3                  78               489567               717   \n",
       "4                 101               581995               756   \n",
       "\n",
       "   visitorsPerDateB  visitorsCummulativeA  visitorsCummulativeB  \n",
       "0               713                   719                   713  \n",
       "1               581                  1338                  1294  \n",
       "2               509                  1845                  1803  \n",
       "3               770                  2562                  2573  \n",
       "4               707                  3318                  3280  "
      ]
     },
     "execution_count": 22,
     "metadata": {},
     "output_type": "execute_result"
    }
   ],
   "source": [
    "# подготовим данные\n",
    "visitorsADaily = visitors[visitors['group'] == 'A'][['date', 'visitors']]\n",
    "visitorsADaily.columns = ['date', 'visitorsPerDateA']\n",
    "\n",
    "visitorsACummulative = visitorsADaily.apply(\n",
    "    lambda x: visitorsADaily[visitorsADaily['date'] <= x['date']].agg(\n",
    "        {'date': 'max', 'visitorsPerDateA': 'sum'}\n",
    "    ),\n",
    "    axis=1,\n",
    ")\n",
    "visitorsACummulative.columns = ['date', 'visitorsCummulativeA']\n",
    "\n",
    "visitorsBDaily = visitors[visitors['group'] == 'B'][['date', 'visitors']]\n",
    "visitorsBDaily.columns = ['date', 'visitorsPerDateB']\n",
    "\n",
    "visitorsBCummulative = visitorsBDaily.apply(\n",
    "    lambda x: visitorsBDaily[visitorsBDaily['date'] <= x['date']].agg(\n",
    "        {'date': 'max', 'visitorsPerDateB': 'sum'}\n",
    "    ),\n",
    "    axis=1,\n",
    ")\n",
    "visitorsBCummulative.columns = ['date', 'visitorsCummulativeB']\n",
    "\n",
    "ordersADaily = (\n",
    "    orders[orders['group'] == 'A'][['date', 'transaction_id', 'visitor_id', 'revenue']]\n",
    "    .groupby('date', as_index=False)\n",
    "    .agg({'transaction_id': pd.Series.nunique, 'revenue': 'sum'})\n",
    ")\n",
    "ordersADaily.columns = ['date', 'ordersPerDateA', 'revenuePerDateA']\n",
    "\n",
    "ordersACummulative = ordersADaily.apply(\n",
    "    lambda x: ordersADaily[ordersADaily['date'] <= x['date']].agg(\n",
    "        {'date': 'max', 'ordersPerDateA': 'sum', 'revenuePerDateA': 'sum'}\n",
    "    ),\n",
    "    axis=1,\n",
    ").sort_values(by=['date'])\n",
    "ordersACummulative.columns = [\n",
    "    'date',\n",
    "    'ordersCummulativeA',\n",
    "    'revenueCummulativeA',\n",
    "]\n",
    "\n",
    "ordersBDaily = (\n",
    "    orders[orders['group'] == 'B'][['date', 'transaction_id', 'visitor_id', 'revenue']]\n",
    "    .groupby('date', as_index=False)\n",
    "    .agg({'transaction_id': pd.Series.nunique, 'revenue': 'sum'})\n",
    ")\n",
    "\n",
    "ordersBDaily.columns = ['date', 'ordersPerDateB', 'revenuePerDateB']\n",
    "\n",
    "ordersBCummulative = ordersBDaily.apply(\n",
    "    lambda x: ordersBDaily[ordersBDaily['date'] <= x['date']].agg(\n",
    "        {'date': 'max', 'ordersPerDateB': 'sum', 'revenuePerDateB': 'sum'}\n",
    "    ),\n",
    "    axis=1,\n",
    ").sort_values(by=['date'])\n",
    "ordersBCummulative.columns = [\n",
    "    'date',\n",
    "    'ordersCummulativeB',\n",
    "    'revenueCummulativeB',\n",
    "]\n",
    "\n",
    "data = (\n",
    "    ordersADaily.merge(\n",
    "        ordersBDaily, left_on='date', right_on='date', how='left'\n",
    "    )\n",
    "    .merge(ordersACummulative, left_on='date', right_on='date', how='left')\n",
    "    .merge(ordersBCummulative, left_on='date', right_on='date', how='left')\n",
    "    .merge(visitorsADaily, left_on='date', right_on='date', how='left')\n",
    "    .merge(visitorsBDaily, left_on='date', right_on='date', how='left')\n",
    "    .merge(visitorsACummulative, left_on='date', right_on='date', how='left')\n",
    "    .merge(visitorsBCummulative, left_on='date', right_on='date', how='left')\n",
    ")\n",
    "\n",
    "data.head()"
   ]
  },
  {
   "cell_type": "code",
   "execution_count": 23,
   "metadata": {},
   "outputs": [],
   "source": [
    "ordersByUsersA = (\n",
    "    orders[orders['group']=='A']\n",
    "    .groupby(by='visitor_id', as_index=False)\n",
    "    .agg({'transaction_id':pd.Series.nunique})\n",
    ")\n",
    "ordersByUsersB = (orders[orders['group']=='B']\n",
    "                  .groupby(by='visitor_id', as_index=False)\n",
    "                  .agg({'transaction_id':pd.Series.nunique}))\n",
    "ordersByUsersA.columns = ['user_id', 'orders']\n",
    "ordersByUsersB.columns = ['user_id', 'orders']\n",
    "\n",
    "sampleA = pd.concat([ordersByUsersA['orders'], \n",
    "                    pd.Series(0, index=np.arange(data['visitorsPerDateA'].sum()-len(ordersByUsersA['orders'])), \n",
    "                              name='orders')], axis=0)\n",
    "sampleB = pd.concat([ordersByUsersB['orders'], \n",
    "                    pd.Series(0, index=np.arange(data['visitorsPerDateB'].sum()-len(ordersByUsersB['orders'])),\n",
    "                              name='orders')], axis=0)"
   ]
  },
  {
   "cell_type": "markdown",
   "metadata": {},
   "source": [
    "Сформируем нулевую и альтернативную гипотезы:\n",
    "\n",
    "**H₀ - статистически значимых различий в среднем количестве заказов между группами нет**\n",
    "\n",
    "**H₁ - статистически значимые различи в среднем количестве заказов между группами есть**"
   ]
  },
  {
   "cell_type": "code",
   "execution_count": 24,
   "metadata": {},
   "outputs": [
    {
     "name": "stdout",
     "output_type": "stream",
     "text": [
      "p-value: 0.01679\n",
      "Относительная разница между средним количество заказов группы B от группы A: 13.81%\n"
     ]
    }
   ],
   "source": [
    "print(\"p-value: {0:.5f}\".format(stats.mannwhitneyu(sampleA, sampleB)[1]))\n",
    "\n",
    "print(\"Относительная разница между средним количество заказов группы B от группы A: {0:.2%}\".format(sampleB.mean()/sampleA.mean()-1))"
   ]
  },
  {
   "cell_type": "markdown",
   "metadata": {},
   "source": [
    "**Вывод:** Среднее количество заказов группы B на 13.81% больше чем в группе А. Показатель p-value 0.01679 на уровне значимости 0.05 является статистически значимым(0.01679 > 0.05) . Поэтому нулевую гипотезу можно отвергнуть."
   ]
  },
  {
   "cell_type": "markdown",
   "metadata": {},
   "source": [
    "**2.11. Посчитайте статистическую значимость различий в среднем чеке заказа между группами по «сырым» данным. Сделайте выводы и предположения.**"
   ]
  },
  {
   "cell_type": "markdown",
   "metadata": {},
   "source": [
    "Сформируем нулевую и альтернативную гипотезы:\n",
    "\n",
    "**H₀ - статистическую значимость различий в среднем чеке заказа между группами по «сырым» данным нет**\n",
    "\n",
    "**H₁ - статистическая значимость различий в среднем чеке заказа между группами по «сырым» данным есть**"
   ]
  },
  {
   "cell_type": "code",
   "execution_count": 25,
   "metadata": {},
   "outputs": [
    {
     "name": "stdout",
     "output_type": "stream",
     "text": [
      "p-value: 0.729\n",
      "Относительный разница между средним количество заказов группы B к группе A: 25.87%\n"
     ]
    }
   ],
   "source": [
    "print(\"p-value: {0:.3f}\".format(stats.mannwhitneyu(orders[orders['group']=='A']['revenue'], \n",
    "                                          orders[orders['group']=='B']['revenue'])[1]))\n",
    "\n",
    "print(\"Относительный разница между средним количество заказов группы B к группе A: {0:.2%}\".format(orders[orders['group']=='B']['revenue']\n",
    "                       .mean()/orders[orders['group']=='A']['revenue'].mean()-1))"
   ]
  },
  {
   "cell_type": "markdown",
   "metadata": {},
   "source": [
    "**Вывод:** Средний чек Группы В на четверть выше чем в Группе А (**25.87%**). Однако p-value: **0.729 > 0.05**. Что подтверждает ранее сделанной вывод о том что скорей всего это аномальные заказы.  Значение p-value не является статистически значимым нулевую гипотезу не отвергаем."
   ]
  },
  {
   "cell_type": "markdown",
   "metadata": {},
   "source": [
    "**2.12. Посчитайте статистическую значимость различий в среднем количестве заказов на посетителя между группами по «очищенным» данным. Сделайте выводы и предположения.**"
   ]
  },
  {
   "cell_type": "code",
   "execution_count": 26,
   "metadata": {},
   "outputs": [],
   "source": [
    "usersWithManyOrders = pd.concat(\n",
    "    [\n",
    "        ordersByUsersA[ordersByUsersA['orders'] > orders_amount[0]]['user_id'],\n",
    "        ordersByUsersB[ordersByUsersB['orders'] > orders_amount[0]]['user_id'],\n",
    "    ],\n",
    "    axis=0,\n",
    ")\n",
    "usersWithExpensiveOrders = orders[orders['revenue'] > orders_price[0]]['visitor_id']\n",
    "\n",
    "# Объединим аномальных пользователей\n",
    "abnormalUsers = (\n",
    "    pd.concat([usersWithManyOrders, usersWithExpensiveOrders], axis=0)\n",
    "    .drop_duplicates()\n",
    "    .sort_values()\n",
    ")"
   ]
  },
  {
   "cell_type": "code",
   "execution_count": 27,
   "metadata": {},
   "outputs": [],
   "source": [
    "sampleAFiltered = pd.concat(\n",
    "    [\n",
    "        ordersByUsersA[\n",
    "            np.logical_not(ordersByUsersA['user_id'].isin(abnormalUsers))\n",
    "        ]['orders'], pd.Series(\n",
    "            0,\n",
    "            index=np.arange(\n",
    "                data['visitorsPerDateA'].sum() - len(ordersByUsersA['orders'])\n",
    "            ),\n",
    "            name='orders',\n",
    "        )\n",
    "    ],\n",
    "    axis=0\n",
    ")\n",
    "\n",
    "sampleBFiltered = pd.concat(\n",
    "    [\n",
    "        ordersByUsersB[\n",
    "            np.logical_not(ordersByUsersB['user_id'].isin(abnormalUsers))\n",
    "        ]['orders'], pd.Series(\n",
    "            0,\n",
    "            index=np.arange(\n",
    "                data['visitorsPerDateB'].sum() - len(ordersByUsersB['orders'])\n",
    "            ),\n",
    "            name='orders',\n",
    "        )\n",
    "    ],\n",
    "    axis=0\n",
    ")"
   ]
  },
  {
   "cell_type": "markdown",
   "metadata": {},
   "source": [
    "Сформируем нулевую и альтернативную гипотезы:\n",
    "\n",
    "**H₀ - статистической значимость различий в среднем количестве заказов на посетителя между группами по «очищенным» данным нет**\n",
    "\n",
    "**H₁ - статистической значимость различий в среднем количестве заказов на посетителя между группами по «очищенным» данным есть**"
   ]
  },
  {
   "cell_type": "code",
   "execution_count": 28,
   "metadata": {},
   "outputs": [
    {
     "name": "stdout",
     "output_type": "stream",
     "text": [
      "p-value: 0.016\n",
      "Относительная разница среднего количества заказов B к A: 0.168\n"
     ]
    }
   ],
   "source": [
    "print('p-value:','{0:.3f}'.format(st.mannwhitneyu(sampleAFiltered, sampleBFiltered)[1]))\n",
    "print('Относительная разница среднего количества заказов B к A:',\n",
    "      '{0:.3f}'.format(sampleBFiltered.mean()/sampleAFiltered.mean()-1)) "
   ]
  },
  {
   "cell_type": "markdown",
   "metadata": {},
   "source": [
    "**Вывод:** Относительная разница среднего количества заказов B к A: **16.8%**. p-value 0.016 < 0.05 поэтому отвергаем нулевую гипотезу."
   ]
  },
  {
   "cell_type": "markdown",
   "metadata": {},
   "source": [
    "**2.13. Посчитайте статистическую значимость различий в среднем чеке заказа между группами по «очищенным» данным. Сделайте выводы и предположения.**"
   ]
  },
  {
   "cell_type": "markdown",
   "metadata": {},
   "source": [
    "Сформируем нулевую и альтернативную гипотезы:\n",
    "\n",
    "**H₀ - статистической значимости различий в среднем чеке заказа между группами по «очищенным» данным нет**\n",
    "\n",
    "**H₁ - статистическая значимость различий в среднем чеке заказа между группами по «очищенным» данным есть**"
   ]
  },
  {
   "cell_type": "code",
   "execution_count": 29,
   "metadata": {},
   "outputs": [
    {
     "name": "stdout",
     "output_type": "stream",
     "text": [
      "p-value:0.835\n",
      "Разница среднего чека B к А-0.006\n"
     ]
    }
   ],
   "source": [
    "print('p-value:'\n",
    "    '{0:.3f}'.format(\n",
    "        stats.mannwhitneyu(\n",
    "            orders[\n",
    "                np.logical_and(\n",
    "                    orders['group'] == 'A',\n",
    "                    np.logical_not(orders['visitor_id'].isin(abnormalUsers)),\n",
    "                )\n",
    "            ]['revenue'],\n",
    "            orders[\n",
    "                np.logical_and(\n",
    "                    orders['group'] == 'B',\n",
    "                    np.logical_not(orders['visitor_id'].isin(abnormalUsers)),\n",
    "                )\n",
    "            ]['revenue'],\n",
    "        )[1]\n",
    "    )\n",
    ")\n",
    "\n",
    "print('Разница среднего чека B к А'\n",
    "\n",
    "    \"{0:.3f}\".format(\n",
    "        orders[\n",
    "            np.logical_and(\n",
    "                orders['group'] == 'B',\n",
    "                np.logical_not(orders['visitor_id'].isin(abnormalUsers)),\n",
    "            )\n",
    "        ]['revenue'].mean()\n",
    "        / orders[\n",
    "            np.logical_and(\n",
    "                orders['group'] == 'A',\n",
    "                np.logical_not(orders['visitor_id'].isin(abnormalUsers)),\n",
    "            )\n",
    "        ]['revenue'].mean()\n",
    "        - 1\n",
    "    )\n",
    ")"
   ]
  },
  {
   "cell_type": "markdown",
   "metadata": {},
   "source": [
    "**Вывод:** Средний чек в Группе А незначительно выше чем в Группе В. на **0.6%** P-value 0.835, что свидетельствует об отсутствии статистически значимых различий. Значение p-value > 0.05 свидетельствует о том, что статистически значимых различий нет, поэтому нулевую гипотезу не отвергаем."
   ]
  },
  {
   "cell_type": "markdown",
   "metadata": {},
   "source": [
    "**2.14.Примите решение по результатам теста и объясните его. Варианты решений:**\n",
    "\n",
    "- Остановить тест, зафиксировать победу одной из групп.\n",
    "- Остановить тест, зафиксировать отсутствие различий между группами.\n",
    "- Продолжить тест."
   ]
  },
  {
   "cell_type": "markdown",
   "metadata": {},
   "source": [
    "Результаты анализа A/B теста показали, что внесение изменений и отказ от варианта A в пользу B следует рассмотреть, поскольку это привело к положительному влиянию на среднее количество заказов с ростом на 16.8%. Это изменение с высокой вероятностью приведет к увеличению общей выручки, особенно учитывая отсутствие значимой разницы в среднем чеке между группами. Продолжение тестирования не представляется целесообразным."
   ]
  },
  {
   "cell_type": "markdown",
   "metadata": {},
   "source": [
    "## Выводы:"
   ]
  },
  {
   "cell_type": "markdown",
   "metadata": {},
   "source": [
    "**Выводы по приоритизации гипотез:**\n",
    "\n",
    "Распределение мест в методиках ICE и RICE различны. В отличии от ICE показатель RICE учитывает охваты, что влияет на приоритизацию.\n",
    "\n",
    "Места по показателю ICE:\n",
    "\n",
    "1. 8 гипотеза\n",
    "2. 0 гипотеза\n",
    "3. 7 гипотеза\n",
    "\n",
    "Места по показателю RICE:\n",
    "1. 7 гипотеза\n",
    "2. 2 гипотеза\n",
    "3. 0 гипотеза\n",
    "\n",
    "На последнем месте в обоих случаях Гипотез 4.\n",
    "\n",
    "Исходя из распределения места можно сделать вывод что наиболее приоритетные Гипотезы 0 и 7 так как они вошли в ТОП-3 и в ICE, и в RICE.\n",
    "\n",
    "**Выводы по анализу A/B-теста:**\n",
    "\n",
    "- По \"сырым данным\" Среднее количество заказов группы B на **13.81%** больше чем в группе А.\n",
    "- По \"сырым данным\" средний чек Группы В на четверть выше чем в Группе А (**25.87%**)\n",
    "- Средний чек в очищенных данных по Группе А незначительно выше чем в Группе В. на **0.6%** P-value 0.835, что свидетельствует об отсутствии статистически значимых различий.\n",
    "- Относительная разница среднего количества заказов B к A по очищенным данным: **16.8%**. p-value 0.016 < 0.05 поэтому отвергаем нулевую гипотезу.\n",
    "\n",
    "\n",
    "\n",
    "Различий в среднем чеке нет, но статистически значимые различия конверсии, как по \"сырым\", так и по \"очищенным\" данным в пользу группы \"В\".\n",
    "\n",
    "Относительный прирост конверсии группы B = 15.98%\n",
    "Относительный прирост различий в среднем чеке группы B = 28.66%\n",
    "Относительный прирост конверсии по \"очищенным\" данным группы B = 17.39%"
   ]
  }
 ],
 "metadata": {
  "ExecuteTimeLog": [
   {
    "duration": 3,
    "start_time": "2024-03-13T19:01:54.052Z"
   },
   {
    "duration": 1462,
    "start_time": "2024-03-14T11:03:02.066Z"
   },
   {
    "duration": 138,
    "start_time": "2024-03-14T11:04:00.154Z"
   },
   {
    "duration": 78,
    "start_time": "2024-03-14T11:04:34.374Z"
   },
   {
    "duration": 31,
    "start_time": "2024-03-14T11:06:22.131Z"
   },
   {
    "duration": 176,
    "start_time": "2024-03-14T11:17:40.413Z"
   },
   {
    "duration": 92,
    "start_time": "2024-03-14T11:17:46.896Z"
   },
   {
    "duration": 94,
    "start_time": "2024-03-14T11:17:51.446Z"
   },
   {
    "duration": 92,
    "start_time": "2024-03-14T11:17:58.086Z"
   },
   {
    "duration": 90,
    "start_time": "2024-03-14T11:18:28.862Z"
   },
   {
    "duration": 105,
    "start_time": "2024-03-14T11:18:39.332Z"
   },
   {
    "duration": 88,
    "start_time": "2024-03-14T11:18:42.691Z"
   },
   {
    "duration": 89,
    "start_time": "2024-03-14T11:19:27.992Z"
   },
   {
    "duration": 94,
    "start_time": "2024-03-14T11:19:41.046Z"
   },
   {
    "duration": 95,
    "start_time": "2024-03-14T11:20:01.902Z"
   },
   {
    "duration": 95,
    "start_time": "2024-03-14T11:20:05.591Z"
   },
   {
    "duration": 8,
    "start_time": "2024-03-14T11:23:37.754Z"
   },
   {
    "duration": 92,
    "start_time": "2024-03-14T11:24:30.869Z"
   },
   {
    "duration": 91,
    "start_time": "2024-03-14T11:24:41.336Z"
   },
   {
    "duration": 102,
    "start_time": "2024-03-14T11:26:17.213Z"
   },
   {
    "duration": 17,
    "start_time": "2024-03-14T11:27:55.404Z"
   },
   {
    "duration": 102,
    "start_time": "2024-03-14T11:33:53.093Z"
   },
   {
    "duration": 103,
    "start_time": "2024-03-14T11:39:36.255Z"
   },
   {
    "duration": 13,
    "start_time": "2024-03-14T11:45:28.497Z"
   },
   {
    "duration": 1600,
    "start_time": "2024-03-14T11:45:35.868Z"
   },
   {
    "duration": 10,
    "start_time": "2024-03-14T12:07:03.928Z"
   },
   {
    "duration": 10,
    "start_time": "2024-03-14T12:07:12.814Z"
   },
   {
    "duration": 8,
    "start_time": "2024-03-14T12:07:29.233Z"
   },
   {
    "duration": 7,
    "start_time": "2024-03-14T12:07:37.890Z"
   },
   {
    "duration": 8,
    "start_time": "2024-03-14T12:07:44.733Z"
   },
   {
    "duration": 102,
    "start_time": "2024-03-14T12:09:28.223Z"
   },
   {
    "duration": 9,
    "start_time": "2024-03-14T12:09:37.827Z"
   },
   {
    "duration": 7,
    "start_time": "2024-03-14T12:13:32.715Z"
   },
   {
    "duration": 1590,
    "start_time": "2024-03-14T12:16:47.897Z"
   },
   {
    "duration": 1232,
    "start_time": "2024-03-14T12:17:00.066Z"
   },
   {
    "duration": 108,
    "start_time": "2024-03-14T12:17:01.301Z"
   },
   {
    "duration": 19,
    "start_time": "2024-03-14T12:17:01.410Z"
   },
   {
    "duration": 47,
    "start_time": "2024-03-14T12:17:01.431Z"
   },
   {
    "duration": 55,
    "start_time": "2024-03-14T12:17:01.480Z"
   },
   {
    "duration": 145,
    "start_time": "2024-03-14T12:17:01.537Z"
   },
   {
    "duration": 12,
    "start_time": "2024-03-14T12:18:06.918Z"
   },
   {
    "duration": 13,
    "start_time": "2024-03-14T12:18:17.089Z"
   },
   {
    "duration": 1144,
    "start_time": "2024-03-14T12:18:27.235Z"
   },
   {
    "duration": 97,
    "start_time": "2024-03-14T12:18:28.388Z"
   },
   {
    "duration": 15,
    "start_time": "2024-03-14T12:18:28.486Z"
   },
   {
    "duration": 11,
    "start_time": "2024-03-14T12:18:28.503Z"
   },
   {
    "duration": 10,
    "start_time": "2024-03-14T12:18:28.516Z"
   },
   {
    "duration": 11,
    "start_time": "2024-03-14T12:18:28.528Z"
   },
   {
    "duration": 1717,
    "start_time": "2024-03-14T12:20:30.547Z"
   },
   {
    "duration": 4,
    "start_time": "2024-03-14T12:20:39.902Z"
   },
   {
    "duration": 11,
    "start_time": "2024-03-14T12:20:47.833Z"
   },
   {
    "duration": 12,
    "start_time": "2024-03-14T12:22:38.873Z"
   },
   {
    "duration": 1245,
    "start_time": "2024-03-14T12:23:26.167Z"
   },
   {
    "duration": 98,
    "start_time": "2024-03-14T12:23:27.414Z"
   },
   {
    "duration": 18,
    "start_time": "2024-03-14T12:23:27.513Z"
   },
   {
    "duration": 15,
    "start_time": "2024-03-14T12:23:27.533Z"
   },
   {
    "duration": 12,
    "start_time": "2024-03-14T12:23:27.550Z"
   },
   {
    "duration": 26,
    "start_time": "2024-03-14T12:23:27.564Z"
   },
   {
    "duration": 11,
    "start_time": "2024-03-14T12:23:27.592Z"
   },
   {
    "duration": 11,
    "start_time": "2024-03-14T12:24:55.399Z"
   },
   {
    "duration": 13,
    "start_time": "2024-03-14T12:25:17.328Z"
   },
   {
    "duration": 1166,
    "start_time": "2024-03-14T12:27:46.645Z"
   },
   {
    "duration": 99,
    "start_time": "2024-03-14T12:27:47.813Z"
   },
   {
    "duration": 16,
    "start_time": "2024-03-14T12:27:47.913Z"
   },
   {
    "duration": 15,
    "start_time": "2024-03-14T12:27:47.931Z"
   },
   {
    "duration": 9,
    "start_time": "2024-03-14T12:27:47.948Z"
   },
   {
    "duration": 28,
    "start_time": "2024-03-14T12:27:47.958Z"
   },
   {
    "duration": 13,
    "start_time": "2024-03-14T12:27:47.987Z"
   },
   {
    "duration": 139,
    "start_time": "2024-03-14T12:29:57.358Z"
   },
   {
    "duration": 122,
    "start_time": "2024-03-14T12:41:18.093Z"
   },
   {
    "duration": 1229,
    "start_time": "2024-03-14T12:43:06.780Z"
   },
   {
    "duration": 99,
    "start_time": "2024-03-14T12:43:08.012Z"
   },
   {
    "duration": 19,
    "start_time": "2024-03-14T12:43:08.112Z"
   },
   {
    "duration": 23,
    "start_time": "2024-03-14T12:43:08.133Z"
   },
   {
    "duration": 10,
    "start_time": "2024-03-14T12:43:08.159Z"
   },
   {
    "duration": 23,
    "start_time": "2024-03-14T12:43:08.170Z"
   },
   {
    "duration": 12,
    "start_time": "2024-03-14T12:43:08.195Z"
   },
   {
    "duration": 1238,
    "start_time": "2024-03-14T13:15:17.182Z"
   },
   {
    "duration": 101,
    "start_time": "2024-03-14T13:15:18.422Z"
   },
   {
    "duration": 22,
    "start_time": "2024-03-14T13:15:18.525Z"
   },
   {
    "duration": 30,
    "start_time": "2024-03-14T13:15:18.549Z"
   },
   {
    "duration": 14,
    "start_time": "2024-03-14T13:15:18.582Z"
   },
   {
    "duration": 22,
    "start_time": "2024-03-14T13:15:18.598Z"
   },
   {
    "duration": 14,
    "start_time": "2024-03-14T13:15:18.622Z"
   },
   {
    "duration": 165,
    "start_time": "2024-03-14T13:15:18.638Z"
   },
   {
    "duration": 31,
    "start_time": "2024-03-14T13:16:40.684Z"
   },
   {
    "duration": 34,
    "start_time": "2024-03-14T13:17:10.735Z"
   },
   {
    "duration": 12,
    "start_time": "2024-03-14T13:24:50.102Z"
   },
   {
    "duration": 33,
    "start_time": "2024-03-14T13:29:46.017Z"
   },
   {
    "duration": 1216,
    "start_time": "2024-03-14T13:29:56.770Z"
   },
   {
    "duration": 97,
    "start_time": "2024-03-14T13:29:57.987Z"
   },
   {
    "duration": 17,
    "start_time": "2024-03-14T13:29:58.085Z"
   },
   {
    "duration": 13,
    "start_time": "2024-03-14T13:29:58.104Z"
   },
   {
    "duration": 26,
    "start_time": "2024-03-14T13:29:58.118Z"
   },
   {
    "duration": 16,
    "start_time": "2024-03-14T13:29:58.145Z"
   },
   {
    "duration": 20,
    "start_time": "2024-03-14T13:29:58.162Z"
   },
   {
    "duration": 125,
    "start_time": "2024-03-14T13:29:58.184Z"
   },
   {
    "duration": 15,
    "start_time": "2024-03-14T13:30:18.690Z"
   },
   {
    "duration": 18,
    "start_time": "2024-03-14T13:30:51.812Z"
   },
   {
    "duration": 10,
    "start_time": "2024-03-14T13:31:07.052Z"
   },
   {
    "duration": 1214,
    "start_time": "2024-03-14T13:31:18.177Z"
   },
   {
    "duration": 98,
    "start_time": "2024-03-14T13:31:19.393Z"
   },
   {
    "duration": 17,
    "start_time": "2024-03-14T13:31:19.492Z"
   },
   {
    "duration": 12,
    "start_time": "2024-03-14T13:31:19.511Z"
   },
   {
    "duration": 10,
    "start_time": "2024-03-14T13:31:19.525Z"
   },
   {
    "duration": 3,
    "start_time": "2024-03-14T13:31:19.537Z"
   },
   {
    "duration": 41,
    "start_time": "2024-03-14T13:31:19.541Z"
   },
   {
    "duration": 13,
    "start_time": "2024-03-14T13:31:19.584Z"
   },
   {
    "duration": 8,
    "start_time": "2024-03-14T13:31:19.598Z"
   },
   {
    "duration": 116,
    "start_time": "2024-03-14T13:31:19.608Z"
   },
   {
    "duration": 2,
    "start_time": "2024-03-14T13:31:36.973Z"
   },
   {
    "duration": 2,
    "start_time": "2024-03-14T13:31:39.989Z"
   },
   {
    "duration": 10,
    "start_time": "2024-03-14T13:31:43.056Z"
   },
   {
    "duration": 1203,
    "start_time": "2024-03-14T13:31:51.491Z"
   },
   {
    "duration": 99,
    "start_time": "2024-03-14T13:31:52.697Z"
   },
   {
    "duration": 17,
    "start_time": "2024-03-14T13:31:52.798Z"
   },
   {
    "duration": 14,
    "start_time": "2024-03-14T13:31:52.817Z"
   },
   {
    "duration": 13,
    "start_time": "2024-03-14T13:31:52.833Z"
   },
   {
    "duration": 33,
    "start_time": "2024-03-14T13:31:52.848Z"
   },
   {
    "duration": 13,
    "start_time": "2024-03-14T13:31:52.882Z"
   },
   {
    "duration": 12,
    "start_time": "2024-03-14T13:31:52.896Z"
   },
   {
    "duration": 22,
    "start_time": "2024-03-14T13:31:52.910Z"
   },
   {
    "duration": 154,
    "start_time": "2024-03-14T13:31:52.933Z"
   },
   {
    "duration": 1111,
    "start_time": "2024-03-14T13:33:04.930Z"
   },
   {
    "duration": 95,
    "start_time": "2024-03-14T13:33:06.043Z"
   },
   {
    "duration": 16,
    "start_time": "2024-03-14T13:33:06.140Z"
   },
   {
    "duration": 12,
    "start_time": "2024-03-14T13:33:06.158Z"
   },
   {
    "duration": 12,
    "start_time": "2024-03-14T13:33:06.172Z"
   },
   {
    "duration": 13,
    "start_time": "2024-03-14T13:33:06.186Z"
   },
   {
    "duration": 28,
    "start_time": "2024-03-14T13:33:06.201Z"
   },
   {
    "duration": 16,
    "start_time": "2024-03-14T13:33:06.230Z"
   },
   {
    "duration": 37,
    "start_time": "2024-03-14T13:33:06.247Z"
   },
   {
    "duration": 125,
    "start_time": "2024-03-14T13:33:06.286Z"
   },
   {
    "duration": 17,
    "start_time": "2024-03-14T13:33:28.092Z"
   },
   {
    "duration": 12,
    "start_time": "2024-03-14T13:33:31.669Z"
   },
   {
    "duration": 10,
    "start_time": "2024-03-14T13:34:44.858Z"
   },
   {
    "duration": 13,
    "start_time": "2024-03-14T13:34:46.282Z"
   },
   {
    "duration": 1170,
    "start_time": "2024-03-14T13:34:55.561Z"
   },
   {
    "duration": 98,
    "start_time": "2024-03-14T13:34:56.733Z"
   },
   {
    "duration": 17,
    "start_time": "2024-03-14T13:34:56.832Z"
   },
   {
    "duration": 14,
    "start_time": "2024-03-14T13:34:56.851Z"
   },
   {
    "duration": 10,
    "start_time": "2024-03-14T13:34:56.866Z"
   },
   {
    "duration": 17,
    "start_time": "2024-03-14T13:34:56.877Z"
   },
   {
    "duration": 16,
    "start_time": "2024-03-14T13:34:56.895Z"
   },
   {
    "duration": 21,
    "start_time": "2024-03-14T13:34:56.912Z"
   },
   {
    "duration": 23,
    "start_time": "2024-03-14T13:34:56.935Z"
   },
   {
    "duration": 121,
    "start_time": "2024-03-14T13:34:56.960Z"
   },
   {
    "duration": 13,
    "start_time": "2024-03-14T13:35:08.109Z"
   },
   {
    "duration": 4,
    "start_time": "2024-03-14T13:35:09.331Z"
   },
   {
    "duration": 4,
    "start_time": "2024-03-14T13:36:49.856Z"
   },
   {
    "duration": 1217,
    "start_time": "2024-03-14T13:37:01.013Z"
   },
   {
    "duration": 99,
    "start_time": "2024-03-14T13:37:02.232Z"
   },
   {
    "duration": 18,
    "start_time": "2024-03-14T13:37:02.332Z"
   },
   {
    "duration": 33,
    "start_time": "2024-03-14T13:37:02.352Z"
   },
   {
    "duration": 35,
    "start_time": "2024-03-14T13:37:02.387Z"
   },
   {
    "duration": 47,
    "start_time": "2024-03-14T13:37:02.424Z"
   },
   {
    "duration": 43,
    "start_time": "2024-03-14T13:37:02.473Z"
   },
   {
    "duration": 24,
    "start_time": "2024-03-14T13:37:02.518Z"
   },
   {
    "duration": 137,
    "start_time": "2024-03-14T13:37:02.544Z"
   },
   {
    "duration": 11,
    "start_time": "2024-03-14T13:37:17.674Z"
   },
   {
    "duration": 1209,
    "start_time": "2024-03-14T13:37:24.171Z"
   },
   {
    "duration": 97,
    "start_time": "2024-03-14T13:37:25.382Z"
   },
   {
    "duration": 16,
    "start_time": "2024-03-14T13:37:25.481Z"
   },
   {
    "duration": 13,
    "start_time": "2024-03-14T13:37:25.499Z"
   },
   {
    "duration": 10,
    "start_time": "2024-03-14T13:37:25.514Z"
   },
   {
    "duration": 34,
    "start_time": "2024-03-14T13:37:25.526Z"
   },
   {
    "duration": 21,
    "start_time": "2024-03-14T13:37:25.562Z"
   },
   {
    "duration": 19,
    "start_time": "2024-03-14T13:37:25.584Z"
   },
   {
    "duration": 122,
    "start_time": "2024-03-14T13:37:25.604Z"
   },
   {
    "duration": 12,
    "start_time": "2024-03-14T13:38:01.820Z"
   },
   {
    "duration": 12,
    "start_time": "2024-03-14T13:38:06.649Z"
   },
   {
    "duration": 10,
    "start_time": "2024-03-14T13:38:36.827Z"
   },
   {
    "duration": 12,
    "start_time": "2024-03-14T13:38:37.987Z"
   },
   {
    "duration": 29,
    "start_time": "2024-03-14T14:10:54.335Z"
   },
   {
    "duration": 1198,
    "start_time": "2024-03-14T14:11:08.783Z"
   },
   {
    "duration": 97,
    "start_time": "2024-03-14T14:11:09.983Z"
   },
   {
    "duration": 17,
    "start_time": "2024-03-14T14:11:10.081Z"
   },
   {
    "duration": 20,
    "start_time": "2024-03-14T14:11:10.100Z"
   },
   {
    "duration": 26,
    "start_time": "2024-03-14T14:11:10.121Z"
   },
   {
    "duration": 18,
    "start_time": "2024-03-14T14:11:10.149Z"
   },
   {
    "duration": 33,
    "start_time": "2024-03-14T14:11:10.169Z"
   },
   {
    "duration": 12,
    "start_time": "2024-03-14T14:11:10.204Z"
   },
   {
    "duration": 19,
    "start_time": "2024-03-14T14:11:10.218Z"
   },
   {
    "duration": 129,
    "start_time": "2024-03-14T14:11:10.239Z"
   },
   {
    "duration": 301,
    "start_time": "2024-03-14T14:11:38.376Z"
   },
   {
    "duration": 287,
    "start_time": "2024-03-14T14:14:49.650Z"
   },
   {
    "duration": 272,
    "start_time": "2024-03-14T14:36:23.776Z"
   },
   {
    "duration": 277,
    "start_time": "2024-03-14T14:36:39.269Z"
   },
   {
    "duration": 259,
    "start_time": "2024-03-14T14:37:34.801Z"
   },
   {
    "duration": 262,
    "start_time": "2024-03-14T14:37:44.984Z"
   },
   {
    "duration": 516,
    "start_time": "2024-03-14T14:38:01.915Z"
   },
   {
    "duration": 1154,
    "start_time": "2024-03-14T14:38:36.502Z"
   },
   {
    "duration": 94,
    "start_time": "2024-03-14T14:38:37.658Z"
   },
   {
    "duration": 15,
    "start_time": "2024-03-14T14:38:37.754Z"
   },
   {
    "duration": 15,
    "start_time": "2024-03-14T14:38:37.770Z"
   },
   {
    "duration": 10,
    "start_time": "2024-03-14T14:38:37.787Z"
   },
   {
    "duration": 19,
    "start_time": "2024-03-14T14:38:37.798Z"
   },
   {
    "duration": 39,
    "start_time": "2024-03-14T14:38:37.819Z"
   },
   {
    "duration": 40,
    "start_time": "2024-03-14T14:38:37.859Z"
   },
   {
    "duration": 500,
    "start_time": "2024-03-14T14:38:37.901Z"
   },
   {
    "duration": 1266,
    "start_time": "2024-03-14T15:34:03.342Z"
   },
   {
    "duration": 98,
    "start_time": "2024-03-14T15:34:04.610Z"
   },
   {
    "duration": 17,
    "start_time": "2024-03-14T15:34:04.711Z"
   },
   {
    "duration": 13,
    "start_time": "2024-03-14T15:34:04.730Z"
   },
   {
    "duration": 26,
    "start_time": "2024-03-14T15:34:04.744Z"
   },
   {
    "duration": 18,
    "start_time": "2024-03-14T15:34:04.772Z"
   },
   {
    "duration": 39,
    "start_time": "2024-03-14T15:34:04.792Z"
   },
   {
    "duration": 12,
    "start_time": "2024-03-14T15:34:04.833Z"
   },
   {
    "duration": 545,
    "start_time": "2024-03-14T15:34:04.846Z"
   },
   {
    "duration": 221,
    "start_time": "2024-03-14T15:34:05.393Z"
   },
   {
    "duration": 458,
    "start_time": "2024-03-14T15:54:14.224Z"
   },
   {
    "duration": 1238,
    "start_time": "2024-03-14T15:54:28.467Z"
   },
   {
    "duration": 95,
    "start_time": "2024-03-14T15:54:29.707Z"
   },
   {
    "duration": 16,
    "start_time": "2024-03-14T15:54:29.803Z"
   },
   {
    "duration": 11,
    "start_time": "2024-03-14T15:54:29.821Z"
   },
   {
    "duration": 9,
    "start_time": "2024-03-14T15:54:29.833Z"
   },
   {
    "duration": 13,
    "start_time": "2024-03-14T15:54:29.844Z"
   },
   {
    "duration": 14,
    "start_time": "2024-03-14T15:54:29.879Z"
   },
   {
    "duration": 12,
    "start_time": "2024-03-14T15:54:29.895Z"
   },
   {
    "duration": 529,
    "start_time": "2024-03-14T15:54:29.909Z"
   },
   {
    "duration": 13,
    "start_time": "2024-03-14T15:54:47.916Z"
   },
   {
    "duration": 1233,
    "start_time": "2024-03-14T15:54:57.770Z"
   },
   {
    "duration": 96,
    "start_time": "2024-03-14T15:54:59.006Z"
   },
   {
    "duration": 17,
    "start_time": "2024-03-14T15:54:59.104Z"
   },
   {
    "duration": 9,
    "start_time": "2024-03-14T15:54:59.123Z"
   },
   {
    "duration": 11,
    "start_time": "2024-03-14T15:54:59.134Z"
   },
   {
    "duration": 39,
    "start_time": "2024-03-14T15:54:59.147Z"
   },
   {
    "duration": 19,
    "start_time": "2024-03-14T15:54:59.187Z"
   },
   {
    "duration": 12,
    "start_time": "2024-03-14T15:54:59.208Z"
   },
   {
    "duration": 134,
    "start_time": "2024-03-14T15:54:59.222Z"
   },
   {
    "duration": 12,
    "start_time": "2024-03-14T15:55:36.901Z"
   },
   {
    "duration": 12,
    "start_time": "2024-03-14T15:55:38.691Z"
   },
   {
    "duration": 513,
    "start_time": "2024-03-14T15:55:43.827Z"
   },
   {
    "duration": 461,
    "start_time": "2024-03-14T15:57:31.123Z"
   },
   {
    "duration": 1225,
    "start_time": "2024-03-14T15:59:30.368Z"
   },
   {
    "duration": 96,
    "start_time": "2024-03-14T15:59:31.595Z"
   },
   {
    "duration": 17,
    "start_time": "2024-03-14T15:59:31.692Z"
   },
   {
    "duration": 58,
    "start_time": "2024-03-14T15:59:31.711Z"
   },
   {
    "duration": 15,
    "start_time": "2024-03-14T15:59:31.771Z"
   },
   {
    "duration": 31,
    "start_time": "2024-03-14T15:59:31.787Z"
   },
   {
    "duration": 32,
    "start_time": "2024-03-14T15:59:31.820Z"
   },
   {
    "duration": 24,
    "start_time": "2024-03-14T15:59:31.853Z"
   },
   {
    "duration": 589,
    "start_time": "2024-03-14T15:59:31.879Z"
   },
   {
    "duration": 466,
    "start_time": "2024-03-14T16:07:19.826Z"
   },
   {
    "duration": 458,
    "start_time": "2024-03-14T16:07:29.103Z"
   },
   {
    "duration": 462,
    "start_time": "2024-03-14T16:07:42.832Z"
   },
   {
    "duration": 483,
    "start_time": "2024-03-14T16:08:01.509Z"
   },
   {
    "duration": 446,
    "start_time": "2024-03-14T16:08:41.449Z"
   },
   {
    "duration": 1154,
    "start_time": "2024-03-14T16:08:55.452Z"
   },
   {
    "duration": 110,
    "start_time": "2024-03-14T16:08:56.609Z"
   },
   {
    "duration": 16,
    "start_time": "2024-03-14T16:08:56.721Z"
   },
   {
    "duration": 31,
    "start_time": "2024-03-14T16:08:56.738Z"
   },
   {
    "duration": 19,
    "start_time": "2024-03-14T16:08:56.771Z"
   },
   {
    "duration": 37,
    "start_time": "2024-03-14T16:08:56.792Z"
   },
   {
    "duration": 40,
    "start_time": "2024-03-14T16:08:56.830Z"
   },
   {
    "duration": 13,
    "start_time": "2024-03-14T16:08:56.871Z"
   },
   {
    "duration": 594,
    "start_time": "2024-03-14T16:08:56.886Z"
   },
   {
    "duration": 504,
    "start_time": "2024-03-14T16:09:03.589Z"
   },
   {
    "duration": 499,
    "start_time": "2024-03-14T16:09:09.485Z"
   },
   {
    "duration": 508,
    "start_time": "2024-03-14T16:09:14.681Z"
   },
   {
    "duration": 174,
    "start_time": "2024-03-14T16:09:52.989Z"
   },
   {
    "duration": 237,
    "start_time": "2024-03-14T16:10:16.227Z"
   },
   {
    "duration": 423,
    "start_time": "2024-03-14T16:11:22.765Z"
   },
   {
    "duration": 251,
    "start_time": "2024-03-14T16:11:30.417Z"
   },
   {
    "duration": 285,
    "start_time": "2024-03-14T16:12:47.103Z"
   },
   {
    "duration": 305,
    "start_time": "2024-03-14T16:13:23.925Z"
   },
   {
    "duration": 375,
    "start_time": "2024-03-14T16:16:41.366Z"
   },
   {
    "duration": 327,
    "start_time": "2024-03-14T16:16:50.738Z"
   },
   {
    "duration": 238,
    "start_time": "2024-03-14T16:17:33.090Z"
   },
   {
    "duration": 272,
    "start_time": "2024-03-14T17:02:20.009Z"
   },
   {
    "duration": 155,
    "start_time": "2024-03-14T17:02:43.853Z"
   },
   {
    "duration": 375,
    "start_time": "2024-03-14T17:03:11.778Z"
   },
   {
    "duration": 390,
    "start_time": "2024-03-14T17:03:25.058Z"
   },
   {
    "duration": 357,
    "start_time": "2024-03-14T17:03:30.768Z"
   },
   {
    "duration": 454,
    "start_time": "2024-03-14T17:04:10.384Z"
   },
   {
    "duration": 98,
    "start_time": "2024-03-14T17:14:57.589Z"
   },
   {
    "duration": 126,
    "start_time": "2024-03-14T17:15:30.029Z"
   },
   {
    "duration": 141,
    "start_time": "2024-03-14T17:22:12.375Z"
   },
   {
    "duration": 177,
    "start_time": "2024-03-14T17:22:24.175Z"
   },
   {
    "duration": 10,
    "start_time": "2024-03-14T17:33:01.211Z"
   },
   {
    "duration": 16,
    "start_time": "2024-03-14T17:33:43.472Z"
   },
   {
    "duration": 13,
    "start_time": "2024-03-14T17:34:01.878Z"
   },
   {
    "duration": 279,
    "start_time": "2024-03-14T17:34:12.240Z"
   },
   {
    "duration": 164,
    "start_time": "2024-03-14T17:34:35.110Z"
   },
   {
    "duration": 168,
    "start_time": "2024-03-14T17:34:53.524Z"
   },
   {
    "duration": 181,
    "start_time": "2024-03-14T17:35:06.250Z"
   },
   {
    "duration": 5,
    "start_time": "2024-03-14T17:35:38.028Z"
   },
   {
    "duration": 4,
    "start_time": "2024-03-14T17:37:45.767Z"
   },
   {
    "duration": 4,
    "start_time": "2024-03-14T17:39:03.663Z"
   },
   {
    "duration": 5,
    "start_time": "2024-03-14T17:39:13.538Z"
   },
   {
    "duration": 4,
    "start_time": "2024-03-14T17:40:53.890Z"
   },
   {
    "duration": 158,
    "start_time": "2024-03-14T17:41:50.438Z"
   },
   {
    "duration": 177,
    "start_time": "2024-03-14T17:42:03.994Z"
   },
   {
    "duration": 187,
    "start_time": "2024-03-14T17:42:20.975Z"
   },
   {
    "duration": 192,
    "start_time": "2024-03-14T17:42:54.627Z"
   },
   {
    "duration": 188,
    "start_time": "2024-03-14T17:50:46.599Z"
   },
   {
    "duration": 5,
    "start_time": "2024-03-14T17:51:28.271Z"
   },
   {
    "duration": 186,
    "start_time": "2024-03-14T17:52:12.760Z"
   },
   {
    "duration": 251,
    "start_time": "2024-03-14T17:52:24.273Z"
   },
   {
    "duration": 187,
    "start_time": "2024-03-14T17:52:28.553Z"
   },
   {
    "duration": 171,
    "start_time": "2024-03-14T17:53:06.989Z"
   },
   {
    "duration": 183,
    "start_time": "2024-03-14T17:53:10.844Z"
   },
   {
    "duration": 149,
    "start_time": "2024-03-14T17:53:20.402Z"
   },
   {
    "duration": 157,
    "start_time": "2024-03-14T17:53:48.678Z"
   },
   {
    "duration": 190,
    "start_time": "2024-03-14T17:54:18.886Z"
   },
   {
    "duration": 195,
    "start_time": "2024-03-14T17:55:58.938Z"
   },
   {
    "duration": 1183,
    "start_time": "2024-03-14T17:56:10.692Z"
   },
   {
    "duration": 221,
    "start_time": "2024-03-14T17:56:38.429Z"
   },
   {
    "duration": 3,
    "start_time": "2024-03-14T17:58:18.997Z"
   },
   {
    "duration": 5,
    "start_time": "2024-03-14T17:58:21.482Z"
   },
   {
    "duration": 3,
    "start_time": "2024-03-14T17:58:35.243Z"
   },
   {
    "duration": 5,
    "start_time": "2024-03-14T17:58:37.142Z"
   },
   {
    "duration": 117,
    "start_time": "2024-03-14T18:10:08.094Z"
   },
   {
    "duration": 117,
    "start_time": "2024-03-14T18:11:02.024Z"
   },
   {
    "duration": 222,
    "start_time": "2024-03-14T18:11:34.946Z"
   },
   {
    "duration": 146,
    "start_time": "2024-03-14T18:12:20.243Z"
   },
   {
    "duration": 27,
    "start_time": "2024-03-14T18:13:02.233Z"
   },
   {
    "duration": 26,
    "start_time": "2024-03-14T18:14:02.432Z"
   },
   {
    "duration": 31,
    "start_time": "2024-03-14T18:14:40.067Z"
   },
   {
    "duration": 24,
    "start_time": "2024-03-14T18:14:45.273Z"
   },
   {
    "duration": 11,
    "start_time": "2024-03-14T18:15:16.924Z"
   },
   {
    "duration": 11,
    "start_time": "2024-03-14T18:15:40.793Z"
   },
   {
    "duration": 10,
    "start_time": "2024-03-14T18:16:25.647Z"
   },
   {
    "duration": 12,
    "start_time": "2024-03-14T18:16:48.635Z"
   },
   {
    "duration": 16,
    "start_time": "2024-03-14T18:20:02.526Z"
   },
   {
    "duration": 1142,
    "start_time": "2024-03-14T18:20:27.435Z"
   },
   {
    "duration": 100,
    "start_time": "2024-03-14T18:20:28.578Z"
   },
   {
    "duration": 16,
    "start_time": "2024-03-14T18:20:28.679Z"
   },
   {
    "duration": 8,
    "start_time": "2024-03-14T18:20:28.697Z"
   },
   {
    "duration": 26,
    "start_time": "2024-03-14T18:20:28.708Z"
   },
   {
    "duration": 14,
    "start_time": "2024-03-14T18:20:28.737Z"
   },
   {
    "duration": 37,
    "start_time": "2024-03-14T18:20:28.753Z"
   },
   {
    "duration": 31,
    "start_time": "2024-03-14T18:20:28.792Z"
   },
   {
    "duration": 580,
    "start_time": "2024-03-14T18:20:28.824Z"
   },
   {
    "duration": 254,
    "start_time": "2024-03-14T18:20:29.405Z"
   },
   {
    "duration": 368,
    "start_time": "2024-03-14T18:20:29.661Z"
   },
   {
    "duration": 280,
    "start_time": "2024-03-14T18:20:30.030Z"
   },
   {
    "duration": 338,
    "start_time": "2024-03-14T18:20:30.311Z"
   },
   {
    "duration": 182,
    "start_time": "2024-03-14T18:20:30.652Z"
   },
   {
    "duration": 6,
    "start_time": "2024-03-14T18:20:30.836Z"
   },
   {
    "duration": 238,
    "start_time": "2024-03-14T18:20:30.843Z"
   },
   {
    "duration": 264,
    "start_time": "2024-03-14T18:20:31.083Z"
   },
   {
    "duration": 5,
    "start_time": "2024-03-14T18:20:31.349Z"
   },
   {
    "duration": 320,
    "start_time": "2024-03-14T18:20:31.355Z"
   },
   {
    "duration": 182,
    "start_time": "2024-03-14T18:20:31.680Z"
   },
   {
    "duration": 159,
    "start_time": "2024-03-14T18:20:31.864Z"
   },
   {
    "duration": 115,
    "start_time": "2024-03-14T18:20:32.024Z"
   },
   {
    "duration": 118,
    "start_time": "2024-03-14T18:20:32.140Z"
   },
   {
    "duration": 10,
    "start_time": "2024-03-14T18:24:43.613Z"
   },
   {
    "duration": 8,
    "start_time": "2024-03-14T18:24:53.835Z"
   },
   {
    "duration": 1303,
    "start_time": "2024-03-14T18:25:07.460Z"
   },
   {
    "duration": 101,
    "start_time": "2024-03-14T18:25:08.766Z"
   },
   {
    "duration": 18,
    "start_time": "2024-03-14T18:25:08.870Z"
   },
   {
    "duration": 15,
    "start_time": "2024-03-14T18:25:08.890Z"
   },
   {
    "duration": 9,
    "start_time": "2024-03-14T18:25:08.907Z"
   },
   {
    "duration": 16,
    "start_time": "2024-03-14T18:25:08.918Z"
   },
   {
    "duration": 27,
    "start_time": "2024-03-14T18:25:08.936Z"
   },
   {
    "duration": 21,
    "start_time": "2024-03-14T18:25:08.964Z"
   },
   {
    "duration": 658,
    "start_time": "2024-03-14T18:25:08.988Z"
   },
   {
    "duration": 271,
    "start_time": "2024-03-14T18:25:09.648Z"
   },
   {
    "duration": 345,
    "start_time": "2024-03-14T18:25:09.921Z"
   },
   {
    "duration": 299,
    "start_time": "2024-03-14T18:25:10.267Z"
   },
   {
    "duration": 379,
    "start_time": "2024-03-14T18:25:10.568Z"
   },
   {
    "duration": 194,
    "start_time": "2024-03-14T18:25:10.950Z"
   },
   {
    "duration": 6,
    "start_time": "2024-03-14T18:25:11.146Z"
   },
   {
    "duration": 219,
    "start_time": "2024-03-14T18:25:11.153Z"
   },
   {
    "duration": 281,
    "start_time": "2024-03-14T18:25:11.374Z"
   },
   {
    "duration": 5,
    "start_time": "2024-03-14T18:25:11.657Z"
   },
   {
    "duration": 245,
    "start_time": "2024-03-14T18:25:11.663Z"
   },
   {
    "duration": 203,
    "start_time": "2024-03-14T18:25:11.910Z"
   },
   {
    "duration": 34,
    "start_time": "2024-03-14T18:25:12.115Z"
   },
   {
    "duration": 11,
    "start_time": "2024-03-14T18:25:12.150Z"
   },
   {
    "duration": 1698,
    "start_time": "2024-03-14T18:25:12.162Z"
   },
   {
    "duration": 1520,
    "start_time": "2024-03-14T18:27:28.476Z"
   },
   {
    "duration": 98,
    "start_time": "2024-03-14T18:27:59.665Z"
   },
   {
    "duration": 4,
    "start_time": "2024-03-14T18:28:10.199Z"
   },
   {
    "duration": 104,
    "start_time": "2024-03-14T18:28:19.223Z"
   },
   {
    "duration": 5,
    "start_time": "2024-03-14T18:28:24.094Z"
   },
   {
    "duration": 8,
    "start_time": "2024-03-14T18:28:43.665Z"
   },
   {
    "duration": 7,
    "start_time": "2024-03-14T18:29:42.486Z"
   },
   {
    "duration": 9,
    "start_time": "2024-03-14T18:29:48.841Z"
   },
   {
    "duration": 29,
    "start_time": "2024-03-14T18:30:29.375Z"
   },
   {
    "duration": 7,
    "start_time": "2024-03-14T18:30:34.081Z"
   },
   {
    "duration": 26,
    "start_time": "2024-03-14T18:30:50.365Z"
   },
   {
    "duration": 1563,
    "start_time": "2024-03-14T18:31:34.872Z"
   },
   {
    "duration": 1524,
    "start_time": "2024-03-14T18:31:54.673Z"
   },
   {
    "duration": 16,
    "start_time": "2024-03-14T18:33:02.214Z"
   },
   {
    "duration": 13,
    "start_time": "2024-03-14T18:33:39.272Z"
   },
   {
    "duration": 97,
    "start_time": "2024-03-14T18:33:59.304Z"
   },
   {
    "duration": 13,
    "start_time": "2024-03-14T18:34:17.709Z"
   },
   {
    "duration": 13,
    "start_time": "2024-03-14T18:34:23.636Z"
   },
   {
    "duration": 14,
    "start_time": "2024-03-14T18:35:03.468Z"
   },
   {
    "duration": 104,
    "start_time": "2024-03-14T18:59:19.929Z"
   },
   {
    "duration": 97,
    "start_time": "2024-03-14T19:20:53.664Z"
   },
   {
    "duration": 100,
    "start_time": "2024-03-14T19:46:54.591Z"
   },
   {
    "duration": 20,
    "start_time": "2024-03-14T19:48:54.693Z"
   },
   {
    "duration": 11,
    "start_time": "2024-03-14T19:49:05.355Z"
   },
   {
    "duration": 11,
    "start_time": "2024-03-14T19:51:10.703Z"
   },
   {
    "duration": 2,
    "start_time": "2024-03-14T19:51:34.231Z"
   },
   {
    "duration": 1170,
    "start_time": "2024-03-14T19:51:40.353Z"
   },
   {
    "duration": 96,
    "start_time": "2024-03-14T19:51:41.525Z"
   },
   {
    "duration": 16,
    "start_time": "2024-03-14T19:51:41.622Z"
   },
   {
    "duration": 14,
    "start_time": "2024-03-14T19:51:41.640Z"
   },
   {
    "duration": 13,
    "start_time": "2024-03-14T19:51:41.655Z"
   },
   {
    "duration": 17,
    "start_time": "2024-03-14T19:51:41.670Z"
   },
   {
    "duration": 13,
    "start_time": "2024-03-14T19:51:41.688Z"
   },
   {
    "duration": 14,
    "start_time": "2024-03-14T19:51:41.703Z"
   },
   {
    "duration": 14,
    "start_time": "2024-03-14T19:51:41.718Z"
   },
   {
    "duration": 15,
    "start_time": "2024-03-14T19:51:41.734Z"
   },
   {
    "duration": 13,
    "start_time": "2024-03-14T19:51:41.750Z"
   },
   {
    "duration": 588,
    "start_time": "2024-03-14T19:51:41.779Z"
   },
   {
    "duration": 250,
    "start_time": "2024-03-14T19:51:42.369Z"
   },
   {
    "duration": 343,
    "start_time": "2024-03-14T19:51:42.621Z"
   },
   {
    "duration": 244,
    "start_time": "2024-03-14T19:51:42.965Z"
   },
   {
    "duration": 331,
    "start_time": "2024-03-14T19:51:43.211Z"
   },
   {
    "duration": 170,
    "start_time": "2024-03-14T19:51:43.544Z"
   },
   {
    "duration": 4,
    "start_time": "2024-03-14T19:51:43.715Z"
   },
   {
    "duration": 174,
    "start_time": "2024-03-14T19:51:43.721Z"
   },
   {
    "duration": 236,
    "start_time": "2024-03-14T19:51:43.897Z"
   },
   {
    "duration": 5,
    "start_time": "2024-03-14T19:51:44.134Z"
   },
   {
    "duration": 249,
    "start_time": "2024-03-14T19:51:44.141Z"
   },
   {
    "duration": 121,
    "start_time": "2024-03-14T19:51:44.391Z"
   },
   {
    "duration": 23,
    "start_time": "2024-03-14T19:51:44.514Z"
   },
   {
    "duration": 10,
    "start_time": "2024-03-14T19:51:44.538Z"
   },
   {
    "duration": 7,
    "start_time": "2024-03-14T19:51:44.549Z"
   },
   {
    "duration": 27,
    "start_time": "2024-03-14T19:51:44.558Z"
   },
   {
    "duration": 26,
    "start_time": "2024-03-14T19:51:44.588Z"
   },
   {
    "duration": 13,
    "start_time": "2024-03-14T19:51:44.615Z"
   },
   {
    "duration": 326,
    "start_time": "2024-03-14T20:05:26.002Z"
   },
   {
    "duration": 249,
    "start_time": "2024-03-14T20:05:36.621Z"
   },
   {
    "duration": 165,
    "start_time": "2024-03-14T21:11:04.714Z"
   },
   {
    "duration": 1188,
    "start_time": "2024-03-14T21:11:28.098Z"
   },
   {
    "duration": 98,
    "start_time": "2024-03-14T21:11:29.287Z"
   },
   {
    "duration": 16,
    "start_time": "2024-03-14T21:11:29.387Z"
   },
   {
    "duration": 29,
    "start_time": "2024-03-14T21:11:29.405Z"
   },
   {
    "duration": 7,
    "start_time": "2024-03-14T21:11:29.436Z"
   },
   {
    "duration": 33,
    "start_time": "2024-03-14T21:11:29.445Z"
   },
   {
    "duration": 18,
    "start_time": "2024-03-14T21:11:29.480Z"
   },
   {
    "duration": 11,
    "start_time": "2024-03-14T21:11:29.499Z"
   },
   {
    "duration": 2,
    "start_time": "2024-03-14T21:11:29.512Z"
   },
   {
    "duration": 26,
    "start_time": "2024-03-14T21:11:29.516Z"
   },
   {
    "duration": 27,
    "start_time": "2024-03-14T21:11:29.543Z"
   },
   {
    "duration": 549,
    "start_time": "2024-03-14T21:11:29.572Z"
   },
   {
    "duration": 252,
    "start_time": "2024-03-14T21:11:30.123Z"
   },
   {
    "duration": 345,
    "start_time": "2024-03-14T21:11:30.379Z"
   },
   {
    "duration": 259,
    "start_time": "2024-03-14T21:11:30.726Z"
   },
   {
    "duration": 349,
    "start_time": "2024-03-14T21:11:30.987Z"
   },
   {
    "duration": 179,
    "start_time": "2024-03-14T21:11:31.338Z"
   },
   {
    "duration": 4,
    "start_time": "2024-03-14T21:11:31.519Z"
   },
   {
    "duration": 176,
    "start_time": "2024-03-14T21:11:31.525Z"
   },
   {
    "duration": 246,
    "start_time": "2024-03-14T21:11:31.702Z"
   },
   {
    "duration": 4,
    "start_time": "2024-03-14T21:11:31.950Z"
   },
   {
    "duration": 251,
    "start_time": "2024-03-14T21:11:31.956Z"
   },
   {
    "duration": 132,
    "start_time": "2024-03-14T21:11:32.209Z"
   },
   {
    "duration": 37,
    "start_time": "2024-03-14T21:11:32.343Z"
   },
   {
    "duration": 10,
    "start_time": "2024-03-14T21:11:32.382Z"
   },
   {
    "duration": 8,
    "start_time": "2024-03-14T21:11:32.394Z"
   },
   {
    "duration": 9,
    "start_time": "2024-03-14T21:11:32.404Z"
   },
   {
    "duration": 36,
    "start_time": "2024-03-14T21:11:32.416Z"
   },
   {
    "duration": 32,
    "start_time": "2024-03-14T21:11:32.454Z"
   },
   {
    "duration": 141,
    "start_time": "2024-03-14T21:13:03.281Z"
   },
   {
    "duration": 157,
    "start_time": "2024-03-14T21:13:26.837Z"
   },
   {
    "duration": 159,
    "start_time": "2024-03-14T21:13:31.090Z"
   },
   {
    "duration": 5,
    "start_time": "2024-03-14T21:13:35.824Z"
   },
   {
    "duration": 1085,
    "start_time": "2024-03-14T21:14:24.785Z"
   },
   {
    "duration": 97,
    "start_time": "2024-03-14T21:14:25.872Z"
   },
   {
    "duration": 18,
    "start_time": "2024-03-14T21:14:25.971Z"
   },
   {
    "duration": 13,
    "start_time": "2024-03-14T21:14:25.991Z"
   },
   {
    "duration": 10,
    "start_time": "2024-03-14T21:14:26.005Z"
   },
   {
    "duration": 20,
    "start_time": "2024-03-14T21:14:26.017Z"
   },
   {
    "duration": 22,
    "start_time": "2024-03-14T21:14:26.039Z"
   },
   {
    "duration": 20,
    "start_time": "2024-03-14T21:14:26.063Z"
   },
   {
    "duration": 602,
    "start_time": "2024-03-14T21:14:26.085Z"
   },
   {
    "duration": 246,
    "start_time": "2024-03-14T21:14:26.690Z"
   },
   {
    "duration": 346,
    "start_time": "2024-03-14T21:14:26.938Z"
   },
   {
    "duration": 307,
    "start_time": "2024-03-14T21:14:27.287Z"
   },
   {
    "duration": 331,
    "start_time": "2024-03-14T21:14:27.595Z"
   },
   {
    "duration": 166,
    "start_time": "2024-03-14T21:14:27.928Z"
   },
   {
    "duration": 5,
    "start_time": "2024-03-14T21:14:28.095Z"
   },
   {
    "duration": 188,
    "start_time": "2024-03-14T21:14:28.101Z"
   },
   {
    "duration": 257,
    "start_time": "2024-03-14T21:14:28.291Z"
   },
   {
    "duration": 6,
    "start_time": "2024-03-14T21:14:28.550Z"
   },
   {
    "duration": 251,
    "start_time": "2024-03-14T21:14:28.557Z"
   },
   {
    "duration": 148,
    "start_time": "2024-03-14T21:14:28.810Z"
   },
   {
    "duration": 33,
    "start_time": "2024-03-14T21:14:28.960Z"
   },
   {
    "duration": 10,
    "start_time": "2024-03-14T21:14:28.994Z"
   },
   {
    "duration": 7,
    "start_time": "2024-03-14T21:14:29.006Z"
   },
   {
    "duration": 7,
    "start_time": "2024-03-14T21:14:29.015Z"
   },
   {
    "duration": 24,
    "start_time": "2024-03-14T21:14:29.023Z"
   },
   {
    "duration": 41,
    "start_time": "2024-03-14T21:14:29.048Z"
   },
   {
    "duration": 119,
    "start_time": "2024-03-14T21:16:15.921Z"
   },
   {
    "duration": 11,
    "start_time": "2024-03-14T21:19:09.410Z"
   },
   {
    "duration": 16,
    "start_time": "2024-03-14T21:19:16.334Z"
   },
   {
    "duration": 97,
    "start_time": "2024-03-14T21:28:05.984Z"
   },
   {
    "duration": 1191,
    "start_time": "2024-03-15T03:38:57.862Z"
   },
   {
    "duration": 216,
    "start_time": "2024-03-15T03:38:59.055Z"
   },
   {
    "duration": 14,
    "start_time": "2024-03-15T03:38:59.272Z"
   },
   {
    "duration": 9,
    "start_time": "2024-03-15T03:38:59.287Z"
   },
   {
    "duration": 7,
    "start_time": "2024-03-15T03:38:59.297Z"
   },
   {
    "duration": 12,
    "start_time": "2024-03-15T03:38:59.305Z"
   },
   {
    "duration": 10,
    "start_time": "2024-03-15T03:38:59.318Z"
   },
   {
    "duration": 8,
    "start_time": "2024-03-15T03:38:59.329Z"
   },
   {
    "duration": 9,
    "start_time": "2024-03-15T03:38:59.338Z"
   },
   {
    "duration": 11,
    "start_time": "2024-03-15T03:38:59.349Z"
   },
   {
    "duration": 517,
    "start_time": "2024-03-15T03:38:59.362Z"
   },
   {
    "duration": 220,
    "start_time": "2024-03-15T03:38:59.881Z"
   },
   {
    "duration": 399,
    "start_time": "2024-03-15T03:39:00.103Z"
   },
   {
    "duration": 253,
    "start_time": "2024-03-15T03:39:00.503Z"
   },
   {
    "duration": 292,
    "start_time": "2024-03-15T03:39:00.757Z"
   },
   {
    "duration": 160,
    "start_time": "2024-03-15T03:39:01.050Z"
   },
   {
    "duration": 6,
    "start_time": "2024-03-15T03:39:01.211Z"
   },
   {
    "duration": 194,
    "start_time": "2024-03-15T03:39:01.218Z"
   },
   {
    "duration": 204,
    "start_time": "2024-03-15T03:39:01.414Z"
   },
   {
    "duration": 14,
    "start_time": "2024-03-15T03:39:01.619Z"
   },
   {
    "duration": 31,
    "start_time": "2024-03-15T03:39:01.634Z"
   },
   {
    "duration": 219,
    "start_time": "2024-03-15T03:39:01.667Z"
   },
   {
    "duration": 137,
    "start_time": "2024-03-15T03:39:01.887Z"
   },
   {
    "duration": 18,
    "start_time": "2024-03-15T03:39:02.025Z"
   },
   {
    "duration": 61,
    "start_time": "2024-03-15T03:39:02.044Z"
   },
   {
    "duration": 27,
    "start_time": "2024-03-15T03:39:02.106Z"
   },
   {
    "duration": 47,
    "start_time": "2024-03-15T03:39:02.134Z"
   },
   {
    "duration": 40,
    "start_time": "2024-03-15T03:39:02.184Z"
   },
   {
    "duration": 38,
    "start_time": "2024-03-15T03:39:02.225Z"
   },
   {
    "duration": 42,
    "start_time": "2024-03-15T10:46:35.578Z"
   },
   {
    "duration": 1121,
    "start_time": "2024-03-15T10:46:46.737Z"
   },
   {
    "duration": 210,
    "start_time": "2024-03-15T10:46:47.859Z"
   },
   {
    "duration": 15,
    "start_time": "2024-03-15T10:46:48.070Z"
   },
   {
    "duration": 17,
    "start_time": "2024-03-15T10:46:48.086Z"
   },
   {
    "duration": 18,
    "start_time": "2024-03-15T10:46:48.105Z"
   },
   {
    "duration": 14,
    "start_time": "2024-03-15T10:46:48.124Z"
   },
   {
    "duration": 11,
    "start_time": "2024-03-15T10:46:48.139Z"
   },
   {
    "duration": 9,
    "start_time": "2024-03-15T10:46:48.151Z"
   },
   {
    "duration": 9,
    "start_time": "2024-03-15T10:46:48.161Z"
   },
   {
    "duration": 14,
    "start_time": "2024-03-15T10:46:48.171Z"
   },
   {
    "duration": 507,
    "start_time": "2024-03-15T10:46:48.186Z"
   },
   {
    "duration": 209,
    "start_time": "2024-03-15T10:46:48.695Z"
   },
   {
    "duration": 370,
    "start_time": "2024-03-15T10:46:48.905Z"
   },
   {
    "duration": 262,
    "start_time": "2024-03-15T10:46:49.278Z"
   },
   {
    "duration": 292,
    "start_time": "2024-03-15T10:46:49.541Z"
   },
   {
    "duration": 153,
    "start_time": "2024-03-15T10:46:49.835Z"
   },
   {
    "duration": 14,
    "start_time": "2024-03-15T10:46:49.989Z"
   },
   {
    "duration": 227,
    "start_time": "2024-03-15T10:46:50.004Z"
   },
   {
    "duration": 229,
    "start_time": "2024-03-15T10:46:50.232Z"
   },
   {
    "duration": 13,
    "start_time": "2024-03-15T10:46:50.462Z"
   },
   {
    "duration": 3,
    "start_time": "2024-03-15T10:46:50.476Z"
   },
   {
    "duration": 188,
    "start_time": "2024-03-15T10:46:50.480Z"
   },
   {
    "duration": 130,
    "start_time": "2024-03-15T10:46:50.670Z"
   },
   {
    "duration": 18,
    "start_time": "2024-03-15T10:46:50.801Z"
   },
   {
    "duration": 12,
    "start_time": "2024-03-15T10:46:50.820Z"
   },
   {
    "duration": 8,
    "start_time": "2024-03-15T10:46:50.834Z"
   },
   {
    "duration": 8,
    "start_time": "2024-03-15T10:46:50.844Z"
   },
   {
    "duration": 20,
    "start_time": "2024-03-15T10:46:50.853Z"
   },
   {
    "duration": 47,
    "start_time": "2024-03-15T10:46:50.874Z"
   },
   {
    "duration": 3,
    "start_time": "2024-03-15T10:48:48.411Z"
   },
   {
    "duration": 4,
    "start_time": "2024-03-15T10:48:55.960Z"
   },
   {
    "duration": 6,
    "start_time": "2024-03-15T10:49:20.302Z"
   },
   {
    "duration": 999,
    "start_time": "2024-03-15T10:49:30.843Z"
   },
   {
    "duration": 95,
    "start_time": "2024-03-15T10:49:31.843Z"
   },
   {
    "duration": 12,
    "start_time": "2024-03-15T10:49:31.939Z"
   },
   {
    "duration": 81,
    "start_time": "2024-03-15T10:49:31.953Z"
   },
   {
    "duration": 37,
    "start_time": "2024-03-15T10:49:32.036Z"
   },
   {
    "duration": 32,
    "start_time": "2024-03-15T10:49:32.074Z"
   },
   {
    "duration": 38,
    "start_time": "2024-03-15T10:49:32.107Z"
   },
   {
    "duration": 24,
    "start_time": "2024-03-15T10:49:32.146Z"
   },
   {
    "duration": 20,
    "start_time": "2024-03-15T10:49:32.172Z"
   },
   {
    "duration": 29,
    "start_time": "2024-03-15T10:49:32.193Z"
   },
   {
    "duration": 520,
    "start_time": "2024-03-15T10:49:32.223Z"
   },
   {
    "duration": 217,
    "start_time": "2024-03-15T10:49:32.744Z"
   },
   {
    "duration": 328,
    "start_time": "2024-03-15T10:49:32.962Z"
   },
   {
    "duration": 251,
    "start_time": "2024-03-15T10:49:33.293Z"
   },
   {
    "duration": 294,
    "start_time": "2024-03-15T10:49:33.545Z"
   },
   {
    "duration": 152,
    "start_time": "2024-03-15T10:49:33.841Z"
   },
   {
    "duration": 8,
    "start_time": "2024-03-15T10:49:33.994Z"
   },
   {
    "duration": 160,
    "start_time": "2024-03-15T10:49:34.004Z"
   },
   {
    "duration": 209,
    "start_time": "2024-03-15T10:49:34.166Z"
   },
   {
    "duration": 14,
    "start_time": "2024-03-15T10:49:34.377Z"
   },
   {
    "duration": 16,
    "start_time": "2024-03-15T10:49:34.391Z"
   },
   {
    "duration": 182,
    "start_time": "2024-03-15T10:49:34.408Z"
   },
   {
    "duration": 129,
    "start_time": "2024-03-15T10:49:34.592Z"
   },
   {
    "duration": 22,
    "start_time": "2024-03-15T10:49:34.722Z"
   },
   {
    "duration": 29,
    "start_time": "2024-03-15T10:49:34.745Z"
   },
   {
    "duration": 10,
    "start_time": "2024-03-15T10:49:34.775Z"
   },
   {
    "duration": 8,
    "start_time": "2024-03-15T10:49:34.786Z"
   },
   {
    "duration": 21,
    "start_time": "2024-03-15T10:49:34.795Z"
   },
   {
    "duration": 12,
    "start_time": "2024-03-15T10:49:34.817Z"
   },
   {
    "duration": 69,
    "start_time": "2024-03-15T10:49:56.168Z"
   },
   {
    "duration": 75,
    "start_time": "2024-03-15T10:50:56.903Z"
   },
   {
    "duration": 1286,
    "start_time": "2024-03-15T11:22:55.443Z"
   },
   {
    "duration": 224,
    "start_time": "2024-03-15T11:22:56.731Z"
   },
   {
    "duration": 16,
    "start_time": "2024-03-15T11:22:56.957Z"
   },
   {
    "duration": 11,
    "start_time": "2024-03-15T11:22:56.974Z"
   },
   {
    "duration": 8,
    "start_time": "2024-03-15T11:22:56.987Z"
   },
   {
    "duration": 24,
    "start_time": "2024-03-15T11:22:56.996Z"
   },
   {
    "duration": 16,
    "start_time": "2024-03-15T11:22:57.022Z"
   },
   {
    "duration": 10,
    "start_time": "2024-03-15T11:22:57.040Z"
   },
   {
    "duration": 11,
    "start_time": "2024-03-15T11:22:57.052Z"
   },
   {
    "duration": 14,
    "start_time": "2024-03-15T11:22:57.064Z"
   },
   {
    "duration": 598,
    "start_time": "2024-03-15T11:22:57.079Z"
   },
   {
    "duration": 239,
    "start_time": "2024-03-15T11:22:57.678Z"
   },
   {
    "duration": 391,
    "start_time": "2024-03-15T11:22:57.918Z"
   },
   {
    "duration": 288,
    "start_time": "2024-03-15T11:22:58.312Z"
   },
   {
    "duration": 365,
    "start_time": "2024-03-15T11:22:58.602Z"
   },
   {
    "duration": 171,
    "start_time": "2024-03-15T11:22:58.969Z"
   },
   {
    "duration": 5,
    "start_time": "2024-03-15T11:22:59.141Z"
   },
   {
    "duration": 184,
    "start_time": "2024-03-15T11:22:59.147Z"
   },
   {
    "duration": 265,
    "start_time": "2024-03-15T11:22:59.332Z"
   },
   {
    "duration": 21,
    "start_time": "2024-03-15T11:22:59.599Z"
   },
   {
    "duration": 3,
    "start_time": "2024-03-15T11:22:59.621Z"
   },
   {
    "duration": 228,
    "start_time": "2024-03-15T11:22:59.625Z"
   },
   {
    "duration": 162,
    "start_time": "2024-03-15T11:22:59.855Z"
   },
   {
    "duration": 27,
    "start_time": "2024-03-15T11:23:00.019Z"
   },
   {
    "duration": 59,
    "start_time": "2024-03-15T11:23:00.048Z"
   },
   {
    "duration": 276,
    "start_time": "2024-03-15T11:23:00.109Z"
   },
   {
    "duration": 184,
    "start_time": "2024-03-15T11:23:00.387Z"
   },
   {
    "duration": 140,
    "start_time": "2024-03-15T11:23:00.573Z"
   },
   {
    "duration": 206,
    "start_time": "2024-03-15T11:23:00.714Z"
   },
   {
    "duration": 53,
    "start_time": "2024-03-18T08:44:50.846Z"
   },
   {
    "duration": 50,
    "start_time": "2024-12-07T10:37:06.530Z"
   }
  ],
  "kernelspec": {
   "display_name": "Python [conda env:base] *",
   "language": "python",
   "name": "conda-base-py"
  },
  "language_info": {
   "codemirror_mode": {
    "name": "ipython",
    "version": 3
   },
   "file_extension": ".py",
   "mimetype": "text/x-python",
   "name": "python",
   "nbconvert_exporter": "python",
   "pygments_lexer": "ipython3",
   "version": "3.12.7"
  },
  "toc": {
   "base_numbering": 1,
   "nav_menu": {},
   "number_sections": true,
   "sideBar": true,
   "skip_h1_title": true,
   "title_cell": "Table of Contents",
   "title_sidebar": "Contents",
   "toc_cell": false,
   "toc_position": {},
   "toc_section_display": true,
   "toc_window_display": false
  }
 },
 "nbformat": 4,
 "nbformat_minor": 4
}
